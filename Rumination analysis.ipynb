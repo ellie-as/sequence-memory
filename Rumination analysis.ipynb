{
 "cells": [
  {
   "cell_type": "markdown",
   "id": "f73d01e6-8dd6-4d17-93ad-917ed84863ad",
   "metadata": {},
   "source": [
    "### Analysis and visualisation of Bartlett results"
   ]
  },
  {
   "cell_type": "code",
   "execution_count": null,
   "id": "97d2077f-57d7-40fd-823f-1dc4107162a4",
   "metadata": {},
   "outputs": [],
   "source": [
    "import glob\n",
    "import pickle\n",
    "import matplotlib.pyplot as plt\n",
    "from wordcloud import WordCloud\n",
    "import string\n",
    "import string\n",
    "import numpy as np\n",
    "import matplotlib.pyplot as plt\n",
    "from wordcloud import WordCloud\n",
    "\n",
    "bartlett = \"\"\"One night two young men from Egulac went down to the river to hunt seals and while they were there it became foggy and calm. Then they heard war-cries, and they thought: \"Maybe this is a war-party\". They escaped to the shore, and hid behind a log. Now canoes came up, and they heard the noise of paddles, and saw one canoe coming up to them. There were five men in the canoe, and they said:\n",
    "\"What do you think? We wish to take you along. We are going up the river to make war on the people.\"\n",
    "One of the young men said,\"I have no arrows.\"\n",
    "\"Arrows are in the canoe,\" they said.\n",
    "\"I will not go along. I might be killed. My relatives do not know where I have gone. But you,\" he said, turning to the other, \"may go with them.\"\n",
    "So one of the young men went, but the other returned home.\n",
    "And the warriors went on up the river to a town on the other side of Kalama. The people came down to the water and they began to fight, and many were killed. But presently the young man heard one of the warriors say, \"Quick, let us go home: that man has been hit.\" Now he thought: \"Oh, they are ghosts.\" He did not feel sick, but they said he had been shot.\n",
    "So the canoes went back to Egulac and the young man went ashore to his house and made a fire. And he told everybody and said: \"Behold I accompanied the ghosts, and we went to fight. Many of our fellows were killed, and many of those who attacked us were killed. They said I was hit, and I did not feel sick.\"\n",
    "He told it all, and then he became quiet. When the sun rose he fell down. Something black came out of his mouth. His face became contorted. The people jumped up and cried.\n",
    "He was dead.\"\"\""
   ]
  },
  {
   "cell_type": "code",
   "execution_count": null,
   "id": "32295dba-0ca5-4bee-9ea7-792f72de6cb7",
   "metadata": {
    "scrolled": true
   },
   "outputs": [],
   "source": [
    "def load_rumination_data(pth):\n",
    "    with open(pth, 'rb') as f: \n",
    "        d = pickle.load(f)\n",
    "    return d"
   ]
  },
  {
   "cell_type": "code",
   "execution_count": null,
   "id": "b34a7b8f-701c-4dd8-b988-937e00b910f3",
   "metadata": {},
   "outputs": [],
   "source": [
    "from wordcloud import (WordCloud, get_single_color_func)\n",
    "import matplotlib.pyplot as plt\n",
    "\n",
    "\n",
    "class SimpleGroupedColorFunc(object):\n",
    "    def __init__(self, color_to_words, default_color):\n",
    "        self.word_to_color = {word: color\n",
    "                              for (color, words) in color_to_words.items()\n",
    "                              for word in words}\n",
    "\n",
    "        self.default_color = default_color\n",
    "\n",
    "    def __call__(self, word, **kwargs):\n",
    "        return self.word_to_color.get(word, self.default_color)\n",
    "\n",
    "        \n",
    "\n",
    "def plot_wordclouds_stages(data, exclusion_text, stages=5):\n",
    "    # Convert the exclusion text into a set of words for faster lookup, stripping punctuation and lowercasing\n",
    "    exclusion_text_processed = exclusion_text.translate(str.maketrans(string.punctuation, ' ' * len(string.punctuation))).lower()\n",
    "    exclusion_words = set(exclusion_text_processed.split())\n",
    "\n",
    "    def preprocess_text(text):\n",
    "        \"\"\"Preprocess the text by removing punctuation, lowercasing, and excluding specific words.\"\"\"\n",
    "        text = text.translate(str.maketrans(string.punctuation, ' ' * len(string.punctuation))).lower()\n",
    "        return ' '.join([word for word in text.split()]) #if word not in exclusion_words])\n",
    "\n",
    "    # Create a figure for the subplots\n",
    "    fig, axs = plt.subplots(1, stages, figsize=(stages * 5, 5))\n",
    "\n",
    "    # Adjust layout\n",
    "    plt.tight_layout(pad=3.0)\n",
    "\n",
    "    for stage, samples in enumerate(data[0:stages]):\n",
    "        # Aggregate and preprocess text for the current stage\n",
    "        aggregated_text = ' '.join([preprocess_text(sample[0:len(bartlett)]) for sample in samples])\n",
    "\n",
    "        # Generate word cloud\n",
    "        if len(aggregated_text.split()) > 0:\n",
    "            wordcloud = WordCloud(width=400, height=400, relative_scaling=0.4, normalize_plurals=False, collocations=False,\n",
    "                                  max_font_size=60, background_color='white').generate(aggregated_text)\n",
    "\n",
    "            color_to_words = {'grey': exclusion_words}\n",
    "\n",
    "        default_color = 'red'\n",
    "        grouped_color_func = SimpleGroupedColorFunc(color_to_words, default_color)\n",
    "        wordcloud.recolor(color_func=grouped_color_func)\n",
    "            \n",
    "        axs[stage].imshow(wordcloud, interpolation='bilinear')\n",
    "        axs[stage].axis('off')\n",
    "        axs[stage].set_title(f'Stage {stage + 1}')\n",
    "\n",
    "    # Show plot\n",
    "    plt.savefig('stages_wordcloud.png', dpi=500)\n",
    "    plt.show()"
   ]
  },
  {
   "cell_type": "code",
   "execution_count": null,
   "id": "1cceac1d-22f0-463a-8c4e-0425f781875b",
   "metadata": {},
   "outputs": [],
   "source": [
    "plot_wordclouds_stages(load_rumination_data(pth='bartlett_pkls/rumination_shakespeare.pkl'), bartlett, stages=3)\n"
   ]
  },
  {
   "cell_type": "code",
   "execution_count": null,
   "id": "45e47573-413d-4972-8ae2-4f86ef457be2",
   "metadata": {},
   "outputs": [],
   "source": [
    "plot_wordclouds_stages(load_rumination_data(pth='bartlett_pkls/rumination_papers.pkl'), bartlett, stages=3)\n"
   ]
  },
  {
   "cell_type": "code",
   "execution_count": null,
   "id": "a14355bc-df7b-4018-ae6f-ef770c77d011",
   "metadata": {},
   "outputs": [],
   "source": [
    "plot_wordclouds_stages(load_rumination_data(pth='bartlett_pkls/rumination_news.pkl'), bartlett, stages=3)\n"
   ]
  }
 ],
 "metadata": {
  "kernelspec": {
   "display_name": "Python 3 (ipykernel)",
   "language": "python",
   "name": "python3"
  },
  "language_info": {
   "codemirror_mode": {
    "name": "ipython",
    "version": 3
   },
   "file_extension": ".py",
   "mimetype": "text/x-python",
   "name": "python",
   "nbconvert_exporter": "python",
   "pygments_lexer": "ipython3",
   "version": "3.10.9"
  }
 },
 "nbformat": 4,
 "nbformat_minor": 5
}
