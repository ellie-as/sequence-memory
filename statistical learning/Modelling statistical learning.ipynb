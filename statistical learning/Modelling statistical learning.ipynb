{
 "cells": [
  {
   "cell_type": "markdown",
   "metadata": {},
   "source": [
    "### Modelling statistical learning\n",
    "\n",
    "To explore the effect of sleep on statistical learning, Durrant et al. (2011) constructed two types of sequence, both made up of regular tones at differing frequencies. One type had a structure in which the preceding two tones determined the next, except for a few transitions which were random to avoid repetition. The other type was the reverse – most transitions were random. After listening to a structured sequence, participants were tested on their ability distinguish short structured and unstructured sequences. Delayed recall was then tested, after a night’s sleep for one group, and after a waking rest for the other. Durrant et al. (2011) found that sleep improved performance more than waking rest, suggesting systems consolidation promotes statistical learning.\n",
    "\n",
    "Here, we generate a set of sequences based on the transition structure in Durrant et al. (2011). A model with the GPT-2 architecture is trained from scratch on the structured sequences only. At the end of each epoch of the training, the perplexity is calculated for a two test sets of structured and unstructured sequences. We find that the difference in perplexity of these two sets increases over time, corresponding to improved ability to distinguish them. In addition, outputs from the trained model are structured in the same way as the training data."
   ]
  },
  {
   "cell_type": "markdown",
   "metadata": {},
   "source": [
    "#### Imports:"
   ]
  },
  {
   "cell_type": "code",
   "execution_count": 7,
   "metadata": {
    "tags": []
   },
   "outputs": [],
   "source": [
    "import sys\n",
    "sys.path.append('../scripts/')\n",
    "\n",
    "import pandas as pd\n",
    "import random\n",
    "import logging\n",
    "from random import shuffle\n",
    "from matplotlib import pyplot as plt\n",
    "from statistical_learning_utils import *\n",
    "import torch\n",
    "from transformers import GPT2LMHeadModel, AutoTokenizer\n",
    "import os\n",
    "import glob\n",
    "import evaluate\n",
    "from evaluate import load\n",
    "import numpy as np\n",
    "import gc\n",
    "import re\n",
    "from gpt import *\n",
    "\n",
    "os.environ['WANDB_MODE'] = 'disabled'\n",
    "random.seed(1)"
   ]
  },
  {
   "cell_type": "markdown",
   "metadata": {},
   "source": [
    "#### Generate structured and unstructured data:"
   ]
  },
  {
   "cell_type": "code",
   "execution_count": 2,
   "metadata": {
    "tags": []
   },
   "outputs": [],
   "source": [
    "def get_random_sequence():\n",
    "    start = [random.randint(1,5),random.randint(1,5)]\n",
    "    for i in range(50):\n",
    "        next_val = random.randint(1,5)\n",
    "        start.append(next_val)\n",
    "    return ','.join([str(i) for i in start])\n",
    "\n",
    "text_file = open(\"train.txt\", \"w\")\n",
    "walks = [get_sequence() for i in range(2000)]\n",
    "shuffle(walks)\n",
    "n = text_file.write('\\n'.join(walks))\n",
    "text_file.close()\n",
    "\n",
    "text_file = open(\"val.txt\", \"w\")\n",
    "walks = [get_sequence() for i in range(100)]\n",
    "shuffle(walks)\n",
    "n = text_file.write('\\n'.join(walks))\n",
    "text_file.close()\n",
    "\n",
    "text_file = open(\"structured_test.txt\", \"w\")\n",
    "walks = [get_sequence() for i in range(100)]\n",
    "shuffle(walks)\n",
    "n = text_file.write('\\n'.join(walks))\n",
    "text_file.close()\n",
    "\n",
    "text_file = open(\"unstructured_test.txt\", \"w\")\n",
    "walks = [get_random_sequence() for i in range(100)]\n",
    "shuffle(walks)\n",
    "n = text_file.write('\\n'.join(walks))\n",
    "text_file.close()"
   ]
  },
  {
   "cell_type": "markdown",
   "metadata": {},
   "source": [
    "#### Train generative model\n",
    "\n",
    "Train GPT-2 from scratch on dataset created above."
   ]
  },
  {
   "cell_type": "code",
   "execution_count": 3,
   "metadata": {},
   "outputs": [],
   "source": [
    "def train_model_script(num_epochs=3,\n",
    "                       output_dir='outputs',\n",
    "                       lr=5e-05,\n",
    "                       seed=0):\n",
    "    gc.collect()\n",
    "    train_path = 'train.txt'\n",
    "    test_path = 'val.txt'\n",
    "    ! python3 ../scripts/run_clm_from_scratch.py \\\n",
    "        --model_type 'gpt2' \\\n",
    "        --config_name 'openai-community/gpt2' \\\n",
    "        --tokenizer_name 'openai-community/gpt2' \\\n",
    "        --train_file {train_path} \\\n",
    "        --validation_file {test_path} \\\n",
    "        --per_device_train_batch_size 1 \\\n",
    "        --per_device_eval_batch_size 1 \\\n",
    "        --do_train \\\n",
    "        --do_eval \\\n",
    "        --output_dir {output_dir} \\\n",
    "        --overwrite_output_dir \\\n",
    "        --num_train_epochs {num_epochs} \\\n",
    "        --save_strategy 'epoch' \\\n",
    "        --learning_rate {lr} \\\n",
    "        --seed {seed} \\\n",
    "        --block_size 100\n",
    "            "
   ]
  },
  {
   "cell_type": "code",
   "execution_count": 6,
   "metadata": {
    "scrolled": true,
    "tags": []
   },
   "outputs": [
    {
     "name": "stdout",
     "output_type": "stream",
     "text": [
      "11/01/2024 09:49:22 - WARNING - __main__ - Process rank: 0, device: cuda:0, n_gpu: 1distributed training: False, 16-bits training: False\n",
      "11/01/2024 09:49:22 - INFO - __main__ - Training/evaluation parameters TrainingArguments(\n",
      "_n_gpu=1,\n",
      "accelerator_config={'split_batches': False, 'dispatch_batches': None, 'even_batches': True, 'use_seedable_sampler': True, 'non_blocking': False, 'gradient_accumulation_kwargs': None, 'use_configured_state': False},\n",
      "adafactor=False,\n",
      "adam_beta1=0.9,\n",
      "adam_beta2=0.999,\n",
      "adam_epsilon=1e-08,\n",
      "auto_find_batch_size=False,\n",
      "batch_eval_metrics=False,\n",
      "bf16=False,\n",
      "bf16_full_eval=False,\n",
      "data_seed=None,\n",
      "dataloader_drop_last=False,\n",
      "dataloader_num_workers=0,\n",
      "dataloader_persistent_workers=False,\n",
      "dataloader_pin_memory=True,\n",
      "dataloader_prefetch_factor=None,\n",
      "ddp_backend=None,\n",
      "ddp_broadcast_buffers=None,\n",
      "ddp_bucket_cap_mb=None,\n",
      "ddp_find_unused_parameters=None,\n",
      "ddp_timeout=1800,\n",
      "debug=[],\n",
      "deepspeed=None,\n",
      "disable_tqdm=False,\n",
      "dispatch_batches=None,\n",
      "do_eval=True,\n",
      "do_predict=False,\n",
      "do_train=True,\n",
      "eval_accumulation_steps=None,\n",
      "eval_delay=0,\n",
      "eval_do_concat_batches=True,\n",
      "eval_on_start=False,\n",
      "eval_steps=None,\n",
      "eval_strategy=no,\n",
      "eval_use_gather_object=False,\n",
      "evaluation_strategy=None,\n",
      "fp16=False,\n",
      "fp16_backend=auto,\n",
      "fp16_full_eval=False,\n",
      "fp16_opt_level=O1,\n",
      "fsdp=[],\n",
      "fsdp_config={'min_num_params': 0, 'xla': False, 'xla_fsdp_v2': False, 'xla_fsdp_grad_ckpt': False},\n",
      "fsdp_min_num_params=0,\n",
      "fsdp_transformer_layer_cls_to_wrap=None,\n",
      "full_determinism=False,\n",
      "gradient_accumulation_steps=1,\n",
      "gradient_checkpointing=False,\n",
      "gradient_checkpointing_kwargs=None,\n",
      "greater_is_better=None,\n",
      "group_by_length=False,\n",
      "half_precision_backend=auto,\n",
      "hub_always_push=False,\n",
      "hub_model_id=None,\n",
      "hub_private_repo=False,\n",
      "hub_strategy=every_save,\n",
      "hub_token=<HUB_TOKEN>,\n",
      "ignore_data_skip=False,\n",
      "include_inputs_for_metrics=False,\n",
      "include_num_input_tokens_seen=False,\n",
      "include_tokens_per_second=False,\n",
      "jit_mode_eval=False,\n",
      "label_names=None,\n",
      "label_smoothing_factor=0.0,\n",
      "learning_rate=1e-05,\n",
      "length_column_name=length,\n",
      "load_best_model_at_end=False,\n",
      "local_rank=0,\n",
      "log_level=passive,\n",
      "log_level_replica=warning,\n",
      "log_on_each_node=True,\n",
      "logging_dir=durrant_1/runs/Nov01_09-49-22_gpu-sr670-20,\n",
      "logging_first_step=False,\n",
      "logging_nan_inf_filter=True,\n",
      "logging_steps=500,\n",
      "logging_strategy=steps,\n",
      "lr_scheduler_kwargs={},\n",
      "lr_scheduler_type=linear,\n",
      "max_grad_norm=1.0,\n",
      "max_steps=-1,\n",
      "metric_for_best_model=None,\n",
      "mp_parameters=,\n",
      "neftune_noise_alpha=None,\n",
      "no_cuda=False,\n",
      "num_train_epochs=3.0,\n",
      "optim=adamw_torch,\n",
      "optim_args=None,\n",
      "optim_target_modules=None,\n",
      "output_dir=durrant_1,\n",
      "overwrite_output_dir=True,\n",
      "past_index=-1,\n",
      "per_device_eval_batch_size=1,\n",
      "per_device_train_batch_size=1,\n",
      "prediction_loss_only=False,\n",
      "push_to_hub=False,\n",
      "push_to_hub_model_id=None,\n",
      "push_to_hub_organization=None,\n",
      "push_to_hub_token=<PUSH_TO_HUB_TOKEN>,\n",
      "ray_scope=last,\n",
      "remove_unused_columns=True,\n",
      "report_to=[],\n",
      "restore_callback_states_from_checkpoint=False,\n",
      "resume_from_checkpoint=None,\n",
      "run_name=durrant_1,\n",
      "save_on_each_node=False,\n",
      "save_only_model=False,\n",
      "save_safetensors=True,\n",
      "save_steps=500,\n",
      "save_strategy=epoch,\n",
      "save_total_limit=None,\n",
      "seed=1,\n",
      "skip_memory_metrics=True,\n",
      "split_batches=None,\n",
      "tf32=None,\n",
      "torch_compile=False,\n",
      "torch_compile_backend=None,\n",
      "torch_compile_mode=None,\n",
      "torch_empty_cache_steps=None,\n",
      "torchdynamo=None,\n",
      "tpu_metrics_debug=False,\n",
      "tpu_num_cores=None,\n",
      "use_cpu=False,\n",
      "use_ipex=False,\n",
      "use_legacy_prediction_loop=False,\n",
      "use_liger_kernel=False,\n",
      "use_mps_device=False,\n",
      "warmup_ratio=0.0,\n",
      "warmup_steps=0,\n",
      "weight_decay=0.0,\n",
      ")\n",
      "Using custom data configuration default-32e13364a62dcc19\n",
      "11/01/2024 09:49:22 - INFO - datasets.builder - Using custom data configuration default-32e13364a62dcc19\n",
      "Loading Dataset Infos from /nfs/nhome/live/espens/.local/lib/python3.8/site-packages/datasets/packaged_modules/text\n",
      "11/01/2024 09:49:22 - INFO - datasets.info - Loading Dataset Infos from /nfs/nhome/live/espens/.local/lib/python3.8/site-packages/datasets/packaged_modules/text\n",
      "Overwrite dataset info from restored data version if exists.\n",
      "11/01/2024 09:49:22 - INFO - datasets.builder - Overwrite dataset info from restored data version if exists.\n",
      "Loading Dataset info from /nfs/nhome/live/espens/.cache/huggingface/datasets/text/default-32e13364a62dcc19/0.0.0/73c2faa07573e39dca89c9d5cbd568526dc2e15125e5a097f5f512be735457bc\n",
      "11/01/2024 09:49:22 - INFO - datasets.info - Loading Dataset info from /nfs/nhome/live/espens/.cache/huggingface/datasets/text/default-32e13364a62dcc19/0.0.0/73c2faa07573e39dca89c9d5cbd568526dc2e15125e5a097f5f512be735457bc\n",
      "Found cached dataset text (/nfs/nhome/live/espens/.cache/huggingface/datasets/text/default-32e13364a62dcc19/0.0.0/73c2faa07573e39dca89c9d5cbd568526dc2e15125e5a097f5f512be735457bc)\n",
      "11/01/2024 09:49:23 - INFO - datasets.builder - Found cached dataset text (/nfs/nhome/live/espens/.cache/huggingface/datasets/text/default-32e13364a62dcc19/0.0.0/73c2faa07573e39dca89c9d5cbd568526dc2e15125e5a097f5f512be735457bc)\n",
      "Loading Dataset info from /nfs/nhome/live/espens/.cache/huggingface/datasets/text/default-32e13364a62dcc19/0.0.0/73c2faa07573e39dca89c9d5cbd568526dc2e15125e5a097f5f512be735457bc\n",
      "11/01/2024 09:49:23 - INFO - datasets.info - Loading Dataset info from /nfs/nhome/live/espens/.cache/huggingface/datasets/text/default-32e13364a62dcc19/0.0.0/73c2faa07573e39dca89c9d5cbd568526dc2e15125e5a097f5f512be735457bc\n",
      "[INFO|configuration_utils.py:668] 2024-11-01 09:49:23,184 >> loading configuration file config.json from cache at /nfs/nhome/live/espens/.cache/huggingface/hub/models--openai-community--gpt2/snapshots/607a30d783dfa663caf39e06633721c8d4cfcd7e/config.json\n",
      "[INFO|configuration_utils.py:735] 2024-11-01 09:49:23,187 >> Model config GPT2Config {\n",
      "  \"_name_or_path\": \"openai-community/gpt2\",\n",
      "  \"activation_function\": \"gelu_new\",\n",
      "  \"architectures\": [\n",
      "    \"GPT2LMHeadModel\"\n",
      "  ],\n",
      "  \"attn_pdrop\": 0.1,\n",
      "  \"bos_token_id\": 50256,\n",
      "  \"embd_pdrop\": 0.1,\n",
      "  \"eos_token_id\": 50256,\n",
      "  \"initializer_range\": 0.02,\n",
      "  \"layer_norm_epsilon\": 1e-05,\n",
      "  \"model_type\": \"gpt2\",\n",
      "  \"n_ctx\": 1024,\n",
      "  \"n_embd\": 768,\n",
      "  \"n_head\": 12,\n",
      "  \"n_inner\": null,\n",
      "  \"n_layer\": 12,\n",
      "  \"n_positions\": 1024,\n",
      "  \"reorder_and_upcast_attn\": false,\n",
      "  \"resid_pdrop\": 0.1,\n",
      "  \"scale_attn_by_inverse_layer_idx\": false,\n",
      "  \"scale_attn_weights\": true,\n",
      "  \"summary_activation\": null,\n",
      "  \"summary_first_dropout\": 0.1,\n",
      "  \"summary_proj_to_labels\": true,\n",
      "  \"summary_type\": \"cls_index\",\n",
      "  \"summary_use_proj\": true,\n",
      "  \"task_specific_params\": {\n",
      "    \"text-generation\": {\n",
      "      \"do_sample\": true,\n",
      "      \"max_length\": 50\n",
      "    }\n",
      "  },\n",
      "  \"transformers_version\": \"4.45.0.dev0\",\n",
      "  \"use_cache\": true,\n",
      "  \"vocab_size\": 50257\n",
      "}\n",
      "\n",
      "[INFO|configuration_utils.py:668] 2024-11-01 09:49:23,295 >> loading configuration file config.json from cache at /nfs/nhome/live/espens/.cache/huggingface/hub/models--openai-community--gpt2/snapshots/607a30d783dfa663caf39e06633721c8d4cfcd7e/config.json\n",
      "[INFO|configuration_utils.py:735] 2024-11-01 09:49:23,297 >> Model config GPT2Config {\n",
      "  \"_name_or_path\": \"openai-community/gpt2\",\n",
      "  \"activation_function\": \"gelu_new\",\n",
      "  \"architectures\": [\n",
      "    \"GPT2LMHeadModel\"\n",
      "  ],\n",
      "  \"attn_pdrop\": 0.1,\n",
      "  \"bos_token_id\": 50256,\n",
      "  \"embd_pdrop\": 0.1,\n",
      "  \"eos_token_id\": 50256,\n",
      "  \"initializer_range\": 0.02,\n",
      "  \"layer_norm_epsilon\": 1e-05,\n",
      "  \"model_type\": \"gpt2\",\n",
      "  \"n_ctx\": 1024,\n",
      "  \"n_embd\": 768,\n",
      "  \"n_head\": 12,\n",
      "  \"n_inner\": null,\n",
      "  \"n_layer\": 12,\n",
      "  \"n_positions\": 1024,\n",
      "  \"reorder_and_upcast_attn\": false,\n",
      "  \"resid_pdrop\": 0.1,\n",
      "  \"scale_attn_by_inverse_layer_idx\": false,\n",
      "  \"scale_attn_weights\": true,\n",
      "  \"summary_activation\": null,\n",
      "  \"summary_first_dropout\": 0.1,\n",
      "  \"summary_proj_to_labels\": true,\n",
      "  \"summary_type\": \"cls_index\",\n",
      "  \"summary_use_proj\": true,\n",
      "  \"task_specific_params\": {\n",
      "    \"text-generation\": {\n",
      "      \"do_sample\": true,\n",
      "      \"max_length\": 50\n",
      "    }\n",
      "  },\n",
      "  \"transformers_version\": \"4.45.0.dev0\",\n",
      "  \"use_cache\": true,\n",
      "  \"vocab_size\": 50257\n",
      "}\n",
      "\n",
      "[INFO|tokenization_utils_base.py:2200] 2024-11-01 09:49:23,333 >> loading file vocab.json from cache at /nfs/nhome/live/espens/.cache/huggingface/hub/models--openai-community--gpt2/snapshots/607a30d783dfa663caf39e06633721c8d4cfcd7e/vocab.json\n",
      "[INFO|tokenization_utils_base.py:2200] 2024-11-01 09:49:23,333 >> loading file merges.txt from cache at /nfs/nhome/live/espens/.cache/huggingface/hub/models--openai-community--gpt2/snapshots/607a30d783dfa663caf39e06633721c8d4cfcd7e/merges.txt\n",
      "[INFO|tokenization_utils_base.py:2200] 2024-11-01 09:49:23,334 >> loading file tokenizer.json from cache at /nfs/nhome/live/espens/.cache/huggingface/hub/models--openai-community--gpt2/snapshots/607a30d783dfa663caf39e06633721c8d4cfcd7e/tokenizer.json\n",
      "[INFO|tokenization_utils_base.py:2200] 2024-11-01 09:49:23,334 >> loading file added_tokens.json from cache at None\n",
      "[INFO|tokenization_utils_base.py:2200] 2024-11-01 09:49:23,334 >> loading file special_tokens_map.json from cache at None\n",
      "[INFO|tokenization_utils_base.py:2200] 2024-11-01 09:49:23,334 >> loading file tokenizer_config.json from cache at /nfs/nhome/live/espens/.cache/huggingface/hub/models--openai-community--gpt2/snapshots/607a30d783dfa663caf39e06633721c8d4cfcd7e/tokenizer_config.json\n",
      "[INFO|configuration_utils.py:668] 2024-11-01 09:49:23,335 >> loading configuration file config.json from cache at /nfs/nhome/live/espens/.cache/huggingface/hub/models--openai-community--gpt2/snapshots/607a30d783dfa663caf39e06633721c8d4cfcd7e/config.json\n",
      "[INFO|configuration_utils.py:735] 2024-11-01 09:49:23,337 >> Model config GPT2Config {\n",
      "  \"_name_or_path\": \"openai-community/gpt2\",\n",
      "  \"activation_function\": \"gelu_new\",\n",
      "  \"architectures\": [\n",
      "    \"GPT2LMHeadModel\"\n",
      "  ],\n",
      "  \"attn_pdrop\": 0.1,\n",
      "  \"bos_token_id\": 50256,\n",
      "  \"embd_pdrop\": 0.1,\n",
      "  \"eos_token_id\": 50256,\n",
      "  \"initializer_range\": 0.02,\n",
      "  \"layer_norm_epsilon\": 1e-05,\n",
      "  \"model_type\": \"gpt2\",\n",
      "  \"n_ctx\": 1024,\n",
      "  \"n_embd\": 768,\n",
      "  \"n_head\": 12,\n",
      "  \"n_inner\": null,\n",
      "  \"n_layer\": 12,\n",
      "  \"n_positions\": 1024,\n",
      "  \"reorder_and_upcast_attn\": false,\n",
      "  \"resid_pdrop\": 0.1,\n",
      "  \"scale_attn_by_inverse_layer_idx\": false,\n",
      "  \"scale_attn_weights\": true,\n",
      "  \"summary_activation\": null,\n",
      "  \"summary_first_dropout\": 0.1,\n",
      "  \"summary_proj_to_labels\": true,\n",
      "  \"summary_type\": \"cls_index\",\n",
      "  \"summary_use_proj\": true,\n",
      "  \"task_specific_params\": {\n",
      "    \"text-generation\": {\n",
      "      \"do_sample\": true,\n",
      "      \"max_length\": 50\n",
      "    }\n",
      "  },\n",
      "  \"transformers_version\": \"4.45.0.dev0\",\n",
      "  \"use_cache\": true,\n",
      "  \"vocab_size\": 50257\n",
      "}\n",
      "\n",
      "/nfs/nhome/live/espens/.local/lib/python3.8/site-packages/transformers/tokenization_utils_base.py:1602: FutureWarning: `clean_up_tokenization_spaces` was not set. It will be set to `True` by default. This behavior will be deprecated in transformers v4.45, and will be then set to `False` by default. For more details check this issue: https://github.com/huggingface/transformers/issues/31884\n",
      "  warnings.warn(\n",
      "[INFO|configuration_utils.py:1060] 2024-11-01 09:49:23,460 >> Generate config GenerationConfig {\n",
      "  \"bos_token_id\": 50256,\n",
      "  \"eos_token_id\": 50256\n",
      "}\n",
      "\n",
      "11/01/2024 09:49:25 - INFO - __main__ - Training new model from scratch - Total size=118.68M params\n",
      "Loading cached processed dataset at /nfs/nhome/live/espens/.cache/huggingface/datasets/text/default-32e13364a62dcc19/0.0.0/73c2faa07573e39dca89c9d5cbd568526dc2e15125e5a097f5f512be735457bc/cache-95eb9d753be4b886.arrow\n",
      "11/01/2024 09:49:25 - INFO - datasets.arrow_dataset - Loading cached processed dataset at /nfs/nhome/live/espens/.cache/huggingface/datasets/text/default-32e13364a62dcc19/0.0.0/73c2faa07573e39dca89c9d5cbd568526dc2e15125e5a097f5f512be735457bc/cache-95eb9d753be4b886.arrow\n",
      "Loading cached processed dataset at /nfs/nhome/live/espens/.cache/huggingface/datasets/text/default-32e13364a62dcc19/0.0.0/73c2faa07573e39dca89c9d5cbd568526dc2e15125e5a097f5f512be735457bc/cache-3e8f13cfa8d20378.arrow\n",
      "11/01/2024 09:49:25 - INFO - datasets.arrow_dataset - Loading cached processed dataset at /nfs/nhome/live/espens/.cache/huggingface/datasets/text/default-32e13364a62dcc19/0.0.0/73c2faa07573e39dca89c9d5cbd568526dc2e15125e5a097f5f512be735457bc/cache-3e8f13cfa8d20378.arrow\n",
      "Loading cached processed dataset at /nfs/nhome/live/espens/.cache/huggingface/datasets/text/default-32e13364a62dcc19/0.0.0/73c2faa07573e39dca89c9d5cbd568526dc2e15125e5a097f5f512be735457bc/cache-0d23f76a6f5096f9.arrow\n",
      "11/01/2024 09:49:25 - INFO - datasets.arrow_dataset - Loading cached processed dataset at /nfs/nhome/live/espens/.cache/huggingface/datasets/text/default-32e13364a62dcc19/0.0.0/73c2faa07573e39dca89c9d5cbd568526dc2e15125e5a097f5f512be735457bc/cache-0d23f76a6f5096f9.arrow\n",
      "Loading cached processed dataset at /nfs/nhome/live/espens/.cache/huggingface/datasets/text/default-32e13364a62dcc19/0.0.0/73c2faa07573e39dca89c9d5cbd568526dc2e15125e5a097f5f512be735457bc/cache-da4b6a8c7c1d019f.arrow\n",
      "11/01/2024 09:49:25 - INFO - datasets.arrow_dataset - Loading cached processed dataset at /nfs/nhome/live/espens/.cache/huggingface/datasets/text/default-32e13364a62dcc19/0.0.0/73c2faa07573e39dca89c9d5cbd568526dc2e15125e5a097f5f512be735457bc/cache-da4b6a8c7c1d019f.arrow\n",
      "/nfs/nhome/live/espens/.local/lib/python3.8/site-packages/transformers/utils/import_utils.py:591: FutureWarning: `is_torch_tpu_available` is deprecated and will be removed in 4.41.0. Please use the `is_torch_xla_available` instead.\n",
      "  warnings.warn(\n",
      "11/01/2024 09:49:26 - WARNING - accelerate.utils.other - Detected kernel version 5.4.0, which is below the recommended minimum of 5.5.0; this can cause the process to hang. It is recommended to upgrade the kernel to the minimum version or higher.\n",
      "[INFO|trainer.py:2182] 2024-11-01 09:49:27,438 >> ***** Running training *****\n",
      "[INFO|trainer.py:2183] 2024-11-01 09:49:27,438 >>   Num examples = 2,079\n",
      "[INFO|trainer.py:2184] 2024-11-01 09:49:27,438 >>   Num Epochs = 3\n",
      "[INFO|trainer.py:2185] 2024-11-01 09:49:27,438 >>   Instantaneous batch size per device = 1\n",
      "[INFO|trainer.py:2188] 2024-11-01 09:49:27,438 >>   Total train batch size (w. parallel, distributed & accumulation) = 1\n",
      "[INFO|trainer.py:2189] 2024-11-01 09:49:27,438 >>   Gradient Accumulation steps = 1\n",
      "[INFO|trainer.py:2190] 2024-11-01 09:49:27,438 >>   Total optimization steps = 6,237\n",
      "[INFO|trainer.py:2191] 2024-11-01 09:49:27,439 >>   Number of trainable parameters = 124,439,808\n",
      "{'loss': 1.3981, 'grad_norm': 3.8841991424560547, 'learning_rate': 9.198332531665866e-06, 'epoch': 0.24}\n",
      "{'loss': 0.8275, 'grad_norm': 3.757028818130493, 'learning_rate': 8.39666506333173e-06, 'epoch': 0.48}\n",
      "{'loss': 0.7641, 'grad_norm': 4.107197284698486, 'learning_rate': 7.594997594997595e-06, 'epoch': 0.72}\n",
      "{'loss': 0.6753, 'grad_norm': 7.686083793640137, 'learning_rate': 6.793330126663461e-06, 'epoch': 0.96}\n",
      " 33%|█████████████                          | 2079/6237 [02:19<04:36, 15.04it/s][INFO|trainer.py:3639] 2024-11-01 09:51:46,520 >> Saving model checkpoint to durrant_1/checkpoint-2079\n",
      "[INFO|configuration_utils.py:407] 2024-11-01 09:51:46,523 >> Configuration saved in durrant_1/checkpoint-2079/config.json\n",
      "[INFO|configuration_utils.py:829] 2024-11-01 09:51:46,524 >> Configuration saved in durrant_1/checkpoint-2079/generation_config.json\n",
      "[INFO|modeling_utils.py:2795] 2024-11-01 09:51:47,834 >> Model weights saved in durrant_1/checkpoint-2079/model.safetensors\n",
      "[INFO|tokenization_utils_base.py:2615] 2024-11-01 09:51:47,835 >> tokenizer config file saved in durrant_1/checkpoint-2079/tokenizer_config.json\n",
      "[INFO|tokenization_utils_base.py:2624] 2024-11-01 09:51:47,836 >> Special tokens file saved in durrant_1/checkpoint-2079/special_tokens_map.json\n",
      "{'loss': 0.5919, 'grad_norm': 5.607320785522461, 'learning_rate': 5.991662658329326e-06, 'epoch': 1.2}\n",
      "{'loss': 0.5178, 'grad_norm': 7.925163745880127, 'learning_rate': 5.1899951899951905e-06, 'epoch': 1.44}\n",
      "{'loss': 0.4521, 'grad_norm': 9.267342567443848, 'learning_rate': 4.388327721661055e-06, 'epoch': 1.68}\n",
      "{'loss': 0.4173, 'grad_norm': 8.877177238464355, 'learning_rate': 3.58666025332692e-06, 'epoch': 1.92}\n",
      " 67%|█████████████████████████▉             | 4157/6237 [04:40<02:18, 15.01it/s][INFO|trainer.py:3639] 2024-11-01 09:54:08,323 >> Saving model checkpoint to durrant_1/checkpoint-4158\n",
      "[INFO|configuration_utils.py:407] 2024-11-01 09:54:08,325 >> Configuration saved in durrant_1/checkpoint-4158/config.json\n",
      "[INFO|configuration_utils.py:829] 2024-11-01 09:54:08,326 >> Configuration saved in durrant_1/checkpoint-4158/generation_config.json\n",
      "[INFO|modeling_utils.py:2795] 2024-11-01 09:54:09,717 >> Model weights saved in durrant_1/checkpoint-4158/model.safetensors\n",
      "[INFO|tokenization_utils_base.py:2615] 2024-11-01 09:54:09,718 >> tokenizer config file saved in durrant_1/checkpoint-4158/tokenizer_config.json\n",
      "[INFO|tokenization_utils_base.py:2624] 2024-11-01 09:54:09,719 >> Special tokens file saved in durrant_1/checkpoint-4158/special_tokens_map.json\n",
      "{'loss': 0.3847, 'grad_norm': 7.4636101722717285, 'learning_rate': 2.7849927849927854e-06, 'epoch': 2.16}\n",
      "{'loss': 0.3704, 'grad_norm': 8.611520767211914, 'learning_rate': 1.9833253166586503e-06, 'epoch': 2.41}\n",
      "{'loss': 0.3477, 'grad_norm': 7.719834327697754, 'learning_rate': 1.181657848324515e-06, 'epoch': 2.65}\n",
      "{'loss': 0.3379, 'grad_norm': 8.850316047668457, 'learning_rate': 3.7999037999038e-07, 'epoch': 2.89}\n",
      "100%|███████████████████████████████████████| 6237/6237 [07:02<00:00, 14.85it/s][INFO|trainer.py:3639] 2024-11-01 09:56:29,778 >> Saving model checkpoint to durrant_1/checkpoint-6237\n",
      "[INFO|configuration_utils.py:407] 2024-11-01 09:56:29,780 >> Configuration saved in durrant_1/checkpoint-6237/config.json\n",
      "[INFO|configuration_utils.py:829] 2024-11-01 09:56:29,781 >> Configuration saved in durrant_1/checkpoint-6237/generation_config.json\n",
      "[INFO|modeling_utils.py:2795] 2024-11-01 09:56:31,151 >> Model weights saved in durrant_1/checkpoint-6237/model.safetensors\n",
      "[INFO|tokenization_utils_base.py:2615] 2024-11-01 09:56:31,152 >> tokenizer config file saved in durrant_1/checkpoint-6237/tokenizer_config.json\n",
      "[INFO|tokenization_utils_base.py:2624] 2024-11-01 09:56:31,153 >> Special tokens file saved in durrant_1/checkpoint-6237/special_tokens_map.json\n",
      "[INFO|trainer.py:3639] 2024-11-01 09:56:32,734 >> Saving model checkpoint to durrant_1/checkpoint-6237\n",
      "[INFO|configuration_utils.py:407] 2024-11-01 09:56:32,743 >> Configuration saved in durrant_1/checkpoint-6237/config.json\n",
      "[INFO|configuration_utils.py:829] 2024-11-01 09:56:32,755 >> Configuration saved in durrant_1/checkpoint-6237/generation_config.json\n",
      "[INFO|modeling_utils.py:2795] 2024-11-01 09:56:34,185 >> Model weights saved in durrant_1/checkpoint-6237/model.safetensors\n",
      "[INFO|tokenization_utils_base.py:2615] 2024-11-01 09:56:34,188 >> tokenizer config file saved in durrant_1/checkpoint-6237/tokenizer_config.json\n",
      "[INFO|tokenization_utils_base.py:2624] 2024-11-01 09:56:34,201 >> Special tokens file saved in durrant_1/checkpoint-6237/special_tokens_map.json\n",
      "[INFO|trainer.py:2442] 2024-11-01 09:56:36,029 >> \n",
      "\n",
      "Training completed. Do not forget to share your model on huggingface.co/models =)\n",
      "\n",
      "\n",
      "{'train_runtime': 428.5904, 'train_samples_per_second': 14.552, 'train_steps_per_second': 14.552, 'train_loss': 0.5806561779360445, 'epoch': 3.0}\n",
      "100%|███████████████████████████████████████| 6237/6237 [07:08<00:00, 14.55it/s]\n",
      "[INFO|trainer.py:3639] 2024-11-01 09:56:36,032 >> Saving model checkpoint to durrant_1\n",
      "[INFO|configuration_utils.py:407] 2024-11-01 09:56:36,035 >> Configuration saved in durrant_1/config.json\n",
      "[INFO|configuration_utils.py:829] 2024-11-01 09:56:36,036 >> Configuration saved in durrant_1/generation_config.json\n",
      "[INFO|modeling_utils.py:2795] 2024-11-01 09:56:37,344 >> Model weights saved in durrant_1/model.safetensors\n",
      "[INFO|tokenization_utils_base.py:2615] 2024-11-01 09:56:37,346 >> tokenizer config file saved in durrant_1/tokenizer_config.json\n",
      "[INFO|tokenization_utils_base.py:2624] 2024-11-01 09:56:37,346 >> Special tokens file saved in durrant_1/special_tokens_map.json\n",
      "***** train metrics *****\n",
      "  epoch                    =        3.0\n",
      "  total_flos               =   296436GF\n",
      "  train_loss               =     0.5807\n",
      "  train_runtime            = 0:07:08.59\n",
      "  train_samples            =       2079\n",
      "  train_samples_per_second =     14.552\n",
      "  train_steps_per_second   =     14.552\n",
      "11/01/2024 09:56:37 - INFO - __main__ - *** Evaluate ***\n",
      "[INFO|trainer.py:3955] 2024-11-01 09:56:37,393 >> \n",
      "***** Running Evaluation *****\n",
      "[INFO|trainer.py:3957] 2024-11-01 09:56:37,393 >>   Num examples = 103\n",
      "[INFO|trainer.py:3960] 2024-11-01 09:56:37,393 >>   Batch size = 1\n",
      "100%|█████████████████████████████████████████| 103/103 [00:01<00:00, 88.45it/s]\n",
      "***** eval metrics *****\n",
      "  epoch                   =        3.0\n",
      "  eval_accuracy           =     0.9213\n",
      "  eval_loss               =     0.3092\n",
      "  eval_runtime            = 0:00:01.17\n",
      "  eval_samples            =        103\n",
      "  eval_samples_per_second =     87.302\n",
      "  eval_steps_per_second   =     87.302\n",
      "  perplexity              =     1.3624\n",
      "[INFO|modelcard.py:449] 2024-11-01 09:56:38,737 >> Dropping the following result as it does not have all the necessary fields:\n",
      "{'task': {'name': 'Causal Language Modeling', 'type': 'text-generation'}, 'metrics': [{'name': 'Accuracy', 'type': 'accuracy', 'value': 0.9212513484358145}]}\n",
      "11/01/2024 09:56:52 - WARNING - __main__ - Process rank: 0, device: cuda:0, n_gpu: 1distributed training: False, 16-bits training: False\n",
      "11/01/2024 09:56:52 - INFO - __main__ - Training/evaluation parameters TrainingArguments(\n",
      "_n_gpu=1,\n",
      "accelerator_config={'split_batches': False, 'dispatch_batches': None, 'even_batches': True, 'use_seedable_sampler': True, 'non_blocking': False, 'gradient_accumulation_kwargs': None, 'use_configured_state': False},\n",
      "adafactor=False,\n",
      "adam_beta1=0.9,\n",
      "adam_beta2=0.999,\n",
      "adam_epsilon=1e-08,\n",
      "auto_find_batch_size=False,\n",
      "batch_eval_metrics=False,\n",
      "bf16=False,\n",
      "bf16_full_eval=False,\n",
      "data_seed=None,\n",
      "dataloader_drop_last=False,\n",
      "dataloader_num_workers=0,\n",
      "dataloader_persistent_workers=False,\n",
      "dataloader_pin_memory=True,\n",
      "dataloader_prefetch_factor=None,\n",
      "ddp_backend=None,\n",
      "ddp_broadcast_buffers=None,\n",
      "ddp_bucket_cap_mb=None,\n",
      "ddp_find_unused_parameters=None,\n",
      "ddp_timeout=1800,\n",
      "debug=[],\n",
      "deepspeed=None,\n",
      "disable_tqdm=False,\n",
      "dispatch_batches=None,\n",
      "do_eval=True,\n",
      "do_predict=False,\n",
      "do_train=True,\n",
      "eval_accumulation_steps=None,\n",
      "eval_delay=0,\n",
      "eval_do_concat_batches=True,\n",
      "eval_on_start=False,\n",
      "eval_steps=None,\n",
      "eval_strategy=no,\n",
      "eval_use_gather_object=False,\n",
      "evaluation_strategy=None,\n",
      "fp16=False,\n",
      "fp16_backend=auto,\n",
      "fp16_full_eval=False,\n",
      "fp16_opt_level=O1,\n",
      "fsdp=[],\n",
      "fsdp_config={'min_num_params': 0, 'xla': False, 'xla_fsdp_v2': False, 'xla_fsdp_grad_ckpt': False},\n",
      "fsdp_min_num_params=0,\n",
      "fsdp_transformer_layer_cls_to_wrap=None,\n",
      "full_determinism=False,\n",
      "gradient_accumulation_steps=1,\n",
      "gradient_checkpointing=False,\n",
      "gradient_checkpointing_kwargs=None,\n",
      "greater_is_better=None,\n",
      "group_by_length=False,\n",
      "half_precision_backend=auto,\n",
      "hub_always_push=False,\n",
      "hub_model_id=None,\n",
      "hub_private_repo=False,\n",
      "hub_strategy=every_save,\n",
      "hub_token=<HUB_TOKEN>,\n",
      "ignore_data_skip=False,\n",
      "include_inputs_for_metrics=False,\n",
      "include_num_input_tokens_seen=False,\n",
      "include_tokens_per_second=False,\n",
      "jit_mode_eval=False,\n",
      "label_names=None,\n",
      "label_smoothing_factor=0.0,\n",
      "learning_rate=1e-05,\n",
      "length_column_name=length,\n",
      "load_best_model_at_end=False,\n",
      "local_rank=0,\n",
      "log_level=passive,\n",
      "log_level_replica=warning,\n",
      "log_on_each_node=True,\n",
      "logging_dir=durrant_2/runs/Nov01_09-56-52_gpu-sr670-20,\n",
      "logging_first_step=False,\n",
      "logging_nan_inf_filter=True,\n",
      "logging_steps=500,\n",
      "logging_strategy=steps,\n",
      "lr_scheduler_kwargs={},\n",
      "lr_scheduler_type=linear,\n",
      "max_grad_norm=1.0,\n",
      "max_steps=-1,\n",
      "metric_for_best_model=None,\n",
      "mp_parameters=,\n",
      "neftune_noise_alpha=None,\n",
      "no_cuda=False,\n",
      "num_train_epochs=3.0,\n",
      "optim=adamw_torch,\n",
      "optim_args=None,\n",
      "optim_target_modules=None,\n",
      "output_dir=durrant_2,\n",
      "overwrite_output_dir=True,\n",
      "past_index=-1,\n",
      "per_device_eval_batch_size=1,\n",
      "per_device_train_batch_size=1,\n",
      "prediction_loss_only=False,\n",
      "push_to_hub=False,\n",
      "push_to_hub_model_id=None,\n",
      "push_to_hub_organization=None,\n",
      "push_to_hub_token=<PUSH_TO_HUB_TOKEN>,\n",
      "ray_scope=last,\n",
      "remove_unused_columns=True,\n",
      "report_to=[],\n",
      "restore_callback_states_from_checkpoint=False,\n",
      "resume_from_checkpoint=None,\n",
      "run_name=durrant_2,\n",
      "save_on_each_node=False,\n",
      "save_only_model=False,\n",
      "save_safetensors=True,\n",
      "save_steps=500,\n",
      "save_strategy=epoch,\n",
      "save_total_limit=None,\n",
      "seed=2,\n",
      "skip_memory_metrics=True,\n",
      "split_batches=None,\n",
      "tf32=None,\n",
      "torch_compile=False,\n",
      "torch_compile_backend=None,\n",
      "torch_compile_mode=None,\n",
      "torch_empty_cache_steps=None,\n",
      "torchdynamo=None,\n",
      "tpu_metrics_debug=False,\n",
      "tpu_num_cores=None,\n",
      "use_cpu=False,\n",
      "use_ipex=False,\n",
      "use_legacy_prediction_loop=False,\n",
      "use_liger_kernel=False,\n",
      "use_mps_device=False,\n",
      "warmup_ratio=0.0,\n",
      "warmup_steps=0,\n",
      "weight_decay=0.0,\n",
      ")\n",
      "Using custom data configuration default-32e13364a62dcc19\n",
      "11/01/2024 09:56:53 - INFO - datasets.builder - Using custom data configuration default-32e13364a62dcc19\n",
      "Loading Dataset Infos from /nfs/nhome/live/espens/.local/lib/python3.8/site-packages/datasets/packaged_modules/text\n",
      "11/01/2024 09:56:53 - INFO - datasets.info - Loading Dataset Infos from /nfs/nhome/live/espens/.local/lib/python3.8/site-packages/datasets/packaged_modules/text\n",
      "Overwrite dataset info from restored data version if exists.\n",
      "11/01/2024 09:56:53 - INFO - datasets.builder - Overwrite dataset info from restored data version if exists.\n",
      "Loading Dataset info from /nfs/nhome/live/espens/.cache/huggingface/datasets/text/default-32e13364a62dcc19/0.0.0/73c2faa07573e39dca89c9d5cbd568526dc2e15125e5a097f5f512be735457bc\n",
      "11/01/2024 09:56:53 - INFO - datasets.info - Loading Dataset info from /nfs/nhome/live/espens/.cache/huggingface/datasets/text/default-32e13364a62dcc19/0.0.0/73c2faa07573e39dca89c9d5cbd568526dc2e15125e5a097f5f512be735457bc\n",
      "Found cached dataset text (/nfs/nhome/live/espens/.cache/huggingface/datasets/text/default-32e13364a62dcc19/0.0.0/73c2faa07573e39dca89c9d5cbd568526dc2e15125e5a097f5f512be735457bc)\n",
      "11/01/2024 09:56:53 - INFO - datasets.builder - Found cached dataset text (/nfs/nhome/live/espens/.cache/huggingface/datasets/text/default-32e13364a62dcc19/0.0.0/73c2faa07573e39dca89c9d5cbd568526dc2e15125e5a097f5f512be735457bc)\n",
      "Loading Dataset info from /nfs/nhome/live/espens/.cache/huggingface/datasets/text/default-32e13364a62dcc19/0.0.0/73c2faa07573e39dca89c9d5cbd568526dc2e15125e5a097f5f512be735457bc\n",
      "11/01/2024 09:56:53 - INFO - datasets.info - Loading Dataset info from /nfs/nhome/live/espens/.cache/huggingface/datasets/text/default-32e13364a62dcc19/0.0.0/73c2faa07573e39dca89c9d5cbd568526dc2e15125e5a097f5f512be735457bc\n",
      "[INFO|configuration_utils.py:668] 2024-11-01 09:56:53,501 >> loading configuration file config.json from cache at /nfs/nhome/live/espens/.cache/huggingface/hub/models--openai-community--gpt2/snapshots/607a30d783dfa663caf39e06633721c8d4cfcd7e/config.json\n",
      "[INFO|configuration_utils.py:735] 2024-11-01 09:56:53,504 >> Model config GPT2Config {\n",
      "  \"_name_or_path\": \"openai-community/gpt2\",\n",
      "  \"activation_function\": \"gelu_new\",\n",
      "  \"architectures\": [\n",
      "    \"GPT2LMHeadModel\"\n",
      "  ],\n",
      "  \"attn_pdrop\": 0.1,\n",
      "  \"bos_token_id\": 50256,\n",
      "  \"embd_pdrop\": 0.1,\n",
      "  \"eos_token_id\": 50256,\n",
      "  \"initializer_range\": 0.02,\n",
      "  \"layer_norm_epsilon\": 1e-05,\n",
      "  \"model_type\": \"gpt2\",\n",
      "  \"n_ctx\": 1024,\n",
      "  \"n_embd\": 768,\n",
      "  \"n_head\": 12,\n",
      "  \"n_inner\": null,\n",
      "  \"n_layer\": 12,\n",
      "  \"n_positions\": 1024,\n",
      "  \"reorder_and_upcast_attn\": false,\n",
      "  \"resid_pdrop\": 0.1,\n",
      "  \"scale_attn_by_inverse_layer_idx\": false,\n",
      "  \"scale_attn_weights\": true,\n",
      "  \"summary_activation\": null,\n",
      "  \"summary_first_dropout\": 0.1,\n",
      "  \"summary_proj_to_labels\": true,\n",
      "  \"summary_type\": \"cls_index\",\n",
      "  \"summary_use_proj\": true,\n",
      "  \"task_specific_params\": {\n",
      "    \"text-generation\": {\n",
      "      \"do_sample\": true,\n",
      "      \"max_length\": 50\n",
      "    }\n",
      "  },\n",
      "  \"transformers_version\": \"4.45.0.dev0\",\n",
      "  \"use_cache\": true,\n",
      "  \"vocab_size\": 50257\n",
      "}\n",
      "\n",
      "[INFO|configuration_utils.py:668] 2024-11-01 09:56:53,609 >> loading configuration file config.json from cache at /nfs/nhome/live/espens/.cache/huggingface/hub/models--openai-community--gpt2/snapshots/607a30d783dfa663caf39e06633721c8d4cfcd7e/config.json\n",
      "[INFO|configuration_utils.py:735] 2024-11-01 09:56:53,611 >> Model config GPT2Config {\n",
      "  \"_name_or_path\": \"openai-community/gpt2\",\n",
      "  \"activation_function\": \"gelu_new\",\n",
      "  \"architectures\": [\n",
      "    \"GPT2LMHeadModel\"\n",
      "  ],\n",
      "  \"attn_pdrop\": 0.1,\n",
      "  \"bos_token_id\": 50256,\n",
      "  \"embd_pdrop\": 0.1,\n",
      "  \"eos_token_id\": 50256,\n",
      "  \"initializer_range\": 0.02,\n",
      "  \"layer_norm_epsilon\": 1e-05,\n",
      "  \"model_type\": \"gpt2\",\n",
      "  \"n_ctx\": 1024,\n",
      "  \"n_embd\": 768,\n",
      "  \"n_head\": 12,\n",
      "  \"n_inner\": null,\n",
      "  \"n_layer\": 12,\n",
      "  \"n_positions\": 1024,\n",
      "  \"reorder_and_upcast_attn\": false,\n",
      "  \"resid_pdrop\": 0.1,\n",
      "  \"scale_attn_by_inverse_layer_idx\": false,\n",
      "  \"scale_attn_weights\": true,\n",
      "  \"summary_activation\": null,\n",
      "  \"summary_first_dropout\": 0.1,\n",
      "  \"summary_proj_to_labels\": true,\n",
      "  \"summary_type\": \"cls_index\",\n",
      "  \"summary_use_proj\": true,\n",
      "  \"task_specific_params\": {\n",
      "    \"text-generation\": {\n",
      "      \"do_sample\": true,\n",
      "      \"max_length\": 50\n",
      "    }\n",
      "  },\n",
      "  \"transformers_version\": \"4.45.0.dev0\",\n",
      "  \"use_cache\": true,\n",
      "  \"vocab_size\": 50257\n",
      "}\n",
      "\n",
      "[INFO|tokenization_utils_base.py:2200] 2024-11-01 09:56:53,646 >> loading file vocab.json from cache at /nfs/nhome/live/espens/.cache/huggingface/hub/models--openai-community--gpt2/snapshots/607a30d783dfa663caf39e06633721c8d4cfcd7e/vocab.json\n",
      "[INFO|tokenization_utils_base.py:2200] 2024-11-01 09:56:53,646 >> loading file merges.txt from cache at /nfs/nhome/live/espens/.cache/huggingface/hub/models--openai-community--gpt2/snapshots/607a30d783dfa663caf39e06633721c8d4cfcd7e/merges.txt\n",
      "[INFO|tokenization_utils_base.py:2200] 2024-11-01 09:56:53,646 >> loading file tokenizer.json from cache at /nfs/nhome/live/espens/.cache/huggingface/hub/models--openai-community--gpt2/snapshots/607a30d783dfa663caf39e06633721c8d4cfcd7e/tokenizer.json\n",
      "[INFO|tokenization_utils_base.py:2200] 2024-11-01 09:56:53,646 >> loading file added_tokens.json from cache at None\n",
      "[INFO|tokenization_utils_base.py:2200] 2024-11-01 09:56:53,646 >> loading file special_tokens_map.json from cache at None\n",
      "[INFO|tokenization_utils_base.py:2200] 2024-11-01 09:56:53,646 >> loading file tokenizer_config.json from cache at /nfs/nhome/live/espens/.cache/huggingface/hub/models--openai-community--gpt2/snapshots/607a30d783dfa663caf39e06633721c8d4cfcd7e/tokenizer_config.json\n",
      "[INFO|configuration_utils.py:668] 2024-11-01 09:56:53,648 >> loading configuration file config.json from cache at /nfs/nhome/live/espens/.cache/huggingface/hub/models--openai-community--gpt2/snapshots/607a30d783dfa663caf39e06633721c8d4cfcd7e/config.json\n",
      "[INFO|configuration_utils.py:735] 2024-11-01 09:56:53,649 >> Model config GPT2Config {\n",
      "  \"_name_or_path\": \"openai-community/gpt2\",\n",
      "  \"activation_function\": \"gelu_new\",\n",
      "  \"architectures\": [\n",
      "    \"GPT2LMHeadModel\"\n",
      "  ],\n",
      "  \"attn_pdrop\": 0.1,\n",
      "  \"bos_token_id\": 50256,\n",
      "  \"embd_pdrop\": 0.1,\n",
      "  \"eos_token_id\": 50256,\n",
      "  \"initializer_range\": 0.02,\n",
      "  \"layer_norm_epsilon\": 1e-05,\n",
      "  \"model_type\": \"gpt2\",\n",
      "  \"n_ctx\": 1024,\n",
      "  \"n_embd\": 768,\n",
      "  \"n_head\": 12,\n",
      "  \"n_inner\": null,\n",
      "  \"n_layer\": 12,\n",
      "  \"n_positions\": 1024,\n",
      "  \"reorder_and_upcast_attn\": false,\n",
      "  \"resid_pdrop\": 0.1,\n",
      "  \"scale_attn_by_inverse_layer_idx\": false,\n",
      "  \"scale_attn_weights\": true,\n",
      "  \"summary_activation\": null,\n",
      "  \"summary_first_dropout\": 0.1,\n",
      "  \"summary_proj_to_labels\": true,\n",
      "  \"summary_type\": \"cls_index\",\n",
      "  \"summary_use_proj\": true,\n",
      "  \"task_specific_params\": {\n",
      "    \"text-generation\": {\n",
      "      \"do_sample\": true,\n",
      "      \"max_length\": 50\n",
      "    }\n",
      "  },\n",
      "  \"transformers_version\": \"4.45.0.dev0\",\n",
      "  \"use_cache\": true,\n",
      "  \"vocab_size\": 50257\n",
      "}\n",
      "\n",
      "/nfs/nhome/live/espens/.local/lib/python3.8/site-packages/transformers/tokenization_utils_base.py:1602: FutureWarning: `clean_up_tokenization_spaces` was not set. It will be set to `True` by default. This behavior will be deprecated in transformers v4.45, and will be then set to `False` by default. For more details check this issue: https://github.com/huggingface/transformers/issues/31884\n",
      "  warnings.warn(\n",
      "[INFO|configuration_utils.py:1060] 2024-11-01 09:56:53,778 >> Generate config GenerationConfig {\n",
      "  \"bos_token_id\": 50256,\n",
      "  \"eos_token_id\": 50256\n",
      "}\n",
      "\n",
      "11/01/2024 09:56:56 - INFO - __main__ - Training new model from scratch - Total size=118.68M params\n",
      "Loading cached processed dataset at /nfs/nhome/live/espens/.cache/huggingface/datasets/text/default-32e13364a62dcc19/0.0.0/73c2faa07573e39dca89c9d5cbd568526dc2e15125e5a097f5f512be735457bc/cache-95eb9d753be4b886.arrow\n",
      "11/01/2024 09:56:56 - INFO - datasets.arrow_dataset - Loading cached processed dataset at /nfs/nhome/live/espens/.cache/huggingface/datasets/text/default-32e13364a62dcc19/0.0.0/73c2faa07573e39dca89c9d5cbd568526dc2e15125e5a097f5f512be735457bc/cache-95eb9d753be4b886.arrow\n",
      "Loading cached processed dataset at /nfs/nhome/live/espens/.cache/huggingface/datasets/text/default-32e13364a62dcc19/0.0.0/73c2faa07573e39dca89c9d5cbd568526dc2e15125e5a097f5f512be735457bc/cache-3e8f13cfa8d20378.arrow\n",
      "11/01/2024 09:56:56 - INFO - datasets.arrow_dataset - Loading cached processed dataset at /nfs/nhome/live/espens/.cache/huggingface/datasets/text/default-32e13364a62dcc19/0.0.0/73c2faa07573e39dca89c9d5cbd568526dc2e15125e5a097f5f512be735457bc/cache-3e8f13cfa8d20378.arrow\n",
      "Loading cached processed dataset at /nfs/nhome/live/espens/.cache/huggingface/datasets/text/default-32e13364a62dcc19/0.0.0/73c2faa07573e39dca89c9d5cbd568526dc2e15125e5a097f5f512be735457bc/cache-0d23f76a6f5096f9.arrow\n",
      "11/01/2024 09:56:56 - INFO - datasets.arrow_dataset - Loading cached processed dataset at /nfs/nhome/live/espens/.cache/huggingface/datasets/text/default-32e13364a62dcc19/0.0.0/73c2faa07573e39dca89c9d5cbd568526dc2e15125e5a097f5f512be735457bc/cache-0d23f76a6f5096f9.arrow\n",
      "Loading cached processed dataset at /nfs/nhome/live/espens/.cache/huggingface/datasets/text/default-32e13364a62dcc19/0.0.0/73c2faa07573e39dca89c9d5cbd568526dc2e15125e5a097f5f512be735457bc/cache-da4b6a8c7c1d019f.arrow\n",
      "11/01/2024 09:56:56 - INFO - datasets.arrow_dataset - Loading cached processed dataset at /nfs/nhome/live/espens/.cache/huggingface/datasets/text/default-32e13364a62dcc19/0.0.0/73c2faa07573e39dca89c9d5cbd568526dc2e15125e5a097f5f512be735457bc/cache-da4b6a8c7c1d019f.arrow\n",
      "/nfs/nhome/live/espens/.local/lib/python3.8/site-packages/transformers/utils/import_utils.py:591: FutureWarning: `is_torch_tpu_available` is deprecated and will be removed in 4.41.0. Please use the `is_torch_xla_available` instead.\n",
      "  warnings.warn(\n",
      "11/01/2024 09:56:57 - WARNING - accelerate.utils.other - Detected kernel version 5.4.0, which is below the recommended minimum of 5.5.0; this can cause the process to hang. It is recommended to upgrade the kernel to the minimum version or higher.\n",
      "[INFO|trainer.py:2182] 2024-11-01 09:56:57,875 >> ***** Running training *****\n",
      "[INFO|trainer.py:2183] 2024-11-01 09:56:57,875 >>   Num examples = 2,079\n",
      "[INFO|trainer.py:2184] 2024-11-01 09:56:57,875 >>   Num Epochs = 3\n",
      "[INFO|trainer.py:2185] 2024-11-01 09:56:57,875 >>   Instantaneous batch size per device = 1\n",
      "[INFO|trainer.py:2188] 2024-11-01 09:56:57,875 >>   Total train batch size (w. parallel, distributed & accumulation) = 1\n",
      "[INFO|trainer.py:2189] 2024-11-01 09:56:57,875 >>   Gradient Accumulation steps = 1\n",
      "[INFO|trainer.py:2190] 2024-11-01 09:56:57,875 >>   Total optimization steps = 6,237\n",
      "[INFO|trainer.py:2191] 2024-11-01 09:56:57,876 >>   Number of trainable parameters = 124,439,808\n",
      "{'loss': 1.4007, 'grad_norm': 2.7290239334106445, 'learning_rate': 9.198332531665866e-06, 'epoch': 0.24}\n",
      "{'loss': 0.827, 'grad_norm': 4.711360931396484, 'learning_rate': 8.39666506333173e-06, 'epoch': 0.48}\n",
      "{'loss': 0.7657, 'grad_norm': 4.665707111358643, 'learning_rate': 7.594997594997595e-06, 'epoch': 0.72}\n",
      "{'loss': 0.6959, 'grad_norm': 5.7903947830200195, 'learning_rate': 6.793330126663461e-06, 'epoch': 0.96}\n",
      " 33%|█████████████                          | 2079/6237 [02:20<04:44, 14.63it/s][INFO|trainer.py:3639] 2024-11-01 09:59:18,860 >> Saving model checkpoint to durrant_2/checkpoint-2079\n",
      "[INFO|configuration_utils.py:407] 2024-11-01 09:59:18,863 >> Configuration saved in durrant_2/checkpoint-2079/config.json\n",
      "[INFO|configuration_utils.py:829] 2024-11-01 09:59:18,864 >> Configuration saved in durrant_2/checkpoint-2079/generation_config.json\n",
      "[INFO|modeling_utils.py:2795] 2024-11-01 09:59:20,290 >> Model weights saved in durrant_2/checkpoint-2079/model.safetensors\n",
      "[INFO|tokenization_utils_base.py:2615] 2024-11-01 09:59:20,291 >> tokenizer config file saved in durrant_2/checkpoint-2079/tokenizer_config.json\n",
      "[INFO|tokenization_utils_base.py:2624] 2024-11-01 09:59:20,292 >> Special tokens file saved in durrant_2/checkpoint-2079/special_tokens_map.json\n",
      "{'loss': 0.6121, 'grad_norm': 7.126400470733643, 'learning_rate': 5.991662658329326e-06, 'epoch': 1.2}\n",
      "{'loss': 0.5506, 'grad_norm': 6.237298011779785, 'learning_rate': 5.1899951899951905e-06, 'epoch': 1.44}\n",
      "{'loss': 0.4997, 'grad_norm': 7.235745906829834, 'learning_rate': 4.388327721661055e-06, 'epoch': 1.68}\n",
      "{'loss': 0.4559, 'grad_norm': 8.045865058898926, 'learning_rate': 3.58666025332692e-06, 'epoch': 1.92}\n",
      " 67%|█████████████████████████▉             | 4157/6237 [04:44<02:21, 14.67it/s][INFO|trainer.py:3639] 2024-11-01 10:01:42,377 >> Saving model checkpoint to durrant_2/checkpoint-4158\n",
      "[INFO|configuration_utils.py:407] 2024-11-01 10:01:42,380 >> Configuration saved in durrant_2/checkpoint-4158/config.json\n",
      "[INFO|configuration_utils.py:829] 2024-11-01 10:01:42,381 >> Configuration saved in durrant_2/checkpoint-4158/generation_config.json\n",
      "[INFO|modeling_utils.py:2795] 2024-11-01 10:01:43,803 >> Model weights saved in durrant_2/checkpoint-4158/model.safetensors\n",
      "[INFO|tokenization_utils_base.py:2615] 2024-11-01 10:01:43,805 >> tokenizer config file saved in durrant_2/checkpoint-4158/tokenizer_config.json\n",
      "[INFO|tokenization_utils_base.py:2624] 2024-11-01 10:01:43,805 >> Special tokens file saved in durrant_2/checkpoint-4158/special_tokens_map.json\n",
      "{'loss': 0.4187, 'grad_norm': 8.163763046264648, 'learning_rate': 2.7849927849927854e-06, 'epoch': 2.16}\n",
      "{'loss': 0.398, 'grad_norm': 8.09743881225586, 'learning_rate': 1.9833253166586503e-06, 'epoch': 2.41}\n",
      "{'loss': 0.3861, 'grad_norm': 8.476815223693848, 'learning_rate': 1.181657848324515e-06, 'epoch': 2.65}\n",
      "{'loss': 0.3651, 'grad_norm': 9.805978775024414, 'learning_rate': 3.7999037999038e-07, 'epoch': 2.89}\n",
      "100%|███████████████████████████████████████| 6237/6237 [07:08<00:00, 14.90it/s][INFO|trainer.py:3639] 2024-11-01 10:04:05,979 >> Saving model checkpoint to durrant_2/checkpoint-6237\n",
      "[INFO|configuration_utils.py:407] 2024-11-01 10:04:05,981 >> Configuration saved in durrant_2/checkpoint-6237/config.json\n",
      "[INFO|configuration_utils.py:829] 2024-11-01 10:04:05,983 >> Configuration saved in durrant_2/checkpoint-6237/generation_config.json\n",
      "[INFO|modeling_utils.py:2795] 2024-11-01 10:04:07,282 >> Model weights saved in durrant_2/checkpoint-6237/model.safetensors\n",
      "[INFO|tokenization_utils_base.py:2615] 2024-11-01 10:04:07,283 >> tokenizer config file saved in durrant_2/checkpoint-6237/tokenizer_config.json\n",
      "[INFO|tokenization_utils_base.py:2624] 2024-11-01 10:04:07,284 >> Special tokens file saved in durrant_2/checkpoint-6237/special_tokens_map.json\n",
      "[INFO|trainer.py:3639] 2024-11-01 10:04:08,786 >> Saving model checkpoint to durrant_2/checkpoint-6237\n",
      "[INFO|configuration_utils.py:407] 2024-11-01 10:04:08,795 >> Configuration saved in durrant_2/checkpoint-6237/config.json\n",
      "[INFO|configuration_utils.py:829] 2024-11-01 10:04:08,806 >> Configuration saved in durrant_2/checkpoint-6237/generation_config.json\n",
      "[INFO|modeling_utils.py:2795] 2024-11-01 10:04:10,178 >> Model weights saved in durrant_2/checkpoint-6237/model.safetensors\n",
      "[INFO|tokenization_utils_base.py:2615] 2024-11-01 10:04:10,186 >> tokenizer config file saved in durrant_2/checkpoint-6237/tokenizer_config.json\n",
      "[INFO|tokenization_utils_base.py:2624] 2024-11-01 10:04:10,198 >> Special tokens file saved in durrant_2/checkpoint-6237/special_tokens_map.json\n",
      "[INFO|trainer.py:2442] 2024-11-01 10:04:11,907 >> \n",
      "\n",
      "Training completed. Do not forget to share your model on huggingface.co/models =)\n",
      "\n",
      "\n",
      "{'train_runtime': 434.0317, 'train_samples_per_second': 14.37, 'train_steps_per_second': 14.37, 'train_loss': 0.6050963078398381, 'epoch': 3.0}\n",
      "100%|███████████████████████████████████████| 6237/6237 [07:14<00:00, 14.37it/s]\n",
      "[INFO|trainer.py:3639] 2024-11-01 10:04:11,910 >> Saving model checkpoint to durrant_2\n",
      "[INFO|configuration_utils.py:407] 2024-11-01 10:04:11,912 >> Configuration saved in durrant_2/config.json\n",
      "[INFO|configuration_utils.py:829] 2024-11-01 10:04:11,914 >> Configuration saved in durrant_2/generation_config.json\n",
      "[INFO|modeling_utils.py:2795] 2024-11-01 10:04:13,312 >> Model weights saved in durrant_2/model.safetensors\n",
      "[INFO|tokenization_utils_base.py:2615] 2024-11-01 10:04:13,313 >> tokenizer config file saved in durrant_2/tokenizer_config.json\n",
      "[INFO|tokenization_utils_base.py:2624] 2024-11-01 10:04:13,313 >> Special tokens file saved in durrant_2/special_tokens_map.json\n",
      "***** train metrics *****\n",
      "  epoch                    =        3.0\n",
      "  total_flos               =   296436GF\n",
      "  train_loss               =     0.6051\n",
      "  train_runtime            = 0:07:14.03\n",
      "  train_samples            =       2079\n",
      "  train_samples_per_second =      14.37\n",
      "  train_steps_per_second   =      14.37\n",
      "11/01/2024 10:04:13 - INFO - __main__ - *** Evaluate ***\n",
      "[INFO|trainer.py:3955] 2024-11-01 10:04:13,361 >> \n",
      "***** Running Evaluation *****\n",
      "[INFO|trainer.py:3957] 2024-11-01 10:04:13,361 >>   Num examples = 103\n",
      "[INFO|trainer.py:3960] 2024-11-01 10:04:13,361 >>   Batch size = 1\n",
      "100%|█████████████████████████████████████████| 103/103 [00:01<00:00, 88.41it/s]\n",
      "***** eval metrics *****\n",
      "  epoch                   =        3.0\n",
      "  eval_accuracy           =     0.9109\n",
      "  eval_loss               =     0.3299\n",
      "  eval_runtime            = 0:00:01.18\n",
      "  eval_samples            =        103\n",
      "  eval_samples_per_second =     87.178\n",
      "  eval_steps_per_second   =     87.178\n",
      "  perplexity              =     1.3908\n",
      "[INFO|modelcard.py:449] 2024-11-01 10:04:14,712 >> Dropping the following result as it does not have all the necessary fields:\n",
      "{'task': {'name': 'Causal Language Modeling', 'type': 'text-generation'}, 'metrics': [{'name': 'Accuracy', 'type': 'accuracy', 'value': 0.910856134157105}]}\n"
     ]
    }
   ],
   "source": [
    "for trial in range(0, 3):\n",
    "\n",
    "    !rm -rf durrant_{trial}\n",
    "    !mkdir durrant_{trial}\n",
    "\n",
    "    # Train the model\n",
    "    train_model_script(num_epochs=3,\n",
    "                       output_dir=f'durrant_{trial}',\n",
    "                       lr=1e-05,\n",
    "                       seed=trial)\n"
   ]
  },
  {
   "cell_type": "markdown",
   "metadata": {},
   "source": [
    "#### Test model"
   ]
  },
  {
   "cell_type": "code",
   "execution_count": 5,
   "metadata": {},
   "outputs": [],
   "source": [
    "structured_test_file = \"structured_test.txt\"\n",
    "unstructured_test_file = \"unstructured_test.txt\""
   ]
  },
  {
   "cell_type": "code",
   "execution_count": 8,
   "metadata": {},
   "outputs": [],
   "source": [
    "checkpoints = os.listdir(f'./durrant_0')\n",
    "# Extract numbers using regex and convert to integers\n",
    "checkpoint_numbers = sorted([int(re.search(r\"\\d+\", chk).group()) for chk in checkpoints if re.search(r\"\\d+\", chk)])"
   ]
  },
  {
   "cell_type": "code",
   "execution_count": 9,
   "metadata": {},
   "outputs": [
    {
     "name": "stdout",
     "output_type": "stream",
     "text": [
      "./durrant_0/checkpoint-2079\n"
     ]
    },
    {
     "name": "stderr",
     "output_type": "stream",
     "text": [
      "100%|█████████████████████████████████████████████| 7/7 [00:01<00:00,  5.42it/s]\n",
      "100%|█████████████████████████████████████████████| 7/7 [00:01<00:00,  6.22it/s]\n"
     ]
    },
    {
     "name": "stdout",
     "output_type": "stream",
     "text": [
      "./durrant_0/checkpoint-4158\n"
     ]
    },
    {
     "name": "stderr",
     "output_type": "stream",
     "text": [
      "100%|█████████████████████████████████████████████| 7/7 [00:01<00:00,  6.24it/s]\n",
      "100%|█████████████████████████████████████████████| 7/7 [00:01<00:00,  6.20it/s]\n"
     ]
    },
    {
     "name": "stdout",
     "output_type": "stream",
     "text": [
      "./durrant_0/checkpoint-6237\n"
     ]
    },
    {
     "name": "stderr",
     "output_type": "stream",
     "text": [
      "100%|█████████████████████████████████████████████| 7/7 [00:01<00:00,  6.22it/s]\n",
      "100%|█████████████████████████████████████████████| 7/7 [00:01<00:00,  6.21it/s]\n"
     ]
    },
    {
     "name": "stdout",
     "output_type": "stream",
     "text": [
      "./durrant_1/checkpoint-2079\n"
     ]
    },
    {
     "name": "stderr",
     "output_type": "stream",
     "text": [
      "100%|█████████████████████████████████████████████| 7/7 [00:01<00:00,  6.19it/s]\n",
      "100%|█████████████████████████████████████████████| 7/7 [00:01<00:00,  6.21it/s]\n"
     ]
    },
    {
     "name": "stdout",
     "output_type": "stream",
     "text": [
      "./durrant_1/checkpoint-4158\n"
     ]
    },
    {
     "name": "stderr",
     "output_type": "stream",
     "text": [
      "100%|█████████████████████████████████████████████| 7/7 [00:01<00:00,  6.24it/s]\n",
      "100%|█████████████████████████████████████████████| 7/7 [00:01<00:00,  6.24it/s]\n"
     ]
    },
    {
     "name": "stdout",
     "output_type": "stream",
     "text": [
      "./durrant_1/checkpoint-6237\n"
     ]
    },
    {
     "name": "stderr",
     "output_type": "stream",
     "text": [
      "100%|█████████████████████████████████████████████| 7/7 [00:01<00:00,  6.22it/s]\n",
      "100%|█████████████████████████████████████████████| 7/7 [00:01<00:00,  6.21it/s]\n"
     ]
    },
    {
     "name": "stdout",
     "output_type": "stream",
     "text": [
      "./durrant_2/checkpoint-2079\n"
     ]
    },
    {
     "name": "stderr",
     "output_type": "stream",
     "text": [
      "100%|█████████████████████████████████████████████| 7/7 [00:01<00:00,  6.20it/s]\n",
      "100%|█████████████████████████████████████████████| 7/7 [00:01<00:00,  6.24it/s]\n"
     ]
    },
    {
     "name": "stdout",
     "output_type": "stream",
     "text": [
      "./durrant_2/checkpoint-4158\n"
     ]
    },
    {
     "name": "stderr",
     "output_type": "stream",
     "text": [
      "100%|█████████████████████████████████████████████| 7/7 [00:01<00:00,  6.23it/s]\n",
      "100%|█████████████████████████████████████████████| 7/7 [00:01<00:00,  6.25it/s]\n"
     ]
    },
    {
     "name": "stdout",
     "output_type": "stream",
     "text": [
      "./durrant_2/checkpoint-6237\n"
     ]
    },
    {
     "name": "stderr",
     "output_type": "stream",
     "text": [
      "100%|█████████████████████████████████████████████| 7/7 [00:01<00:00,  6.23it/s]\n",
      "100%|█████████████████████████████████████████████| 7/7 [00:01<00:00,  6.20it/s]\n"
     ]
    }
   ],
   "source": [
    "perplexity = load(\"perplexity\", module_type=\"metric\")\n",
    "\n",
    "all_structured = []\n",
    "all_unstructured = []\n",
    "\n",
    "for trial in range(0, 3):    \n",
    "    \n",
    "    perplexity_structured = []\n",
    "    perplexity_unstructured = []\n",
    "    \n",
    "    for ep in checkpoint_numbers:\n",
    "        pattern = os.path.join(f'./durrant_{trial}', f'checkpoint-{ep}')\n",
    "        print(pattern)\n",
    "        model_dir = glob.glob(pattern)[0]\n",
    "\n",
    "        with open(structured_test_file, 'r') as file:\n",
    "            structured_test_examples = file.readlines()\n",
    "        results = perplexity.compute(model_id=model_dir,\n",
    "                             add_start_token=False,\n",
    "                             predictions=structured_test_examples)['mean_perplexity']\n",
    "        perplexity_structured.append(results)\n",
    "\n",
    "        with open(unstructured_test_file, 'r') as file:\n",
    "            unstructured_test_examples = file.readlines()\n",
    "        results = perplexity.compute(model_id=model_dir,\n",
    "                             add_start_token=False,\n",
    "                             predictions=unstructured_test_examples)['mean_perplexity']\n",
    "        perplexity_unstructured.append(results)\n",
    "\n",
    "    all_unstructured.append(perplexity_unstructured)\n",
    "    all_structured.append(perplexity_structured)"
   ]
  },
  {
   "cell_type": "markdown",
   "metadata": {},
   "source": [
    "#### Plot perplexity against time"
   ]
  },
  {
   "cell_type": "code",
   "execution_count": 10,
   "metadata": {},
   "outputs": [
    {
     "name": "stdout",
     "output_type": "stream",
     "text": [
      "Average structured perplexity: [1.74228265 1.46422256 1.43376569]\n",
      "SEM structured perplexity: [0.07683986 0.07750013 0.08616579]\n",
      "Average unstructured perplexity: [3.22487071 4.04533983 4.49478767]\n",
      "SEM unstructured perplexity: [0.25190302 0.41246574 0.26214414]\n"
     ]
    },
    {
     "data": {
      "image/png": "[encoded data removed]",
      "text/plain": [
       "<Figure size 390x230 with 1 Axes>"
      ]
     },
     "metadata": {},
     "output_type": "display_data"
    }
   ],
   "source": [
    "# Convert lists to numpy arrays for easier computation\n",
    "structured_array = np.array(all_structured)\n",
    "unstructured_array = np.array(all_unstructured)\n",
    "\n",
    "# Calculate the average perplexity for each epoch across the three trials\n",
    "avg_structured = np.mean(structured_array, axis=0)\n",
    "avg_unstructured = np.mean(unstructured_array, axis=0)\n",
    "\n",
    "# Calculate the SEM for each epoch across the three trials\n",
    "sem_structured = np.std(structured_array, axis=1) / np.sqrt(structured_array.shape[0])\n",
    "sem_unstructured = np.std(unstructured_array, axis=1) / np.sqrt(unstructured_array.shape[0])\n",
    "\n",
    "# Print the averages and SEM\n",
    "print(\"Average structured perplexity:\", avg_structured)\n",
    "print(\"SEM structured perplexity:\", sem_structured)\n",
    "print(\"Average unstructured perplexity:\", avg_unstructured)\n",
    "print(\"SEM unstructured perplexity:\", sem_unstructured)\n",
    "\n",
    "# Define the number of epochs\n",
    "epochs = [1, 2, 3]\n",
    "\n",
    "# Create the bar chart\n",
    "fig, ax = plt.subplots(figsize=(3.9, 2.3))\n",
    "\n",
    "# Bar width\n",
    "bar_width = 0.35\n",
    "\n",
    "# Set positions of the bars on the x-axis\n",
    "r1 = np.arange(len(epochs))\n",
    "r2 = [x + bar_width for x in r1]\n",
    "\n",
    "# Create bars for structured perplexity with error bars\n",
    "ax.bar(r1, avg_structured, color='b', alpha=0.4, width=bar_width, yerr=sem_structured, capsize=2, edgecolor='grey', label='Structured')\n",
    "\n",
    "# Create bars for unstructured perplexity with error bars\n",
    "ax.bar(r2, avg_unstructured, color='r', alpha=0.4, width=bar_width, yerr=sem_unstructured, capsize=2, edgecolor='grey', label='Unstructured')\n",
    "\n",
    "# Add labels\n",
    "ax.set_xlabel('Epoch')\n",
    "ax.set_ylabel('Perplexity')\n",
    "ax.set_xticks([r + bar_width / 2 for r in range(len(epochs))])\n",
    "ax.set_xticklabels(epochs)\n",
    "\n",
    "# Add legend\n",
    "ax.legend()\n",
    "\n",
    "# Show the plot\n",
    "plt.savefig('perplexities.png', dpi=300, bbox_inches='tight')\n",
    "plt.show()\n"
   ]
  },
  {
   "cell_type": "markdown",
   "metadata": {},
   "source": [
    "#### Plot transition structure of generated data"
   ]
  },
  {
   "cell_type": "code",
   "execution_count": 11,
   "metadata": {
    "scrolled": true
   },
   "outputs": [
    {
     "name": "stderr",
     "output_type": "stream",
     "text": [
      "The attention mask and the pad token id were not set. As a consequence, you may observe unexpected behavior. Please pass your input's `attention_mask` to obtain reliable results.\n",
      "Setting `pad_token_id` to `eos_token_id`:50256 for open-end generation.\n",
      "The attention mask is not set and cannot be inferred from input because pad token is same as eos token. As a consequence, you may observe unexpected behavior. Please pass your input's `attention_mask` to obtain reliable results.\n",
      "The attention mask and the pad token id were not set. As a consequence, you may observe unexpected behavior. Please pass your input's `attention_mask` to obtain reliable results.\n",
      "Setting `pad_token_id` to `eos_token_id`:50256 for open-end generation.\n"
     ]
    },
    {
     "name": "stdout",
     "output_type": "stream",
     "text": [
      "1,4,1,1,4,1,1,4,1,1,4,1,1,4,1,1,4,1,1,4,1,1,4,1,1,4,1,1,4,1,1,4,1,1,4,1,1,4,1,1,4,1,1,4,1,1,4,1,1,4,1,1,4,1,1,1,1,4,4,4,1,1,4,1,1,1,1,1,1,1,4,4,1,4,1,1,4,1,1,1,1,1,1,1,1,4,4,1,4,1,1,4,1,1,4,1,1,1,1,1,\n"
     ]
    },
    {
     "name": "stderr",
     "output_type": "stream",
     "text": [
      "The attention mask and the pad token id were not set. As a consequence, you may observe unexpected behavior. Please pass your input's `attention_mask` to obtain reliable results.\n",
      "Setting `pad_token_id` to `eos_token_id`:50256 for open-end generation.\n"
     ]
    },
    {
     "name": "stdout",
     "output_type": "stream",
     "text": [
      "2,5,1,2,3,3,1,3,2,2,4,2,5,1,2,3,3,1,3,2,2,4,2,5,1,2,3,3,1,3,2,2,4,2,5,1,2,3,3,1,3,2,2,4,2,5,1,2,3,3,3,3,3,3,3,1,3,3,1,3,1,3,3,1,2,2,2,2,2,4,2,2,4,4,2,2,5,5,2,2,5,1,4,2,4,5,1,5,1,2,3,5,2,1,1,2,4,2,2,3,\n"
     ]
    },
    {
     "name": "stderr",
     "output_type": "stream",
     "text": [
      "The attention mask and the pad token id were not set. As a consequence, you may observe unexpected behavior. Please pass your input's `attention_mask` to obtain reliable results.\n",
      "Setting `pad_token_id` to `eos_token_id`:50256 for open-end generation.\n"
     ]
    },
    {
     "name": "stdout",
     "output_type": "stream",
     "text": [
      "3,5,4,4,3,4,5,2,1,5,5,3,5,4,4,3,4,5,2,1,5,5,3,5,4,4,3,4,5,2,1,5,5,3,5,4,4,3,4,5,2,1,5,5,3,5,4,4,3,4,4,5,2,5,2,2,5,5,5,2,2,1,5,5,5,5,5,5,4,5,5,3,5,4,5,4,3,4,4,4,4,4,3,4,1,3,4,4,4,3,4,5,3,4,2,4,3,3,4,3,\n"
     ]
    },
    {
     "name": "stderr",
     "output_type": "stream",
     "text": [
      "The attention mask and the pad token id were not set. As a consequence, you may observe unexpected behavior. Please pass your input's `attention_mask` to obtain reliable results.\n",
      "Setting `pad_token_id` to `eos_token_id`:50256 for open-end generation.\n"
     ]
    },
    {
     "name": "stdout",
     "output_type": "stream",
     "text": [
      "4,5,2,1,5,5,3,5,4,4,3,4,5,2,1,5,5,3,5,4,4,3,4,5,2,1,5,5,3,5,4,4,3,4,5,2,1,5,5,3,5,4,4,3,4,5,2,1,5,5,5,5,5,5,3,3,5,3,5,4,4,4,5,4,4,4,3,3,4,4,4,4,3,4,5,4,4,3,3,4,5,4,3,4,4,5,5,2,2,2,2,1,5,2,1,5,1,5,5,1,\n"
     ]
    },
    {
     "name": "stderr",
     "output_type": "stream",
     "text": [
      "The attention mask and the pad token id were not set. As a consequence, you may observe unexpected behavior. Please pass your input's `attention_mask` to obtain reliable results.\n",
      "Setting `pad_token_id` to `eos_token_id`:50256 for open-end generation.\n"
     ]
    },
    {
     "name": "stdout",
     "output_type": "stream",
     "text": [
      "5,5,3,5,4,4,3,4,5,2,1,5,5,3,5,4,4,3,4,5,2,1,5,5,3,5,4,4,3,4,5,2,1,5,5,3,5,4,4,3,4,5,2,1,5,5,3,5,4,4,4,4,4,3,4,4,3,2,5,4,4,4,4,3,5,4,2,3,5,2,4,2,1,1,5,5,5,5,5,2,1,5,1,5,5,5,5,3,5,5,5,5,5,3,3,5,4,5,5,3,\n"
     ]
    },
    {
     "name": "stderr",
     "output_type": "stream",
     "text": [
      "The attention mask and the pad token id were not set. As a consequence, you may observe unexpected behavior. Please pass your input's `attention_mask` to obtain reliable results.\n",
      "Setting `pad_token_id` to `eos_token_id`:50256 for open-end generation.\n"
     ]
    },
    {
     "name": "stdout",
     "output_type": "stream",
     "text": [
      "1,3,2,2,4,2,5,1,2,3,3,1,3,2,2,4,2,5,1,2,3,3,1,3,2,2,4,2,5,1,2,3,3,1,3,2,2,4,2,5,1,2,3,3,1,3,2,2,4,2,2,5,5,2,1,1,3,3,3,3,1,3,3,1,3,1,3,3,1,2,3,3,3,1,3,1,3,2,2,2,2,2,4,2,4,2,2,4,2,4,2,5,5,1,4,2,2,2,2,5,\n"
     ]
    },
    {
     "name": "stderr",
     "output_type": "stream",
     "text": [
      "The attention mask and the pad token id were not set. As a consequence, you may observe unexpected behavior. Please pass your input's `attention_mask` to obtain reliable results.\n",
      "Setting `pad_token_id` to `eos_token_id`:50256 for open-end generation.\n"
     ]
    },
    {
     "name": "stdout",
     "output_type": "stream",
     "text": [
      "2,2,4,2,5,1,2,3,3,1,3,2,2,4,2,5,1,2,3,3,1,3,2,2,4,2,5,1,2,3,3,1,3,2,2,4,2,5,1,2,3,3,1,3,2,2,4,2,5,1,1,1,3,2,3,3,3,3,3,3,1,3,3,1,3,1,2,3,3,3,3,3,1,1,2,2,2,2,2,2,2,2,4,2,4,2,2,4,2,2,4,5,2,5,4,5,2,2,5,1,\n"
     ]
    },
    {
     "name": "stderr",
     "output_type": "stream",
     "text": [
      "The attention mask and the pad token id were not set. As a consequence, you may observe unexpected behavior. Please pass your input's `attention_mask` to obtain reliable results.\n",
      "Setting `pad_token_id` to `eos_token_id`:50256 for open-end generation.\n"
     ]
    },
    {
     "name": "stdout",
     "output_type": "stream",
     "text": [
      "3,4,5,2,1,5,5,3,5,4,4,3,4,5,2,1,5,5,3,5,4,4,3,4,5,2,1,5,5,3,5,4,4,3,4,5,2,1,5,5,3,5,4,4,3,4,5,2,1,5,5,5,5,5,5,5,5,5,5,3,4,4,5,5,5,4,4,4,3,4,5,4,4,4,3,4,3,4,3,4,4,4,5,5,3,4,4,5,4,3,4,5,5,2,1,2,4,3,4,3,\n"
     ]
    },
    {
     "name": "stderr",
     "output_type": "stream",
     "text": [
      "The attention mask and the pad token id were not set. As a consequence, you may observe unexpected behavior. Please pass your input's `attention_mask` to obtain reliable results.\n",
      "Setting `pad_token_id` to `eos_token_id`:50256 for open-end generation.\n"
     ]
    },
    {
     "name": "stdout",
     "output_type": "stream",
     "text": [
      "4,1,1,4,1,1,4,1,1,4,1,1,4,1,1,4,1,1,4,1,1,4,1,1,4,1,1,4,1,1,4,1,1,4,1,1,4,1,1,4,1,1,4,1,1,4,1,1,4,1,1,1,1,1,1,1,1,1,4,4,1,1,4,1,4,1,1,1,1,1,1,4,1,4,1,1,4,1,1,1,1,1,1,4,1,4,1,1,1,1,1,4,1,1,4,4,1,1,1,1,\n"
     ]
    },
    {
     "name": "stderr",
     "output_type": "stream",
     "text": [
      "The attention mask and the pad token id were not set. As a consequence, you may observe unexpected behavior. Please pass your input's `attention_mask` to obtain reliable results.\n",
      "Setting `pad_token_id` to `eos_token_id`:50256 for open-end generation.\n"
     ]
    },
    {
     "name": "stdout",
     "output_type": "stream",
     "text": [
      "5,5,3,5,4,4,3,4,5,2,1,5,5,3,5,4,4,3,4,5,2,1,5,5,3,5,4,4,3,4,5,2,1,5,5,3,5,4,4,3,4,5,2,1,5,5,3,5,4,4,4,4,4,3,4,4,3,2,5,4,4,4,4,3,5,4,2,3,5,2,4,2,1,1,5,5,5,5,5,2,1,5,1,5,5,5,5,5,3,5,5,5,5,3,3,5,4,5,5,3,\n"
     ]
    },
    {
     "name": "stderr",
     "output_type": "stream",
     "text": [
      "The attention mask and the pad token id were not set. As a consequence, you may observe unexpected behavior. Please pass your input's `attention_mask` to obtain reliable results.\n",
      "Setting `pad_token_id` to `eos_token_id`:50256 for open-end generation.\n"
     ]
    },
    {
     "name": "stdout",
     "output_type": "stream",
     "text": [
      "1,1,4,1,1,4,1,1,4,1,1,4,1,1,4,1,1,4,1,1,4,1,1,4,1,1,4,1,1,4,1,1,4,1,1,4,1,1,4,1,1,4,1,1,4,1,1,4,1,1,1,1,4,1,1,1,1,4,4,4,1,1,4,1,1,1,1,1,1,1,4,1,1,4,1,1,4,1,1,4,1,1,1,1,4,1,1,1,1,1,4,4,1,1,1,1,1,4,1,1,\n"
     ]
    },
    {
     "name": "stderr",
     "output_type": "stream",
     "text": [
      "The attention mask and the pad token id were not set. As a consequence, you may observe unexpected behavior. Please pass your input's `attention_mask` to obtain reliable results.\n",
      "Setting `pad_token_id` to `eos_token_id`:50256 for open-end generation.\n"
     ]
    },
    {
     "name": "stdout",
     "output_type": "stream",
     "text": [
      "2,2,4,2,5,1,2,3,3,1,3,2,2,4,2,5,1,2,3,3,1,3,2,2,4,2,5,1,2,3,3,1,3,2,2,4,2,5,1,2,3,3,1,3,2,2,4,2,5,1,1,1,3,2,3,3,3,3,3,3,5,3,3,1,3,1,2,3,3,1,3,3,3,1,3,1,2,3,2,2,2,1,2,2,4,2,2,2,2,2,4,4,2,2,4,5,2,2,4,5,\n"
     ]
    },
    {
     "name": "stderr",
     "output_type": "stream",
     "text": [
      "The attention mask and the pad token id were not set. As a consequence, you may observe unexpected behavior. Please pass your input's `attention_mask` to obtain reliable results.\n",
      "Setting `pad_token_id` to `eos_token_id`:50256 for open-end generation.\n"
     ]
    },
    {
     "name": "stdout",
     "output_type": "stream",
     "text": [
      "3,2,2,4,2,5,1,2,3,3,1,3,2,2,4,2,5,1,2,3,3,1,3,2,2,4,2,5,1,2,3,3,1,3,2,2,4,2,5,1,2,3,3,1,3,2,2,4,2,5,5,5,4,2,5,1,3,3,3,3,1,3,3,1,3,1,2,3,4,2,3,3,3,2,3,1,2,3,2,2,2,3,2,2,4,4,2,2,2,2,4,5,2,1,4,2,2,5,2,5,\n"
     ]
    },
    {
     "name": "stderr",
     "output_type": "stream",
     "text": [
      "The attention mask and the pad token id were not set. As a consequence, you may observe unexpected behavior. Please pass your input's `attention_mask` to obtain reliable results.\n",
      "Setting `pad_token_id` to `eos_token_id`:50256 for open-end generation.\n"
     ]
    },
    {
     "name": "stdout",
     "output_type": "stream",
     "text": [
      "4,5,2,1,5,5,3,5,4,4,3,4,5,2,1,5,5,3,5,4,4,3,4,5,2,1,5,5,3,5,4,4,3,4,5,2,1,5,5,3,5,4,4,3,4,5,2,1,5,5,5,5,5,5,3,3,5,3,5,4,4,4,5,4,4,4,3,3,3,4,4,4,3,4,4,4,3,3,3,41,4,4,4,4,3,5,4,5,3,5,5,3,2,2,2,1,1,2,2,1\n"
     ]
    },
    {
     "name": "stderr",
     "output_type": "stream",
     "text": [
      "The attention mask and the pad token id were not set. As a consequence, you may observe unexpected behavior. Please pass your input's `attention_mask` to obtain reliable results.\n",
      "Setting `pad_token_id` to `eos_token_id`:50256 for open-end generation.\n"
     ]
    },
    {
     "name": "stdout",
     "output_type": "stream",
     "text": [
      "5,5,3,5,4,4,3,4,5,2,1,5,5,3,5,4,4,3,4,5,2,1,5,5,3,5,4,4,3,4,5,2,1,5,5,3,5,4,4,3,4,5,2,1,5,5,3,5,4,4,4,4,4,3,4,4,4,3,4,4,2,1,5,5,5,5,5,5,2,5,5,3,5,4,5,4,3,5,4,4,4,4,1,4,1,4,5,4,2,5,4,5,3,2,5,5,1,5,5,5,\n"
     ]
    },
    {
     "name": "stderr",
     "output_type": "stream",
     "text": [
      "The attention mask and the pad token id were not set. As a consequence, you may observe unexpected behavior. Please pass your input's `attention_mask` to obtain reliable results.\n",
      "Setting `pad_token_id` to `eos_token_id`:50256 for open-end generation.\n"
     ]
    },
    {
     "name": "stdout",
     "output_type": "stream",
     "text": [
      "1,5,5,3,5,4,4,3,4,5,2,1,5,5,3,5,4,4,3,4,5,2,1,5,5,3,5,4,4,3,4,5,2,1,5,5,3,5,4,4,3,4,5,2,1,5,5,3,5,4,4,4,4,4,4,4,4,33,4,4,4,4,4,3,4,31,5,5,2,5,2,5,5,5,2,5,5,2,2,1,5,1,5,5,5,5,3,4,5,5,5,5,3,4,5,1,5,5,3,\n"
     ]
    },
    {
     "name": "stderr",
     "output_type": "stream",
     "text": [
      "The attention mask and the pad token id were not set. As a consequence, you may observe unexpected behavior. Please pass your input's `attention_mask` to obtain reliable results.\n",
      "Setting `pad_token_id` to `eos_token_id`:50256 for open-end generation.\n"
     ]
    },
    {
     "name": "stdout",
     "output_type": "stream",
     "text": [
      "2,3,3,1,3,2,2,4,2,5,1,2,3,3,1,3,2,2,4,2,5,1,2,3,3,1,3,2,2,4,2,5,1,2,3,3,1,3,2,2,4,2,5,1,2,3,3,1,3,2,2,2,2,2,2,2,2,2,2,2,4,4,2,5,2,2,2,5,5,4,3,2,4,4,2,2,3,3,2,2,5,3,4,4,3,3,3,3,1,3,3,3,1,1,3,3,3,1,3,1,\n"
     ]
    },
    {
     "name": "stderr",
     "output_type": "stream",
     "text": [
      "The attention mask and the pad token id were not set. As a consequence, you may observe unexpected behavior. Please pass your input's `attention_mask` to obtain reliable results.\n",
      "Setting `pad_token_id` to `eos_token_id`:50256 for open-end generation.\n"
     ]
    },
    {
     "name": "stdout",
     "output_type": "stream",
     "text": [
      "3,2,2,4,2,5,1,2,3,3,1,3,2,2,4,2,5,1,2,3,3,1,3,2,2,4,2,5,1,2,3,3,1,3,2,2,4,2,5,1,2,3,3,1,3,2,2,4,2,5,5,5,4,2,5,1,3,3,3,3,1,3,3,1,3,1,3,3,1,3,3,3,1,1,3,1,5,3,2,2,2,1,2,2,4,2,2,2,2,2,4,5,2,1,4,2,2,5,2,4,\n"
     ]
    },
    {
     "name": "stderr",
     "output_type": "stream",
     "text": [
      "The attention mask and the pad token id were not set. As a consequence, you may observe unexpected behavior. Please pass your input's `attention_mask` to obtain reliable results.\n",
      "Setting `pad_token_id` to `eos_token_id`:50256 for open-end generation.\n"
     ]
    },
    {
     "name": "stdout",
     "output_type": "stream",
     "text": [
      "4,5,2,1,5,5,3,5,4,4,3,4,5,2,1,5,5,3,5,4,4,3,4,5,2,1,5,5,3,5,4,4,3,4,5,2,1,5,5,3,5,4,4,3,4,5,2,1,5,5,5,5,5,5,3,3,5,3,5,5,4,4,5,4,4,4,4,3,3,4,4,4,3,4,4,4,3,3,3,4,4,4,5,4,5,5,2,2,2,1,2,5,4,2,1,5,1,1,5,1,\n"
     ]
    },
    {
     "name": "stderr",
     "output_type": "stream",
     "text": [
      "The attention mask and the pad token id were not set. As a consequence, you may observe unexpected behavior. Please pass your input's `attention_mask` to obtain reliable results.\n",
      "Setting `pad_token_id` to `eos_token_id`:50256 for open-end generation.\n"
     ]
    },
    {
     "name": "stdout",
     "output_type": "stream",
     "text": [
      "5,5,3,5,4,4,3,4,5,2,1,5,5,3,5,4,4,3,4,5,2,1,5,5,3,5,4,4,3,4,5,2,1,5,5,3,5,4,4,3,4,5,2,1,5,5,3,5,4,4,4,4,4,3,4,4,4,3,4,4,2,1,5,5,5,5,5,5,2,5,5,3,5,4,5,4,3,5,4,4,4,4,1,4,1,4,5,4,2,5,4,5,3,2,5,5,1,5,5,5,\n"
     ]
    },
    {
     "name": "stderr",
     "output_type": "stream",
     "text": [
      "The attention mask and the pad token id were not set. As a consequence, you may observe unexpected behavior. Please pass your input's `attention_mask` to obtain reliable results.\n",
      "Setting `pad_token_id` to `eos_token_id`:50256 for open-end generation.\n"
     ]
    },
    {
     "name": "stdout",
     "output_type": "stream",
     "text": [
      "1,2,3,3,1,3,2,2,4,2,5,1,2,3,3,1,3,2,2,4,2,5,1,2,3,3,1,3,2,2,4,2,5,1,2,3,3,1,3,2,2,4,2,5,1,2,3,3,1,3,3,2,2,3,2,2,2,4,2,2,1,4,2,2,2,2,5,5,2,4,3,2,4,4,5,2,3,3,2,2,5,1,3,3,3,3,1,1,1,3,3,3,1,3,3,3,1,3,1,1,\n"
     ]
    },
    {
     "name": "stderr",
     "output_type": "stream",
     "text": [
      "The attention mask and the pad token id were not set. As a consequence, you may observe unexpected behavior. Please pass your input's `attention_mask` to obtain reliable results.\n",
      "Setting `pad_token_id` to `eos_token_id`:50256 for open-end generation.\n"
     ]
    },
    {
     "name": "stdout",
     "output_type": "stream",
     "text": [
      "2,4,2,5,1,2,3,3,1,3,2,2,4,2,5,1,2,3,3,1,3,2,2,4,2,5,1,2,3,3,1,3,2,2,4,2,5,1,2,3,3,1,3,2,2,4,2,5,1,2,2,3,3,3,3,3,3,3,3,3,1,3,3,1,3,1,3,2,3,2,3,2,2,4,2,2,4,2,2,2,4,2,5,2,4,5,2,5,1,1,4,5,2,1,1,2,3,2,2,3,\n"
     ]
    },
    {
     "name": "stderr",
     "output_type": "stream",
     "text": [
      "The attention mask and the pad token id were not set. As a consequence, you may observe unexpected behavior. Please pass your input's `attention_mask` to obtain reliable results.\n",
      "Setting `pad_token_id` to `eos_token_id`:50256 for open-end generation.\n"
     ]
    },
    {
     "name": "stdout",
     "output_type": "stream",
     "text": [
      "3,2,2,4,2,5,1,2,3,3,1,3,2,2,4,2,5,1,2,3,3,1,3,2,2,4,2,5,1,2,3,3,1,3,2,2,4,2,5,1,2,3,3,1,3,2,2,4,2,5,5,5,4,2,5,1,3,3,3,3,1,3,3,3,3,1,3,1,1,3,3,3,3,1,3,1,3,2,2,2,2,1,2,2,4,2,2,2,2,4,4,5,2,1,4,2,2,2,2,5,\n"
     ]
    },
    {
     "name": "stderr",
     "output_type": "stream",
     "text": [
      "The attention mask and the pad token id were not set. As a consequence, you may observe unexpected behavior. Please pass your input's `attention_mask` to obtain reliable results.\n",
      "Setting `pad_token_id` to `eos_token_id`:50256 for open-end generation.\n"
     ]
    },
    {
     "name": "stdout",
     "output_type": "stream",
     "text": [
      "4,3,4,5,2,1,5,5,3,5,4,4,3,4,5,2,1,5,5,3,5,4,4,3,4,5,2,1,5,5,3,5,4,4,3,4,5,2,1,5,5,3,5,4,4,3,4,5,2,1,1,1,5,5,1,5,2,5,5,5,4,5,5,5,5,4,3,2,1,5,5,4,4,4,5,4,4,4,3,4,4,4,3,4,3,4,4,4,4,3,4,5,3,4,2,4,3,5,4,3,\n"
     ]
    },
    {
     "name": "stderr",
     "output_type": "stream",
     "text": [
      "The attention mask and the pad token id were not set. As a consequence, you may observe unexpected behavior. Please pass your input's `attention_mask` to obtain reliable results.\n",
      "Setting `pad_token_id` to `eos_token_id`:50256 for open-end generation.\n"
     ]
    },
    {
     "name": "stdout",
     "output_type": "stream",
     "text": [
      "5,5,3,5,4,4,3,4,5,2,1,5,5,3,5,4,4,3,4,5,2,1,5,5,3,5,4,4,3,4,5,2,1,5,5,3,5,4,4,3,4,5,2,1,5,5,3,5,4,4,4,4,4,3,4,4,3,2,5,4,4,4,4,3,5,4,2,3,5,2,4,2,1,1,5,5,5,5,5,2,1,5,1,5,5,5,5,3,5,5,5,5,5,3,3,5,4,5,5,3,\n"
     ]
    },
    {
     "name": "stderr",
     "output_type": "stream",
     "text": [
      "The attention mask and the pad token id were not set. As a consequence, you may observe unexpected behavior. Please pass your input's `attention_mask` to obtain reliable results.\n",
      "Setting `pad_token_id` to `eos_token_id`:50256 for open-end generation.\n"
     ]
    },
    {
     "name": "stdout",
     "output_type": "stream",
     "text": [
      "1,5,5,3,5,4,4,3,4,5,2,1,5,5,3,5,4,4,3,4,5,2,1,5,5,3,5,4,4,3,4,5,2,1,5,5,3,5,4,4,3,4,5,2,1,5,5,3,5,4,4,4,4,4,4,4,4,33,4,4,4,4,4,3,4,31,5,5,2,5,2,5,5,5,2,5,5,2,2,1,5,1,5,5,5,5,3,4,5,5,5,5,3,4,5,1,5,5,3,\n"
     ]
    },
    {
     "name": "stderr",
     "output_type": "stream",
     "text": [
      "The attention mask and the pad token id were not set. As a consequence, you may observe unexpected behavior. Please pass your input's `attention_mask` to obtain reliable results.\n",
      "Setting `pad_token_id` to `eos_token_id`:50256 for open-end generation.\n"
     ]
    },
    {
     "name": "stdout",
     "output_type": "stream",
     "text": [
      "2,3,3,1,3,2,2,4,2,5,1,2,3,3,1,3,2,2,4,2,5,1,2,3,3,1,3,2,2,4,2,5,1,2,3,3,1,3,2,2,4,2,5,1,2,3,3,1,3,2,2,2,2,2,2,2,2,2,2,2,4,4,2,5,2,2,2,5,5,4,2,2,4,4,5,2,3,3,2,3,1,3,4,4,3,3,3,3,1,3,3,3,1,1,3,3,3,1,3,1,\n"
     ]
    },
    {
     "name": "stderr",
     "output_type": "stream",
     "text": [
      "The attention mask and the pad token id were not set. As a consequence, you may observe unexpected behavior. Please pass your input's `attention_mask` to obtain reliable results.\n",
      "Setting `pad_token_id` to `eos_token_id`:50256 for open-end generation.\n"
     ]
    },
    {
     "name": "stdout",
     "output_type": "stream",
     "text": [
      "3,5,4,4,3,4,5,2,1,5,5,3,5,4,4,3,4,5,2,1,5,5,3,5,4,4,3,4,5,2,1,5,5,3,5,4,4,3,4,5,2,1,5,5,3,5,4,4,3,4,4,5,2,5,2,2,5,5,5,2,2,1,5,5,5,5,5,5,4,5,5,3,5,4,5,4,3,4,4,4,4,4,3,4,4,3,4,3,4,3,4,5,5,4,2,4,3,4,4,3,\n"
     ]
    },
    {
     "name": "stderr",
     "output_type": "stream",
     "text": [
      "The attention mask and the pad token id were not set. As a consequence, you may observe unexpected behavior. Please pass your input's `attention_mask` to obtain reliable results.\n",
      "Setting `pad_token_id` to `eos_token_id`:50256 for open-end generation.\n"
     ]
    },
    {
     "name": "stdout",
     "output_type": "stream",
     "text": [
      "4,5,2,1,5,5,3,5,4,4,3,4,5,2,1,5,5,3,5,4,4,3,4,5,2,1,5,5,3,5,4,4,3,4,5,2,1,5,5,3,5,4,4,3,4,5,2,1,5,5,5,5,5,5,3,3,5,3,5,5,4,4,5,4,4,4,4,3,3,4,4,4,3,4,4,4,3,3,3,4,4,4,5,4,5,5,2,2,2,1,2,5,1,5,5,5,1,5,2,1,\n"
     ]
    },
    {
     "name": "stderr",
     "output_type": "stream",
     "text": [
      "The attention mask and the pad token id were not set. As a consequence, you may observe unexpected behavior. Please pass your input's `attention_mask` to obtain reliable results.\n",
      "Setting `pad_token_id` to `eos_token_id`:50256 for open-end generation.\n"
     ]
    },
    {
     "name": "stdout",
     "output_type": "stream",
     "text": [
      "5,2,1,5,5,3,5,4,4,3,4,5,2,1,5,5,3,5,4,4,3,4,5,2,1,5,5,3,5,4,4,3,4,5,2,1,5,5,3,5,4,4,3,4,5,2,1,5,5,3,5,5,3,5,3,4,4,4,5,4,4,4,4,3,4,4,3,3,3,4,4,4,3,4,5,4,4,3,3,4,5,2,5,4,1,5,2,2,2,1,1,5,5,5,5,5,1,5,5,5,\n"
     ]
    },
    {
     "name": "stderr",
     "output_type": "stream",
     "text": [
      "The attention mask and the pad token id were not set. As a consequence, you may observe unexpected behavior. Please pass your input's `attention_mask` to obtain reliable results.\n",
      "Setting `pad_token_id` to `eos_token_id`:50256 for open-end generation.\n"
     ]
    },
    {
     "name": "stdout",
     "output_type": "stream",
     "text": [
      "1,2,3,3,1,3,2,2,4,2,5,1,2,3,3,1,3,2,2,4,2,5,1,2,3,3,1,3,2,2,4,2,5,1,2,3,3,1,3,2,2,4,2,5,1,2,3,3,1,3,3,2,3,3,2,2,2,2,2,2,1,4,2,2,2,2,4,2,2,4,2,2,5,4,4,2,3,5,2,5,1,1,3,2,3,3,3,3,1,3,3,3,1,3,3,3,1,3,1,3,\n"
     ]
    },
    {
     "name": "stderr",
     "output_type": "stream",
     "text": [
      "The attention mask and the pad token id were not set. As a consequence, you may observe unexpected behavior. Please pass your input's `attention_mask` to obtain reliable results.\n",
      "Setting `pad_token_id` to `eos_token_id`:50256 for open-end generation.\n"
     ]
    },
    {
     "name": "stdout",
     "output_type": "stream",
     "text": [
      "2,3,3,1,3,2,2,4,2,5,1,2,3,3,1,3,2,2,4,2,5,1,2,3,3,1,3,2,2,4,2,5,1,2,3,3,1,3,2,2,4,2,5,1,2,3,3,1,3,2,2,2,2,2,2,2,2,2,2,2,4,4,2,5,2,2,2,4,2,4,2,2,5,4,5,2,3,3,2,3,1,3,4,4,3,3,3,3,1,3,3,3,1,1,3,3,3,1,3,1,\n"
     ]
    },
    {
     "name": "stderr",
     "output_type": "stream",
     "text": [
      "The attention mask and the pad token id were not set. As a consequence, you may observe unexpected behavior. Please pass your input's `attention_mask` to obtain reliable results.\n",
      "Setting `pad_token_id` to `eos_token_id`:50256 for open-end generation.\n"
     ]
    },
    {
     "name": "stdout",
     "output_type": "stream",
     "text": [
      "3,5,4,4,3,4,5,2,1,5,5,3,5,4,4,3,4,5,2,1,5,5,3,5,4,4,3,4,5,2,1,5,5,3,5,4,4,3,4,5,2,1,5,5,3,5,4,4,3,4,4,5,2,5,2,2,5,5,5,2,2,1,5,5,5,5,5,5,4,5,5,3,5,4,5,4,3,4,4,4,4,4,3,4,4,3,4,3,4,3,4,5,5,4,2,4,3,4,4,3,\n"
     ]
    },
    {
     "name": "stderr",
     "output_type": "stream",
     "text": [
      "The attention mask and the pad token id were not set. As a consequence, you may observe unexpected behavior. Please pass your input's `attention_mask` to obtain reliable results.\n",
      "Setting `pad_token_id` to `eos_token_id`:50256 for open-end generation.\n"
     ]
    },
    {
     "name": "stdout",
     "output_type": "stream",
     "text": [
      "4,3,4,5,2,1,5,5,3,5,4,4,3,4,5,2,1,5,5,3,5,4,4,3,4,5,2,1,5,5,3,5,4,4,3,4,5,2,1,5,5,3,5,4,4,3,4,5,2,1,1,1,5,5,1,5,5,5,5,5,4,3,5,5,5,4,4,2,4,4,5,4,4,4,3,4,4,4,3,4,3,4,5,4,5,4,4,3,4,3,4,5,5,2,2,2,4,5,4,3,\n"
     ]
    },
    {
     "name": "stderr",
     "output_type": "stream",
     "text": [
      "The attention mask and the pad token id were not set. As a consequence, you may observe unexpected behavior. Please pass your input's `attention_mask` to obtain reliable results.\n",
      "Setting `pad_token_id` to `eos_token_id`:50256 for open-end generation.\n"
     ]
    },
    {
     "name": "stdout",
     "output_type": "stream",
     "text": [
      "5,5,3,5,4,4,3,4,5,2,1,5,5,3,5,4,4,3,4,5,2,1,5,5,3,5,4,4,3,4,5,2,1,5,5,3,5,4,4,3,4,5,2,1,5,5,3,5,4,4,4,4,4,3,4,4,4,3,4,4,2,1,5,5,5,5,5,5,2,5,5,3,5,4,5,2,5,5,3,4,5,4,1,4,5,5,4,4,4,4,4,5,4,4,3,5,4,4,4,3,\n"
     ]
    },
    {
     "name": "stderr",
     "output_type": "stream",
     "text": [
      "The attention mask and the pad token id were not set. As a consequence, you may observe unexpected behavior. Please pass your input's `attention_mask` to obtain reliable results.\n",
      "Setting `pad_token_id` to `eos_token_id`:50256 for open-end generation.\n"
     ]
    },
    {
     "name": "stdout",
     "output_type": "stream",
     "text": [
      "1,2,3,3,1,3,2,2,4,2,5,1,2,3,3,1,3,2,2,4,2,5,1,2,3,3,1,3,2,2,4,2,5,1,2,3,3,1,3,2,2,4,2,5,1,2,3,3,1,3,3,2,3,3,2,2,2,2,2,2,1,4,2,2,2,2,5,2,5,4,2,2,4,4,5,2,3,3,2,4,5,1,5,2,3,3,3,3,1,3,3,3,1,3,3,3,1,3,1,3,\n"
     ]
    },
    {
     "name": "stderr",
     "output_type": "stream",
     "text": [
      "The attention mask and the pad token id were not set. As a consequence, you may observe unexpected behavior. Please pass your input's `attention_mask` to obtain reliable results.\n",
      "Setting `pad_token_id` to `eos_token_id`:50256 for open-end generation.\n"
     ]
    },
    {
     "name": "stdout",
     "output_type": "stream",
     "text": [
      "2,5,1,2,3,3,1,3,2,2,4,2,5,1,2,3,3,1,3,2,2,4,2,5,1,2,3,3,1,3,2,2,4,2,5,1,2,3,3,1,3,2,2,4,2,5,1,2,3,3,3,3,3,3,3,1,3,3,1,3,1,3,3,1,2,2,2,2,2,4,2,2,4,4,2,2,5,5,2,2,5,1,4,2,4,5,1,5,1,2,3,5,2,1,1,2,2,2,3,3,\n"
     ]
    },
    {
     "name": "stderr",
     "output_type": "stream",
     "text": [
      "The attention mask and the pad token id were not set. As a consequence, you may observe unexpected behavior. Please pass your input's `attention_mask` to obtain reliable results.\n",
      "Setting `pad_token_id` to `eos_token_id`:50256 for open-end generation.\n"
     ]
    },
    {
     "name": "stdout",
     "output_type": "stream",
     "text": [
      "3,5,4,4,3,4,5,2,1,5,5,3,5,4,4,3,4,5,2,1,5,5,3,5,4,4,3,4,5,2,1,5,5,3,5,4,4,3,4,5,2,1,5,5,3,5,4,4,3,4,4,5,2,5,2,2,5,5,5,2,2,1,5,5,5,5,5,5,4,5,5,3,5,4,5,4,3,4,4,4,4,4,3,4,4,3,4,4,3,3,4,4,5,4,2,3,3,4,4,3,\n"
     ]
    },
    {
     "name": "stderr",
     "output_type": "stream",
     "text": [
      "The attention mask and the pad token id were not set. As a consequence, you may observe unexpected behavior. Please pass your input's `attention_mask` to obtain reliable results.\n",
      "Setting `pad_token_id` to `eos_token_id`:50256 for open-end generation.\n"
     ]
    },
    {
     "name": "stdout",
     "output_type": "stream",
     "text": [
      "4,1,1,4,1,1,4,1,1,4,1,1,4,1,1,4,1,1,4,1,1,4,1,1,4,1,1,4,1,1,4,1,1,4,1,1,4,1,1,4,1,1,4,1,1,4,1,1,4,1,1,1,1,1,1,1,1,1,4,4,1,1,4,1,4,1,1,1,1,1,1,4,1,4,1,1,4,1,1,1,1,1,1,4,1,4,1,1,1,1,1,4,1,1,4,4,1,1,1,1,\n"
     ]
    },
    {
     "name": "stderr",
     "output_type": "stream",
     "text": [
      "The attention mask and the pad token id were not set. As a consequence, you may observe unexpected behavior. Please pass your input's `attention_mask` to obtain reliable results.\n",
      "Setting `pad_token_id` to `eos_token_id`:50256 for open-end generation.\n"
     ]
    },
    {
     "name": "stdout",
     "output_type": "stream",
     "text": [
      "5,1,2,3,3,1,3,2,2,4,2,5,1,2,3,3,1,3,2,2,4,2,5,1,2,3,3,1,3,2,2,4,2,5,1,2,3,3,1,3,2,2,4,2,5,1,2,3,3,1,1,3,3,1,2,2,2,2,2,2,4,4,2,2,2,4,2,2,2,4,2,2,5,4,5,2,5,3,1,5,1,1,3,2,3,3,3,3,3,3,3,3,1,1,3,3,3,3,1,1,\n"
     ]
    },
    {
     "name": "stderr",
     "output_type": "stream",
     "text": [
      "The attention mask and the pad token id were not set. As a consequence, you may observe unexpected behavior. Please pass your input's `attention_mask` to obtain reliable results.\n",
      "Setting `pad_token_id` to `eos_token_id`:50256 for open-end generation.\n"
     ]
    },
    {
     "name": "stdout",
     "output_type": "stream",
     "text": [
      "1,1,4,1,1,4,1,1,4,1,1,4,1,1,4,1,1,4,1,1,4,1,1,4,1,1,4,1,1,4,1,1,4,1,1,4,1,1,4,1,1,4,1,1,4,1,1,4,1,1,1,1,4,1,1,1,1,4,4,4,1,1,4,1,1,1,1,1,1,1,4,1,1,4,1,1,4,1,1,4,1,1,1,1,4,1,1,1,1,1,4,4,1,1,1,1,1,4,1,1,\n"
     ]
    },
    {
     "name": "stderr",
     "output_type": "stream",
     "text": [
      "The attention mask and the pad token id were not set. As a consequence, you may observe unexpected behavior. Please pass your input's `attention_mask` to obtain reliable results.\n",
      "Setting `pad_token_id` to `eos_token_id`:50256 for open-end generation.\n"
     ]
    },
    {
     "name": "stdout",
     "output_type": "stream",
     "text": [
      "2,4,2,5,1,2,3,3,1,3,2,2,4,2,5,1,2,3,3,1,3,2,2,4,2,5,1,2,3,3,1,3,2,2,4,2,5,1,2,3,3,1,3,2,2,4,2,5,1,2,2,3,3,3,3,3,3,3,3,3,1,3,3,1,3,1,3,2,3,2,2,2,2,4,2,2,4,2,2,2,4,2,5,2,4,5,2,5,1,1,4,5,5,1,1,2,1,2,2,3,\n"
     ]
    },
    {
     "name": "stderr",
     "output_type": "stream",
     "text": [
      "The attention mask and the pad token id were not set. As a consequence, you may observe unexpected behavior. Please pass your input's `attention_mask` to obtain reliable results.\n",
      "Setting `pad_token_id` to `eos_token_id`:50256 for open-end generation.\n"
     ]
    },
    {
     "name": "stdout",
     "output_type": "stream",
     "text": [
      "3,5,4,4,3,4,5,2,1,5,5,3,5,4,4,3,4,5,2,1,5,5,3,5,4,4,3,4,5,2,1,5,5,3,5,4,4,3,4,5,2,1,5,5,3,5,4,4,3,4,4,5,2,5,2,2,5,5,5,2,2,1,5,5,5,5,5,5,4,5,5,3,5,4,5,4,3,4,4,4,4,4,3,4,4,3,4,3,4,3,4,5,5,4,2,4,3,4,4,3,\n"
     ]
    },
    {
     "name": "stderr",
     "output_type": "stream",
     "text": [
      "The attention mask and the pad token id were not set. As a consequence, you may observe unexpected behavior. Please pass your input's `attention_mask` to obtain reliable results.\n",
      "Setting `pad_token_id` to `eos_token_id`:50256 for open-end generation.\n"
     ]
    },
    {
     "name": "stdout",
     "output_type": "stream",
     "text": [
      "4,5,2,1,5,5,3,5,4,4,3,4,5,2,1,5,5,3,5,4,4,3,4,5,2,1,5,5,3,5,4,4,3,4,5,2,1,5,5,3,5,4,4,3,4,5,2,1,5,5,5,5,5,5,5,3,5,3,5,4,4,4,5,4,4,4,3,3,3,4,5,4,4,4,4,4,3,3,3,4,4,4,5,4,5,5,2,2,2,1,2,5,1,5,5,5,1,5,5,1,\n"
     ]
    },
    {
     "name": "stderr",
     "output_type": "stream",
     "text": [
      "The attention mask and the pad token id were not set. As a consequence, you may observe unexpected behavior. Please pass your input's `attention_mask` to obtain reliable results.\n",
      "Setting `pad_token_id` to `eos_token_id`:50256 for open-end generation.\n"
     ]
    },
    {
     "name": "stdout",
     "output_type": "stream",
     "text": [
      "5,2,1,5,5,3,5,4,4,3,4,5,2,1,5,5,3,5,4,4,3,4,5,2,1,5,5,3,5,4,4,3,4,5,2,1,5,5,3,5,4,4,3,4,5,2,1,5,5,3,5,5,3,5,3,4,4,4,5,4,4,4,4,3,4,4,3,3,3,4,4,4,3,4,5,4,4,3,3,4,5,2,5,4,1,4,2,2,2,5,1,5,2,1,1,5,5,5,5,1,\n"
     ]
    },
    {
     "name": "stderr",
     "output_type": "stream",
     "text": [
      "The attention mask and the pad token id were not set. As a consequence, you may observe unexpected behavior. Please pass your input's `attention_mask` to obtain reliable results.\n",
      "Setting `pad_token_id` to `eos_token_id`:50256 for open-end generation.\n"
     ]
    },
    {
     "name": "stdout",
     "output_type": "stream",
     "text": [
      "1,3,2,2,4,2,5,1,2,3,3,1,3,2,2,4,2,5,1,2,3,3,1,3,2,2,4,2,5,1,2,3,3,1,3,2,2,4,2,5,1,2,3,3,1,3,2,2,4,2,2,5,5,2,1,1,3,3,3,3,1,3,3,3,1,1,3,3,1,2,3,3,2,2,3,1,2,2,2,2,2,2,4,2,4,4,2,5,2,5,5,5,1,1,1,2,1,2,2,3,\n"
     ]
    },
    {
     "name": "stderr",
     "output_type": "stream",
     "text": [
      "The attention mask and the pad token id were not set. As a consequence, you may observe unexpected behavior. Please pass your input's `attention_mask` to obtain reliable results.\n",
      "Setting `pad_token_id` to `eos_token_id`:50256 for open-end generation.\n"
     ]
    },
    {
     "name": "stdout",
     "output_type": "stream",
     "text": [
      "2,2,4,2,5,1,2,3,3,1,3,2,2,4,2,5,1,2,3,3,1,3,2,2,4,2,5,1,2,3,3,1,3,2,2,4,2,5,1,2,3,3,1,3,2,2,4,2,5,1,1,1,3,2,3,3,3,3,3,3,5,3,3,1,3,1,2,3,3,1,3,3,3,1,3,1,2,3,2,2,2,1,2,2,4,2,2,2,2,2,4,4,2,5,4,2,2,2,5,5,\n"
     ]
    },
    {
     "name": "stderr",
     "output_type": "stream",
     "text": [
      "The attention mask and the pad token id were not set. As a consequence, you may observe unexpected behavior. Please pass your input's `attention_mask` to obtain reliable results.\n",
      "Setting `pad_token_id` to `eos_token_id`:50256 for open-end generation.\n"
     ]
    },
    {
     "name": "stdout",
     "output_type": "stream",
     "text": [
      "3,2,2,4,2,5,1,2,3,3,1,3,2,2,4,2,5,1,2,3,3,1,3,2,2,4,2,5,1,2,3,3,1,3,2,2,4,2,5,1,2,3,3,1,3,2,2,4,2,5,5,5,4,2,5,1,3,3,3,3,1,3,3,1,3,1,3,3,1,3,3,3,1,1,3,1,5,3,2,2,2,1,2,2,4,2,2,2,2,2,4,5,2,1,4,2,2,5,2,4,\n"
     ]
    },
    {
     "name": "stderr",
     "output_type": "stream",
     "text": [
      "The attention mask and the pad token id were not set. As a consequence, you may observe unexpected behavior. Please pass your input's `attention_mask` to obtain reliable results.\n",
      "Setting `pad_token_id` to `eos_token_id`:50256 for open-end generation.\n"
     ]
    },
    {
     "name": "stdout",
     "output_type": "stream",
     "text": [
      "4,5,2,1,5,5,3,5,4,4,3,4,5,2,1,5,5,3,5,4,4,3,4,5,2,1,5,5,3,5,4,4,3,4,5,2,1,5,5,3,5,4,4,3,4,5,2,1,5,5,5,5,5,5,5,3,5,3,5,4,4,4,5,4,4,4,3,3,3,5,5,4,4,4,4,4,4,3,3,4,4,4,3,4,5,5,4,3,2,4,2,5,4,2,1,5,4,4,4,3,\n",
      "5,5,3,5,4,4,3,4,5,2,1,5,5,3,5,4,4,3,4,5,2,1,5,5,3,5,4,4,3,4,5,2,1,5,5,3,5,4,4,3,4,5,2,1,5,5,3,5,4,4,4,4,4,3,4,4,4,3,4,4,2,1,5,5,5,5,5,5,2,5,5,3,5,4,5,4,3,5,4,4,4,4,1,4,1,4,5,4,2,5,4,5,3,2,5,5,1,5,5,5,\n"
     ]
    }
   ],
   "source": [
    "# Load the model and tokenizer\n",
    "model = GPT2LMHeadModel.from_pretrained('durrant_0/')\n",
    "tokenizer = AutoTokenizer.from_pretrained('durrant_0/')\n",
    "\n",
    "# Set model to evaluation mode\n",
    "model.eval()\n",
    "\n",
    "data = \"\"\n",
    "for num in range(10):\n",
    "    for i in range(1, 6):\n",
    "        input_ids = tokenizer(str(i), return_tensors=\"pt\").input_ids\n",
    "        out = model.generate(input_ids, temperature=0.1, max_length=200, do_sample=True)\n",
    "        out = tokenizer.decode(out[0], skip_special_tokens=True)\n",
    "        data += out"
   ]
  },
  {
   "cell_type": "code",
   "execution_count": 12,
   "metadata": {},
   "outputs": [],
   "source": [
    "data = data.replace('\\n', ',')"
   ]
  },
  {
   "cell_type": "code",
   "execution_count": 13,
   "metadata": {},
   "outputs": [
    {
     "data": {
      "image/png": "[encoded data removed]",
      "text/plain": [
       "<Figure size 500x500 with 2 Axes>"
      ]
     },
     "metadata": {},
     "output_type": "display_data"
    }
   ],
   "source": [
    "data_list = [int(x[0]) for x in data.split(',') if x]\n",
    "\n",
    "# Initialize a dictionary to hold the transition counts\n",
    "transition_counts = {((i, j), k): 0 for i in range(1, 6) for j in range(1, 6) for k in range(1, 6)}\n",
    "\n",
    "# Populate the transition counts\n",
    "for i in range(len(data_list) - 2):\n",
    "    prev_pair = (data_list[i], data_list[i+1])\n",
    "    next_num = data_list[i+2]\n",
    "    transition_counts[(prev_pair, next_num)] += 1\n",
    "\n",
    "# Calculate probabilities from counts\n",
    "transition_probabilities = {}\n",
    "for key, value in transition_counts.items():\n",
    "    prev_pair = key[0]\n",
    "    total_transitions = sum([transition_counts[(prev_pair, k)] for k in range(1, 6)])\n",
    "    if total_transitions > 0:\n",
    "        transition_probabilities[key] = value / total_transitions\n",
    "    else:\n",
    "        transition_probabilities[key] = 0\n",
    "\n",
    "# Prepare data for plotting\n",
    "plot_data = np.zeros((25, 5))  # 25 possible pairs and 5 possible next numbers\n",
    "for i, pair in enumerate(transition_counts.keys()):\n",
    "    y_index = (pair[0][0] - 1) * 5 + (pair[0][1] - 1)\n",
    "    x_index = pair[1] - 1\n",
    "    plot_data[y_index, x_index] = transition_probabilities[pair]\n",
    "\n",
    "# Plot\n",
    "fig, ax = plt.subplots(figsize=(5, 5))\n",
    "cax = ax.matshow(plot_data, cmap='Greys_r')\n",
    "\n",
    "# Set ticks\n",
    "ax.set_xticks(range(5))\n",
    "ax.set_xticklabels(range(1, 6))\n",
    "ax.set_yticks(range(25))\n",
    "ax.set_yticklabels([f'{i//5+1},{i%5+1}' for i in range(25)])\n",
    "\n",
    "ax.set_xlabel('Next Number')\n",
    "ax.set_ylabel('Previous Pair')\n",
    "ax.set_title('Transition Probabilities')\n",
    "\n",
    "plt.colorbar(cax)\n",
    "plt.savefig('trps.png', dpi=500)\n",
    "plt.show()"
   ]
  }
 ],
 "metadata": {
  "kernelspec": {
   "display_name": "Python 3 (ipykernel)",
   "language": "python",
   "name": "python3"
  },
  "language_info": {
   "codemirror_mode": {
    "name": "ipython",
    "version": 3
   },
   "file_extension": ".py",
   "mimetype": "text/x-python",
   "name": "python",
   "nbconvert_exporter": "python",
   "pygments_lexer": "ipython3",
   "version": "3.8.10"
  }
 },
 "nbformat": 4,
 "nbformat_minor": 4
}
