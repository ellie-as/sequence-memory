{
 "cells": [
  {
   "cell_type": "markdown",
   "metadata": {},
   "source": [
    "### Modelling statistical learning\n",
    "\n",
    "To explore the effect of sleep on statistical learning, Durrant et al. (2011) constructed two types of sequence, both made up of regular tones at differing frequencies. One type had a structure in which the preceding two tones determined the next, except for a few transitions which were random to avoid repetition. The other type was the reverse – most transitions were random. After listening to a structured sequence, participants were tested on their ability distinguish short structured and unstructured sequences. Delayed recall was then tested, after a night’s sleep for one group, and after a waking rest for the other. Durrant et al. (2011) found that sleep improved performance more than waking rest, suggesting systems consolidation promotes statistical learning.\n",
    "\n",
    "Here, we generate a set of sequences based on the transition structure in Durrant et al. (2011). A model with the GPT-2 architecture is trained from scratch on the structured sequences only. At the end of each epoch of the training, the perplexity is calculated for a two test sets of structured and unstructured sequences. We find that the difference in perplexity of these two sets increases over time, corresponding to improved ability to distinguish them. In addition, outputs from the trained model are structured in the same way as the training data.\n",
    "\n",
    "Tested with conda_pytorch_latest_p36 kernel in AWS SageMaker."
   ]
  },
  {
   "cell_type": "markdown",
   "metadata": {},
   "source": [
    "#### Installation:"
   ]
  },
  {
   "cell_type": "code",
   "execution_count": null,
   "metadata": {},
   "outputs": [],
   "source": [
    "!pip install simpletransformers"
   ]
  },
  {
   "cell_type": "markdown",
   "metadata": {},
   "source": [
    "#### Imports:"
   ]
  },
  {
   "cell_type": "code",
   "execution_count": null,
   "metadata": {
    "tags": []
   },
   "outputs": [],
   "source": [
    "import sys\n",
    "sys.path.append('../scripts/')\n",
    "\n",
    "import pandas as pd\n",
    "import random\n",
    "import logging\n",
    "from random import shuffle\n",
    "from matplotlib import pyplot as plt\n",
    "from statistical_learning_utils import *\n",
    "from gpt import GPT\n",
    "import os\n",
    "import glob\n",
    "import evaluate\n",
    "import numpy as np"
   ]
  },
  {
   "cell_type": "code",
   "execution_count": null,
   "metadata": {
    "tags": []
   },
   "outputs": [],
   "source": [
    "def get_random_sequence():\n",
    "    start = [random.randint(1,5),random.randint(1,5)]\n",
    "    for i in range(50):\n",
    "        next_val = random.randint(1,5)\n",
    "        start.append(next_val)\n",
    "    return ','.join([str(i) for i in start])\n",
    "\n",
    "text_file = open(\"train.txt\", \"w\")\n",
    "walks = [get_sequence() for i in range(2000)]\n",
    "shuffle(walks)\n",
    "n = text_file.write('\\n'.join(walks))\n",
    "text_file.close()\n",
    "\n",
    "text_file = open(\"val.txt\", \"w\")\n",
    "walks = [get_sequence() for i in range(100)]\n",
    "shuffle(walks)\n",
    "n = text_file.write('\\n'.join(walks))\n",
    "text_file.close()\n",
    "\n",
    "text_file = open(\"structured_test.txt\", \"w\")\n",
    "walks = [get_sequence() for i in range(100)]\n",
    "shuffle(walks)\n",
    "n = text_file.write('\\n'.join(walks))\n",
    "text_file.close()\n",
    "\n",
    "text_file = open(\"unstructured_test.txt\", \"w\")\n",
    "walks = [get_random_sequence() for i in range(100)]\n",
    "shuffle(walks)\n",
    "n = text_file.write('\\n'.join(walks))\n",
    "text_file.close()"
   ]
  },
  {
   "cell_type": "markdown",
   "metadata": {},
   "source": [
    "#### Train generative model\n",
    "\n",
    "Train GPT-2 from scratch on dataset created above."
   ]
  },
  {
   "cell_type": "code",
   "execution_count": null,
   "metadata": {
    "scrolled": true,
    "tags": []
   },
   "outputs": [],
   "source": [
    "structured_test_file = \"structured_test.txt\"\n",
    "unstructured_test_file = \"unstructured_test.txt\"\n",
    "\n",
    "all_unstructured = []\n",
    "all_structured = []\n",
    "\n",
    "for trial in range(3):\n",
    "\n",
    "    !rm -rf durrant_{trial}\n",
    "    !mkdir durrant_{trial}\n",
    "\n",
    "    # Train the model\n",
    "    gpt = GPT(vocab_size=10)\n",
    "    model = gpt.train(segmented_sequence_list=[], \n",
    "                      best_model_dir=f'durrant_{trial}', \n",
    "                      train_file=\"train.txt\", \n",
    "                      test_file=\"val.txt\", \n",
    "                      eps=3,\n",
    "                      seed=trial)"
   ]
  },
  {
   "cell_type": "code",
   "execution_count": null,
   "metadata": {},
   "outputs": [],
   "source": [
    "for trial in range(3):    \n",
    "    \n",
    "    perplexity_structured = []\n",
    "    perplexity_unstructured = []\n",
    "    \n",
    "    for ep in [1, 2, 3]:\n",
    "        pattern = os.path.join(f'./durrant_{trial}', f'*-epoch-{ep}')\n",
    "        model_dir = glob.glob(pattern)[0]\n",
    "\n",
    "        with open(structured_test_file, 'r') as file:\n",
    "            structured_test_examples = file.readlines()\n",
    "        results = perplexity.compute(model_id=model_dir,\n",
    "                             add_start_token=False,\n",
    "                             predictions=structured_test_examples)['mean_perplexity']\n",
    "        perplexity_structured.append(results)\n",
    "\n",
    "        with open(unstructured_test_file, 'r') as file:\n",
    "            unstructured_test_examples = file.readlines()\n",
    "        results = perplexity.compute(model_id=model_dir,\n",
    "                             add_start_token=False,\n",
    "                             predictions=unstructured_test_examples)['mean_perplexity']\n",
    "        perplexity_unstructured.append(results)\n",
    "\n",
    "    all_unstructured.append(perplexity_unstructured)\n",
    "    all_structured.append(perplexity_structured)"
   ]
  },
  {
   "cell_type": "code",
   "execution_count": null,
   "metadata": {},
   "outputs": [],
   "source": [
    "# Convert lists to numpy arrays for easier computation\n",
    "structured_array = np.array(all_structured)\n",
    "unstructured_array = np.array(all_unstructured)\n",
    "\n",
    "# Calculate the average perplexity for each epoch across the three trials\n",
    "avg_structured = np.mean(structured_array, axis=0)\n",
    "avg_unstructured = np.mean(unstructured_array, axis=0)\n",
    "\n",
    "# Calculate the SEM for each epoch across the three trials\n",
    "sem_structured = np.std(structured_array, axis=0) #/ np.sqrt(structured_array.shape[0])\n",
    "sem_unstructured = np.std(unstructured_array, axis=0) #/ np.sqrt(unstructured_array.shape[0])\n",
    "\n",
    "# Print the averages and SEM\n",
    "print(\"Average structured perplexity:\", avg_structured)\n",
    "print(\"SEM structured perplexity:\", sem_structured)\n",
    "print(\"Average unstructured perplexity:\", avg_unstructured)\n",
    "print(\"SEM unstructured perplexity:\", sem_unstructured)\n",
    "\n",
    "# Define the number of epochs\n",
    "epochs = [1, 2, 3]\n",
    "\n",
    "# Create the bar chart\n",
    "fig, ax = plt.subplots(figsize=(4, 2.5))\n",
    "\n",
    "# Bar width\n",
    "bar_width = 0.35\n",
    "\n",
    "# Set positions of the bars on the x-axis\n",
    "r1 = np.arange(len(epochs))\n",
    "r2 = [x + bar_width for x in r1]\n",
    "\n",
    "# Create bars for structured perplexity with error bars\n",
    "ax.bar(r1, avg_structured, color='b', alpha=0.5, width=bar_width, yerr=sem_structured, capsize=5, edgecolor='grey', label='Structured')\n",
    "\n",
    "# Create bars for unstructured perplexity with error bars\n",
    "ax.bar(r2, avg_unstructured, color='r', alpha=0.5, width=bar_width, yerr=sem_unstructured, capsize=5, edgecolor='grey', label='Unstructured')\n",
    "\n",
    "# Add labels\n",
    "ax.set_xlabel('Epoch')\n",
    "ax.set_ylabel('Perplexity')\n",
    "ax.set_xticks([r + bar_width / 2 for r in range(len(epochs))])\n",
    "ax.set_xticklabels(epochs)\n",
    "\n",
    "# Add legend\n",
    "ax.legend()\n",
    "\n",
    "# Show the plot\n",
    "plt.savefig('perplexities.png', dpi=500)\n",
    "plt.show()\n"
   ]
  },
  {
   "cell_type": "markdown",
   "metadata": {},
   "source": [
    "#### Plot perplexity against time"
   ]
  },
  {
   "cell_type": "code",
   "execution_count": null,
   "metadata": {},
   "outputs": [],
   "source": [
    "gpt = GPT(base_model='durrant_0', base_model_name='gpt2')\n",
    "data = \"\"\n",
    "for num in range(50):\n",
    "    for i in range(1, 6):\n",
    "        out = gpt.continue_input(str(i), do_sample=True, temperature=0.1)\n",
    "        data += out"
   ]
  },
  {
   "cell_type": "code",
   "execution_count": null,
   "metadata": {},
   "outputs": [],
   "source": [
    "data_list = [int(x) for x in data.split(',') if x]\n",
    "\n",
    "# Initialize a dictionary to hold the transition counts\n",
    "transition_counts = {((i, j), k): 0 for i in range(1, 6) for j in range(1, 6) for k in range(1, 6)}\n",
    "\n",
    "# Populate the transition counts\n",
    "for i in range(len(data_list) - 2):\n",
    "    prev_pair = (data_list[i], data_list[i+1])\n",
    "    next_num = data_list[i+2]\n",
    "    transition_counts[(prev_pair, next_num)] += 1\n",
    "\n",
    "# Calculate probabilities from counts\n",
    "transition_probabilities = {}\n",
    "for key, value in transition_counts.items():\n",
    "    prev_pair = key[0]\n",
    "    total_transitions = sum([transition_counts[(prev_pair, k)] for k in range(1, 6)])\n",
    "    if total_transitions > 0:\n",
    "        transition_probabilities[key] = value / total_transitions\n",
    "    else:\n",
    "        transition_probabilities[key] = 0\n",
    "\n",
    "# Prepare data for plotting\n",
    "plot_data = np.zeros((25, 5))  # 25 possible pairs and 5 possible next numbers\n",
    "for i, pair in enumerate(transition_counts.keys()):\n",
    "    y_index = (pair[0][0] - 1) * 5 + (pair[0][1] - 1)\n",
    "    x_index = pair[1] - 1\n",
    "    plot_data[y_index, x_index] = 1 - transition_probabilities[pair]\n",
    "\n",
    "# Plot\n",
    "fig, ax = plt.subplots(figsize=(5, 5))\n",
    "cax = ax.matshow(plot_data, cmap='Greys')\n",
    "\n",
    "# Set ticks\n",
    "ax.set_xticks(range(5))\n",
    "ax.set_xticklabels(range(1, 6))\n",
    "ax.set_yticks(range(25))\n",
    "ax.set_yticklabels([f'{i//5+1},{i%5+1}' for i in range(25)])\n",
    "\n",
    "ax.set_xlabel('Next Number')\n",
    "ax.set_ylabel('Previous Pair')\n",
    "ax.set_title('Transition Probabilities')\n",
    "\n",
    "plt.colorbar(cax)\n",
    "plt.savefig('trps.png', dpi=500)\n",
    "plt.show()"
   ]
  }
 ],
 "metadata": {
  "kernelspec": {
   "display_name": "Python 3 (ipykernel)",
   "language": "python",
   "name": "python3"
  },
  "language_info": {
   "codemirror_mode": {
    "name": "ipython",
    "version": 3
   },
   "file_extension": ".py",
   "mimetype": "text/x-python",
   "name": "python",
   "nbconvert_exporter": "python",
   "pygments_lexer": "ipython3",
   "version": "3.10.9"
  }
 },
 "nbformat": 4,
 "nbformat_minor": 4
}
