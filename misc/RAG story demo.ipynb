{
 "cells": [
  {
   "cell_type": "markdown",
   "id": "00cff1b8-5f65-4a7d-96e8-ac53f290ed15",
   "metadata": {},
   "source": [
    "### Recalling narratives with retrieval augmented generation\n",
    "\n",
    "How do hippocampus and neocortex work together to recall narratives (and other sequences), whilst minimising the amount of detail stored in the hippocampus?\n",
    "\n",
    "* Neocortex creates gist\n",
    "* Gist plus unpredictable details stored in HPC\n",
    "* Stimulus triggers recall\n",
    "* Relevant event(s) retrieved from HPC\n",
    "* NC elaborates details"
   ]
  },
  {
   "cell_type": "code",
   "execution_count": null,
   "id": "33498714-cec6-4bc4-b2e8-0d532f473674",
   "metadata": {},
   "outputs": [],
   "source": [
    "!pip install openai --upgrade\n",
    "!pip install llama-index --upgrade"
   ]
  },
  {
   "cell_type": "code",
   "execution_count": 8,
   "id": "b0425e54-7471-4f32-b1b0-b0b30a414bad",
   "metadata": {},
   "outputs": [
    {
     "data": {
      "text/plain": [
       "'This is a test.'"
      ]
     },
     "execution_count": 8,
     "metadata": {},
     "output_type": "execute_result"
    }
   ],
   "source": [
    "import sys\n",
    "sys.path.append('../data/')\n",
    "\n",
    "import os\n",
    "from openai import OpenAI\n",
    "import pandas as pd\n",
    "import random\n",
    "from llama_index.core import VectorStoreIndex, SimpleDirectoryReader\n",
    "from llama_index.core import Document\n",
    "import logging\n",
    "from llama_index.core.query_engine import RetrieverQueryEngine\n",
    "from llama_index.core.retrievers import VectorIndexRetriever\n",
    "from llama_index.core import get_response_synthesizer\n",
    "from llama_index.core.prompts import PromptTemplate\n",
    "\n",
    "logging.basicConfig(stream=sys.stdout, level=logging.ERROR)\n",
    "\n",
    "client = OpenAI(\n",
    "    api_key='ADD YOUR KEY'\n",
    ")\n",
    "\n",
    "os.environ['OPENAI_API_KEY'] = 'ADD YOUR KEY'\n",
    "\n",
    "chat_completion = client.chat.completions.create(\n",
    "    messages=[\n",
    "        {\n",
    "            \"role\": \"user\",\n",
    "            \"content\": \"Say this is a test\",\n",
    "        }\n",
    "    ],\n",
    "    model=\"gpt-3.5-turbo\"\n",
    ")\n",
    "\n",
    "chat_completion.choices[0].message.content"
   ]
  },
  {
   "cell_type": "code",
   "execution_count": 9,
   "id": "2a646b8f-1c16-4545-9f5a-9cbcef78f8d8",
   "metadata": {},
   "outputs": [
    {
     "data": {
      "text/plain": [
       "'Hello! How can I assist you today?'"
      ]
     },
     "execution_count": 9,
     "metadata": {},
     "output_type": "execute_result"
    }
   ],
   "source": [
    "def get_output(input_text):\n",
    "    completion = client.chat.completions.create(\n",
    "        messages=[\n",
    "            {\n",
    "                \"role\": \"user\",\n",
    "                \"content\": input_text,\n",
    "            }\n",
    "        ],\n",
    "        model=\"gpt-3.5-turbo\"\n",
    "    )\n",
    "    output_text = completion.choices[0].message.content\n",
    "    return output_text\n",
    "\n",
    "get_output(\"Hello world\")"
   ]
  },
  {
   "cell_type": "code",
   "execution_count": 10,
   "id": "24c33794-b3ba-4df4-a95c-ca00bf53f93d",
   "metadata": {},
   "outputs": [],
   "source": [
    "def get_stories():\n",
    "    df = pd.read_csv('../data/stories_train.csv')\n",
    "    df['combined'] = df[[f'sentence{i}' for i in range(1,6)]].astype(str).agg(' '.join, axis=1)\n",
    "    return df['combined'].tolist()\n",
    "\n",
    "stories = get_stories()"
   ]
  },
  {
   "cell_type": "code",
   "execution_count": 11,
   "id": "31315745-5e84-4852-a4cd-5d253eb8fcbe",
   "metadata": {
    "scrolled": true
   },
   "outputs": [
    {
     "data": {
      "text/plain": [
       "\"Tom had a very short temper. One day a guest made him very angry. He punched a hole in the wall of his house. Tom's guest became afraid and left quickly. Tom sat on his couch filled with regret about his actions.\""
      ]
     },
     "execution_count": 11,
     "metadata": {},
     "output_type": "execute_result"
    }
   ],
   "source": [
    "stories[1]"
   ]
  },
  {
   "cell_type": "code",
   "execution_count": 12,
   "id": "b434154c-22f4-43cd-9f4e-fd8c2b27b7e1",
   "metadata": {},
   "outputs": [
    {
     "data": {
      "text/plain": [
       "\"Tom's short temper led him to punch a hole in his wall after getting angry at a guest, who then quickly left out of fear. Tom later regretted his actions.\""
      ]
     },
     "execution_count": 12,
     "metadata": {},
     "output_type": "execute_result"
    }
   ],
   "source": [
    "get_output(f\"{stories[1]} Brief summary:\")"
   ]
  },
  {
   "cell_type": "code",
   "execution_count": 13,
   "id": "1b47dd9a-bc58-4486-8356-79c5e4745b0e",
   "metadata": {},
   "outputs": [],
   "source": [
    "gists = [get_output(f\"{story} One line summary:\") for story in stories[0:10]]\n",
    "docs = [Document(text=txt) for txt in gists]\n",
    "index = VectorStoreIndex.from_documents(docs)"
   ]
  },
  {
   "cell_type": "code",
   "execution_count": 14,
   "id": "f41c6b7f-6e9f-4186-9242-78c38f89e9a4",
   "metadata": {
    "scrolled": true
   },
   "outputs": [
    {
     "name": "stdout",
     "output_type": "stream",
     "text": [
      "Event:\n",
      "David noticed he had put on a lot of weight recently. He examined his habits to try and figure out the reason. He realized he'd been eating too much fast food lately. He stopped going to burger places and started a vegetarian diet. After a few weeks, he started to feel much better.\n",
      "Neocortex-generated gist:\n",
      "David made a positive change in his diet and started feeling better after cutting out fast food and switching to a vegetarian diet.\n",
      "-----------\n",
      "Event:\n",
      "Tom had a very short temper. One day a guest made him very angry. He punched a hole in the wall of his house. Tom's guest became afraid and left quickly. Tom sat on his couch filled with regret about his actions.\n",
      "Neocortex-generated gist:\n",
      "Tom let his short temper get the best of him, causing him to punch a hole in the wall in a fit of anger.\n",
      "-----------\n",
      "Event:\n",
      "Marcus needed clothing for a business casual event. All of his clothes were either too formal or too casual. He decided to buy a pair of khakis. The pair he bought fit him perfectly. Marcus was happy to have the right clothes for the event.\n",
      "Neocortex-generated gist:\n",
      "Marcus found the perfect pair of khakis for a business casual event.\n",
      "-----------\n",
      "Event:\n",
      "Bobby thought Bill should buy a trailer and haul it with his car. Bill thought a truck would be better for what he needed. Bobby pointed out two vehicles were much more expensive. Bill was set in his ways with conventional thinking. He ended up buying the truck he wanted despite Bobby's advice.\n",
      "Neocortex-generated gist:\n",
      "Bill chooses to buy a truck despite Bobby's suggestion of a trailer.\n",
      "-----------\n",
      "Event:\n",
      "John was a pastor with a very bad memory. He tried to memorize his sermons many days in advance but to no avail. He decided to learn to sing to overcome his handicap. He then made all his sermons into music and sang them on Sundays. His congregation was delighted and so was he.\n",
      "Neocortex-generated gist:\n",
      "Pastor with bad memory learns to sing sermons and delights congregation.\n",
      "-----------\n",
      "Event:\n",
      "Melody's parents surprised her with a trip to the big aquarium. Melody took a nap during the two hour car ride to the aquarium. When they arrived, Melody was energetic and excited. At the aquarium Melody saw sharks, tropical fish and many others. After five hours at the aquarium, Melody and her family drove home.\n",
      "Neocortex-generated gist:\n",
      " Melody was surprised with a trip to the aquarium and had an exciting day exploring the different exhibits.\n",
      "-----------\n",
      "Event:\n",
      "The math teacher announced a pop quiz as class began. While some students complained, he began passing out the quiz. I took out my pencil and began to work. About 5 minutes later, I finished. I stood up feeling confident and turned it in.\n",
      "Neocortex-generated gist:\n",
      "Confidently finished pop quiz in record time.\n",
      "-----------\n",
      "Event:\n",
      "My first girlfriend i met on the internet. She lives about 4 hours away from me. Finally after 2 years we met each other. She stayed with me for a week or two. We decided we couldn't be apart so she moved in with me.\n",
      "Neocortex-generated gist:\n",
      "Long-distance internet relationship turns into cohabitation after finally meeting in person.\n",
      "-----------\n",
      "Event:\n",
      "I got Charlie Horse when I was four years old. He's a brown stuffed horse, and at 35 I still sleep with him at night. He was my best friend, and always laid at the head of my bed. I laid him next to me, smelling his soft fur every night. I liked to listen to my radio as I fell asleep cuddling him.\n",
      "Neocortex-generated gist:\n",
      " I have slept with my brown stuffed horse, Charlie Horse, since I was four years old.\n",
      "-----------\n",
      "Event:\n",
      "Laura loved corn. So she decided to grow some in her backyard. The whole process of growing them made her very excited. But she realized that they required too much water. So Laura quickly abandoned her corn garden idea.\n",
      "Neocortex-generated gist:\n",
      "Laura's love for corn led her to attempt growing them in her backyard, but the high water requirements caused her to give up on the idea.\n",
      "-----------\n"
     ]
    }
   ],
   "source": [
    "for i in range(0,10):\n",
    "    print(\"Event:\")\n",
    "    print(stories[i])\n",
    "    print(\"Neocortex-generated gist:\")\n",
    "    print(gists[i])\n",
    "    print(\"-----------\")"
   ]
  },
  {
   "cell_type": "code",
   "execution_count": 15,
   "id": "54bf010f-b8f7-459d-9aba-f805c13cb5d8",
   "metadata": {
    "scrolled": true
   },
   "outputs": [],
   "source": [
    "# define custom retriever\n",
    "vector_retriever = VectorIndexRetriever(index=index, similarity_top_k=1)\n",
    "\n",
    "# define response synthesizer\n",
    "response_synthesizer = get_response_synthesizer()\n",
    "\n",
    "# vector query engine\n",
    "query_engine = RetrieverQueryEngine(\n",
    "    retriever=vector_retriever,\n",
    "    response_synthesizer=response_synthesizer,\n",
    ")\n",
    "\n",
    "qa_prompt_tmpl_str = (\n",
    "    \"Context information is below.\\n\"\n",
    "    \"---------------------\\n\"\n",
    "    \"{context_str}\\n\"\n",
    "    \"---------------------\\n\"\n",
    "    \"Given the context information (and extrapolating from it), answer the query in detail.\\n\"\n",
    "    \"Query: {query_str}\\n\"\n",
    "    \"Answer: \"\n",
    ")\n",
    "qa_prompt_tmpl = PromptTemplate(qa_prompt_tmpl_str)\n",
    "\n",
    "query_engine.update_prompts(\n",
    "    {\"response_synthesizer:text_qa_template\": qa_prompt_tmpl}\n",
    ")"
   ]
  },
  {
   "cell_type": "markdown",
   "id": "b0f500ad-f9af-4f37-8100-54e0f15ea485",
   "metadata": {},
   "source": [
    "Example recall 1:"
   ]
  },
  {
   "cell_type": "code",
   "execution_count": 16,
   "id": "a736e0ce-b3d4-43d4-80bd-4e8e7468c3bd",
   "metadata": {
    "scrolled": true
   },
   "outputs": [],
   "source": [
    "response = query_engine.query(\"What happened when Melody's parents surprised her (in detail)?\")"
   ]
  },
  {
   "cell_type": "code",
   "execution_count": 17,
   "id": "41695df4-c24d-4bb3-8c95-212cf106c9eb",
   "metadata": {},
   "outputs": [
    {
     "name": "stdout",
     "output_type": "stream",
     "text": [
      "Original event:\n",
      "Melody's parents surprised her with a trip to the big aquarium. Melody took a nap during the two hour car ride to the aquarium. When they arrived, Melody was energetic and excited. At the aquarium Melody saw sharks, tropical fish and many others. After five hours at the aquarium, Melody and her family drove home.\n",
      "\n",
      "Gist retrieved from hippocampus:\n",
      "Melody was surprised with a trip to the aquarium and had an exciting day exploring the different exhibits.\n",
      "\n",
      "Neocortex-elaborated answer:\n",
      "When Melody's parents surprised her with a trip to the aquarium, she was filled with excitement and joy. They spent the day exploring the various exhibits, marveling at the different sea creatures and learning about marine life. Melody was thrilled to see colorful fish, playful dolphins, graceful sea turtles, and majestic sharks up close. She eagerly listened to the educational talks and interactive demonstrations, soaking in all the information about the ocean and its inhabitants. The experience was not only fun and entertaining but also educational, sparking Melody's curiosity and love for the underwater world. Overall, Melody had a wonderful time at the aquarium, thanks to her parents' thoughtful surprise.\n"
     ]
    }
   ],
   "source": [
    "print(\"Original event:\")\n",
    "print(stories[5])\n",
    "print(\"\\nGist retrieved from hippocampus:\")\n",
    "print(response.source_nodes[0].text)\n",
    "print(\"\\nNeocortex-elaborated answer:\")\n",
    "print(response.response)"
   ]
  },
  {
   "cell_type": "markdown",
   "id": "4202acf6-b3a7-4248-9414-33b12d683fa5",
   "metadata": {},
   "source": [
    "Example recall 2:"
   ]
  },
  {
   "cell_type": "code",
   "execution_count": 18,
   "id": "ee1c43b9-08fc-42c2-a9ce-71720af9efe0",
   "metadata": {
    "scrolled": true
   },
   "outputs": [],
   "source": [
    "response = query_engine.query(\"What happened to John the pastor (in detail)?\")"
   ]
  },
  {
   "cell_type": "code",
   "execution_count": 19,
   "id": "06bb52f9-2036-4c15-99fa-0ea3c0488885",
   "metadata": {},
   "outputs": [
    {
     "name": "stdout",
     "output_type": "stream",
     "text": [
      "Original event:\n",
      "John was a pastor with a very bad memory. He tried to memorize his sermons many days in advance but to no avail. He decided to learn to sing to overcome his handicap. He then made all his sermons into music and sang them on Sundays. His congregation was delighted and so was he.\n",
      "\n",
      "Gist retrieved from hippocampus:\n",
      "Pastor with bad memory learns to sing sermons and delights congregation.\n",
      "\n",
      "Neocortex-elaborated answer:\n",
      "John, the pastor with a bad memory, faced challenges in delivering his sermons due to his forgetfulness. However, he found a creative solution by learning to sing his sermons instead. This not only helped him remember the content of his sermons but also delighted his congregation. By incorporating music into his sermons, John was able to engage his audience in a new and unique way, making his messages more memorable and impactful. This adaptation not only improved John's ability to deliver sermons effectively but also brought joy and inspiration to those who listened to him. Overall, John's decision to sing his sermons was a successful and innovative solution to his memory struggles, ultimately strengthening his connection with his congregation.\n"
     ]
    }
   ],
   "source": [
    "print(\"Original event:\")\n",
    "print(stories[4])\n",
    "print(\"\\nGist retrieved from hippocampus:\")\n",
    "print(response.source_nodes[0].text)\n",
    "print(\"\\nNeocortex-elaborated answer:\")\n",
    "print(response.response)"
   ]
  }
 ],
 "metadata": {
  "kernelspec": {
   "display_name": "Python 3 (ipykernel)",
   "language": "python",
   "name": "python3"
  },
  "language_info": {
   "codemirror_mode": {
    "name": "ipython",
    "version": 3
   },
   "file_extension": ".py",
   "mimetype": "text/x-python",
   "name": "python",
   "nbconvert_exporter": "python",
   "pygments_lexer": "ipython3",
   "version": "3.10.9"
  }
 },
 "nbformat": 4,
 "nbformat_minor": 5
}
