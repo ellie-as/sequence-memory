{
 "cells": [
  {
   "cell_type": "markdown",
   "id": "d9268b06-9d54-4194-be41-53315d3f5990",
   "metadata": {
    "id": "d9268b06-9d54-4194-be41-53315d3f5990"
   },
   "source": [
    "### Modelling distortions in narratives\n",
    "\n",
    "An (overfitted) transformer-based model such as GPT-2 can memorise its training data. Here we explore distortions in the resulting model when trained on narratives, comparing the results to Raykov et al. (2023)."
   ]
  },
  {
   "cell_type": "markdown",
   "id": "61b9ad59-1d63-444a-b553-f25aa9b5004c",
   "metadata": {
    "id": "61b9ad59-1d63-444a-b553-f25aa9b5004c"
   },
   "source": [
    "Local:"
   ]
  },
  {
   "cell_type": "code",
   "execution_count": null,
   "id": "acfff0d2-ceca-4d74-9579-275fdca0e012",
   "metadata": {
    "id": "acfff0d2-ceca-4d74-9579-275fdca0e012",
    "tags": []
   },
   "outputs": [],
   "source": [
    "!pip install simpletransformers torch"
   ]
  },
  {
   "cell_type": "markdown",
   "id": "f1f0560f-0fd5-405e-a03f-3e9d128b0cd8",
   "metadata": {
    "id": "f1f0560f-0fd5-405e-a03f-3e9d128b0cd8"
   },
   "source": [
    "Colab:"
   ]
  },
  {
   "cell_type": "code",
   "execution_count": 10,
   "id": "c32649fe-09ec-4351-96fd-3791d50ffd4b",
   "metadata": {
    "colab": {
     "base_uri": "https://localhost:8080/"
    },
    "collapsed": true,
    "id": "c32649fe-09ec-4351-96fd-3791d50ffd4b",
    "jupyter": {
     "outputs_hidden": true
    },
    "outputId": "a54ef9dc-e1bb-4b1e-93ce-028f989d3dc2"
   },
   "outputs": [
    {
     "name": "stdout",
     "output_type": "stream",
     "text": [
      "Requirement already satisfied: transformers in /usr/local/lib/python3.10/dist-packages (4.44.2)\n",
      "Requirement already satisfied: torch in /usr/local/lib/python3.10/dist-packages (2.4.1+cu121)\n",
      "Collecting simpletransformers\n",
      "  Downloading simpletransformers-0.70.1-py3-none-any.whl.metadata (42 kB)\n",
      "\u001b[2K     \u001b[90m━━━━━━━━━━━━━━━━━━━━━━━━━━━━━━━━━━━━━━━━\u001b[0m \u001b[32m42.4/42.4 kB\u001b[0m \u001b[31m2.2 MB/s\u001b[0m eta \u001b[36m0:00:00\u001b[0m\n",
      "\u001b[?25hCollecting evaluate\n",
      "  Downloading evaluate-0.4.3-py3-none-any.whl.metadata (9.2 kB)\n",
      "Requirement already satisfied: accelerate in /usr/local/lib/python3.10/dist-packages (0.34.2)\n",
      "Collecting datasets\n",
      "  Downloading datasets-3.0.1-py3-none-any.whl.metadata (20 kB)\n",
      "Requirement already satisfied: filelock in /usr/local/lib/python3.10/dist-packages (from transformers) (3.16.1)\n",
      "Requirement already satisfied: huggingface-hub<1.0,>=0.23.2 in /usr/local/lib/python3.10/dist-packages (from transformers) (0.24.7)\n",
      "Requirement already satisfied: numpy>=1.17 in /usr/local/lib/python3.10/dist-packages (from transformers) (1.26.4)\n",
      "Requirement already satisfied: packaging>=20.0 in /usr/local/lib/python3.10/dist-packages (from transformers) (24.1)\n",
      "Requirement already satisfied: pyyaml>=5.1 in /usr/local/lib/python3.10/dist-packages (from transformers) (6.0.2)\n",
      "Requirement already satisfied: regex!=2019.12.17 in /usr/local/lib/python3.10/dist-packages (from transformers) (2024.9.11)\n",
      "Requirement already satisfied: requests in /usr/local/lib/python3.10/dist-packages (from transformers) (2.32.3)\n",
      "Requirement already satisfied: safetensors>=0.4.1 in /usr/local/lib/python3.10/dist-packages (from transformers) (0.4.5)\n",
      "Requirement already satisfied: tokenizers<0.20,>=0.19 in /usr/local/lib/python3.10/dist-packages (from transformers) (0.19.1)\n",
      "Requirement already satisfied: tqdm>=4.27 in /usr/local/lib/python3.10/dist-packages (from transformers) (4.66.5)\n",
      "Requirement already satisfied: typing-extensions>=4.8.0 in /usr/local/lib/python3.10/dist-packages (from torch) (4.12.2)\n",
      "Requirement already satisfied: sympy in /usr/local/lib/python3.10/dist-packages (from torch) (1.13.3)\n",
      "Requirement already satisfied: networkx in /usr/local/lib/python3.10/dist-packages (from torch) (3.4.1)\n",
      "Requirement already satisfied: jinja2 in /usr/local/lib/python3.10/dist-packages (from torch) (3.1.4)\n",
      "Requirement already satisfied: fsspec in /usr/local/lib/python3.10/dist-packages (from torch) (2024.6.1)\n",
      "Requirement already satisfied: scipy in /usr/local/lib/python3.10/dist-packages (from simpletransformers) (1.13.1)\n",
      "Requirement already satisfied: scikit-learn in /usr/local/lib/python3.10/dist-packages (from simpletransformers) (1.5.2)\n",
      "Collecting seqeval (from simpletransformers)\n",
      "  Downloading seqeval-1.2.2.tar.gz (43 kB)\n",
      "\u001b[2K     \u001b[90m━━━━━━━━━━━━━━━━━━━━━━━━━━━━━━━━━━━━━━━━\u001b[0m \u001b[32m43.6/43.6 kB\u001b[0m \u001b[31m4.5 MB/s\u001b[0m eta \u001b[36m0:00:00\u001b[0m\n",
      "\u001b[?25h  Preparing metadata (setup.py) ... \u001b[?25l\u001b[?25hdone\n",
      "Requirement already satisfied: tensorboard in /usr/local/lib/python3.10/dist-packages (from simpletransformers) (2.17.0)\n",
      "Collecting tensorboardx (from simpletransformers)\n",
      "  Downloading tensorboardX-2.6.2.2-py2.py3-none-any.whl.metadata (5.8 kB)\n",
      "Requirement already satisfied: pandas in /usr/local/lib/python3.10/dist-packages (from simpletransformers) (2.2.2)\n",
      "Requirement already satisfied: wandb>=0.10.32 in /usr/local/lib/python3.10/dist-packages (from simpletransformers) (0.18.3)\n",
      "Collecting streamlit (from simpletransformers)\n",
      "  Downloading streamlit-1.39.0-py2.py3-none-any.whl.metadata (8.5 kB)\n",
      "Requirement already satisfied: sentencepiece in /usr/local/lib/python3.10/dist-packages (from simpletransformers) (0.2.0)\n",
      "Collecting dill (from evaluate)\n",
      "  Downloading dill-0.3.9-py3-none-any.whl.metadata (10 kB)\n",
      "Collecting xxhash (from evaluate)\n",
      "  Downloading xxhash-3.5.0-cp310-cp310-manylinux_2_17_x86_64.manylinux2014_x86_64.whl.metadata (12 kB)\n",
      "Collecting multiprocess (from evaluate)\n",
      "  Downloading multiprocess-0.70.17-py310-none-any.whl.metadata (7.2 kB)\n",
      "Requirement already satisfied: psutil in /usr/local/lib/python3.10/dist-packages (from accelerate) (5.9.5)\n",
      "Requirement already satisfied: pyarrow>=15.0.0 in /usr/local/lib/python3.10/dist-packages (from datasets) (16.1.0)\n",
      "Collecting dill (from evaluate)\n",
      "  Downloading dill-0.3.8-py3-none-any.whl.metadata (10 kB)\n",
      "Requirement already satisfied: aiohttp in /usr/local/lib/python3.10/dist-packages (from datasets) (3.10.10)\n",
      "Requirement already satisfied: aiohappyeyeballs>=2.3.0 in /usr/local/lib/python3.10/dist-packages (from aiohttp->datasets) (2.4.3)\n",
      "Requirement already satisfied: aiosignal>=1.1.2 in /usr/local/lib/python3.10/dist-packages (from aiohttp->datasets) (1.3.1)\n",
      "Requirement already satisfied: attrs>=17.3.0 in /usr/local/lib/python3.10/dist-packages (from aiohttp->datasets) (24.2.0)\n",
      "Requirement already satisfied: frozenlist>=1.1.1 in /usr/local/lib/python3.10/dist-packages (from aiohttp->datasets) (1.4.1)\n",
      "Requirement already satisfied: multidict<7.0,>=4.5 in /usr/local/lib/python3.10/dist-packages (from aiohttp->datasets) (6.1.0)\n",
      "Requirement already satisfied: yarl<2.0,>=1.12.0 in /usr/local/lib/python3.10/dist-packages (from aiohttp->datasets) (1.15.2)\n",
      "Requirement already satisfied: async-timeout<5.0,>=4.0 in /usr/local/lib/python3.10/dist-packages (from aiohttp->datasets) (4.0.3)\n",
      "Requirement already satisfied: charset-normalizer<4,>=2 in /usr/local/lib/python3.10/dist-packages (from requests->transformers) (3.4.0)\n",
      "Requirement already satisfied: idna<4,>=2.5 in /usr/local/lib/python3.10/dist-packages (from requests->transformers) (3.10)\n",
      "Requirement already satisfied: urllib3<3,>=1.21.1 in /usr/local/lib/python3.10/dist-packages (from requests->transformers) (2.2.3)\n",
      "Requirement already satisfied: certifi>=2017.4.17 in /usr/local/lib/python3.10/dist-packages (from requests->transformers) (2024.8.30)\n",
      "Requirement already satisfied: click!=8.0.0,>=7.1 in /usr/local/lib/python3.10/dist-packages (from wandb>=0.10.32->simpletransformers) (8.1.7)\n",
      "Requirement already satisfied: docker-pycreds>=0.4.0 in /usr/local/lib/python3.10/dist-packages (from wandb>=0.10.32->simpletransformers) (0.4.0)\n",
      "Requirement already satisfied: gitpython!=3.1.29,>=1.0.0 in /usr/local/lib/python3.10/dist-packages (from wandb>=0.10.32->simpletransformers) (3.1.43)\n",
      "Requirement already satisfied: platformdirs in /usr/local/lib/python3.10/dist-packages (from wandb>=0.10.32->simpletransformers) (4.3.6)\n",
      "Requirement already satisfied: protobuf!=4.21.0,!=5.28.0,<6,>=3.19.0 in /usr/local/lib/python3.10/dist-packages (from wandb>=0.10.32->simpletransformers) (3.20.3)\n",
      "Requirement already satisfied: sentry-sdk>=1.0.0 in /usr/local/lib/python3.10/dist-packages (from wandb>=0.10.32->simpletransformers) (2.16.0)\n",
      "Requirement already satisfied: setproctitle in /usr/local/lib/python3.10/dist-packages (from wandb>=0.10.32->simpletransformers) (1.3.3)\n",
      "Requirement already satisfied: setuptools in /usr/local/lib/python3.10/dist-packages (from wandb>=0.10.32->simpletransformers) (75.1.0)\n",
      "Requirement already satisfied: MarkupSafe>=2.0 in /usr/local/lib/python3.10/dist-packages (from jinja2->torch) (3.0.1)\n",
      "INFO: pip is looking at multiple versions of multiprocess to determine which version is compatible with other requirements. This could take a while.\n",
      "Collecting multiprocess (from evaluate)\n",
      "  Downloading multiprocess-0.70.16-py310-none-any.whl.metadata (7.2 kB)\n",
      "Requirement already satisfied: python-dateutil>=2.8.2 in /usr/local/lib/python3.10/dist-packages (from pandas->simpletransformers) (2.8.2)\n",
      "Requirement already satisfied: pytz>=2020.1 in /usr/local/lib/python3.10/dist-packages (from pandas->simpletransformers) (2024.2)\n",
      "Requirement already satisfied: tzdata>=2022.7 in /usr/local/lib/python3.10/dist-packages (from pandas->simpletransformers) (2024.2)\n",
      "Requirement already satisfied: joblib>=1.2.0 in /usr/local/lib/python3.10/dist-packages (from scikit-learn->simpletransformers) (1.4.2)\n",
      "Requirement already satisfied: threadpoolctl>=3.1.0 in /usr/local/lib/python3.10/dist-packages (from scikit-learn->simpletransformers) (3.5.0)\n",
      "Requirement already satisfied: altair<6,>=4.0 in /usr/local/lib/python3.10/dist-packages (from streamlit->simpletransformers) (4.2.2)\n",
      "Requirement already satisfied: blinker<2,>=1.0.0 in /usr/lib/python3/dist-packages (from streamlit->simpletransformers) (1.4)\n",
      "Requirement already satisfied: cachetools<6,>=4.0 in /usr/local/lib/python3.10/dist-packages (from streamlit->simpletransformers) (5.5.0)\n",
      "Requirement already satisfied: pillow<11,>=7.1.0 in /usr/local/lib/python3.10/dist-packages (from streamlit->simpletransformers) (10.4.0)\n",
      "Requirement already satisfied: rich<14,>=10.14.0 in /usr/local/lib/python3.10/dist-packages (from streamlit->simpletransformers) (13.9.2)\n",
      "Requirement already satisfied: tenacity<10,>=8.1.0 in /usr/local/lib/python3.10/dist-packages (from streamlit->simpletransformers) (9.0.0)\n",
      "Requirement already satisfied: toml<2,>=0.10.1 in /usr/local/lib/python3.10/dist-packages (from streamlit->simpletransformers) (0.10.2)\n",
      "Collecting pydeck<1,>=0.8.0b4 (from streamlit->simpletransformers)\n",
      "  Downloading pydeck-0.9.1-py2.py3-none-any.whl.metadata (4.1 kB)\n",
      "Requirement already satisfied: tornado<7,>=6.0.3 in /usr/local/lib/python3.10/dist-packages (from streamlit->simpletransformers) (6.3.3)\n",
      "Collecting watchdog<6,>=2.1.5 (from streamlit->simpletransformers)\n",
      "  Downloading watchdog-5.0.3-py3-none-manylinux2014_x86_64.whl.metadata (41 kB)\n",
      "\u001b[2K     \u001b[90m━━━━━━━━━━━━━━━━━━━━━━━━━━━━━━━━━━━━━━━━\u001b[0m \u001b[32m41.9/41.9 kB\u001b[0m \u001b[31m3.7 MB/s\u001b[0m eta \u001b[36m0:00:00\u001b[0m\n",
      "\u001b[?25hRequirement already satisfied: mpmath<1.4,>=1.1.0 in /usr/local/lib/python3.10/dist-packages (from sympy->torch) (1.3.0)\n",
      "Requirement already satisfied: absl-py>=0.4 in /usr/local/lib/python3.10/dist-packages (from tensorboard->simpletransformers) (1.4.0)\n",
      "Requirement already satisfied: grpcio>=1.48.2 in /usr/local/lib/python3.10/dist-packages (from tensorboard->simpletransformers) (1.64.1)\n",
      "Requirement already satisfied: markdown>=2.6.8 in /usr/local/lib/python3.10/dist-packages (from tensorboard->simpletransformers) (3.7)\n",
      "Requirement already satisfied: six>1.9 in /usr/local/lib/python3.10/dist-packages (from tensorboard->simpletransformers) (1.16.0)\n",
      "Requirement already satisfied: tensorboard-data-server<0.8.0,>=0.7.0 in /usr/local/lib/python3.10/dist-packages (from tensorboard->simpletransformers) (0.7.2)\n",
      "Requirement already satisfied: werkzeug>=1.0.1 in /usr/local/lib/python3.10/dist-packages (from tensorboard->simpletransformers) (3.0.4)\n",
      "Requirement already satisfied: entrypoints in /usr/local/lib/python3.10/dist-packages (from altair<6,>=4.0->streamlit->simpletransformers) (0.4)\n",
      "Requirement already satisfied: jsonschema>=3.0 in /usr/local/lib/python3.10/dist-packages (from altair<6,>=4.0->streamlit->simpletransformers) (4.23.0)\n",
      "Requirement already satisfied: toolz in /usr/local/lib/python3.10/dist-packages (from altair<6,>=4.0->streamlit->simpletransformers) (0.12.1)\n",
      "Requirement already satisfied: gitdb<5,>=4.0.1 in /usr/local/lib/python3.10/dist-packages (from gitpython!=3.1.29,>=1.0.0->wandb>=0.10.32->simpletransformers) (4.0.11)\n",
      "Requirement already satisfied: markdown-it-py>=2.2.0 in /usr/local/lib/python3.10/dist-packages (from rich<14,>=10.14.0->streamlit->simpletransformers) (3.0.0)\n",
      "Requirement already satisfied: pygments<3.0.0,>=2.13.0 in /usr/local/lib/python3.10/dist-packages (from rich<14,>=10.14.0->streamlit->simpletransformers) (2.18.0)\n",
      "Requirement already satisfied: propcache>=0.2.0 in /usr/local/lib/python3.10/dist-packages (from yarl<2.0,>=1.12.0->aiohttp->datasets) (0.2.0)\n",
      "Requirement already satisfied: smmap<6,>=3.0.1 in /usr/local/lib/python3.10/dist-packages (from gitdb<5,>=4.0.1->gitpython!=3.1.29,>=1.0.0->wandb>=0.10.32->simpletransformers) (5.0.1)\n",
      "Requirement already satisfied: jsonschema-specifications>=2023.03.6 in /usr/local/lib/python3.10/dist-packages (from jsonschema>=3.0->altair<6,>=4.0->streamlit->simpletransformers) (2024.10.1)\n",
      "Requirement already satisfied: referencing>=0.28.4 in /usr/local/lib/python3.10/dist-packages (from jsonschema>=3.0->altair<6,>=4.0->streamlit->simpletransformers) (0.35.1)\n",
      "Requirement already satisfied: rpds-py>=0.7.1 in /usr/local/lib/python3.10/dist-packages (from jsonschema>=3.0->altair<6,>=4.0->streamlit->simpletransformers) (0.20.0)\n",
      "Requirement already satisfied: mdurl~=0.1 in /usr/local/lib/python3.10/dist-packages (from markdown-it-py>=2.2.0->rich<14,>=10.14.0->streamlit->simpletransformers) (0.1.2)\n",
      "Downloading simpletransformers-0.70.1-py3-none-any.whl (316 kB)\n",
      "\u001b[2K   \u001b[90m━━━━━━━━━━━━━━━━━━━━━━━━━━━━━━━━━━━━━━━━\u001b[0m \u001b[32m316.3/316.3 kB\u001b[0m \u001b[31m10.5 MB/s\u001b[0m eta \u001b[36m0:00:00\u001b[0m\n",
      "\u001b[?25hDownloading evaluate-0.4.3-py3-none-any.whl (84 kB)\n",
      "\u001b[2K   \u001b[90m━━━━━━━━━━━━━━━━━━━━━━━━━━━━━━━━━━━━━━━━\u001b[0m \u001b[32m84.0/84.0 kB\u001b[0m \u001b[31m9.1 MB/s\u001b[0m eta \u001b[36m0:00:00\u001b[0m\n",
      "\u001b[?25hDownloading datasets-3.0.1-py3-none-any.whl (471 kB)\n",
      "\u001b[2K   \u001b[90m━━━━━━━━━━━━━━━━━━━━━━━━━━━━━━━━━━━━━━━━\u001b[0m \u001b[32m471.6/471.6 kB\u001b[0m \u001b[31m27.7 MB/s\u001b[0m eta \u001b[36m0:00:00\u001b[0m\n",
      "\u001b[?25hDownloading dill-0.3.8-py3-none-any.whl (116 kB)\n",
      "\u001b[2K   \u001b[90m━━━━━━━━━━━━━━━━━━━━━━━━━━━━━━━━━━━━━━━━\u001b[0m \u001b[32m116.3/116.3 kB\u001b[0m \u001b[31m13.2 MB/s\u001b[0m eta \u001b[36m0:00:00\u001b[0m\n",
      "\u001b[?25hDownloading multiprocess-0.70.16-py310-none-any.whl (134 kB)\n",
      "\u001b[2K   \u001b[90m━━━━━━━━━━━━━━━━━━━━━━━━━━━━━━━━━━━━━━━━\u001b[0m \u001b[32m134.8/134.8 kB\u001b[0m \u001b[31m14.7 MB/s\u001b[0m eta \u001b[36m0:00:00\u001b[0m\n",
      "\u001b[?25hDownloading streamlit-1.39.0-py2.py3-none-any.whl (8.7 MB)\n",
      "\u001b[2K   \u001b[90m━━━━━━━━━━━━━━━━━━━━━━━━━━━━━━━━━━━━━━━━\u001b[0m \u001b[32m8.7/8.7 MB\u001b[0m \u001b[31m110.9 MB/s\u001b[0m eta \u001b[36m0:00:00\u001b[0m\n",
      "\u001b[?25hDownloading tensorboardX-2.6.2.2-py2.py3-none-any.whl (101 kB)\n",
      "\u001b[2K   \u001b[90m━━━━━━━━━━━━━━━━━━━━━━━━━━━━━━━━━━━━━━━━\u001b[0m \u001b[32m101.7/101.7 kB\u001b[0m \u001b[31m11.7 MB/s\u001b[0m eta \u001b[36m0:00:00\u001b[0m\n",
      "\u001b[?25hDownloading xxhash-3.5.0-cp310-cp310-manylinux_2_17_x86_64.manylinux2014_x86_64.whl (194 kB)\n",
      "\u001b[2K   \u001b[90m━━━━━━━━━━━━━━━━━━━━━━━━━━━━━━━━━━━━━━━━\u001b[0m \u001b[32m194.1/194.1 kB\u001b[0m \u001b[31m19.7 MB/s\u001b[0m eta \u001b[36m0:00:00\u001b[0m\n",
      "\u001b[?25hDownloading pydeck-0.9.1-py2.py3-none-any.whl (6.9 MB)\n",
      "\u001b[2K   \u001b[90m━━━━━━━━━━━━━━━━━━━━━━━━━━━━━━━━━━━━━━━━\u001b[0m \u001b[32m6.9/6.9 MB\u001b[0m \u001b[31m123.9 MB/s\u001b[0m eta \u001b[36m0:00:00\u001b[0m\n",
      "\u001b[?25hDownloading watchdog-5.0.3-py3-none-manylinux2014_x86_64.whl (79 kB)\n",
      "\u001b[2K   \u001b[90m━━━━━━━━━━━━━━━━━━━━━━━━━━━━━━━━━━━━━━━━\u001b[0m \u001b[32m79.3/79.3 kB\u001b[0m \u001b[31m8.5 MB/s\u001b[0m eta \u001b[36m0:00:00\u001b[0m\n",
      "\u001b[?25hBuilding wheels for collected packages: seqeval\n",
      "  Building wheel for seqeval (setup.py) ... \u001b[?25l\u001b[?25hdone\n",
      "  Created wheel for seqeval: filename=seqeval-1.2.2-py3-none-any.whl size=16161 sha256=5ebd90803de7ed61d1be0d482bdec69d1b97ed27b3481998ebfae8da3772e072\n",
      "  Stored in directory: /root/.cache/pip/wheels/1a/67/4a/ad4082dd7dfc30f2abfe4d80a2ed5926a506eb8a972b4767fa\n",
      "Successfully built seqeval\n",
      "Installing collected packages: xxhash, watchdog, tensorboardx, dill, pydeck, multiprocess, seqeval, streamlit, datasets, simpletransformers, evaluate\n",
      "Successfully installed datasets-3.0.1 dill-0.3.8 evaluate-0.4.3 multiprocess-0.70.16 pydeck-0.9.1 seqeval-1.2.2 simpletransformers-0.70.1 streamlit-1.39.0 tensorboardx-2.6.2.2 watchdog-5.0.3 xxhash-3.5.0\n"
     ]
    }
   ],
   "source": [
    "!pip install transformers torch simpletransformers evaluate accelerate datasets"
   ]
  },
  {
   "cell_type": "code",
   "execution_count": 2,
   "id": "b36412af-d07d-4ab6-b477-26bf71619a6a",
   "metadata": {
    "id": "b36412af-d07d-4ab6-b477-26bf71619a6a",
    "tags": []
   },
   "outputs": [],
   "source": [
    "import sys\n",
    "sys.path.append('../scripts')\n",
    "\n",
    "import pandas as pd\n",
    "from random import shuffle\n",
    "import random\n",
    "from story_utils import *\n",
    "import pickle\n",
    "import matplotlib.pyplot as plt\n",
    "import numpy as np\n",
    "import gc\n",
    "import torch\n",
    "import glob\n",
    "import matplotlib.pyplot as plt\n",
    "from scipy.stats import pointbiserialr\n",
    "from scipy.stats import t\n",
    "\n",
    "random.seed(1)"
   ]
  },
  {
   "cell_type": "code",
   "execution_count": 3,
   "id": "iTW5f1i05XzL",
   "metadata": {
    "id": "iTW5f1i05XzL"
   },
   "outputs": [],
   "source": [
    "from transformers import GPT2LMHeadModel, GPT2Tokenizer\n",
    "\n",
    "class GPT:\n",
    "\n",
    "    def __init__(self, base_model):\n",
    "        self.tokenizer = GPT2Tokenizer.from_pretrained(base_model)\n",
    "        self.model = GPT2LMHeadModel.from_pretrained(base_model)\n",
    "\n",
    "    def continue_input(self, input_sequence, max_length=200, num_return_sequences=1, no_repeat_ngram_size=10,\n",
    "                       do_sample=False, temperature=0, num_beams=1):\n",
    "\n",
    "        input_ids = self.tokenizer.encode(input_sequence, return_tensors='pt')\n",
    "        max_length = len(input_ids[0]) + 100\n",
    "\n",
    "        # Generate text\n",
    "        output = self.model.generate(\n",
    "            input_ids,\n",
    "            max_length=max_length,\n",
    "            num_return_sequences=num_return_sequences,\n",
    "            num_beams=num_beams,\n",
    "            no_repeat_ngram_size=no_repeat_ngram_size,\n",
    "            do_sample=do_sample,\n",
    "        )\n",
    "\n",
    "        # Decode the output\n",
    "        sequence = output[0].tolist()\n",
    "        text = self.tokenizer.decode(sequence)\n",
    "        return text"
   ]
  },
  {
   "cell_type": "code",
   "execution_count": 3,
   "id": "ad640853-6074-4b6d-a3e9-cb37d55985e3",
   "metadata": {
    "id": "ad640853-6074-4b6d-a3e9-cb37d55985e3",
    "scrolled": true,
    "tags": []
   },
   "outputs": [],
   "source": [
    "def prepare_data(num_typical=100, num_char=50, num_variants=20):\n",
    "    stories = get_stories()\n",
    "    shuffle(stories)\n",
    "    lengths = [len(s) for s in stories]\n",
    "    mean_len = np.mean(lengths)\n",
    "    mean_len = int(mean_len)\n",
    "    print(mean_len)\n",
    "\n",
    "    typical = stories[:num_typical]\n",
    "    lengthened = []\n",
    "    shortened = []\n",
    "    for s in stories[num_typical:]:\n",
    "        if len(s) < mean_len:\n",
    "            delta = mean_len - len(s)\n",
    "            # increase length up to average\n",
    "            if delta > 100:\n",
    "                new_s = s + get_random_sentence(stories)[0:delta]\n",
    "                lengthened.append(new_s)\n",
    "        if len(s) > mean_len:\n",
    "            # decrease length down to average\n",
    "            delta = len(s) - mean_len\n",
    "            if delta > 100:\n",
    "                new_s = s[0:mean_len]\n",
    "                shortened.append(new_s)\n",
    "\n",
    "    stories = [s + ' The end.' for s in stories]\n",
    "    shortened = [s + ' The end.' for s in shortened]\n",
    "    lengthened = [s + ' The end.' for s in lengthened]\n",
    "    return stories[:num_typical], shortened[:num_variants], lengthened[:num_variants]"
   ]
  },
  {
   "cell_type": "code",
   "execution_count": 4,
   "id": "803d66d5-6f88-4666-8a12-5007ba169e31",
   "metadata": {
    "id": "803d66d5-6f88-4666-8a12-5007ba169e31",
    "tags": []
   },
   "outputs": [],
   "source": [
    "def compute_length_difference(stories):\n",
    "    \"\"\"\n",
    "    Computes the length difference between input and output for a given list of stories.\n",
    "    \"\"\"\n",
    "    differences = []\n",
    "    for story in stories:\n",
    "        input_length = len(story[0])\n",
    "        output_length = len(story[1])\n",
    "        difference = output_length - input_length\n",
    "        differences.append(difference)\n",
    "        print(difference)\n",
    "    return sum(differences) / len(differences)\n"
   ]
  },
  {
   "cell_type": "code",
   "execution_count": 5,
   "id": "e29a9cdc-3cb5-4455-88bc-02c19d38756b",
   "metadata": {
    "id": "e29a9cdc-3cb5-4455-88bc-02c19d38756b",
    "tags": []
   },
   "outputs": [],
   "source": [
    "def test_model(save_name, typical, atypical_short, atypical_long):\n",
    "\n",
    "    model = GPT(base_model='outputs_stories')\n",
    "\n",
    "    results_dict = {}\n",
    "    results_dict['typical'] = []\n",
    "    results_dict['atypical_short'] = []\n",
    "    results_dict['atypical_long'] = []\n",
    "\n",
    "    for s in typical[0:len(atypical_short)]:\n",
    "        start = \" \".join(s.split()[0:10])\n",
    "        gen = model.continue_input(start)\n",
    "        if 'The end.' in gen:\n",
    "            gen = gen[0:gen.index('The end.')+8]\n",
    "            print(f\"START: \\n{start}\")\n",
    "            print(f\"GENERATED: \\n{gen}\")\n",
    "            print(f\"TRUE: \\n{s}\")\n",
    "            results_dict['typical'].append([s, gen])\n",
    "\n",
    "    for s in atypical_short:\n",
    "        start = \" \".join(s.split()[0:10])\n",
    "        gen = model.continue_input(start)\n",
    "        if 'The end.' in gen:\n",
    "            gen = gen[0:gen.index('The end.')+8]\n",
    "            print(f\"START: \\n{start}\")\n",
    "            print(f\"GENERATED: \\n{gen}\")\n",
    "            print(f\"TRUE: \\n{s}\")\n",
    "            results_dict['atypical_short'].append([s, gen])\n",
    "\n",
    "    for s in atypical_long:\n",
    "        start = \" \".join(s.split()[0:10])\n",
    "        gen = model.continue_input(start)\n",
    "        if 'The end.' in gen:\n",
    "            gen = gen[0:gen.index('The end.')+8]\n",
    "            print(f\"START: \\n{start}\")\n",
    "            print(f\"GENERATED: \\n{gen}\")\n",
    "            print(f\"TRUE: \\n{s}\")\n",
    "            results_dict['atypical_long'].append([s, gen])\n",
    "\n",
    "\n",
    "    # Calculate the average length difference for each category\n",
    "    typical_difference = compute_length_difference(results_dict['typical'])\n",
    "    atypical_short_difference = compute_length_difference(results_dict['atypical_short'])\n",
    "    atypical_long_difference = compute_length_difference(results_dict['atypical_long'])\n",
    "\n",
    "    # Plotting the results\n",
    "    categories = ['Atypical Short', 'Typical', 'Atypical Long']\n",
    "    differences = [atypical_short_difference, typical_difference, atypical_long_difference]\n",
    "\n",
    "    plt.figure()\n",
    "    plt.bar(categories, differences)\n",
    "    plt.xlabel('Story Category')\n",
    "    plt.ylabel('Average Length Difference (Output - Input)')\n",
    "    plt.title('Length Difference by Story Category')\n",
    "    plt.axhline(y=0, color='black')\n",
    "    plt.savefig(save_name)\n",
    "    plt.show()\n",
    "\n",
    "    with open(save_name + '.pkl', 'wb') as handle:\n",
    "        pickle.dump(results_dict, handle)\n",
    "\n",
    "    return results_dict"
   ]
  },
  {
   "cell_type": "code",
   "execution_count": 6,
   "id": "bBcsDD24-tqT",
   "metadata": {
    "id": "bBcsDD24-tqT"
   },
   "outputs": [],
   "source": [
    "!rm -rf plots\n",
    "!mkdir plots"
   ]
  },
  {
   "cell_type": "code",
   "execution_count": 7,
   "id": "gu8SUwUfQX3H",
   "metadata": {
    "id": "gu8SUwUfQX3H"
   },
   "outputs": [],
   "source": [
    "!rm -rf outputs_stories\n",
    "!mkdir outputs_stories"
   ]
  },
  {
   "cell_type": "code",
   "execution_count": 4,
   "id": "7JReUeJ_5HSq",
   "metadata": {
    "id": "7JReUeJ_5HSq"
   },
   "outputs": [],
   "source": [
    "import os\n",
    "os.environ['WANDB_MODE'] = 'disabled'"
   ]
  },
  {
   "cell_type": "code",
   "execution_count": 22,
   "id": "07a078f4-e102-4b4e-bd08-f715ccd1d1fb",
   "metadata": {
    "colab": {
     "base_uri": "https://localhost:8080/",
     "height": 1000
    },
    "id": "07a078f4-e102-4b4e-bd08-f715ccd1d1fb",
    "outputId": "1aab73ed-1080-491a-ad78-010c7a8b1580",
    "scrolled": true,
    "tags": []
   },
   "outputs": [
    {
     "name": "stdout",
     "output_type": "stream",
     "text": [
      "222\n",
      "2024-10-21 12:15:21.566984: E external/local_xla/xla/stream_executor/cuda/cuda_fft.cc:485] Unable to register cuFFT factory: Attempting to register factory for plugin cuFFT when one has already been registered\n",
      "2024-10-21 12:15:21.588359: E external/local_xla/xla/stream_executor/cuda/cuda_dnn.cc:8454] Unable to register cuDNN factory: Attempting to register factory for plugin cuDNN when one has already been registered\n",
      "2024-10-21 12:15:21.594897: E external/local_xla/xla/stream_executor/cuda/cuda_blas.cc:1452] Unable to register cuBLAS factory: Attempting to register factory for plugin cuBLAS when one has already been registered\n",
      "2024-10-21 12:15:22.809155: W tensorflow/compiler/tf2tensorrt/utils/py_utils.cc:38] TF-TRT Warning: Could not find TensorRT\n",
      "10/21/2024 12:15:25 - WARNING - __main__ - Process rank: 0, device: cuda:0, n_gpu: 1distributed training: False, 16-bits training: False\n",
      "10/21/2024 12:15:25 - INFO - __main__ - Training/evaluation parameters TrainingArguments(\n",
      "_n_gpu=1,\n",
      "accelerator_config={'split_batches': False, 'dispatch_batches': None, 'even_batches': True, 'use_seedable_sampler': True, 'non_blocking': False, 'gradient_accumulation_kwargs': None, 'use_configured_state': False},\n",
      "adafactor=False,\n",
      "adam_beta1=0.9,\n",
      "adam_beta2=0.999,\n",
      "adam_epsilon=1e-08,\n",
      "auto_find_batch_size=False,\n",
      "batch_eval_metrics=False,\n",
      "bf16=False,\n",
      "bf16_full_eval=False,\n",
      "data_seed=None,\n",
      "dataloader_drop_last=False,\n",
      "dataloader_num_workers=0,\n",
      "dataloader_persistent_workers=False,\n",
      "dataloader_pin_memory=True,\n",
      "dataloader_prefetch_factor=None,\n",
      "ddp_backend=None,\n",
      "ddp_broadcast_buffers=None,\n",
      "ddp_bucket_cap_mb=None,\n",
      "ddp_find_unused_parameters=None,\n",
      "ddp_timeout=1800,\n",
      "debug=[],\n",
      "deepspeed=None,\n",
      "disable_tqdm=False,\n",
      "dispatch_batches=None,\n",
      "do_eval=True,\n",
      "do_predict=False,\n",
      "do_train=True,\n",
      "eval_accumulation_steps=None,\n",
      "eval_delay=0,\n",
      "eval_do_concat_batches=True,\n",
      "eval_on_start=False,\n",
      "eval_steps=None,\n",
      "eval_strategy=no,\n",
      "eval_use_gather_object=False,\n",
      "evaluation_strategy=None,\n",
      "fp16=False,\n",
      "fp16_backend=auto,\n",
      "fp16_full_eval=False,\n",
      "fp16_opt_level=O1,\n",
      "fsdp=[],\n",
      "fsdp_config={'min_num_params': 0, 'xla': False, 'xla_fsdp_v2': False, 'xla_fsdp_grad_ckpt': False},\n",
      "fsdp_min_num_params=0,\n",
      "fsdp_transformer_layer_cls_to_wrap=None,\n",
      "full_determinism=False,\n",
      "gradient_accumulation_steps=1,\n",
      "gradient_checkpointing=False,\n",
      "gradient_checkpointing_kwargs=None,\n",
      "greater_is_better=None,\n",
      "group_by_length=False,\n",
      "half_precision_backend=auto,\n",
      "hub_always_push=False,\n",
      "hub_model_id=None,\n",
      "hub_private_repo=False,\n",
      "hub_strategy=every_save,\n",
      "hub_token=<HUB_TOKEN>,\n",
      "ignore_data_skip=False,\n",
      "include_inputs_for_metrics=False,\n",
      "include_num_input_tokens_seen=False,\n",
      "include_tokens_per_second=False,\n",
      "jit_mode_eval=False,\n",
      "label_names=None,\n",
      "label_smoothing_factor=0.0,\n",
      "learning_rate=0.0005,\n",
      "length_column_name=length,\n",
      "load_best_model_at_end=False,\n",
      "local_rank=0,\n",
      "log_level=passive,\n",
      "log_level_replica=warning,\n",
      "log_on_each_node=True,\n",
      "logging_dir=outputs_stories/runs/Oct21_12-15-25_f910dfa8e9d3,\n",
      "logging_first_step=False,\n",
      "logging_nan_inf_filter=True,\n",
      "logging_steps=500,\n",
      "logging_strategy=steps,\n",
      "lr_scheduler_kwargs={},\n",
      "lr_scheduler_type=linear,\n",
      "max_grad_norm=1.0,\n",
      "max_steps=-1,\n",
      "metric_for_best_model=None,\n",
      "mp_parameters=,\n",
      "neftune_noise_alpha=None,\n",
      "no_cuda=False,\n",
      "num_train_epochs=5.0,\n",
      "optim=adamw_torch,\n",
      "optim_args=None,\n",
      "optim_target_modules=None,\n",
      "output_dir=outputs_stories,\n",
      "overwrite_output_dir=True,\n",
      "past_index=-1,\n",
      "per_device_eval_batch_size=1,\n",
      "per_device_train_batch_size=1,\n",
      "prediction_loss_only=False,\n",
      "push_to_hub=False,\n",
      "push_to_hub_model_id=None,\n",
      "push_to_hub_organization=None,\n",
      "push_to_hub_token=<PUSH_TO_HUB_TOKEN>,\n",
      "ray_scope=last,\n",
      "remove_unused_columns=True,\n",
      "report_to=[],\n",
      "restore_callback_states_from_checkpoint=False,\n",
      "resume_from_checkpoint=None,\n",
      "run_name=outputs_stories,\n",
      "save_on_each_node=False,\n",
      "save_only_model=False,\n",
      "save_safetensors=True,\n",
      "save_steps=1000,\n",
      "save_strategy=steps,\n",
      "save_total_limit=None,\n",
      "seed=42,\n",
      "skip_memory_metrics=True,\n",
      "split_batches=None,\n",
      "tf32=None,\n",
      "torch_compile=False,\n",
      "torch_compile_backend=None,\n",
      "torch_compile_mode=None,\n",
      "torch_empty_cache_steps=None,\n",
      "torchdynamo=None,\n",
      "tpu_metrics_debug=False,\n",
      "tpu_num_cores=None,\n",
      "use_cpu=False,\n",
      "use_ipex=False,\n",
      "use_legacy_prediction_loop=False,\n",
      "use_mps_device=False,\n",
      "warmup_ratio=0.0,\n",
      "warmup_steps=0,\n",
      "weight_decay=0.0,\n",
      ")\n",
      "Using custom data configuration default-84f9a20791c79fa8\n",
      "10/21/2024 12:15:25 - INFO - datasets.builder - Using custom data configuration default-84f9a20791c79fa8\n",
      "Loading Dataset Infos from /usr/local/lib/python3.10/dist-packages/datasets/packaged_modules/text\n",
      "10/21/2024 12:15:25 - INFO - datasets.info - Loading Dataset Infos from /usr/local/lib/python3.10/dist-packages/datasets/packaged_modules/text\n",
      "Generating dataset text (/root/.cache/huggingface/datasets/text/default-84f9a20791c79fa8/0.0.0/37eaf37ac90527a7fd768c94b312ee84f8815c9b7ac00acf81c1c364e8392f99)\n",
      "10/21/2024 12:15:25 - INFO - datasets.builder - Generating dataset text (/root/.cache/huggingface/datasets/text/default-84f9a20791c79fa8/0.0.0/37eaf37ac90527a7fd768c94b312ee84f8815c9b7ac00acf81c1c364e8392f99)\n",
      "Downloading and preparing dataset text/default to /root/.cache/huggingface/datasets/text/default-84f9a20791c79fa8/0.0.0/37eaf37ac90527a7fd768c94b312ee84f8815c9b7ac00acf81c1c364e8392f99...\n",
      "10/21/2024 12:15:25 - INFO - datasets.builder - Downloading and preparing dataset text/default to /root/.cache/huggingface/datasets/text/default-84f9a20791c79fa8/0.0.0/37eaf37ac90527a7fd768c94b312ee84f8815c9b7ac00acf81c1c364e8392f99...\n",
      "Downloading took 0.0 min\n",
      "10/21/2024 12:15:25 - INFO - datasets.download.download_manager - Downloading took 0.0 min\n",
      "Checksum Computation took 0.0 min\n",
      "10/21/2024 12:15:25 - INFO - datasets.download.download_manager - Checksum Computation took 0.0 min\n",
      "Generating train split\n",
      "10/21/2024 12:15:25 - INFO - datasets.builder - Generating train split\n",
      "Generating train split: 120 examples [00:00, 36459.00 examples/s]\n",
      "Generating validation split\n",
      "10/21/2024 12:15:25 - INFO - datasets.builder - Generating validation split\n",
      "Generating validation split: 120 examples [00:00, 113975.65 examples/s]\n",
      "Unable to verify splits sizes.\n",
      "10/21/2024 12:15:25 - INFO - datasets.utils.info_utils - Unable to verify splits sizes.\n",
      "Dataset text downloaded and prepared to /root/.cache/huggingface/datasets/text/default-84f9a20791c79fa8/0.0.0/37eaf37ac90527a7fd768c94b312ee84f8815c9b7ac00acf81c1c364e8392f99. Subsequent calls will reuse this data.\n",
      "10/21/2024 12:15:25 - INFO - datasets.builder - Dataset text downloaded and prepared to /root/.cache/huggingface/datasets/text/default-84f9a20791c79fa8/0.0.0/37eaf37ac90527a7fd768c94b312ee84f8815c9b7ac00acf81c1c364e8392f99. Subsequent calls will reuse this data.\n",
      "[INFO|configuration_utils.py:733] 2024-10-21 12:15:25,333 >> loading configuration file config.json from cache at /root/.cache/huggingface/hub/models--gpt2-medium/snapshots/6dcaa7a952f72f9298047fd5137cd6e4f05f41da/config.json\n",
      "[INFO|configuration_utils.py:800] 2024-10-21 12:15:25,334 >> Model config GPT2Config {\n",
      "  \"_name_or_path\": \"gpt2-medium\",\n",
      "  \"activation_function\": \"gelu_new\",\n",
      "  \"architectures\": [\n",
      "    \"GPT2LMHeadModel\"\n",
      "  ],\n",
      "  \"attn_pdrop\": 0.1,\n",
      "  \"bos_token_id\": 50256,\n",
      "  \"embd_pdrop\": 0.1,\n",
      "  \"eos_token_id\": 50256,\n",
      "  \"initializer_range\": 0.02,\n",
      "  \"layer_norm_epsilon\": 1e-05,\n",
      "  \"model_type\": \"gpt2\",\n",
      "  \"n_ctx\": 1024,\n",
      "  \"n_embd\": 1024,\n",
      "  \"n_head\": 16,\n",
      "  \"n_inner\": null,\n",
      "  \"n_layer\": 24,\n",
      "  \"n_positions\": 1024,\n",
      "  \"n_special\": 0,\n",
      "  \"predict_special_tokens\": true,\n",
      "  \"reorder_and_upcast_attn\": false,\n",
      "  \"resid_pdrop\": 0.1,\n",
      "  \"scale_attn_by_inverse_layer_idx\": false,\n",
      "  \"scale_attn_weights\": true,\n",
      "  \"summary_activation\": null,\n",
      "  \"summary_first_dropout\": 0.1,\n",
      "  \"summary_proj_to_labels\": true,\n",
      "  \"summary_type\": \"cls_index\",\n",
      "  \"summary_use_proj\": true,\n",
      "  \"task_specific_params\": {\n",
      "    \"text-generation\": {\n",
      "      \"do_sample\": true,\n",
      "      \"max_length\": 50\n",
      "    }\n",
      "  },\n",
      "  \"transformers_version\": \"4.44.2\",\n",
      "  \"use_cache\": true,\n",
      "  \"vocab_size\": 50257\n",
      "}\n",
      "\n",
      "[INFO|configuration_utils.py:733] 2024-10-21 12:15:25,410 >> loading configuration file config.json from cache at /root/.cache/huggingface/hub/models--gpt2-medium/snapshots/6dcaa7a952f72f9298047fd5137cd6e4f05f41da/config.json\n",
      "[INFO|configuration_utils.py:800] 2024-10-21 12:15:25,411 >> Model config GPT2Config {\n",
      "  \"_name_or_path\": \"gpt2-medium\",\n",
      "  \"activation_function\": \"gelu_new\",\n",
      "  \"architectures\": [\n",
      "    \"GPT2LMHeadModel\"\n",
      "  ],\n",
      "  \"attn_pdrop\": 0.1,\n",
      "  \"bos_token_id\": 50256,\n",
      "  \"embd_pdrop\": 0.1,\n",
      "  \"eos_token_id\": 50256,\n",
      "  \"initializer_range\": 0.02,\n",
      "  \"layer_norm_epsilon\": 1e-05,\n",
      "  \"model_type\": \"gpt2\",\n",
      "  \"n_ctx\": 1024,\n",
      "  \"n_embd\": 1024,\n",
      "  \"n_head\": 16,\n",
      "  \"n_inner\": null,\n",
      "  \"n_layer\": 24,\n",
      "  \"n_positions\": 1024,\n",
      "  \"n_special\": 0,\n",
      "  \"predict_special_tokens\": true,\n",
      "  \"reorder_and_upcast_attn\": false,\n",
      "  \"resid_pdrop\": 0.1,\n",
      "  \"scale_attn_by_inverse_layer_idx\": false,\n",
      "  \"scale_attn_weights\": true,\n",
      "  \"summary_activation\": null,\n",
      "  \"summary_first_dropout\": 0.1,\n",
      "  \"summary_proj_to_labels\": true,\n",
      "  \"summary_type\": \"cls_index\",\n",
      "  \"summary_use_proj\": true,\n",
      "  \"task_specific_params\": {\n",
      "    \"text-generation\": {\n",
      "      \"do_sample\": true,\n",
      "      \"max_length\": 50\n",
      "    }\n",
      "  },\n",
      "  \"transformers_version\": \"4.44.2\",\n",
      "  \"use_cache\": true,\n",
      "  \"vocab_size\": 50257\n",
      "}\n",
      "\n",
      "[INFO|tokenization_utils_base.py:2269] 2024-10-21 12:15:25,421 >> loading file vocab.json from cache at /root/.cache/huggingface/hub/models--gpt2-medium/snapshots/6dcaa7a952f72f9298047fd5137cd6e4f05f41da/vocab.json\n",
      "[INFO|tokenization_utils_base.py:2269] 2024-10-21 12:15:25,421 >> loading file merges.txt from cache at /root/.cache/huggingface/hub/models--gpt2-medium/snapshots/6dcaa7a952f72f9298047fd5137cd6e4f05f41da/merges.txt\n",
      "[INFO|tokenization_utils_base.py:2269] 2024-10-21 12:15:25,421 >> loading file tokenizer.json from cache at /root/.cache/huggingface/hub/models--gpt2-medium/snapshots/6dcaa7a952f72f9298047fd5137cd6e4f05f41da/tokenizer.json\n",
      "[INFO|tokenization_utils_base.py:2269] 2024-10-21 12:15:25,421 >> loading file added_tokens.json from cache at None\n",
      "[INFO|tokenization_utils_base.py:2269] 2024-10-21 12:15:25,421 >> loading file special_tokens_map.json from cache at None\n",
      "[INFO|tokenization_utils_base.py:2269] 2024-10-21 12:15:25,421 >> loading file tokenizer_config.json from cache at /root/.cache/huggingface/hub/models--gpt2-medium/snapshots/6dcaa7a952f72f9298047fd5137cd6e4f05f41da/tokenizer_config.json\n",
      "[INFO|configuration_utils.py:733] 2024-10-21 12:15:25,422 >> loading configuration file config.json from cache at /root/.cache/huggingface/hub/models--gpt2-medium/snapshots/6dcaa7a952f72f9298047fd5137cd6e4f05f41da/config.json\n",
      "[INFO|configuration_utils.py:800] 2024-10-21 12:15:25,423 >> Model config GPT2Config {\n",
      "  \"_name_or_path\": \"gpt2-medium\",\n",
      "  \"activation_function\": \"gelu_new\",\n",
      "  \"architectures\": [\n",
      "    \"GPT2LMHeadModel\"\n",
      "  ],\n",
      "  \"attn_pdrop\": 0.1,\n",
      "  \"bos_token_id\": 50256,\n",
      "  \"embd_pdrop\": 0.1,\n",
      "  \"eos_token_id\": 50256,\n",
      "  \"initializer_range\": 0.02,\n",
      "  \"layer_norm_epsilon\": 1e-05,\n",
      "  \"model_type\": \"gpt2\",\n",
      "  \"n_ctx\": 1024,\n",
      "  \"n_embd\": 1024,\n",
      "  \"n_head\": 16,\n",
      "  \"n_inner\": null,\n",
      "  \"n_layer\": 24,\n",
      "  \"n_positions\": 1024,\n",
      "  \"n_special\": 0,\n",
      "  \"predict_special_tokens\": true,\n",
      "  \"reorder_and_upcast_attn\": false,\n",
      "  \"resid_pdrop\": 0.1,\n",
      "  \"scale_attn_by_inverse_layer_idx\": false,\n",
      "  \"scale_attn_weights\": true,\n",
      "  \"summary_activation\": null,\n",
      "  \"summary_first_dropout\": 0.1,\n",
      "  \"summary_proj_to_labels\": true,\n",
      "  \"summary_type\": \"cls_index\",\n",
      "  \"summary_use_proj\": true,\n",
      "  \"task_specific_params\": {\n",
      "    \"text-generation\": {\n",
      "      \"do_sample\": true,\n",
      "      \"max_length\": 50\n",
      "    }\n",
      "  },\n",
      "  \"transformers_version\": \"4.44.2\",\n",
      "  \"use_cache\": true,\n",
      "  \"vocab_size\": 50257\n",
      "}\n",
      "\n",
      "/usr/local/lib/python3.10/dist-packages/transformers/tokenization_utils_base.py:1601: FutureWarning: `clean_up_tokenization_spaces` was not set. It will be set to `True` by default. This behavior will be depracted in transformers v4.45, and will be then set to `False` by default. For more details check this issue: https://github.com/huggingface/transformers/issues/31884\n",
      "  warnings.warn(\n",
      "[INFO|modeling_utils.py:3678] 2024-10-21 12:15:25,535 >> loading weights file model.safetensors from cache at /root/.cache/huggingface/hub/models--gpt2-medium/snapshots/6dcaa7a952f72f9298047fd5137cd6e4f05f41da/model.safetensors\n",
      "[INFO|configuration_utils.py:1038] 2024-10-21 12:15:25,545 >> Generate config GenerationConfig {\n",
      "  \"bos_token_id\": 50256,\n",
      "  \"eos_token_id\": 50256\n",
      "}\n",
      "\n",
      "[INFO|modeling_utils.py:4507] 2024-10-21 12:15:25,644 >> All model checkpoint weights were used when initializing GPT2LMHeadModel.\n",
      "\n",
      "[INFO|modeling_utils.py:4515] 2024-10-21 12:15:25,644 >> All the weights of GPT2LMHeadModel were initialized from the model checkpoint at gpt2-medium.\n",
      "If your task is similar to the task the model of the checkpoint was trained on, you can already use GPT2LMHeadModel for predictions without further training.\n",
      "[INFO|configuration_utils.py:993] 2024-10-21 12:15:25,735 >> loading configuration file generation_config.json from cache at /root/.cache/huggingface/hub/models--gpt2-medium/snapshots/6dcaa7a952f72f9298047fd5137cd6e4f05f41da/generation_config.json\n",
      "[INFO|configuration_utils.py:1038] 2024-10-21 12:15:25,735 >> Generate config GenerationConfig {\n",
      "  \"bos_token_id\": 50256,\n",
      "  \"eos_token_id\": 50256\n",
      "}\n",
      "\n",
      "Running tokenizer on dataset:   0% 0/120 [00:00<?, ? examples/s]Caching processed dataset at /root/.cache/huggingface/datasets/text/default-84f9a20791c79fa8/0.0.0/37eaf37ac90527a7fd768c94b312ee84f8815c9b7ac00acf81c1c364e8392f99/cache-e8e3aa20b1e53d5e.arrow\n",
      "10/21/2024 12:15:25 - INFO - datasets.arrow_dataset - Caching processed dataset at /root/.cache/huggingface/datasets/text/default-84f9a20791c79fa8/0.0.0/37eaf37ac90527a7fd768c94b312ee84f8815c9b7ac00acf81c1c364e8392f99/cache-e8e3aa20b1e53d5e.arrow\n",
      "Running tokenizer on dataset: 100% 120/120 [00:00<00:00, 8525.01 examples/s]\n",
      "Running tokenizer on dataset:   0% 0/120 [00:00<?, ? examples/s]Caching processed dataset at /root/.cache/huggingface/datasets/text/default-84f9a20791c79fa8/0.0.0/37eaf37ac90527a7fd768c94b312ee84f8815c9b7ac00acf81c1c364e8392f99/cache-4690a9815139121d.arrow\n",
      "10/21/2024 12:15:25 - INFO - datasets.arrow_dataset - Caching processed dataset at /root/.cache/huggingface/datasets/text/default-84f9a20791c79fa8/0.0.0/37eaf37ac90527a7fd768c94b312ee84f8815c9b7ac00acf81c1c364e8392f99/cache-4690a9815139121d.arrow\n",
      "Running tokenizer on dataset: 100% 120/120 [00:00<00:00, 11013.49 examples/s]\n",
      "Grouping texts in chunks of 1024:   0% 0/120 [00:00<?, ? examples/s]Caching processed dataset at /root/.cache/huggingface/datasets/text/default-84f9a20791c79fa8/0.0.0/37eaf37ac90527a7fd768c94b312ee84f8815c9b7ac00acf81c1c364e8392f99/cache-6e19e485aeac3284.arrow\n",
      "10/21/2024 12:15:25 - INFO - datasets.arrow_dataset - Caching processed dataset at /root/.cache/huggingface/datasets/text/default-84f9a20791c79fa8/0.0.0/37eaf37ac90527a7fd768c94b312ee84f8815c9b7ac00acf81c1c364e8392f99/cache-6e19e485aeac3284.arrow\n",
      "Grouping texts in chunks of 1024: 100% 120/120 [00:00<00:00, 9015.32 examples/s]\n",
      "Grouping texts in chunks of 1024:   0% 0/120 [00:00<?, ? examples/s]Caching processed dataset at /root/.cache/huggingface/datasets/text/default-84f9a20791c79fa8/0.0.0/37eaf37ac90527a7fd768c94b312ee84f8815c9b7ac00acf81c1c364e8392f99/cache-b0b67cf66c56fb61.arrow\n",
      "10/21/2024 12:15:25 - INFO - datasets.arrow_dataset - Caching processed dataset at /root/.cache/huggingface/datasets/text/default-84f9a20791c79fa8/0.0.0/37eaf37ac90527a7fd768c94b312ee84f8815c9b7ac00acf81c1c364e8392f99/cache-b0b67cf66c56fb61.arrow\n",
      "Grouping texts in chunks of 1024: 100% 120/120 [00:00<00:00, 8385.95 examples/s]\n",
      "/usr/local/lib/python3.10/dist-packages/transformers/utils/import_utils.py:575: FutureWarning: `is_torch_tpu_available` is deprecated and will be removed in 4.41.0. Please use the `is_torch_xla_available` instead.\n",
      "  warnings.warn(\n",
      "[INFO|trainer.py:2134] 2024-10-21 12:15:27,225 >> ***** Running training *****\n",
      "[INFO|trainer.py:2135] 2024-10-21 12:15:27,225 >>   Num examples = 6\n",
      "[INFO|trainer.py:2136] 2024-10-21 12:15:27,225 >>   Num Epochs = 5\n",
      "[INFO|trainer.py:2137] 2024-10-21 12:15:27,225 >>   Instantaneous batch size per device = 1\n",
      "[INFO|trainer.py:2140] 2024-10-21 12:15:27,225 >>   Total train batch size (w. parallel, distributed & accumulation) = 1\n",
      "[INFO|trainer.py:2141] 2024-10-21 12:15:27,225 >>   Gradient Accumulation steps = 1\n",
      "[INFO|trainer.py:2142] 2024-10-21 12:15:27,225 >>   Total optimization steps = 30\n",
      "[INFO|trainer.py:2143] 2024-10-21 12:15:27,226 >>   Number of trainable parameters = 354,823,168\n",
      "100% 30/30 [00:06<00:00,  5.10it/s][INFO|trainer.py:3503] 2024-10-21 12:15:33,954 >> Saving model checkpoint to outputs_stories/checkpoint-30\n",
      "[INFO|configuration_utils.py:472] 2024-10-21 12:15:33,956 >> Configuration saved in outputs_stories/checkpoint-30/config.json\n",
      "[INFO|configuration_utils.py:807] 2024-10-21 12:15:33,956 >> Configuration saved in outputs_stories/checkpoint-30/generation_config.json\n",
      "[INFO|modeling_utils.py:2799] 2024-10-21 12:15:36,891 >> Model weights saved in outputs_stories/checkpoint-30/model.safetensors\n",
      "[INFO|tokenization_utils_base.py:2684] 2024-10-21 12:15:36,892 >> tokenizer config file saved in outputs_stories/checkpoint-30/tokenizer_config.json\n",
      "[INFO|tokenization_utils_base.py:2693] 2024-10-21 12:15:36,892 >> Special tokens file saved in outputs_stories/checkpoint-30/special_tokens_map.json\n",
      "[INFO|trainer.py:2394] 2024-10-21 12:15:46,864 >> \n",
      "\n",
      "Training completed. Do not forget to share your model on huggingface.co/models =)\n",
      "\n",
      "\n",
      "{'train_runtime': 19.6377, 'train_samples_per_second': 1.528, 'train_steps_per_second': 1.528, 'train_loss': 1.559402592976888, 'epoch': 5.0}\n",
      "100% 30/30 [00:19<00:00,  1.53it/s]\n",
      "[INFO|trainer.py:3503] 2024-10-21 12:15:46,865 >> Saving model checkpoint to outputs_stories\n",
      "[INFO|configuration_utils.py:472] 2024-10-21 12:15:46,866 >> Configuration saved in outputs_stories/config.json\n",
      "[INFO|configuration_utils.py:807] 2024-10-21 12:15:46,867 >> Configuration saved in outputs_stories/generation_config.json\n",
      "[INFO|modeling_utils.py:2799] 2024-10-21 12:15:50,488 >> Model weights saved in outputs_stories/model.safetensors\n",
      "[INFO|tokenization_utils_base.py:2684] 2024-10-21 12:15:50,489 >> tokenizer config file saved in outputs_stories/tokenizer_config.json\n",
      "[INFO|tokenization_utils_base.py:2693] 2024-10-21 12:15:50,489 >> Special tokens file saved in outputs_stories/special_tokens_map.json\n",
      "***** train metrics *****\n",
      "  epoch                    =        5.0\n",
      "  total_flos               =    51895GF\n",
      "  train_loss               =     1.5594\n",
      "  train_runtime            = 0:00:19.63\n",
      "  train_samples            =          6\n",
      "  train_samples_per_second =      1.528\n",
      "  train_steps_per_second   =      1.528\n",
      "10/21/2024 12:15:50 - INFO - __main__ - *** Evaluate ***\n",
      "[INFO|trainer.py:3819] 2024-10-21 12:15:50,541 >> \n",
      "***** Running Evaluation *****\n",
      "[INFO|trainer.py:3821] 2024-10-21 12:15:50,542 >>   Num examples = 6\n",
      "[INFO|trainer.py:3824] 2024-10-21 12:15:50,542 >>   Batch size = 1\n",
      "100% 6/6 [00:00<00:00, 16.38it/s]\n",
      "***** eval metrics *****\n",
      "  epoch                   =        5.0\n",
      "  eval_accuracy           =     0.9324\n",
      "  eval_loss               =     0.2851\n",
      "  eval_runtime            = 0:00:00.44\n",
      "  eval_samples            =          6\n",
      "  eval_samples_per_second =     13.353\n",
      "  eval_steps_per_second   =     13.353\n",
      "  perplexity              =     1.3299\n",
      "[INFO|modelcard.py:449] 2024-10-21 12:15:51,138 >> Dropping the following result as it does not have all the necessary fields:\n",
      "{'task': {'name': 'Causal Language Modeling', 'type': 'text-generation'}, 'metrics': [{'name': 'Accuracy', 'type': 'accuracy', 'value': 0.9323884001303356}]}\n"
     ]
    },
    {
     "name": "stderr",
     "output_type": "stream",
     "text": [
      "The attention mask and the pad token id were not set. As a consequence, you may observe unexpected behavior. Please pass your input's `attention_mask` to obtain reliable results.\n",
      "Setting `pad_token_id` to `eos_token_id`:50256 for open-end generation.\n",
      "The attention mask and the pad token id were not set. As a consequence, you may observe unexpected behavior. Please pass your input's `attention_mask` to obtain reliable results.\n",
      "Setting `pad_token_id` to `eos_token_id`:50256 for open-end generation.\n"
     ]
    },
    {
     "name": "stdout",
     "output_type": "stream",
     "text": [
      "START: \n",
      "We drove through miles of mountains to our destination. We\n",
      "GENERATED: \n",
      "We drove through miles of mountains to our destination. We were halfway through the mountains when we came to a small town. The townspeople were very thankful that we were not in Boston. We were headed there to celebrate. The end.\n",
      "TRUE: \n",
      "We drove through miles of mountains to our destination. We were in the Ozarks. The mountains became very steep and frightening. The air pressure was uncomfortable in my ears. We finally made it to our destination safely. The end.\n"
     ]
    },
    {
     "name": "stderr",
     "output_type": "stream",
     "text": [
      "The attention mask and the pad token id were not set. As a consequence, you may observe unexpected behavior. Please pass your input's `attention_mask` to obtain reliable results.\n",
      "Setting `pad_token_id` to `eos_token_id`:50256 for open-end generation.\n"
     ]
    },
    {
     "name": "stdout",
     "output_type": "stream",
     "text": [
      "START: \n",
      "On Tuesday we thought we heard thunder. We heard loud\n",
      "GENERATED: \n",
      "On Tuesday we thought we heard thunder. We heard loud crashing noises, and a woman was lifting a ladder. The woman was carrying a big stick. The woman was going to use it to discipline those who broke the rules. The end.\n",
      "TRUE: \n",
      "On Tuesday we thought we heard thunder. We heard loud crashing noises, but it was clear. My wife went downstairs to the gym in the building. Some people were lifting weights and throwing them down. The concierge asked them to stop dropping the weights. The end.\n"
     ]
    },
    {
     "name": "stderr",
     "output_type": "stream",
     "text": [
      "The attention mask and the pad token id were not set. As a consequence, you may observe unexpected behavior. Please pass your input's `attention_mask` to obtain reliable results.\n",
      "Setting `pad_token_id` to `eos_token_id`:50256 for open-end generation.\n"
     ]
    },
    {
     "name": "stdout",
     "output_type": "stream",
     "text": [
      "START: \n",
      "Jenny got a job at an office building. She put\n",
      "GENERATED: \n",
      "Jenny got a job at an office building. She put a plant on her new desk on her first day. Jenny ate lunch in the cafeteria with her co-workers. She went back to her desk after lunch to work some more. Jenny found her car in the parking lot at the end of the day. The end.\n",
      "TRUE: \n",
      "Jenny got a job at an office building. She put a plant on her new desk on her first day. Jenny ate lunch in the cafeteria with her co-workers. She went back to her desk after lunch to work some more. Jenny found her car in the parking lot at the end of the day. The end.\n"
     ]
    },
    {
     "name": "stderr",
     "output_type": "stream",
     "text": [
      "The attention mask and the pad token id were not set. As a consequence, you may observe unexpected behavior. Please pass your input's `attention_mask` to obtain reliable results.\n",
      "Setting `pad_token_id` to `eos_token_id`:50256 for open-end generation.\n"
     ]
    },
    {
     "name": "stdout",
     "output_type": "stream",
     "text": [
      "START: \n",
      "We live by an ice pond. In 1999 the state\n",
      "GENERATED: \n",
      "We live by an ice pond. In 1999 the state drained the pond to remove sediment. They found a number of ancient ploughshare ploughsharers. The ploughsharers were buried in the ground. The ploughsharers were not very popular with the kids. The kids dug a big hole and buried it. They were going to uncover it when they were graduating. The end.\n",
      "TRUE: \n",
      "We live by an ice pond. In 1999 the state drained the pond to remove sediment. They discovered a nineteenth century ploughshare. Apparently there used to be a farm nearby. The ploughshare is now on display in the neighborhood museum. The end.\n"
     ]
    },
    {
     "name": "stderr",
     "output_type": "stream",
     "text": [
      "The attention mask and the pad token id were not set. As a consequence, you may observe unexpected behavior. Please pass your input's `attention_mask` to obtain reliable results.\n",
      "Setting `pad_token_id` to `eos_token_id`:50256 for open-end generation.\n"
     ]
    },
    {
     "name": "stdout",
     "output_type": "stream",
     "text": [
      "START: \n",
      "The man put poison on the weeds. The weeds did\n",
      "GENERATED: \n",
      "The man put poison on the weeds. The weeds did not die. The man tried another poison. The weeds did die. The man tried another poison. The man tried another poison. The man was so angry that he threw a smoke alarm. The end.\n",
      "TRUE: \n",
      "The man put poison on the weeds. The weeds did not die. The man tried another poison. Some of the weeds died. The man decided to pull the rest of the weeds by hand. The end.\n"
     ]
    },
    {
     "name": "stderr",
     "output_type": "stream",
     "text": [
      "The attention mask and the pad token id were not set. As a consequence, you may observe unexpected behavior. Please pass your input's `attention_mask` to obtain reliable results.\n",
      "Setting `pad_token_id` to `eos_token_id`:50256 for open-end generation.\n"
     ]
    },
    {
     "name": "stdout",
     "output_type": "stream",
     "text": [
      "START: \n",
      "Allie wanted a new kitten. So she went to the\n",
      "GENERATED: \n",
      "Allie wanted a new kitten. So she went to the local shelter. There, she picked up a tabby cat. She named it Tiny Tammy. The end.\n",
      "TRUE: \n",
      "Allie wanted a new kitten. So she went to the local shelter. She picked up a tabby cat. Allie was so happy to have a cat. She couldn't believe she was an owner now. The end.\n"
     ]
    },
    {
     "name": "stderr",
     "output_type": "stream",
     "text": [
      "The attention mask and the pad token id were not set. As a consequence, you may observe unexpected behavior. Please pass your input's `attention_mask` to obtain reliable results.\n",
      "Setting `pad_token_id` to `eos_token_id`:50256 for open-end generation.\n"
     ]
    },
    {
     "name": "stdout",
     "output_type": "stream",
     "text": [
      "START: \n",
      "Samuel took one look at the woman. He knew he\n",
      "GENERATED: \n",
      "Samuel took one look at the woman. He knew he recognized her from somewhere. She was his old teacher. He had been very scared of her in school. Now she was just a weak, old woman. The end.\n",
      "TRUE: \n",
      "Samuel took one look at the woman. He knew he recognized her from somewhere. She was his old teacher. He had been very scared of her in school. But now she was just a weak, old woman. The end.\n"
     ]
    },
    {
     "name": "stderr",
     "output_type": "stream",
     "text": [
      "The attention mask and the pad token id were not set. As a consequence, you may observe unexpected behavior. Please pass your input's `attention_mask` to obtain reliable results.\n",
      "Setting `pad_token_id` to `eos_token_id`:50256 for open-end generation.\n"
     ]
    },
    {
     "name": "stdout",
     "output_type": "stream",
     "text": [
      "START: \n",
      "Isaac got a camera for his birthday. And he was\n",
      "GENERATED: \n",
      "Isaac got a camera for his birthday. And he was completely obsessed with it. He took pictures every day to take pictures with. And he loved them all. The end.\n",
      "TRUE: \n",
      "Isaac got a camera for his birthday. And he was completely obsessed with it. Everyday he went outside to take pictures. And he eventually took photography courses in college. Isaac was happy when he finally became a professional photographer. The end.\n"
     ]
    },
    {
     "name": "stderr",
     "output_type": "stream",
     "text": [
      "The attention mask and the pad token id were not set. As a consequence, you may observe unexpected behavior. Please pass your input's `attention_mask` to obtain reliable results.\n",
      "Setting `pad_token_id` to `eos_token_id`:50256 for open-end generation.\n"
     ]
    },
    {
     "name": "stdout",
     "output_type": "stream",
     "text": [
      "START: \n",
      "Jim wanted to decorate his house for Christmas. He started\n",
      "GENERATED: \n",
      "Jim wanted to decorate his house for Christmas. He started stringing colored lights on the roof of his house. The end.\n",
      "TRUE: \n",
      "Jim wanted to decorate his house for Christmas. He started stringing colored lights on the roof of his house. Jim fell because his ladder was unsteady. In the emergency room, Jim was diagnosed with a broken leg. Jim got a white cast on his leg for Christmas. The end.\n"
     ]
    },
    {
     "name": "stderr",
     "output_type": "stream",
     "text": [
      "The attention mask and the pad token id were not set. As a consequence, you may observe unexpected behavior. Please pass your input's `attention_mask` to obtain reliable results.\n",
      "Setting `pad_token_id` to `eos_token_id`:50256 for open-end generation.\n"
     ]
    },
    {
     "name": "stdout",
     "output_type": "stream",
     "text": [
      "START: \n",
      "Lisa was making coffee before going to work. But she\n",
      "GENERATED: \n",
      "Lisa was making coffee before going to work. But she realized she wouldn't have enough time. So she left her house right away. Luckily, the coffee shop was closed until morning. Luckily, she didn't have to drink the whole pot of coffee. The end.\n",
      "TRUE: \n",
      "Lisa was making coffee before going to work. But she realized she wouldn't have enough time. So she left her house right away. But when she came back, she realized her stove was still on. So she bought a smoke alarm just in case it happens again. The end.\n"
     ]
    },
    {
     "name": "stderr",
     "output_type": "stream",
     "text": [
      "The attention mask and the pad token id were not set. As a consequence, you may observe unexpected behavior. Please pass your input's `attention_mask` to obtain reliable results.\n",
      "Setting `pad_token_id` to `eos_token_id`:50256 for open-end generation.\n"
     ]
    },
    {
     "name": "stdout",
     "output_type": "stream",
     "text": [
      "START: \n",
      "My friend caught his son jerking off and decided to\n",
      "GENERATED: \n",
      "My friend caught his son jerking off and decided to have a little fun. He handed his son a big, hot box. The end.\n",
      "TRUE: \n",
      "My friend caught his son jerking off and decided to have the talk. He's mildly religious, so his talk was not to do it God hates it. His son said God made his hand too perfect for his knob not to do it. My religious friend The end.\n"
     ]
    },
    {
     "name": "stderr",
     "output_type": "stream",
     "text": [
      "The attention mask and the pad token id were not set. As a consequence, you may observe unexpected behavior. Please pass your input's `attention_mask` to obtain reliable results.\n",
      "Setting `pad_token_id` to `eos_token_id`:50256 for open-end generation.\n"
     ]
    },
    {
     "name": "stdout",
     "output_type": "stream",
     "text": [
      "START: \n",
      "Ashley stayed late after school to help other students with\n",
      "GENERATED: \n",
      "Ashley stayed late after school to help other students with homework. She read about a new app called The end.\n",
      "TRUE: \n",
      "Ashley stayed late after school to help other students with homework. She was so caught up in helping others that she forgot about her work. She only had one night to catch up because the work was due tomorrow. Ashley trie The end.\n"
     ]
    },
    {
     "name": "stderr",
     "output_type": "stream",
     "text": [
      "The attention mask and the pad token id were not set. As a consequence, you may observe unexpected behavior. Please pass your input's `attention_mask` to obtain reliable results.\n",
      "Setting `pad_token_id` to `eos_token_id`:50256 for open-end generation.\n"
     ]
    },
    {
     "name": "stdout",
     "output_type": "stream",
     "text": [
      "START: \n",
      "Thomas a depressed man who enjoyed to drive around every\n",
      "GENERATED: \n",
      "Thomas a depressed man who enjoyed to drive around every day. One day while driving he hit a tree. Luckily the tree was not very big. The end.\n",
      "TRUE: \n",
      "Thomas a depressed man who enjoyed to drive around every day. He would often drive too far away places just for the sake of driving. One day while driving he was pulled over by the police for speeding. They arrested him be The end.\n"
     ]
    },
    {
     "name": "stderr",
     "output_type": "stream",
     "text": [
      "The attention mask and the pad token id were not set. As a consequence, you may observe unexpected behavior. Please pass your input's `attention_mask` to obtain reliable results.\n",
      "Setting `pad_token_id` to `eos_token_id`:50256 for open-end generation.\n"
     ]
    },
    {
     "name": "stdout",
     "output_type": "stream",
     "text": [
      "START: \n",
      "Wallace had a dream that he slept through one of\n",
      "GENERATED: \n",
      "Wallace had a dream that he slept through one of his midterm exams. He awoke to find that he had indeed slept through an exam. The end.\n",
      "TRUE: \n",
      "Wallace had a dream that he slept through one of his midterm exams. Wallace awoke to find that he had indeed slept through an exam. He panicked briefly, then felt resigned and emailed his professor. The professor told him  The end.\n"
     ]
    },
    {
     "name": "stderr",
     "output_type": "stream",
     "text": [
      "The attention mask and the pad token id were not set. As a consequence, you may observe unexpected behavior. Please pass your input's `attention_mask` to obtain reliable results.\n",
      "Setting `pad_token_id` to `eos_token_id`:50256 for open-end generation.\n"
     ]
    },
    {
     "name": "stdout",
     "output_type": "stream",
     "text": [
      "START: \n",
      "Mary was eager to quit smoking because she wanted to\n",
      "GENERATED: \n",
      "Mary was eager to quit smoking because she wanted to be pregnant. But she decided to quit cold turkey cookin'. So she left her job. The end.\n",
      "TRUE: \n",
      "Mary was eager to quit smoking because she wanted to become pregnant. She tried to quit cold turkey but kept running out to buy cigarettes. Then she went to a support group and tried hypnosis without success. Discouraged,  The end.\n"
     ]
    },
    {
     "name": "stderr",
     "output_type": "stream",
     "text": [
      "The attention mask and the pad token id were not set. As a consequence, you may observe unexpected behavior. Please pass your input's `attention_mask` to obtain reliable results.\n",
      "Setting `pad_token_id` to `eos_token_id`:50256 for open-end generation.\n"
     ]
    },
    {
     "name": "stdout",
     "output_type": "stream",
     "text": [
      "START: \n",
      "The swimming pool was crowded when Diane decided to perform\n",
      "GENERATED: \n",
      "The swimming pool was crowded when Diane decided to perform a stunt. She sprang from the edge of the pool straight through the tube. Diane's shoulders cleare The end.\n",
      "TRUE: \n",
      "The swimming pool was crowded when Diane decided to perform a stunt. In front of her in the water was a circular black inner tube. Diane sprang from the edge of the pool straight through the tube. Once her shoulders cleare The end.\n"
     ]
    },
    {
     "name": "stderr",
     "output_type": "stream",
     "text": [
      "The attention mask and the pad token id were not set. As a consequence, you may observe unexpected behavior. Please pass your input's `attention_mask` to obtain reliable results.\n",
      "Setting `pad_token_id` to `eos_token_id`:50256 for open-end generation.\n"
     ]
    },
    {
     "name": "stdout",
     "output_type": "stream",
     "text": [
      "START: \n",
      "When Laura and I were walking by a river one\n",
      "GENERATED: \n",
      "When Laura and I were walking by a river one day. She made a sudden move and grabbed her chest. I jerked the back of my head and fell to the ground. The end.\n",
      "TRUE: \n",
      "When Laura and I were walking by a river one day there was a smell. We weren't sure what it was but it smelled really really bad. We found the source of the alligator and it was a alligator. She was really sad that it was  The end.\n"
     ]
    },
    {
     "name": "stderr",
     "output_type": "stream",
     "text": [
      "The attention mask and the pad token id were not set. As a consequence, you may observe unexpected behavior. Please pass your input's `attention_mask` to obtain reliable results.\n",
      "Setting `pad_token_id` to `eos_token_id`:50256 for open-end generation.\n"
     ]
    },
    {
     "name": "stdout",
     "output_type": "stream",
     "text": [
      "START: \n",
      "Heather was always a skinny girl until she turned 40\n",
      "GENERATED: \n",
      "Heather was always a skinny girl until she turned 40 years old. She had red hair and blue eyes. Now she's a big girl. Her coach encouraged her to get a new bra. She tried a floral print one and it was too expensive. So she went back to her old bra. The end.\n",
      "TRUE: \n",
      "Heather was always a skinny girl until she turned 40 years old. All of a sudden she found herself gaining a few ounces every month. By the time she was 42 she had gained 15lbs in just 2 years. She had some health issues so The end.\n"
     ]
    },
    {
     "name": "stderr",
     "output_type": "stream",
     "text": [
      "The attention mask and the pad token id were not set. As a consequence, you may observe unexpected behavior. Please pass your input's `attention_mask` to obtain reliable results.\n",
      "Setting `pad_token_id` to `eos_token_id`:50256 for open-end generation.\n"
     ]
    },
    {
     "name": "stdout",
     "output_type": "stream",
     "text": [
      "START: \n",
      "Angel and her boyfriend were dating for over three years.\n",
      "GENERATED: \n",
      "Angel and her boyfriend were dating for over three years. They decided to move in together. The end.\n",
      "TRUE: \n",
      "Angel and her boyfriend were dating for over three years. Angel and her boyfriend were both of legal consenting age. Angel and her boyfriend decided to take things further by having sex. Angel and her boyfriend bought all  The end.\n"
     ]
    },
    {
     "name": "stderr",
     "output_type": "stream",
     "text": [
      "The attention mask and the pad token id were not set. As a consequence, you may observe unexpected behavior. Please pass your input's `attention_mask` to obtain reliable results.\n",
      "Setting `pad_token_id` to `eos_token_id`:50256 for open-end generation.\n"
     ]
    },
    {
     "name": "stdout",
     "output_type": "stream",
     "text": [
      "START: \n",
      "Frances was 78 years old and did very light workouts\n",
      "GENERATED: \n",
      "Frances was 78 years old and did very light workouts every day. She did them all the time. By the time she was 78 years old, she had become very fit. She didn't sweat so she didn't think she had to drink a lot of water. On July 4th, 2016 it was 100 degrees out and she went for a walk. During halfway through The end.\n",
      "TRUE: \n",
      "Frances was 78 years old and did very light workouts every day. She didn't sweat so she didn't think she had to drink a lot of water. On July 4th, 2016 it was 100 degrees out and she went for a walk. During halfway through The end.\n"
     ]
    },
    {
     "name": "stderr",
     "output_type": "stream",
     "text": [
      "The attention mask and the pad token id were not set. As a consequence, you may observe unexpected behavior. Please pass your input's `attention_mask` to obtain reliable results.\n",
      "Setting `pad_token_id` to `eos_token_id`:50256 for open-end generation.\n"
     ]
    },
    {
     "name": "stdout",
     "output_type": "stream",
     "text": [
      "START: \n",
      "The boy asked for permission. Permission was denied. The boy\n",
      "GENERATED: \n",
      "The boy asked for permission. Permission was denied. The boy was punished. The boy was not punished for breaking the law. The boy was happy. The end.\n",
      "TRUE: \n",
      "The boy asked for permission. Permission was denied. The boy did it anyways. He got caught. The boy was punished. Sam's sales were way down. He hadn't been able to get his head in the game. Sam knew he would be fired if he The end.\n"
     ]
    },
    {
     "name": "stderr",
     "output_type": "stream",
     "text": [
      "The attention mask and the pad token id were not set. As a consequence, you may observe unexpected behavior. Please pass your input's `attention_mask` to obtain reliable results.\n",
      "Setting `pad_token_id` to `eos_token_id`:50256 for open-end generation.\n"
     ]
    },
    {
     "name": "stdout",
     "output_type": "stream",
     "text": [
      "START: \n",
      "I woke up early. I grabbed a coffee. I told\n",
      "GENERATED: \n",
      "I woke up early. I grabbed a coffee. I told my friend to get a can of beer. I made a whole pot of coffee. I then went to the bar to dine on their food. The end.\n",
      "TRUE: \n",
      "I woke up early. I grabbed a coffee. I told them I wanted it black. They gave it to me quickly. I rushed to work. Brian worked at a newspaper, but he like to perform stand up comedy. Brian was good at comedy, and someone t The end.\n"
     ]
    },
    {
     "name": "stderr",
     "output_type": "stream",
     "text": [
      "The attention mask and the pad token id were not set. As a consequence, you may observe unexpected behavior. Please pass your input's `attention_mask` to obtain reliable results.\n",
      "Setting `pad_token_id` to `eos_token_id`:50256 for open-end generation.\n"
     ]
    },
    {
     "name": "stdout",
     "output_type": "stream",
     "text": [
      "START: \n",
      "Allie was with Fred. Then a beautiful girl walked by.\n",
      "GENERATED: \n",
      "Allie was with Fred. Then a beautiful girl walked by. She had a big heart. She loved baseball. So she bought a new bat. She was going to bat the baseball game. The end.\n",
      "TRUE: \n",
      "Allie was with Fred. Then a beautiful girl walked by. Fred wanted her instead. So he dumped Allie. Allie was upset. Morgan and Cassidy were walking to their car. There was an older couple nearby. They heard the woman compl The end.\n"
     ]
    },
    {
     "name": "stderr",
     "output_type": "stream",
     "text": [
      "The attention mask and the pad token id were not set. As a consequence, you may observe unexpected behavior. Please pass your input's `attention_mask` to obtain reliable results.\n",
      "Setting `pad_token_id` to `eos_token_id`:50256 for open-end generation.\n"
     ]
    },
    {
     "name": "stdout",
     "output_type": "stream",
     "text": [
      "START: \n",
      "The dog ran. It stumbled on a hole. It hurt\n",
      "GENERATED: \n",
      "The dog ran. It stumbled on a hole. It hurt its front leg. The dog hobbled home. The owner took it to the veterinarians. The end.\n",
      "TRUE: \n",
      "The dog ran. It stumbled on a hole. It hurt its front leg. It hobbled home. It's owners took it to the veterinarians. James was taking an online test to win 1 grand. He was told not to use the internet to find the answers. The end.\n"
     ]
    },
    {
     "name": "stderr",
     "output_type": "stream",
     "text": [
      "The attention mask and the pad token id were not set. As a consequence, you may observe unexpected behavior. Please pass your input's `attention_mask` to obtain reliable results.\n",
      "Setting `pad_token_id` to `eos_token_id`:50256 for open-end generation.\n"
     ]
    },
    {
     "name": "stdout",
     "output_type": "stream",
     "text": [
      "START: \n",
      "It was Christmas. Suzy was spending it alone. She was\n",
      "GENERATED: \n",
      "It was Christmas. Suzy was spending it alone. She was upset. She didn't even want to celebrate. Instead, she went to the movie theater. There, she saw The Godfather. The end.\n",
      "TRUE: \n",
      "It was Christmas. Suzy was spending it alone. She was upset. She didn't even want to celebrate. It meant nothing to her. Kyle was asleep in bed when he heard something loud. Someone was trying to get through his front door The end.\n"
     ]
    },
    {
     "name": "stderr",
     "output_type": "stream",
     "text": [
      "The attention mask and the pad token id were not set. As a consequence, you may observe unexpected behavior. Please pass your input's `attention_mask` to obtain reliable results.\n",
      "Setting `pad_token_id` to `eos_token_id`:50256 for open-end generation.\n"
     ]
    },
    {
     "name": "stdout",
     "output_type": "stream",
     "text": [
      "START: \n",
      "Chet checked his pantry. It was empty. He went to\n",
      "GENERATED: \n",
      "Chet checked his pantry. It was empty. He went to the grocery store. There was a can of beans in the fridge. He bought a can of beans. He filled his pantry. The end.\n",
      "TRUE: \n",
      "Chet checked his pantry. It was empty. He went to the grocery store. He bought fruits and veggies. He filled his pantry. Jimmy was in a rock and a hard place. He had recently divorced his wife, and gotten laid off from his The end.\n"
     ]
    },
    {
     "name": "stderr",
     "output_type": "stream",
     "text": [
      "The attention mask and the pad token id were not set. As a consequence, you may observe unexpected behavior. Please pass your input's `attention_mask` to obtain reliable results.\n",
      "Setting `pad_token_id` to `eos_token_id`:50256 for open-end generation.\n"
     ]
    },
    {
     "name": "stdout",
     "output_type": "stream",
     "text": [
      "START: \n",
      "Blake went to the park. He wanted to find a\n",
      "GENERATED: \n",
      "Blake went to the park. He wanted to find a Diglet. He saw a Diglet stuck in a tree. He tried to call it down. The dog was scared and wouldn't come to him. He tried to call it down. The end.\n",
      "TRUE: \n",
      "Blake went to the park. He wanted to find a rare pokemon. He saw a Diglet. He threw a pokeball. He caught the Diglet. Tom was talking on the phone and walking. He made a sudden move and dropped his phone. The screen cracke The end.\n"
     ]
    },
    {
     "name": "stderr",
     "output_type": "stream",
     "text": [
      "The attention mask and the pad token id were not set. As a consequence, you may observe unexpected behavior. Please pass your input's `attention_mask` to obtain reliable results.\n",
      "Setting `pad_token_id` to `eos_token_id`:50256 for open-end generation.\n"
     ]
    },
    {
     "name": "stdout",
     "output_type": "stream",
     "text": [
      "START: \n",
      "Tim needed some BBQ meat. He went to the butcher.\n",
      "GENERATED: \n",
      "Tim needed some BBQ meat. He went to the butcher. He saw some strange meats. He bought the duck meat. It was so good that he wished he ordered a mo The end.\n",
      "TRUE: \n",
      "Tim needed some BBQ meat. He went to the butcher. He saw some strange meats. He bought the duck meat. It was a big hit! I read in the news that monks in orange robes were in Boston. They were in Quincy Market asking for mo The end.\n"
     ]
    },
    {
     "name": "stderr",
     "output_type": "stream",
     "text": [
      "The attention mask and the pad token id were not set. As a consequence, you may observe unexpected behavior. Please pass your input's `attention_mask` to obtain reliable results.\n",
      "Setting `pad_token_id` to `eos_token_id`:50256 for open-end generation.\n"
     ]
    },
    {
     "name": "stdout",
     "output_type": "stream",
     "text": [
      "START: \n",
      "A farmer got up in the morning. He put his\n",
      "GENERATED: \n",
      "A farmer got up in the morning. He put his boots on. He went outside. He milked the cow. The end.\n",
      "TRUE: \n",
      "A farmer got up in the morning. He put his boots on. He went outside. He milked the cow. He went back to bed. I got a job selling cookies door to door. I had to walk around all day in the hot sun. I got extremely thirsty.  The end.\n",
      "START: \n",
      "The sun set. The man was still lost. He felt\n",
      "GENERATED: \n",
      "The sun set. The man was still lost. He felt himself panic. He tried to call for help. The man was having a hard time getting through the traffic. He tried to call for an ambulance. The man was told to get a job. The man did not have transportation so he tried to call for an Uber. The end.\n",
      "TRUE: \n",
      "The sun set. The man was still lost. He felt himself panic. He controlled the panic. He waited for help to find him. Several students were complaining about their results on the exam. One person said that their teacher sho The end.\n",
      "1\n",
      "-41\n",
      "0\n",
      "99\n",
      "50\n",
      "-45\n",
      "-4\n",
      "-93\n",
      "-149\n",
      "-10\n",
      "-118\n",
      "-121\n",
      "-89\n",
      "-96\n",
      "-91\n",
      "-65\n",
      "-74\n",
      "26\n",
      "-131\n",
      "86\n",
      "-82\n",
      "-71\n",
      "-63\n",
      "-102\n",
      "-57\n",
      "-66\n",
      "-41\n",
      "-75\n",
      "-134\n",
      "59\n"
     ]
    },
    {
     "data": {
      "image/png": "[encoded data removed]",
      "text/plain": [
       "<Figure size 640x480 with 1 Axes>"
      ]
     },
     "metadata": {},
     "output_type": "display_data"
    },
    {
     "name": "stdout",
     "output_type": "stream",
     "text": [
      "222\n",
      "2024-10-21 12:18:15.400000: E external/local_xla/xla/stream_executor/cuda/cuda_fft.cc:485] Unable to register cuFFT factory: Attempting to register factory for plugin cuFFT when one has already been registered\n",
      "2024-10-21 12:18:15.421772: E external/local_xla/xla/stream_executor/cuda/cuda_dnn.cc:8454] Unable to register cuDNN factory: Attempting to register factory for plugin cuDNN when one has already been registered\n",
      "2024-10-21 12:18:15.428307: E external/local_xla/xla/stream_executor/cuda/cuda_blas.cc:1452] Unable to register cuBLAS factory: Attempting to register factory for plugin cuBLAS when one has already been registered\n",
      "2024-10-21 12:18:16.631823: W tensorflow/compiler/tf2tensorrt/utils/py_utils.cc:38] TF-TRT Warning: Could not find TensorRT\n",
      "10/21/2024 12:18:18 - WARNING - __main__ - Process rank: 0, device: cuda:0, n_gpu: 1distributed training: False, 16-bits training: False\n",
      "10/21/2024 12:18:18 - INFO - __main__ - Training/evaluation parameters TrainingArguments(\n",
      "_n_gpu=1,\n",
      "accelerator_config={'split_batches': False, 'dispatch_batches': None, 'even_batches': True, 'use_seedable_sampler': True, 'non_blocking': False, 'gradient_accumulation_kwargs': None, 'use_configured_state': False},\n",
      "adafactor=False,\n",
      "adam_beta1=0.9,\n",
      "adam_beta2=0.999,\n",
      "adam_epsilon=1e-08,\n",
      "auto_find_batch_size=False,\n",
      "batch_eval_metrics=False,\n",
      "bf16=False,\n",
      "bf16_full_eval=False,\n",
      "data_seed=None,\n",
      "dataloader_drop_last=False,\n",
      "dataloader_num_workers=0,\n",
      "dataloader_persistent_workers=False,\n",
      "dataloader_pin_memory=True,\n",
      "dataloader_prefetch_factor=None,\n",
      "ddp_backend=None,\n",
      "ddp_broadcast_buffers=None,\n",
      "ddp_bucket_cap_mb=None,\n",
      "ddp_find_unused_parameters=None,\n",
      "ddp_timeout=1800,\n",
      "debug=[],\n",
      "deepspeed=None,\n",
      "disable_tqdm=False,\n",
      "dispatch_batches=None,\n",
      "do_eval=True,\n",
      "do_predict=False,\n",
      "do_train=True,\n",
      "eval_accumulation_steps=None,\n",
      "eval_delay=0,\n",
      "eval_do_concat_batches=True,\n",
      "eval_on_start=False,\n",
      "eval_steps=None,\n",
      "eval_strategy=no,\n",
      "eval_use_gather_object=False,\n",
      "evaluation_strategy=None,\n",
      "fp16=False,\n",
      "fp16_backend=auto,\n",
      "fp16_full_eval=False,\n",
      "fp16_opt_level=O1,\n",
      "fsdp=[],\n",
      "fsdp_config={'min_num_params': 0, 'xla': False, 'xla_fsdp_v2': False, 'xla_fsdp_grad_ckpt': False},\n",
      "fsdp_min_num_params=0,\n",
      "fsdp_transformer_layer_cls_to_wrap=None,\n",
      "full_determinism=False,\n",
      "gradient_accumulation_steps=1,\n",
      "gradient_checkpointing=False,\n",
      "gradient_checkpointing_kwargs=None,\n",
      "greater_is_better=None,\n",
      "group_by_length=False,\n",
      "half_precision_backend=auto,\n",
      "hub_always_push=False,\n",
      "hub_model_id=None,\n",
      "hub_private_repo=False,\n",
      "hub_strategy=every_save,\n",
      "hub_token=<HUB_TOKEN>,\n",
      "ignore_data_skip=False,\n",
      "include_inputs_for_metrics=False,\n",
      "include_num_input_tokens_seen=False,\n",
      "include_tokens_per_second=False,\n",
      "jit_mode_eval=False,\n",
      "label_names=None,\n",
      "label_smoothing_factor=0.0,\n",
      "learning_rate=0.0005,\n",
      "length_column_name=length,\n",
      "load_best_model_at_end=False,\n",
      "local_rank=0,\n",
      "log_level=passive,\n",
      "log_level_replica=warning,\n",
      "log_on_each_node=True,\n",
      "logging_dir=outputs_stories/runs/Oct21_12-18-18_f910dfa8e9d3,\n",
      "logging_first_step=False,\n",
      "logging_nan_inf_filter=True,\n",
      "logging_steps=500,\n",
      "logging_strategy=steps,\n",
      "lr_scheduler_kwargs={},\n",
      "lr_scheduler_type=linear,\n",
      "max_grad_norm=1.0,\n",
      "max_steps=-1,\n",
      "metric_for_best_model=None,\n",
      "mp_parameters=,\n",
      "neftune_noise_alpha=None,\n",
      "no_cuda=False,\n",
      "num_train_epochs=5.0,\n",
      "optim=adamw_torch,\n",
      "optim_args=None,\n",
      "optim_target_modules=None,\n",
      "output_dir=outputs_stories,\n",
      "overwrite_output_dir=True,\n",
      "past_index=-1,\n",
      "per_device_eval_batch_size=1,\n",
      "per_device_train_batch_size=1,\n",
      "prediction_loss_only=False,\n",
      "push_to_hub=False,\n",
      "push_to_hub_model_id=None,\n",
      "push_to_hub_organization=None,\n",
      "push_to_hub_token=<PUSH_TO_HUB_TOKEN>,\n",
      "ray_scope=last,\n",
      "remove_unused_columns=True,\n",
      "report_to=[],\n",
      "restore_callback_states_from_checkpoint=False,\n",
      "resume_from_checkpoint=None,\n",
      "run_name=outputs_stories,\n",
      "save_on_each_node=False,\n",
      "save_only_model=False,\n",
      "save_safetensors=True,\n",
      "save_steps=1000,\n",
      "save_strategy=steps,\n",
      "save_total_limit=None,\n",
      "seed=42,\n",
      "skip_memory_metrics=True,\n",
      "split_batches=None,\n",
      "tf32=None,\n",
      "torch_compile=False,\n",
      "torch_compile_backend=None,\n",
      "torch_compile_mode=None,\n",
      "torch_empty_cache_steps=None,\n",
      "torchdynamo=None,\n",
      "tpu_metrics_debug=False,\n",
      "tpu_num_cores=None,\n",
      "use_cpu=False,\n",
      "use_ipex=False,\n",
      "use_legacy_prediction_loop=False,\n",
      "use_mps_device=False,\n",
      "warmup_ratio=0.0,\n",
      "warmup_steps=0,\n",
      "weight_decay=0.0,\n",
      ")\n",
      "Using custom data configuration default-8b2f380ae8bc9846\n",
      "10/21/2024 12:18:19 - INFO - datasets.builder - Using custom data configuration default-8b2f380ae8bc9846\n",
      "Loading Dataset Infos from /usr/local/lib/python3.10/dist-packages/datasets/packaged_modules/text\n",
      "10/21/2024 12:18:19 - INFO - datasets.info - Loading Dataset Infos from /usr/local/lib/python3.10/dist-packages/datasets/packaged_modules/text\n",
      "Generating dataset text (/root/.cache/huggingface/datasets/text/default-8b2f380ae8bc9846/0.0.0/37eaf37ac90527a7fd768c94b312ee84f8815c9b7ac00acf81c1c364e8392f99)\n",
      "10/21/2024 12:18:19 - INFO - datasets.builder - Generating dataset text (/root/.cache/huggingface/datasets/text/default-8b2f380ae8bc9846/0.0.0/37eaf37ac90527a7fd768c94b312ee84f8815c9b7ac00acf81c1c364e8392f99)\n",
      "Downloading and preparing dataset text/default to /root/.cache/huggingface/datasets/text/default-8b2f380ae8bc9846/0.0.0/37eaf37ac90527a7fd768c94b312ee84f8815c9b7ac00acf81c1c364e8392f99...\n",
      "10/21/2024 12:18:19 - INFO - datasets.builder - Downloading and preparing dataset text/default to /root/.cache/huggingface/datasets/text/default-8b2f380ae8bc9846/0.0.0/37eaf37ac90527a7fd768c94b312ee84f8815c9b7ac00acf81c1c364e8392f99...\n",
      "Downloading took 0.0 min\n",
      "10/21/2024 12:18:19 - INFO - datasets.download.download_manager - Downloading took 0.0 min\n",
      "Checksum Computation took 0.0 min\n",
      "10/21/2024 12:18:19 - INFO - datasets.download.download_manager - Checksum Computation took 0.0 min\n",
      "Generating train split\n",
      "10/21/2024 12:18:19 - INFO - datasets.builder - Generating train split\n",
      "Generating train split: 120 examples [00:00, 37440.79 examples/s]\n",
      "Generating validation split\n",
      "10/21/2024 12:18:19 - INFO - datasets.builder - Generating validation split\n",
      "Generating validation split: 120 examples [00:00, 119609.43 examples/s]\n",
      "Unable to verify splits sizes.\n",
      "10/21/2024 12:18:19 - INFO - datasets.utils.info_utils - Unable to verify splits sizes.\n",
      "Dataset text downloaded and prepared to /root/.cache/huggingface/datasets/text/default-8b2f380ae8bc9846/0.0.0/37eaf37ac90527a7fd768c94b312ee84f8815c9b7ac00acf81c1c364e8392f99. Subsequent calls will reuse this data.\n",
      "10/21/2024 12:18:19 - INFO - datasets.builder - Dataset text downloaded and prepared to /root/.cache/huggingface/datasets/text/default-8b2f380ae8bc9846/0.0.0/37eaf37ac90527a7fd768c94b312ee84f8815c9b7ac00acf81c1c364e8392f99. Subsequent calls will reuse this data.\n",
      "[INFO|configuration_utils.py:733] 2024-10-21 12:18:19,166 >> loading configuration file config.json from cache at /root/.cache/huggingface/hub/models--gpt2-medium/snapshots/6dcaa7a952f72f9298047fd5137cd6e4f05f41da/config.json\n",
      "[INFO|configuration_utils.py:800] 2024-10-21 12:18:19,167 >> Model config GPT2Config {\n",
      "  \"_name_or_path\": \"gpt2-medium\",\n",
      "  \"activation_function\": \"gelu_new\",\n",
      "  \"architectures\": [\n",
      "    \"GPT2LMHeadModel\"\n",
      "  ],\n",
      "  \"attn_pdrop\": 0.1,\n",
      "  \"bos_token_id\": 50256,\n",
      "  \"embd_pdrop\": 0.1,\n",
      "  \"eos_token_id\": 50256,\n",
      "  \"initializer_range\": 0.02,\n",
      "  \"layer_norm_epsilon\": 1e-05,\n",
      "  \"model_type\": \"gpt2\",\n",
      "  \"n_ctx\": 1024,\n",
      "  \"n_embd\": 1024,\n",
      "  \"n_head\": 16,\n",
      "  \"n_inner\": null,\n",
      "  \"n_layer\": 24,\n",
      "  \"n_positions\": 1024,\n",
      "  \"n_special\": 0,\n",
      "  \"predict_special_tokens\": true,\n",
      "  \"reorder_and_upcast_attn\": false,\n",
      "  \"resid_pdrop\": 0.1,\n",
      "  \"scale_attn_by_inverse_layer_idx\": false,\n",
      "  \"scale_attn_weights\": true,\n",
      "  \"summary_activation\": null,\n",
      "  \"summary_first_dropout\": 0.1,\n",
      "  \"summary_proj_to_labels\": true,\n",
      "  \"summary_type\": \"cls_index\",\n",
      "  \"summary_use_proj\": true,\n",
      "  \"task_specific_params\": {\n",
      "    \"text-generation\": {\n",
      "      \"do_sample\": true,\n",
      "      \"max_length\": 50\n",
      "    }\n",
      "  },\n",
      "  \"transformers_version\": \"4.44.2\",\n",
      "  \"use_cache\": true,\n",
      "  \"vocab_size\": 50257\n",
      "}\n",
      "\n",
      "[INFO|configuration_utils.py:733] 2024-10-21 12:18:19,239 >> loading configuration file config.json from cache at /root/.cache/huggingface/hub/models--gpt2-medium/snapshots/6dcaa7a952f72f9298047fd5137cd6e4f05f41da/config.json\n",
      "[INFO|configuration_utils.py:800] 2024-10-21 12:18:19,240 >> Model config GPT2Config {\n",
      "  \"_name_or_path\": \"gpt2-medium\",\n",
      "  \"activation_function\": \"gelu_new\",\n",
      "  \"architectures\": [\n",
      "    \"GPT2LMHeadModel\"\n",
      "  ],\n",
      "  \"attn_pdrop\": 0.1,\n",
      "  \"bos_token_id\": 50256,\n",
      "  \"embd_pdrop\": 0.1,\n",
      "  \"eos_token_id\": 50256,\n",
      "  \"initializer_range\": 0.02,\n",
      "  \"layer_norm_epsilon\": 1e-05,\n",
      "  \"model_type\": \"gpt2\",\n",
      "  \"n_ctx\": 1024,\n",
      "  \"n_embd\": 1024,\n",
      "  \"n_head\": 16,\n",
      "  \"n_inner\": null,\n",
      "  \"n_layer\": 24,\n",
      "  \"n_positions\": 1024,\n",
      "  \"n_special\": 0,\n",
      "  \"predict_special_tokens\": true,\n",
      "  \"reorder_and_upcast_attn\": false,\n",
      "  \"resid_pdrop\": 0.1,\n",
      "  \"scale_attn_by_inverse_layer_idx\": false,\n",
      "  \"scale_attn_weights\": true,\n",
      "  \"summary_activation\": null,\n",
      "  \"summary_first_dropout\": 0.1,\n",
      "  \"summary_proj_to_labels\": true,\n",
      "  \"summary_type\": \"cls_index\",\n",
      "  \"summary_use_proj\": true,\n",
      "  \"task_specific_params\": {\n",
      "    \"text-generation\": {\n",
      "      \"do_sample\": true,\n",
      "      \"max_length\": 50\n",
      "    }\n",
      "  },\n",
      "  \"transformers_version\": \"4.44.2\",\n",
      "  \"use_cache\": true,\n",
      "  \"vocab_size\": 50257\n",
      "}\n",
      "\n",
      "[INFO|tokenization_utils_base.py:2269] 2024-10-21 12:18:19,250 >> loading file vocab.json from cache at /root/.cache/huggingface/hub/models--gpt2-medium/snapshots/6dcaa7a952f72f9298047fd5137cd6e4f05f41da/vocab.json\n",
      "[INFO|tokenization_utils_base.py:2269] 2024-10-21 12:18:19,250 >> loading file merges.txt from cache at /root/.cache/huggingface/hub/models--gpt2-medium/snapshots/6dcaa7a952f72f9298047fd5137cd6e4f05f41da/merges.txt\n",
      "[INFO|tokenization_utils_base.py:2269] 2024-10-21 12:18:19,250 >> loading file tokenizer.json from cache at /root/.cache/huggingface/hub/models--gpt2-medium/snapshots/6dcaa7a952f72f9298047fd5137cd6e4f05f41da/tokenizer.json\n",
      "[INFO|tokenization_utils_base.py:2269] 2024-10-21 12:18:19,250 >> loading file added_tokens.json from cache at None\n",
      "[INFO|tokenization_utils_base.py:2269] 2024-10-21 12:18:19,250 >> loading file special_tokens_map.json from cache at None\n",
      "[INFO|tokenization_utils_base.py:2269] 2024-10-21 12:18:19,250 >> loading file tokenizer_config.json from cache at /root/.cache/huggingface/hub/models--gpt2-medium/snapshots/6dcaa7a952f72f9298047fd5137cd6e4f05f41da/tokenizer_config.json\n",
      "[INFO|configuration_utils.py:733] 2024-10-21 12:18:19,250 >> loading configuration file config.json from cache at /root/.cache/huggingface/hub/models--gpt2-medium/snapshots/6dcaa7a952f72f9298047fd5137cd6e4f05f41da/config.json\n",
      "[INFO|configuration_utils.py:800] 2024-10-21 12:18:19,251 >> Model config GPT2Config {\n",
      "  \"_name_or_path\": \"gpt2-medium\",\n",
      "  \"activation_function\": \"gelu_new\",\n",
      "  \"architectures\": [\n",
      "    \"GPT2LMHeadModel\"\n",
      "  ],\n",
      "  \"attn_pdrop\": 0.1,\n",
      "  \"bos_token_id\": 50256,\n",
      "  \"embd_pdrop\": 0.1,\n",
      "  \"eos_token_id\": 50256,\n",
      "  \"initializer_range\": 0.02,\n",
      "  \"layer_norm_epsilon\": 1e-05,\n",
      "  \"model_type\": \"gpt2\",\n",
      "  \"n_ctx\": 1024,\n",
      "  \"n_embd\": 1024,\n",
      "  \"n_head\": 16,\n",
      "  \"n_inner\": null,\n",
      "  \"n_layer\": 24,\n",
      "  \"n_positions\": 1024,\n",
      "  \"n_special\": 0,\n",
      "  \"predict_special_tokens\": true,\n",
      "  \"reorder_and_upcast_attn\": false,\n",
      "  \"resid_pdrop\": 0.1,\n",
      "  \"scale_attn_by_inverse_layer_idx\": false,\n",
      "  \"scale_attn_weights\": true,\n",
      "  \"summary_activation\": null,\n",
      "  \"summary_first_dropout\": 0.1,\n",
      "  \"summary_proj_to_labels\": true,\n",
      "  \"summary_type\": \"cls_index\",\n",
      "  \"summary_use_proj\": true,\n",
      "  \"task_specific_params\": {\n",
      "    \"text-generation\": {\n",
      "      \"do_sample\": true,\n",
      "      \"max_length\": 50\n",
      "    }\n",
      "  },\n",
      "  \"transformers_version\": \"4.44.2\",\n",
      "  \"use_cache\": true,\n",
      "  \"vocab_size\": 50257\n",
      "}\n",
      "\n",
      "/usr/local/lib/python3.10/dist-packages/transformers/tokenization_utils_base.py:1601: FutureWarning: `clean_up_tokenization_spaces` was not set. It will be set to `True` by default. This behavior will be depracted in transformers v4.45, and will be then set to `False` by default. For more details check this issue: https://github.com/huggingface/transformers/issues/31884\n",
      "  warnings.warn(\n",
      "[INFO|modeling_utils.py:3678] 2024-10-21 12:18:19,361 >> loading weights file model.safetensors from cache at /root/.cache/huggingface/hub/models--gpt2-medium/snapshots/6dcaa7a952f72f9298047fd5137cd6e4f05f41da/model.safetensors\n",
      "[INFO|configuration_utils.py:1038] 2024-10-21 12:18:19,372 >> Generate config GenerationConfig {\n",
      "  \"bos_token_id\": 50256,\n",
      "  \"eos_token_id\": 50256\n",
      "}\n",
      "\n",
      "[INFO|modeling_utils.py:4507] 2024-10-21 12:18:19,469 >> All model checkpoint weights were used when initializing GPT2LMHeadModel.\n",
      "\n",
      "[INFO|modeling_utils.py:4515] 2024-10-21 12:18:19,470 >> All the weights of GPT2LMHeadModel were initialized from the model checkpoint at gpt2-medium.\n",
      "If your task is similar to the task the model of the checkpoint was trained on, you can already use GPT2LMHeadModel for predictions without further training.\n",
      "[INFO|configuration_utils.py:993] 2024-10-21 12:18:19,548 >> loading configuration file generation_config.json from cache at /root/.cache/huggingface/hub/models--gpt2-medium/snapshots/6dcaa7a952f72f9298047fd5137cd6e4f05f41da/generation_config.json\n",
      "[INFO|configuration_utils.py:1038] 2024-10-21 12:18:19,549 >> Generate config GenerationConfig {\n",
      "  \"bos_token_id\": 50256,\n",
      "  \"eos_token_id\": 50256\n",
      "}\n",
      "\n",
      "Running tokenizer on dataset:   0% 0/120 [00:00<?, ? examples/s]Caching processed dataset at /root/.cache/huggingface/datasets/text/default-8b2f380ae8bc9846/0.0.0/37eaf37ac90527a7fd768c94b312ee84f8815c9b7ac00acf81c1c364e8392f99/cache-6fd8fdb2a9a8e346.arrow\n",
      "10/21/2024 12:18:19 - INFO - datasets.arrow_dataset - Caching processed dataset at /root/.cache/huggingface/datasets/text/default-8b2f380ae8bc9846/0.0.0/37eaf37ac90527a7fd768c94b312ee84f8815c9b7ac00acf81c1c364e8392f99/cache-6fd8fdb2a9a8e346.arrow\n",
      "Running tokenizer on dataset: 100% 120/120 [00:00<00:00, 8076.58 examples/s]\n",
      "Running tokenizer on dataset:   0% 0/120 [00:00<?, ? examples/s]Caching processed dataset at /root/.cache/huggingface/datasets/text/default-8b2f380ae8bc9846/0.0.0/37eaf37ac90527a7fd768c94b312ee84f8815c9b7ac00acf81c1c364e8392f99/cache-5461372563e2a966.arrow\n",
      "10/21/2024 12:18:19 - INFO - datasets.arrow_dataset - Caching processed dataset at /root/.cache/huggingface/datasets/text/default-8b2f380ae8bc9846/0.0.0/37eaf37ac90527a7fd768c94b312ee84f8815c9b7ac00acf81c1c364e8392f99/cache-5461372563e2a966.arrow\n",
      "Running tokenizer on dataset: 100% 120/120 [00:00<00:00, 11029.42 examples/s]\n",
      "Grouping texts in chunks of 1024:   0% 0/120 [00:00<?, ? examples/s]Caching processed dataset at /root/.cache/huggingface/datasets/text/default-8b2f380ae8bc9846/0.0.0/37eaf37ac90527a7fd768c94b312ee84f8815c9b7ac00acf81c1c364e8392f99/cache-3a6a28d6d2e61f63.arrow\n",
      "10/21/2024 12:18:19 - INFO - datasets.arrow_dataset - Caching processed dataset at /root/.cache/huggingface/datasets/text/default-8b2f380ae8bc9846/0.0.0/37eaf37ac90527a7fd768c94b312ee84f8815c9b7ac00acf81c1c364e8392f99/cache-3a6a28d6d2e61f63.arrow\n",
      "Grouping texts in chunks of 1024: 100% 120/120 [00:00<00:00, 9633.96 examples/s]\n",
      "Grouping texts in chunks of 1024:   0% 0/120 [00:00<?, ? examples/s]Caching processed dataset at /root/.cache/huggingface/datasets/text/default-8b2f380ae8bc9846/0.0.0/37eaf37ac90527a7fd768c94b312ee84f8815c9b7ac00acf81c1c364e8392f99/cache-3aaf249e9656788d.arrow\n",
      "10/21/2024 12:18:19 - INFO - datasets.arrow_dataset - Caching processed dataset at /root/.cache/huggingface/datasets/text/default-8b2f380ae8bc9846/0.0.0/37eaf37ac90527a7fd768c94b312ee84f8815c9b7ac00acf81c1c364e8392f99/cache-3aaf249e9656788d.arrow\n",
      "Grouping texts in chunks of 1024: 100% 120/120 [00:00<00:00, 9709.04 examples/s]\n",
      "/usr/local/lib/python3.10/dist-packages/transformers/utils/import_utils.py:575: FutureWarning: `is_torch_tpu_available` is deprecated and will be removed in 4.41.0. Please use the `is_torch_xla_available` instead.\n",
      "  warnings.warn(\n",
      "[INFO|trainer.py:2134] 2024-10-21 12:18:21,034 >> ***** Running training *****\n",
      "[INFO|trainer.py:2135] 2024-10-21 12:18:21,034 >>   Num examples = 6\n",
      "[INFO|trainer.py:2136] 2024-10-21 12:18:21,034 >>   Num Epochs = 5\n",
      "[INFO|trainer.py:2137] 2024-10-21 12:18:21,034 >>   Instantaneous batch size per device = 1\n",
      "[INFO|trainer.py:2140] 2024-10-21 12:18:21,034 >>   Total train batch size (w. parallel, distributed & accumulation) = 1\n",
      "[INFO|trainer.py:2141] 2024-10-21 12:18:21,034 >>   Gradient Accumulation steps = 1\n",
      "[INFO|trainer.py:2142] 2024-10-21 12:18:21,034 >>   Total optimization steps = 30\n",
      "[INFO|trainer.py:2143] 2024-10-21 12:18:21,035 >>   Number of trainable parameters = 354,823,168\n",
      "100% 30/30 [00:06<00:00,  5.10it/s][INFO|trainer.py:3503] 2024-10-21 12:18:27,837 >> Saving model checkpoint to outputs_stories/checkpoint-30\n",
      "[INFO|configuration_utils.py:472] 2024-10-21 12:18:27,838 >> Configuration saved in outputs_stories/checkpoint-30/config.json\n",
      "[INFO|configuration_utils.py:807] 2024-10-21 12:18:27,838 >> Configuration saved in outputs_stories/checkpoint-30/generation_config.json\n",
      "[INFO|modeling_utils.py:2799] 2024-10-21 12:18:30,780 >> Model weights saved in outputs_stories/checkpoint-30/model.safetensors\n",
      "[INFO|tokenization_utils_base.py:2684] 2024-10-21 12:18:30,781 >> tokenizer config file saved in outputs_stories/checkpoint-30/tokenizer_config.json\n",
      "[INFO|tokenization_utils_base.py:2693] 2024-10-21 12:18:30,781 >> Special tokens file saved in outputs_stories/checkpoint-30/special_tokens_map.json\n",
      "[INFO|trainer.py:2394] 2024-10-21 12:18:39,137 >> \n",
      "\n",
      "Training completed. Do not forget to share your model on huggingface.co/models =)\n",
      "\n",
      "\n",
      "{'train_runtime': 18.1023, 'train_samples_per_second': 1.657, 'train_steps_per_second': 1.657, 'train_loss': 1.5099718729654947, 'epoch': 5.0}\n",
      "100% 30/30 [00:18<00:00,  1.66it/s]\n",
      "[INFO|trainer.py:3503] 2024-10-21 12:18:39,138 >> Saving model checkpoint to outputs_stories\n",
      "[INFO|configuration_utils.py:472] 2024-10-21 12:18:39,140 >> Configuration saved in outputs_stories/config.json\n",
      "[INFO|configuration_utils.py:807] 2024-10-21 12:18:39,140 >> Configuration saved in outputs_stories/generation_config.json\n",
      "[INFO|modeling_utils.py:2799] 2024-10-21 12:18:46,021 >> Model weights saved in outputs_stories/model.safetensors\n",
      "[INFO|tokenization_utils_base.py:2684] 2024-10-21 12:18:46,022 >> tokenizer config file saved in outputs_stories/tokenizer_config.json\n",
      "[INFO|tokenization_utils_base.py:2693] 2024-10-21 12:18:46,023 >> Special tokens file saved in outputs_stories/special_tokens_map.json\n",
      "***** train metrics *****\n",
      "  epoch                    =        5.0\n",
      "  total_flos               =    51895GF\n",
      "  train_loss               =       1.51\n",
      "  train_runtime            = 0:00:18.10\n",
      "  train_samples            =          6\n",
      "  train_samples_per_second =      1.657\n",
      "  train_steps_per_second   =      1.657\n",
      "10/21/2024 12:18:46 - INFO - __main__ - *** Evaluate ***\n",
      "[INFO|trainer.py:3819] 2024-10-21 12:18:46,076 >> \n",
      "***** Running Evaluation *****\n",
      "[INFO|trainer.py:3821] 2024-10-21 12:18:46,076 >>   Num examples = 6\n",
      "[INFO|trainer.py:3824] 2024-10-21 12:18:46,077 >>   Batch size = 1\n",
      "100% 6/6 [00:00<00:00, 16.83it/s]\n",
      "***** eval metrics *****\n",
      "  epoch                   =        5.0\n",
      "  eval_accuracy           =     0.9397\n",
      "  eval_loss               =      0.248\n",
      "  eval_runtime            = 0:00:00.44\n",
      "  eval_samples            =          6\n",
      "  eval_samples_per_second =     13.638\n",
      "  eval_steps_per_second   =     13.638\n",
      "  perplexity              =     1.2815\n",
      "[INFO|modelcard.py:449] 2024-10-21 12:18:46,671 >> Dropping the following result as it does not have all the necessary fields:\n",
      "{'task': {'name': 'Causal Language Modeling', 'type': 'text-generation'}, 'metrics': [{'name': 'Accuracy', 'type': 'accuracy', 'value': 0.9397197784294559}]}\n"
     ]
    },
    {
     "name": "stderr",
     "output_type": "stream",
     "text": [
      "The attention mask and the pad token id were not set. As a consequence, you may observe unexpected behavior. Please pass your input's `attention_mask` to obtain reliable results.\n",
      "Setting `pad_token_id` to `eos_token_id`:50256 for open-end generation.\n",
      "The attention mask and the pad token id were not set. As a consequence, you may observe unexpected behavior. Please pass your input's `attention_mask` to obtain reliable results.\n",
      "Setting `pad_token_id` to `eos_token_id`:50256 for open-end generation.\n"
     ]
    },
    {
     "name": "stdout",
     "output_type": "stream",
     "text": [
      "START: \n",
      "Jake needed a ride to the store. His girlfriend was\n",
      "GENERATED: \n",
      "Jake needed a ride to the store. His girlfriend was working and wouldn't take him. So he took the bus to the store. The end.\n",
      "TRUE: \n",
      "Jake needed a ride to the store. His girlfriend was working and wouldn't take him. His brother was in the middle of a movie and said no. Jake decided to take the bus to the store. He got what he needed all by himself. The end.\n"
     ]
    },
    {
     "name": "stderr",
     "output_type": "stream",
     "text": [
      "The attention mask and the pad token id were not set. As a consequence, you may observe unexpected behavior. Please pass your input's `attention_mask` to obtain reliable results.\n",
      "Setting `pad_token_id` to `eos_token_id`:50256 for open-end generation.\n"
     ]
    },
    {
     "name": "stdout",
     "output_type": "stream",
     "text": [
      "START: \n",
      "Today I was thirsty so I grabbed a can of\n",
      "GENERATED: \n",
      "Today I was thirsty so I grabbed a can of Ginger Ale. Ginger Ale is a very good iced tea. I drank the can and was glad I could finally have some water. The end.\n",
      "TRUE: \n",
      "Today I was thirsty so I grabbed a can of Ginger Ale. The can was bent in a weird way so it made the tab hard to pull. I grabbed it and pulled it very hard and it cut my finger. I started bleeding everywhere. I couldn't get the bleeding stopped so I had to go to the hospital. The end.\n"
     ]
    },
    {
     "name": "stderr",
     "output_type": "stream",
     "text": [
      "The attention mask and the pad token id were not set. As a consequence, you may observe unexpected behavior. Please pass your input's `attention_mask` to obtain reliable results.\n",
      "Setting `pad_token_id` to `eos_token_id`:50256 for open-end generation.\n"
     ]
    },
    {
     "name": "stdout",
     "output_type": "stream",
     "text": [
      "START: \n",
      "Lilith had to correct a lot of student tests that\n",
      "GENERATED: \n",
      "Lilith had to correct a lot of student tests that night. She prepared her desk with pen and coffee. But when she was ready to start, a big cockroach ran on her table. Lilith screamed and all the papers fell on the ground as she stood up. The cockroach went away. The end.\n",
      "TRUE: \n",
      "Lilith had to correct a lot of student tests that night. She prepared her desk with pen and coffee. But when she was ready to start, a big cockroach ran on her table. Lilith screamed and all the papers fell on the ground as she stood up. The cockroach went away, but Lilith had to sort all the papers. The end.\n"
     ]
    },
    {
     "name": "stderr",
     "output_type": "stream",
     "text": [
      "The attention mask and the pad token id were not set. As a consequence, you may observe unexpected behavior. Please pass your input's `attention_mask` to obtain reliable results.\n",
      "Setting `pad_token_id` to `eos_token_id`:50256 for open-end generation.\n",
      "The attention mask and the pad token id were not set. As a consequence, you may observe unexpected behavior. Please pass your input's `attention_mask` to obtain reliable results.\n",
      "Setting `pad_token_id` to `eos_token_id`:50256 for open-end generation.\n"
     ]
    },
    {
     "name": "stdout",
     "output_type": "stream",
     "text": [
      "START: \n",
      "Anne wanted to make her own bread but was short\n",
      "GENERATED: \n",
      "Anne wanted to make her own bread but was short on ingredients. She ended up using store bought bread that she found at the store. She loved the new arrangement! The end.\n",
      "TRUE: \n",
      "Anne wanted to make her own bread but was short on yeast. She grabbed all the ingredients and found she needed an egg too. Anne asked her neighbor for an egg and some yeast. Since Anne's neighbor was a baker he had the supplies. Anne enjoyed home made bread that night. The end.\n"
     ]
    },
    {
     "name": "stderr",
     "output_type": "stream",
     "text": [
      "The attention mask and the pad token id were not set. As a consequence, you may observe unexpected behavior. Please pass your input's `attention_mask` to obtain reliable results.\n",
      "Setting `pad_token_id` to `eos_token_id`:50256 for open-end generation.\n"
     ]
    },
    {
     "name": "stdout",
     "output_type": "stream",
     "text": [
      "START: \n",
      "Jana is the fastest girl runner in her class. She\n",
      "GENERATED: \n",
      "Jana is the fastest girl runner in her class. She challenged the fastest boy runner in her class to a race. He agreed to the challenge. The boy won the race. The end.\n",
      "TRUE: \n",
      "Jana is the fastest girl runner in her class. She challenged the fastest boy runner in her class to a race. He agreed to the challenge. During the race Jana tripped and injured her leg. The boy won the race. The end.\n"
     ]
    },
    {
     "name": "stderr",
     "output_type": "stream",
     "text": [
      "The attention mask and the pad token id were not set. As a consequence, you may observe unexpected behavior. Please pass your input's `attention_mask` to obtain reliable results.\n",
      "Setting `pad_token_id` to `eos_token_id`:50256 for open-end generation.\n"
     ]
    },
    {
     "name": "stdout",
     "output_type": "stream",
     "text": [
      "START: \n",
      "Josh needed new shoes. He hated to get rid of\n",
      "GENERATED: \n",
      "Josh needed new shoes. He hated to get rid of his old ones. So he bought some flip flops. They were so comfortable! But they broke. So he had to get another pair. The end.\n",
      "TRUE: \n",
      "Josh needed new shoes. He hated to get rid of his old ones. His mom took him shoe shopping. He found the perfect pair and luckily they were on sale. Josh got new shoes and was glad that ordeal was over. The end.\n"
     ]
    },
    {
     "name": "stderr",
     "output_type": "stream",
     "text": [
      "The attention mask and the pad token id were not set. As a consequence, you may observe unexpected behavior. Please pass your input's `attention_mask` to obtain reliable results.\n",
      "Setting `pad_token_id` to `eos_token_id`:50256 for open-end generation.\n"
     ]
    },
    {
     "name": "stdout",
     "output_type": "stream",
     "text": [
      "START: \n",
      "Shaun didn't really like carnivals. Unfortunately, his new girlfriend loved\n",
      "GENERATED: \n",
      "Shaun didn't really like carnivals. Unfortunately, his new girlfriend loved them. So he decided to have a go at one every weekend. The end.\n",
      "TRUE: \n",
      "Shaun didn't really like carnivals. Unfortunately, his new girlfriend loved them. She didn't realise how much he feared clowns. When they got to the carnival, Shaun screamed at the sight of a clown. His girlfriend felt bad about going, but appreciated that he tried. The end.\n"
     ]
    },
    {
     "name": "stderr",
     "output_type": "stream",
     "text": [
      "The attention mask and the pad token id were not set. As a consequence, you may observe unexpected behavior. Please pass your input's `attention_mask` to obtain reliable results.\n",
      "Setting `pad_token_id` to `eos_token_id`:50256 for open-end generation.\n"
     ]
    },
    {
     "name": "stdout",
     "output_type": "stream",
     "text": [
      "START: \n",
      "Matt got a job as an insurance agent. He gets\n",
      "GENERATED: \n",
      "Matt got a job as an insurance agent. He gets paid mostly on commission from his sales. He gets a lot of money every month. He even has a girlfriend! Kate bought a bottle of blue nail polish. Kate used her nail polish to color her nails. Kate had a blast with her new color! The end.\n",
      "TRUE: \n",
      "Matt got a job as an insurance agent. He gets paid mostly on commission from his sales. Matt got almost all of his friends to buy insurance his first week. He even convinced some family members to buy too. Matt's first commission check was a very large amount. The end.\n"
     ]
    },
    {
     "name": "stderr",
     "output_type": "stream",
     "text": [
      "The attention mask and the pad token id were not set. As a consequence, you may observe unexpected behavior. Please pass your input's `attention_mask` to obtain reliable results.\n",
      "Setting `pad_token_id` to `eos_token_id`:50256 for open-end generation.\n"
     ]
    },
    {
     "name": "stdout",
     "output_type": "stream",
     "text": [
      "START: \n",
      "When I was at the beach today there was a\n",
      "GENERATED: \n",
      "When I was at the beach today there was a major flock of seagulls. I was sitting down on a chair when five seagulls came around. I was startled and startled. The birds came and started eating my lunch. I was fatter and fatter the rest of the time. The end.\n",
      "TRUE: \n",
      "When I was at the beach today there was a major flock of seagulls. I was sitting down on a chair when five seagulls came around. The birds came and started eating my lunch. I was horrified. I had to run and eat the rest of my food near my car. The end.\n"
     ]
    },
    {
     "name": "stderr",
     "output_type": "stream",
     "text": [
      "The attention mask and the pad token id were not set. As a consequence, you may observe unexpected behavior. Please pass your input's `attention_mask` to obtain reliable results.\n",
      "Setting `pad_token_id` to `eos_token_id`:50256 for open-end generation.\n"
     ]
    },
    {
     "name": "stdout",
     "output_type": "stream",
     "text": [
      "START: \n",
      "Mike wanted a set of headphones that he could not\n",
      "GENERATED: \n",
      "Mike wanted a set of headphones that he could not afford. So he bought a fancy one from a store. But it was too small. So he bought a much smaller one from a local store. The end.\n",
      "TRUE: \n",
      "Mike wanted a set of headphones that he could not afford. Mike decided that he would steal the headphones from a local store. Mike entered the store and spotted the headphones he wanted. Mike approached the headphones maki The end.\n"
     ]
    },
    {
     "name": "stderr",
     "output_type": "stream",
     "text": [
      "The attention mask and the pad token id were not set. As a consequence, you may observe unexpected behavior. Please pass your input's `attention_mask` to obtain reliable results.\n",
      "Setting `pad_token_id` to `eos_token_id`:50256 for open-end generation.\n"
     ]
    },
    {
     "name": "stdout",
     "output_type": "stream",
     "text": [
      "START: \n",
      "Arden bought a new phone therefore he was unfamiliar with\n",
      "GENERATED: \n",
      "Arden bought a new phone therefore he was unfamiliar with the plan. He used his old one all the time. When he got to his co The end.\n",
      "TRUE: \n",
      "Arden bought a new phone therefore he was unfamiliar with the plan. He enjoyed using his new phone all the time when he first bought it. Within two weeks he received a message that stated he used all data. He was really di The end.\n"
     ]
    },
    {
     "name": "stderr",
     "output_type": "stream",
     "text": [
      "The attention mask and the pad token id were not set. As a consequence, you may observe unexpected behavior. Please pass your input's `attention_mask` to obtain reliable results.\n",
      "Setting `pad_token_id` to `eos_token_id`:50256 for open-end generation.\n"
     ]
    },
    {
     "name": "stdout",
     "output_type": "stream",
     "text": [
      "START: \n",
      "Ken liked his eggs over easy, but his wife thought\n",
      "GENERATED: \n",
      "Ken liked his eggs over easy, but his wife thought they looked gross. So he made an egg allergy test. Egg allergy tests are not recommended for those with egg allergies. The end.\n",
      "TRUE: \n",
      "Ken liked his eggs over easy, but his wife thought they looked gross. She preferred deviled eggs, which Ken though smelled yucky. The two made a deal: each would try the other's preferred egg style! To their surprise, each The end.\n"
     ]
    },
    {
     "name": "stderr",
     "output_type": "stream",
     "text": [
      "The attention mask and the pad token id were not set. As a consequence, you may observe unexpected behavior. Please pass your input's `attention_mask` to obtain reliable results.\n",
      "Setting `pad_token_id` to `eos_token_id`:50256 for open-end generation.\n"
     ]
    },
    {
     "name": "stdout",
     "output_type": "stream",
     "text": [
      "START: \n",
      "Tempo Frankfurt was a successful trance artist from the 90's.\n",
      "GENERATED: \n",
      "Tempo Frankfurt was a successful trance artist from the 90's. He'd become a successful DJ and booker. He'd won several awards and been voted into the DJ's Hall of Fame. But then he was fired. The end.\n",
      "TRUE: \n",
      "Tempo Frankfurt was a successful trance artist from the 90's. He'd become an internet meme since then, got booked to play a show. When he got there, people didn't want to hear his new music. They shouted for him to play hi The end.\n"
     ]
    },
    {
     "name": "stderr",
     "output_type": "stream",
     "text": [
      "The attention mask and the pad token id were not set. As a consequence, you may observe unexpected behavior. Please pass your input's `attention_mask` to obtain reliable results.\n",
      "Setting `pad_token_id` to `eos_token_id`:50256 for open-end generation.\n"
     ]
    },
    {
     "name": "stdout",
     "output_type": "stream",
     "text": [
      "START: \n",
      "Mike woke up with a really bad stomach ache one\n",
      "GENERATED: \n",
      "Mike woke up with a really bad stomach ache one Sunday morning. He immediately went to the hospital as the pain was that bad. The end.\n",
      "TRUE: \n",
      "Mike woke up with a really bad stomach ache one Sunday morning. He immediately went to the hospital as the pain was that bad. When he got there he fainted and did not wake up until several hours. When he awoke the doctor t The end.\n"
     ]
    },
    {
     "name": "stderr",
     "output_type": "stream",
     "text": [
      "The attention mask and the pad token id were not set. As a consequence, you may observe unexpected behavior. Please pass your input's `attention_mask` to obtain reliable results.\n",
      "Setting `pad_token_id` to `eos_token_id`:50256 for open-end generation.\n"
     ]
    },
    {
     "name": "stdout",
     "output_type": "stream",
     "text": [
      "START: \n",
      "Carly didn't find her voice until it was time to\n",
      "GENERATED: \n",
      "Carly didn't find her voice until it was time to speak out for others. She was brave and brave enough to speak out for others. The end.\n",
      "TRUE: \n",
      "Carly didn't find her voice until it was time to speak out for others. A politician's vile words about women made Carly angry and brave. Volunteering for his opponent, shy Carly knocked on doors campaigning. Her proudest m The end.\n"
     ]
    },
    {
     "name": "stderr",
     "output_type": "stream",
     "text": [
      "The attention mask and the pad token id were not set. As a consequence, you may observe unexpected behavior. Please pass your input's `attention_mask` to obtain reliable results.\n",
      "Setting `pad_token_id` to `eos_token_id`:50256 for open-end generation.\n"
     ]
    },
    {
     "name": "stdout",
     "output_type": "stream",
     "text": [
      "START: \n",
      "Andy liked to tease Bo about his fear of going\n",
      "GENERATED: \n",
      "Andy liked to tease Bo about his fear of going in the water. Bo was very upset by the thought of going in the water. Bo decided to for a swim. The end.\n",
      "TRUE: \n",
      "Andy liked to tease Bo about his fear of going in the water. Bo was trying to impress Judy at the beach and Andy was chiding him. So Bo decided to face his fear and decided to swim out to the atoll. Judy and Andy watched a The end.\n"
     ]
    },
    {
     "name": "stderr",
     "output_type": "stream",
     "text": [
      "The attention mask and the pad token id were not set. As a consequence, you may observe unexpected behavior. Please pass your input's `attention_mask` to obtain reliable results.\n",
      "Setting `pad_token_id` to `eos_token_id`:50256 for open-end generation.\n"
     ]
    },
    {
     "name": "stdout",
     "output_type": "stream",
     "text": [
      "START: \n",
      "Cathy dreaded school shopping with her teenage daughters. Cathy was\n",
      "GENERATED: \n",
      "Cathy dreaded school shopping with her teenage daughters. Cathy was not happy about having to go to school with her teenage daughters. Cathy was not happy that her daughters would have to go to the mall with her. Cathy decided to walk to the store down the road. The end.\n",
      "TRUE: \n",
      "Cathy dreaded school shopping with her teenage daughters. Cathy was tired of having to visit almost every store, and wait. This year, Cathy decided to try a different school shopping strategy. Cathy told her daughters they The end.\n"
     ]
    },
    {
     "name": "stderr",
     "output_type": "stream",
     "text": [
      "The attention mask and the pad token id were not set. As a consequence, you may observe unexpected behavior. Please pass your input's `attention_mask` to obtain reliable results.\n",
      "Setting `pad_token_id` to `eos_token_id`:50256 for open-end generation.\n"
     ]
    },
    {
     "name": "stdout",
     "output_type": "stream",
     "text": [
      "START: \n",
      "Cutting up old clothes to make quilts taught Jan to\n",
      "GENERATED: \n",
      "Cutting up old clothes to make quilts taught Jan to repurpose. She now has a spare set of quilts to decorate.\n",
      "Kate was watching TV shows. She could tell right away that something was wrong. Kate was very upset and did not want to go home with her friends. Kate was expelled.\n",
      "Kate was watching the Olympics with her family. She could tell right away that something was amiss. Kate was very disappointed. The end.\n",
      "TRUE: \n",
      "Cutting up old clothes to make quilts taught Jan to repurpose. She branched into making art from old music sheets and book covers. After opening a shop to sell her work, Jan developed a following. Her decoupage and chalk-p The end.\n"
     ]
    },
    {
     "name": "stderr",
     "output_type": "stream",
     "text": [
      "The attention mask and the pad token id were not set. As a consequence, you may observe unexpected behavior. Please pass your input's `attention_mask` to obtain reliable results.\n",
      "Setting `pad_token_id` to `eos_token_id`:50256 for open-end generation.\n"
     ]
    },
    {
     "name": "stdout",
     "output_type": "stream",
     "text": [
      "START: \n",
      "James always was a good student, until one fateful report\n",
      "GENERATED: \n",
      "James always was a good student, until one fateful report card. It was Senior year in High School, and he began slacking off for fun. He soon became a full time student. He even bought a bottle of blue nail polish. Blue polish really worked on his nails. He was glad he could finally get some color. The end.\n",
      "TRUE: \n",
      "James always was a good student, until one fateful report card. It was Senior year in High School, and he began slacking off for fun. He never was the class clown, but he felt the need to do silly things. After reflecting  The end.\n"
     ]
    },
    {
     "name": "stderr",
     "output_type": "stream",
     "text": [
      "The attention mask and the pad token id were not set. As a consequence, you may observe unexpected behavior. Please pass your input's `attention_mask` to obtain reliable results.\n",
      "Setting `pad_token_id` to `eos_token_id`:50256 for open-end generation.\n"
     ]
    },
    {
     "name": "stdout",
     "output_type": "stream",
     "text": [
      "START: \n",
      "Lucy had a Bluetooth. It normally worked. But then she\n",
      "GENERATED: \n",
      "Lucy had a Bluetooth. It normally worked. But then she had trouble today. She could not connect. She had to buy a new one. Luckily, the end.\n",
      "I went to buy some almonds yesterday. I bought a large box. I packed it all up. I was glad I could finally have some. The end.\n",
      "TRUE: \n",
      "Lucy had a Bluetooth. It normally worked. But then she had trouble today. She could not connect. It was disappointing. Jarred loved to cook. He really loved cooking for people as well. He was cooking for his family tonight The end.\n"
     ]
    },
    {
     "name": "stderr",
     "output_type": "stream",
     "text": [
      "The attention mask and the pad token id were not set. As a consequence, you may observe unexpected behavior. Please pass your input's `attention_mask` to obtain reliable results.\n",
      "Setting `pad_token_id` to `eos_token_id`:50256 for open-end generation.\n"
     ]
    },
    {
     "name": "stdout",
     "output_type": "stream",
     "text": [
      "START: \n",
      "I went to the mall yesterday. I tried on some\n",
      "GENERATED: \n",
      "I went to the mall yesterday. I tried on some lip gloss. It looked pretty. I wore it everyday. The end.\n",
      "TRUE: \n",
      "I went to the mall yesterday. I tried on some lip gloss. It looked pretty. Yet it burned my lips. I had to wipe it off. Lane opened the package that held her knew kite. She unraveled the string, so it would be longer. She  The end.\n"
     ]
    },
    {
     "name": "stderr",
     "output_type": "stream",
     "text": [
      "The attention mask and the pad token id were not set. As a consequence, you may observe unexpected behavior. Please pass your input's `attention_mask` to obtain reliable results.\n",
      "Setting `pad_token_id` to `eos_token_id`:50256 for open-end generation.\n"
     ]
    },
    {
     "name": "stdout",
     "output_type": "stream",
     "text": [
      "START: \n",
      "He twisted the knob. It was stuck. He couldn't open\n",
      "GENERATED: \n",
      "He twisted the knob. It was stuck. He couldn't open the door. The girl in his living room would not budge. Eventually the knob was removed. The end.\n",
      "TRUE: \n",
      "He twisted the knob. It was stuck. He couldn't open the door. He finally removed the knob. He had to go buy a new one. As a joke, Roy requested an unpopular song to the radio station. At first the DJ refused. Roy called ba The end.\n"
     ]
    },
    {
     "name": "stderr",
     "output_type": "stream",
     "text": [
      "The attention mask and the pad token id were not set. As a consequence, you may observe unexpected behavior. Please pass your input's `attention_mask` to obtain reliable results.\n",
      "Setting `pad_token_id` to `eos_token_id`:50256 for open-end generation.\n"
     ]
    },
    {
     "name": "stdout",
     "output_type": "stream",
     "text": [
      "START: \n",
      "Kelsi was engaged. She just got a new ring. She\n",
      "GENERATED: \n",
      "Kelsi was engaged. She just got a new ring. She was happy about it. But then she realized she had no bridesmaids. She was heartbroken. The end.\n",
      "TRUE: \n",
      "Kelsi was engaged. She just got a new ring. She was happy about it. But it was too small. She had to get another one. Johnny went to a baseball game. He bought a hotdog and nachos. A ball was hit right to him! He caught th The end.\n"
     ]
    },
    {
     "name": "stderr",
     "output_type": "stream",
     "text": [
      "The attention mask and the pad token id were not set. As a consequence, you may observe unexpected behavior. Please pass your input's `attention_mask` to obtain reliable results.\n",
      "Setting `pad_token_id` to `eos_token_id`:50256 for open-end generation.\n"
     ]
    },
    {
     "name": "stdout",
     "output_type": "stream",
     "text": [
      "START: \n",
      "Gary had the ball. Billy wanted the basketball. Billy reached\n",
      "GENERATED: \n",
      "Gary had the ball. Billy wanted the basketball. Billy reached for it. Billy knocked over the ball. Billy broke up that game. The end.\n",
      "TRUE: \n",
      "Gary had the ball. Billy wanted the basketball. Billy reached for it. He accidentally slapped Gary. Billy got ejected. Norma worked for the government. She had to make leaflets to explain a new program to people. She thoug The end.\n"
     ]
    },
    {
     "name": "stderr",
     "output_type": "stream",
     "text": [
      "The attention mask and the pad token id were not set. As a consequence, you may observe unexpected behavior. Please pass your input's `attention_mask` to obtain reliable results.\n",
      "Setting `pad_token_id` to `eos_token_id`:50256 for open-end generation.\n"
     ]
    },
    {
     "name": "stdout",
     "output_type": "stream",
     "text": [
      "START: \n",
      "It rained hard outside. The ground became saturated. It continued\n",
      "GENERATED: \n",
      "It rained hard outside. The ground became saturated. It continued to rain. The rivers flooded. The rivers flooded. The rivers flooded again. The rivers flooded. The rivers flooded again The end.\n",
      "TRUE: \n",
      "It rained hard outside. The ground became saturated. It continued to rain. The rivers got higher. The rivers flooded. Finn was late for his doctor's appointment. He sat in the waiting room and waited for his turn. He spent The end.\n"
     ]
    },
    {
     "name": "stderr",
     "output_type": "stream",
     "text": [
      "The attention mask and the pad token id were not set. As a consequence, you may observe unexpected behavior. Please pass your input's `attention_mask` to obtain reliable results.\n",
      "Setting `pad_token_id` to `eos_token_id`:50256 for open-end generation.\n"
     ]
    },
    {
     "name": "stdout",
     "output_type": "stream",
     "text": [
      "START: \n",
      "Laura went to a gym this morning. She wanted to\n",
      "GENERATED: \n",
      "Laura went to a gym this morning. She wanted to lose weight. She did not have enough money for a pair of shoes. She had to save all her allowance. When she got to her car, she found she needed a pair of flip flops. She was glad she could finally get rid of the flip flops. The end.\n",
      "TRUE: \n",
      "Laura went to a gym this morning. She wanted to lose weight. She used a stepper. She stepped wrong. She broke her ankle. One night the fan I use for white noise broke. I couldn't sleep for the rest of the night. I went to  The end.\n"
     ]
    },
    {
     "name": "stderr",
     "output_type": "stream",
     "text": [
      "The attention mask and the pad token id were not set. As a consequence, you may observe unexpected behavior. Please pass your input's `attention_mask` to obtain reliable results.\n",
      "Setting `pad_token_id` to `eos_token_id`:50256 for open-end generation.\n"
     ]
    },
    {
     "name": "stdout",
     "output_type": "stream",
     "text": [
      "START: \n",
      "I was running outside. I got very sweaty. I didn't\n",
      "GENERATED: \n",
      "I was running outside. I got very sweaty. I didn't feel well. I drank a lot of water. The end.\n",
      "TRUE: \n",
      "I was running outside. I got very sweaty. I didn't feel well. I drank a lot of water. It turns out I was just thirsty. My friend sam has a n obsessive compulsive disorder. He tends to focus on one thing, and one thing only The end.\n"
     ]
    },
    {
     "name": "stderr",
     "output_type": "stream",
     "text": [
      "The attention mask and the pad token id were not set. As a consequence, you may observe unexpected behavior. Please pass your input's `attention_mask` to obtain reliable results.\n",
      "Setting `pad_token_id` to `eos_token_id`:50256 for open-end generation.\n"
     ]
    },
    {
     "name": "stdout",
     "output_type": "stream",
     "text": [
      "START: \n",
      "I had gold earrings. I wore them everyday. Then they\n",
      "GENERATED: \n",
      "I had gold earrings. I wore them everyday. Then they broke. I had to get another one. Kate went to the park one day with her friends. Kate saw the boy from school she liked. Kate gathered all the courag The end.\n",
      "TRUE: \n",
      "I had gold earrings. I wore them everyday. Then they broke. I was heartbroken. Now I had nothing to wear. Kate went to the park one day with her friends. Kate saw the boy from school she liked. Kate gathered all the courag The end.\n",
      "START: \n",
      "I went to buy some almonds yesterday. I bought a\n",
      "GENERATED: \n",
      "I went to buy some almonds yesterday. I bought a large box. I was afraid to open the box. But I opened it. Inside were so many almonds. I was afraid to part with the rest of my box. But I decided to keep it. The end.\n",
      "TRUE: \n",
      "I went to buy some almonds yesterday. I bought a large box. I tried some. They were so good. I wanted to have some more. Juan packed his clothes up for college. He got in his car and drove on the road. He arrived at his co The end.\n",
      "-102\n",
      "-125\n",
      "-39\n",
      "-108\n",
      "-50\n",
      "-40\n",
      "-136\n",
      "14\n",
      "4\n",
      "-52\n",
      "-99\n",
      "-53\n",
      "-31\n",
      "-97\n",
      "-96\n",
      "-80\n",
      "40\n",
      "180\n",
      "77\n",
      "36\n",
      "-128\n",
      "-83\n",
      "-88\n",
      "-98\n",
      "-37\n",
      "50\n",
      "-137\n",
      "-20\n",
      "-15\n"
     ]
    },
    {
     "data": {
      "image/png": "[encoded data removed]",
      "text/plain": [
       "<Figure size 640x480 with 1 Axes>"
      ]
     },
     "metadata": {},
     "output_type": "display_data"
    },
    {
     "name": "stdout",
     "output_type": "stream",
     "text": [
      "222\n",
      "2024-10-21 12:21:09.906610: E external/local_xla/xla/stream_executor/cuda/cuda_fft.cc:485] Unable to register cuFFT factory: Attempting to register factory for plugin cuFFT when one has already been registered\n",
      "2024-10-21 12:21:09.929371: E external/local_xla/xla/stream_executor/cuda/cuda_dnn.cc:8454] Unable to register cuDNN factory: Attempting to register factory for plugin cuDNN when one has already been registered\n",
      "2024-10-21 12:21:09.936052: E external/local_xla/xla/stream_executor/cuda/cuda_blas.cc:1452] Unable to register cuBLAS factory: Attempting to register factory for plugin cuBLAS when one has already been registered\n",
      "2024-10-21 12:21:11.137904: W tensorflow/compiler/tf2tensorrt/utils/py_utils.cc:38] TF-TRT Warning: Could not find TensorRT\n",
      "10/21/2024 12:21:13 - WARNING - __main__ - Process rank: 0, device: cuda:0, n_gpu: 1distributed training: False, 16-bits training: False\n",
      "10/21/2024 12:21:13 - INFO - __main__ - Training/evaluation parameters TrainingArguments(\n",
      "_n_gpu=1,\n",
      "accelerator_config={'split_batches': False, 'dispatch_batches': None, 'even_batches': True, 'use_seedable_sampler': True, 'non_blocking': False, 'gradient_accumulation_kwargs': None, 'use_configured_state': False},\n",
      "adafactor=False,\n",
      "adam_beta1=0.9,\n",
      "adam_beta2=0.999,\n",
      "adam_epsilon=1e-08,\n",
      "auto_find_batch_size=False,\n",
      "batch_eval_metrics=False,\n",
      "bf16=False,\n",
      "bf16_full_eval=False,\n",
      "data_seed=None,\n",
      "dataloader_drop_last=False,\n",
      "dataloader_num_workers=0,\n",
      "dataloader_persistent_workers=False,\n",
      "dataloader_pin_memory=True,\n",
      "dataloader_prefetch_factor=None,\n",
      "ddp_backend=None,\n",
      "ddp_broadcast_buffers=None,\n",
      "ddp_bucket_cap_mb=None,\n",
      "ddp_find_unused_parameters=None,\n",
      "ddp_timeout=1800,\n",
      "debug=[],\n",
      "deepspeed=None,\n",
      "disable_tqdm=False,\n",
      "dispatch_batches=None,\n",
      "do_eval=True,\n",
      "do_predict=False,\n",
      "do_train=True,\n",
      "eval_accumulation_steps=None,\n",
      "eval_delay=0,\n",
      "eval_do_concat_batches=True,\n",
      "eval_on_start=False,\n",
      "eval_steps=None,\n",
      "eval_strategy=no,\n",
      "eval_use_gather_object=False,\n",
      "evaluation_strategy=None,\n",
      "fp16=False,\n",
      "fp16_backend=auto,\n",
      "fp16_full_eval=False,\n",
      "fp16_opt_level=O1,\n",
      "fsdp=[],\n",
      "fsdp_config={'min_num_params': 0, 'xla': False, 'xla_fsdp_v2': False, 'xla_fsdp_grad_ckpt': False},\n",
      "fsdp_min_num_params=0,\n",
      "fsdp_transformer_layer_cls_to_wrap=None,\n",
      "full_determinism=False,\n",
      "gradient_accumulation_steps=1,\n",
      "gradient_checkpointing=False,\n",
      "gradient_checkpointing_kwargs=None,\n",
      "greater_is_better=None,\n",
      "group_by_length=False,\n",
      "half_precision_backend=auto,\n",
      "hub_always_push=False,\n",
      "hub_model_id=None,\n",
      "hub_private_repo=False,\n",
      "hub_strategy=every_save,\n",
      "hub_token=<HUB_TOKEN>,\n",
      "ignore_data_skip=False,\n",
      "include_inputs_for_metrics=False,\n",
      "include_num_input_tokens_seen=False,\n",
      "include_tokens_per_second=False,\n",
      "jit_mode_eval=False,\n",
      "label_names=None,\n",
      "label_smoothing_factor=0.0,\n",
      "learning_rate=0.0005,\n",
      "length_column_name=length,\n",
      "load_best_model_at_end=False,\n",
      "local_rank=0,\n",
      "log_level=passive,\n",
      "log_level_replica=warning,\n",
      "log_on_each_node=True,\n",
      "logging_dir=outputs_stories/runs/Oct21_12-21-13_f910dfa8e9d3,\n",
      "logging_first_step=False,\n",
      "logging_nan_inf_filter=True,\n",
      "logging_steps=500,\n",
      "logging_strategy=steps,\n",
      "lr_scheduler_kwargs={},\n",
      "lr_scheduler_type=linear,\n",
      "max_grad_norm=1.0,\n",
      "max_steps=-1,\n",
      "metric_for_best_model=None,\n",
      "mp_parameters=,\n",
      "neftune_noise_alpha=None,\n",
      "no_cuda=False,\n",
      "num_train_epochs=5.0,\n",
      "optim=adamw_torch,\n",
      "optim_args=None,\n",
      "optim_target_modules=None,\n",
      "output_dir=outputs_stories,\n",
      "overwrite_output_dir=True,\n",
      "past_index=-1,\n",
      "per_device_eval_batch_size=1,\n",
      "per_device_train_batch_size=1,\n",
      "prediction_loss_only=False,\n",
      "push_to_hub=False,\n",
      "push_to_hub_model_id=None,\n",
      "push_to_hub_organization=None,\n",
      "push_to_hub_token=<PUSH_TO_HUB_TOKEN>,\n",
      "ray_scope=last,\n",
      "remove_unused_columns=True,\n",
      "report_to=[],\n",
      "restore_callback_states_from_checkpoint=False,\n",
      "resume_from_checkpoint=None,\n",
      "run_name=outputs_stories,\n",
      "save_on_each_node=False,\n",
      "save_only_model=False,\n",
      "save_safetensors=True,\n",
      "save_steps=1000,\n",
      "save_strategy=steps,\n",
      "save_total_limit=None,\n",
      "seed=42,\n",
      "skip_memory_metrics=True,\n",
      "split_batches=None,\n",
      "tf32=None,\n",
      "torch_compile=False,\n",
      "torch_compile_backend=None,\n",
      "torch_compile_mode=None,\n",
      "torch_empty_cache_steps=None,\n",
      "torchdynamo=None,\n",
      "tpu_metrics_debug=False,\n",
      "tpu_num_cores=None,\n",
      "use_cpu=False,\n",
      "use_ipex=False,\n",
      "use_legacy_prediction_loop=False,\n",
      "use_mps_device=False,\n",
      "warmup_ratio=0.0,\n",
      "warmup_steps=0,\n",
      "weight_decay=0.0,\n",
      ")\n",
      "Using custom data configuration default-17a59a887f61dc73\n",
      "10/21/2024 12:21:13 - INFO - datasets.builder - Using custom data configuration default-17a59a887f61dc73\n",
      "Loading Dataset Infos from /usr/local/lib/python3.10/dist-packages/datasets/packaged_modules/text\n",
      "10/21/2024 12:21:13 - INFO - datasets.info - Loading Dataset Infos from /usr/local/lib/python3.10/dist-packages/datasets/packaged_modules/text\n",
      "Generating dataset text (/root/.cache/huggingface/datasets/text/default-17a59a887f61dc73/0.0.0/37eaf37ac90527a7fd768c94b312ee84f8815c9b7ac00acf81c1c364e8392f99)\n",
      "10/21/2024 12:21:13 - INFO - datasets.builder - Generating dataset text (/root/.cache/huggingface/datasets/text/default-17a59a887f61dc73/0.0.0/37eaf37ac90527a7fd768c94b312ee84f8815c9b7ac00acf81c1c364e8392f99)\n",
      "Downloading and preparing dataset text/default to /root/.cache/huggingface/datasets/text/default-17a59a887f61dc73/0.0.0/37eaf37ac90527a7fd768c94b312ee84f8815c9b7ac00acf81c1c364e8392f99...\n",
      "10/21/2024 12:21:13 - INFO - datasets.builder - Downloading and preparing dataset text/default to /root/.cache/huggingface/datasets/text/default-17a59a887f61dc73/0.0.0/37eaf37ac90527a7fd768c94b312ee84f8815c9b7ac00acf81c1c364e8392f99...\n",
      "Downloading took 0.0 min\n",
      "10/21/2024 12:21:13 - INFO - datasets.download.download_manager - Downloading took 0.0 min\n",
      "Checksum Computation took 0.0 min\n",
      "10/21/2024 12:21:13 - INFO - datasets.download.download_manager - Checksum Computation took 0.0 min\n",
      "Generating train split\n",
      "10/21/2024 12:21:13 - INFO - datasets.builder - Generating train split\n",
      "Generating train split: 120 examples [00:00, 37233.06 examples/s]\n",
      "Generating validation split\n",
      "10/21/2024 12:21:13 - INFO - datasets.builder - Generating validation split\n",
      "Generating validation split: 120 examples [00:00, 116319.96 examples/s]\n",
      "Unable to verify splits sizes.\n",
      "10/21/2024 12:21:13 - INFO - datasets.utils.info_utils - Unable to verify splits sizes.\n",
      "Dataset text downloaded and prepared to /root/.cache/huggingface/datasets/text/default-17a59a887f61dc73/0.0.0/37eaf37ac90527a7fd768c94b312ee84f8815c9b7ac00acf81c1c364e8392f99. Subsequent calls will reuse this data.\n",
      "10/21/2024 12:21:13 - INFO - datasets.builder - Dataset text downloaded and prepared to /root/.cache/huggingface/datasets/text/default-17a59a887f61dc73/0.0.0/37eaf37ac90527a7fd768c94b312ee84f8815c9b7ac00acf81c1c364e8392f99. Subsequent calls will reuse this data.\n",
      "[INFO|configuration_utils.py:733] 2024-10-21 12:21:13,698 >> loading configuration file config.json from cache at /root/.cache/huggingface/hub/models--gpt2-medium/snapshots/6dcaa7a952f72f9298047fd5137cd6e4f05f41da/config.json\n",
      "[INFO|configuration_utils.py:800] 2024-10-21 12:21:13,700 >> Model config GPT2Config {\n",
      "  \"_name_or_path\": \"gpt2-medium\",\n",
      "  \"activation_function\": \"gelu_new\",\n",
      "  \"architectures\": [\n",
      "    \"GPT2LMHeadModel\"\n",
      "  ],\n",
      "  \"attn_pdrop\": 0.1,\n",
      "  \"bos_token_id\": 50256,\n",
      "  \"embd_pdrop\": 0.1,\n",
      "  \"eos_token_id\": 50256,\n",
      "  \"initializer_range\": 0.02,\n",
      "  \"layer_norm_epsilon\": 1e-05,\n",
      "  \"model_type\": \"gpt2\",\n",
      "  \"n_ctx\": 1024,\n",
      "  \"n_embd\": 1024,\n",
      "  \"n_head\": 16,\n",
      "  \"n_inner\": null,\n",
      "  \"n_layer\": 24,\n",
      "  \"n_positions\": 1024,\n",
      "  \"n_special\": 0,\n",
      "  \"predict_special_tokens\": true,\n",
      "  \"reorder_and_upcast_attn\": false,\n",
      "  \"resid_pdrop\": 0.1,\n",
      "  \"scale_attn_by_inverse_layer_idx\": false,\n",
      "  \"scale_attn_weights\": true,\n",
      "  \"summary_activation\": null,\n",
      "  \"summary_first_dropout\": 0.1,\n",
      "  \"summary_proj_to_labels\": true,\n",
      "  \"summary_type\": \"cls_index\",\n",
      "  \"summary_use_proj\": true,\n",
      "  \"task_specific_params\": {\n",
      "    \"text-generation\": {\n",
      "      \"do_sample\": true,\n",
      "      \"max_length\": 50\n",
      "    }\n",
      "  },\n",
      "  \"transformers_version\": \"4.44.2\",\n",
      "  \"use_cache\": true,\n",
      "  \"vocab_size\": 50257\n",
      "}\n",
      "\n",
      "[INFO|configuration_utils.py:733] 2024-10-21 12:21:13,768 >> loading configuration file config.json from cache at /root/.cache/huggingface/hub/models--gpt2-medium/snapshots/6dcaa7a952f72f9298047fd5137cd6e4f05f41da/config.json\n",
      "[INFO|configuration_utils.py:800] 2024-10-21 12:21:13,769 >> Model config GPT2Config {\n",
      "  \"_name_or_path\": \"gpt2-medium\",\n",
      "  \"activation_function\": \"gelu_new\",\n",
      "  \"architectures\": [\n",
      "    \"GPT2LMHeadModel\"\n",
      "  ],\n",
      "  \"attn_pdrop\": 0.1,\n",
      "  \"bos_token_id\": 50256,\n",
      "  \"embd_pdrop\": 0.1,\n",
      "  \"eos_token_id\": 50256,\n",
      "  \"initializer_range\": 0.02,\n",
      "  \"layer_norm_epsilon\": 1e-05,\n",
      "  \"model_type\": \"gpt2\",\n",
      "  \"n_ctx\": 1024,\n",
      "  \"n_embd\": 1024,\n",
      "  \"n_head\": 16,\n",
      "  \"n_inner\": null,\n",
      "  \"n_layer\": 24,\n",
      "  \"n_positions\": 1024,\n",
      "  \"n_special\": 0,\n",
      "  \"predict_special_tokens\": true,\n",
      "  \"reorder_and_upcast_attn\": false,\n",
      "  \"resid_pdrop\": 0.1,\n",
      "  \"scale_attn_by_inverse_layer_idx\": false,\n",
      "  \"scale_attn_weights\": true,\n",
      "  \"summary_activation\": null,\n",
      "  \"summary_first_dropout\": 0.1,\n",
      "  \"summary_proj_to_labels\": true,\n",
      "  \"summary_type\": \"cls_index\",\n",
      "  \"summary_use_proj\": true,\n",
      "  \"task_specific_params\": {\n",
      "    \"text-generation\": {\n",
      "      \"do_sample\": true,\n",
      "      \"max_length\": 50\n",
      "    }\n",
      "  },\n",
      "  \"transformers_version\": \"4.44.2\",\n",
      "  \"use_cache\": true,\n",
      "  \"vocab_size\": 50257\n",
      "}\n",
      "\n",
      "[INFO|tokenization_utils_base.py:2269] 2024-10-21 12:21:13,779 >> loading file vocab.json from cache at /root/.cache/huggingface/hub/models--gpt2-medium/snapshots/6dcaa7a952f72f9298047fd5137cd6e4f05f41da/vocab.json\n",
      "[INFO|tokenization_utils_base.py:2269] 2024-10-21 12:21:13,779 >> loading file merges.txt from cache at /root/.cache/huggingface/hub/models--gpt2-medium/snapshots/6dcaa7a952f72f9298047fd5137cd6e4f05f41da/merges.txt\n",
      "[INFO|tokenization_utils_base.py:2269] 2024-10-21 12:21:13,779 >> loading file tokenizer.json from cache at /root/.cache/huggingface/hub/models--gpt2-medium/snapshots/6dcaa7a952f72f9298047fd5137cd6e4f05f41da/tokenizer.json\n",
      "[INFO|tokenization_utils_base.py:2269] 2024-10-21 12:21:13,779 >> loading file added_tokens.json from cache at None\n",
      "[INFO|tokenization_utils_base.py:2269] 2024-10-21 12:21:13,779 >> loading file special_tokens_map.json from cache at None\n",
      "[INFO|tokenization_utils_base.py:2269] 2024-10-21 12:21:13,779 >> loading file tokenizer_config.json from cache at /root/.cache/huggingface/hub/models--gpt2-medium/snapshots/6dcaa7a952f72f9298047fd5137cd6e4f05f41da/tokenizer_config.json\n",
      "[INFO|configuration_utils.py:733] 2024-10-21 12:21:13,779 >> loading configuration file config.json from cache at /root/.cache/huggingface/hub/models--gpt2-medium/snapshots/6dcaa7a952f72f9298047fd5137cd6e4f05f41da/config.json\n",
      "[INFO|configuration_utils.py:800] 2024-10-21 12:21:13,780 >> Model config GPT2Config {\n",
      "  \"_name_or_path\": \"gpt2-medium\",\n",
      "  \"activation_function\": \"gelu_new\",\n",
      "  \"architectures\": [\n",
      "    \"GPT2LMHeadModel\"\n",
      "  ],\n",
      "  \"attn_pdrop\": 0.1,\n",
      "  \"bos_token_id\": 50256,\n",
      "  \"embd_pdrop\": 0.1,\n",
      "  \"eos_token_id\": 50256,\n",
      "  \"initializer_range\": 0.02,\n",
      "  \"layer_norm_epsilon\": 1e-05,\n",
      "  \"model_type\": \"gpt2\",\n",
      "  \"n_ctx\": 1024,\n",
      "  \"n_embd\": 1024,\n",
      "  \"n_head\": 16,\n",
      "  \"n_inner\": null,\n",
      "  \"n_layer\": 24,\n",
      "  \"n_positions\": 1024,\n",
      "  \"n_special\": 0,\n",
      "  \"predict_special_tokens\": true,\n",
      "  \"reorder_and_upcast_attn\": false,\n",
      "  \"resid_pdrop\": 0.1,\n",
      "  \"scale_attn_by_inverse_layer_idx\": false,\n",
      "  \"scale_attn_weights\": true,\n",
      "  \"summary_activation\": null,\n",
      "  \"summary_first_dropout\": 0.1,\n",
      "  \"summary_proj_to_labels\": true,\n",
      "  \"summary_type\": \"cls_index\",\n",
      "  \"summary_use_proj\": true,\n",
      "  \"task_specific_params\": {\n",
      "    \"text-generation\": {\n",
      "      \"do_sample\": true,\n",
      "      \"max_length\": 50\n",
      "    }\n",
      "  },\n",
      "  \"transformers_version\": \"4.44.2\",\n",
      "  \"use_cache\": true,\n",
      "  \"vocab_size\": 50257\n",
      "}\n",
      "\n",
      "/usr/local/lib/python3.10/dist-packages/transformers/tokenization_utils_base.py:1601: FutureWarning: `clean_up_tokenization_spaces` was not set. It will be set to `True` by default. This behavior will be depracted in transformers v4.45, and will be then set to `False` by default. For more details check this issue: https://github.com/huggingface/transformers/issues/31884\n",
      "  warnings.warn(\n",
      "[INFO|modeling_utils.py:3678] 2024-10-21 12:21:13,890 >> loading weights file model.safetensors from cache at /root/.cache/huggingface/hub/models--gpt2-medium/snapshots/6dcaa7a952f72f9298047fd5137cd6e4f05f41da/model.safetensors\n",
      "[INFO|configuration_utils.py:1038] 2024-10-21 12:21:13,901 >> Generate config GenerationConfig {\n",
      "  \"bos_token_id\": 50256,\n",
      "  \"eos_token_id\": 50256\n",
      "}\n",
      "\n",
      "[INFO|modeling_utils.py:4507] 2024-10-21 12:21:13,999 >> All model checkpoint weights were used when initializing GPT2LMHeadModel.\n",
      "\n",
      "[INFO|modeling_utils.py:4515] 2024-10-21 12:21:14,000 >> All the weights of GPT2LMHeadModel were initialized from the model checkpoint at gpt2-medium.\n",
      "If your task is similar to the task the model of the checkpoint was trained on, you can already use GPT2LMHeadModel for predictions without further training.\n",
      "[INFO|configuration_utils.py:993] 2024-10-21 12:21:14,084 >> loading configuration file generation_config.json from cache at /root/.cache/huggingface/hub/models--gpt2-medium/snapshots/6dcaa7a952f72f9298047fd5137cd6e4f05f41da/generation_config.json\n",
      "[INFO|configuration_utils.py:1038] 2024-10-21 12:21:14,084 >> Generate config GenerationConfig {\n",
      "  \"bos_token_id\": 50256,\n",
      "  \"eos_token_id\": 50256\n",
      "}\n",
      "\n",
      "Running tokenizer on dataset:   0% 0/120 [00:00<?, ? examples/s]Caching processed dataset at /root/.cache/huggingface/datasets/text/default-17a59a887f61dc73/0.0.0/37eaf37ac90527a7fd768c94b312ee84f8815c9b7ac00acf81c1c364e8392f99/cache-6635da24e5c204da.arrow\n",
      "10/21/2024 12:21:14 - INFO - datasets.arrow_dataset - Caching processed dataset at /root/.cache/huggingface/datasets/text/default-17a59a887f61dc73/0.0.0/37eaf37ac90527a7fd768c94b312ee84f8815c9b7ac00acf81c1c364e8392f99/cache-6635da24e5c204da.arrow\n",
      "Running tokenizer on dataset: 100% 120/120 [00:00<00:00, 8782.50 examples/s]\n",
      "Running tokenizer on dataset:   0% 0/120 [00:00<?, ? examples/s]Caching processed dataset at /root/.cache/huggingface/datasets/text/default-17a59a887f61dc73/0.0.0/37eaf37ac90527a7fd768c94b312ee84f8815c9b7ac00acf81c1c364e8392f99/cache-9228bee3e3d56ffa.arrow\n",
      "10/21/2024 12:21:14 - INFO - datasets.arrow_dataset - Caching processed dataset at /root/.cache/huggingface/datasets/text/default-17a59a887f61dc73/0.0.0/37eaf37ac90527a7fd768c94b312ee84f8815c9b7ac00acf81c1c364e8392f99/cache-9228bee3e3d56ffa.arrow\n",
      "Running tokenizer on dataset: 100% 120/120 [00:00<00:00, 11105.59 examples/s]\n",
      "Grouping texts in chunks of 1024:   0% 0/120 [00:00<?, ? examples/s]Caching processed dataset at /root/.cache/huggingface/datasets/text/default-17a59a887f61dc73/0.0.0/37eaf37ac90527a7fd768c94b312ee84f8815c9b7ac00acf81c1c364e8392f99/cache-038eeef0513b2253.arrow\n",
      "10/21/2024 12:21:14 - INFO - datasets.arrow_dataset - Caching processed dataset at /root/.cache/huggingface/datasets/text/default-17a59a887f61dc73/0.0.0/37eaf37ac90527a7fd768c94b312ee84f8815c9b7ac00acf81c1c364e8392f99/cache-038eeef0513b2253.arrow\n",
      "Grouping texts in chunks of 1024: 100% 120/120 [00:00<00:00, 9167.38 examples/s]\n",
      "Grouping texts in chunks of 1024:   0% 0/120 [00:00<?, ? examples/s]Caching processed dataset at /root/.cache/huggingface/datasets/text/default-17a59a887f61dc73/0.0.0/37eaf37ac90527a7fd768c94b312ee84f8815c9b7ac00acf81c1c364e8392f99/cache-db73e1fdb46c9156.arrow\n",
      "10/21/2024 12:21:14 - INFO - datasets.arrow_dataset - Caching processed dataset at /root/.cache/huggingface/datasets/text/default-17a59a887f61dc73/0.0.0/37eaf37ac90527a7fd768c94b312ee84f8815c9b7ac00acf81c1c364e8392f99/cache-db73e1fdb46c9156.arrow\n",
      "Grouping texts in chunks of 1024: 100% 120/120 [00:00<00:00, 9258.61 examples/s]\n",
      "/usr/local/lib/python3.10/dist-packages/transformers/utils/import_utils.py:575: FutureWarning: `is_torch_tpu_available` is deprecated and will be removed in 4.41.0. Please use the `is_torch_xla_available` instead.\n",
      "  warnings.warn(\n",
      "[INFO|trainer.py:2134] 2024-10-21 12:21:15,646 >> ***** Running training *****\n",
      "[INFO|trainer.py:2135] 2024-10-21 12:21:15,646 >>   Num examples = 6\n",
      "[INFO|trainer.py:2136] 2024-10-21 12:21:15,646 >>   Num Epochs = 5\n",
      "[INFO|trainer.py:2137] 2024-10-21 12:21:15,646 >>   Instantaneous batch size per device = 1\n",
      "[INFO|trainer.py:2140] 2024-10-21 12:21:15,646 >>   Total train batch size (w. parallel, distributed & accumulation) = 1\n",
      "[INFO|trainer.py:2141] 2024-10-21 12:21:15,646 >>   Gradient Accumulation steps = 1\n",
      "[INFO|trainer.py:2142] 2024-10-21 12:21:15,646 >>   Total optimization steps = 30\n",
      "[INFO|trainer.py:2143] 2024-10-21 12:21:15,647 >>   Number of trainable parameters = 354,823,168\n",
      "100% 30/30 [00:06<00:00,  5.10it/s][INFO|trainer.py:3503] 2024-10-21 12:21:22,426 >> Saving model checkpoint to outputs_stories/checkpoint-30\n",
      "[INFO|configuration_utils.py:472] 2024-10-21 12:21:22,428 >> Configuration saved in outputs_stories/checkpoint-30/config.json\n",
      "[INFO|configuration_utils.py:807] 2024-10-21 12:21:22,428 >> Configuration saved in outputs_stories/checkpoint-30/generation_config.json\n",
      "[INFO|modeling_utils.py:2799] 2024-10-21 12:21:25,370 >> Model weights saved in outputs_stories/checkpoint-30/model.safetensors\n",
      "[INFO|tokenization_utils_base.py:2684] 2024-10-21 12:21:25,371 >> tokenizer config file saved in outputs_stories/checkpoint-30/tokenizer_config.json\n",
      "[INFO|tokenization_utils_base.py:2693] 2024-10-21 12:21:25,371 >> Special tokens file saved in outputs_stories/checkpoint-30/special_tokens_map.json\n",
      "[INFO|trainer.py:2394] 2024-10-21 12:21:33,795 >> \n",
      "\n",
      "Training completed. Do not forget to share your model on huggingface.co/models =)\n",
      "\n",
      "\n",
      "{'train_runtime': 18.1479, 'train_samples_per_second': 1.653, 'train_steps_per_second': 1.653, 'train_loss': 1.5171713511149088, 'epoch': 5.0}\n",
      "100% 30/30 [00:18<00:00,  1.65it/s]\n",
      "[INFO|trainer.py:3503] 2024-10-21 12:21:33,796 >> Saving model checkpoint to outputs_stories\n",
      "[INFO|configuration_utils.py:472] 2024-10-21 12:21:33,797 >> Configuration saved in outputs_stories/config.json\n",
      "[INFO|configuration_utils.py:807] 2024-10-21 12:21:33,798 >> Configuration saved in outputs_stories/generation_config.json\n",
      "[INFO|modeling_utils.py:2799] 2024-10-21 12:21:38,557 >> Model weights saved in outputs_stories/model.safetensors\n",
      "[INFO|tokenization_utils_base.py:2684] 2024-10-21 12:21:38,558 >> tokenizer config file saved in outputs_stories/tokenizer_config.json\n",
      "[INFO|tokenization_utils_base.py:2693] 2024-10-21 12:21:38,558 >> Special tokens file saved in outputs_stories/special_tokens_map.json\n",
      "***** train metrics *****\n",
      "  epoch                    =        5.0\n",
      "  total_flos               =    51895GF\n",
      "  train_loss               =     1.5172\n",
      "  train_runtime            = 0:00:18.14\n",
      "  train_samples            =          6\n",
      "  train_samples_per_second =      1.653\n",
      "  train_steps_per_second   =      1.653\n",
      "10/21/2024 12:21:38 - INFO - __main__ - *** Evaluate ***\n",
      "[INFO|trainer.py:3819] 2024-10-21 12:21:38,609 >> \n",
      "***** Running Evaluation *****\n",
      "[INFO|trainer.py:3821] 2024-10-21 12:21:38,609 >>   Num examples = 6\n",
      "[INFO|trainer.py:3824] 2024-10-21 12:21:38,609 >>   Batch size = 1\n",
      "100% 6/6 [00:00<00:00, 17.20it/s]\n",
      "***** eval metrics *****\n",
      "  epoch                   =        5.0\n",
      "  eval_accuracy           =     0.9308\n",
      "  eval_loss               =     0.2848\n",
      "  eval_runtime            = 0:00:00.43\n",
      "  eval_samples            =          6\n",
      "  eval_samples_per_second =     13.914\n",
      "  eval_steps_per_second   =     13.914\n",
      "  perplexity              =     1.3294\n",
      "[INFO|modelcard.py:449] 2024-10-21 12:21:39,180 >> Dropping the following result as it does not have all the necessary fields:\n",
      "{'task': {'name': 'Causal Language Modeling', 'type': 'text-generation'}, 'metrics': [{'name': 'Accuracy', 'type': 'accuracy', 'value': 0.9307592049527533}]}\n"
     ]
    },
    {
     "name": "stderr",
     "output_type": "stream",
     "text": [
      "The attention mask and the pad token id were not set. As a consequence, you may observe unexpected behavior. Please pass your input's `attention_mask` to obtain reliable results.\n",
      "Setting `pad_token_id` to `eos_token_id`:50256 for open-end generation.\n",
      "The attention mask and the pad token id were not set. As a consequence, you may observe unexpected behavior. Please pass your input's `attention_mask` to obtain reliable results.\n",
      "Setting `pad_token_id` to `eos_token_id`:50256 for open-end generation.\n"
     ]
    },
    {
     "name": "stdout",
     "output_type": "stream",
     "text": [
      "START: \n",
      "Tom wanted to get in better shape. He hated running\n",
      "GENERATED: \n",
      "Tom wanted to get in better shape. He hated running because it was bad on his knees. He decided to bike instead. He felt it was the right thing to do. He even went as far as to buy a bike with a fancy handle. He hated the sound of the bike's engine. He decided to walk around in it, looking adorable. The end.\n",
      "TRUE: \n",
      "Tom wanted to get in better shape. He hated running because it was bad on his knees. His friends suggested bicycling. Tom rented a bike and went on a ride. He really loved it and felt it was a good workout. The end.\n"
     ]
    },
    {
     "name": "stderr",
     "output_type": "stream",
     "text": [
      "The attention mask and the pad token id were not set. As a consequence, you may observe unexpected behavior. Please pass your input's `attention_mask` to obtain reliable results.\n",
      "Setting `pad_token_id` to `eos_token_id`:50256 for open-end generation.\n"
     ]
    },
    {
     "name": "stdout",
     "output_type": "stream",
     "text": [
      "START: \n",
      "There was a large rainstorm in the area. When Tina\n",
      "GENERATED: \n",
      "There was a large rainstorm in the area. When Tina woke up, she was shocked to find her room flooded. She screamed and ran to the bathroom. When she came back, she was shocked to find her clothes wet. She was beginning to fear the rain. The end.\n",
      "TRUE: \n",
      "There was a large rainstorm in the area. When Tina woke up, her room was flooded. She could see one foot of water in the room. She screamed. Her entire house was flooded and she needed help. The end.\n"
     ]
    },
    {
     "name": "stderr",
     "output_type": "stream",
     "text": [
      "The attention mask and the pad token id were not set. As a consequence, you may observe unexpected behavior. Please pass your input's `attention_mask` to obtain reliable results.\n",
      "Setting `pad_token_id` to `eos_token_id`:50256 for open-end generation.\n"
     ]
    },
    {
     "name": "stdout",
     "output_type": "stream",
     "text": [
      "START: \n",
      "Abby loved watching a movie about the ocean. Her mom\n",
      "GENERATED: \n",
      "Abby loved watching a movie about the ocean. Her mom bought her the DVD of it. She watched it over and over again. She even watched it in the car! She even went back to the theater to see what would be played. She was beginning to fear the movie would be too scary. Eventually, her fear subsided. The end.\n",
      "TRUE: \n",
      "Abby loved watching a movie about the ocean. Her mom bought her the DVD of it. She watched it over and over again. She even watched it in the car! Abby wanted to spend all of her time watching that one dvd. The end.\n"
     ]
    },
    {
     "name": "stderr",
     "output_type": "stream",
     "text": [
      "The attention mask and the pad token id were not set. As a consequence, you may observe unexpected behavior. Please pass your input's `attention_mask` to obtain reliable results.\n",
      "Setting `pad_token_id` to `eos_token_id`:50256 for open-end generation.\n"
     ]
    },
    {
     "name": "stdout",
     "output_type": "stream",
     "text": [
      "START: \n",
      "Dan had a really rough day at work today. Dan\n",
      "GENERATED: \n",
      "Dan had a really rough day at work today. Dan went home and began crying. Dan began crying. Dan begged his parents to buy him lunch. His parents agreed to buy him lunch. Dan ate lunch and felt full. The end.\n",
      "TRUE: \n",
      "Dan had a really rough day at work today. Dan went home and started cooking a steak. However, Dan accidentally burned the steak. Dan threw away the steak, and got dressed. Dan decided he would go to a local restaurant to eat dinner. The end.\n"
     ]
    },
    {
     "name": "stderr",
     "output_type": "stream",
     "text": [
      "The attention mask and the pad token id were not set. As a consequence, you may observe unexpected behavior. Please pass your input's `attention_mask` to obtain reliable results.\n",
      "Setting `pad_token_id` to `eos_token_id`:50256 for open-end generation.\n"
     ]
    },
    {
     "name": "stdout",
     "output_type": "stream",
     "text": [
      "START: \n",
      "Oliver had a dog named Auri. Auri was his best\n",
      "GENERATED: \n",
      "Oliver had a dog named Auri. Auri was his best friend since he was very young. She was very playful and playful. Oliver had a great time at the circus. He was the only one at the circus who didn't make a dent in his bottom line. The end.\n",
      "TRUE: \n",
      "Oliver had a dog named Auri. Auri was his best friend since he was very young. She had a heart condition that made it hard for her to play roughly. Oliver was very careful with her as he grew up. Auri lived to the old age of 15, despite the heart condition. The end.\n"
     ]
    },
    {
     "name": "stderr",
     "output_type": "stream",
     "text": [
      "The attention mask and the pad token id were not set. As a consequence, you may observe unexpected behavior. Please pass your input's `attention_mask` to obtain reliable results.\n",
      "Setting `pad_token_id` to `eos_token_id`:50256 for open-end generation.\n"
     ]
    },
    {
     "name": "stdout",
     "output_type": "stream",
     "text": [
      "START: \n",
      "Minerva only liked dogs and not cats. She run a\n",
      "GENERATED: \n",
      "Minerva only liked dogs and not cats. She run a small shop and bought a dog that looked hungry. She gave the dog over to her and decided she was going to keep it. The end.\n",
      "TRUE: \n",
      "Minerva only liked dogs and not cats. She run a dog shelter and liked to take care of stray dogs. When a starving cat came to her door and meowed, she froze. She didn't want to let it in. But in the end, he heart melted, she fed the cat and kept it with her. The end.\n"
     ]
    },
    {
     "name": "stderr",
     "output_type": "stream",
     "text": [
      "The attention mask and the pad token id were not set. As a consequence, you may observe unexpected behavior. Please pass your input's `attention_mask` to obtain reliable results.\n",
      "Setting `pad_token_id` to `eos_token_id`:50256 for open-end generation.\n"
     ]
    },
    {
     "name": "stdout",
     "output_type": "stream",
     "text": [
      "START: \n",
      "Amber wanted to surprise her husband on his birthday. She\n",
      "GENERATED: \n",
      "Amber wanted to surprise her husband on his birthday. She bought gifts at the store. She set them up while he was at work. Her husband came home from work. He was surprised to see her party. The end.\n",
      "TRUE: \n",
      "Amber wanted to surprise her husband on his birthday. She bought gifts at the store. She set them up while he was at work. Her husband came home from work. He was surprised to see her party. The end.\n"
     ]
    },
    {
     "name": "stderr",
     "output_type": "stream",
     "text": [
      "The attention mask and the pad token id were not set. As a consequence, you may observe unexpected behavior. Please pass your input's `attention_mask` to obtain reliable results.\n",
      "Setting `pad_token_id` to `eos_token_id`:50256 for open-end generation.\n"
     ]
    },
    {
     "name": "stdout",
     "output_type": "stream",
     "text": [
      "START: \n",
      "Tim wanted to make money at a lemonade stand. He\n",
      "GENERATED: \n",
      "Tim wanted to make money at a lemonade stand. He sold lemonade for five dollars a glass. He got no customers. He closed the lemonade stand. The end.\n",
      "TRUE: \n",
      "Tim wanted to make money at a lemonade stand. He sold lemonade for five dollars a glass. He got no customers with that price. Tim lowered the price to fifty cents a glass. After that he sold fifty glasses of lemonade. The end.\n"
     ]
    },
    {
     "name": "stderr",
     "output_type": "stream",
     "text": [
      "The attention mask and the pad token id were not set. As a consequence, you may observe unexpected behavior. Please pass your input's `attention_mask` to obtain reliable results.\n",
      "Setting `pad_token_id` to `eos_token_id`:50256 for open-end generation.\n"
     ]
    },
    {
     "name": "stdout",
     "output_type": "stream",
     "text": [
      "START: \n",
      "Adrian wanted to go to art school. The entrance application\n",
      "GENERATED: \n",
      "Adrian wanted to go to art school. The entrance application required that he paint a picture. He painted a picture and submitted the application. The school rejected his application. He went to business school instead. The end.\n",
      "TRUE: \n",
      "Adrian wanted to go to art school. The entrance application required that he paint a picture. He worked long and hard on a painting of some water lilies. Unfortunately, the school rejected his application. He decided to go to business school instead. The end.\n"
     ]
    },
    {
     "name": "stderr",
     "output_type": "stream",
     "text": [
      "The attention mask and the pad token id were not set. As a consequence, you may observe unexpected behavior. Please pass your input's `attention_mask` to obtain reliable results.\n",
      "Setting `pad_token_id` to `eos_token_id`:50256 for open-end generation.\n"
     ]
    },
    {
     "name": "stdout",
     "output_type": "stream",
     "text": [
      "START: \n",
      "Richard wanted to build his son a treehouse for his\n",
      "GENERATED: \n",
      "Richard wanted to build his son a treehouse for his birthday. He bought the sturdiest lumber and supplies he could. He began to build the treehouse. The treehouse creaked. The water in the house was very hot and humid. The treehouse creaked. The water inside the house was very hot and humid. The end.\n",
      "TRUE: \n",
      "Richard wanted to build his son a treehouse for his birthday. He bought the sturdiest lumber and supplies he could. Richard spent time drawing up a plan for the treehouse. He began to build the treehouse. The treehouse that Richard built lasted for years. The end.\n"
     ]
    },
    {
     "name": "stderr",
     "output_type": "stream",
     "text": [
      "The attention mask and the pad token id were not set. As a consequence, you may observe unexpected behavior. Please pass your input's `attention_mask` to obtain reliable results.\n",
      "Setting `pad_token_id` to `eos_token_id`:50256 for open-end generation.\n"
     ]
    },
    {
     "name": "stdout",
     "output_type": "stream",
     "text": [
      "START: \n",
      "Chloe bought the best house she could afford, but it\n",
      "GENERATED: \n",
      "Chloe bought the best house she could afford, but it was a cheap one. The walls were covered in horrible floral wallpaper. She tore down the terrible wal The end.\n",
      "TRUE: \n",
      "Chloe bought the best house she could afford, but it wasn't perfect. The walls were covered in horrible floral wallpaper. Since Chloe watched a lot of home improvement shows, she had an idea. She tore down the terrible wal The end.\n"
     ]
    },
    {
     "name": "stderr",
     "output_type": "stream",
     "text": [
      "The attention mask and the pad token id were not set. As a consequence, you may observe unexpected behavior. Please pass your input's `attention_mask` to obtain reliable results.\n",
      "Setting `pad_token_id` to `eos_token_id`:50256 for open-end generation.\n"
     ]
    },
    {
     "name": "stdout",
     "output_type": "stream",
     "text": [
      "START: \n",
      "Dana was reading The Artist's Way, seeking ways to become\n",
      "GENERATED: \n",
      "Dana was reading The Artist's Way, seeking ways to become artistic. Dana was struggling to come up with an idea for an art piece. She even resorted to plagiarizing from another person. Eventually, she came up with the idea for an art piece. The end.\n",
      "TRUE: \n",
      "Dana was reading The Artist's Way, seeking ways to become artistic. The book advised journaling, and Dana faithfully wrote every morning. Reading over her entries, she began seeing how preoccupied she was. Dana decided to  The end.\n"
     ]
    },
    {
     "name": "stderr",
     "output_type": "stream",
     "text": [
      "The attention mask and the pad token id were not set. As a consequence, you may observe unexpected behavior. Please pass your input's `attention_mask` to obtain reliable results.\n",
      "Setting `pad_token_id` to `eos_token_id`:50256 for open-end generation.\n"
     ]
    },
    {
     "name": "stdout",
     "output_type": "stream",
     "text": [
      "START: \n",
      "Aya had visited family in Colombia, then been stopped on\n",
      "GENERATED: \n",
      "Aya had visited family in Colombia, then been stopped on her way back. She was about to start crying when she realized she was late. She panicked and called the police. The police told her the car was a wreck. The end.\n",
      "TRUE: \n",
      "Aya had visited family in Colombia, then been stopped on her way back. A Spanish translator told her she was randomly chosen for screening. They put Aya through an X-ray machine and went through her bags. When they found n The end.\n"
     ]
    },
    {
     "name": "stderr",
     "output_type": "stream",
     "text": [
      "The attention mask and the pad token id were not set. As a consequence, you may observe unexpected behavior. Please pass your input's `attention_mask` to obtain reliable results.\n",
      "Setting `pad_token_id` to `eos_token_id`:50256 for open-end generation.\n"
     ]
    },
    {
     "name": "stdout",
     "output_type": "stream",
     "text": [
      "START: \n",
      "Mel lived paycheck to paycheck and money was always tight.\n",
      "GENERATED: \n",
      "Mel lived paycheck to paycheck and money was always tight. He paid his monthly bills on time but had very little cash left over. He was beginning to feel anxious. He even went out and bought a new laptop. He began to fear that the laptop would have spy on him. The end.\n",
      "TRUE: \n",
      "Mel lived paycheck to paycheck and money was always tight. He paid his monthly bills on time but had very little cash left over. One fateful month, he was forced to take his car to the mechanic's. Mel panicked when he lear The end.\n"
     ]
    },
    {
     "name": "stderr",
     "output_type": "stream",
     "text": [
      "The attention mask and the pad token id were not set. As a consequence, you may observe unexpected behavior. Please pass your input's `attention_mask` to obtain reliable results.\n",
      "Setting `pad_token_id` to `eos_token_id`:50256 for open-end generation.\n"
     ]
    },
    {
     "name": "stdout",
     "output_type": "stream",
     "text": [
      "START: \n",
      "Maybeth was a widow and would always wear the color\n",
      "GENERATED: \n",
      "Maybeth was a widow and would always wear the color black. She wore it over a decade and still could not move on. She was lost. She never remarried and wore the black dress until her expected death. The end.\n",
      "TRUE: \n",
      "Maybeth was a widow and would always wear the color black. She wore it over a decade and still could not move on, she was lost. She never remarried and wore the black dress until her expected death. She was buried in her b The end.\n"
     ]
    },
    {
     "name": "stderr",
     "output_type": "stream",
     "text": [
      "The attention mask and the pad token id were not set. As a consequence, you may observe unexpected behavior. Please pass your input's `attention_mask` to obtain reliable results.\n",
      "Setting `pad_token_id` to `eos_token_id`:50256 for open-end generation.\n"
     ]
    },
    {
     "name": "stdout",
     "output_type": "stream",
     "text": [
      "START: \n",
      "Barry decided that he was going to take his children\n",
      "GENERATED: \n",
      "Barry decided that he was going to take his children to a water park. Barry wanted to surprise them, so he went out and bought a ticket to the water park. The kids loved it, and they came back with a new set of clothes. The end.\n",
      "TRUE: \n",
      "Barry decided that he was going to take his children to a water park. Barry wanted to surprise them, so he did not tell them about the park. As Barry was driving, the kids kept asking where they were going. As they approac The end.\n"
     ]
    },
    {
     "name": "stderr",
     "output_type": "stream",
     "text": [
      "The attention mask and the pad token id were not set. As a consequence, you may observe unexpected behavior. Please pass your input's `attention_mask` to obtain reliable results.\n",
      "Setting `pad_token_id` to `eos_token_id`:50256 for open-end generation.\n"
     ]
    },
    {
     "name": "stdout",
     "output_type": "stream",
     "text": [
      "START: \n",
      "Peyton thought she was the reincarnation of an ancient warrior.\n",
      "GENERATED: \n",
      "Peyton thought she was the reincarnation of an ancient warrior. She was not. She was a woman in her late forties. She had lived in a mansion with maids and a butler. She was not prepared. The end.\n",
      "TRUE: \n",
      "Peyton thought she was the reincarnation of an ancient warrior. As she lived in a mansion with maids and a butler, she kept it secret. But as she grew up, she felt the fire in her to change the world. She didn't want to be The end.\n"
     ]
    },
    {
     "name": "stderr",
     "output_type": "stream",
     "text": [
      "The attention mask and the pad token id were not set. As a consequence, you may observe unexpected behavior. Please pass your input's `attention_mask` to obtain reliable results.\n",
      "Setting `pad_token_id` to `eos_token_id`:50256 for open-end generation.\n"
     ]
    },
    {
     "name": "stdout",
     "output_type": "stream",
     "text": [
      "START: \n",
      "Wallace was working with his team for his college chemistry\n",
      "GENERATED: \n",
      "Wallace was working with his team for his college chemistry lab. One day, one of his students suggested that he take a walk with his friends. He agreed to it, and began jogging. He was beginning to feel at home. The end.\n",
      "TRUE: \n",
      "Wallace was working with his team for his college chemistry lab. They needed to create a solution using a certain amount of chemicals. Wallace and his team carefully read the instructions. Unfortunately, one of the team me The end.\n"
     ]
    },
    {
     "name": "stderr",
     "output_type": "stream",
     "text": [
      "The attention mask and the pad token id were not set. As a consequence, you may observe unexpected behavior. Please pass your input's `attention_mask` to obtain reliable results.\n",
      "Setting `pad_token_id` to `eos_token_id`:50256 for open-end generation.\n"
     ]
    },
    {
     "name": "stdout",
     "output_type": "stream",
     "text": [
      "START: \n",
      "Ben knew he wanted to submit some art for an\n",
      "GENERATED: \n",
      "Ben knew he wanted to submit some art for an upcoming art show. He did not want to waste his time. He hired a new art director. He was about to start yelling when the agent asked what email he had. He told her, and she immediately pointed out that was the wrong email. He sheepishly entered the correct email, which worked perfectly. The end.\n",
      "TRUE: \n",
      "Ben knew he wanted to submit some art for an upcoming art show. He was a bit of a procrastinator so he'd really have to focus. All throughout the winter and spring he chipped away at his workload. He was cutting it close,  The end.\n"
     ]
    },
    {
     "name": "stderr",
     "output_type": "stream",
     "text": [
      "The attention mask and the pad token id were not set. As a consequence, you may observe unexpected behavior. Please pass your input's `attention_mask` to obtain reliable results.\n",
      "Setting `pad_token_id` to `eos_token_id`:50256 for open-end generation.\n"
     ]
    },
    {
     "name": "stdout",
     "output_type": "stream",
     "text": [
      "START: \n",
      "While she was taking a shower, Jessica felt a lump\n",
      "GENERATED: \n",
      "While she was taking a shower, Jessica felt a lump in her breast. Shocked and scared, she didn't know what to do at first. Jessica called her doctor to schedule an appointment for next week. She was so scared and worried s The end.\n",
      "TRUE: \n",
      "While she was taking a shower, Jessica felt a lump in her breast. Shocked and scared, she didn't know what to do at first. Jessica called her doctor to schedule an appointment for next week. She was so scared and worried s The end.\n"
     ]
    },
    {
     "name": "stderr",
     "output_type": "stream",
     "text": [
      "The attention mask and the pad token id were not set. As a consequence, you may observe unexpected behavior. Please pass your input's `attention_mask` to obtain reliable results.\n",
      "Setting `pad_token_id` to `eos_token_id`:50256 for open-end generation.\n"
     ]
    },
    {
     "name": "stdout",
     "output_type": "stream",
     "text": [
      "START: \n",
      "Frank had a job interview. He's waiting for a phone\n",
      "GENERATED: \n",
      "Frank had a job interview. He's waiting for a phone call. He didn't want to waste his time. He called the company to schedule an appointment for next week. The next day, the agent asked what email he had. He told her, and she immediately pointed out that was the wrong email. He sheepishly entered the correct email, which worked perfectly. The end.\n",
      "TRUE: \n",
      "Frank had a job interview. He's waiting for a phone call. The phone rings. Frank picks up the phone. He got the job. Brad and Jill went to the theater to see a movie. During the movie the couple behind them talked the enti The end.\n"
     ]
    },
    {
     "name": "stderr",
     "output_type": "stream",
     "text": [
      "The attention mask and the pad token id were not set. As a consequence, you may observe unexpected behavior. Please pass your input's `attention_mask` to obtain reliable results.\n",
      "Setting `pad_token_id` to `eos_token_id`:50256 for open-end generation.\n"
     ]
    },
    {
     "name": "stdout",
     "output_type": "stream",
     "text": [
      "START: \n",
      "The man learned French. He traveled to France. He used\n",
      "GENERATED: \n",
      "The man learned French. He traveled to France. He used his French. He traveled to France. He met with French. The man became French. The end.\n",
      "TRUE: \n",
      "The man learned French. He traveled to France. He used his French. His French was bad. The natives laughed at the man. Lars took off his glasses. He had a headache. He looked at the computer too long. He went to the bedroo The end.\n"
     ]
    },
    {
     "name": "stderr",
     "output_type": "stream",
     "text": [
      "The attention mask and the pad token id were not set. As a consequence, you may observe unexpected behavior. Please pass your input's `attention_mask` to obtain reliable results.\n",
      "Setting `pad_token_id` to `eos_token_id`:50256 for open-end generation.\n"
     ]
    },
    {
     "name": "stdout",
     "output_type": "stream",
     "text": [
      "START: \n",
      "I was going down the road. I saw a wreck.\n",
      "GENERATED: \n",
      "I was going down the road. I saw a wreck. I saw one car hit another. It spun around a couple times. I jumped out of the race. I moved. I went to another job interview. I was nervous. I didn't know what to do. I kept it blank. Eventually, I found a job. I was hired. The end.\n",
      "TRUE: \n",
      "I was going down the road. I saw a wreck. I saw one car hit another. It spun around a couple times. It looked dangerous. Timmy and his brother decided to sleep in a tent in the backyard. Timmy's brother thought it would be The end.\n"
     ]
    },
    {
     "name": "stderr",
     "output_type": "stream",
     "text": [
      "The attention mask and the pad token id were not set. As a consequence, you may observe unexpected behavior. Please pass your input's `attention_mask` to obtain reliable results.\n",
      "Setting `pad_token_id` to `eos_token_id`:50256 for open-end generation.\n"
     ]
    },
    {
     "name": "stdout",
     "output_type": "stream",
     "text": [
      "START: \n",
      "The man frowned. The boy noticed. The boy told his\n",
      "GENERATED: \n",
      "The man frowned. The boy noticed. The boy told his dad. His dad looked at the man. The man was no longer frowning. The boy smiled awkwardly. The end.\n",
      "TRUE: \n",
      "The man frowned. The boy noticed. The boy told his dad. His dad looked at the man. The man was no longer frowning. I couldn't find my lunch box. I looked through my bag, my car and my kitchen. When I went to work, I saw my The end.\n"
     ]
    },
    {
     "name": "stderr",
     "output_type": "stream",
     "text": [
      "The attention mask and the pad token id were not set. As a consequence, you may observe unexpected behavior. Please pass your input's `attention_mask` to obtain reliable results.\n",
      "Setting `pad_token_id` to `eos_token_id`:50256 for open-end generation.\n"
     ]
    },
    {
     "name": "stdout",
     "output_type": "stream",
     "text": [
      "START: \n",
      "The man ate some bread. The bread tasted weird. He\n",
      "GENERATED: \n",
      "The man ate some bread. The bread tasted weird. He looked at the bread. The bread tasted weird. The man threw the bread away. The end.\n",
      "TRUE: \n",
      "The man ate some bread. The bread tasted weird. He looked at the bread. It was visibly moldy. He threw the bread away. Joe just bought a new laptop. When he got to basketball practice, he put it in his backpack. When he go The end.\n"
     ]
    },
    {
     "name": "stderr",
     "output_type": "stream",
     "text": [
      "The attention mask and the pad token id were not set. As a consequence, you may observe unexpected behavior. Please pass your input's `attention_mask` to obtain reliable results.\n",
      "Setting `pad_token_id` to `eos_token_id`:50256 for open-end generation.\n"
     ]
    },
    {
     "name": "stdout",
     "output_type": "stream",
     "text": [
      "START: \n",
      "Tina was taking a science test. She was not prepared.\n",
      "GENERATED: \n",
      "Tina was taking a science test. She was not prepared. She hardly studied. She hardly studied. She hardly studied. The end.\n",
      "TRUE: \n",
      "Tina was taking a science test. She was not prepared. She hardly studied. She kept it blank. She ended up failing. Today when Marcus went jogging, he saw a suspicious bag on the trail. Hesitantly, Marcus approached the bag The end.\n"
     ]
    },
    {
     "name": "stderr",
     "output_type": "stream",
     "text": [
      "The attention mask and the pad token id were not set. As a consequence, you may observe unexpected behavior. Please pass your input's `attention_mask` to obtain reliable results.\n",
      "Setting `pad_token_id` to `eos_token_id`:50256 for open-end generation.\n"
     ]
    },
    {
     "name": "stdout",
     "output_type": "stream",
     "text": [
      "START: \n",
      "John wanted to do well in school. He was struggling.\n",
      "GENERATED: \n",
      "John wanted to do well in school. He was struggling. He hired a tutor. He was not prepared. He hardly studied. He barely studied. He barely studied. The end.\n",
      "TRUE: \n",
      "John wanted to do well in school. He was struggling. He hired a tutor. The tutor helped him. His grades improved. The house creaked. That scared the boy. The boy told his mom. His mom held the boy. The boy felt less scared The end.\n"
     ]
    },
    {
     "name": "stderr",
     "output_type": "stream",
     "text": [
      "The attention mask and the pad token id were not set. As a consequence, you may observe unexpected behavior. Please pass your input's `attention_mask` to obtain reliable results.\n",
      "Setting `pad_token_id` to `eos_token_id`:50256 for open-end generation.\n"
     ]
    },
    {
     "name": "stdout",
     "output_type": "stream",
     "text": [
      "START: \n",
      "Ethan was approached to do sales. He agreed to it.\n",
      "GENERATED: \n",
      "Ethan was approached to do sales. He agreed to it. He moved to Oklahoma. He hired a lawyer and began to prepare. The end.\n",
      "TRUE: \n",
      "Ethan was approached to do sales. He agreed to it. He moved to Oklahoma. He sold pest control. He came home early. Henry had a first class ticket to Saudi Arabia. He got on the plane and prepared to see what it would be li The end.\n"
     ]
    },
    {
     "name": "stderr",
     "output_type": "stream",
     "text": [
      "The attention mask and the pad token id were not set. As a consequence, you may observe unexpected behavior. Please pass your input's `attention_mask` to obtain reliable results.\n",
      "Setting `pad_token_id` to `eos_token_id`:50256 for open-end generation.\n"
     ]
    },
    {
     "name": "stdout",
     "output_type": "stream",
     "text": [
      "START: \n",
      "Yesterday I went for a workout. I ran three miles.\n",
      "GENERATED: \n",
      "Yesterday I went for a workout. I ran three miles. I was exhausted. I was hungry. I needed sleep. I didn't want to waste my time. I went to the bedroo The end.\n",
      "TRUE: \n",
      "Yesterday I went for a workout. I ran three miles. I was exhausted. When I was done I collapsed. I needed sleep. Charles was on his first overseas assignment for the Associated Press. He was in Kenya and heard a gunman ope The end.\n",
      "START: \n",
      "Tina scraped herself. It was a bad fall. Luckily she\n",
      "GENERATED: \n",
      "Tina scraped herself. It was a bad fall. Luckily she had a first aid kit. She was covered. Ian didn't pay attention in class. He daydreamed while the teacher was talking. Ian would fall asleep duri The end.\n",
      "TRUE: \n",
      "Tina scraped herself. It was a bad fall. Luckily she had a first aid kit. So she was covered. Later it felt better. Ian didn't pay attention in class. He daydreamed while the teacher was talking. Ian would fall asleep duri The end.\n",
      "94\n",
      "46\n",
      "90\n",
      "-34\n",
      "-29\n",
      "-96\n",
      "0\n",
      "-78\n",
      "-32\n",
      "37\n",
      "-69\n",
      "18\n",
      "-13\n",
      "38\n",
      "-24\n",
      "-3\n",
      "-35\n",
      "-11\n",
      "111\n",
      "0\n",
      "118\n",
      "-90\n",
      "43\n",
      "-82\n",
      "-97\n",
      "-109\n",
      "-74\n",
      "-110\n",
      "-72\n",
      "-25\n"
     ]
    },
    {
     "data": {
      "image/png": "[encoded data removed]",
      "text/plain": [
       "<Figure size 640x480 with 1 Axes>"
      ]
     },
     "metadata": {},
     "output_type": "display_data"
    },
    {
     "name": "stdout",
     "output_type": "stream",
     "text": [
      "222\n",
      "2024-10-21 12:24:04.804474: E external/local_xla/xla/stream_executor/cuda/cuda_fft.cc:485] Unable to register cuFFT factory: Attempting to register factory for plugin cuFFT when one has already been registered\n",
      "2024-10-21 12:24:04.826620: E external/local_xla/xla/stream_executor/cuda/cuda_dnn.cc:8454] Unable to register cuDNN factory: Attempting to register factory for plugin cuDNN when one has already been registered\n",
      "2024-10-21 12:24:04.833409: E external/local_xla/xla/stream_executor/cuda/cuda_blas.cc:1452] Unable to register cuBLAS factory: Attempting to register factory for plugin cuBLAS when one has already been registered\n",
      "2024-10-21 12:24:06.058489: W tensorflow/compiler/tf2tensorrt/utils/py_utils.cc:38] TF-TRT Warning: Could not find TensorRT\n",
      "10/21/2024 12:24:08 - WARNING - __main__ - Process rank: 0, device: cuda:0, n_gpu: 1distributed training: False, 16-bits training: False\n",
      "10/21/2024 12:24:08 - INFO - __main__ - Training/evaluation parameters TrainingArguments(\n",
      "_n_gpu=1,\n",
      "accelerator_config={'split_batches': False, 'dispatch_batches': None, 'even_batches': True, 'use_seedable_sampler': True, 'non_blocking': False, 'gradient_accumulation_kwargs': None, 'use_configured_state': False},\n",
      "adafactor=False,\n",
      "adam_beta1=0.9,\n",
      "adam_beta2=0.999,\n",
      "adam_epsilon=1e-08,\n",
      "auto_find_batch_size=False,\n",
      "batch_eval_metrics=False,\n",
      "bf16=False,\n",
      "bf16_full_eval=False,\n",
      "data_seed=None,\n",
      "dataloader_drop_last=False,\n",
      "dataloader_num_workers=0,\n",
      "dataloader_persistent_workers=False,\n",
      "dataloader_pin_memory=True,\n",
      "dataloader_prefetch_factor=None,\n",
      "ddp_backend=None,\n",
      "ddp_broadcast_buffers=None,\n",
      "ddp_bucket_cap_mb=None,\n",
      "ddp_find_unused_parameters=None,\n",
      "ddp_timeout=1800,\n",
      "debug=[],\n",
      "deepspeed=None,\n",
      "disable_tqdm=False,\n",
      "dispatch_batches=None,\n",
      "do_eval=True,\n",
      "do_predict=False,\n",
      "do_train=True,\n",
      "eval_accumulation_steps=None,\n",
      "eval_delay=0,\n",
      "eval_do_concat_batches=True,\n",
      "eval_on_start=False,\n",
      "eval_steps=None,\n",
      "eval_strategy=no,\n",
      "eval_use_gather_object=False,\n",
      "evaluation_strategy=None,\n",
      "fp16=False,\n",
      "fp16_backend=auto,\n",
      "fp16_full_eval=False,\n",
      "fp16_opt_level=O1,\n",
      "fsdp=[],\n",
      "fsdp_config={'min_num_params': 0, 'xla': False, 'xla_fsdp_v2': False, 'xla_fsdp_grad_ckpt': False},\n",
      "fsdp_min_num_params=0,\n",
      "fsdp_transformer_layer_cls_to_wrap=None,\n",
      "full_determinism=False,\n",
      "gradient_accumulation_steps=1,\n",
      "gradient_checkpointing=False,\n",
      "gradient_checkpointing_kwargs=None,\n",
      "greater_is_better=None,\n",
      "group_by_length=False,\n",
      "half_precision_backend=auto,\n",
      "hub_always_push=False,\n",
      "hub_model_id=None,\n",
      "hub_private_repo=False,\n",
      "hub_strategy=every_save,\n",
      "hub_token=<HUB_TOKEN>,\n",
      "ignore_data_skip=False,\n",
      "include_inputs_for_metrics=False,\n",
      "include_num_input_tokens_seen=False,\n",
      "include_tokens_per_second=False,\n",
      "jit_mode_eval=False,\n",
      "label_names=None,\n",
      "label_smoothing_factor=0.0,\n",
      "learning_rate=0.0005,\n",
      "length_column_name=length,\n",
      "load_best_model_at_end=False,\n",
      "local_rank=0,\n",
      "log_level=passive,\n",
      "log_level_replica=warning,\n",
      "log_on_each_node=True,\n",
      "logging_dir=outputs_stories/runs/Oct21_12-24-08_f910dfa8e9d3,\n",
      "logging_first_step=False,\n",
      "logging_nan_inf_filter=True,\n",
      "logging_steps=500,\n",
      "logging_strategy=steps,\n",
      "lr_scheduler_kwargs={},\n",
      "lr_scheduler_type=linear,\n",
      "max_grad_norm=1.0,\n",
      "max_steps=-1,\n",
      "metric_for_best_model=None,\n",
      "mp_parameters=,\n",
      "neftune_noise_alpha=None,\n",
      "no_cuda=False,\n",
      "num_train_epochs=5.0,\n",
      "optim=adamw_torch,\n",
      "optim_args=None,\n",
      "optim_target_modules=None,\n",
      "output_dir=outputs_stories,\n",
      "overwrite_output_dir=True,\n",
      "past_index=-1,\n",
      "per_device_eval_batch_size=1,\n",
      "per_device_train_batch_size=1,\n",
      "prediction_loss_only=False,\n",
      "push_to_hub=False,\n",
      "push_to_hub_model_id=None,\n",
      "push_to_hub_organization=None,\n",
      "push_to_hub_token=<PUSH_TO_HUB_TOKEN>,\n",
      "ray_scope=last,\n",
      "remove_unused_columns=True,\n",
      "report_to=[],\n",
      "restore_callback_states_from_checkpoint=False,\n",
      "resume_from_checkpoint=None,\n",
      "run_name=outputs_stories,\n",
      "save_on_each_node=False,\n",
      "save_only_model=False,\n",
      "save_safetensors=True,\n",
      "save_steps=1000,\n",
      "save_strategy=steps,\n",
      "save_total_limit=None,\n",
      "seed=42,\n",
      "skip_memory_metrics=True,\n",
      "split_batches=None,\n",
      "tf32=None,\n",
      "torch_compile=False,\n",
      "torch_compile_backend=None,\n",
      "torch_compile_mode=None,\n",
      "torch_empty_cache_steps=None,\n",
      "torchdynamo=None,\n",
      "tpu_metrics_debug=False,\n",
      "tpu_num_cores=None,\n",
      "use_cpu=False,\n",
      "use_ipex=False,\n",
      "use_legacy_prediction_loop=False,\n",
      "use_mps_device=False,\n",
      "warmup_ratio=0.0,\n",
      "warmup_steps=0,\n",
      "weight_decay=0.0,\n",
      ")\n",
      "Using custom data configuration default-0a0f3ea6d1c72f66\n",
      "10/21/2024 12:24:08 - INFO - datasets.builder - Using custom data configuration default-0a0f3ea6d1c72f66\n",
      "Loading Dataset Infos from /usr/local/lib/python3.10/dist-packages/datasets/packaged_modules/text\n",
      "10/21/2024 12:24:08 - INFO - datasets.info - Loading Dataset Infos from /usr/local/lib/python3.10/dist-packages/datasets/packaged_modules/text\n",
      "Generating dataset text (/root/.cache/huggingface/datasets/text/default-0a0f3ea6d1c72f66/0.0.0/37eaf37ac90527a7fd768c94b312ee84f8815c9b7ac00acf81c1c364e8392f99)\n",
      "10/21/2024 12:24:08 - INFO - datasets.builder - Generating dataset text (/root/.cache/huggingface/datasets/text/default-0a0f3ea6d1c72f66/0.0.0/37eaf37ac90527a7fd768c94b312ee84f8815c9b7ac00acf81c1c364e8392f99)\n",
      "Downloading and preparing dataset text/default to /root/.cache/huggingface/datasets/text/default-0a0f3ea6d1c72f66/0.0.0/37eaf37ac90527a7fd768c94b312ee84f8815c9b7ac00acf81c1c364e8392f99...\n",
      "10/21/2024 12:24:08 - INFO - datasets.builder - Downloading and preparing dataset text/default to /root/.cache/huggingface/datasets/text/default-0a0f3ea6d1c72f66/0.0.0/37eaf37ac90527a7fd768c94b312ee84f8815c9b7ac00acf81c1c364e8392f99...\n",
      "Downloading took 0.0 min\n",
      "10/21/2024 12:24:08 - INFO - datasets.download.download_manager - Downloading took 0.0 min\n",
      "Checksum Computation took 0.0 min\n",
      "10/21/2024 12:24:08 - INFO - datasets.download.download_manager - Checksum Computation took 0.0 min\n",
      "Generating train split\n",
      "10/21/2024 12:24:08 - INFO - datasets.builder - Generating train split\n",
      "Generating train split: 120 examples [00:00, 34860.54 examples/s]\n",
      "Generating validation split\n",
      "10/21/2024 12:24:08 - INFO - datasets.builder - Generating validation split\n",
      "Generating validation split: 120 examples [00:00, 110207.24 examples/s]\n",
      "Unable to verify splits sizes.\n",
      "10/21/2024 12:24:08 - INFO - datasets.utils.info_utils - Unable to verify splits sizes.\n",
      "Dataset text downloaded and prepared to /root/.cache/huggingface/datasets/text/default-0a0f3ea6d1c72f66/0.0.0/37eaf37ac90527a7fd768c94b312ee84f8815c9b7ac00acf81c1c364e8392f99. Subsequent calls will reuse this data.\n",
      "10/21/2024 12:24:08 - INFO - datasets.builder - Dataset text downloaded and prepared to /root/.cache/huggingface/datasets/text/default-0a0f3ea6d1c72f66/0.0.0/37eaf37ac90527a7fd768c94b312ee84f8815c9b7ac00acf81c1c364e8392f99. Subsequent calls will reuse this data.\n",
      "[INFO|configuration_utils.py:733] 2024-10-21 12:24:08,630 >> loading configuration file config.json from cache at /root/.cache/huggingface/hub/models--gpt2-medium/snapshots/6dcaa7a952f72f9298047fd5137cd6e4f05f41da/config.json\n",
      "[INFO|configuration_utils.py:800] 2024-10-21 12:24:08,631 >> Model config GPT2Config {\n",
      "  \"_name_or_path\": \"gpt2-medium\",\n",
      "  \"activation_function\": \"gelu_new\",\n",
      "  \"architectures\": [\n",
      "    \"GPT2LMHeadModel\"\n",
      "  ],\n",
      "  \"attn_pdrop\": 0.1,\n",
      "  \"bos_token_id\": 50256,\n",
      "  \"embd_pdrop\": 0.1,\n",
      "  \"eos_token_id\": 50256,\n",
      "  \"initializer_range\": 0.02,\n",
      "  \"layer_norm_epsilon\": 1e-05,\n",
      "  \"model_type\": \"gpt2\",\n",
      "  \"n_ctx\": 1024,\n",
      "  \"n_embd\": 1024,\n",
      "  \"n_head\": 16,\n",
      "  \"n_inner\": null,\n",
      "  \"n_layer\": 24,\n",
      "  \"n_positions\": 1024,\n",
      "  \"n_special\": 0,\n",
      "  \"predict_special_tokens\": true,\n",
      "  \"reorder_and_upcast_attn\": false,\n",
      "  \"resid_pdrop\": 0.1,\n",
      "  \"scale_attn_by_inverse_layer_idx\": false,\n",
      "  \"scale_attn_weights\": true,\n",
      "  \"summary_activation\": null,\n",
      "  \"summary_first_dropout\": 0.1,\n",
      "  \"summary_proj_to_labels\": true,\n",
      "  \"summary_type\": \"cls_index\",\n",
      "  \"summary_use_proj\": true,\n",
      "  \"task_specific_params\": {\n",
      "    \"text-generation\": {\n",
      "      \"do_sample\": true,\n",
      "      \"max_length\": 50\n",
      "    }\n",
      "  },\n",
      "  \"transformers_version\": \"4.44.2\",\n",
      "  \"use_cache\": true,\n",
      "  \"vocab_size\": 50257\n",
      "}\n",
      "\n",
      "[INFO|configuration_utils.py:733] 2024-10-21 12:24:08,681 >> loading configuration file config.json from cache at /root/.cache/huggingface/hub/models--gpt2-medium/snapshots/6dcaa7a952f72f9298047fd5137cd6e4f05f41da/config.json\n",
      "[INFO|configuration_utils.py:800] 2024-10-21 12:24:08,682 >> Model config GPT2Config {\n",
      "  \"_name_or_path\": \"gpt2-medium\",\n",
      "  \"activation_function\": \"gelu_new\",\n",
      "  \"architectures\": [\n",
      "    \"GPT2LMHeadModel\"\n",
      "  ],\n",
      "  \"attn_pdrop\": 0.1,\n",
      "  \"bos_token_id\": 50256,\n",
      "  \"embd_pdrop\": 0.1,\n",
      "  \"eos_token_id\": 50256,\n",
      "  \"initializer_range\": 0.02,\n",
      "  \"layer_norm_epsilon\": 1e-05,\n",
      "  \"model_type\": \"gpt2\",\n",
      "  \"n_ctx\": 1024,\n",
      "  \"n_embd\": 1024,\n",
      "  \"n_head\": 16,\n",
      "  \"n_inner\": null,\n",
      "  \"n_layer\": 24,\n",
      "  \"n_positions\": 1024,\n",
      "  \"n_special\": 0,\n",
      "  \"predict_special_tokens\": true,\n",
      "  \"reorder_and_upcast_attn\": false,\n",
      "  \"resid_pdrop\": 0.1,\n",
      "  \"scale_attn_by_inverse_layer_idx\": false,\n",
      "  \"scale_attn_weights\": true,\n",
      "  \"summary_activation\": null,\n",
      "  \"summary_first_dropout\": 0.1,\n",
      "  \"summary_proj_to_labels\": true,\n",
      "  \"summary_type\": \"cls_index\",\n",
      "  \"summary_use_proj\": true,\n",
      "  \"task_specific_params\": {\n",
      "    \"text-generation\": {\n",
      "      \"do_sample\": true,\n",
      "      \"max_length\": 50\n",
      "    }\n",
      "  },\n",
      "  \"transformers_version\": \"4.44.2\",\n",
      "  \"use_cache\": true,\n",
      "  \"vocab_size\": 50257\n",
      "}\n",
      "\n",
      "[INFO|tokenization_utils_base.py:2269] 2024-10-21 12:24:08,692 >> loading file vocab.json from cache at /root/.cache/huggingface/hub/models--gpt2-medium/snapshots/6dcaa7a952f72f9298047fd5137cd6e4f05f41da/vocab.json\n",
      "[INFO|tokenization_utils_base.py:2269] 2024-10-21 12:24:08,692 >> loading file merges.txt from cache at /root/.cache/huggingface/hub/models--gpt2-medium/snapshots/6dcaa7a952f72f9298047fd5137cd6e4f05f41da/merges.txt\n",
      "[INFO|tokenization_utils_base.py:2269] 2024-10-21 12:24:08,692 >> loading file tokenizer.json from cache at /root/.cache/huggingface/hub/models--gpt2-medium/snapshots/6dcaa7a952f72f9298047fd5137cd6e4f05f41da/tokenizer.json\n",
      "[INFO|tokenization_utils_base.py:2269] 2024-10-21 12:24:08,692 >> loading file added_tokens.json from cache at None\n",
      "[INFO|tokenization_utils_base.py:2269] 2024-10-21 12:24:08,692 >> loading file special_tokens_map.json from cache at None\n",
      "[INFO|tokenization_utils_base.py:2269] 2024-10-21 12:24:08,692 >> loading file tokenizer_config.json from cache at /root/.cache/huggingface/hub/models--gpt2-medium/snapshots/6dcaa7a952f72f9298047fd5137cd6e4f05f41da/tokenizer_config.json\n",
      "[INFO|configuration_utils.py:733] 2024-10-21 12:24:08,692 >> loading configuration file config.json from cache at /root/.cache/huggingface/hub/models--gpt2-medium/snapshots/6dcaa7a952f72f9298047fd5137cd6e4f05f41da/config.json\n",
      "[INFO|configuration_utils.py:800] 2024-10-21 12:24:08,693 >> Model config GPT2Config {\n",
      "  \"_name_or_path\": \"gpt2-medium\",\n",
      "  \"activation_function\": \"gelu_new\",\n",
      "  \"architectures\": [\n",
      "    \"GPT2LMHeadModel\"\n",
      "  ],\n",
      "  \"attn_pdrop\": 0.1,\n",
      "  \"bos_token_id\": 50256,\n",
      "  \"embd_pdrop\": 0.1,\n",
      "  \"eos_token_id\": 50256,\n",
      "  \"initializer_range\": 0.02,\n",
      "  \"layer_norm_epsilon\": 1e-05,\n",
      "  \"model_type\": \"gpt2\",\n",
      "  \"n_ctx\": 1024,\n",
      "  \"n_embd\": 1024,\n",
      "  \"n_head\": 16,\n",
      "  \"n_inner\": null,\n",
      "  \"n_layer\": 24,\n",
      "  \"n_positions\": 1024,\n",
      "  \"n_special\": 0,\n",
      "  \"predict_special_tokens\": true,\n",
      "  \"reorder_and_upcast_attn\": false,\n",
      "  \"resid_pdrop\": 0.1,\n",
      "  \"scale_attn_by_inverse_layer_idx\": false,\n",
      "  \"scale_attn_weights\": true,\n",
      "  \"summary_activation\": null,\n",
      "  \"summary_first_dropout\": 0.1,\n",
      "  \"summary_proj_to_labels\": true,\n",
      "  \"summary_type\": \"cls_index\",\n",
      "  \"summary_use_proj\": true,\n",
      "  \"task_specific_params\": {\n",
      "    \"text-generation\": {\n",
      "      \"do_sample\": true,\n",
      "      \"max_length\": 50\n",
      "    }\n",
      "  },\n",
      "  \"transformers_version\": \"4.44.2\",\n",
      "  \"use_cache\": true,\n",
      "  \"vocab_size\": 50257\n",
      "}\n",
      "\n",
      "/usr/local/lib/python3.10/dist-packages/transformers/tokenization_utils_base.py:1601: FutureWarning: `clean_up_tokenization_spaces` was not set. It will be set to `True` by default. This behavior will be depracted in transformers v4.45, and will be then set to `False` by default. For more details check this issue: https://github.com/huggingface/transformers/issues/31884\n",
      "  warnings.warn(\n",
      "[INFO|modeling_utils.py:3678] 2024-10-21 12:24:08,805 >> loading weights file model.safetensors from cache at /root/.cache/huggingface/hub/models--gpt2-medium/snapshots/6dcaa7a952f72f9298047fd5137cd6e4f05f41da/model.safetensors\n",
      "[INFO|configuration_utils.py:1038] 2024-10-21 12:24:08,821 >> Generate config GenerationConfig {\n",
      "  \"bos_token_id\": 50256,\n",
      "  \"eos_token_id\": 50256\n",
      "}\n",
      "\n",
      "[INFO|modeling_utils.py:4507] 2024-10-21 12:24:08,920 >> All model checkpoint weights were used when initializing GPT2LMHeadModel.\n",
      "\n",
      "[INFO|modeling_utils.py:4515] 2024-10-21 12:24:08,920 >> All the weights of GPT2LMHeadModel were initialized from the model checkpoint at gpt2-medium.\n",
      "If your task is similar to the task the model of the checkpoint was trained on, you can already use GPT2LMHeadModel for predictions without further training.\n",
      "[INFO|configuration_utils.py:993] 2024-10-21 12:24:08,969 >> loading configuration file generation_config.json from cache at /root/.cache/huggingface/hub/models--gpt2-medium/snapshots/6dcaa7a952f72f9298047fd5137cd6e4f05f41da/generation_config.json\n",
      "[INFO|configuration_utils.py:1038] 2024-10-21 12:24:08,970 >> Generate config GenerationConfig {\n",
      "  \"bos_token_id\": 50256,\n",
      "  \"eos_token_id\": 50256\n",
      "}\n",
      "\n",
      "Running tokenizer on dataset:   0% 0/120 [00:00<?, ? examples/s]Caching processed dataset at /root/.cache/huggingface/datasets/text/default-0a0f3ea6d1c72f66/0.0.0/37eaf37ac90527a7fd768c94b312ee84f8815c9b7ac00acf81c1c364e8392f99/cache-eb1dc2bbc37f3eb1.arrow\n",
      "10/21/2024 12:24:09 - INFO - datasets.arrow_dataset - Caching processed dataset at /root/.cache/huggingface/datasets/text/default-0a0f3ea6d1c72f66/0.0.0/37eaf37ac90527a7fd768c94b312ee84f8815c9b7ac00acf81c1c364e8392f99/cache-eb1dc2bbc37f3eb1.arrow\n",
      "Running tokenizer on dataset: 100% 120/120 [00:00<00:00, 8202.81 examples/s]\n",
      "Running tokenizer on dataset:   0% 0/120 [00:00<?, ? examples/s]Caching processed dataset at /root/.cache/huggingface/datasets/text/default-0a0f3ea6d1c72f66/0.0.0/37eaf37ac90527a7fd768c94b312ee84f8815c9b7ac00acf81c1c364e8392f99/cache-88ec6b1a7c3b1142.arrow\n",
      "10/21/2024 12:24:09 - INFO - datasets.arrow_dataset - Caching processed dataset at /root/.cache/huggingface/datasets/text/default-0a0f3ea6d1c72f66/0.0.0/37eaf37ac90527a7fd768c94b312ee84f8815c9b7ac00acf81c1c364e8392f99/cache-88ec6b1a7c3b1142.arrow\n",
      "Running tokenizer on dataset: 100% 120/120 [00:00<00:00, 11215.72 examples/s]\n",
      "Grouping texts in chunks of 1024:   0% 0/120 [00:00<?, ? examples/s]Caching processed dataset at /root/.cache/huggingface/datasets/text/default-0a0f3ea6d1c72f66/0.0.0/37eaf37ac90527a7fd768c94b312ee84f8815c9b7ac00acf81c1c364e8392f99/cache-58366ba20e269d63.arrow\n",
      "10/21/2024 12:24:09 - INFO - datasets.arrow_dataset - Caching processed dataset at /root/.cache/huggingface/datasets/text/default-0a0f3ea6d1c72f66/0.0.0/37eaf37ac90527a7fd768c94b312ee84f8815c9b7ac00acf81c1c364e8392f99/cache-58366ba20e269d63.arrow\n",
      "Grouping texts in chunks of 1024: 100% 120/120 [00:00<00:00, 9265.09 examples/s]\n",
      "Grouping texts in chunks of 1024:   0% 0/120 [00:00<?, ? examples/s]Caching processed dataset at /root/.cache/huggingface/datasets/text/default-0a0f3ea6d1c72f66/0.0.0/37eaf37ac90527a7fd768c94b312ee84f8815c9b7ac00acf81c1c364e8392f99/cache-398711832b1c9c87.arrow\n",
      "10/21/2024 12:24:09 - INFO - datasets.arrow_dataset - Caching processed dataset at /root/.cache/huggingface/datasets/text/default-0a0f3ea6d1c72f66/0.0.0/37eaf37ac90527a7fd768c94b312ee84f8815c9b7ac00acf81c1c364e8392f99/cache-398711832b1c9c87.arrow\n",
      "Grouping texts in chunks of 1024: 100% 120/120 [00:00<00:00, 9550.78 examples/s]\n",
      "/usr/local/lib/python3.10/dist-packages/transformers/utils/import_utils.py:575: FutureWarning: `is_torch_tpu_available` is deprecated and will be removed in 4.41.0. Please use the `is_torch_xla_available` instead.\n",
      "  warnings.warn(\n",
      "[INFO|trainer.py:2134] 2024-10-21 12:24:10,461 >> ***** Running training *****\n",
      "[INFO|trainer.py:2135] 2024-10-21 12:24:10,461 >>   Num examples = 6\n",
      "[INFO|trainer.py:2136] 2024-10-21 12:24:10,461 >>   Num Epochs = 5\n",
      "[INFO|trainer.py:2137] 2024-10-21 12:24:10,461 >>   Instantaneous batch size per device = 1\n",
      "[INFO|trainer.py:2140] 2024-10-21 12:24:10,461 >>   Total train batch size (w. parallel, distributed & accumulation) = 1\n",
      "[INFO|trainer.py:2141] 2024-10-21 12:24:10,461 >>   Gradient Accumulation steps = 1\n",
      "[INFO|trainer.py:2142] 2024-10-21 12:24:10,461 >>   Total optimization steps = 30\n",
      "[INFO|trainer.py:2143] 2024-10-21 12:24:10,462 >>   Number of trainable parameters = 354,823,168\n",
      "100% 30/30 [00:06<00:00,  5.10it/s][INFO|trainer.py:3503] 2024-10-21 12:24:17,206 >> Saving model checkpoint to outputs_stories/checkpoint-30\n",
      "[INFO|configuration_utils.py:472] 2024-10-21 12:24:17,207 >> Configuration saved in outputs_stories/checkpoint-30/config.json\n",
      "[INFO|configuration_utils.py:807] 2024-10-21 12:24:17,208 >> Configuration saved in outputs_stories/checkpoint-30/generation_config.json\n",
      "[INFO|modeling_utils.py:2799] 2024-10-21 12:24:20,135 >> Model weights saved in outputs_stories/checkpoint-30/model.safetensors\n",
      "[INFO|tokenization_utils_base.py:2684] 2024-10-21 12:24:20,136 >> tokenizer config file saved in outputs_stories/checkpoint-30/tokenizer_config.json\n",
      "[INFO|tokenization_utils_base.py:2693] 2024-10-21 12:24:20,136 >> Special tokens file saved in outputs_stories/checkpoint-30/special_tokens_map.json\n",
      "[INFO|trainer.py:2394] 2024-10-21 12:24:28,257 >> \n",
      "\n",
      "Training completed. Do not forget to share your model on huggingface.co/models =)\n",
      "\n",
      "\n",
      "{'train_runtime': 17.7954, 'train_samples_per_second': 1.686, 'train_steps_per_second': 1.686, 'train_loss': 1.4792076110839845, 'epoch': 5.0}\n",
      "100% 30/30 [00:17<00:00,  1.69it/s]\n",
      "[INFO|trainer.py:3503] 2024-10-21 12:24:28,258 >> Saving model checkpoint to outputs_stories\n",
      "[INFO|configuration_utils.py:472] 2024-10-21 12:24:28,260 >> Configuration saved in outputs_stories/config.json\n",
      "[INFO|configuration_utils.py:807] 2024-10-21 12:24:28,260 >> Configuration saved in outputs_stories/generation_config.json\n",
      "[INFO|modeling_utils.py:2799] 2024-10-21 12:24:33,150 >> Model weights saved in outputs_stories/model.safetensors\n",
      "[INFO|tokenization_utils_base.py:2684] 2024-10-21 12:24:33,151 >> tokenizer config file saved in outputs_stories/tokenizer_config.json\n",
      "[INFO|tokenization_utils_base.py:2693] 2024-10-21 12:24:33,151 >> Special tokens file saved in outputs_stories/special_tokens_map.json\n",
      "***** train metrics *****\n",
      "  epoch                    =        5.0\n",
      "  total_flos               =    51895GF\n",
      "  train_loss               =     1.4792\n",
      "  train_runtime            = 0:00:17.79\n",
      "  train_samples            =          6\n",
      "  train_samples_per_second =      1.686\n",
      "  train_steps_per_second   =      1.686\n",
      "10/21/2024 12:24:33 - INFO - __main__ - *** Evaluate ***\n",
      "[INFO|trainer.py:3819] 2024-10-21 12:24:33,204 >> \n",
      "***** Running Evaluation *****\n",
      "[INFO|trainer.py:3821] 2024-10-21 12:24:33,204 >>   Num examples = 6\n",
      "[INFO|trainer.py:3824] 2024-10-21 12:24:33,204 >>   Batch size = 1\n",
      "100% 6/6 [00:00<00:00, 16.19it/s]\n",
      "***** eval metrics *****\n",
      "  epoch                   =        5.0\n",
      "  eval_accuracy           =     0.9477\n",
      "  eval_loss               =     0.2268\n",
      "  eval_runtime            = 0:00:00.45\n",
      "  eval_samples            =          6\n",
      "  eval_samples_per_second =     13.253\n",
      "  eval_steps_per_second   =     13.253\n",
      "  perplexity              =     1.2545\n",
      "[INFO|modelcard.py:449] 2024-10-21 12:24:33,808 >> Dropping the following result as it does not have all the necessary fields:\n",
      "{'task': {'name': 'Causal Language Modeling', 'type': 'text-generation'}, 'metrics': [{'name': 'Accuracy', 'type': 'accuracy', 'value': 0.947702834799609}]}\n"
     ]
    },
    {
     "name": "stderr",
     "output_type": "stream",
     "text": [
      "The attention mask and the pad token id were not set. As a consequence, you may observe unexpected behavior. Please pass your input's `attention_mask` to obtain reliable results.\n",
      "Setting `pad_token_id` to `eos_token_id`:50256 for open-end generation.\n",
      "The attention mask and the pad token id were not set. As a consequence, you may observe unexpected behavior. Please pass your input's `attention_mask` to obtain reliable results.\n",
      "Setting `pad_token_id` to `eos_token_id`:50256 for open-end generation.\n"
     ]
    },
    {
     "name": "stdout",
     "output_type": "stream",
     "text": [
      "START: \n",
      "After the principal said I had detention, I didn't care.\n",
      "GENERATED: \n",
      "After the principal said I had detention, I didn't care. I skipped detention all week long. I skipped breakfast, went to the store and bought cookies. I even bought a book to read on the plane. I read the reviews online and came to the conclusion that the book was terrible. I left the store with an attitude. The end.\n",
      "TRUE: \n",
      "After the principal said I had detention, I didn't care. I flounced back to class with an attitude. I skipped detention all week long. Other kids told me they had called my name and I wasn't there. I ended up getting paddled for skipping. The end.\n"
     ]
    },
    {
     "name": "stderr",
     "output_type": "stream",
     "text": [
      "The attention mask and the pad token id were not set. As a consequence, you may observe unexpected behavior. Please pass your input's `attention_mask` to obtain reliable results.\n",
      "Setting `pad_token_id` to `eos_token_id`:50256 for open-end generation.\n"
     ]
    },
    {
     "name": "stdout",
     "output_type": "stream",
     "text": [
      "START: \n",
      "Rihanna was so excited and nervous for her job interview.\n",
      "GENERATED: \n",
      "Rihanna was so excited and nervous for her job interview. She had been working very hard recently to impress him. She had finally managed to get the courage to ask him out. He was very interested in her. The end.\n",
      "TRUE: \n",
      "Rihanna was so excited and nervous for her job interview. She spent hours practicing what she would say in front of the mirror. She tried on seven outfits before deciding on something sensible. She was sure she was ready for the interview. Rhianna had no problem landing the overnight stocking job at Walmart. The end.\n"
     ]
    },
    {
     "name": "stderr",
     "output_type": "stream",
     "text": [
      "The attention mask and the pad token id were not set. As a consequence, you may observe unexpected behavior. Please pass your input's `attention_mask` to obtain reliable results.\n",
      "Setting `pad_token_id` to `eos_token_id`:50256 for open-end generation.\n"
     ]
    },
    {
     "name": "stdout",
     "output_type": "stream",
     "text": [
      "START: \n",
      "Abdulla thought that Alex was unteachable. Alex couldn't concentrate on\n",
      "GENERATED: \n",
      "Abdulla thought that Alex was unteachable. Alex couldn't concentrate on anything. He also disrupted the class all the time. The principal told Alex to leave the school. Alex ignored her and continued to do his work. The end.\n",
      "TRUE: \n",
      "Abdulla thought that Alex was unteachable. Alex couldn't concentrate on anything. He also disrupted the class all the time. Abdullah spoke to Alex's parents to warn them about his concerns. The parents told him to do his best as they knew Alex was unteachable. The end.\n"
     ]
    },
    {
     "name": "stderr",
     "output_type": "stream",
     "text": [
      "The attention mask and the pad token id were not set. As a consequence, you may observe unexpected behavior. Please pass your input's `attention_mask` to obtain reliable results.\n",
      "Setting `pad_token_id` to `eos_token_id`:50256 for open-end generation.\n"
     ]
    },
    {
     "name": "stdout",
     "output_type": "stream",
     "text": [
      "START: \n",
      "I made Celery Soup for a picnic. Everyone thought it\n",
      "GENERATED: \n",
      "I made Celery Soup for a picnic. Everyone thought it was disgusting. I was crying in my car when I heard a knock. It was my friend saying that my celery stew made perfect bird feed. The end.\n",
      "TRUE: \n",
      "I made Celery Soup for a picnic. Everyone thought it was disgusting. This hurt my feelings a lot. I was crying in my car when I heard a knock. It was my friend saying that my celery stew made perfect bird feed. The end.\n"
     ]
    },
    {
     "name": "stderr",
     "output_type": "stream",
     "text": [
      "The attention mask and the pad token id were not set. As a consequence, you may observe unexpected behavior. Please pass your input's `attention_mask` to obtain reliable results.\n",
      "Setting `pad_token_id` to `eos_token_id`:50256 for open-end generation.\n"
     ]
    },
    {
     "name": "stdout",
     "output_type": "stream",
     "text": [
      "START: \n",
      "Sara had a delicious poppy-seed bagel for breakfast. Her company\n",
      "GENERATED: \n",
      "Sara had a delicious poppy-seed bagel for breakfast. Her company did a surprise drug test. She tested positive for opium! Sara swore she'd never touched the stuff in her life! The end.\n",
      "TRUE: \n",
      "Sara had a delicious poppy-seed bagel for breakfast. Her company did a surprise drug test. She tested positive for opium! Sara swore she'd never touched the stuff in her life! The police didn't believe it was false results from her bagel. The end.\n"
     ]
    },
    {
     "name": "stderr",
     "output_type": "stream",
     "text": [
      "The attention mask and the pad token id were not set. As a consequence, you may observe unexpected behavior. Please pass your input's `attention_mask` to obtain reliable results.\n",
      "Setting `pad_token_id` to `eos_token_id`:50256 for open-end generation.\n"
     ]
    },
    {
     "name": "stdout",
     "output_type": "stream",
     "text": [
      "START: \n",
      "Today was the dreaded day for Lisa. She packed her\n",
      "GENERATED: \n",
      "Today was the dreaded day for Lisa. She packed her bags and drove away. She had to leave her apartment and move 45 miles East. Once she got to her new place, she loved it. She was so surprised and excited of what was to come. The end.\n",
      "TRUE: \n",
      "Today was the dreaded day for Lisa. She packed her bags and drove away. She had to leave her apartment and move 45 miles East. Once she got to her new place, she loved it. She was so surprised and excited of what was to come. The end.\n"
     ]
    },
    {
     "name": "stderr",
     "output_type": "stream",
     "text": [
      "The attention mask and the pad token id were not set. As a consequence, you may observe unexpected behavior. Please pass your input's `attention_mask` to obtain reliable results.\n",
      "Setting `pad_token_id` to `eos_token_id`:50256 for open-end generation.\n"
     ]
    },
    {
     "name": "stdout",
     "output_type": "stream",
     "text": [
      "START: \n",
      "Kia planted a small cherry tomato plant in her yard.\n",
      "GENERATED: \n",
      "Kia planted a small cherry tomato plant in her yard. She hoped it would grow enough to suit her needs. It thrived and produced more than enough tomatoes. The end.\n",
      "TRUE: \n",
      "Kia planted a small cherry tomato plant in her yard. She hoped it would grow enough to suit her needs. To her surprise, the plant thrived and grew huge! It produced more than enough tomatoes. Kia even had enough left over to share with her neighbors! The end.\n"
     ]
    },
    {
     "name": "stderr",
     "output_type": "stream",
     "text": [
      "The attention mask and the pad token id were not set. As a consequence, you may observe unexpected behavior. Please pass your input's `attention_mask` to obtain reliable results.\n",
      "Setting `pad_token_id` to `eos_token_id`:50256 for open-end generation.\n"
     ]
    },
    {
     "name": "stdout",
     "output_type": "stream",
     "text": [
      "START: \n",
      "Jill chose to go on vacation to learn to snowboard.\n",
      "GENERATED: \n",
      "Jill chose to go on vacation to learn to snowboard. She decided to take a snowboarding lesson at the mountain. She fell constantly and wanted to give up. Jill decided to take a snowboarding lesson at the river. The end.\n",
      "TRUE: \n",
      "Jill chose to go on vacation to learn to snowboard. She decided to take a snowboarding lesson at the mountain. She fell constantly and wanted to give up! After a few hours of practice, Jill went down a beginner trail. Jill hopes to return to the mountain again next year. The end.\n"
     ]
    },
    {
     "name": "stderr",
     "output_type": "stream",
     "text": [
      "The attention mask and the pad token id were not set. As a consequence, you may observe unexpected behavior. Please pass your input's `attention_mask` to obtain reliable results.\n",
      "Setting `pad_token_id` to `eos_token_id`:50256 for open-end generation.\n"
     ]
    },
    {
     "name": "stdout",
     "output_type": "stream",
     "text": [
      "START: \n",
      "Rosie wanted to get a cat. She decided to go\n",
      "GENERATED: \n",
      "Rosie wanted to get a cat. She decided to go to a local pound to find one. When she got there, she found a stray cat. It was a kitten. It ate her shoes. The end.\n",
      "TRUE: \n",
      "Rosie wanted to get a cat. She decided to go to the pound to find one. And adorable black cat caught her eye. The associate told her that black cats don't often get adopted. Rosie ignored superstitions and brought her new friend home. The end.\n"
     ]
    },
    {
     "name": "stderr",
     "output_type": "stream",
     "text": [
      "The attention mask and the pad token id were not set. As a consequence, you may observe unexpected behavior. Please pass your input's `attention_mask` to obtain reliable results.\n",
      "Setting `pad_token_id` to `eos_token_id`:50256 for open-end generation.\n"
     ]
    },
    {
     "name": "stdout",
     "output_type": "stream",
     "text": [
      "START: \n",
      "The photographer printed all the photos. She arranged them into\n",
      "GENERATED: \n",
      "The photographer printed all the photos. She arranged them into an album. She presented it to her client. He loved the photos so much and took so many photos. The photographer was very proud of how the album had turned out. The end.\n",
      "TRUE: \n",
      "The photographer printed all the photos. She arranged them into an album. She presented it to her client. He loved the photos so much! The photographer was very proud of how the album had turned out. The end.\n"
     ]
    },
    {
     "name": "stderr",
     "output_type": "stream",
     "text": [
      "The attention mask and the pad token id were not set. As a consequence, you may observe unexpected behavior. Please pass your input's `attention_mask` to obtain reliable results.\n",
      "Setting `pad_token_id` to `eos_token_id`:50256 for open-end generation.\n"
     ]
    },
    {
     "name": "stdout",
     "output_type": "stream",
     "text": [
      "START: \n",
      "Ashley stayed late after school to help other students with\n",
      "GENERATED: \n",
      "Ashley stayed late after school to help other students with homework. One day while at the arcade. Ashley was playing a bunch of games on the land. She lost all her progress. She went to the library and retrieved the lost progress. She was horrified and upset at the way she had been dealing with the other students. Ashley was distraught at the way she had been dealing with the others. The end.\n",
      "TRUE: \n",
      "Ashley stayed late after school to help other students with homework. She was so caught up in helping others that she forgot about her work. She only had one night to catch up because the work was due tomorrow. Ashley trie The end.\n"
     ]
    },
    {
     "name": "stderr",
     "output_type": "stream",
     "text": [
      "The attention mask and the pad token id were not set. As a consequence, you may observe unexpected behavior. Please pass your input's `attention_mask` to obtain reliable results.\n",
      "Setting `pad_token_id` to `eos_token_id`:50256 for open-end generation.\n"
     ]
    },
    {
     "name": "stdout",
     "output_type": "stream",
     "text": [
      "START: \n",
      "Amelia was seven years old when her parents surprised her.\n",
      "GENERATED: \n",
      "Amelia was seven years old when her parents surprised her. They woke her up one morning and told her they were flying to Florida. Amelia squealed with delight as they loaded into a cab to the airport. The flight went by qu The end.\n",
      "TRUE: \n",
      "Amelia was seven years old when her parents surprised her. They woke her up one morning and told her they were flying to Florida! Amelia squealed with delight as they loaded into a cab to the airport. The flight went by qu The end.\n"
     ]
    },
    {
     "name": "stderr",
     "output_type": "stream",
     "text": [
      "The attention mask and the pad token id were not set. As a consequence, you may observe unexpected behavior. Please pass your input's `attention_mask` to obtain reliable results.\n",
      "Setting `pad_token_id` to `eos_token_id`:50256 for open-end generation.\n"
     ]
    },
    {
     "name": "stdout",
     "output_type": "stream",
     "text": [
      "START: \n",
      "Andy was playing basketball with his childhood friends. Andy was\n",
      "GENERATED: \n",
      "Andy was playing basketball with his childhood friends. Andy was going for a dunk when he sprained his arm on the net. The net kept spinning around him. Andy's friends helped him up. Andy's friends helped him up a notch. The end.\n",
      "TRUE: \n",
      "Andy was playing basketball with his childhood friends. Andy was going for a dunk, when he sprained his arm on the net. Andy was in so much pain, that his friends administered medical aid. Andy's friends were able to stop  The end.\n"
     ]
    },
    {
     "name": "stderr",
     "output_type": "stream",
     "text": [
      "The attention mask and the pad token id were not set. As a consequence, you may observe unexpected behavior. Please pass your input's `attention_mask` to obtain reliable results.\n",
      "Setting `pad_token_id` to `eos_token_id`:50256 for open-end generation.\n"
     ]
    },
    {
     "name": "stdout",
     "output_type": "stream",
     "text": [
      "START: \n",
      "While she was taking a shower, Jessica felt a lump\n",
      "GENERATED: \n",
      "While she was taking a shower, Jessica felt a lump in her breast. She went to the doctor and it was confirmed that she had breast cancer. Jessica was distraught and worried. She called her doctor to schedule an appointment for next week. The doctor was very surprised and concerned. The end.\n",
      "TRUE: \n",
      "While she was taking a shower, Jessica felt a lump in her breast. Shocked and scared, she didn't know what to do at first. Jessica called her doctor to schedule an appointment for next week. She was so scared and worried s The end.\n"
     ]
    },
    {
     "name": "stderr",
     "output_type": "stream",
     "text": [
      "The attention mask and the pad token id were not set. As a consequence, you may observe unexpected behavior. Please pass your input's `attention_mask` to obtain reliable results.\n",
      "Setting `pad_token_id` to `eos_token_id`:50256 for open-end generation.\n"
     ]
    },
    {
     "name": "stdout",
     "output_type": "stream",
     "text": [
      "START: \n",
      "Michael was planning on taking a trip to Beijing, China.\n",
      "GENERATED: \n",
      "Michael was planning on taking a trip to Beijing, China. She decided to go to a restaurant. When she got there she ordered fries. When she got home she was furious at the awful food. She yelled at the server for wasting so much food. The end.\n",
      "TRUE: \n",
      "Michael was planning on taking a trip to Beijing, China. He packed his bags and made sure he was up to par in his Chinese. He left for the long plane trip that morning and arrived in a day. When Michael got there he was gi The end.\n"
     ]
    },
    {
     "name": "stderr",
     "output_type": "stream",
     "text": [
      "The attention mask and the pad token id were not set. As a consequence, you may observe unexpected behavior. Please pass your input's `attention_mask` to obtain reliable results.\n",
      "Setting `pad_token_id` to `eos_token_id`:50256 for open-end generation.\n"
     ]
    },
    {
     "name": "stdout",
     "output_type": "stream",
     "text": [
      "START: \n",
      "I was video calling my boyfriend since he is three\n",
      "GENERATED: \n",
      "I was video calling my boyfriend since he is three hours away from me. I wasn't sure what he was up to. I also wasn't sure what he was wearing. I ended up getting a bad cough. I went to the doctor and it was confirmed that I had a cough. The end.\n",
      "TRUE: \n",
      "I was video calling my boyfriend since he is three hours away from me. He was in the middle of a sentence but then the video feed cut off. In a panic, I kept refreshing my computer, hoping to reconnect. He texted me that t The end.\n"
     ]
    },
    {
     "name": "stderr",
     "output_type": "stream",
     "text": [
      "The attention mask and the pad token id were not set. As a consequence, you may observe unexpected behavior. Please pass your input's `attention_mask` to obtain reliable results.\n",
      "Setting `pad_token_id` to `eos_token_id`:50256 for open-end generation.\n"
     ]
    },
    {
     "name": "stdout",
     "output_type": "stream",
     "text": [
      "START: \n",
      "Delila was sure her husband was cheating on her, he\n",
      "GENERATED: \n",
      "Delila was sure her husband was cheating on her, he often smelled. She hired a private investigator to follow him around his day. The investigator messaged her to meet up with his client. When they met up the got down to business. The end.\n",
      "TRUE: \n",
      "Delila was sure her husband was cheating on her, he often smelled. She hired a private investigator to follow him around his day. The investigator messaged her to meet up with having news for her. When they met up the inve The end.\n"
     ]
    },
    {
     "name": "stderr",
     "output_type": "stream",
     "text": [
      "The attention mask and the pad token id were not set. As a consequence, you may observe unexpected behavior. Please pass your input's `attention_mask` to obtain reliable results.\n",
      "Setting `pad_token_id` to `eos_token_id`:50256 for open-end generation.\n"
     ]
    },
    {
     "name": "stdout",
     "output_type": "stream",
     "text": [
      "START: \n",
      "Richard grew up loving bats as a kid and into\n",
      "GENERATED: \n",
      "Richard grew up loving bats as a kid and into his adult life. One day while at the park. A friend let him go. He returned to the house with a new bat. The end.\n",
      "TRUE: \n",
      "Richard grew up loving bats as a kid and into his adult life. He was fascinated by their sonar and the fact that they were nocturnal. He often took trips into local caves and studied different species. One day while out at The end.\n"
     ]
    },
    {
     "name": "stderr",
     "output_type": "stream",
     "text": [
      "The attention mask and the pad token id were not set. As a consequence, you may observe unexpected behavior. Please pass your input's `attention_mask` to obtain reliable results.\n",
      "Setting `pad_token_id` to `eos_token_id`:50256 for open-end generation.\n"
     ]
    },
    {
     "name": "stdout",
     "output_type": "stream",
     "text": [
      "START: \n",
      "Kara was starting up a jewelry business with limited resources.\n",
      "GENERATED: \n",
      "Kara was starting up a jewelry business with limited resources. She needed a source of inexpensive supplies. Kara found a thrif The end.\n",
      "TRUE: \n",
      "Kara was starting up a jewelry business with limited resources. A friend let her sell items at her store for a small commission. When sales were good, she needed a source of inexpensive supplies. Kara found a charity thrif The end.\n"
     ]
    },
    {
     "name": "stderr",
     "output_type": "stream",
     "text": [
      "The attention mask and the pad token id were not set. As a consequence, you may observe unexpected behavior. Please pass your input's `attention_mask` to obtain reliable results.\n",
      "Setting `pad_token_id` to `eos_token_id`:50256 for open-end generation.\n"
     ]
    },
    {
     "name": "stdout",
     "output_type": "stream",
     "text": [
      "START: \n",
      "Pepe and Lee are both dogs, and George is a\n",
      "GENERATED: \n",
      "Pepe and Lee are both dogs, and George is a curious little kitten. Lee is protective of her bowl, growling at other animals that go near. George growled back at her. Lee growled in response and gave up her bowl. The end.\n",
      "TRUE: \n",
      "Pepe and Lee are both dogs, and George is a curious little kitten. Lee is protective of her bowl, growling at other animals that go near. This happened with George, so George went to investigate Pepe's bowl. Lee growled an The end.\n"
     ]
    },
    {
     "name": "stderr",
     "output_type": "stream",
     "text": [
      "The attention mask and the pad token id were not set. As a consequence, you may observe unexpected behavior. Please pass your input's `attention_mask` to obtain reliable results.\n",
      "Setting `pad_token_id` to `eos_token_id`:50256 for open-end generation.\n"
     ]
    },
    {
     "name": "stdout",
     "output_type": "stream",
     "text": [
      "START: \n",
      "The man smoked a pack a day. He got a\n",
      "GENERATED: \n",
      "The man smoked a pack a day. He got a bad cough. He went to the doctor. The doctor told him to rest easy. The end.\n",
      "TRUE: \n",
      "The man smoked a pack a day. He got a bad cough. He became scared. He went to the doctor. The doctor was concerned. Sam had a conversation with an investor. He offered $1500 for a small share of her company. She promised h The end.\n"
     ]
    },
    {
     "name": "stderr",
     "output_type": "stream",
     "text": [
      "The attention mask and the pad token id were not set. As a consequence, you may observe unexpected behavior. Please pass your input's `attention_mask` to obtain reliable results.\n",
      "Setting `pad_token_id` to `eos_token_id`:50256 for open-end generation.\n"
     ]
    },
    {
     "name": "stdout",
     "output_type": "stream",
     "text": [
      "START: \n",
      "Eric is 21. It's his birthday. He goes out to\n",
      "GENERATED: \n",
      "Eric is 21. It's his birthday. He goes out to drink. He has 10 beers. He has a bad cough. He goes to the doctor. The doctor is concerned. The end.\n",
      "TRUE: \n",
      "Eric is 21. It's his birthday. He goes out to drink. He has 10 beers. Eric gets drunk for the first time ever. Rita was waiting impatiently. Her new couch would be delivered today! It was a beautiful leather couch. She cou The end.\n"
     ]
    },
    {
     "name": "stderr",
     "output_type": "stream",
     "text": [
      "The attention mask and the pad token id were not set. As a consequence, you may observe unexpected behavior. Please pass your input's `attention_mask` to obtain reliable results.\n",
      "Setting `pad_token_id` to `eos_token_id`:50256 for open-end generation.\n"
     ]
    },
    {
     "name": "stdout",
     "output_type": "stream",
     "text": [
      "START: \n",
      "The couple went to a show. It was too loud\n",
      "GENERATED: \n",
      "The couple went to a show. It was too loud for the girl. She asked to leave. The boy refused. The girl left alone. The end.\n",
      "TRUE: \n",
      "The couple went to a show. It was too loud for the girl. She asked to leave. The boy refused. The girl left alone. I went to a restaurant. I ordered fries. They put ketchup on the fries. I was furious at the awful site. Af The end.\n"
     ]
    },
    {
     "name": "stderr",
     "output_type": "stream",
     "text": [
      "The attention mask and the pad token id were not set. As a consequence, you may observe unexpected behavior. Please pass your input's `attention_mask` to obtain reliable results.\n",
      "Setting `pad_token_id` to `eos_token_id`:50256 for open-end generation.\n"
     ]
    },
    {
     "name": "stdout",
     "output_type": "stream",
     "text": [
      "START: \n",
      "The man shot the gun. He missed the target. He\n",
      "GENERATED: \n",
      "The man shot the gun. He missed the target. He reloaded the gun. He missed the target again. He reloaded the gun. He missed both the time. The end.\n",
      "TRUE: \n",
      "The man shot the gun. He missed the target. He reloaded the gun. He took more time aiming. He hit the target that time. We went to the arcade today. I got to play a bunch of games I never played before. Some of the people  The end.\n"
     ]
    },
    {
     "name": "stderr",
     "output_type": "stream",
     "text": [
      "The attention mask and the pad token id were not set. As a consequence, you may observe unexpected behavior. Please pass your input's `attention_mask` to obtain reliable results.\n",
      "Setting `pad_token_id` to `eos_token_id`:50256 for open-end generation.\n"
     ]
    },
    {
     "name": "stdout",
     "output_type": "stream",
     "text": [
      "START: \n",
      "Susie got a puppy. One day she lost it. She\n",
      "GENERATED: \n",
      "Susie got a puppy. One day she lost it. She looked everywhere. Finally she found it. It was under her bed. She tore it up and threw it away. She was mad at herself for wasting so much food. The end.\n",
      "TRUE: \n",
      "Susie got a puppy. One day she lost it. She looked everywhere. Finally she found it. It was under her bed. Rich came home from vacation and was horrified. For some reason, his house smelled really bad! He wandered around,  The end.\n"
     ]
    },
    {
     "name": "stderr",
     "output_type": "stream",
     "text": [
      "The attention mask and the pad token id were not set. As a consequence, you may observe unexpected behavior. Please pass your input's `attention_mask` to obtain reliable results.\n",
      "Setting `pad_token_id` to `eos_token_id`:50256 for open-end generation.\n"
     ]
    },
    {
     "name": "stdout",
     "output_type": "stream",
     "text": [
      "START: \n",
      "Allie had rich parents. They decided to buy a plane.\n",
      "GENERATED: \n",
      "Allie had rich parents. They decided to buy a plane. They booked a trip for a private jet. They took off for an African Safari. When they got there, they saw a lot of animals. They scared the bejeezus out of the animals. They kept their distance from the other animals. Eventually, they got to know the other species better. They kept their conversation in jest. The end.\n",
      "TRUE: \n",
      "Allie had rich parents. They decided to buy a plane. Allie was excited. Her parents got a deal. They used it right away. She had heard of bidets but never seen them. She sat down gingerly, looking at the dials. In confusio The end.\n"
     ]
    },
    {
     "name": "stderr",
     "output_type": "stream",
     "text": [
      "The attention mask and the pad token id were not set. As a consequence, you may observe unexpected behavior. Please pass your input's `attention_mask` to obtain reliable results.\n",
      "Setting `pad_token_id` to `eos_token_id`:50256 for open-end generation.\n"
     ]
    },
    {
     "name": "stdout",
     "output_type": "stream",
     "text": [
      "START: \n",
      "I found a couple baby turtles. I put them in\n",
      "GENERATED: \n",
      "I found a couple baby turtles. I put them in a box. I kept them for an hour. Then I let them go. They were so tiny. I couldn't reach them. I also kept an eye on the turtles. When I returned from vacation, I found the box still on the shelf. I tore it up and threw it away. I was furious at the way I had treated the turtles. The end.\n",
      "TRUE: \n",
      "I found a couple baby turtles. I put them in a box. I kept them for an hour. Then I let them go. They were so tiny. Kalani started to hear voices when he was 10 years old. His parents grew concerned and took him to the Doc The end.\n"
     ]
    },
    {
     "name": "stderr",
     "output_type": "stream",
     "text": [
      "The attention mask and the pad token id were not set. As a consequence, you may observe unexpected behavior. Please pass your input's `attention_mask` to obtain reliable results.\n",
      "Setting `pad_token_id` to `eos_token_id`:50256 for open-end generation.\n"
     ]
    },
    {
     "name": "stdout",
     "output_type": "stream",
     "text": [
      "START: \n",
      "Tina needed tech support. So she went ahead and called\n",
      "GENERATED: \n",
      "Tina needed tech support. So she went ahead and called them. They were very rude. Tina hung up. She wasn't mad at them, she was mad at herself. She hung up because she was so offended. The end.\n",
      "TRUE: \n",
      "Tina needed tech support. So she went ahead and called them. They were very rude. So Tina hung up. She was offended. Sam was going to the store. He pulled up close to the entrance and found a spot. As he tried to get it an The end.\n"
     ]
    },
    {
     "name": "stderr",
     "output_type": "stream",
     "text": [
      "The attention mask and the pad token id were not set. As a consequence, you may observe unexpected behavior. Please pass your input's `attention_mask` to obtain reliable results.\n",
      "Setting `pad_token_id` to `eos_token_id`:50256 for open-end generation.\n"
     ]
    },
    {
     "name": "stdout",
     "output_type": "stream",
     "text": [
      "START: \n",
      "There was a candy tasting. Lily decided to try some.\n",
      "GENERATED: \n",
      "There was a candy tasting. Lily decided to try some. She tried so many different kinds. She tried so many different candies. Finally she found the one that she liked. It was the best. The end.\n",
      "TRUE: \n",
      "There was a candy tasting. Lily decided to try some. She went for it. Then she screamed. It was chocolate covered bugs. I and my friend Joe wanted to prank our Spanish teacher, Senior Perez. We managed to get a copy of his The end.\n",
      "START: \n",
      "I got a new kitten. The kitten was bad. It\n",
      "GENERATED: \n",
      "I got a new kitten. The kitten was bad. It ate my shoes. I then trained it to be good. It was a good kitten from then on. The end.\n",
      "TRUE: \n",
      "I got a new kitten. The kitten was bad. It ate my shoes. I then trained it to be good. It was a good kitten from then on. Fred wanted a motorcycle. He was afraid though. This was because they were expensive. Fred wasn't su The end.\n",
      "71\n",
      "-106\n",
      "-45\n",
      "-29\n",
      "-63\n",
      "0\n",
      "-97\n",
      "-61\n",
      "-82\n",
      "24\n",
      "165\n",
      "0\n",
      "-2\n",
      "60\n",
      "11\n",
      "15\n",
      "8\n",
      "-72\n",
      "-95\n",
      "-11\n",
      "-117\n",
      "-85\n",
      "-108\n",
      "-84\n",
      "-33\n",
      "140\n",
      "102\n",
      "-38\n",
      "-39\n",
      "-101\n"
     ]
    },
    {
     "data": {
      "image/png": "[encoded data removed]",
      "text/plain": [
       "<Figure size 640x480 with 1 Axes>"
      ]
     },
     "metadata": {},
     "output_type": "display_data"
    },
    {
     "name": "stdout",
     "output_type": "stream",
     "text": [
      "222\n",
      "2024-10-21 12:26:56.580561: E external/local_xla/xla/stream_executor/cuda/cuda_fft.cc:485] Unable to register cuFFT factory: Attempting to register factory for plugin cuFFT when one has already been registered\n",
      "2024-10-21 12:26:56.602297: E external/local_xla/xla/stream_executor/cuda/cuda_dnn.cc:8454] Unable to register cuDNN factory: Attempting to register factory for plugin cuDNN when one has already been registered\n",
      "2024-10-21 12:26:56.608886: E external/local_xla/xla/stream_executor/cuda/cuda_blas.cc:1452] Unable to register cuBLAS factory: Attempting to register factory for plugin cuBLAS when one has already been registered\n",
      "2024-10-21 12:26:57.844312: W tensorflow/compiler/tf2tensorrt/utils/py_utils.cc:38] TF-TRT Warning: Could not find TensorRT\n",
      "10/21/2024 12:27:00 - WARNING - __main__ - Process rank: 0, device: cuda:0, n_gpu: 1distributed training: False, 16-bits training: False\n",
      "10/21/2024 12:27:00 - INFO - __main__ - Training/evaluation parameters TrainingArguments(\n",
      "_n_gpu=1,\n",
      "accelerator_config={'split_batches': False, 'dispatch_batches': None, 'even_batches': True, 'use_seedable_sampler': True, 'non_blocking': False, 'gradient_accumulation_kwargs': None, 'use_configured_state': False},\n",
      "adafactor=False,\n",
      "adam_beta1=0.9,\n",
      "adam_beta2=0.999,\n",
      "adam_epsilon=1e-08,\n",
      "auto_find_batch_size=False,\n",
      "batch_eval_metrics=False,\n",
      "bf16=False,\n",
      "bf16_full_eval=False,\n",
      "data_seed=None,\n",
      "dataloader_drop_last=False,\n",
      "dataloader_num_workers=0,\n",
      "dataloader_persistent_workers=False,\n",
      "dataloader_pin_memory=True,\n",
      "dataloader_prefetch_factor=None,\n",
      "ddp_backend=None,\n",
      "ddp_broadcast_buffers=None,\n",
      "ddp_bucket_cap_mb=None,\n",
      "ddp_find_unused_parameters=None,\n",
      "ddp_timeout=1800,\n",
      "debug=[],\n",
      "deepspeed=None,\n",
      "disable_tqdm=False,\n",
      "dispatch_batches=None,\n",
      "do_eval=True,\n",
      "do_predict=False,\n",
      "do_train=True,\n",
      "eval_accumulation_steps=None,\n",
      "eval_delay=0,\n",
      "eval_do_concat_batches=True,\n",
      "eval_on_start=False,\n",
      "eval_steps=None,\n",
      "eval_strategy=no,\n",
      "eval_use_gather_object=False,\n",
      "evaluation_strategy=None,\n",
      "fp16=False,\n",
      "fp16_backend=auto,\n",
      "fp16_full_eval=False,\n",
      "fp16_opt_level=O1,\n",
      "fsdp=[],\n",
      "fsdp_config={'min_num_params': 0, 'xla': False, 'xla_fsdp_v2': False, 'xla_fsdp_grad_ckpt': False},\n",
      "fsdp_min_num_params=0,\n",
      "fsdp_transformer_layer_cls_to_wrap=None,\n",
      "full_determinism=False,\n",
      "gradient_accumulation_steps=1,\n",
      "gradient_checkpointing=False,\n",
      "gradient_checkpointing_kwargs=None,\n",
      "greater_is_better=None,\n",
      "group_by_length=False,\n",
      "half_precision_backend=auto,\n",
      "hub_always_push=False,\n",
      "hub_model_id=None,\n",
      "hub_private_repo=False,\n",
      "hub_strategy=every_save,\n",
      "hub_token=<HUB_TOKEN>,\n",
      "ignore_data_skip=False,\n",
      "include_inputs_for_metrics=False,\n",
      "include_num_input_tokens_seen=False,\n",
      "include_tokens_per_second=False,\n",
      "jit_mode_eval=False,\n",
      "label_names=None,\n",
      "label_smoothing_factor=0.0,\n",
      "learning_rate=0.0005,\n",
      "length_column_name=length,\n",
      "load_best_model_at_end=False,\n",
      "local_rank=0,\n",
      "log_level=passive,\n",
      "log_level_replica=warning,\n",
      "log_on_each_node=True,\n",
      "logging_dir=outputs_stories/runs/Oct21_12-27-00_f910dfa8e9d3,\n",
      "logging_first_step=False,\n",
      "logging_nan_inf_filter=True,\n",
      "logging_steps=500,\n",
      "logging_strategy=steps,\n",
      "lr_scheduler_kwargs={},\n",
      "lr_scheduler_type=linear,\n",
      "max_grad_norm=1.0,\n",
      "max_steps=-1,\n",
      "metric_for_best_model=None,\n",
      "mp_parameters=,\n",
      "neftune_noise_alpha=None,\n",
      "no_cuda=False,\n",
      "num_train_epochs=5.0,\n",
      "optim=adamw_torch,\n",
      "optim_args=None,\n",
      "optim_target_modules=None,\n",
      "output_dir=outputs_stories,\n",
      "overwrite_output_dir=True,\n",
      "past_index=-1,\n",
      "per_device_eval_batch_size=1,\n",
      "per_device_train_batch_size=1,\n",
      "prediction_loss_only=False,\n",
      "push_to_hub=False,\n",
      "push_to_hub_model_id=None,\n",
      "push_to_hub_organization=None,\n",
      "push_to_hub_token=<PUSH_TO_HUB_TOKEN>,\n",
      "ray_scope=last,\n",
      "remove_unused_columns=True,\n",
      "report_to=[],\n",
      "restore_callback_states_from_checkpoint=False,\n",
      "resume_from_checkpoint=None,\n",
      "run_name=outputs_stories,\n",
      "save_on_each_node=False,\n",
      "save_only_model=False,\n",
      "save_safetensors=True,\n",
      "save_steps=1000,\n",
      "save_strategy=steps,\n",
      "save_total_limit=None,\n",
      "seed=42,\n",
      "skip_memory_metrics=True,\n",
      "split_batches=None,\n",
      "tf32=None,\n",
      "torch_compile=False,\n",
      "torch_compile_backend=None,\n",
      "torch_compile_mode=None,\n",
      "torch_empty_cache_steps=None,\n",
      "torchdynamo=None,\n",
      "tpu_metrics_debug=False,\n",
      "tpu_num_cores=None,\n",
      "use_cpu=False,\n",
      "use_ipex=False,\n",
      "use_legacy_prediction_loop=False,\n",
      "use_mps_device=False,\n",
      "warmup_ratio=0.0,\n",
      "warmup_steps=0,\n",
      "weight_decay=0.0,\n",
      ")\n",
      "Using custom data configuration default-f0f415536a9ec56f\n",
      "10/21/2024 12:27:00 - INFO - datasets.builder - Using custom data configuration default-f0f415536a9ec56f\n",
      "Loading Dataset Infos from /usr/local/lib/python3.10/dist-packages/datasets/packaged_modules/text\n",
      "10/21/2024 12:27:00 - INFO - datasets.info - Loading Dataset Infos from /usr/local/lib/python3.10/dist-packages/datasets/packaged_modules/text\n",
      "Generating dataset text (/root/.cache/huggingface/datasets/text/default-f0f415536a9ec56f/0.0.0/37eaf37ac90527a7fd768c94b312ee84f8815c9b7ac00acf81c1c364e8392f99)\n",
      "10/21/2024 12:27:00 - INFO - datasets.builder - Generating dataset text (/root/.cache/huggingface/datasets/text/default-f0f415536a9ec56f/0.0.0/37eaf37ac90527a7fd768c94b312ee84f8815c9b7ac00acf81c1c364e8392f99)\n",
      "Downloading and preparing dataset text/default to /root/.cache/huggingface/datasets/text/default-f0f415536a9ec56f/0.0.0/37eaf37ac90527a7fd768c94b312ee84f8815c9b7ac00acf81c1c364e8392f99...\n",
      "10/21/2024 12:27:00 - INFO - datasets.builder - Downloading and preparing dataset text/default to /root/.cache/huggingface/datasets/text/default-f0f415536a9ec56f/0.0.0/37eaf37ac90527a7fd768c94b312ee84f8815c9b7ac00acf81c1c364e8392f99...\n",
      "Downloading took 0.0 min\n",
      "10/21/2024 12:27:00 - INFO - datasets.download.download_manager - Downloading took 0.0 min\n",
      "Checksum Computation took 0.0 min\n",
      "10/21/2024 12:27:00 - INFO - datasets.download.download_manager - Checksum Computation took 0.0 min\n",
      "Generating train split\n",
      "10/21/2024 12:27:00 - INFO - datasets.builder - Generating train split\n",
      "Generating train split: 120 examples [00:00, 37574.95 examples/s]\n",
      "Generating validation split\n",
      "10/21/2024 12:27:00 - INFO - datasets.builder - Generating validation split\n",
      "Generating validation split: 120 examples [00:00, 118734.72 examples/s]\n",
      "Unable to verify splits sizes.\n",
      "10/21/2024 12:27:00 - INFO - datasets.utils.info_utils - Unable to verify splits sizes.\n",
      "Dataset text downloaded and prepared to /root/.cache/huggingface/datasets/text/default-f0f415536a9ec56f/0.0.0/37eaf37ac90527a7fd768c94b312ee84f8815c9b7ac00acf81c1c364e8392f99. Subsequent calls will reuse this data.\n",
      "10/21/2024 12:27:00 - INFO - datasets.builder - Dataset text downloaded and prepared to /root/.cache/huggingface/datasets/text/default-f0f415536a9ec56f/0.0.0/37eaf37ac90527a7fd768c94b312ee84f8815c9b7ac00acf81c1c364e8392f99. Subsequent calls will reuse this data.\n",
      "[INFO|configuration_utils.py:733] 2024-10-21 12:27:00,351 >> loading configuration file config.json from cache at /root/.cache/huggingface/hub/models--gpt2-medium/snapshots/6dcaa7a952f72f9298047fd5137cd6e4f05f41da/config.json\n",
      "[INFO|configuration_utils.py:800] 2024-10-21 12:27:00,352 >> Model config GPT2Config {\n",
      "  \"_name_or_path\": \"gpt2-medium\",\n",
      "  \"activation_function\": \"gelu_new\",\n",
      "  \"architectures\": [\n",
      "    \"GPT2LMHeadModel\"\n",
      "  ],\n",
      "  \"attn_pdrop\": 0.1,\n",
      "  \"bos_token_id\": 50256,\n",
      "  \"embd_pdrop\": 0.1,\n",
      "  \"eos_token_id\": 50256,\n",
      "  \"initializer_range\": 0.02,\n",
      "  \"layer_norm_epsilon\": 1e-05,\n",
      "  \"model_type\": \"gpt2\",\n",
      "  \"n_ctx\": 1024,\n",
      "  \"n_embd\": 1024,\n",
      "  \"n_head\": 16,\n",
      "  \"n_inner\": null,\n",
      "  \"n_layer\": 24,\n",
      "  \"n_positions\": 1024,\n",
      "  \"n_special\": 0,\n",
      "  \"predict_special_tokens\": true,\n",
      "  \"reorder_and_upcast_attn\": false,\n",
      "  \"resid_pdrop\": 0.1,\n",
      "  \"scale_attn_by_inverse_layer_idx\": false,\n",
      "  \"scale_attn_weights\": true,\n",
      "  \"summary_activation\": null,\n",
      "  \"summary_first_dropout\": 0.1,\n",
      "  \"summary_proj_to_labels\": true,\n",
      "  \"summary_type\": \"cls_index\",\n",
      "  \"summary_use_proj\": true,\n",
      "  \"task_specific_params\": {\n",
      "    \"text-generation\": {\n",
      "      \"do_sample\": true,\n",
      "      \"max_length\": 50\n",
      "    }\n",
      "  },\n",
      "  \"transformers_version\": \"4.44.2\",\n",
      "  \"use_cache\": true,\n",
      "  \"vocab_size\": 50257\n",
      "}\n",
      "\n",
      "[INFO|configuration_utils.py:733] 2024-10-21 12:27:00,395 >> loading configuration file config.json from cache at /root/.cache/huggingface/hub/models--gpt2-medium/snapshots/6dcaa7a952f72f9298047fd5137cd6e4f05f41da/config.json\n",
      "[INFO|configuration_utils.py:800] 2024-10-21 12:27:00,396 >> Model config GPT2Config {\n",
      "  \"_name_or_path\": \"gpt2-medium\",\n",
      "  \"activation_function\": \"gelu_new\",\n",
      "  \"architectures\": [\n",
      "    \"GPT2LMHeadModel\"\n",
      "  ],\n",
      "  \"attn_pdrop\": 0.1,\n",
      "  \"bos_token_id\": 50256,\n",
      "  \"embd_pdrop\": 0.1,\n",
      "  \"eos_token_id\": 50256,\n",
      "  \"initializer_range\": 0.02,\n",
      "  \"layer_norm_epsilon\": 1e-05,\n",
      "  \"model_type\": \"gpt2\",\n",
      "  \"n_ctx\": 1024,\n",
      "  \"n_embd\": 1024,\n",
      "  \"n_head\": 16,\n",
      "  \"n_inner\": null,\n",
      "  \"n_layer\": 24,\n",
      "  \"n_positions\": 1024,\n",
      "  \"n_special\": 0,\n",
      "  \"predict_special_tokens\": true,\n",
      "  \"reorder_and_upcast_attn\": false,\n",
      "  \"resid_pdrop\": 0.1,\n",
      "  \"scale_attn_by_inverse_layer_idx\": false,\n",
      "  \"scale_attn_weights\": true,\n",
      "  \"summary_activation\": null,\n",
      "  \"summary_first_dropout\": 0.1,\n",
      "  \"summary_proj_to_labels\": true,\n",
      "  \"summary_type\": \"cls_index\",\n",
      "  \"summary_use_proj\": true,\n",
      "  \"task_specific_params\": {\n",
      "    \"text-generation\": {\n",
      "      \"do_sample\": true,\n",
      "      \"max_length\": 50\n",
      "    }\n",
      "  },\n",
      "  \"transformers_version\": \"4.44.2\",\n",
      "  \"use_cache\": true,\n",
      "  \"vocab_size\": 50257\n",
      "}\n",
      "\n",
      "[INFO|tokenization_utils_base.py:2269] 2024-10-21 12:27:00,406 >> loading file vocab.json from cache at /root/.cache/huggingface/hub/models--gpt2-medium/snapshots/6dcaa7a952f72f9298047fd5137cd6e4f05f41da/vocab.json\n",
      "[INFO|tokenization_utils_base.py:2269] 2024-10-21 12:27:00,406 >> loading file merges.txt from cache at /root/.cache/huggingface/hub/models--gpt2-medium/snapshots/6dcaa7a952f72f9298047fd5137cd6e4f05f41da/merges.txt\n",
      "[INFO|tokenization_utils_base.py:2269] 2024-10-21 12:27:00,406 >> loading file tokenizer.json from cache at /root/.cache/huggingface/hub/models--gpt2-medium/snapshots/6dcaa7a952f72f9298047fd5137cd6e4f05f41da/tokenizer.json\n",
      "[INFO|tokenization_utils_base.py:2269] 2024-10-21 12:27:00,406 >> loading file added_tokens.json from cache at None\n",
      "[INFO|tokenization_utils_base.py:2269] 2024-10-21 12:27:00,406 >> loading file special_tokens_map.json from cache at None\n",
      "[INFO|tokenization_utils_base.py:2269] 2024-10-21 12:27:00,406 >> loading file tokenizer_config.json from cache at /root/.cache/huggingface/hub/models--gpt2-medium/snapshots/6dcaa7a952f72f9298047fd5137cd6e4f05f41da/tokenizer_config.json\n",
      "[INFO|configuration_utils.py:733] 2024-10-21 12:27:00,406 >> loading configuration file config.json from cache at /root/.cache/huggingface/hub/models--gpt2-medium/snapshots/6dcaa7a952f72f9298047fd5137cd6e4f05f41da/config.json\n",
      "[INFO|configuration_utils.py:800] 2024-10-21 12:27:00,407 >> Model config GPT2Config {\n",
      "  \"_name_or_path\": \"gpt2-medium\",\n",
      "  \"activation_function\": \"gelu_new\",\n",
      "  \"architectures\": [\n",
      "    \"GPT2LMHeadModel\"\n",
      "  ],\n",
      "  \"attn_pdrop\": 0.1,\n",
      "  \"bos_token_id\": 50256,\n",
      "  \"embd_pdrop\": 0.1,\n",
      "  \"eos_token_id\": 50256,\n",
      "  \"initializer_range\": 0.02,\n",
      "  \"layer_norm_epsilon\": 1e-05,\n",
      "  \"model_type\": \"gpt2\",\n",
      "  \"n_ctx\": 1024,\n",
      "  \"n_embd\": 1024,\n",
      "  \"n_head\": 16,\n",
      "  \"n_inner\": null,\n",
      "  \"n_layer\": 24,\n",
      "  \"n_positions\": 1024,\n",
      "  \"n_special\": 0,\n",
      "  \"predict_special_tokens\": true,\n",
      "  \"reorder_and_upcast_attn\": false,\n",
      "  \"resid_pdrop\": 0.1,\n",
      "  \"scale_attn_by_inverse_layer_idx\": false,\n",
      "  \"scale_attn_weights\": true,\n",
      "  \"summary_activation\": null,\n",
      "  \"summary_first_dropout\": 0.1,\n",
      "  \"summary_proj_to_labels\": true,\n",
      "  \"summary_type\": \"cls_index\",\n",
      "  \"summary_use_proj\": true,\n",
      "  \"task_specific_params\": {\n",
      "    \"text-generation\": {\n",
      "      \"do_sample\": true,\n",
      "      \"max_length\": 50\n",
      "    }\n",
      "  },\n",
      "  \"transformers_version\": \"4.44.2\",\n",
      "  \"use_cache\": true,\n",
      "  \"vocab_size\": 50257\n",
      "}\n",
      "\n",
      "/usr/local/lib/python3.10/dist-packages/transformers/tokenization_utils_base.py:1601: FutureWarning: `clean_up_tokenization_spaces` was not set. It will be set to `True` by default. This behavior will be depracted in transformers v4.45, and will be then set to `False` by default. For more details check this issue: https://github.com/huggingface/transformers/issues/31884\n",
      "  warnings.warn(\n",
      "[INFO|modeling_utils.py:3678] 2024-10-21 12:27:00,518 >> loading weights file model.safetensors from cache at /root/.cache/huggingface/hub/models--gpt2-medium/snapshots/6dcaa7a952f72f9298047fd5137cd6e4f05f41da/model.safetensors\n",
      "[INFO|configuration_utils.py:1038] 2024-10-21 12:27:00,529 >> Generate config GenerationConfig {\n",
      "  \"bos_token_id\": 50256,\n",
      "  \"eos_token_id\": 50256\n",
      "}\n",
      "\n",
      "[INFO|modeling_utils.py:4507] 2024-10-21 12:27:00,629 >> All model checkpoint weights were used when initializing GPT2LMHeadModel.\n",
      "\n",
      "[INFO|modeling_utils.py:4515] 2024-10-21 12:27:00,629 >> All the weights of GPT2LMHeadModel were initialized from the model checkpoint at gpt2-medium.\n",
      "If your task is similar to the task the model of the checkpoint was trained on, you can already use GPT2LMHeadModel for predictions without further training.\n",
      "[INFO|configuration_utils.py:993] 2024-10-21 12:27:00,704 >> loading configuration file generation_config.json from cache at /root/.cache/huggingface/hub/models--gpt2-medium/snapshots/6dcaa7a952f72f9298047fd5137cd6e4f05f41da/generation_config.json\n",
      "[INFO|configuration_utils.py:1038] 2024-10-21 12:27:00,704 >> Generate config GenerationConfig {\n",
      "  \"bos_token_id\": 50256,\n",
      "  \"eos_token_id\": 50256\n",
      "}\n",
      "\n",
      "Running tokenizer on dataset:   0% 0/120 [00:00<?, ? examples/s]Caching processed dataset at /root/.cache/huggingface/datasets/text/default-f0f415536a9ec56f/0.0.0/37eaf37ac90527a7fd768c94b312ee84f8815c9b7ac00acf81c1c364e8392f99/cache-d771ef2d10e7f320.arrow\n",
      "10/21/2024 12:27:00 - INFO - datasets.arrow_dataset - Caching processed dataset at /root/.cache/huggingface/datasets/text/default-f0f415536a9ec56f/0.0.0/37eaf37ac90527a7fd768c94b312ee84f8815c9b7ac00acf81c1c364e8392f99/cache-d771ef2d10e7f320.arrow\n",
      "Running tokenizer on dataset: 100% 120/120 [00:00<00:00, 8617.10 examples/s]\n",
      "Running tokenizer on dataset:   0% 0/120 [00:00<?, ? examples/s]Caching processed dataset at /root/.cache/huggingface/datasets/text/default-f0f415536a9ec56f/0.0.0/37eaf37ac90527a7fd768c94b312ee84f8815c9b7ac00acf81c1c364e8392f99/cache-fa555b890c2c544a.arrow\n",
      "10/21/2024 12:27:00 - INFO - datasets.arrow_dataset - Caching processed dataset at /root/.cache/huggingface/datasets/text/default-f0f415536a9ec56f/0.0.0/37eaf37ac90527a7fd768c94b312ee84f8815c9b7ac00acf81c1c364e8392f99/cache-fa555b890c2c544a.arrow\n",
      "Running tokenizer on dataset: 100% 120/120 [00:00<00:00, 11550.31 examples/s]\n",
      "Grouping texts in chunks of 1024:   0% 0/120 [00:00<?, ? examples/s]Caching processed dataset at /root/.cache/huggingface/datasets/text/default-f0f415536a9ec56f/0.0.0/37eaf37ac90527a7fd768c94b312ee84f8815c9b7ac00acf81c1c364e8392f99/cache-3de579ebbbf1c06b.arrow\n",
      "10/21/2024 12:27:00 - INFO - datasets.arrow_dataset - Caching processed dataset at /root/.cache/huggingface/datasets/text/default-f0f415536a9ec56f/0.0.0/37eaf37ac90527a7fd768c94b312ee84f8815c9b7ac00acf81c1c364e8392f99/cache-3de579ebbbf1c06b.arrow\n",
      "Grouping texts in chunks of 1024: 100% 120/120 [00:00<00:00, 9732.50 examples/s]\n",
      "Grouping texts in chunks of 1024:   0% 0/120 [00:00<?, ? examples/s]Caching processed dataset at /root/.cache/huggingface/datasets/text/default-f0f415536a9ec56f/0.0.0/37eaf37ac90527a7fd768c94b312ee84f8815c9b7ac00acf81c1c364e8392f99/cache-857d39eb6d6dd8d5.arrow\n",
      "10/21/2024 12:27:00 - INFO - datasets.arrow_dataset - Caching processed dataset at /root/.cache/huggingface/datasets/text/default-f0f415536a9ec56f/0.0.0/37eaf37ac90527a7fd768c94b312ee84f8815c9b7ac00acf81c1c364e8392f99/cache-857d39eb6d6dd8d5.arrow\n",
      "Grouping texts in chunks of 1024: 100% 120/120 [00:00<00:00, 9979.51 examples/s]\n",
      "/usr/local/lib/python3.10/dist-packages/transformers/utils/import_utils.py:575: FutureWarning: `is_torch_tpu_available` is deprecated and will be removed in 4.41.0. Please use the `is_torch_xla_available` instead.\n",
      "  warnings.warn(\n",
      "[INFO|trainer.py:2134] 2024-10-21 12:27:02,162 >> ***** Running training *****\n",
      "[INFO|trainer.py:2135] 2024-10-21 12:27:02,162 >>   Num examples = 6\n",
      "[INFO|trainer.py:2136] 2024-10-21 12:27:02,162 >>   Num Epochs = 5\n",
      "[INFO|trainer.py:2137] 2024-10-21 12:27:02,162 >>   Instantaneous batch size per device = 1\n",
      "[INFO|trainer.py:2140] 2024-10-21 12:27:02,162 >>   Total train batch size (w. parallel, distributed & accumulation) = 1\n",
      "[INFO|trainer.py:2141] 2024-10-21 12:27:02,162 >>   Gradient Accumulation steps = 1\n",
      "[INFO|trainer.py:2142] 2024-10-21 12:27:02,162 >>   Total optimization steps = 30\n",
      "[INFO|trainer.py:2143] 2024-10-21 12:27:02,163 >>   Number of trainable parameters = 354,823,168\n",
      "100% 30/30 [00:06<00:00,  5.09it/s][INFO|trainer.py:3503] 2024-10-21 12:27:08,935 >> Saving model checkpoint to outputs_stories/checkpoint-30\n",
      "[INFO|configuration_utils.py:472] 2024-10-21 12:27:08,937 >> Configuration saved in outputs_stories/checkpoint-30/config.json\n",
      "[INFO|configuration_utils.py:807] 2024-10-21 12:27:08,937 >> Configuration saved in outputs_stories/checkpoint-30/generation_config.json\n",
      "[INFO|modeling_utils.py:2799] 2024-10-21 12:27:11,908 >> Model weights saved in outputs_stories/checkpoint-30/model.safetensors\n",
      "[INFO|tokenization_utils_base.py:2684] 2024-10-21 12:27:11,909 >> tokenizer config file saved in outputs_stories/checkpoint-30/tokenizer_config.json\n",
      "[INFO|tokenization_utils_base.py:2693] 2024-10-21 12:27:11,909 >> Special tokens file saved in outputs_stories/checkpoint-30/special_tokens_map.json\n",
      "[INFO|trainer.py:2394] 2024-10-21 12:27:22,081 >> \n",
      "\n",
      "Training completed. Do not forget to share your model on huggingface.co/models =)\n",
      "\n",
      "\n",
      "{'train_runtime': 19.9179, 'train_samples_per_second': 1.506, 'train_steps_per_second': 1.506, 'train_loss': 1.5170282999674478, 'epoch': 5.0}\n",
      "100% 30/30 [00:19<00:00,  1.51it/s]\n",
      "[INFO|trainer.py:3503] 2024-10-21 12:27:22,082 >> Saving model checkpoint to outputs_stories\n",
      "[INFO|configuration_utils.py:472] 2024-10-21 12:27:22,083 >> Configuration saved in outputs_stories/config.json\n",
      "[INFO|configuration_utils.py:807] 2024-10-21 12:27:22,084 >> Configuration saved in outputs_stories/generation_config.json\n",
      "[INFO|modeling_utils.py:2799] 2024-10-21 12:27:27,360 >> Model weights saved in outputs_stories/model.safetensors\n",
      "[INFO|tokenization_utils_base.py:2684] 2024-10-21 12:27:27,361 >> tokenizer config file saved in outputs_stories/tokenizer_config.json\n",
      "[INFO|tokenization_utils_base.py:2693] 2024-10-21 12:27:27,361 >> Special tokens file saved in outputs_stories/special_tokens_map.json\n",
      "***** train metrics *****\n",
      "  epoch                    =        5.0\n",
      "  total_flos               =    51895GF\n",
      "  train_loss               =      1.517\n",
      "  train_runtime            = 0:00:19.91\n",
      "  train_samples            =          6\n",
      "  train_samples_per_second =      1.506\n",
      "  train_steps_per_second   =      1.506\n",
      "10/21/2024 12:27:27 - INFO - __main__ - *** Evaluate ***\n",
      "[INFO|trainer.py:3819] 2024-10-21 12:27:27,414 >> \n",
      "***** Running Evaluation *****\n",
      "[INFO|trainer.py:3821] 2024-10-21 12:27:27,415 >>   Num examples = 6\n",
      "[INFO|trainer.py:3824] 2024-10-21 12:27:27,415 >>   Batch size = 1\n",
      "100% 6/6 [00:00<00:00, 16.74it/s]\n",
      "***** eval metrics *****\n",
      "  epoch                   =        5.0\n",
      "  eval_accuracy           =     0.9301\n",
      "  eval_loss               =     0.2878\n",
      "  eval_runtime            = 0:00:00.44\n",
      "  eval_samples            =          6\n",
      "  eval_samples_per_second =      13.51\n",
      "  eval_steps_per_second   =      13.51\n",
      "  perplexity              =     1.3335\n",
      "[INFO|modelcard.py:449] 2024-10-21 12:27:27,958 >> Dropping the following result as it does not have all the necessary fields:\n",
      "{'task': {'name': 'Causal Language Modeling', 'type': 'text-generation'}, 'metrics': [{'name': 'Accuracy', 'type': 'accuracy', 'value': 0.9301075268817204}]}\n"
     ]
    },
    {
     "name": "stderr",
     "output_type": "stream",
     "text": [
      "The attention mask and the pad token id were not set. As a consequence, you may observe unexpected behavior. Please pass your input's `attention_mask` to obtain reliable results.\n",
      "Setting `pad_token_id` to `eos_token_id`:50256 for open-end generation.\n",
      "The attention mask and the pad token id were not set. As a consequence, you may observe unexpected behavior. Please pass your input's `attention_mask` to obtain reliable results.\n",
      "Setting `pad_token_id` to `eos_token_id`:50256 for open-end generation.\n"
     ]
    },
    {
     "name": "stdout",
     "output_type": "stream",
     "text": [
      "START: \n",
      "The Smith family held the record for number of miles\n",
      "GENERATED: \n",
      "The Smith family held the record for number of miles run as a family. They trained every day for six months. They trained every day. They trained every day. They were able to run as many miles as they wanted. The end.\n",
      "TRUE: \n",
      "The Smith family held the record for number of miles run as a family. They trained every day for six months. When they broke the record, they celebrated with a big party. They took a few days off from training. Then the started again, ready to set a new record. The end.\n"
     ]
    },
    {
     "name": "stderr",
     "output_type": "stream",
     "text": [
      "The attention mask and the pad token id were not set. As a consequence, you may observe unexpected behavior. Please pass your input's `attention_mask` to obtain reliable results.\n",
      "Setting `pad_token_id` to `eos_token_id`:50256 for open-end generation.\n"
     ]
    },
    {
     "name": "stdout",
     "output_type": "stream",
     "text": [
      "START: \n",
      "Eric was a very hard working man. He decided it\n",
      "GENERATED: \n",
      "Eric was a very hard working man. He decided it was time for a vacation. He packed his bags and headed for the coast of carolina. Roy was very happy to see his vacation come to an end. The end.\n",
      "TRUE: \n",
      "Eric was a very hard working man. He decided it was time for a vacation. He chose to go to Hawaii and sit on the beach. Eric was loving his paradise vacation. Eric didn't want to go back home! The end.\n"
     ]
    },
    {
     "name": "stderr",
     "output_type": "stream",
     "text": [
      "The attention mask and the pad token id were not set. As a consequence, you may observe unexpected behavior. Please pass your input's `attention_mask` to obtain reliable results.\n",
      "Setting `pad_token_id` to `eos_token_id`:50256 for open-end generation.\n"
     ]
    },
    {
     "name": "stdout",
     "output_type": "stream",
     "text": [
      "START: \n",
      "Ethan's baseball team was going to a tournament. The tournament\n",
      "GENERATED: \n",
      "Ethan's baseball team was going to a tournament. The tournament was in Kansas City. They were playing a game. Ethan's team lost. The end.\n",
      "TRUE: \n",
      "Ethan's baseball team was going to a tournament. The tournament was in Kansas City. It was called the Monster Bash. All the coaches had to dress up in costumes. Ethan's coach dressed up as a vampire baseball player. The end.\n"
     ]
    },
    {
     "name": "stderr",
     "output_type": "stream",
     "text": [
      "The attention mask and the pad token id were not set. As a consequence, you may observe unexpected behavior. Please pass your input's `attention_mask` to obtain reliable results.\n",
      "Setting `pad_token_id` to `eos_token_id`:50256 for open-end generation.\n"
     ]
    },
    {
     "name": "stdout",
     "output_type": "stream",
     "text": [
      "START: \n",
      "Tom was out bowling with friends. They were having a\n",
      "GENERATED: \n",
      "Tom was out bowling with friends. They were having a close game. Tim was slowly catching up. When he tried to make a comeback, he collapsed. Tom was left out of the game. The end.\n",
      "TRUE: \n",
      "Tom was out bowling with friends. They were having a close game. Tom was slowly catching up. At the last minute the power went out. It cleared their scores and ruined the game. The end.\n"
     ]
    },
    {
     "name": "stderr",
     "output_type": "stream",
     "text": [
      "The attention mask and the pad token id were not set. As a consequence, you may observe unexpected behavior. Please pass your input's `attention_mask` to obtain reliable results.\n",
      "Setting `pad_token_id` to `eos_token_id`:50256 for open-end generation.\n"
     ]
    },
    {
     "name": "stdout",
     "output_type": "stream",
     "text": [
      "START: \n",
      "Slurm Jurmby liked to party. His favorite party activity was\n",
      "GENERATED: \n",
      "Slurm Jurmby liked to party. His favorite party activity was the beer chug. He was known to be a trouble maker at the party. Roy was sent to his room. Roy was sad he couldn't chug the beer. Roy was no longer a trouble maker. The end.\n",
      "TRUE: \n",
      "Slurm Jurmby liked to party. His favorite party activity was the beer chug, at which he was best. Roger Rumface challenged him once to the chug. Roger and Slurm locked themselves in a terrible drinking duel. The only people who won were the spectators when they both passed out. The end.\n"
     ]
    },
    {
     "name": "stderr",
     "output_type": "stream",
     "text": [
      "The attention mask and the pad token id were not set. As a consequence, you may observe unexpected behavior. Please pass your input's `attention_mask` to obtain reliable results.\n",
      "Setting `pad_token_id` to `eos_token_id`:50256 for open-end generation.\n"
     ]
    },
    {
     "name": "stdout",
     "output_type": "stream",
     "text": [
      "START: \n",
      "James became a single father of his daughter. He was\n",
      "GENERATED: \n",
      "James became a single father of his daughter. He was in a bad mood. He decided to have her placed in the right-hand chair. Roy was happy to see his daughter in the right arm. The end.\n",
      "TRUE: \n",
      "James became a single father of his daughter. He was convinced that he would remain single and raise her on his own. One day he met a wonderful girl that seemed to like him. James fell in love with her and proposed to her. James and his new wife became a family and his daughter was happy. The end.\n"
     ]
    },
    {
     "name": "stderr",
     "output_type": "stream",
     "text": [
      "The attention mask and the pad token id were not set. As a consequence, you may observe unexpected behavior. Please pass your input's `attention_mask` to obtain reliable results.\n",
      "Setting `pad_token_id` to `eos_token_id`:50256 for open-end generation.\n"
     ]
    },
    {
     "name": "stdout",
     "output_type": "stream",
     "text": [
      "START: \n",
      "Julie ran every day. While she was on her morning\n",
      "GENERATED: \n",
      "Julie ran every day. While she was on her morning run, she stumbled across a spider web. Julie was so happy to see the web. But the end.\n",
      "Tom was on his last tour in Iraq. He was out of ammunition. He had to get more. Tom was forced to get more. He ended up with more than he could have hoped for. The end.\n",
      "TRUE: \n",
      "Julie ran every day. While she was on her morning run, she stumbled across a snake. She stood still and let it cross. Julie had never been so scared. She was glad she saw the snake. The end.\n"
     ]
    },
    {
     "name": "stderr",
     "output_type": "stream",
     "text": [
      "The attention mask and the pad token id were not set. As a consequence, you may observe unexpected behavior. Please pass your input's `attention_mask` to obtain reliable results.\n",
      "Setting `pad_token_id` to `eos_token_id`:50256 for open-end generation.\n"
     ]
    },
    {
     "name": "stdout",
     "output_type": "stream",
     "text": [
      "START: \n",
      "Yesterday at the ferry it was insane. I could not\n",
      "GENERATED: \n",
      "Yesterday at the ferry it was insane. I could not help but think of the people who died at the Titanic. I remembered when the only people on board were the ship's crew. The end.\n",
      "TRUE: \n",
      "Yesterday at the ferry it was insane. I could not believe how long the line was. I was trying to get off the boat but people were not moving. It was irritating. It took an hour until we got off. The end.\n"
     ]
    },
    {
     "name": "stderr",
     "output_type": "stream",
     "text": [
      "The attention mask and the pad token id were not set. As a consequence, you may observe unexpected behavior. Please pass your input's `attention_mask` to obtain reliable results.\n",
      "Setting `pad_token_id` to `eos_token_id`:50256 for open-end generation.\n"
     ]
    },
    {
     "name": "stdout",
     "output_type": "stream",
     "text": [
      "START: \n",
      "Allie went to the local fair. She went on the\n",
      "GENERATED: \n",
      "Allie went to the local fair. She went on the first ride she saw. She was happy to see the end. But when she got home, she found out she had overcharged her car. She had to pay the full price. The end.\n",
      "TRUE: \n",
      "Allie went to the local fair. She went on the first ride she saw. She thought it would be safe. But all of the sudden the brakes failed. Allie ended up falling out. The end.\n"
     ]
    },
    {
     "name": "stderr",
     "output_type": "stream",
     "text": [
      "The attention mask and the pad token id were not set. As a consequence, you may observe unexpected behavior. Please pass your input's `attention_mask` to obtain reliable results.\n",
      "Setting `pad_token_id` to `eos_token_id`:50256 for open-end generation.\n"
     ]
    },
    {
     "name": "stdout",
     "output_type": "stream",
     "text": [
      "START: \n",
      "Carlos was out of deodorant. So he drove to the\n",
      "GENERATED: \n",
      "Carlos was out of deodorant. So he drove to the store to get more. He bought a can of lotion. He put it in the car. Carlos was happy to have the product. The end.\n",
      "TRUE: \n",
      "Carlos was out of deodorant. So he drove to the store to get more. His favorite brand was degree. He got himself a two pack . Carlos was no longer out of deodorant. The end.\n"
     ]
    },
    {
     "name": "stderr",
     "output_type": "stream",
     "text": [
      "The attention mask and the pad token id were not set. As a consequence, you may observe unexpected behavior. Please pass your input's `attention_mask` to obtain reliable results.\n",
      "Setting `pad_token_id` to `eos_token_id`:50256 for open-end generation.\n"
     ]
    },
    {
     "name": "stdout",
     "output_type": "stream",
     "text": [
      "START: \n",
      "Gloria had a dark secret she had been hiding from\n",
      "GENERATED: \n",
      "Gloria had a dark secret she had been hiding from her husband. She thought she would never tell her. But she did. Now, she is free of her husband's influence. The end.\n",
      "TRUE: \n",
      "Gloria had a dark secret she had been hiding from her husband. She thought she was good at hiding, but she always acted strange. The secret was eating away at her inside and ruining the relationship. Finally, she broke dow The end.\n"
     ]
    },
    {
     "name": "stderr",
     "output_type": "stream",
     "text": [
      "The attention mask and the pad token id were not set. As a consequence, you may observe unexpected behavior. Please pass your input's `attention_mask` to obtain reliable results.\n",
      "Setting `pad_token_id` to `eos_token_id`:50256 for open-end generation.\n"
     ]
    },
    {
     "name": "stdout",
     "output_type": "stream",
     "text": [
      "START: \n",
      "Kelly had a serious fear of flying, so she always\n",
      "GENERATED: \n",
      "Kelly had a serious fear of flying, so she always kept her fingers crossed. But one day her husband got sick and her husband needed help. Kate's team at the hospital brought her to her room. Kate was so happy to have her arms around her. The end.\n",
      "TRUE: \n",
      "Kelly had a serious fear of flying, so she always avoided airplanes. After starting a new job, she was told she'd have to travel for work. She confided in her boss, and he suggested trying hypnotherapy. Kelly had several s The end.\n"
     ]
    },
    {
     "name": "stderr",
     "output_type": "stream",
     "text": [
      "The attention mask and the pad token id were not set. As a consequence, you may observe unexpected behavior. Please pass your input's `attention_mask` to obtain reliable results.\n",
      "Setting `pad_token_id` to `eos_token_id`:50256 for open-end generation.\n"
     ]
    },
    {
     "name": "stdout",
     "output_type": "stream",
     "text": [
      "START: \n",
      "Jill started her YouTube channel in 2006 and loved the\n",
      "GENERATED: \n",
      "Jill started her YouTube channel in 2006 and loved the process. She uploaded random videos at random times to her channel. She got a ton of likes and reposted them. She got more subscribers. She became a YouTube star. Now Jill is able to make a living doing it. The end.\n",
      "TRUE: \n",
      "Jill started her YouTube channel in 2006 and loved the process. She uploaded random videos at random times for the first few years. In 2010 Jill realized that she may be able to make a living doing it. She came up with a t The end.\n"
     ]
    },
    {
     "name": "stderr",
     "output_type": "stream",
     "text": [
      "The attention mask and the pad token id were not set. As a consequence, you may observe unexpected behavior. Please pass your input's `attention_mask` to obtain reliable results.\n",
      "Setting `pad_token_id` to `eos_token_id`:50256 for open-end generation.\n"
     ]
    },
    {
     "name": "stdout",
     "output_type": "stream",
     "text": [
      "START: \n",
      "Since it was 110 degrees we headed for the beach\n",
      "GENERATED: \n",
      "Since it was 110 degrees we headed for the beach with our 3 children. We were going to stay at a local hotel. We were going to stay there for a while. We were going to eat at a local diner. We were happy to have our food at our disposal. The end.\n",
      "TRUE: \n",
      "Since it was 110 degrees we headed for the beach with our 3 children. Needing some cash, my husband pulled into the parking lot of the bank. As we turned toward the ATM we felt the car shudder and heard 2 bangs. He got out The end.\n"
     ]
    },
    {
     "name": "stderr",
     "output_type": "stream",
     "text": [
      "The attention mask and the pad token id were not set. As a consequence, you may observe unexpected behavior. Please pass your input's `attention_mask` to obtain reliable results.\n",
      "Setting `pad_token_id` to `eos_token_id`:50256 for open-end generation.\n"
     ]
    },
    {
     "name": "stdout",
     "output_type": "stream",
     "text": [
      "START: \n",
      "We received a letter from my daughter's school. They told\n",
      "GENERATED: \n",
      "We received a letter from my daughter's school. They told us that she was being placed in the gifted students program. They also told us not to tell her she was smarter than the other kids. I remembered when the only thing The end.\n",
      "TRUE: \n",
      "We received a letter from my daughter's school. They told us that she was being placed in the gifted students program. They also told us not to tell her she was smarter than the other kids. I remembered when the only thing The end.\n"
     ]
    },
    {
     "name": "stderr",
     "output_type": "stream",
     "text": [
      "The attention mask and the pad token id were not set. As a consequence, you may observe unexpected behavior. Please pass your input's `attention_mask` to obtain reliable results.\n",
      "Setting `pad_token_id` to `eos_token_id`:50256 for open-end generation.\n"
     ]
    },
    {
     "name": "stdout",
     "output_type": "stream",
     "text": [
      "START: \n",
      "Suzanna grew up watching her grandma make jelly from scratch.\n",
      "GENERATED: \n",
      "Suzanna grew up watching her grandma make jelly from scratch. When she moved into her own home, she headed right for the kitchen. But she ended up at the local farmer's. Jen was very pleased to see her grandma make jelly from scratch. Jen was able to make it all from scratch. The end.\n",
      "TRUE: \n",
      "Suzanna grew up watching her grandma make jelly from scratch. The jelly was delicious, and the process of making it fascinating! When she moved into her own home, she headed right for the kitchen. But the jelly wouldn't se The end.\n"
     ]
    },
    {
     "name": "stderr",
     "output_type": "stream",
     "text": [
      "The attention mask and the pad token id were not set. As a consequence, you may observe unexpected behavior. Please pass your input's `attention_mask` to obtain reliable results.\n",
      "Setting `pad_token_id` to `eos_token_id`:50256 for open-end generation.\n"
     ]
    },
    {
     "name": "stdout",
     "output_type": "stream",
     "text": [
      "START: \n",
      "Macy was eagerly waiting for her paycheck to come in\n",
      "GENERATED: \n",
      "Macy was eagerly waiting for her paycheck to come in for her vacation. When she got home, she realized she had forgotten about taxes. She had to pay a ton of fees. Luckily, she had enough in savings to pay for everything. The end.\n",
      "TRUE: \n",
      "Macy was eagerly waiting for her paycheck to come in for her vacation. It was a 3 state road trip covering CA, WA and OR, she was excited. When her check came in she packed her bags and met up with friends. They drove acro The end.\n"
     ]
    },
    {
     "name": "stderr",
     "output_type": "stream",
     "text": [
      "The attention mask and the pad token id were not set. As a consequence, you may observe unexpected behavior. Please pass your input's `attention_mask` to obtain reliable results.\n",
      "Setting `pad_token_id` to `eos_token_id`:50256 for open-end generation.\n"
     ]
    },
    {
     "name": "stdout",
     "output_type": "stream",
     "text": [
      "START: \n",
      "Andy liked to tease Bo about his fear of going\n",
      "GENERATED: \n",
      "Andy liked to tease Bo about his fear of going in the water. Bo was trying to impress Judy at the beach. Judy was having a hard time picking a fight with Bo. Finally, Bo got into a bad mood and started yelling at Judy. Judy got into a bad mood and became less inhibited. The end.\n",
      "TRUE: \n",
      "Andy liked to tease Bo about his fear of going in the water. Bo was trying to impress Judy at the beach and Andy was chiding him. So Bo decided to face his fear and decided to swim out to the atoll. Judy and Andy watched a The end.\n"
     ]
    },
    {
     "name": "stderr",
     "output_type": "stream",
     "text": [
      "The attention mask and the pad token id were not set. As a consequence, you may observe unexpected behavior. Please pass your input's `attention_mask` to obtain reliable results.\n",
      "Setting `pad_token_id` to `eos_token_id`:50256 for open-end generation.\n"
     ]
    },
    {
     "name": "stdout",
     "output_type": "stream",
     "text": [
      "START: \n",
      "The diner at the local highway intersection will soon close\n",
      "GENERATED: \n",
      "The diner at the local highway intersection will soon close. The owners decided to close the diner. They had to pay a ton of fees. The end.\n",
      "TRUE: \n",
      "The diner at the local highway intersection will soon close for good. Many people are sad, but the place was having trouble competing. The employees are hopeful they'll find new jobs quickly. The customers don't know where The end.\n"
     ]
    },
    {
     "name": "stderr",
     "output_type": "stream",
     "text": [
      "The attention mask and the pad token id were not set. As a consequence, you may observe unexpected behavior. Please pass your input's `attention_mask` to obtain reliable results.\n",
      "Setting `pad_token_id` to `eos_token_id`:50256 for open-end generation.\n"
     ]
    },
    {
     "name": "stdout",
     "output_type": "stream",
     "text": [
      "START: \n",
      "Madi was hanging out with her little sister while mom\n",
      "GENERATED: \n",
      "Madi was hanging out with her little sister while mom took a shower. Madi glanced over to the table and noticed a pair of scissors. Madi grabbed the sci The end.\n",
      "TRUE: \n",
      "Madi was hanging out with her little sister while mom took a shower. Madi glanced over to the table and noticed a pair of scissors. Then she looked at her sister's hair and saw how long it was getting. Madi grabbed the sci The end.\n"
     ]
    },
    {
     "name": "stderr",
     "output_type": "stream",
     "text": [
      "The attention mask and the pad token id were not set. As a consequence, you may observe unexpected behavior. Please pass your input's `attention_mask` to obtain reliable results.\n",
      "Setting `pad_token_id` to `eos_token_id`:50256 for open-end generation.\n"
     ]
    },
    {
     "name": "stdout",
     "output_type": "stream",
     "text": [
      "START: \n",
      "Tom liked Anna a lot. He wanted to court her.\n",
      "GENERATED: \n",
      "Tom liked Anna a lot. He wanted to court her. So he decided to enter the Miss America pageant. He was accepted into the Miss America pageant in 2005. And now he is the face of the brand. The end.\n",
      "TRUE: \n",
      "Tom liked Anna a lot. He wanted to court her. He went to her parents to ask permission. They said yes. He was elated. Tom was helping a friend move. He was carrying a box full of dishes. Tom accidentally dropped them. Most The end.\n"
     ]
    },
    {
     "name": "stderr",
     "output_type": "stream",
     "text": [
      "The attention mask and the pad token id were not set. As a consequence, you may observe unexpected behavior. Please pass your input's `attention_mask` to obtain reliable results.\n",
      "Setting `pad_token_id` to `eos_token_id`:50256 for open-end generation.\n"
     ]
    },
    {
     "name": "stdout",
     "output_type": "stream",
     "text": [
      "START: \n",
      "John had a problem. His sink was clogged. He tried\n",
      "GENERATED: \n",
      "John had a problem. His sink was clogged. He tried to call a repairman. He got no answer. He went to the sink himself. He fixed the sink himself. The end.\n",
      "TRUE: \n",
      "John had a problem. His sink was clogged. He tried to call a repairman. He got no answer. John fixed the sink himself. Ron was a fast food worker at wendy's. He was working as a cashier one day. A customer comes up to comp The end.\n"
     ]
    },
    {
     "name": "stderr",
     "output_type": "stream",
     "text": [
      "The attention mask and the pad token id were not set. As a consequence, you may observe unexpected behavior. Please pass your input's `attention_mask` to obtain reliable results.\n",
      "Setting `pad_token_id` to `eos_token_id`:50256 for open-end generation.\n"
     ]
    },
    {
     "name": "stdout",
     "output_type": "stream",
     "text": [
      "START: \n",
      "The man inflated the tires. He got one too full.\n",
      "GENERATED: \n",
      "The man inflated the tires. He got one too full. The tire popped. The man got out and fixed the tire. The end.\n",
      "TRUE: \n",
      "The man inflated the tires. He got one too full. That tire popped. He put on a spare. He drove to the tire shop. Daniel's mother had given him a candy. She meant for him to eat it the following day. Daniel took it to bed w The end.\n"
     ]
    },
    {
     "name": "stderr",
     "output_type": "stream",
     "text": [
      "The attention mask and the pad token id were not set. As a consequence, you may observe unexpected behavior. Please pass your input's `attention_mask` to obtain reliable results.\n",
      "Setting `pad_token_id` to `eos_token_id`:50256 for open-end generation.\n"
     ]
    },
    {
     "name": "stdout",
     "output_type": "stream",
     "text": [
      "START: \n",
      "Yesterday I went for a workout. I ran three miles.\n",
      "GENERATED: \n",
      "Yesterday I went for a workout. I ran three miles. I was exhausted. I collapsed. I needed sleep. I went to bed. I was asleep. The next day I woke up shocked. I had to do a lot of leg work to get myself to a good state of sleep. I ended up sleeping it off. The end.\n",
      "TRUE: \n",
      "Yesterday I went for a workout. I ran three miles. I was exhausted. When I was done I collapsed. I needed sleep. Fred had asked Lucy out on a date. Lucy was so nervous. It was quite unlike her to be nervous about something The end.\n"
     ]
    },
    {
     "name": "stderr",
     "output_type": "stream",
     "text": [
      "The attention mask and the pad token id were not set. As a consequence, you may observe unexpected behavior. Please pass your input's `attention_mask` to obtain reliable results.\n",
      "Setting `pad_token_id` to `eos_token_id`:50256 for open-end generation.\n"
     ]
    },
    {
     "name": "stdout",
     "output_type": "stream",
     "text": [
      "START: \n",
      "Henry needs money. Henry has an idea. He goes to\n",
      "GENERATED: \n",
      "Henry needs money. Henry has an idea. He goes to the bank. He tries to rob the bank. He is caught and taken to jail. Henry eventually found himself in a bad mood. He decided to stop trying to rob the bank. The end.\n",
      "TRUE: \n",
      "Henry needs money. Henry has an idea. He goes to the bank. He tries to rob the bank. He is caught and taken to jail. Rick dreamed of being a professional tennis player. So he bought expensive tennis gear and clothes. And h The end.\n"
     ]
    },
    {
     "name": "stderr",
     "output_type": "stream",
     "text": [
      "The attention mask and the pad token id were not set. As a consequence, you may observe unexpected behavior. Please pass your input's `attention_mask` to obtain reliable results.\n",
      "Setting `pad_token_id` to `eos_token_id`:50256 for open-end generation.\n"
     ]
    },
    {
     "name": "stdout",
     "output_type": "stream",
     "text": [
      "START: \n",
      "Becky was driving along. Becky saw a deer. Becky came\n",
      "GENERATED: \n",
      "Becky was driving along. Becky saw a deer. Becky came to a stop. The deer crossed the road. Becky was elated. The end.\n",
      "TRUE: \n",
      "Becky was driving along. Becky saw a deer. Becky came to a stop. The deer crossed the road. Becky waited and drove on. Nick tried to be careful as he dismantled his weather station. He still ended up breaking one of the fr The end.\n"
     ]
    },
    {
     "name": "stderr",
     "output_type": "stream",
     "text": [
      "The attention mask and the pad token id were not set. As a consequence, you may observe unexpected behavior. Please pass your input's `attention_mask` to obtain reliable results.\n",
      "Setting `pad_token_id` to `eos_token_id`:50256 for open-end generation.\n"
     ]
    },
    {
     "name": "stdout",
     "output_type": "stream",
     "text": [
      "START: \n",
      "The man turned on the oven. He opened it. The\n",
      "GENERATED: \n",
      "The man turned on the oven. He opened it. The oven was not hot. He put it in the right locker. The end.\n",
      "TRUE: \n",
      "The man turned on the oven. He opened it. The oven was not hot. He checked the elements. He fixed the elements. Julie overslept that morning. She had to rush her shower to arrive in time at work. As she climbed on the bus, The end.\n"
     ]
    },
    {
     "name": "stderr",
     "output_type": "stream",
     "text": [
      "The attention mask and the pad token id were not set. As a consequence, you may observe unexpected behavior. Please pass your input's `attention_mask` to obtain reliable results.\n",
      "Setting `pad_token_id` to `eos_token_id`:50256 for open-end generation.\n"
     ]
    },
    {
     "name": "stdout",
     "output_type": "stream",
     "text": [
      "START: \n",
      "A farmer got up in the morning. He put his\n",
      "GENERATED: \n",
      "A farmer got up in the morning. He put his boots on. He went outside. He milked the cow. He was happy to see the cow. The end.\n",
      "TRUE: \n",
      "A farmer got up in the morning. He put his boots on. He went outside. He milked the cow. He went back to bed. Dominic was known to be a trouble maker. His parents warned him that he would end up on Santa's Naughty List. He The end.\n"
     ]
    },
    {
     "name": "stderr",
     "output_type": "stream",
     "text": [
      "The attention mask and the pad token id were not set. As a consequence, you may observe unexpected behavior. Please pass your input's `attention_mask` to obtain reliable results.\n",
      "Setting `pad_token_id` to `eos_token_id`:50256 for open-end generation.\n"
     ]
    },
    {
     "name": "stdout",
     "output_type": "stream",
     "text": [
      "START: \n",
      "Simon called his dog. The dog did not come. He\n",
      "GENERATED: \n",
      "Simon called his dog. The dog did not come. He called his dog. The dog did not come home. He was sad. The end.\n",
      "TRUE: \n",
      "Simon called his dog. The dog did not come. He yelled his dogs name. His mom heard him. His mom found his dog. It was the beginning of November. Ralph's company men grew a beard every November. Ralph decided that his year  The end.\n",
      "START: \n",
      "Allie worked for a biotech. She wanted a raise. So\n",
      "GENERATED: \n",
      "Allie worked for a biotech. She wanted a raise. So she decided to negotiate. She got one. She got a raise. The end.\n",
      "TRUE: \n",
      "Allie worked for a biotech. She wanted a raise. So she decided to negotiate. They gave her a raise. Allie was so happy. After Ben turned in his exam, he was furious. He didn't do well although he studied a week in advance. The end.\n",
      "-53\n",
      "-8\n",
      "-87\n",
      "-6\n",
      "-54\n",
      "-115\n",
      "115\n",
      "-26\n",
      "28\n",
      "-11\n",
      "-64\n",
      "15\n",
      "39\n",
      "15\n",
      "0\n",
      "54\n",
      "-1\n",
      "48\n",
      "-92\n",
      "-70\n",
      "-36\n",
      "-77\n",
      "-121\n",
      "33\n",
      "-17\n",
      "-113\n",
      "-128\n",
      "-105\n",
      "-121\n",
      "-116\n"
     ]
    },
    {
     "data": {
      "image/png": "[encoded data removed]",
      "text/plain": [
       "<Figure size 640x480 with 1 Axes>"
      ]
     },
     "metadata": {},
     "output_type": "display_data"
    },
    {
     "name": "stdout",
     "output_type": "stream",
     "text": [
      "222\n",
      "2024-10-21 12:29:53.397263: E external/local_xla/xla/stream_executor/cuda/cuda_fft.cc:485] Unable to register cuFFT factory: Attempting to register factory for plugin cuFFT when one has already been registered\n",
      "2024-10-21 12:29:53.419937: E external/local_xla/xla/stream_executor/cuda/cuda_dnn.cc:8454] Unable to register cuDNN factory: Attempting to register factory for plugin cuDNN when one has already been registered\n",
      "2024-10-21 12:29:53.426741: E external/local_xla/xla/stream_executor/cuda/cuda_blas.cc:1452] Unable to register cuBLAS factory: Attempting to register factory for plugin cuBLAS when one has already been registered\n",
      "2024-10-21 12:29:54.651012: W tensorflow/compiler/tf2tensorrt/utils/py_utils.cc:38] TF-TRT Warning: Could not find TensorRT\n",
      "10/21/2024 12:29:56 - WARNING - __main__ - Process rank: 0, device: cuda:0, n_gpu: 1distributed training: False, 16-bits training: False\n",
      "10/21/2024 12:29:56 - INFO - __main__ - Training/evaluation parameters TrainingArguments(\n",
      "_n_gpu=1,\n",
      "accelerator_config={'split_batches': False, 'dispatch_batches': None, 'even_batches': True, 'use_seedable_sampler': True, 'non_blocking': False, 'gradient_accumulation_kwargs': None, 'use_configured_state': False},\n",
      "adafactor=False,\n",
      "adam_beta1=0.9,\n",
      "adam_beta2=0.999,\n",
      "adam_epsilon=1e-08,\n",
      "auto_find_batch_size=False,\n",
      "batch_eval_metrics=False,\n",
      "bf16=False,\n",
      "bf16_full_eval=False,\n",
      "data_seed=None,\n",
      "dataloader_drop_last=False,\n",
      "dataloader_num_workers=0,\n",
      "dataloader_persistent_workers=False,\n",
      "dataloader_pin_memory=True,\n",
      "dataloader_prefetch_factor=None,\n",
      "ddp_backend=None,\n",
      "ddp_broadcast_buffers=None,\n",
      "ddp_bucket_cap_mb=None,\n",
      "ddp_find_unused_parameters=None,\n",
      "ddp_timeout=1800,\n",
      "debug=[],\n",
      "deepspeed=None,\n",
      "disable_tqdm=False,\n",
      "dispatch_batches=None,\n",
      "do_eval=True,\n",
      "do_predict=False,\n",
      "do_train=True,\n",
      "eval_accumulation_steps=None,\n",
      "eval_delay=0,\n",
      "eval_do_concat_batches=True,\n",
      "eval_on_start=False,\n",
      "eval_steps=None,\n",
      "eval_strategy=no,\n",
      "eval_use_gather_object=False,\n",
      "evaluation_strategy=None,\n",
      "fp16=False,\n",
      "fp16_backend=auto,\n",
      "fp16_full_eval=False,\n",
      "fp16_opt_level=O1,\n",
      "fsdp=[],\n",
      "fsdp_config={'min_num_params': 0, 'xla': False, 'xla_fsdp_v2': False, 'xla_fsdp_grad_ckpt': False},\n",
      "fsdp_min_num_params=0,\n",
      "fsdp_transformer_layer_cls_to_wrap=None,\n",
      "full_determinism=False,\n",
      "gradient_accumulation_steps=1,\n",
      "gradient_checkpointing=False,\n",
      "gradient_checkpointing_kwargs=None,\n",
      "greater_is_better=None,\n",
      "group_by_length=False,\n",
      "half_precision_backend=auto,\n",
      "hub_always_push=False,\n",
      "hub_model_id=None,\n",
      "hub_private_repo=False,\n",
      "hub_strategy=every_save,\n",
      "hub_token=<HUB_TOKEN>,\n",
      "ignore_data_skip=False,\n",
      "include_inputs_for_metrics=False,\n",
      "include_num_input_tokens_seen=False,\n",
      "include_tokens_per_second=False,\n",
      "jit_mode_eval=False,\n",
      "label_names=None,\n",
      "label_smoothing_factor=0.0,\n",
      "learning_rate=0.0005,\n",
      "length_column_name=length,\n",
      "load_best_model_at_end=False,\n",
      "local_rank=0,\n",
      "log_level=passive,\n",
      "log_level_replica=warning,\n",
      "log_on_each_node=True,\n",
      "logging_dir=outputs_stories/runs/Oct21_12-29-56_f910dfa8e9d3,\n",
      "logging_first_step=False,\n",
      "logging_nan_inf_filter=True,\n",
      "logging_steps=500,\n",
      "logging_strategy=steps,\n",
      "lr_scheduler_kwargs={},\n",
      "lr_scheduler_type=linear,\n",
      "max_grad_norm=1.0,\n",
      "max_steps=-1,\n",
      "metric_for_best_model=None,\n",
      "mp_parameters=,\n",
      "neftune_noise_alpha=None,\n",
      "no_cuda=False,\n",
      "num_train_epochs=5.0,\n",
      "optim=adamw_torch,\n",
      "optim_args=None,\n",
      "optim_target_modules=None,\n",
      "output_dir=outputs_stories,\n",
      "overwrite_output_dir=True,\n",
      "past_index=-1,\n",
      "per_device_eval_batch_size=1,\n",
      "per_device_train_batch_size=1,\n",
      "prediction_loss_only=False,\n",
      "push_to_hub=False,\n",
      "push_to_hub_model_id=None,\n",
      "push_to_hub_organization=None,\n",
      "push_to_hub_token=<PUSH_TO_HUB_TOKEN>,\n",
      "ray_scope=last,\n",
      "remove_unused_columns=True,\n",
      "report_to=[],\n",
      "restore_callback_states_from_checkpoint=False,\n",
      "resume_from_checkpoint=None,\n",
      "run_name=outputs_stories,\n",
      "save_on_each_node=False,\n",
      "save_only_model=False,\n",
      "save_safetensors=True,\n",
      "save_steps=1000,\n",
      "save_strategy=steps,\n",
      "save_total_limit=None,\n",
      "seed=42,\n",
      "skip_memory_metrics=True,\n",
      "split_batches=None,\n",
      "tf32=None,\n",
      "torch_compile=False,\n",
      "torch_compile_backend=None,\n",
      "torch_compile_mode=None,\n",
      "torch_empty_cache_steps=None,\n",
      "torchdynamo=None,\n",
      "tpu_metrics_debug=False,\n",
      "tpu_num_cores=None,\n",
      "use_cpu=False,\n",
      "use_ipex=False,\n",
      "use_legacy_prediction_loop=False,\n",
      "use_mps_device=False,\n",
      "warmup_ratio=0.0,\n",
      "warmup_steps=0,\n",
      "weight_decay=0.0,\n",
      ")\n",
      "Using custom data configuration default-9d0aa712d14f28c7\n",
      "10/21/2024 12:29:57 - INFO - datasets.builder - Using custom data configuration default-9d0aa712d14f28c7\n",
      "Loading Dataset Infos from /usr/local/lib/python3.10/dist-packages/datasets/packaged_modules/text\n",
      "10/21/2024 12:29:57 - INFO - datasets.info - Loading Dataset Infos from /usr/local/lib/python3.10/dist-packages/datasets/packaged_modules/text\n",
      "Generating dataset text (/root/.cache/huggingface/datasets/text/default-9d0aa712d14f28c7/0.0.0/37eaf37ac90527a7fd768c94b312ee84f8815c9b7ac00acf81c1c364e8392f99)\n",
      "10/21/2024 12:29:57 - INFO - datasets.builder - Generating dataset text (/root/.cache/huggingface/datasets/text/default-9d0aa712d14f28c7/0.0.0/37eaf37ac90527a7fd768c94b312ee84f8815c9b7ac00acf81c1c364e8392f99)\n",
      "Downloading and preparing dataset text/default to /root/.cache/huggingface/datasets/text/default-9d0aa712d14f28c7/0.0.0/37eaf37ac90527a7fd768c94b312ee84f8815c9b7ac00acf81c1c364e8392f99...\n",
      "10/21/2024 12:29:57 - INFO - datasets.builder - Downloading and preparing dataset text/default to /root/.cache/huggingface/datasets/text/default-9d0aa712d14f28c7/0.0.0/37eaf37ac90527a7fd768c94b312ee84f8815c9b7ac00acf81c1c364e8392f99...\n",
      "Downloading took 0.0 min\n",
      "10/21/2024 12:29:57 - INFO - datasets.download.download_manager - Downloading took 0.0 min\n",
      "Checksum Computation took 0.0 min\n",
      "10/21/2024 12:29:57 - INFO - datasets.download.download_manager - Checksum Computation took 0.0 min\n",
      "Generating train split\n",
      "10/21/2024 12:29:57 - INFO - datasets.builder - Generating train split\n",
      "Generating train split: 120 examples [00:00, 37063.07 examples/s]\n",
      "Generating validation split\n",
      "10/21/2024 12:29:57 - INFO - datasets.builder - Generating validation split\n",
      "Generating validation split: 120 examples [00:00, 120815.29 examples/s]\n",
      "Unable to verify splits sizes.\n",
      "10/21/2024 12:29:57 - INFO - datasets.utils.info_utils - Unable to verify splits sizes.\n",
      "Dataset text downloaded and prepared to /root/.cache/huggingface/datasets/text/default-9d0aa712d14f28c7/0.0.0/37eaf37ac90527a7fd768c94b312ee84f8815c9b7ac00acf81c1c364e8392f99. Subsequent calls will reuse this data.\n",
      "10/21/2024 12:29:57 - INFO - datasets.builder - Dataset text downloaded and prepared to /root/.cache/huggingface/datasets/text/default-9d0aa712d14f28c7/0.0.0/37eaf37ac90527a7fd768c94b312ee84f8815c9b7ac00acf81c1c364e8392f99. Subsequent calls will reuse this data.\n",
      "[INFO|configuration_utils.py:733] 2024-10-21 12:29:57,195 >> loading configuration file config.json from cache at /root/.cache/huggingface/hub/models--gpt2-medium/snapshots/6dcaa7a952f72f9298047fd5137cd6e4f05f41da/config.json\n",
      "[INFO|configuration_utils.py:800] 2024-10-21 12:29:57,196 >> Model config GPT2Config {\n",
      "  \"_name_or_path\": \"gpt2-medium\",\n",
      "  \"activation_function\": \"gelu_new\",\n",
      "  \"architectures\": [\n",
      "    \"GPT2LMHeadModel\"\n",
      "  ],\n",
      "  \"attn_pdrop\": 0.1,\n",
      "  \"bos_token_id\": 50256,\n",
      "  \"embd_pdrop\": 0.1,\n",
      "  \"eos_token_id\": 50256,\n",
      "  \"initializer_range\": 0.02,\n",
      "  \"layer_norm_epsilon\": 1e-05,\n",
      "  \"model_type\": \"gpt2\",\n",
      "  \"n_ctx\": 1024,\n",
      "  \"n_embd\": 1024,\n",
      "  \"n_head\": 16,\n",
      "  \"n_inner\": null,\n",
      "  \"n_layer\": 24,\n",
      "  \"n_positions\": 1024,\n",
      "  \"n_special\": 0,\n",
      "  \"predict_special_tokens\": true,\n",
      "  \"reorder_and_upcast_attn\": false,\n",
      "  \"resid_pdrop\": 0.1,\n",
      "  \"scale_attn_by_inverse_layer_idx\": false,\n",
      "  \"scale_attn_weights\": true,\n",
      "  \"summary_activation\": null,\n",
      "  \"summary_first_dropout\": 0.1,\n",
      "  \"summary_proj_to_labels\": true,\n",
      "  \"summary_type\": \"cls_index\",\n",
      "  \"summary_use_proj\": true,\n",
      "  \"task_specific_params\": {\n",
      "    \"text-generation\": {\n",
      "      \"do_sample\": true,\n",
      "      \"max_length\": 50\n",
      "    }\n",
      "  },\n",
      "  \"transformers_version\": \"4.44.2\",\n",
      "  \"use_cache\": true,\n",
      "  \"vocab_size\": 50257\n",
      "}\n",
      "\n",
      "[INFO|configuration_utils.py:733] 2024-10-21 12:29:57,248 >> loading configuration file config.json from cache at /root/.cache/huggingface/hub/models--gpt2-medium/snapshots/6dcaa7a952f72f9298047fd5137cd6e4f05f41da/config.json\n",
      "[INFO|configuration_utils.py:800] 2024-10-21 12:29:57,249 >> Model config GPT2Config {\n",
      "  \"_name_or_path\": \"gpt2-medium\",\n",
      "  \"activation_function\": \"gelu_new\",\n",
      "  \"architectures\": [\n",
      "    \"GPT2LMHeadModel\"\n",
      "  ],\n",
      "  \"attn_pdrop\": 0.1,\n",
      "  \"bos_token_id\": 50256,\n",
      "  \"embd_pdrop\": 0.1,\n",
      "  \"eos_token_id\": 50256,\n",
      "  \"initializer_range\": 0.02,\n",
      "  \"layer_norm_epsilon\": 1e-05,\n",
      "  \"model_type\": \"gpt2\",\n",
      "  \"n_ctx\": 1024,\n",
      "  \"n_embd\": 1024,\n",
      "  \"n_head\": 16,\n",
      "  \"n_inner\": null,\n",
      "  \"n_layer\": 24,\n",
      "  \"n_positions\": 1024,\n",
      "  \"n_special\": 0,\n",
      "  \"predict_special_tokens\": true,\n",
      "  \"reorder_and_upcast_attn\": false,\n",
      "  \"resid_pdrop\": 0.1,\n",
      "  \"scale_attn_by_inverse_layer_idx\": false,\n",
      "  \"scale_attn_weights\": true,\n",
      "  \"summary_activation\": null,\n",
      "  \"summary_first_dropout\": 0.1,\n",
      "  \"summary_proj_to_labels\": true,\n",
      "  \"summary_type\": \"cls_index\",\n",
      "  \"summary_use_proj\": true,\n",
      "  \"task_specific_params\": {\n",
      "    \"text-generation\": {\n",
      "      \"do_sample\": true,\n",
      "      \"max_length\": 50\n",
      "    }\n",
      "  },\n",
      "  \"transformers_version\": \"4.44.2\",\n",
      "  \"use_cache\": true,\n",
      "  \"vocab_size\": 50257\n",
      "}\n",
      "\n",
      "[INFO|tokenization_utils_base.py:2269] 2024-10-21 12:29:57,259 >> loading file vocab.json from cache at /root/.cache/huggingface/hub/models--gpt2-medium/snapshots/6dcaa7a952f72f9298047fd5137cd6e4f05f41da/vocab.json\n",
      "[INFO|tokenization_utils_base.py:2269] 2024-10-21 12:29:57,259 >> loading file merges.txt from cache at /root/.cache/huggingface/hub/models--gpt2-medium/snapshots/6dcaa7a952f72f9298047fd5137cd6e4f05f41da/merges.txt\n",
      "[INFO|tokenization_utils_base.py:2269] 2024-10-21 12:29:57,259 >> loading file tokenizer.json from cache at /root/.cache/huggingface/hub/models--gpt2-medium/snapshots/6dcaa7a952f72f9298047fd5137cd6e4f05f41da/tokenizer.json\n",
      "[INFO|tokenization_utils_base.py:2269] 2024-10-21 12:29:57,259 >> loading file added_tokens.json from cache at None\n",
      "[INFO|tokenization_utils_base.py:2269] 2024-10-21 12:29:57,259 >> loading file special_tokens_map.json from cache at None\n",
      "[INFO|tokenization_utils_base.py:2269] 2024-10-21 12:29:57,259 >> loading file tokenizer_config.json from cache at /root/.cache/huggingface/hub/models--gpt2-medium/snapshots/6dcaa7a952f72f9298047fd5137cd6e4f05f41da/tokenizer_config.json\n",
      "[INFO|configuration_utils.py:733] 2024-10-21 12:29:57,259 >> loading configuration file config.json from cache at /root/.cache/huggingface/hub/models--gpt2-medium/snapshots/6dcaa7a952f72f9298047fd5137cd6e4f05f41da/config.json\n",
      "[INFO|configuration_utils.py:800] 2024-10-21 12:29:57,260 >> Model config GPT2Config {\n",
      "  \"_name_or_path\": \"gpt2-medium\",\n",
      "  \"activation_function\": \"gelu_new\",\n",
      "  \"architectures\": [\n",
      "    \"GPT2LMHeadModel\"\n",
      "  ],\n",
      "  \"attn_pdrop\": 0.1,\n",
      "  \"bos_token_id\": 50256,\n",
      "  \"embd_pdrop\": 0.1,\n",
      "  \"eos_token_id\": 50256,\n",
      "  \"initializer_range\": 0.02,\n",
      "  \"layer_norm_epsilon\": 1e-05,\n",
      "  \"model_type\": \"gpt2\",\n",
      "  \"n_ctx\": 1024,\n",
      "  \"n_embd\": 1024,\n",
      "  \"n_head\": 16,\n",
      "  \"n_inner\": null,\n",
      "  \"n_layer\": 24,\n",
      "  \"n_positions\": 1024,\n",
      "  \"n_special\": 0,\n",
      "  \"predict_special_tokens\": true,\n",
      "  \"reorder_and_upcast_attn\": false,\n",
      "  \"resid_pdrop\": 0.1,\n",
      "  \"scale_attn_by_inverse_layer_idx\": false,\n",
      "  \"scale_attn_weights\": true,\n",
      "  \"summary_activation\": null,\n",
      "  \"summary_first_dropout\": 0.1,\n",
      "  \"summary_proj_to_labels\": true,\n",
      "  \"summary_type\": \"cls_index\",\n",
      "  \"summary_use_proj\": true,\n",
      "  \"task_specific_params\": {\n",
      "    \"text-generation\": {\n",
      "      \"do_sample\": true,\n",
      "      \"max_length\": 50\n",
      "    }\n",
      "  },\n",
      "  \"transformers_version\": \"4.44.2\",\n",
      "  \"use_cache\": true,\n",
      "  \"vocab_size\": 50257\n",
      "}\n",
      "\n",
      "/usr/local/lib/python3.10/dist-packages/transformers/tokenization_utils_base.py:1601: FutureWarning: `clean_up_tokenization_spaces` was not set. It will be set to `True` by default. This behavior will be depracted in transformers v4.45, and will be then set to `False` by default. For more details check this issue: https://github.com/huggingface/transformers/issues/31884\n",
      "  warnings.warn(\n",
      "[INFO|modeling_utils.py:3678] 2024-10-21 12:29:57,370 >> loading weights file model.safetensors from cache at /root/.cache/huggingface/hub/models--gpt2-medium/snapshots/6dcaa7a952f72f9298047fd5137cd6e4f05f41da/model.safetensors\n",
      "[INFO|configuration_utils.py:1038] 2024-10-21 12:29:57,381 >> Generate config GenerationConfig {\n",
      "  \"bos_token_id\": 50256,\n",
      "  \"eos_token_id\": 50256\n",
      "}\n",
      "\n",
      "[INFO|modeling_utils.py:4507] 2024-10-21 12:29:57,478 >> All model checkpoint weights were used when initializing GPT2LMHeadModel.\n",
      "\n",
      "[INFO|modeling_utils.py:4515] 2024-10-21 12:29:57,478 >> All the weights of GPT2LMHeadModel were initialized from the model checkpoint at gpt2-medium.\n",
      "If your task is similar to the task the model of the checkpoint was trained on, you can already use GPT2LMHeadModel for predictions without further training.\n",
      "[INFO|configuration_utils.py:993] 2024-10-21 12:29:57,529 >> loading configuration file generation_config.json from cache at /root/.cache/huggingface/hub/models--gpt2-medium/snapshots/6dcaa7a952f72f9298047fd5137cd6e4f05f41da/generation_config.json\n",
      "[INFO|configuration_utils.py:1038] 2024-10-21 12:29:57,529 >> Generate config GenerationConfig {\n",
      "  \"bos_token_id\": 50256,\n",
      "  \"eos_token_id\": 50256\n",
      "}\n",
      "\n",
      "Running tokenizer on dataset:   0% 0/120 [00:00<?, ? examples/s]Caching processed dataset at /root/.cache/huggingface/datasets/text/default-9d0aa712d14f28c7/0.0.0/37eaf37ac90527a7fd768c94b312ee84f8815c9b7ac00acf81c1c364e8392f99/cache-766e286a4b99cff6.arrow\n",
      "10/21/2024 12:29:57 - INFO - datasets.arrow_dataset - Caching processed dataset at /root/.cache/huggingface/datasets/text/default-9d0aa712d14f28c7/0.0.0/37eaf37ac90527a7fd768c94b312ee84f8815c9b7ac00acf81c1c364e8392f99/cache-766e286a4b99cff6.arrow\n",
      "Running tokenizer on dataset: 100% 120/120 [00:00<00:00, 8462.66 examples/s]\n",
      "Running tokenizer on dataset:   0% 0/120 [00:00<?, ? examples/s]Caching processed dataset at /root/.cache/huggingface/datasets/text/default-9d0aa712d14f28c7/0.0.0/37eaf37ac90527a7fd768c94b312ee84f8815c9b7ac00acf81c1c364e8392f99/cache-3f95046cf996717f.arrow\n",
      "10/21/2024 12:29:57 - INFO - datasets.arrow_dataset - Caching processed dataset at /root/.cache/huggingface/datasets/text/default-9d0aa712d14f28c7/0.0.0/37eaf37ac90527a7fd768c94b312ee84f8815c9b7ac00acf81c1c364e8392f99/cache-3f95046cf996717f.arrow\n",
      "Running tokenizer on dataset: 100% 120/120 [00:00<00:00, 10470.05 examples/s]\n",
      "Grouping texts in chunks of 1024:   0% 0/120 [00:00<?, ? examples/s]Caching processed dataset at /root/.cache/huggingface/datasets/text/default-9d0aa712d14f28c7/0.0.0/37eaf37ac90527a7fd768c94b312ee84f8815c9b7ac00acf81c1c364e8392f99/cache-d9f4e0f1c1442dfc.arrow\n",
      "10/21/2024 12:29:57 - INFO - datasets.arrow_dataset - Caching processed dataset at /root/.cache/huggingface/datasets/text/default-9d0aa712d14f28c7/0.0.0/37eaf37ac90527a7fd768c94b312ee84f8815c9b7ac00acf81c1c364e8392f99/cache-d9f4e0f1c1442dfc.arrow\n",
      "Grouping texts in chunks of 1024: 100% 120/120 [00:00<00:00, 9069.26 examples/s]\n",
      "Grouping texts in chunks of 1024:   0% 0/120 [00:00<?, ? examples/s]Caching processed dataset at /root/.cache/huggingface/datasets/text/default-9d0aa712d14f28c7/0.0.0/37eaf37ac90527a7fd768c94b312ee84f8815c9b7ac00acf81c1c364e8392f99/cache-3c69349da5ee3f9f.arrow\n",
      "10/21/2024 12:29:57 - INFO - datasets.arrow_dataset - Caching processed dataset at /root/.cache/huggingface/datasets/text/default-9d0aa712d14f28c7/0.0.0/37eaf37ac90527a7fd768c94b312ee84f8815c9b7ac00acf81c1c364e8392f99/cache-3c69349da5ee3f9f.arrow\n",
      "Grouping texts in chunks of 1024: 100% 120/120 [00:00<00:00, 9395.49 examples/s]\n",
      "/usr/local/lib/python3.10/dist-packages/transformers/utils/import_utils.py:575: FutureWarning: `is_torch_tpu_available` is deprecated and will be removed in 4.41.0. Please use the `is_torch_xla_available` instead.\n",
      "  warnings.warn(\n",
      "[INFO|trainer.py:2134] 2024-10-21 12:29:59,035 >> ***** Running training *****\n",
      "[INFO|trainer.py:2135] 2024-10-21 12:29:59,035 >>   Num examples = 6\n",
      "[INFO|trainer.py:2136] 2024-10-21 12:29:59,035 >>   Num Epochs = 5\n",
      "[INFO|trainer.py:2137] 2024-10-21 12:29:59,035 >>   Instantaneous batch size per device = 1\n",
      "[INFO|trainer.py:2140] 2024-10-21 12:29:59,035 >>   Total train batch size (w. parallel, distributed & accumulation) = 1\n",
      "[INFO|trainer.py:2141] 2024-10-21 12:29:59,035 >>   Gradient Accumulation steps = 1\n",
      "[INFO|trainer.py:2142] 2024-10-21 12:29:59,036 >>   Total optimization steps = 30\n",
      "[INFO|trainer.py:2143] 2024-10-21 12:29:59,037 >>   Number of trainable parameters = 354,823,168\n",
      "100% 30/30 [00:06<00:00,  5.09it/s][INFO|trainer.py:3503] 2024-10-21 12:30:05,948 >> Saving model checkpoint to outputs_stories/checkpoint-30\n",
      "[INFO|configuration_utils.py:472] 2024-10-21 12:30:05,950 >> Configuration saved in outputs_stories/checkpoint-30/config.json\n",
      "[INFO|configuration_utils.py:807] 2024-10-21 12:30:05,950 >> Configuration saved in outputs_stories/checkpoint-30/generation_config.json\n",
      "[INFO|modeling_utils.py:2799] 2024-10-21 12:30:08,860 >> Model weights saved in outputs_stories/checkpoint-30/model.safetensors\n",
      "[INFO|tokenization_utils_base.py:2684] 2024-10-21 12:30:08,861 >> tokenizer config file saved in outputs_stories/checkpoint-30/tokenizer_config.json\n",
      "[INFO|tokenization_utils_base.py:2693] 2024-10-21 12:30:08,861 >> Special tokens file saved in outputs_stories/checkpoint-30/special_tokens_map.json\n",
      "[INFO|trainer.py:2394] 2024-10-21 12:30:17,030 >> \n",
      "\n",
      "Training completed. Do not forget to share your model on huggingface.co/models =)\n",
      "\n",
      "\n",
      "{'train_runtime': 17.9932, 'train_samples_per_second': 1.667, 'train_steps_per_second': 1.667, 'train_loss': 1.5690268198649089, 'epoch': 5.0}\n",
      "100% 30/30 [00:17<00:00,  1.67it/s]\n",
      "[INFO|trainer.py:3503] 2024-10-21 12:30:17,031 >> Saving model checkpoint to outputs_stories\n",
      "[INFO|configuration_utils.py:472] 2024-10-21 12:30:17,032 >> Configuration saved in outputs_stories/config.json\n",
      "[INFO|configuration_utils.py:807] 2024-10-21 12:30:17,033 >> Configuration saved in outputs_stories/generation_config.json\n",
      "[INFO|modeling_utils.py:2799] 2024-10-21 12:30:22,249 >> Model weights saved in outputs_stories/model.safetensors\n",
      "[INFO|tokenization_utils_base.py:2684] 2024-10-21 12:30:22,250 >> tokenizer config file saved in outputs_stories/tokenizer_config.json\n",
      "[INFO|tokenization_utils_base.py:2693] 2024-10-21 12:30:22,250 >> Special tokens file saved in outputs_stories/special_tokens_map.json\n",
      "***** train metrics *****\n",
      "  epoch                    =        5.0\n",
      "  total_flos               =    51895GF\n",
      "  train_loss               =      1.569\n",
      "  train_runtime            = 0:00:17.99\n",
      "  train_samples            =          6\n",
      "  train_samples_per_second =      1.667\n",
      "  train_steps_per_second   =      1.667\n",
      "10/21/2024 12:30:22 - INFO - __main__ - *** Evaluate ***\n",
      "[INFO|trainer.py:3819] 2024-10-21 12:30:22,300 >> \n",
      "***** Running Evaluation *****\n",
      "[INFO|trainer.py:3821] 2024-10-21 12:30:22,300 >>   Num examples = 6\n",
      "[INFO|trainer.py:3824] 2024-10-21 12:30:22,300 >>   Batch size = 1\n",
      "100% 6/6 [00:00<00:00, 17.19it/s]\n",
      "***** eval metrics *****\n",
      "  epoch                   =        5.0\n",
      "  eval_accuracy           =     0.9265\n",
      "  eval_loss               =      0.286\n",
      "  eval_runtime            = 0:00:00.43\n",
      "  eval_samples            =          6\n",
      "  eval_samples_per_second =     13.885\n",
      "  eval_steps_per_second   =     13.885\n",
      "  perplexity              =     1.3312\n",
      "[INFO|modelcard.py:449] 2024-10-21 12:30:23,928 >> Dropping the following result as it does not have all the necessary fields:\n",
      "{'task': {'name': 'Causal Language Modeling', 'type': 'text-generation'}, 'metrics': [{'name': 'Accuracy', 'type': 'accuracy', 'value': 0.9265232974910395}]}\n"
     ]
    },
    {
     "name": "stderr",
     "output_type": "stream",
     "text": [
      "The attention mask and the pad token id were not set. As a consequence, you may observe unexpected behavior. Please pass your input's `attention_mask` to obtain reliable results.\n",
      "Setting `pad_token_id` to `eos_token_id`:50256 for open-end generation.\n",
      "The attention mask and the pad token id were not set. As a consequence, you may observe unexpected behavior. Please pass your input's `attention_mask` to obtain reliable results.\n",
      "Setting `pad_token_id` to `eos_token_id`:50256 for open-end generation.\n"
     ]
    },
    {
     "name": "stdout",
     "output_type": "stream",
     "text": [
      "START: \n",
      "Stephen wanted a cardigan for his birthday. Sally bought one\n",
      "GENERATED: \n",
      "Stephen wanted a cardigan for his birthday. Sally bought one for him. She wrapped it up. She wrote a note. She gave it to him! The end.\n",
      "TRUE: \n",
      "Stephen wanted a cardigan for his birthday. Sally bought one for him. She wrapped it up. She wrote a note. She gave it to him! The end.\n"
     ]
    },
    {
     "name": "stderr",
     "output_type": "stream",
     "text": [
      "The attention mask and the pad token id were not set. As a consequence, you may observe unexpected behavior. Please pass your input's `attention_mask` to obtain reliable results.\n",
      "Setting `pad_token_id` to `eos_token_id`:50256 for open-end generation.\n"
     ]
    },
    {
     "name": "stdout",
     "output_type": "stream",
     "text": [
      "START: \n",
      "Steven had gotten in trouble at school. He was in\n",
      "GENERATED: \n",
      "Steven had gotten in trouble at school. He was in trouble for writing on the wall. His friend helped him. The end.\n",
      "TRUE: \n",
      "Steven had gotten in trouble at school. He was in trouble for writing on the wall. He swore it was his friend that did the vandalism. Everyone thought Steven was telling a story. Eventually, his friend admitted to doing the writing. The end.\n"
     ]
    },
    {
     "name": "stderr",
     "output_type": "stream",
     "text": [
      "The attention mask and the pad token id were not set. As a consequence, you may observe unexpected behavior. Please pass your input's `attention_mask` to obtain reliable results.\n",
      "Setting `pad_token_id` to `eos_token_id`:50256 for open-end generation.\n"
     ]
    },
    {
     "name": "stdout",
     "output_type": "stream",
     "text": [
      "START: \n",
      "Zach was still feeling weak after having the flu. His\n",
      "GENERATED: \n",
      "Zach was still feeling weak after having the flu. His coach tried to work with him, but he wouldn't listen. The end.\n",
      "TRUE: \n",
      "Zach was still feeling weak after having the flu. His big soccer game was a week away. His coach still would not let him practice. The coach allowed him to do small exercises. Zach still did not feel well enough to play the next week either. The end.\n"
     ]
    },
    {
     "name": "stderr",
     "output_type": "stream",
     "text": [
      "The attention mask and the pad token id were not set. As a consequence, you may observe unexpected behavior. Please pass your input's `attention_mask` to obtain reliable results.\n",
      "Setting `pad_token_id` to `eos_token_id`:50256 for open-end generation.\n"
     ]
    },
    {
     "name": "stdout",
     "output_type": "stream",
     "text": [
      "START: \n",
      "Richard needed special shoes as he had a foot slightly\n",
      "GENERATED: \n",
      "Richard needed special shoes as he had a foot slightly deformed. He had to have them made to look normal. The shoe was a very big deal to him. He wore it every day. The end.\n",
      "TRUE: \n",
      "Richard needed special shoes as he had a foot slightly deformed. It took him a long time to find a new pair. When he finally found one, he celebrated by going to the fair. He went on a roller coaster that turned upside down. But before the ride was over, one of Richard's shoe fell and he swore! The end.\n"
     ]
    },
    {
     "name": "stderr",
     "output_type": "stream",
     "text": [
      "The attention mask and the pad token id were not set. As a consequence, you may observe unexpected behavior. Please pass your input's `attention_mask` to obtain reliable results.\n",
      "Setting `pad_token_id` to `eos_token_id`:50256 for open-end generation.\n"
     ]
    },
    {
     "name": "stdout",
     "output_type": "stream",
     "text": [
      "START: \n",
      "Jessie really liked singing. She signed up for a big\n",
      "GENERATED: \n",
      "Jessie really liked singing. She signed up for a big choir in her neighborhood. She was nervous but excited. The end.\n",
      "TRUE: \n",
      "Jessie really liked singing. She signed up for a big choir in her neighborhood. When she arrived there all the members were very old. As she was only sixteen she felt out of place. But as they all loved singing in didn't matter in the end. The end.\n"
     ]
    },
    {
     "name": "stderr",
     "output_type": "stream",
     "text": [
      "The attention mask and the pad token id were not set. As a consequence, you may observe unexpected behavior. Please pass your input's `attention_mask` to obtain reliable results.\n",
      "Setting `pad_token_id` to `eos_token_id`:50256 for open-end generation.\n"
     ]
    },
    {
     "name": "stdout",
     "output_type": "stream",
     "text": [
      "START: \n",
      "I had a friend named Ronin who lived with his\n",
      "GENERATED: \n",
      "I had a friend named Ronin who lived with his mom. He was very sensitive and sensitive. His mom tried to convince him to be more sensitive. But he wouldn't listen. The end.\n",
      "TRUE: \n",
      "I had a friend named Ronin who lived with his mom. He was pretty intense, and worked out every day. One day his mom enrolled him in Kendo. Ronin worked very hard in Kendo. That year he won the state competition in Kendo. The end.\n"
     ]
    },
    {
     "name": "stderr",
     "output_type": "stream",
     "text": [
      "The attention mask and the pad token id were not set. As a consequence, you may observe unexpected behavior. Please pass your input's `attention_mask` to obtain reliable results.\n",
      "Setting `pad_token_id` to `eos_token_id`:50256 for open-end generation.\n"
     ]
    },
    {
     "name": "stdout",
     "output_type": "stream",
     "text": [
      "START: \n",
      "Brain is the varsity basketball coach for the boy's team.\n",
      "GENERATED: \n",
      "Brain is the varsity basketball coach for the boy's team. He loves his job but the team isn't very good. He decides to give them some drills to work on. The team is very good and they work extremely hard. The end.\n",
      "TRUE: \n",
      "Brain is the varsity basketball coach for the boy's team. He loves his job but the team isn't very good. He gave them some drills to work on from his old college days. He worked with them for half of the season on these drills. By the second half of the season the team looked much better. The end.\n"
     ]
    },
    {
     "name": "stderr",
     "output_type": "stream",
     "text": [
      "The attention mask and the pad token id were not set. As a consequence, you may observe unexpected behavior. Please pass your input's `attention_mask` to obtain reliable results.\n",
      "Setting `pad_token_id` to `eos_token_id`:50256 for open-end generation.\n"
     ]
    },
    {
     "name": "stdout",
     "output_type": "stream",
     "text": [
      "START: \n",
      "Suzy turned 18. She decided she needed a bank account.\n",
      "GENERATED: \n",
      "Suzy turned 18. She decided she needed a bank account. She went over to the bank. They helped her open an account. The end.\n",
      "TRUE: \n",
      "Suzy turned 18. She decided she needed a bank account. So she went over to the bank. They helped her open an account. She was happy she opened one. The end.\n"
     ]
    },
    {
     "name": "stderr",
     "output_type": "stream",
     "text": [
      "The attention mask and the pad token id were not set. As a consequence, you may observe unexpected behavior. Please pass your input's `attention_mask` to obtain reliable results.\n",
      "Setting `pad_token_id` to `eos_token_id`:50256 for open-end generation.\n"
     ]
    },
    {
     "name": "stdout",
     "output_type": "stream",
     "text": [
      "START: \n",
      "Dylan bargained with the shopkeeper on the price of the\n",
      "GENERATED: \n",
      "Dylan bargained with the shopkeeper on the price of the rug. He got the price down to 800 krueng. Dylan then went to the fair. The end.\n",
      "TRUE: \n",
      "Dylan bargained with the shopkeeper on the price of the rug. He got the price down to 800 krueng. Dylan was very proud of himself. Then his guide told him that rug normally cost only 300 krueng. Dylan was furious, and ran back to find the shopkeeper. The end.\n"
     ]
    },
    {
     "name": "stderr",
     "output_type": "stream",
     "text": [
      "The attention mask and the pad token id were not set. As a consequence, you may observe unexpected behavior. Please pass your input's `attention_mask` to obtain reliable results.\n",
      "Setting `pad_token_id` to `eos_token_id`:50256 for open-end generation.\n"
     ]
    },
    {
     "name": "stdout",
     "output_type": "stream",
     "text": [
      "START: \n",
      "Mike was to star in a broadway play on Saturday.\n",
      "GENERATED: \n",
      "Mike was to star in a broadway play on Saturday. He didn't know who to ask for advice. He figured it was best not to waste his time. Instead, he went to the library. The play was rescheduled for next week. The end.\n",
      "TRUE: \n",
      "Mike was to star in a broadway play on Saturday. He had the flu but planned on performing regardless. He was rehearsing prior to the show when he fainted. The ambulance had to take him to the hospital. The play has been rescheduled for next week. The end.\n"
     ]
    },
    {
     "name": "stderr",
     "output_type": "stream",
     "text": [
      "The attention mask and the pad token id were not set. As a consequence, you may observe unexpected behavior. Please pass your input's `attention_mask` to obtain reliable results.\n",
      "Setting `pad_token_id` to `eos_token_id`:50256 for open-end generation.\n"
     ]
    },
    {
     "name": "stdout",
     "output_type": "stream",
     "text": [
      "START: \n",
      "Robert had been trying to think of ways to bond\n",
      "GENERATED: \n",
      "Robert had been trying to think of ways to bond with his wife, Norma. She was very sensitive and sensitive, and had a lot of issues showing emotion. One of the things that had brought them together had been a kiss. The end.\n",
      "TRUE: \n",
      "Robert had been trying to think of ways to bond with his wife, Norma. She had become a bit distant lately due to stress and work. One of the things that had brought them together had been animation. He showed her a collect The end.\n"
     ]
    },
    {
     "name": "stderr",
     "output_type": "stream",
     "text": [
      "The attention mask and the pad token id were not set. As a consequence, you may observe unexpected behavior. Please pass your input's `attention_mask` to obtain reliable results.\n",
      "Setting `pad_token_id` to `eos_token_id`:50256 for open-end generation.\n"
     ]
    },
    {
     "name": "stdout",
     "output_type": "stream",
     "text": [
      "START: \n",
      "Living in the middle of rural Montana meant long bus\n",
      "GENERATED: \n",
      "Living in the middle of rural Montana meant long bus rides for him. He had to get there early to take a Greyhound bus to his parents for his birthday. The end.\n",
      "TRUE: \n",
      "Living in the middle of rural Montana meant long bus rides for Justin. This journey was with his high school soccer team to play a game. After 16 hours his leg was shook by a teammate & they got off the bus. Locker room, c The end.\n"
     ]
    },
    {
     "name": "stderr",
     "output_type": "stream",
     "text": [
      "The attention mask and the pad token id were not set. As a consequence, you may observe unexpected behavior. Please pass your input's `attention_mask` to obtain reliable results.\n",
      "Setting `pad_token_id` to `eos_token_id`:50256 for open-end generation.\n"
     ]
    },
    {
     "name": "stdout",
     "output_type": "stream",
     "text": [
      "START: \n",
      "After the halftime show of the 2013 Superbowl, the power\n",
      "GENERATED: \n",
      "After the halftime show of the 2013 Superbowl, the power went out. The game was halted for a half hour. The halftime show was rescheduled for next week. The end.\n",
      "TRUE: \n",
      "After the halftime show of the 2013 Superbowl, the power went out. It only partially went out, but the game was halted for a half hour. Afterwards, people would ask the attendees if it was scary. It wasn't, but the halftim The end.\n"
     ]
    },
    {
     "name": "stderr",
     "output_type": "stream",
     "text": [
      "The attention mask and the pad token id were not set. As a consequence, you may observe unexpected behavior. Please pass your input's `attention_mask` to obtain reliable results.\n",
      "Setting `pad_token_id` to `eos_token_id`:50256 for open-end generation.\n"
     ]
    },
    {
     "name": "stdout",
     "output_type": "stream",
     "text": [
      "START: \n",
      "Malory was always a beautiful women growing up, she had\n",
      "GENERATED: \n",
      "Malory was always a beautiful women growing up, she had the looks. She was slim and trim, with a perfect body. She had the looks. She was almost a model herself. She was known for her big ears. Her classmates teased her and mocked her. Eventually they got on the same page. The end.\n",
      "TRUE: \n",
      "Malory was always a beautiful women growing up, she had the looks. She was not good in school but she didn't care she didn't need it. She was coasting on her looks, wanting to become a model. She started doing music videos The end.\n"
     ]
    },
    {
     "name": "stderr",
     "output_type": "stream",
     "text": [
      "The attention mask and the pad token id were not set. As a consequence, you may observe unexpected behavior. Please pass your input's `attention_mask` to obtain reliable results.\n",
      "Setting `pad_token_id` to `eos_token_id`:50256 for open-end generation.\n"
     ]
    },
    {
     "name": "stdout",
     "output_type": "stream",
     "text": [
      "START: \n",
      "When Les went to pick up his dry cleaning, he\n",
      "GENERATED: \n",
      "When Les went to pick up his dry cleaning, he ran into a big problem. He noticed a large white stain on one of his expensive suit jackets. Les knew that one day one of his jackets would get worse. Les knew that one day one of his buttons would be pressed. Les knew that button was very sensitive. Les tried to think of a solution. Les found one. Les used it every time he went to the cleaners. The end.\n",
      "TRUE: \n",
      "When Les went to pick up his dry cleaning, he ran into a big problem. He noticed a large white stain on one of his expensive suit jackets. The owner of the cleaners said it must have been there beforehand. Les knew they we The end.\n"
     ]
    },
    {
     "name": "stderr",
     "output_type": "stream",
     "text": [
      "The attention mask and the pad token id were not set. As a consequence, you may observe unexpected behavior. Please pass your input's `attention_mask` to obtain reliable results.\n",
      "Setting `pad_token_id` to `eos_token_id`:50256 for open-end generation.\n"
     ]
    },
    {
     "name": "stdout",
     "output_type": "stream",
     "text": [
      "START: \n",
      "Sally was a serious shopper and always has coupons. Once,\n",
      "GENERATED: \n",
      "Sally was a serious shopper and always has coupons. Once, when she was about to check out, she was missing her coupons. She was at a store she visited every week, and every time she comes back, the manager is kind and kind. The end.\n",
      "TRUE: \n",
      "Sally was a serious shopper and always has coupons. Once, when she was about to check out, she was missing her coupons. She was at a store she visited every week, and the manager knew her. Since Sally had always been nice, The end.\n"
     ]
    },
    {
     "name": "stderr",
     "output_type": "stream",
     "text": [
      "The attention mask and the pad token id were not set. As a consequence, you may observe unexpected behavior. Please pass your input's `attention_mask` to obtain reliable results.\n",
      "Setting `pad_token_id` to `eos_token_id`:50256 for open-end generation.\n"
     ]
    },
    {
     "name": "stdout",
     "output_type": "stream",
     "text": [
      "START: \n",
      "Jenny's elementary school was holding a carnival and raffle. Jenny\n",
      "GENERATED: \n",
      "Jenny's elementary school was holding a carnival and raffle. Jenny was excited about it. Jenny went to the fair. Jenny saw a raffle prize raffle prize was up for grabs. Jenny spent all of her m The end.\n",
      "TRUE: \n",
      "Jenny's elementary school was holding a carnival and raffle. Jenny saw that one of the prizes for the raffle was a teddy bear. Jenny really wanted the teddy bear being offered for the raffle prize. Jenny spent all of her m The end.\n"
     ]
    },
    {
     "name": "stderr",
     "output_type": "stream",
     "text": [
      "The attention mask and the pad token id were not set. As a consequence, you may observe unexpected behavior. Please pass your input's `attention_mask` to obtain reliable results.\n",
      "Setting `pad_token_id` to `eos_token_id`:50256 for open-end generation.\n"
     ]
    },
    {
     "name": "stdout",
     "output_type": "stream",
     "text": [
      "START: \n",
      "Mary was an animal care specialist at a dog and\n",
      "GENERATED: \n",
      "Mary was an animal care specialist at a dog and cat rescue shelter. She could usually work with even the most frightened animals. But one day her breath got really bad. She had to take a long time getting it under control. Luckily her dog helped her and calmed her down. The end.\n",
      "TRUE: \n",
      "Mary was an animal care specialist at a dog and cat rescue shelter. She could usually work with even the most frightened animals. However, a scared mother dog almost proved too much for Mary. She snapped and bit at Mary's  The end.\n"
     ]
    },
    {
     "name": "stderr",
     "output_type": "stream",
     "text": [
      "The attention mask and the pad token id were not set. As a consequence, you may observe unexpected behavior. Please pass your input's `attention_mask` to obtain reliable results.\n",
      "Setting `pad_token_id` to `eos_token_id`:50256 for open-end generation.\n"
     ]
    },
    {
     "name": "stdout",
     "output_type": "stream",
     "text": [
      "START: \n",
      "Stu had seriously miscalculated the time his trip would take.\n",
      "GENERATED: \n",
      "Stu had seriously miscalculated the time his trip would take. He had planned on making it to the next town. But when he got there, he realized it was already too late. The end.\n",
      "TRUE: \n",
      "Stu had seriously miscalculated the time his trip would take. He had a cooler full of frozen items in ice in the back of the car. It sat almost a day in the sun with temperatures near triple digits. All of the food inside  The end.\n"
     ]
    },
    {
     "name": "stderr",
     "output_type": "stream",
     "text": [
      "The attention mask and the pad token id were not set. As a consequence, you may observe unexpected behavior. Please pass your input's `attention_mask` to obtain reliable results.\n",
      "Setting `pad_token_id` to `eos_token_id`:50256 for open-end generation.\n"
     ]
    },
    {
     "name": "stdout",
     "output_type": "stream",
     "text": [
      "START: \n",
      "Norma loved to drink sweet tea and was buying expensive\n",
      "GENERATED: \n",
      "Norma loved to drink sweet tea and was buying expensive bottles of it. She finally had to start making it for herself. She used a rotary phone to control the machine. The end.\n",
      "TRUE: \n",
      "Norma loved to drink sweet tea and was buying expensive bottles of it. She finally had to start making it for herself to save money. She remembered her grandmother making it in a jar out in the sun. She got some tea bags,  The end.\n"
     ]
    },
    {
     "name": "stderr",
     "output_type": "stream",
     "text": [
      "The attention mask and the pad token id were not set. As a consequence, you may observe unexpected behavior. Please pass your input's `attention_mask` to obtain reliable results.\n",
      "Setting `pad_token_id` to `eos_token_id`:50256 for open-end generation.\n"
     ]
    },
    {
     "name": "stdout",
     "output_type": "stream",
     "text": [
      "START: \n",
      "I was at my aunt's house. I was shooting a\n",
      "GENERATED: \n",
      "I was at my aunt's house. I was shooting a bottle with a gun. I kept missing. I tried to think of a solution. I finally came up with this. The end.\n",
      "TRUE: \n",
      "I was at my aunt's house. I was shooting a bottle with a gun. I kept missing. The sight was off. Adjusting my aim helped. Josh bought a new power tool. It broke within a week. Josh had lost the receipt. He still tried to r The end.\n"
     ]
    },
    {
     "name": "stderr",
     "output_type": "stream",
     "text": [
      "The attention mask and the pad token id were not set. As a consequence, you may observe unexpected behavior. Please pass your input's `attention_mask` to obtain reliable results.\n",
      "Setting `pad_token_id` to `eos_token_id`:50256 for open-end generation.\n"
     ]
    },
    {
     "name": "stdout",
     "output_type": "stream",
     "text": [
      "START: \n",
      "The man shook the martini shaker. It sounded like it\n",
      "GENERATED: \n",
      "The man shook the martini shaker. It sounded like it needed ice. He added some ice. The martini shaker sounded like it needed ice. The ice fell on the floor. The floor became wet. The end.\n",
      "TRUE: \n",
      "The man shook the martini shaker. It sounded like it needed ice. He added some ice. He tasted it. It tasted watered down. When I say the word park, my dogs ears light up. He immediately runs to where the leash is and sits. The end.\n"
     ]
    },
    {
     "name": "stderr",
     "output_type": "stream",
     "text": [
      "The attention mask and the pad token id were not set. As a consequence, you may observe unexpected behavior. Please pass your input's `attention_mask` to obtain reliable results.\n",
      "Setting `pad_token_id` to `eos_token_id`:50256 for open-end generation.\n"
     ]
    },
    {
     "name": "stdout",
     "output_type": "stream",
     "text": [
      "START: \n",
      "Jody is bored. Jody doesn't know what to do. Jody\n",
      "GENERATED: \n",
      "Jody is bored. Jody doesn't know what to do. Jody thinks. Jody decides to go swimming. Jody enjoys a day of swimming. The end.\n",
      "TRUE: \n",
      "Jody is bored. Jody doesn't know what to do. Jody thinks. Jody decides to go swimming. Jody enjoys a day of swimming. Jane found out she had cancer and felt severely broken. As a result, she created a bucket list for her r The end.\n"
     ]
    },
    {
     "name": "stderr",
     "output_type": "stream",
     "text": [
      "The attention mask and the pad token id were not set. As a consequence, you may observe unexpected behavior. Please pass your input's `attention_mask` to obtain reliable results.\n",
      "Setting `pad_token_id` to `eos_token_id`:50256 for open-end generation.\n"
     ]
    },
    {
     "name": "stdout",
     "output_type": "stream",
     "text": [
      "START: \n",
      "Martha wanted diamonds. She asked her husband for them. He\n",
      "GENERATED: \n",
      "Martha wanted diamonds. She asked her husband for them. He said okay. Martha was very happy about it. The end.\n",
      "TRUE: \n",
      "Martha wanted diamonds. She asked her husband for them. He said okay. Martha was so excited. She picked out a bracelet. Sue felt a sharp pain in her wrist. Her wrist was hurting from working too much on the computer. Sue b The end.\n"
     ]
    },
    {
     "name": "stderr",
     "output_type": "stream",
     "text": [
      "The attention mask and the pad token id were not set. As a consequence, you may observe unexpected behavior. Please pass your input's `attention_mask` to obtain reliable results.\n",
      "Setting `pad_token_id` to `eos_token_id`:50256 for open-end generation.\n"
     ]
    },
    {
     "name": "stdout",
     "output_type": "stream",
     "text": [
      "START: \n",
      "The man was cooking. He knocked over some oil. The\n",
      "GENERATED: \n",
      "The man was cooking. He knocked over some oil. The oil fell on the floor. The floor was wet. The oil fell on the floor. The end.\n",
      "TRUE: \n",
      "The man was cooking. He knocked over some oil. The oil fell on the floor. He did not notice. He slipped on the oil. Igor's son wanted to know what happened to a body at death. He tried to think of a way to explain it. Igor The end.\n"
     ]
    },
    {
     "name": "stderr",
     "output_type": "stream",
     "text": [
      "The attention mask and the pad token id were not set. As a consequence, you may observe unexpected behavior. Please pass your input's `attention_mask` to obtain reliable results.\n",
      "Setting `pad_token_id` to `eos_token_id`:50256 for open-end generation.\n"
     ]
    },
    {
     "name": "stdout",
     "output_type": "stream",
     "text": [
      "START: \n",
      "The floor was wet. Bob slipped on it. He got\n",
      "GENERATED: \n",
      "The floor was wet. Bob slipped on it. He got a bad burn. He filed a lawsuit. The end.\n",
      "TRUE: \n",
      "The floor was wet. Bob slipped on it. He got an injury. He filed a lawsuit. He was awarded some money. Patty had a whole bunch of oranges. She was really thirsty. She put them in a juicer. She drank the orange juice. She s The end.\n"
     ]
    },
    {
     "name": "stderr",
     "output_type": "stream",
     "text": [
      "The attention mask and the pad token id were not set. As a consequence, you may observe unexpected behavior. Please pass your input's `attention_mask` to obtain reliable results.\n",
      "Setting `pad_token_id` to `eos_token_id`:50256 for open-end generation.\n"
     ]
    },
    {
     "name": "stdout",
     "output_type": "stream",
     "text": [
      "START: \n",
      "The man hung a hammock. He laid in it. The\n",
      "GENERATED: \n",
      "The man hung a hammock. He laid in it. The hammock fell down. He hit his head. The hammock fell down. He hit the floor. The hammock fell down. He hit another body. The end.\n",
      "TRUE: \n",
      "The man hung a hammock. He laid in it. The hammock fell down. He hit his head. He was unconscious for several minutes. All of the male members of the Jameson family were in the Navy. The youngest male, Steve, decided to jo The end.\n"
     ]
    },
    {
     "name": "stderr",
     "output_type": "stream",
     "text": [
      "The attention mask and the pad token id were not set. As a consequence, you may observe unexpected behavior. Please pass your input's `attention_mask` to obtain reliable results.\n",
      "Setting `pad_token_id` to `eos_token_id`:50256 for open-end generation.\n"
     ]
    },
    {
     "name": "stdout",
     "output_type": "stream",
     "text": [
      "START: \n",
      "I was going down the road. I saw a wreck.\n",
      "GENERATED: \n",
      "I was going down the road. I saw a wreck. I stopped and looked at the wreck. It looked dangerous. I decided to turn around. The end.\n",
      "TRUE: \n",
      "I was going down the road. I saw a wreck. I saw one car hit another. It spun around a couple times. It looked dangerous. Tim was feeling a bit down. He had taken all his mood medicine too fast. He wasn't able to get more u The end.\n"
     ]
    },
    {
     "name": "stderr",
     "output_type": "stream",
     "text": [
      "The attention mask and the pad token id were not set. As a consequence, you may observe unexpected behavior. Please pass your input's `attention_mask` to obtain reliable results.\n",
      "Setting `pad_token_id` to `eos_token_id`:50256 for open-end generation.\n"
     ]
    },
    {
     "name": "stdout",
     "output_type": "stream",
     "text": [
      "START: \n",
      "Rosie woke up early. She was starved. She needed food.\n",
      "GENERATED: \n",
      "Rosie woke up early. She was starved. She needed food. She made some. She ate it. The end.\n",
      "TRUE: \n",
      "Rosie woke up early. She was starved. She needed food. So she made some. She ate a whole platter. Paul loved to play tennis. He did not know anyone else that would play with him. At the gym he overheard another guy talking The end.\n",
      "START: \n",
      "Aaron loved the band Rush. The band was coming on\n",
      "GENERATED: \n",
      "Aaron loved the band Rush. The band was coming on tour. He bought a ticket. He went to the show. The show was great. The end.\n",
      "TRUE: \n",
      "Aaron loved the band Rush. The band was coming on tour. He bought a ticket. His dad went with him. They had a blast! Sally was looking for a new car. She wasn't very rich. She decided to try a local dealer. The dealer work The end.\n",
      "0\n",
      "-127\n",
      "-134\n",
      "-131\n",
      "-131\n",
      "-57\n",
      "-85\n",
      "-33\n",
      "-124\n",
      "-41\n",
      "-8\n",
      "-72\n",
      "-70\n",
      "51\n",
      "171\n",
      "1\n",
      "-29\n",
      "48\n",
      "-55\n",
      "-56\n",
      "-84\n",
      "-43\n",
      "-105\n",
      "-121\n",
      "-103\n",
      "-146\n",
      "-59\n",
      "-99\n",
      "-141\n",
      "-106\n"
     ]
    },
    {
     "data": {
      "image/png": "[encoded data removed]",
      "text/plain": [
       "<Figure size 640x480 with 1 Axes>"
      ]
     },
     "metadata": {},
     "output_type": "display_data"
    },
    {
     "name": "stdout",
     "output_type": "stream",
     "text": [
      "222\n",
      "2024-10-21 12:32:50.580429: E external/local_xla/xla/stream_executor/cuda/cuda_fft.cc:485] Unable to register cuFFT factory: Attempting to register factory for plugin cuFFT when one has already been registered\n",
      "2024-10-21 12:32:50.601935: E external/local_xla/xla/stream_executor/cuda/cuda_dnn.cc:8454] Unable to register cuDNN factory: Attempting to register factory for plugin cuDNN when one has already been registered\n",
      "2024-10-21 12:32:50.608484: E external/local_xla/xla/stream_executor/cuda/cuda_blas.cc:1452] Unable to register cuBLAS factory: Attempting to register factory for plugin cuBLAS when one has already been registered\n",
      "2024-10-21 12:32:51.833044: W tensorflow/compiler/tf2tensorrt/utils/py_utils.cc:38] TF-TRT Warning: Could not find TensorRT\n",
      "10/21/2024 12:32:54 - WARNING - __main__ - Process rank: 0, device: cuda:0, n_gpu: 1distributed training: False, 16-bits training: False\n",
      "10/21/2024 12:32:54 - INFO - __main__ - Training/evaluation parameters TrainingArguments(\n",
      "_n_gpu=1,\n",
      "accelerator_config={'split_batches': False, 'dispatch_batches': None, 'even_batches': True, 'use_seedable_sampler': True, 'non_blocking': False, 'gradient_accumulation_kwargs': None, 'use_configured_state': False},\n",
      "adafactor=False,\n",
      "adam_beta1=0.9,\n",
      "adam_beta2=0.999,\n",
      "adam_epsilon=1e-08,\n",
      "auto_find_batch_size=False,\n",
      "batch_eval_metrics=False,\n",
      "bf16=False,\n",
      "bf16_full_eval=False,\n",
      "data_seed=None,\n",
      "dataloader_drop_last=False,\n",
      "dataloader_num_workers=0,\n",
      "dataloader_persistent_workers=False,\n",
      "dataloader_pin_memory=True,\n",
      "dataloader_prefetch_factor=None,\n",
      "ddp_backend=None,\n",
      "ddp_broadcast_buffers=None,\n",
      "ddp_bucket_cap_mb=None,\n",
      "ddp_find_unused_parameters=None,\n",
      "ddp_timeout=1800,\n",
      "debug=[],\n",
      "deepspeed=None,\n",
      "disable_tqdm=False,\n",
      "dispatch_batches=None,\n",
      "do_eval=True,\n",
      "do_predict=False,\n",
      "do_train=True,\n",
      "eval_accumulation_steps=None,\n",
      "eval_delay=0,\n",
      "eval_do_concat_batches=True,\n",
      "eval_on_start=False,\n",
      "eval_steps=None,\n",
      "eval_strategy=no,\n",
      "eval_use_gather_object=False,\n",
      "evaluation_strategy=None,\n",
      "fp16=False,\n",
      "fp16_backend=auto,\n",
      "fp16_full_eval=False,\n",
      "fp16_opt_level=O1,\n",
      "fsdp=[],\n",
      "fsdp_config={'min_num_params': 0, 'xla': False, 'xla_fsdp_v2': False, 'xla_fsdp_grad_ckpt': False},\n",
      "fsdp_min_num_params=0,\n",
      "fsdp_transformer_layer_cls_to_wrap=None,\n",
      "full_determinism=False,\n",
      "gradient_accumulation_steps=1,\n",
      "gradient_checkpointing=False,\n",
      "gradient_checkpointing_kwargs=None,\n",
      "greater_is_better=None,\n",
      "group_by_length=False,\n",
      "half_precision_backend=auto,\n",
      "hub_always_push=False,\n",
      "hub_model_id=None,\n",
      "hub_private_repo=False,\n",
      "hub_strategy=every_save,\n",
      "hub_token=<HUB_TOKEN>,\n",
      "ignore_data_skip=False,\n",
      "include_inputs_for_metrics=False,\n",
      "include_num_input_tokens_seen=False,\n",
      "include_tokens_per_second=False,\n",
      "jit_mode_eval=False,\n",
      "label_names=None,\n",
      "label_smoothing_factor=0.0,\n",
      "learning_rate=0.0005,\n",
      "length_column_name=length,\n",
      "load_best_model_at_end=False,\n",
      "local_rank=0,\n",
      "log_level=passive,\n",
      "log_level_replica=warning,\n",
      "log_on_each_node=True,\n",
      "logging_dir=outputs_stories/runs/Oct21_12-32-54_f910dfa8e9d3,\n",
      "logging_first_step=False,\n",
      "logging_nan_inf_filter=True,\n",
      "logging_steps=500,\n",
      "logging_strategy=steps,\n",
      "lr_scheduler_kwargs={},\n",
      "lr_scheduler_type=linear,\n",
      "max_grad_norm=1.0,\n",
      "max_steps=-1,\n",
      "metric_for_best_model=None,\n",
      "mp_parameters=,\n",
      "neftune_noise_alpha=None,\n",
      "no_cuda=False,\n",
      "num_train_epochs=5.0,\n",
      "optim=adamw_torch,\n",
      "optim_args=None,\n",
      "optim_target_modules=None,\n",
      "output_dir=outputs_stories,\n",
      "overwrite_output_dir=True,\n",
      "past_index=-1,\n",
      "per_device_eval_batch_size=1,\n",
      "per_device_train_batch_size=1,\n",
      "prediction_loss_only=False,\n",
      "push_to_hub=False,\n",
      "push_to_hub_model_id=None,\n",
      "push_to_hub_organization=None,\n",
      "push_to_hub_token=<PUSH_TO_HUB_TOKEN>,\n",
      "ray_scope=last,\n",
      "remove_unused_columns=True,\n",
      "report_to=[],\n",
      "restore_callback_states_from_checkpoint=False,\n",
      "resume_from_checkpoint=None,\n",
      "run_name=outputs_stories,\n",
      "save_on_each_node=False,\n",
      "save_only_model=False,\n",
      "save_safetensors=True,\n",
      "save_steps=1000,\n",
      "save_strategy=steps,\n",
      "save_total_limit=None,\n",
      "seed=42,\n",
      "skip_memory_metrics=True,\n",
      "split_batches=None,\n",
      "tf32=None,\n",
      "torch_compile=False,\n",
      "torch_compile_backend=None,\n",
      "torch_compile_mode=None,\n",
      "torch_empty_cache_steps=None,\n",
      "torchdynamo=None,\n",
      "tpu_metrics_debug=False,\n",
      "tpu_num_cores=None,\n",
      "use_cpu=False,\n",
      "use_ipex=False,\n",
      "use_legacy_prediction_loop=False,\n",
      "use_mps_device=False,\n",
      "warmup_ratio=0.0,\n",
      "warmup_steps=0,\n",
      "weight_decay=0.0,\n",
      ")\n",
      "Using custom data configuration default-a3acab5d3e40758c\n",
      "10/21/2024 12:32:54 - INFO - datasets.builder - Using custom data configuration default-a3acab5d3e40758c\n",
      "Loading Dataset Infos from /usr/local/lib/python3.10/dist-packages/datasets/packaged_modules/text\n",
      "10/21/2024 12:32:54 - INFO - datasets.info - Loading Dataset Infos from /usr/local/lib/python3.10/dist-packages/datasets/packaged_modules/text\n",
      "Generating dataset text (/root/.cache/huggingface/datasets/text/default-a3acab5d3e40758c/0.0.0/37eaf37ac90527a7fd768c94b312ee84f8815c9b7ac00acf81c1c364e8392f99)\n",
      "10/21/2024 12:32:54 - INFO - datasets.builder - Generating dataset text (/root/.cache/huggingface/datasets/text/default-a3acab5d3e40758c/0.0.0/37eaf37ac90527a7fd768c94b312ee84f8815c9b7ac00acf81c1c364e8392f99)\n",
      "Downloading and preparing dataset text/default to /root/.cache/huggingface/datasets/text/default-a3acab5d3e40758c/0.0.0/37eaf37ac90527a7fd768c94b312ee84f8815c9b7ac00acf81c1c364e8392f99...\n",
      "10/21/2024 12:32:54 - INFO - datasets.builder - Downloading and preparing dataset text/default to /root/.cache/huggingface/datasets/text/default-a3acab5d3e40758c/0.0.0/37eaf37ac90527a7fd768c94b312ee84f8815c9b7ac00acf81c1c364e8392f99...\n",
      "Downloading took 0.0 min\n",
      "10/21/2024 12:32:54 - INFO - datasets.download.download_manager - Downloading took 0.0 min\n",
      "Checksum Computation took 0.0 min\n",
      "10/21/2024 12:32:54 - INFO - datasets.download.download_manager - Checksum Computation took 0.0 min\n",
      "Generating train split\n",
      "10/21/2024 12:32:54 - INFO - datasets.builder - Generating train split\n",
      "Generating train split: 120 examples [00:00, 36767.95 examples/s]\n",
      "Generating validation split\n",
      "10/21/2024 12:32:54 - INFO - datasets.builder - Generating validation split\n",
      "Generating validation split: 120 examples [00:00, 118846.87 examples/s]\n",
      "Unable to verify splits sizes.\n",
      "10/21/2024 12:32:54 - INFO - datasets.utils.info_utils - Unable to verify splits sizes.\n",
      "Dataset text downloaded and prepared to /root/.cache/huggingface/datasets/text/default-a3acab5d3e40758c/0.0.0/37eaf37ac90527a7fd768c94b312ee84f8815c9b7ac00acf81c1c364e8392f99. Subsequent calls will reuse this data.\n",
      "10/21/2024 12:32:54 - INFO - datasets.builder - Dataset text downloaded and prepared to /root/.cache/huggingface/datasets/text/default-a3acab5d3e40758c/0.0.0/37eaf37ac90527a7fd768c94b312ee84f8815c9b7ac00acf81c1c364e8392f99. Subsequent calls will reuse this data.\n",
      "[INFO|configuration_utils.py:733] 2024-10-21 12:32:54,441 >> loading configuration file config.json from cache at /root/.cache/huggingface/hub/models--gpt2-medium/snapshots/6dcaa7a952f72f9298047fd5137cd6e4f05f41da/config.json\n",
      "[INFO|configuration_utils.py:800] 2024-10-21 12:32:54,442 >> Model config GPT2Config {\n",
      "  \"_name_or_path\": \"gpt2-medium\",\n",
      "  \"activation_function\": \"gelu_new\",\n",
      "  \"architectures\": [\n",
      "    \"GPT2LMHeadModel\"\n",
      "  ],\n",
      "  \"attn_pdrop\": 0.1,\n",
      "  \"bos_token_id\": 50256,\n",
      "  \"embd_pdrop\": 0.1,\n",
      "  \"eos_token_id\": 50256,\n",
      "  \"initializer_range\": 0.02,\n",
      "  \"layer_norm_epsilon\": 1e-05,\n",
      "  \"model_type\": \"gpt2\",\n",
      "  \"n_ctx\": 1024,\n",
      "  \"n_embd\": 1024,\n",
      "  \"n_head\": 16,\n",
      "  \"n_inner\": null,\n",
      "  \"n_layer\": 24,\n",
      "  \"n_positions\": 1024,\n",
      "  \"n_special\": 0,\n",
      "  \"predict_special_tokens\": true,\n",
      "  \"reorder_and_upcast_attn\": false,\n",
      "  \"resid_pdrop\": 0.1,\n",
      "  \"scale_attn_by_inverse_layer_idx\": false,\n",
      "  \"scale_attn_weights\": true,\n",
      "  \"summary_activation\": null,\n",
      "  \"summary_first_dropout\": 0.1,\n",
      "  \"summary_proj_to_labels\": true,\n",
      "  \"summary_type\": \"cls_index\",\n",
      "  \"summary_use_proj\": true,\n",
      "  \"task_specific_params\": {\n",
      "    \"text-generation\": {\n",
      "      \"do_sample\": true,\n",
      "      \"max_length\": 50\n",
      "    }\n",
      "  },\n",
      "  \"transformers_version\": \"4.44.2\",\n",
      "  \"use_cache\": true,\n",
      "  \"vocab_size\": 50257\n",
      "}\n",
      "\n",
      "[INFO|configuration_utils.py:733] 2024-10-21 12:32:54,552 >> loading configuration file config.json from cache at /root/.cache/huggingface/hub/models--gpt2-medium/snapshots/6dcaa7a952f72f9298047fd5137cd6e4f05f41da/config.json\n",
      "[INFO|configuration_utils.py:800] 2024-10-21 12:32:54,553 >> Model config GPT2Config {\n",
      "  \"_name_or_path\": \"gpt2-medium\",\n",
      "  \"activation_function\": \"gelu_new\",\n",
      "  \"architectures\": [\n",
      "    \"GPT2LMHeadModel\"\n",
      "  ],\n",
      "  \"attn_pdrop\": 0.1,\n",
      "  \"bos_token_id\": 50256,\n",
      "  \"embd_pdrop\": 0.1,\n",
      "  \"eos_token_id\": 50256,\n",
      "  \"initializer_range\": 0.02,\n",
      "  \"layer_norm_epsilon\": 1e-05,\n",
      "  \"model_type\": \"gpt2\",\n",
      "  \"n_ctx\": 1024,\n",
      "  \"n_embd\": 1024,\n",
      "  \"n_head\": 16,\n",
      "  \"n_inner\": null,\n",
      "  \"n_layer\": 24,\n",
      "  \"n_positions\": 1024,\n",
      "  \"n_special\": 0,\n",
      "  \"predict_special_tokens\": true,\n",
      "  \"reorder_and_upcast_attn\": false,\n",
      "  \"resid_pdrop\": 0.1,\n",
      "  \"scale_attn_by_inverse_layer_idx\": false,\n",
      "  \"scale_attn_weights\": true,\n",
      "  \"summary_activation\": null,\n",
      "  \"summary_first_dropout\": 0.1,\n",
      "  \"summary_proj_to_labels\": true,\n",
      "  \"summary_type\": \"cls_index\",\n",
      "  \"summary_use_proj\": true,\n",
      "  \"task_specific_params\": {\n",
      "    \"text-generation\": {\n",
      "      \"do_sample\": true,\n",
      "      \"max_length\": 50\n",
      "    }\n",
      "  },\n",
      "  \"transformers_version\": \"4.44.2\",\n",
      "  \"use_cache\": true,\n",
      "  \"vocab_size\": 50257\n",
      "}\n",
      "\n",
      "[INFO|tokenization_utils_base.py:2269] 2024-10-21 12:32:54,563 >> loading file vocab.json from cache at /root/.cache/huggingface/hub/models--gpt2-medium/snapshots/6dcaa7a952f72f9298047fd5137cd6e4f05f41da/vocab.json\n",
      "[INFO|tokenization_utils_base.py:2269] 2024-10-21 12:32:54,563 >> loading file merges.txt from cache at /root/.cache/huggingface/hub/models--gpt2-medium/snapshots/6dcaa7a952f72f9298047fd5137cd6e4f05f41da/merges.txt\n",
      "[INFO|tokenization_utils_base.py:2269] 2024-10-21 12:32:54,563 >> loading file tokenizer.json from cache at /root/.cache/huggingface/hub/models--gpt2-medium/snapshots/6dcaa7a952f72f9298047fd5137cd6e4f05f41da/tokenizer.json\n",
      "[INFO|tokenization_utils_base.py:2269] 2024-10-21 12:32:54,563 >> loading file added_tokens.json from cache at None\n",
      "[INFO|tokenization_utils_base.py:2269] 2024-10-21 12:32:54,563 >> loading file special_tokens_map.json from cache at None\n",
      "[INFO|tokenization_utils_base.py:2269] 2024-10-21 12:32:54,563 >> loading file tokenizer_config.json from cache at /root/.cache/huggingface/hub/models--gpt2-medium/snapshots/6dcaa7a952f72f9298047fd5137cd6e4f05f41da/tokenizer_config.json\n",
      "[INFO|configuration_utils.py:733] 2024-10-21 12:32:54,563 >> loading configuration file config.json from cache at /root/.cache/huggingface/hub/models--gpt2-medium/snapshots/6dcaa7a952f72f9298047fd5137cd6e4f05f41da/config.json\n",
      "[INFO|configuration_utils.py:800] 2024-10-21 12:32:54,564 >> Model config GPT2Config {\n",
      "  \"_name_or_path\": \"gpt2-medium\",\n",
      "  \"activation_function\": \"gelu_new\",\n",
      "  \"architectures\": [\n",
      "    \"GPT2LMHeadModel\"\n",
      "  ],\n",
      "  \"attn_pdrop\": 0.1,\n",
      "  \"bos_token_id\": 50256,\n",
      "  \"embd_pdrop\": 0.1,\n",
      "  \"eos_token_id\": 50256,\n",
      "  \"initializer_range\": 0.02,\n",
      "  \"layer_norm_epsilon\": 1e-05,\n",
      "  \"model_type\": \"gpt2\",\n",
      "  \"n_ctx\": 1024,\n",
      "  \"n_embd\": 1024,\n",
      "  \"n_head\": 16,\n",
      "  \"n_inner\": null,\n",
      "  \"n_layer\": 24,\n",
      "  \"n_positions\": 1024,\n",
      "  \"n_special\": 0,\n",
      "  \"predict_special_tokens\": true,\n",
      "  \"reorder_and_upcast_attn\": false,\n",
      "  \"resid_pdrop\": 0.1,\n",
      "  \"scale_attn_by_inverse_layer_idx\": false,\n",
      "  \"scale_attn_weights\": true,\n",
      "  \"summary_activation\": null,\n",
      "  \"summary_first_dropout\": 0.1,\n",
      "  \"summary_proj_to_labels\": true,\n",
      "  \"summary_type\": \"cls_index\",\n",
      "  \"summary_use_proj\": true,\n",
      "  \"task_specific_params\": {\n",
      "    \"text-generation\": {\n",
      "      \"do_sample\": true,\n",
      "      \"max_length\": 50\n",
      "    }\n",
      "  },\n",
      "  \"transformers_version\": \"4.44.2\",\n",
      "  \"use_cache\": true,\n",
      "  \"vocab_size\": 50257\n",
      "}\n",
      "\n",
      "/usr/local/lib/python3.10/dist-packages/transformers/tokenization_utils_base.py:1601: FutureWarning: `clean_up_tokenization_spaces` was not set. It will be set to `True` by default. This behavior will be depracted in transformers v4.45, and will be then set to `False` by default. For more details check this issue: https://github.com/huggingface/transformers/issues/31884\n",
      "  warnings.warn(\n",
      "[INFO|modeling_utils.py:3678] 2024-10-21 12:32:54,674 >> loading weights file model.safetensors from cache at /root/.cache/huggingface/hub/models--gpt2-medium/snapshots/6dcaa7a952f72f9298047fd5137cd6e4f05f41da/model.safetensors\n",
      "[INFO|configuration_utils.py:1038] 2024-10-21 12:32:54,685 >> Generate config GenerationConfig {\n",
      "  \"bos_token_id\": 50256,\n",
      "  \"eos_token_id\": 50256\n",
      "}\n",
      "\n",
      "[INFO|modeling_utils.py:4507] 2024-10-21 12:32:54,782 >> All model checkpoint weights were used when initializing GPT2LMHeadModel.\n",
      "\n",
      "[INFO|modeling_utils.py:4515] 2024-10-21 12:32:54,782 >> All the weights of GPT2LMHeadModel were initialized from the model checkpoint at gpt2-medium.\n",
      "If your task is similar to the task the model of the checkpoint was trained on, you can already use GPT2LMHeadModel for predictions without further training.\n",
      "[INFO|configuration_utils.py:993] 2024-10-21 12:32:54,839 >> loading configuration file generation_config.json from cache at /root/.cache/huggingface/hub/models--gpt2-medium/snapshots/6dcaa7a952f72f9298047fd5137cd6e4f05f41da/generation_config.json\n",
      "[INFO|configuration_utils.py:1038] 2024-10-21 12:32:54,840 >> Generate config GenerationConfig {\n",
      "  \"bos_token_id\": 50256,\n",
      "  \"eos_token_id\": 50256\n",
      "}\n",
      "\n",
      "Running tokenizer on dataset:   0% 0/120 [00:00<?, ? examples/s]Caching processed dataset at /root/.cache/huggingface/datasets/text/default-a3acab5d3e40758c/0.0.0/37eaf37ac90527a7fd768c94b312ee84f8815c9b7ac00acf81c1c364e8392f99/cache-1c24196461e1f0d2.arrow\n",
      "10/21/2024 12:32:54 - INFO - datasets.arrow_dataset - Caching processed dataset at /root/.cache/huggingface/datasets/text/default-a3acab5d3e40758c/0.0.0/37eaf37ac90527a7fd768c94b312ee84f8815c9b7ac00acf81c1c364e8392f99/cache-1c24196461e1f0d2.arrow\n",
      "Running tokenizer on dataset: 100% 120/120 [00:00<00:00, 8555.73 examples/s]\n",
      "Running tokenizer on dataset:   0% 0/120 [00:00<?, ? examples/s]Caching processed dataset at /root/.cache/huggingface/datasets/text/default-a3acab5d3e40758c/0.0.0/37eaf37ac90527a7fd768c94b312ee84f8815c9b7ac00acf81c1c364e8392f99/cache-2118be885034ffee.arrow\n",
      "10/21/2024 12:32:54 - INFO - datasets.arrow_dataset - Caching processed dataset at /root/.cache/huggingface/datasets/text/default-a3acab5d3e40758c/0.0.0/37eaf37ac90527a7fd768c94b312ee84f8815c9b7ac00acf81c1c364e8392f99/cache-2118be885034ffee.arrow\n",
      "Running tokenizer on dataset: 100% 120/120 [00:00<00:00, 11119.33 examples/s]\n",
      "Grouping texts in chunks of 1024:   0% 0/120 [00:00<?, ? examples/s]Caching processed dataset at /root/.cache/huggingface/datasets/text/default-a3acab5d3e40758c/0.0.0/37eaf37ac90527a7fd768c94b312ee84f8815c9b7ac00acf81c1c364e8392f99/cache-6fb4f88ab2ae02e8.arrow\n",
      "10/21/2024 12:32:54 - INFO - datasets.arrow_dataset - Caching processed dataset at /root/.cache/huggingface/datasets/text/default-a3acab5d3e40758c/0.0.0/37eaf37ac90527a7fd768c94b312ee84f8815c9b7ac00acf81c1c364e8392f99/cache-6fb4f88ab2ae02e8.arrow\n",
      "Grouping texts in chunks of 1024: 100% 120/120 [00:00<00:00, 9066.64 examples/s]\n",
      "Grouping texts in chunks of 1024:   0% 0/120 [00:00<?, ? examples/s]Caching processed dataset at /root/.cache/huggingface/datasets/text/default-a3acab5d3e40758c/0.0.0/37eaf37ac90527a7fd768c94b312ee84f8815c9b7ac00acf81c1c364e8392f99/cache-2520f370adf65034.arrow\n",
      "10/21/2024 12:32:54 - INFO - datasets.arrow_dataset - Caching processed dataset at /root/.cache/huggingface/datasets/text/default-a3acab5d3e40758c/0.0.0/37eaf37ac90527a7fd768c94b312ee84f8815c9b7ac00acf81c1c364e8392f99/cache-2520f370adf65034.arrow\n",
      "Grouping texts in chunks of 1024: 100% 120/120 [00:00<00:00, 9236.52 examples/s]\n",
      "/usr/local/lib/python3.10/dist-packages/transformers/utils/import_utils.py:575: FutureWarning: `is_torch_tpu_available` is deprecated and will be removed in 4.41.0. Please use the `is_torch_xla_available` instead.\n",
      "  warnings.warn(\n",
      "[INFO|trainer.py:2134] 2024-10-21 12:32:56,334 >> ***** Running training *****\n",
      "[INFO|trainer.py:2135] 2024-10-21 12:32:56,334 >>   Num examples = 6\n",
      "[INFO|trainer.py:2136] 2024-10-21 12:32:56,334 >>   Num Epochs = 5\n",
      "[INFO|trainer.py:2137] 2024-10-21 12:32:56,334 >>   Instantaneous batch size per device = 1\n",
      "[INFO|trainer.py:2140] 2024-10-21 12:32:56,334 >>   Total train batch size (w. parallel, distributed & accumulation) = 1\n",
      "[INFO|trainer.py:2141] 2024-10-21 12:32:56,334 >>   Gradient Accumulation steps = 1\n",
      "[INFO|trainer.py:2142] 2024-10-21 12:32:56,334 >>   Total optimization steps = 30\n",
      "[INFO|trainer.py:2143] 2024-10-21 12:32:56,335 >>   Number of trainable parameters = 354,823,168\n",
      "100% 30/30 [00:06<00:00,  5.09it/s][INFO|trainer.py:3503] 2024-10-21 12:33:03,182 >> Saving model checkpoint to outputs_stories/checkpoint-30\n",
      "[INFO|configuration_utils.py:472] 2024-10-21 12:33:03,183 >> Configuration saved in outputs_stories/checkpoint-30/config.json\n",
      "[INFO|configuration_utils.py:807] 2024-10-21 12:33:03,184 >> Configuration saved in outputs_stories/checkpoint-30/generation_config.json\n",
      "[INFO|modeling_utils.py:2799] 2024-10-21 12:33:06,214 >> Model weights saved in outputs_stories/checkpoint-30/model.safetensors\n",
      "[INFO|tokenization_utils_base.py:2684] 2024-10-21 12:33:06,215 >> tokenizer config file saved in outputs_stories/checkpoint-30/tokenizer_config.json\n",
      "[INFO|tokenization_utils_base.py:2693] 2024-10-21 12:33:06,215 >> Special tokens file saved in outputs_stories/checkpoint-30/special_tokens_map.json\n",
      "[INFO|trainer.py:2394] 2024-10-21 12:33:17,083 >> \n",
      "\n",
      "Training completed. Do not forget to share your model on huggingface.co/models =)\n",
      "\n",
      "\n",
      "{'train_runtime': 20.7486, 'train_samples_per_second': 1.446, 'train_steps_per_second': 1.446, 'train_loss': 1.5421855926513672, 'epoch': 5.0}\n",
      "100% 30/30 [00:20<00:00,  1.45it/s]\n",
      "[INFO|trainer.py:3503] 2024-10-21 12:33:17,085 >> Saving model checkpoint to outputs_stories\n",
      "[INFO|configuration_utils.py:472] 2024-10-21 12:33:17,086 >> Configuration saved in outputs_stories/config.json\n",
      "[INFO|configuration_utils.py:807] 2024-10-21 12:33:17,086 >> Configuration saved in outputs_stories/generation_config.json\n",
      "[INFO|modeling_utils.py:2799] 2024-10-21 12:33:22,807 >> Model weights saved in outputs_stories/model.safetensors\n",
      "[INFO|tokenization_utils_base.py:2684] 2024-10-21 12:33:22,808 >> tokenizer config file saved in outputs_stories/tokenizer_config.json\n",
      "[INFO|tokenization_utils_base.py:2693] 2024-10-21 12:33:22,809 >> Special tokens file saved in outputs_stories/special_tokens_map.json\n",
      "***** train metrics *****\n",
      "  epoch                    =        5.0\n",
      "  total_flos               =    51895GF\n",
      "  train_loss               =     1.5422\n",
      "  train_runtime            = 0:00:20.74\n",
      "  train_samples            =          6\n",
      "  train_samples_per_second =      1.446\n",
      "  train_steps_per_second   =      1.446\n",
      "10/21/2024 12:33:22 - INFO - __main__ - *** Evaluate ***\n",
      "[INFO|trainer.py:3819] 2024-10-21 12:33:22,860 >> \n",
      "***** Running Evaluation *****\n",
      "[INFO|trainer.py:3821] 2024-10-21 12:33:22,860 >>   Num examples = 6\n",
      "[INFO|trainer.py:3824] 2024-10-21 12:33:22,860 >>   Batch size = 1\n",
      "100% 6/6 [00:00<00:00, 17.38it/s]\n",
      "***** eval metrics *****\n",
      "  epoch                   =        5.0\n",
      "  eval_accuracy           =     0.9295\n",
      "  eval_loss               =     0.2888\n",
      "  eval_runtime            = 0:00:00.42\n",
      "  eval_samples            =          6\n",
      "  eval_samples_per_second =     14.008\n",
      "  eval_steps_per_second   =     14.008\n",
      "  perplexity              =     1.3348\n",
      "[INFO|modelcard.py:449] 2024-10-21 12:33:23,388 >> Dropping the following result as it does not have all the necessary fields:\n",
      "{'task': {'name': 'Causal Language Modeling', 'type': 'text-generation'}, 'metrics': [{'name': 'Accuracy', 'type': 'accuracy', 'value': 0.9294558488106875}]}\n"
     ]
    },
    {
     "name": "stderr",
     "output_type": "stream",
     "text": [
      "The attention mask and the pad token id were not set. As a consequence, you may observe unexpected behavior. Please pass your input's `attention_mask` to obtain reliable results.\n",
      "Setting `pad_token_id` to `eos_token_id`:50256 for open-end generation.\n",
      "The attention mask and the pad token id were not set. As a consequence, you may observe unexpected behavior. Please pass your input's `attention_mask` to obtain reliable results.\n",
      "Setting `pad_token_id` to `eos_token_id`:50256 for open-end generation.\n"
     ]
    },
    {
     "name": "stdout",
     "output_type": "stream",
     "text": [
      "START: \n",
      "Brody was allergic to peanuts. Brody and his family went\n",
      "GENERATED: \n",
      "Brody was allergic to peanuts. Brody and his family went to a holiday party. They had a lot of fun. Brody's family decided to name their pet python after him. The end.\n",
      "TRUE: \n",
      "Brody was allergic to peanuts. Brody and his family went to a holiday party. There was lots of food and lots of desserts. Brody picked a m&m cookie off the table. He broke out into a rash not knowing it was a peanut m&m cookie. The end.\n"
     ]
    },
    {
     "name": "stderr",
     "output_type": "stream",
     "text": [
      "The attention mask and the pad token id were not set. As a consequence, you may observe unexpected behavior. Please pass your input's `attention_mask` to obtain reliable results.\n",
      "Setting `pad_token_id` to `eos_token_id`:50256 for open-end generation.\n"
     ]
    },
    {
     "name": "stdout",
     "output_type": "stream",
     "text": [
      "START: \n",
      "Frank wanted to go to the casino on the weekend.\n",
      "GENERATED: \n",
      "Frank wanted to go to the casino on the weekend. He decided to go with a friend. He made his way to the roulette wheels. He lost all the money he made. The end.\n",
      "TRUE: \n",
      "Frank wanted to go to the casino on the weekend. He wanted to actually make money this run. He decided to learn as much as he could about blackjack. He felt confident all throughout his time at the blackjack table. Frank left tripling his earnings! The end.\n"
     ]
    },
    {
     "name": "stderr",
     "output_type": "stream",
     "text": [
      "The attention mask and the pad token id were not set. As a consequence, you may observe unexpected behavior. Please pass your input's `attention_mask` to obtain reliable results.\n",
      "Setting `pad_token_id` to `eos_token_id`:50256 for open-end generation.\n"
     ]
    },
    {
     "name": "stdout",
     "output_type": "stream",
     "text": [
      "START: \n",
      "My nephew's best friend died of a heart attack at\n",
      "GENERATED: \n",
      "My nephew's best friend died of a heart attack at 17. He was going on a business trip. He was going with his girlfriend. He was going with his girlfriend to Florida. The end.\n",
      "TRUE: \n",
      "My nephew's best friend died of a heart attack at 17. He and his friends organized a basketball tournament. The proceeds were donated to the heart association. After a few years, people forgot about the friend. The tournament was canceled. The end.\n"
     ]
    },
    {
     "name": "stderr",
     "output_type": "stream",
     "text": [
      "The attention mask and the pad token id were not set. As a consequence, you may observe unexpected behavior. Please pass your input's `attention_mask` to obtain reliable results.\n",
      "Setting `pad_token_id` to `eos_token_id`:50256 for open-end generation.\n"
     ]
    },
    {
     "name": "stdout",
     "output_type": "stream",
     "text": [
      "START: \n",
      "Jane tried to make dinner. She cooked chicken. Unfortunately she\n",
      "GENERATED: \n",
      "Jane tried to make dinner. She cooked chicken. Unfortunately she didn't do it all the way. The end.\n",
      "TRUE: \n",
      "Jane tried to make dinner. She cooked chicken. Unfortunately she didn't do it all the way. The meat was still raw. Jane got sick because of it. The end.\n"
     ]
    },
    {
     "name": "stderr",
     "output_type": "stream",
     "text": [
      "The attention mask and the pad token id were not set. As a consequence, you may observe unexpected behavior. Please pass your input's `attention_mask` to obtain reliable results.\n",
      "Setting `pad_token_id` to `eos_token_id`:50256 for open-end generation.\n"
     ]
    },
    {
     "name": "stdout",
     "output_type": "stream",
     "text": [
      "START: \n",
      "We were trying to decide what to eat. We came\n",
      "GENERATED: \n",
      "We were trying to decide what to eat. We came up with an idea. We each decided to pick out some apps. The end.\n",
      "TRUE: \n",
      "We were trying to decide what to eat. We came up with an idea. We each decided to pick out some apps. So we had pulled pork nachos and pizza rolls. They were so good and a unique idea. The end.\n"
     ]
    },
    {
     "name": "stderr",
     "output_type": "stream",
     "text": [
      "The attention mask and the pad token id were not set. As a consequence, you may observe unexpected behavior. Please pass your input's `attention_mask` to obtain reliable results.\n",
      "Setting `pad_token_id` to `eos_token_id`:50256 for open-end generation.\n"
     ]
    },
    {
     "name": "stdout",
     "output_type": "stream",
     "text": [
      "START: \n",
      "Laurie was going camping. She bought a new tent. It\n",
      "GENERATED: \n",
      "Laurie was going camping. She bought a new tent. It was roomy. She invited ten friends to camp with her. They all had a great time. The end.\n",
      "TRUE: \n",
      "Laurie was going camping. She bought a new tent. It was roomy. She invited ten friends to camp with her. They all had a great time. The end.\n"
     ]
    },
    {
     "name": "stderr",
     "output_type": "stream",
     "text": [
      "The attention mask and the pad token id were not set. As a consequence, you may observe unexpected behavior. Please pass your input's `attention_mask` to obtain reliable results.\n",
      "Setting `pad_token_id` to `eos_token_id`:50256 for open-end generation.\n"
     ]
    },
    {
     "name": "stdout",
     "output_type": "stream",
     "text": [
      "START: \n",
      "I love to play with bubble wrap. It relieves a\n",
      "GENERATED: \n",
      "I love to play with bubble wrap. It relieves a lot of stress for me. I get a good workout. The end.\n",
      "TRUE: \n",
      "I love to play with bubble wrap. It relieves a lot of stress for me. Something about popping bubbles makes me feel great. I get mad if my parents throw away my bubble wrap. I will dig in the trash just to play with bubble wrap. The end.\n"
     ]
    },
    {
     "name": "stderr",
     "output_type": "stream",
     "text": [
      "The attention mask and the pad token id were not set. As a consequence, you may observe unexpected behavior. Please pass your input's `attention_mask` to obtain reliable results.\n",
      "Setting `pad_token_id` to `eos_token_id`:50256 for open-end generation.\n"
     ]
    },
    {
     "name": "stdout",
     "output_type": "stream",
     "text": [
      "START: \n",
      "Robert's dad was going on a business trip. Robert really\n",
      "GENERATED: \n",
      "Robert's dad was going on a business trip. Robert really wanted to go with but he was scared because of his dad. Robert's dad had to remind him that his kid brother was with him. Robert's dad was happy and Robert went with him. Robert's dad was very happy too! The end.\n",
      "TRUE: \n",
      "Robert's dad was going on a business trip. Robert really wanted to go with but it wouldn't be free. He had to pay a lot of money to go with. Robert raised the money for the trip in the next week. Robert was excited to go with his dad, and his dad was excited too! The end.\n"
     ]
    },
    {
     "name": "stderr",
     "output_type": "stream",
     "text": [
      "The attention mask and the pad token id were not set. As a consequence, you may observe unexpected behavior. Please pass your input's `attention_mask` to obtain reliable results.\n",
      "Setting `pad_token_id` to `eos_token_id`:50256 for open-end generation.\n"
     ]
    },
    {
     "name": "stdout",
     "output_type": "stream",
     "text": [
      "START: \n",
      "James had soccer practice in the afternoon. He showed up\n",
      "GENERATED: \n",
      "James had soccer practice in the afternoon. He showed up at the field with his uniform and ball at the ready. He fired a ball at the field. The ball went in the goal. The end.\n",
      "TRUE: \n",
      "James had soccer practice in the afternoon. He showed up with his uniform and ball at the field. He put his stuff down and joined his team on the field. They ran scrimmages after stretching out. James had a good workout and worked for the day. The end.\n"
     ]
    },
    {
     "name": "stderr",
     "output_type": "stream",
     "text": [
      "The attention mask and the pad token id were not set. As a consequence, you may observe unexpected behavior. Please pass your input's `attention_mask` to obtain reliable results.\n",
      "Setting `pad_token_id` to `eos_token_id`:50256 for open-end generation.\n"
     ]
    },
    {
     "name": "stdout",
     "output_type": "stream",
     "text": [
      "START: \n",
      "Molly has participated in dance classes for her entire life.\n",
      "GENERATED: \n",
      "Molly has participated in dance classes for her entire life. Molly decided to major in dance in college. Molly danced in many recitals during college. Molly decided to travel to dance with some of her friends. Molly danced for a ballet company in the summer. The end.\n",
      "TRUE: \n",
      "Molly has participated in dance classes for her entire life. She decided to major in dance in college. Molly danced in many recitals during college. She decided to find a career in dance. Molly now dances for a ballet company. The end.\n"
     ]
    },
    {
     "name": "stderr",
     "output_type": "stream",
     "text": [
      "The attention mask and the pad token id were not set. As a consequence, you may observe unexpected behavior. Please pass your input's `attention_mask` to obtain reliable results.\n",
      "Setting `pad_token_id` to `eos_token_id`:50256 for open-end generation.\n"
     ]
    },
    {
     "name": "stdout",
     "output_type": "stream",
     "text": [
      "START: \n",
      "We received a letter from my daughter's school. They told\n",
      "GENERATED: \n",
      "We received a letter from my daughter's school. They told us that they were going to expel us if we didn't stop talking. I told them to scram because I had a girl coming over. The end.\n",
      "TRUE: \n",
      "We received a letter from my daughter's school. They told us that she was being placed in the gifted students program. They also told us not to tell her she was smarter than the other kids. I remembered when the only thing The end.\n"
     ]
    },
    {
     "name": "stderr",
     "output_type": "stream",
     "text": [
      "The attention mask and the pad token id were not set. As a consequence, you may observe unexpected behavior. Please pass your input's `attention_mask` to obtain reliable results.\n",
      "Setting `pad_token_id` to `eos_token_id`:50256 for open-end generation.\n"
     ]
    },
    {
     "name": "stdout",
     "output_type": "stream",
     "text": [
      "START: \n",
      "Maggie's boyfriend always wanted to take her ice skating. She\n",
      "GENERATED: \n",
      "Maggie's boyfriend always wanted to take her ice skating. She did not know how to ice skate and was scared. She approached the ice skating wall and fell. She ended up loving the experience and having tons of fun. The end.\n",
      "TRUE: \n",
      "Maggie's boyfriend always wanted to take her ice skating. She did not know how to ice skate and she was embarrassed about it. He finally asked her about it and why she never would go with him. When she told him, he decided The end.\n"
     ]
    },
    {
     "name": "stderr",
     "output_type": "stream",
     "text": [
      "The attention mask and the pad token id were not set. As a consequence, you may observe unexpected behavior. Please pass your input's `attention_mask` to obtain reliable results.\n",
      "Setting `pad_token_id` to `eos_token_id`:50256 for open-end generation.\n"
     ]
    },
    {
     "name": "stdout",
     "output_type": "stream",
     "text": [
      "START: \n",
      "Mindy's washer stopped working one day, but she needed clean\n",
      "GENERATED: \n",
      "Mindy's washer stopped working one day, but she needed clean clothes. She didn't know how to fix a washer, so she asked a repairman to come later that week. The repairman came later that week, and the end.\n",
      "The man pulled out a chair. The woman sat down. The man got to pick her own seat. The end.\n",
      "TRUE: \n",
      "Mindy's washer stopped working one day, but she needed clean clothes. She didn't know how to fix a washer, and the repairman was busy. Mindy asked the repairman to come later that week, and he said OK. Then, Mindy went to  The end.\n"
     ]
    },
    {
     "name": "stderr",
     "output_type": "stream",
     "text": [
      "The attention mask and the pad token id were not set. As a consequence, you may observe unexpected behavior. Please pass your input's `attention_mask` to obtain reliable results.\n",
      "Setting `pad_token_id` to `eos_token_id`:50256 for open-end generation.\n"
     ]
    },
    {
     "name": "stdout",
     "output_type": "stream",
     "text": [
      "START: \n",
      "I've always been shy, and I could never bring myself\n",
      "GENERATED: \n",
      "I've always been shy, and I could never bring myself to be social. I'd shake in fear as I'd approach a new group of people I didn't know. I'd shake in fear as I'd shake in fear as I'd approach them. I'd shake in fear as I'd get too close and they'd attack me. I retreated to my room and cried. The end.\n",
      "TRUE: \n",
      "I've always been shy, and I could never bring myself to be social. I'd shake in fear as I'd approach a new group of people I didn't know. But one day, I was finally sick and tired of being so unhappy. I approached them, an The end.\n"
     ]
    },
    {
     "name": "stderr",
     "output_type": "stream",
     "text": [
      "The attention mask and the pad token id were not set. As a consequence, you may observe unexpected behavior. Please pass your input's `attention_mask` to obtain reliable results.\n",
      "Setting `pad_token_id` to `eos_token_id`:50256 for open-end generation.\n"
     ]
    },
    {
     "name": "stdout",
     "output_type": "stream",
     "text": [
      "START: \n",
      "Molly was 17 and hadn't been driving very long. Molly's\n",
      "GENERATED: \n",
      "Molly was 17 and hadn't been driving very long. Molly's parents bought a new car. Molly got to pick her own color. Molly chose a blue sky blue to paint the car. Molly's parents bought a new house. Molly's parents bought a new coat. Molly got to pick her own bedroom. Molly's parents invited her over for dinner and drinks. Molly's parents cooked chicken and pizza rolls over after dinner. The end.\n",
      "TRUE: \n",
      "Molly was 17 and hadn't been driving very long. Molly's mom let her use the family car to go out with friends one day. Molly and her friends went shopping and then got in the car to go home. When Molly pulled out of the pa The end.\n"
     ]
    },
    {
     "name": "stderr",
     "output_type": "stream",
     "text": [
      "The attention mask and the pad token id were not set. As a consequence, you may observe unexpected behavior. Please pass your input's `attention_mask` to obtain reliable results.\n",
      "Setting `pad_token_id` to `eos_token_id`:50256 for open-end generation.\n"
     ]
    },
    {
     "name": "stdout",
     "output_type": "stream",
     "text": [
      "START: \n",
      "Todd got an error message while trying to log into\n",
      "GENERATED: \n",
      "Todd got an error message while trying to log into his account. He tried over and over, and finally called Customer Service. The agent told him to scram because he was running late for class. The end.\n",
      "TRUE: \n",
      "Todd got an error message while trying to log into his account. He tried over and over, and finally called Customer Service, furious. He was about to start yelling when the agent asked what email he had. He told her, and s The end.\n"
     ]
    },
    {
     "name": "stderr",
     "output_type": "stream",
     "text": [
      "The attention mask and the pad token id were not set. As a consequence, you may observe unexpected behavior. Please pass your input's `attention_mask` to obtain reliable results.\n",
      "Setting `pad_token_id` to `eos_token_id`:50256 for open-end generation.\n"
     ]
    },
    {
     "name": "stdout",
     "output_type": "stream",
     "text": [
      "START: \n",
      "Chloe bought the best house she could afford, but it\n",
      "GENERATED: \n",
      "Chloe bought the best house she could afford, but it wasn't perfect. The walls were covered in horrible floral wallpaper. The bedroom had a large window seat. The owner liked to sit in the window seat and watch the neighborhood. One day, she saw a man in Florida try and drive his truck into a tree. He got so caught up trying to not get shot that he passed out. The end.\n",
      "TRUE: \n",
      "Chloe bought the best house she could afford, but it wasn't perfect. The walls were covered in horrible floral wallpaper. Since Chloe watched a lot of home improvement shows, she had an idea. She tore down the terrible wal The end.\n"
     ]
    },
    {
     "name": "stderr",
     "output_type": "stream",
     "text": [
      "The attention mask and the pad token id were not set. As a consequence, you may observe unexpected behavior. Please pass your input's `attention_mask` to obtain reliable results.\n",
      "Setting `pad_token_id` to `eos_token_id`:50256 for open-end generation.\n"
     ]
    },
    {
     "name": "stdout",
     "output_type": "stream",
     "text": [
      "START: \n",
      "Whenever Jeff played the tuba, people laughed - or plugged\n",
      "GENERATED: \n",
      "Whenever Jeff played the tuba, people laughed - or plugged their ears. Jeff played the tuba for them. The end.\n",
      "TRUE: \n",
      "Whenever Jeff played the tuba, people laughed - or plugged their ears. It hurt Jeff's feelings, but he didn't want to quit playing music. He found a tuba teacher, and he practiced for hours every week. Once, Jeff was playi The end.\n"
     ]
    },
    {
     "name": "stderr",
     "output_type": "stream",
     "text": [
      "The attention mask and the pad token id were not set. As a consequence, you may observe unexpected behavior. Please pass your input's `attention_mask` to obtain reliable results.\n",
      "Setting `pad_token_id` to `eos_token_id`:50256 for open-end generation.\n"
     ]
    },
    {
     "name": "stdout",
     "output_type": "stream",
     "text": [
      "START: \n",
      "When Lori was 7, her parents let her grandmother babysit\n",
      "GENERATED: \n",
      "When Lori was 7, her parents let her grandmother babysit her. Lori decided to go to the animal shelter and adopt a calico cat. Lori got to pick her own color. Lori chose a calico cat and name her lily. Lori got to pick her own color. The end.\n",
      "TRUE: \n",
      "When Lori was 7, her parents let her grandmother babysit her. Lori made her way to the kitchen, where she found a jar of olives. Lori ate the entire jar of olives while her grandmother watched. With a couple of hours, Lori The end.\n"
     ]
    },
    {
     "name": "stderr",
     "output_type": "stream",
     "text": [
      "The attention mask and the pad token id were not set. As a consequence, you may observe unexpected behavior. Please pass your input's `attention_mask` to obtain reliable results.\n",
      "Setting `pad_token_id` to `eos_token_id`:50256 for open-end generation.\n"
     ]
    },
    {
     "name": "stdout",
     "output_type": "stream",
     "text": [
      "START: \n",
      "Everyone inside the subway was scared to be near the\n",
      "GENERATED: \n",
      "Everyone inside the subway was scared to be near the coughing man. He kept quiet and just nodded along. The end.\n",
      "TRUE: \n",
      "Everyone inside the subway was scared to be near the coughing man. He was coughing repeatedly and the people around him were scared. He kept assuring everyone they were just allergies and to not fret. He starting coughing  The end.\n"
     ]
    },
    {
     "name": "stderr",
     "output_type": "stream",
     "text": [
      "The attention mask and the pad token id were not set. As a consequence, you may observe unexpected behavior. Please pass your input's `attention_mask` to obtain reliable results.\n",
      "Setting `pad_token_id` to `eos_token_id`:50256 for open-end generation.\n"
     ]
    },
    {
     "name": "stdout",
     "output_type": "stream",
     "text": [
      "START: \n",
      "The boy took a test. They graded the test. He\n",
      "GENERATED: \n",
      "The boy took a test. They graded the test. He passed the class. The end.\n",
      "TRUE: \n",
      "The boy took a test. They graded the test. He did very well. They gave him an award. He displayed it proudly. Dan told his roommates to scram because he had a girl coming over. Dan then went shopping. Dan bought all the in The end.\n"
     ]
    },
    {
     "name": "stderr",
     "output_type": "stream",
     "text": [
      "The attention mask and the pad token id were not set. As a consequence, you may observe unexpected behavior. Please pass your input's `attention_mask` to obtain reliable results.\n",
      "Setting `pad_token_id` to `eos_token_id`:50256 for open-end generation.\n"
     ]
    },
    {
     "name": "stdout",
     "output_type": "stream",
     "text": [
      "START: \n",
      "Kris lost her job. She was sad at first. She\n",
      "GENERATED: \n",
      "Kris lost her job. She was sad at first. She looked for a new job. She got a new job! Now she makes a decent amount of money. The end.\n",
      "TRUE: \n",
      "Kris lost her job. She was sad at first. She looked for a new job. She got an interview. Kris got a new job! Jack had always wanted his own dinosaur. He asked Santa Claus for one every year. He never would get one and beca The end.\n"
     ]
    },
    {
     "name": "stderr",
     "output_type": "stream",
     "text": [
      "The attention mask and the pad token id were not set. As a consequence, you may observe unexpected behavior. Please pass your input's `attention_mask` to obtain reliable results.\n",
      "Setting `pad_token_id` to `eos_token_id`:50256 for open-end generation.\n"
     ]
    },
    {
     "name": "stdout",
     "output_type": "stream",
     "text": [
      "START: \n",
      "Aaron went to Arizona. He wore a sweater. He forgot\n",
      "GENERATED: \n",
      "Aaron went to Arizona. He wore a sweater. He forgot it was winter. He decided to dig in the snow. He ended up loving it. The end.\n",
      "TRUE: \n",
      "Aaron went to Arizona. He wore a sweater. He forgot it was winter. He began to sweat a lot. He took the sweater off. William was a sailor on a boat in 1700. He hoped he could get passage to America by working on the boat.  The end.\n"
     ]
    },
    {
     "name": "stderr",
     "output_type": "stream",
     "text": [
      "The attention mask and the pad token id were not set. As a consequence, you may observe unexpected behavior. Please pass your input's `attention_mask` to obtain reliable results.\n",
      "Setting `pad_token_id` to `eos_token_id`:50256 for open-end generation.\n"
     ]
    },
    {
     "name": "stdout",
     "output_type": "stream",
     "text": [
      "START: \n",
      "Fred invited Lucy it the movies. He asked her on\n",
      "GENERATED: \n",
      "Fred invited Lucy it the movies. He asked her on a date. Lucy accepted the invite. They had sex for the first time. The end.\n",
      "TRUE: \n",
      "Fred invited Lucy it the movies. He asked her on a date. She said yes. Fred then kissed her. It was their first kiss. Nick was sitting at the pool. The sun was shining down over him. He became uncomfortable under the heat. The end.\n"
     ]
    },
    {
     "name": "stderr",
     "output_type": "stream",
     "text": [
      "The attention mask and the pad token id were not set. As a consequence, you may observe unexpected behavior. Please pass your input's `attention_mask` to obtain reliable results.\n",
      "Setting `pad_token_id` to `eos_token_id`:50256 for open-end generation.\n"
     ]
    },
    {
     "name": "stdout",
     "output_type": "stream",
     "text": [
      "START: \n",
      "Jeremy broke his leg. He was in bed rest. He\n",
      "GENERATED: \n",
      "Jeremy broke his leg. He was in bed rest. He got up and tried to get to his feet. He fumbled the first step and fell. He got up and tried again. This time the end.\n",
      "The man pulled out a chair. The woman sat down. The man got up and sat down. The woman got up and sat down. The end.\n",
      "TRUE: \n",
      "Jeremy broke his leg. He was in bed rest. He stared out of his window. He saw a crime. He reported it. Phillip suspected his wife of cheating. He decided to come home early from work to catch her. He pulled the car into th The end.\n"
     ]
    },
    {
     "name": "stderr",
     "output_type": "stream",
     "text": [
      "The attention mask and the pad token id were not set. As a consequence, you may observe unexpected behavior. Please pass your input's `attention_mask` to obtain reliable results.\n",
      "Setting `pad_token_id` to `eos_token_id`:50256 for open-end generation.\n"
     ]
    },
    {
     "name": "stdout",
     "output_type": "stream",
     "text": [
      "START: \n",
      "John had a problem. His sink was clogged. He tried\n",
      "GENERATED: \n",
      "John had a problem. His sink was clogged. He tried to call a repairman. He got no answer. The repairman came to fix the sink. The end.\n",
      "TRUE: \n",
      "John had a problem. His sink was clogged. He tried to call a repairman. He got no answer. John fixed the sink himself. Jimmy put a plastic spider on the floor of his parent's shower. Jimmy couldn't wait to hear his mom scr The end.\n"
     ]
    },
    {
     "name": "stderr",
     "output_type": "stream",
     "text": [
      "The attention mask and the pad token id were not set. As a consequence, you may observe unexpected behavior. Please pass your input's `attention_mask` to obtain reliable results.\n",
      "Setting `pad_token_id` to `eos_token_id`:50256 for open-end generation.\n"
     ]
    },
    {
     "name": "stdout",
     "output_type": "stream",
     "text": [
      "START: \n",
      "Tracy was scheduled for work. He slept in too long.\n",
      "GENERATED: \n",
      "Tracy was scheduled for work. He slept in too long. He went to the bathroom and flushed the toilet. He came out the other side, stronger and more fit. The end.\n",
      "TRUE: \n",
      "Tracy was scheduled for work. He slept in too long. Tracy rushed to his car. He drove to work. He was late for work. One day Rachel was shopping with a few of her friends. They had bought a few outfits and were ready to le The end.\n"
     ]
    },
    {
     "name": "stderr",
     "output_type": "stream",
     "text": [
      "The attention mask and the pad token id were not set. As a consequence, you may observe unexpected behavior. Please pass your input's `attention_mask` to obtain reliable results.\n",
      "Setting `pad_token_id` to `eos_token_id`:50256 for open-end generation.\n"
     ]
    },
    {
     "name": "stdout",
     "output_type": "stream",
     "text": [
      "START: \n",
      "My lips were bleeding. I was at school. I had\n",
      "GENERATED: \n",
      "My lips were bleeding. I was at school. I had on a coat. I was going to get a new one. Unfortunately, the coat was old and the zipper was stuck in the zipper. I had to dig in the trash to get the zipper open. The end.\n",
      "TRUE: \n",
      "My lips were bleeding. I was at school. I had on a coat. A kid zipper up my zipper. My lip was stuck in the zipper. Gabby worried she would never get out of her hometown. Her parents wanted her to stay and help them with t The end.\n"
     ]
    },
    {
     "name": "stderr",
     "output_type": "stream",
     "text": [
      "The attention mask and the pad token id were not set. As a consequence, you may observe unexpected behavior. Please pass your input's `attention_mask` to obtain reliable results.\n",
      "Setting `pad_token_id` to `eos_token_id`:50256 for open-end generation.\n"
     ]
    },
    {
     "name": "stdout",
     "output_type": "stream",
     "text": [
      "START: \n",
      "Suzy saw a free app. It was in the App\n",
      "GENERATED: \n",
      "Suzy saw a free app. It was in the App Store. She quickly scooped it up. Now she owns a company. The end.\n",
      "TRUE: \n",
      "Suzy saw a free app. It was in the App Store. She quickly scooped it up. Boy was she happy. She never put it down. Slade was shopping at the mall for a new fur coat. He found one that he was very happy with and bought it.  The end.\n",
      "START: \n",
      "Kevin needed some bananas. He went too the store. Got\n",
      "GENERATED: \n",
      "Kevin needed some bananas. He went too the store. Got some bananas. He took them home. The end.\n",
      "TRUE: \n",
      "Kevin needed some bananas. He went too the store. Got some bananas. He took them home. Enjoyed himself one. Kyle came over to help me fix my motorcycle. I thought the fuel line was broken on it. We drained the gasoline out The end.\n",
      "-69\n",
      "-97\n",
      "-74\n",
      "-53\n",
      "-83\n",
      "0\n",
      "-137\n",
      "-3\n",
      "-77\n",
      "32\n",
      "-47\n",
      "-10\n",
      "65\n",
      "71\n",
      "166\n",
      "-31\n",
      "140\n",
      "-121\n",
      "11\n",
      "-119\n",
      "-159\n",
      "-97\n",
      "-102\n",
      "-107\n",
      "49\n",
      "-97\n",
      "-72\n",
      "-14\n",
      "-126\n",
      "-136\n"
     ]
    },
    {
     "data": {
      "image/png": "[encoded data removed]",
      "text/plain": [
       "<Figure size 640x480 with 1 Axes>"
      ]
     },
     "metadata": {},
     "output_type": "display_data"
    },
    {
     "name": "stdout",
     "output_type": "stream",
     "text": [
      "222\n",
      "2024-10-21 12:35:50.003712: E external/local_xla/xla/stream_executor/cuda/cuda_fft.cc:485] Unable to register cuFFT factory: Attempting to register factory for plugin cuFFT when one has already been registered\n",
      "2024-10-21 12:35:50.025551: E external/local_xla/xla/stream_executor/cuda/cuda_dnn.cc:8454] Unable to register cuDNN factory: Attempting to register factory for plugin cuDNN when one has already been registered\n",
      "2024-10-21 12:35:50.032157: E external/local_xla/xla/stream_executor/cuda/cuda_blas.cc:1452] Unable to register cuBLAS factory: Attempting to register factory for plugin cuBLAS when one has already been registered\n",
      "2024-10-21 12:35:51.270894: W tensorflow/compiler/tf2tensorrt/utils/py_utils.cc:38] TF-TRT Warning: Could not find TensorRT\n",
      "10/21/2024 12:35:53 - WARNING - __main__ - Process rank: 0, device: cuda:0, n_gpu: 1distributed training: False, 16-bits training: False\n",
      "10/21/2024 12:35:53 - INFO - __main__ - Training/evaluation parameters TrainingArguments(\n",
      "_n_gpu=1,\n",
      "accelerator_config={'split_batches': False, 'dispatch_batches': None, 'even_batches': True, 'use_seedable_sampler': True, 'non_blocking': False, 'gradient_accumulation_kwargs': None, 'use_configured_state': False},\n",
      "adafactor=False,\n",
      "adam_beta1=0.9,\n",
      "adam_beta2=0.999,\n",
      "adam_epsilon=1e-08,\n",
      "auto_find_batch_size=False,\n",
      "batch_eval_metrics=False,\n",
      "bf16=False,\n",
      "bf16_full_eval=False,\n",
      "data_seed=None,\n",
      "dataloader_drop_last=False,\n",
      "dataloader_num_workers=0,\n",
      "dataloader_persistent_workers=False,\n",
      "dataloader_pin_memory=True,\n",
      "dataloader_prefetch_factor=None,\n",
      "ddp_backend=None,\n",
      "ddp_broadcast_buffers=None,\n",
      "ddp_bucket_cap_mb=None,\n",
      "ddp_find_unused_parameters=None,\n",
      "ddp_timeout=1800,\n",
      "debug=[],\n",
      "deepspeed=None,\n",
      "disable_tqdm=False,\n",
      "dispatch_batches=None,\n",
      "do_eval=True,\n",
      "do_predict=False,\n",
      "do_train=True,\n",
      "eval_accumulation_steps=None,\n",
      "eval_delay=0,\n",
      "eval_do_concat_batches=True,\n",
      "eval_on_start=False,\n",
      "eval_steps=None,\n",
      "eval_strategy=no,\n",
      "eval_use_gather_object=False,\n",
      "evaluation_strategy=None,\n",
      "fp16=False,\n",
      "fp16_backend=auto,\n",
      "fp16_full_eval=False,\n",
      "fp16_opt_level=O1,\n",
      "fsdp=[],\n",
      "fsdp_config={'min_num_params': 0, 'xla': False, 'xla_fsdp_v2': False, 'xla_fsdp_grad_ckpt': False},\n",
      "fsdp_min_num_params=0,\n",
      "fsdp_transformer_layer_cls_to_wrap=None,\n",
      "full_determinism=False,\n",
      "gradient_accumulation_steps=1,\n",
      "gradient_checkpointing=False,\n",
      "gradient_checkpointing_kwargs=None,\n",
      "greater_is_better=None,\n",
      "group_by_length=False,\n",
      "half_precision_backend=auto,\n",
      "hub_always_push=False,\n",
      "hub_model_id=None,\n",
      "hub_private_repo=False,\n",
      "hub_strategy=every_save,\n",
      "hub_token=<HUB_TOKEN>,\n",
      "ignore_data_skip=False,\n",
      "include_inputs_for_metrics=False,\n",
      "include_num_input_tokens_seen=False,\n",
      "include_tokens_per_second=False,\n",
      "jit_mode_eval=False,\n",
      "label_names=None,\n",
      "label_smoothing_factor=0.0,\n",
      "learning_rate=0.0005,\n",
      "length_column_name=length,\n",
      "load_best_model_at_end=False,\n",
      "local_rank=0,\n",
      "log_level=passive,\n",
      "log_level_replica=warning,\n",
      "log_on_each_node=True,\n",
      "logging_dir=outputs_stories/runs/Oct21_12-35-53_f910dfa8e9d3,\n",
      "logging_first_step=False,\n",
      "logging_nan_inf_filter=True,\n",
      "logging_steps=500,\n",
      "logging_strategy=steps,\n",
      "lr_scheduler_kwargs={},\n",
      "lr_scheduler_type=linear,\n",
      "max_grad_norm=1.0,\n",
      "max_steps=-1,\n",
      "metric_for_best_model=None,\n",
      "mp_parameters=,\n",
      "neftune_noise_alpha=None,\n",
      "no_cuda=False,\n",
      "num_train_epochs=5.0,\n",
      "optim=adamw_torch,\n",
      "optim_args=None,\n",
      "optim_target_modules=None,\n",
      "output_dir=outputs_stories,\n",
      "overwrite_output_dir=True,\n",
      "past_index=-1,\n",
      "per_device_eval_batch_size=1,\n",
      "per_device_train_batch_size=1,\n",
      "prediction_loss_only=False,\n",
      "push_to_hub=False,\n",
      "push_to_hub_model_id=None,\n",
      "push_to_hub_organization=None,\n",
      "push_to_hub_token=<PUSH_TO_HUB_TOKEN>,\n",
      "ray_scope=last,\n",
      "remove_unused_columns=True,\n",
      "report_to=[],\n",
      "restore_callback_states_from_checkpoint=False,\n",
      "resume_from_checkpoint=None,\n",
      "run_name=outputs_stories,\n",
      "save_on_each_node=False,\n",
      "save_only_model=False,\n",
      "save_safetensors=True,\n",
      "save_steps=1000,\n",
      "save_strategy=steps,\n",
      "save_total_limit=None,\n",
      "seed=42,\n",
      "skip_memory_metrics=True,\n",
      "split_batches=None,\n",
      "tf32=None,\n",
      "torch_compile=False,\n",
      "torch_compile_backend=None,\n",
      "torch_compile_mode=None,\n",
      "torch_empty_cache_steps=None,\n",
      "torchdynamo=None,\n",
      "tpu_metrics_debug=False,\n",
      "tpu_num_cores=None,\n",
      "use_cpu=False,\n",
      "use_ipex=False,\n",
      "use_legacy_prediction_loop=False,\n",
      "use_mps_device=False,\n",
      "warmup_ratio=0.0,\n",
      "warmup_steps=0,\n",
      "weight_decay=0.0,\n",
      ")\n",
      "Using custom data configuration default-74f8fd589727f1c3\n",
      "10/21/2024 12:35:53 - INFO - datasets.builder - Using custom data configuration default-74f8fd589727f1c3\n",
      "Loading Dataset Infos from /usr/local/lib/python3.10/dist-packages/datasets/packaged_modules/text\n",
      "10/21/2024 12:35:53 - INFO - datasets.info - Loading Dataset Infos from /usr/local/lib/python3.10/dist-packages/datasets/packaged_modules/text\n",
      "Generating dataset text (/root/.cache/huggingface/datasets/text/default-74f8fd589727f1c3/0.0.0/37eaf37ac90527a7fd768c94b312ee84f8815c9b7ac00acf81c1c364e8392f99)\n",
      "10/21/2024 12:35:53 - INFO - datasets.builder - Generating dataset text (/root/.cache/huggingface/datasets/text/default-74f8fd589727f1c3/0.0.0/37eaf37ac90527a7fd768c94b312ee84f8815c9b7ac00acf81c1c364e8392f99)\n",
      "Downloading and preparing dataset text/default to /root/.cache/huggingface/datasets/text/default-74f8fd589727f1c3/0.0.0/37eaf37ac90527a7fd768c94b312ee84f8815c9b7ac00acf81c1c364e8392f99...\n",
      "10/21/2024 12:35:53 - INFO - datasets.builder - Downloading and preparing dataset text/default to /root/.cache/huggingface/datasets/text/default-74f8fd589727f1c3/0.0.0/37eaf37ac90527a7fd768c94b312ee84f8815c9b7ac00acf81c1c364e8392f99...\n",
      "Downloading took 0.0 min\n",
      "10/21/2024 12:35:53 - INFO - datasets.download.download_manager - Downloading took 0.0 min\n",
      "Checksum Computation took 0.0 min\n",
      "10/21/2024 12:35:53 - INFO - datasets.download.download_manager - Checksum Computation took 0.0 min\n",
      "Generating train split\n",
      "10/21/2024 12:35:53 - INFO - datasets.builder - Generating train split\n",
      "Generating train split: 120 examples [00:00, 35668.38 examples/s]\n",
      "Generating validation split\n",
      "10/21/2024 12:35:53 - INFO - datasets.builder - Generating validation split\n",
      "Generating validation split: 120 examples [00:00, 117569.84 examples/s]\n",
      "Unable to verify splits sizes.\n",
      "10/21/2024 12:35:53 - INFO - datasets.utils.info_utils - Unable to verify splits sizes.\n",
      "Dataset text downloaded and prepared to /root/.cache/huggingface/datasets/text/default-74f8fd589727f1c3/0.0.0/37eaf37ac90527a7fd768c94b312ee84f8815c9b7ac00acf81c1c364e8392f99. Subsequent calls will reuse this data.\n",
      "10/21/2024 12:35:53 - INFO - datasets.builder - Dataset text downloaded and prepared to /root/.cache/huggingface/datasets/text/default-74f8fd589727f1c3/0.0.0/37eaf37ac90527a7fd768c94b312ee84f8815c9b7ac00acf81c1c364e8392f99. Subsequent calls will reuse this data.\n",
      "[INFO|configuration_utils.py:733] 2024-10-21 12:35:53,851 >> loading configuration file config.json from cache at /root/.cache/huggingface/hub/models--gpt2-medium/snapshots/6dcaa7a952f72f9298047fd5137cd6e4f05f41da/config.json\n",
      "[INFO|configuration_utils.py:800] 2024-10-21 12:35:53,852 >> Model config GPT2Config {\n",
      "  \"_name_or_path\": \"gpt2-medium\",\n",
      "  \"activation_function\": \"gelu_new\",\n",
      "  \"architectures\": [\n",
      "    \"GPT2LMHeadModel\"\n",
      "  ],\n",
      "  \"attn_pdrop\": 0.1,\n",
      "  \"bos_token_id\": 50256,\n",
      "  \"embd_pdrop\": 0.1,\n",
      "  \"eos_token_id\": 50256,\n",
      "  \"initializer_range\": 0.02,\n",
      "  \"layer_norm_epsilon\": 1e-05,\n",
      "  \"model_type\": \"gpt2\",\n",
      "  \"n_ctx\": 1024,\n",
      "  \"n_embd\": 1024,\n",
      "  \"n_head\": 16,\n",
      "  \"n_inner\": null,\n",
      "  \"n_layer\": 24,\n",
      "  \"n_positions\": 1024,\n",
      "  \"n_special\": 0,\n",
      "  \"predict_special_tokens\": true,\n",
      "  \"reorder_and_upcast_attn\": false,\n",
      "  \"resid_pdrop\": 0.1,\n",
      "  \"scale_attn_by_inverse_layer_idx\": false,\n",
      "  \"scale_attn_weights\": true,\n",
      "  \"summary_activation\": null,\n",
      "  \"summary_first_dropout\": 0.1,\n",
      "  \"summary_proj_to_labels\": true,\n",
      "  \"summary_type\": \"cls_index\",\n",
      "  \"summary_use_proj\": true,\n",
      "  \"task_specific_params\": {\n",
      "    \"text-generation\": {\n",
      "      \"do_sample\": true,\n",
      "      \"max_length\": 50\n",
      "    }\n",
      "  },\n",
      "  \"transformers_version\": \"4.44.2\",\n",
      "  \"use_cache\": true,\n",
      "  \"vocab_size\": 50257\n",
      "}\n",
      "\n",
      "[INFO|configuration_utils.py:733] 2024-10-21 12:35:53,901 >> loading configuration file config.json from cache at /root/.cache/huggingface/hub/models--gpt2-medium/snapshots/6dcaa7a952f72f9298047fd5137cd6e4f05f41da/config.json\n",
      "[INFO|configuration_utils.py:800] 2024-10-21 12:35:53,902 >> Model config GPT2Config {\n",
      "  \"_name_or_path\": \"gpt2-medium\",\n",
      "  \"activation_function\": \"gelu_new\",\n",
      "  \"architectures\": [\n",
      "    \"GPT2LMHeadModel\"\n",
      "  ],\n",
      "  \"attn_pdrop\": 0.1,\n",
      "  \"bos_token_id\": 50256,\n",
      "  \"embd_pdrop\": 0.1,\n",
      "  \"eos_token_id\": 50256,\n",
      "  \"initializer_range\": 0.02,\n",
      "  \"layer_norm_epsilon\": 1e-05,\n",
      "  \"model_type\": \"gpt2\",\n",
      "  \"n_ctx\": 1024,\n",
      "  \"n_embd\": 1024,\n",
      "  \"n_head\": 16,\n",
      "  \"n_inner\": null,\n",
      "  \"n_layer\": 24,\n",
      "  \"n_positions\": 1024,\n",
      "  \"n_special\": 0,\n",
      "  \"predict_special_tokens\": true,\n",
      "  \"reorder_and_upcast_attn\": false,\n",
      "  \"resid_pdrop\": 0.1,\n",
      "  \"scale_attn_by_inverse_layer_idx\": false,\n",
      "  \"scale_attn_weights\": true,\n",
      "  \"summary_activation\": null,\n",
      "  \"summary_first_dropout\": 0.1,\n",
      "  \"summary_proj_to_labels\": true,\n",
      "  \"summary_type\": \"cls_index\",\n",
      "  \"summary_use_proj\": true,\n",
      "  \"task_specific_params\": {\n",
      "    \"text-generation\": {\n",
      "      \"do_sample\": true,\n",
      "      \"max_length\": 50\n",
      "    }\n",
      "  },\n",
      "  \"transformers_version\": \"4.44.2\",\n",
      "  \"use_cache\": true,\n",
      "  \"vocab_size\": 50257\n",
      "}\n",
      "\n",
      "[INFO|tokenization_utils_base.py:2269] 2024-10-21 12:35:53,912 >> loading file vocab.json from cache at /root/.cache/huggingface/hub/models--gpt2-medium/snapshots/6dcaa7a952f72f9298047fd5137cd6e4f05f41da/vocab.json\n",
      "[INFO|tokenization_utils_base.py:2269] 2024-10-21 12:35:53,912 >> loading file merges.txt from cache at /root/.cache/huggingface/hub/models--gpt2-medium/snapshots/6dcaa7a952f72f9298047fd5137cd6e4f05f41da/merges.txt\n",
      "[INFO|tokenization_utils_base.py:2269] 2024-10-21 12:35:53,912 >> loading file tokenizer.json from cache at /root/.cache/huggingface/hub/models--gpt2-medium/snapshots/6dcaa7a952f72f9298047fd5137cd6e4f05f41da/tokenizer.json\n",
      "[INFO|tokenization_utils_base.py:2269] 2024-10-21 12:35:53,912 >> loading file added_tokens.json from cache at None\n",
      "[INFO|tokenization_utils_base.py:2269] 2024-10-21 12:35:53,912 >> loading file special_tokens_map.json from cache at None\n",
      "[INFO|tokenization_utils_base.py:2269] 2024-10-21 12:35:53,912 >> loading file tokenizer_config.json from cache at /root/.cache/huggingface/hub/models--gpt2-medium/snapshots/6dcaa7a952f72f9298047fd5137cd6e4f05f41da/tokenizer_config.json\n",
      "[INFO|configuration_utils.py:733] 2024-10-21 12:35:53,912 >> loading configuration file config.json from cache at /root/.cache/huggingface/hub/models--gpt2-medium/snapshots/6dcaa7a952f72f9298047fd5137cd6e4f05f41da/config.json\n",
      "[INFO|configuration_utils.py:800] 2024-10-21 12:35:53,913 >> Model config GPT2Config {\n",
      "  \"_name_or_path\": \"gpt2-medium\",\n",
      "  \"activation_function\": \"gelu_new\",\n",
      "  \"architectures\": [\n",
      "    \"GPT2LMHeadModel\"\n",
      "  ],\n",
      "  \"attn_pdrop\": 0.1,\n",
      "  \"bos_token_id\": 50256,\n",
      "  \"embd_pdrop\": 0.1,\n",
      "  \"eos_token_id\": 50256,\n",
      "  \"initializer_range\": 0.02,\n",
      "  \"layer_norm_epsilon\": 1e-05,\n",
      "  \"model_type\": \"gpt2\",\n",
      "  \"n_ctx\": 1024,\n",
      "  \"n_embd\": 1024,\n",
      "  \"n_head\": 16,\n",
      "  \"n_inner\": null,\n",
      "  \"n_layer\": 24,\n",
      "  \"n_positions\": 1024,\n",
      "  \"n_special\": 0,\n",
      "  \"predict_special_tokens\": true,\n",
      "  \"reorder_and_upcast_attn\": false,\n",
      "  \"resid_pdrop\": 0.1,\n",
      "  \"scale_attn_by_inverse_layer_idx\": false,\n",
      "  \"scale_attn_weights\": true,\n",
      "  \"summary_activation\": null,\n",
      "  \"summary_first_dropout\": 0.1,\n",
      "  \"summary_proj_to_labels\": true,\n",
      "  \"summary_type\": \"cls_index\",\n",
      "  \"summary_use_proj\": true,\n",
      "  \"task_specific_params\": {\n",
      "    \"text-generation\": {\n",
      "      \"do_sample\": true,\n",
      "      \"max_length\": 50\n",
      "    }\n",
      "  },\n",
      "  \"transformers_version\": \"4.44.2\",\n",
      "  \"use_cache\": true,\n",
      "  \"vocab_size\": 50257\n",
      "}\n",
      "\n",
      "/usr/local/lib/python3.10/dist-packages/transformers/tokenization_utils_base.py:1601: FutureWarning: `clean_up_tokenization_spaces` was not set. It will be set to `True` by default. This behavior will be depracted in transformers v4.45, and will be then set to `False` by default. For more details check this issue: https://github.com/huggingface/transformers/issues/31884\n",
      "  warnings.warn(\n",
      "[INFO|modeling_utils.py:3678] 2024-10-21 12:35:54,029 >> loading weights file model.safetensors from cache at /root/.cache/huggingface/hub/models--gpt2-medium/snapshots/6dcaa7a952f72f9298047fd5137cd6e4f05f41da/model.safetensors\n",
      "[INFO|configuration_utils.py:1038] 2024-10-21 12:35:54,041 >> Generate config GenerationConfig {\n",
      "  \"bos_token_id\": 50256,\n",
      "  \"eos_token_id\": 50256\n",
      "}\n",
      "\n",
      "[INFO|modeling_utils.py:4507] 2024-10-21 12:35:54,140 >> All model checkpoint weights were used when initializing GPT2LMHeadModel.\n",
      "\n",
      "[INFO|modeling_utils.py:4515] 2024-10-21 12:35:54,140 >> All the weights of GPT2LMHeadModel were initialized from the model checkpoint at gpt2-medium.\n",
      "If your task is similar to the task the model of the checkpoint was trained on, you can already use GPT2LMHeadModel for predictions without further training.\n",
      "[INFO|configuration_utils.py:993] 2024-10-21 12:35:54,192 >> loading configuration file generation_config.json from cache at /root/.cache/huggingface/hub/models--gpt2-medium/snapshots/6dcaa7a952f72f9298047fd5137cd6e4f05f41da/generation_config.json\n",
      "[INFO|configuration_utils.py:1038] 2024-10-21 12:35:54,193 >> Generate config GenerationConfig {\n",
      "  \"bos_token_id\": 50256,\n",
      "  \"eos_token_id\": 50256\n",
      "}\n",
      "\n",
      "Running tokenizer on dataset:   0% 0/120 [00:00<?, ? examples/s]Caching processed dataset at /root/.cache/huggingface/datasets/text/default-74f8fd589727f1c3/0.0.0/37eaf37ac90527a7fd768c94b312ee84f8815c9b7ac00acf81c1c364e8392f99/cache-36d4df6dc3f9cc1a.arrow\n",
      "10/21/2024 12:35:54 - INFO - datasets.arrow_dataset - Caching processed dataset at /root/.cache/huggingface/datasets/text/default-74f8fd589727f1c3/0.0.0/37eaf37ac90527a7fd768c94b312ee84f8815c9b7ac00acf81c1c364e8392f99/cache-36d4df6dc3f9cc1a.arrow\n",
      "Running tokenizer on dataset: 100% 120/120 [00:00<00:00, 8222.65 examples/s]\n",
      "Running tokenizer on dataset:   0% 0/120 [00:00<?, ? examples/s]Caching processed dataset at /root/.cache/huggingface/datasets/text/default-74f8fd589727f1c3/0.0.0/37eaf37ac90527a7fd768c94b312ee84f8815c9b7ac00acf81c1c364e8392f99/cache-fdb46f350a7a3ffa.arrow\n",
      "10/21/2024 12:35:54 - INFO - datasets.arrow_dataset - Caching processed dataset at /root/.cache/huggingface/datasets/text/default-74f8fd589727f1c3/0.0.0/37eaf37ac90527a7fd768c94b312ee84f8815c9b7ac00acf81c1c364e8392f99/cache-fdb46f350a7a3ffa.arrow\n",
      "Running tokenizer on dataset: 100% 120/120 [00:00<00:00, 10515.99 examples/s]\n",
      "Grouping texts in chunks of 1024:   0% 0/120 [00:00<?, ? examples/s]Caching processed dataset at /root/.cache/huggingface/datasets/text/default-74f8fd589727f1c3/0.0.0/37eaf37ac90527a7fd768c94b312ee84f8815c9b7ac00acf81c1c364e8392f99/cache-aa4658aedaa06823.arrow\n",
      "10/21/2024 12:35:54 - INFO - datasets.arrow_dataset - Caching processed dataset at /root/.cache/huggingface/datasets/text/default-74f8fd589727f1c3/0.0.0/37eaf37ac90527a7fd768c94b312ee84f8815c9b7ac00acf81c1c364e8392f99/cache-aa4658aedaa06823.arrow\n",
      "Grouping texts in chunks of 1024: 100% 120/120 [00:00<00:00, 8774.69 examples/s]\n",
      "Grouping texts in chunks of 1024:   0% 0/120 [00:00<?, ? examples/s]Caching processed dataset at /root/.cache/huggingface/datasets/text/default-74f8fd589727f1c3/0.0.0/37eaf37ac90527a7fd768c94b312ee84f8815c9b7ac00acf81c1c364e8392f99/cache-010404e82ef2cea4.arrow\n",
      "10/21/2024 12:35:54 - INFO - datasets.arrow_dataset - Caching processed dataset at /root/.cache/huggingface/datasets/text/default-74f8fd589727f1c3/0.0.0/37eaf37ac90527a7fd768c94b312ee84f8815c9b7ac00acf81c1c364e8392f99/cache-010404e82ef2cea4.arrow\n",
      "Grouping texts in chunks of 1024: 100% 120/120 [00:00<00:00, 8873.39 examples/s]\n",
      "/usr/local/lib/python3.10/dist-packages/transformers/utils/import_utils.py:575: FutureWarning: `is_torch_tpu_available` is deprecated and will be removed in 4.41.0. Please use the `is_torch_xla_available` instead.\n",
      "  warnings.warn(\n",
      "[INFO|trainer.py:2134] 2024-10-21 12:35:55,663 >> ***** Running training *****\n",
      "[INFO|trainer.py:2135] 2024-10-21 12:35:55,663 >>   Num examples = 6\n",
      "[INFO|trainer.py:2136] 2024-10-21 12:35:55,663 >>   Num Epochs = 5\n",
      "[INFO|trainer.py:2137] 2024-10-21 12:35:55,663 >>   Instantaneous batch size per device = 1\n",
      "[INFO|trainer.py:2140] 2024-10-21 12:35:55,663 >>   Total train batch size (w. parallel, distributed & accumulation) = 1\n",
      "[INFO|trainer.py:2141] 2024-10-21 12:35:55,663 >>   Gradient Accumulation steps = 1\n",
      "[INFO|trainer.py:2142] 2024-10-21 12:35:55,663 >>   Total optimization steps = 30\n",
      "[INFO|trainer.py:2143] 2024-10-21 12:35:55,664 >>   Number of trainable parameters = 354,823,168\n",
      "100% 30/30 [00:06<00:00,  5.08it/s][INFO|trainer.py:3503] 2024-10-21 12:36:02,480 >> Saving model checkpoint to outputs_stories/checkpoint-30\n",
      "[INFO|configuration_utils.py:472] 2024-10-21 12:36:02,481 >> Configuration saved in outputs_stories/checkpoint-30/config.json\n",
      "[INFO|configuration_utils.py:807] 2024-10-21 12:36:02,482 >> Configuration saved in outputs_stories/checkpoint-30/generation_config.json\n",
      "[INFO|modeling_utils.py:2799] 2024-10-21 12:36:05,434 >> Model weights saved in outputs_stories/checkpoint-30/model.safetensors\n",
      "[INFO|tokenization_utils_base.py:2684] 2024-10-21 12:36:05,435 >> tokenizer config file saved in outputs_stories/checkpoint-30/tokenizer_config.json\n",
      "[INFO|tokenization_utils_base.py:2693] 2024-10-21 12:36:05,435 >> Special tokens file saved in outputs_stories/checkpoint-30/special_tokens_map.json\n",
      "[INFO|trainer.py:2394] 2024-10-21 12:36:15,335 >> \n",
      "\n",
      "Training completed. Do not forget to share your model on huggingface.co/models =)\n",
      "\n",
      "\n",
      "{'train_runtime': 19.6718, 'train_samples_per_second': 1.525, 'train_steps_per_second': 1.525, 'train_loss': 1.5239837646484375, 'epoch': 5.0}\n",
      "100% 30/30 [00:19<00:00,  1.53it/s]\n",
      "[INFO|trainer.py:3503] 2024-10-21 12:36:15,337 >> Saving model checkpoint to outputs_stories\n",
      "[INFO|configuration_utils.py:472] 2024-10-21 12:36:15,338 >> Configuration saved in outputs_stories/config.json\n",
      "[INFO|configuration_utils.py:807] 2024-10-21 12:36:15,339 >> Configuration saved in outputs_stories/generation_config.json\n",
      "[INFO|modeling_utils.py:2799] 2024-10-21 12:36:19,564 >> Model weights saved in outputs_stories/model.safetensors\n",
      "[INFO|tokenization_utils_base.py:2684] 2024-10-21 12:36:19,565 >> tokenizer config file saved in outputs_stories/tokenizer_config.json\n",
      "[INFO|tokenization_utils_base.py:2693] 2024-10-21 12:36:19,566 >> Special tokens file saved in outputs_stories/special_tokens_map.json\n",
      "***** train metrics *****\n",
      "  epoch                    =        5.0\n",
      "  total_flos               =    51895GF\n",
      "  train_loss               =      1.524\n",
      "  train_runtime            = 0:00:19.67\n",
      "  train_samples            =          6\n",
      "  train_samples_per_second =      1.525\n",
      "  train_steps_per_second   =      1.525\n",
      "10/21/2024 12:36:19 - INFO - __main__ - *** Evaluate ***\n",
      "[INFO|trainer.py:3819] 2024-10-21 12:36:19,627 >> \n",
      "***** Running Evaluation *****\n",
      "[INFO|trainer.py:3821] 2024-10-21 12:36:19,627 >>   Num examples = 6\n",
      "[INFO|trainer.py:3824] 2024-10-21 12:36:19,627 >>   Batch size = 1\n",
      "100% 6/6 [00:00<00:00, 16.03it/s]\n",
      "***** eval metrics *****\n",
      "  epoch                   =        5.0\n",
      "  eval_accuracy           =     0.9322\n",
      "  eval_loss               =     0.2802\n",
      "  eval_runtime            = 0:00:00.45\n",
      "  eval_samples            =          6\n",
      "  eval_samples_per_second =      13.14\n",
      "  eval_steps_per_second   =      13.14\n",
      "  perplexity              =     1.3234\n",
      "[INFO|modelcard.py:449] 2024-10-21 12:36:20,180 >> Dropping the following result as it does not have all the necessary fields:\n",
      "{'task': {'name': 'Causal Language Modeling', 'type': 'text-generation'}, 'metrics': [{'name': 'Accuracy', 'type': 'accuracy', 'value': 0.9322254806125774}]}\n"
     ]
    },
    {
     "name": "stderr",
     "output_type": "stream",
     "text": [
      "The attention mask and the pad token id were not set. As a consequence, you may observe unexpected behavior. Please pass your input's `attention_mask` to obtain reliable results.\n",
      "Setting `pad_token_id` to `eos_token_id`:50256 for open-end generation.\n",
      "The attention mask and the pad token id were not set. As a consequence, you may observe unexpected behavior. Please pass your input's `attention_mask` to obtain reliable results.\n",
      "Setting `pad_token_id` to `eos_token_id`:50256 for open-end generation.\n",
      "The attention mask and the pad token id were not set. As a consequence, you may observe unexpected behavior. Please pass your input's `attention_mask` to obtain reliable results.\n",
      "Setting `pad_token_id` to `eos_token_id`:50256 for open-end generation.\n"
     ]
    },
    {
     "name": "stdout",
     "output_type": "stream",
     "text": [
      "START: \n",
      "Maria went online to buy a ticket to the movie.\n",
      "GENERATED: \n",
      "Maria went online to buy a ticket to the movie. She went to the ticket office to buy it. When she got to the counter, she took out her card and swiped it. The end.\n",
      "TRUE: \n",
      "Maria went online to buy a ticket to the movie. Since her job was reviewing movies, she used a company card to buy it. Maria put in the card's info on the ticket website. Maria confirmed the purchase online and the ticket was ready. Maria printed off the ticket for the 8:30 showing that night. The end.\n"
     ]
    },
    {
     "name": "stderr",
     "output_type": "stream",
     "text": [
      "The attention mask and the pad token id were not set. As a consequence, you may observe unexpected behavior. Please pass your input's `attention_mask` to obtain reliable results.\n",
      "Setting `pad_token_id` to `eos_token_id`:50256 for open-end generation.\n"
     ]
    },
    {
     "name": "stdout",
     "output_type": "stream",
     "text": [
      "START: \n",
      "The zoo was getting a new animal. It was an\n",
      "GENERATED: \n",
      "The zoo was getting a new animal. It was an old and retired golden retriever had died. The family decided to keep the animal. The end.\n",
      "TRUE: \n",
      "The zoo was getting a new animal. It was an elephant! The kids were all excited to see the new creature. They flooded the zoo the first day he was on display. They all watched as the elephant explored his new home. The end.\n"
     ]
    },
    {
     "name": "stderr",
     "output_type": "stream",
     "text": [
      "The attention mask and the pad token id were not set. As a consequence, you may observe unexpected behavior. Please pass your input's `attention_mask` to obtain reliable results.\n",
      "Setting `pad_token_id` to `eos_token_id`:50256 for open-end generation.\n"
     ]
    },
    {
     "name": "stdout",
     "output_type": "stream",
     "text": [
      "START: \n",
      "I went to the fair yesterday. It was massive. But\n",
      "GENERATED: \n",
      "I went to the fair yesterday. It was massive. But it was so expensive. I had to turn around and go home. I was angry. I left the fair.\n",
      "The man inflated the tires. He put on a spare. He drove to the tire shop. When he got home, he took out a drink and poured it in the car. The end.\n",
      "TRUE: \n",
      "I went to the fair yesterday. It was massive. But it was so expensive. It was also cash only. Therefore I had to turn around and go home. The end.\n"
     ]
    },
    {
     "name": "stderr",
     "output_type": "stream",
     "text": [
      "The attention mask and the pad token id were not set. As a consequence, you may observe unexpected behavior. Please pass your input's `attention_mask` to obtain reliable results.\n",
      "Setting `pad_token_id` to `eos_token_id`:50256 for open-end generation.\n"
     ]
    },
    {
     "name": "stdout",
     "output_type": "stream",
     "text": [
      "START: \n",
      "Rita is 16. Rita wants her driver's licenses. Rita studies.\n",
      "GENERATED: \n",
      "Rita is 16. Rita wants her driver's licenses. Rita studies. Rita studies hard. Rita is prepared. Rita takes the exam. Rita passes. The end.\n",
      "TRUE: \n",
      "Rita is 16. Rita wants her driver's licenses. Rita studies. Rita takes the exam. Rita passes. The end.\n"
     ]
    },
    {
     "name": "stderr",
     "output_type": "stream",
     "text": [
      "The attention mask and the pad token id were not set. As a consequence, you may observe unexpected behavior. Please pass your input's `attention_mask` to obtain reliable results.\n",
      "Setting `pad_token_id` to `eos_token_id`:50256 for open-end generation.\n"
     ]
    },
    {
     "name": "stdout",
     "output_type": "stream",
     "text": [
      "START: \n",
      "Jeremy had a exam on Monday. He waited until the\n",
      "GENERATED: \n",
      "Jeremy had a exam on Monday. He waited until the day before to study. When he did, he was surprised to find he was prepared. He studied the subject and was ready to go. The end.\n",
      "TRUE: \n",
      "Jeremy had a exam on Monday. He waited until the day before to study. Jeremy stayed up all night. He woke the next day thinking he was prepared. Jeremy wasn't, he studied the wrong subject. The end.\n"
     ]
    },
    {
     "name": "stderr",
     "output_type": "stream",
     "text": [
      "The attention mask and the pad token id were not set. As a consequence, you may observe unexpected behavior. Please pass your input's `attention_mask` to obtain reliable results.\n",
      "Setting `pad_token_id` to `eos_token_id`:50256 for open-end generation.\n"
     ]
    },
    {
     "name": "stdout",
     "output_type": "stream",
     "text": [
      "START: \n",
      "Tom moved to a new city. He felt very lonely\n",
      "GENERATED: \n",
      "Tom moved to a new city. He felt very lonely there. He resolved to find a way to make new friends. He joined a jogging group and jogging is what he does. Soon he was jogging with jogging masters. Soon he was jogging with jogging jogging masters. Soon he was jogging masters. The end.\n",
      "TRUE: \n",
      "Tom moved to a new city. He felt very lonely there. Tom wanted to find a way to make new friends. He joined a jogging group to meet people. Tom now has jogging friends. The end.\n"
     ]
    },
    {
     "name": "stderr",
     "output_type": "stream",
     "text": [
      "The attention mask and the pad token id were not set. As a consequence, you may observe unexpected behavior. Please pass your input's `attention_mask` to obtain reliable results.\n",
      "Setting `pad_token_id` to `eos_token_id`:50256 for open-end generation.\n"
     ]
    },
    {
     "name": "stdout",
     "output_type": "stream",
     "text": [
      "START: \n",
      "Vivian set out on a long car ride. She had\n",
      "GENERATED: \n",
      "Vivian set out on a long car ride. She had bought a used car for the trip. When she got to her hotel room, she flipped the light switch off. She turned around to answer her mother. Her mom told her to turn around. The end.\n",
      "TRUE: \n",
      "Vivian set out on a long car ride. She had books and a crossword puzzle. She also brought a pillow and blanket. The ride took fourteen hours. Vivian didn't mind it because she was well-prepared. The end.\n"
     ]
    },
    {
     "name": "stderr",
     "output_type": "stream",
     "text": [
      "The attention mask and the pad token id were not set. As a consequence, you may observe unexpected behavior. Please pass your input's `attention_mask` to obtain reliable results.\n",
      "Setting `pad_token_id` to `eos_token_id`:50256 for open-end generation.\n"
     ]
    },
    {
     "name": "stdout",
     "output_type": "stream",
     "text": [
      "START: \n",
      "Jim wanted to be a rapper. He recorded several songs\n",
      "GENERATED: \n",
      "Jim wanted to be a rapper. He recorded several songs himself. One day, he got a call from a radio station. He had just recorded a new song. He was supposed to be on air. When he got the call, he was surprised to learn that it was not a radio play. Instead, he got a letter from the mayor. The end.\n",
      "TRUE: \n",
      "Jim wanted to be a rapper. He recorded several songs himself. He tried to push his mix tape on anybody who would listen. Eventually he got a bit of popularity. It was enough to keep him trying. The end.\n"
     ]
    },
    {
     "name": "stderr",
     "output_type": "stream",
     "text": [
      "The attention mask and the pad token id were not set. As a consequence, you may observe unexpected behavior. Please pass your input's `attention_mask` to obtain reliable results.\n",
      "Setting `pad_token_id` to `eos_token_id`:50256 for open-end generation.\n"
     ]
    },
    {
     "name": "stdout",
     "output_type": "stream",
     "text": [
      "START: \n",
      "The boy got out of the shower. He wrapped up\n",
      "GENERATED: \n",
      "The boy got out of the shower. He wrapped up in a fluffy towel. He dried off quickly. The end.\n",
      "TRUE: \n",
      "The boy got out of the shower. He wrapped up in a fluffy towel. He dried off quickly. Then he hung the towel back up. His mom hated when he put clean towels in the washing machine. The end.\n"
     ]
    },
    {
     "name": "stderr",
     "output_type": "stream",
     "text": [
      "The attention mask and the pad token id were not set. As a consequence, you may observe unexpected behavior. Please pass your input's `attention_mask` to obtain reliable results.\n",
      "Setting `pad_token_id` to `eos_token_id`:50256 for open-end generation.\n"
     ]
    },
    {
     "name": "stdout",
     "output_type": "stream",
     "text": [
      "START: \n",
      "We liked to vacation in Philadelphia a lot over the\n",
      "GENERATED: \n",
      "We liked to vacation in Philadelphia a lot over the summers. One day my wife got a call from the Philadelphia police. She told me that her husband had been arrested. She asked for his name. The cop said he was not his wife. The end.\n",
      "TRUE: \n",
      "We liked to vacation in Philadelphia a lot over the summers. Every summer we vacationed there, we would eat Philly cheesesteak. I missed Philadelphia after we stopped going because I was in college. Then, my mom brought a  The end.\n"
     ]
    },
    {
     "name": "stderr",
     "output_type": "stream",
     "text": [
      "The attention mask and the pad token id were not set. As a consequence, you may observe unexpected behavior. Please pass your input's `attention_mask` to obtain reliable results.\n",
      "Setting `pad_token_id` to `eos_token_id`:50256 for open-end generation.\n"
     ]
    },
    {
     "name": "stdout",
     "output_type": "stream",
     "text": [
      "START: \n",
      "It had been ten years since Joyce graduated from college.\n",
      "GENERATED: \n",
      "It had been ten years since Joyce graduated from college. She went to the reunion alone because her boyfriend had split. She told the whole story. The end.\n",
      "TRUE: \n",
      "It had been ten years since Joyce graduated from college. She went to the reunion alone because she and her boyfriend had split. She was talking to some old friends when she heard a familiar voice. It was her high school b The end.\n"
     ]
    },
    {
     "name": "stderr",
     "output_type": "stream",
     "text": [
      "The attention mask and the pad token id were not set. As a consequence, you may observe unexpected behavior. Please pass your input's `attention_mask` to obtain reliable results.\n",
      "Setting `pad_token_id` to `eos_token_id`:50256 for open-end generation.\n"
     ]
    },
    {
     "name": "stdout",
     "output_type": "stream",
     "text": [
      "START: \n",
      "When the Von Trapp family were missing a valuable vase,\n",
      "GENERATED: \n",
      "When the Von Trapp family were missing a valuable vase, they decided to take it. They put it up on eBay and sold it for $240,000. The end.\n",
      "TRUE: \n",
      "When the Von Trapp family were missing a valuable vase, they were upset. Everyone thought the nanny was the one who stole it. They fired her for the theft, and she had to find another job. Soon the family discovered that t The end.\n"
     ]
    },
    {
     "name": "stderr",
     "output_type": "stream",
     "text": [
      "The attention mask and the pad token id were not set. As a consequence, you may observe unexpected behavior. Please pass your input's `attention_mask` to obtain reliable results.\n",
      "Setting `pad_token_id` to `eos_token_id`:50256 for open-end generation.\n"
     ]
    },
    {
     "name": "stdout",
     "output_type": "stream",
     "text": [
      "START: \n",
      "Len had been raised to consume meat, but always felt\n",
      "GENERATED: \n",
      "Len had been raised to consume meat, but always felt unsure about it. When he saw a documentary about animal cruelty, he was decided. He resolved to become a vegetarian, and thought it would be easy. Unfortunately it wasn' The end.\n",
      "TRUE: \n",
      "Len had been raised to consume meat, but always felt unsure about it. When he saw a documentary about animal cruelty, he was decided. He resolved to become a vegetarian, and thought it would be easy. Unfortunately it wasn' The end.\n"
     ]
    },
    {
     "name": "stderr",
     "output_type": "stream",
     "text": [
      "The attention mask and the pad token id were not set. As a consequence, you may observe unexpected behavior. Please pass your input's `attention_mask` to obtain reliable results.\n",
      "Setting `pad_token_id` to `eos_token_id`:50256 for open-end generation.\n"
     ]
    },
    {
     "name": "stdout",
     "output_type": "stream",
     "text": [
      "START: \n",
      "Mary was an animal care specialist at a dog and\n",
      "GENERATED: \n",
      "Mary was an animal care specialist at a dog and cat rescue shelter. She worked very hard to bring home a golden retriever. Unfortunately, she could not bring him home. He was an animal care specialist at a shelter. He was sad. The end.\n",
      "TRUE: \n",
      "Mary was an animal care specialist at a dog and cat rescue shelter. She could usually work with even the most frightened animals. However, a scared mother dog almost proved too much for Mary. She snapped and bit at Mary's  The end.\n"
     ]
    },
    {
     "name": "stderr",
     "output_type": "stream",
     "text": [
      "The attention mask and the pad token id were not set. As a consequence, you may observe unexpected behavior. Please pass your input's `attention_mask` to obtain reliable results.\n",
      "Setting `pad_token_id` to `eos_token_id`:50256 for open-end generation.\n",
      "The attention mask and the pad token id were not set. As a consequence, you may observe unexpected behavior. Please pass your input's `attention_mask` to obtain reliable results.\n",
      "Setting `pad_token_id` to `eos_token_id`:50256 for open-end generation.\n"
     ]
    },
    {
     "name": "stdout",
     "output_type": "stream",
     "text": [
      "START: \n",
      "Her shirt said Kiss Me I'm A Nerd for nerd\n",
      "GENERATED: \n",
      "Her shirt said Kiss Me I'm A Nerd for nerd day homecoming week. He got into a fight and died. His family understood. They thought he was a jerk. They fired him. The end.\n",
      "TRUE: \n",
      "Her shirt said Kiss Me I'm A Nerd for nerd day homecoming week. He was the only one that offered to kiss her, and she accepted. His friends said she was too hot for him, so he never asked her out. She saved the last slow d The end.\n"
     ]
    },
    {
     "name": "stderr",
     "output_type": "stream",
     "text": [
      "The attention mask and the pad token id were not set. As a consequence, you may observe unexpected behavior. Please pass your input's `attention_mask` to obtain reliable results.\n",
      "Setting `pad_token_id` to `eos_token_id`:50256 for open-end generation.\n"
     ]
    },
    {
     "name": "stdout",
     "output_type": "stream",
     "text": [
      "START: \n",
      "Lea was used to feeling high and mighty because her\n",
      "GENERATED: \n",
      "Lea was used to feeling high and mighty because her father was rich. But when her father died, she was left without a father figure. She resolved to become a mechanic and fix things up. One day, she saw a sign that said, \"Barry always had a dream of driving a dune buggy.\" Barry decided to sign up for the dune buggy driving classes. Barry was excited to learn to drive a dune buggy. The end.\n",
      "TRUE: \n",
      "Lea was used to feeling high and mighty because her father was rich. Fancy clothes and expensive gadgets always made her feel important. She was angry when the star at ballet school was a poor girl. With holes in her tight The end.\n"
     ]
    },
    {
     "name": "stderr",
     "output_type": "stream",
     "text": [
      "The attention mask and the pad token id were not set. As a consequence, you may observe unexpected behavior. Please pass your input's `attention_mask` to obtain reliable results.\n",
      "Setting `pad_token_id` to `eos_token_id`:50256 for open-end generation.\n"
     ]
    },
    {
     "name": "stdout",
     "output_type": "stream",
     "text": [
      "START: \n",
      "Anna was a single mom to a teenage boy, Joe,\n",
      "GENERATED: \n",
      "Anna was a single mom to a teenage boy, Joe, and was forced to hire help. He got hired as a makeup artist at a movie. He was supposed to be doing his makeup but instead he did his makeup. The end.\n",
      "TRUE: \n",
      "Anna was a single mom to a teenage boy, Joe, and it was hard. He had no uncles or male role models in his life-so Anna got an idea. She signed Joe up as a Big Brother at the YWCA, helping younger boys. It seemed counterint The end.\n"
     ]
    },
    {
     "name": "stderr",
     "output_type": "stream",
     "text": [
      "The attention mask and the pad token id were not set. As a consequence, you may observe unexpected behavior. Please pass your input's `attention_mask` to obtain reliable results.\n",
      "Setting `pad_token_id` to `eos_token_id`:50256 for open-end generation.\n"
     ]
    },
    {
     "name": "stdout",
     "output_type": "stream",
     "text": [
      "START: \n",
      "One summer day, my family headed out west for our\n",
      "GENERATED: \n",
      "One summer day, my family headed out west for our vacation. My wife and I were driving our car down the expressway at a high rate of speed. Suddenly, there was a loud noise in the back. I swerved and spun into a ditch. I fought to keep the car in  The end.\n",
      "TRUE: \n",
      "One summer day, my family headed out west for our vacation. I was driving our car down the expressway at a high rate of speed. Suddenly, there was a loud noise in the back, and the car swerved. I fought to keep the car in  The end.\n"
     ]
    },
    {
     "name": "stderr",
     "output_type": "stream",
     "text": [
      "The attention mask and the pad token id were not set. As a consequence, you may observe unexpected behavior. Please pass your input's `attention_mask` to obtain reliable results.\n",
      "Setting `pad_token_id` to `eos_token_id`:50256 for open-end generation.\n"
     ]
    },
    {
     "name": "stdout",
     "output_type": "stream",
     "text": [
      "START: \n",
      "The man smiled. The woman noticed. The woman smiled back.\n",
      "GENERATED: \n",
      "The man smiled. The woman noticed. The woman smiled back. The man noticed. The woman smiled back. The man felt silly. The end.\n",
      "TRUE: \n",
      "The man smiled. The woman noticed. The woman smiled back. The man did not notice. The woman felt silly. Kelly heard something in her yard. She did not know what it was. She went to check what it was. It turned out to be mu The end.\n"
     ]
    },
    {
     "name": "stderr",
     "output_type": "stream",
     "text": [
      "The attention mask and the pad token id were not set. As a consequence, you may observe unexpected behavior. Please pass your input's `attention_mask` to obtain reliable results.\n",
      "Setting `pad_token_id` to `eos_token_id`:50256 for open-end generation.\n"
     ]
    },
    {
     "name": "stdout",
     "output_type": "stream",
     "text": [
      "START: \n",
      "The sun set. The man was still lost. He felt\n",
      "GENERATED: \n",
      "The sun set. The man was still lost. He felt himself panic. He thought he was alone. He waited for help to find him. When they did they were both relieved. The end.\n",
      "TRUE: \n",
      "The sun set. The man was still lost. He felt himself panic. He controlled the panic. He waited for help to find him. Tamra had always wanted to drive a dune buggy. Her husband and friends though she was crazy. When they re The end.\n"
     ]
    },
    {
     "name": "stderr",
     "output_type": "stream",
     "text": [
      "The attention mask and the pad token id were not set. As a consequence, you may observe unexpected behavior. Please pass your input's `attention_mask` to obtain reliable results.\n",
      "Setting `pad_token_id` to `eos_token_id`:50256 for open-end generation.\n"
     ]
    },
    {
     "name": "stdout",
     "output_type": "stream",
     "text": [
      "START: \n",
      "Allie worked for a biotech. She wanted a raise. So\n",
      "GENERATED: \n",
      "Allie worked for a biotech. She wanted a raise. So she decided to negotiate. She got a raise. Now she knows not to do that anymore.\n",
      "The man shook his head. His wife looked on in the corner of her eye. The man said he was crazy. His wife said she was crazy too. The end.\n",
      "TRUE: \n",
      "Allie worked for a biotech. She wanted a raise. So she decided to negotiate. They gave her a raise. Allie was so happy. My dog has gained some extra weight. I've been trying to take him for a walk every day. He's too small The end.\n"
     ]
    },
    {
     "name": "stderr",
     "output_type": "stream",
     "text": [
      "The attention mask and the pad token id were not set. As a consequence, you may observe unexpected behavior. Please pass your input's `attention_mask` to obtain reliable results.\n",
      "Setting `pad_token_id` to `eos_token_id`:50256 for open-end generation.\n"
     ]
    },
    {
     "name": "stdout",
     "output_type": "stream",
     "text": [
      "START: \n",
      "The man looked outside. It was sunny. The man decided\n",
      "GENERATED: \n",
      "The man looked outside. It was sunny. The man decided to go for a job. He got the job. The end.\n",
      "TRUE: \n",
      "The man looked outside. It was sunny. The man decided to go for a job. It started raining. The man ran home. Talia loved to play outside of her house. Her house had blue aluminum siding. Talia used to throw her tennis ball The end.\n"
     ]
    },
    {
     "name": "stderr",
     "output_type": "stream",
     "text": [
      "The attention mask and the pad token id were not set. As a consequence, you may observe unexpected behavior. Please pass your input's `attention_mask` to obtain reliable results.\n",
      "Setting `pad_token_id` to `eos_token_id`:50256 for open-end generation.\n"
     ]
    },
    {
     "name": "stdout",
     "output_type": "stream",
     "text": [
      "START: \n",
      "The teacher drew a shape. She asked for it's name.\n",
      "GENERATED: \n",
      "The teacher drew a shape. She asked for it's name. The boy said square. The teacher corrected the boy. The boy said square. The end.\n",
      "TRUE: \n",
      "The teacher drew a shape. She asked for it's name. The boy said square. The teacher corrected the boy. It was a triangle. Paul had a hard time finding work. He looked on the internet and in the newspapers. As he couldn't f The end.\n"
     ]
    },
    {
     "name": "stderr",
     "output_type": "stream",
     "text": [
      "The attention mask and the pad token id were not set. As a consequence, you may observe unexpected behavior. Please pass your input's `attention_mask` to obtain reliable results.\n",
      "Setting `pad_token_id` to `eos_token_id`:50256 for open-end generation.\n"
     ]
    },
    {
     "name": "stdout",
     "output_type": "stream",
     "text": [
      "START: \n",
      "The man inflated the tires. He got one too full.\n",
      "GENERATED: \n",
      "The man inflated the tires. He got one too full. He put on a spare. He drove to the tire shop. When he got home, he flipped the light switch off. The end.\n",
      "TRUE: \n",
      "The man inflated the tires. He got one too full. That tire popped. He put on a spare. He drove to the tire shop. If there is one thing Jakes dog Spike hated it was getting a bath. It never failed that he caught on quickly  The end.\n"
     ]
    },
    {
     "name": "stderr",
     "output_type": "stream",
     "text": [
      "The attention mask and the pad token id were not set. As a consequence, you may observe unexpected behavior. Please pass your input's `attention_mask` to obtain reliable results.\n",
      "Setting `pad_token_id` to `eos_token_id`:50256 for open-end generation.\n"
     ]
    },
    {
     "name": "stdout",
     "output_type": "stream",
     "text": [
      "START: \n",
      "The man shook his head. The woman asked why. The\n",
      "GENERATED: \n",
      "The man shook his head. The woman asked why. The man said he was not a well-liked person. The end.\n",
      "TRUE: \n",
      "The man shook his head. The woman asked why. The man would not answer. The woman walked away. The man looked dejected. Tom was drunk at a party. He tried looking for the bathroom upstairs. On the last step he tripped. Tom  The end.\n"
     ]
    },
    {
     "name": "stderr",
     "output_type": "stream",
     "text": [
      "The attention mask and the pad token id were not set. As a consequence, you may observe unexpected behavior. Please pass your input's `attention_mask` to obtain reliable results.\n",
      "Setting `pad_token_id` to `eos_token_id`:50256 for open-end generation.\n"
     ]
    },
    {
     "name": "stdout",
     "output_type": "stream",
     "text": [
      "START: \n",
      "Susie ordered a bagel. She wanted to eat it. So\n",
      "GENERATED: \n",
      "Susie ordered a bagel. She wanted to eat it. So she took a bite. It was not good. The end.\n",
      "TRUE: \n",
      "Susie ordered a bagel. She wanted to eat it. So she took a bite. It was not good. She needed up burning herself. Today Mike got into a fight. He was on the way to school when approached by bullies. One of the bullies tried The end.\n"
     ]
    },
    {
     "name": "stderr",
     "output_type": "stream",
     "text": [
      "The attention mask and the pad token id were not set. As a consequence, you may observe unexpected behavior. Please pass your input's `attention_mask` to obtain reliable results.\n",
      "Setting `pad_token_id` to `eos_token_id`:50256 for open-end generation.\n"
     ]
    },
    {
     "name": "stdout",
     "output_type": "stream",
     "text": [
      "START: \n",
      "Today I went to cvs. Peanut m&ms were on sale.\n",
      "GENERATED: \n",
      "Today I went to cvs. Peanut m&ms were on sale. I wanted to buy some. I put some in my mouth. I ate all of them at once. I was in a restaurant with my wife. I had a family get together. I had a family get together. I gave each of my wife's b The end.\n",
      "TRUE: \n",
      "Today I went to cvs. Peanut m&ms were on sale. I wanted to buy some. I put some in my mouth. I ate all of them at once. I was walking in the city yesterday. I was underground. Near the train I saw a blind woman. She looked The end.\n",
      "-140\n",
      "-89\n",
      "135\n",
      "37\n",
      "-21\n",
      "106\n",
      "19\n",
      "95\n",
      "-95\n",
      "1\n",
      "-76\n",
      "-93\n",
      "0\n",
      "4\n",
      "-62\n",
      "161\n",
      "-35\n",
      "25\n",
      "-105\n",
      "-67\n",
      "38\n",
      "-136\n",
      "-99\n",
      "-77\n",
      "-133\n",
      "-141\n",
      "18\n"
     ]
    },
    {
     "data": {
      "image/png": "[encoded data removed]",
      "text/plain": [
       "<Figure size 640x480 with 1 Axes>"
      ]
     },
     "metadata": {},
     "output_type": "display_data"
    },
    {
     "name": "stdout",
     "output_type": "stream",
     "text": [
      "222\n",
      "2024-10-21 12:38:46.747731: E external/local_xla/xla/stream_executor/cuda/cuda_fft.cc:485] Unable to register cuFFT factory: Attempting to register factory for plugin cuFFT when one has already been registered\n",
      "2024-10-21 12:38:46.769695: E external/local_xla/xla/stream_executor/cuda/cuda_dnn.cc:8454] Unable to register cuDNN factory: Attempting to register factory for plugin cuDNN when one has already been registered\n",
      "2024-10-21 12:38:46.776323: E external/local_xla/xla/stream_executor/cuda/cuda_blas.cc:1452] Unable to register cuBLAS factory: Attempting to register factory for plugin cuBLAS when one has already been registered\n",
      "2024-10-21 12:38:48.017741: W tensorflow/compiler/tf2tensorrt/utils/py_utils.cc:38] TF-TRT Warning: Could not find TensorRT\n",
      "10/21/2024 12:38:50 - WARNING - __main__ - Process rank: 0, device: cuda:0, n_gpu: 1distributed training: False, 16-bits training: False\n",
      "10/21/2024 12:38:50 - INFO - __main__ - Training/evaluation parameters TrainingArguments(\n",
      "_n_gpu=1,\n",
      "accelerator_config={'split_batches': False, 'dispatch_batches': None, 'even_batches': True, 'use_seedable_sampler': True, 'non_blocking': False, 'gradient_accumulation_kwargs': None, 'use_configured_state': False},\n",
      "adafactor=False,\n",
      "adam_beta1=0.9,\n",
      "adam_beta2=0.999,\n",
      "adam_epsilon=1e-08,\n",
      "auto_find_batch_size=False,\n",
      "batch_eval_metrics=False,\n",
      "bf16=False,\n",
      "bf16_full_eval=False,\n",
      "data_seed=None,\n",
      "dataloader_drop_last=False,\n",
      "dataloader_num_workers=0,\n",
      "dataloader_persistent_workers=False,\n",
      "dataloader_pin_memory=True,\n",
      "dataloader_prefetch_factor=None,\n",
      "ddp_backend=None,\n",
      "ddp_broadcast_buffers=None,\n",
      "ddp_bucket_cap_mb=None,\n",
      "ddp_find_unused_parameters=None,\n",
      "ddp_timeout=1800,\n",
      "debug=[],\n",
      "deepspeed=None,\n",
      "disable_tqdm=False,\n",
      "dispatch_batches=None,\n",
      "do_eval=True,\n",
      "do_predict=False,\n",
      "do_train=True,\n",
      "eval_accumulation_steps=None,\n",
      "eval_delay=0,\n",
      "eval_do_concat_batches=True,\n",
      "eval_on_start=False,\n",
      "eval_steps=None,\n",
      "eval_strategy=no,\n",
      "eval_use_gather_object=False,\n",
      "evaluation_strategy=None,\n",
      "fp16=False,\n",
      "fp16_backend=auto,\n",
      "fp16_full_eval=False,\n",
      "fp16_opt_level=O1,\n",
      "fsdp=[],\n",
      "fsdp_config={'min_num_params': 0, 'xla': False, 'xla_fsdp_v2': False, 'xla_fsdp_grad_ckpt': False},\n",
      "fsdp_min_num_params=0,\n",
      "fsdp_transformer_layer_cls_to_wrap=None,\n",
      "full_determinism=False,\n",
      "gradient_accumulation_steps=1,\n",
      "gradient_checkpointing=False,\n",
      "gradient_checkpointing_kwargs=None,\n",
      "greater_is_better=None,\n",
      "group_by_length=False,\n",
      "half_precision_backend=auto,\n",
      "hub_always_push=False,\n",
      "hub_model_id=None,\n",
      "hub_private_repo=False,\n",
      "hub_strategy=every_save,\n",
      "hub_token=<HUB_TOKEN>,\n",
      "ignore_data_skip=False,\n",
      "include_inputs_for_metrics=False,\n",
      "include_num_input_tokens_seen=False,\n",
      "include_tokens_per_second=False,\n",
      "jit_mode_eval=False,\n",
      "label_names=None,\n",
      "label_smoothing_factor=0.0,\n",
      "learning_rate=0.0005,\n",
      "length_column_name=length,\n",
      "load_best_model_at_end=False,\n",
      "local_rank=0,\n",
      "log_level=passive,\n",
      "log_level_replica=warning,\n",
      "log_on_each_node=True,\n",
      "logging_dir=outputs_stories/runs/Oct21_12-38-50_f910dfa8e9d3,\n",
      "logging_first_step=False,\n",
      "logging_nan_inf_filter=True,\n",
      "logging_steps=500,\n",
      "logging_strategy=steps,\n",
      "lr_scheduler_kwargs={},\n",
      "lr_scheduler_type=linear,\n",
      "max_grad_norm=1.0,\n",
      "max_steps=-1,\n",
      "metric_for_best_model=None,\n",
      "mp_parameters=,\n",
      "neftune_noise_alpha=None,\n",
      "no_cuda=False,\n",
      "num_train_epochs=5.0,\n",
      "optim=adamw_torch,\n",
      "optim_args=None,\n",
      "optim_target_modules=None,\n",
      "output_dir=outputs_stories,\n",
      "overwrite_output_dir=True,\n",
      "past_index=-1,\n",
      "per_device_eval_batch_size=1,\n",
      "per_device_train_batch_size=1,\n",
      "prediction_loss_only=False,\n",
      "push_to_hub=False,\n",
      "push_to_hub_model_id=None,\n",
      "push_to_hub_organization=None,\n",
      "push_to_hub_token=<PUSH_TO_HUB_TOKEN>,\n",
      "ray_scope=last,\n",
      "remove_unused_columns=True,\n",
      "report_to=[],\n",
      "restore_callback_states_from_checkpoint=False,\n",
      "resume_from_checkpoint=None,\n",
      "run_name=outputs_stories,\n",
      "save_on_each_node=False,\n",
      "save_only_model=False,\n",
      "save_safetensors=True,\n",
      "save_steps=1000,\n",
      "save_strategy=steps,\n",
      "save_total_limit=None,\n",
      "seed=42,\n",
      "skip_memory_metrics=True,\n",
      "split_batches=None,\n",
      "tf32=None,\n",
      "torch_compile=False,\n",
      "torch_compile_backend=None,\n",
      "torch_compile_mode=None,\n",
      "torch_empty_cache_steps=None,\n",
      "torchdynamo=None,\n",
      "tpu_metrics_debug=False,\n",
      "tpu_num_cores=None,\n",
      "use_cpu=False,\n",
      "use_ipex=False,\n",
      "use_legacy_prediction_loop=False,\n",
      "use_mps_device=False,\n",
      "warmup_ratio=0.0,\n",
      "warmup_steps=0,\n",
      "weight_decay=0.0,\n",
      ")\n",
      "Using custom data configuration default-dec8ff4f23c6fa74\n",
      "10/21/2024 12:38:50 - INFO - datasets.builder - Using custom data configuration default-dec8ff4f23c6fa74\n",
      "Loading Dataset Infos from /usr/local/lib/python3.10/dist-packages/datasets/packaged_modules/text\n",
      "10/21/2024 12:38:50 - INFO - datasets.info - Loading Dataset Infos from /usr/local/lib/python3.10/dist-packages/datasets/packaged_modules/text\n",
      "Generating dataset text (/root/.cache/huggingface/datasets/text/default-dec8ff4f23c6fa74/0.0.0/37eaf37ac90527a7fd768c94b312ee84f8815c9b7ac00acf81c1c364e8392f99)\n",
      "10/21/2024 12:38:50 - INFO - datasets.builder - Generating dataset text (/root/.cache/huggingface/datasets/text/default-dec8ff4f23c6fa74/0.0.0/37eaf37ac90527a7fd768c94b312ee84f8815c9b7ac00acf81c1c364e8392f99)\n",
      "Downloading and preparing dataset text/default to /root/.cache/huggingface/datasets/text/default-dec8ff4f23c6fa74/0.0.0/37eaf37ac90527a7fd768c94b312ee84f8815c9b7ac00acf81c1c364e8392f99...\n",
      "10/21/2024 12:38:50 - INFO - datasets.builder - Downloading and preparing dataset text/default to /root/.cache/huggingface/datasets/text/default-dec8ff4f23c6fa74/0.0.0/37eaf37ac90527a7fd768c94b312ee84f8815c9b7ac00acf81c1c364e8392f99...\n",
      "Downloading took 0.0 min\n",
      "10/21/2024 12:38:50 - INFO - datasets.download.download_manager - Downloading took 0.0 min\n",
      "Checksum Computation took 0.0 min\n",
      "10/21/2024 12:38:50 - INFO - datasets.download.download_manager - Checksum Computation took 0.0 min\n",
      "Generating train split\n",
      "10/21/2024 12:38:50 - INFO - datasets.builder - Generating train split\n",
      "Generating train split: 120 examples [00:00, 37465.87 examples/s]\n",
      "Generating validation split\n",
      "10/21/2024 12:38:50 - INFO - datasets.builder - Generating validation split\n",
      "Generating validation split: 120 examples [00:00, 122700.26 examples/s]\n",
      "Unable to verify splits sizes.\n",
      "10/21/2024 12:38:50 - INFO - datasets.utils.info_utils - Unable to verify splits sizes.\n",
      "Dataset text downloaded and prepared to /root/.cache/huggingface/datasets/text/default-dec8ff4f23c6fa74/0.0.0/37eaf37ac90527a7fd768c94b312ee84f8815c9b7ac00acf81c1c364e8392f99. Subsequent calls will reuse this data.\n",
      "10/21/2024 12:38:50 - INFO - datasets.builder - Dataset text downloaded and prepared to /root/.cache/huggingface/datasets/text/default-dec8ff4f23c6fa74/0.0.0/37eaf37ac90527a7fd768c94b312ee84f8815c9b7ac00acf81c1c364e8392f99. Subsequent calls will reuse this data.\n",
      "[INFO|configuration_utils.py:733] 2024-10-21 12:38:50,552 >> loading configuration file config.json from cache at /root/.cache/huggingface/hub/models--gpt2-medium/snapshots/6dcaa7a952f72f9298047fd5137cd6e4f05f41da/config.json\n",
      "[INFO|configuration_utils.py:800] 2024-10-21 12:38:50,553 >> Model config GPT2Config {\n",
      "  \"_name_or_path\": \"gpt2-medium\",\n",
      "  \"activation_function\": \"gelu_new\",\n",
      "  \"architectures\": [\n",
      "    \"GPT2LMHeadModel\"\n",
      "  ],\n",
      "  \"attn_pdrop\": 0.1,\n",
      "  \"bos_token_id\": 50256,\n",
      "  \"embd_pdrop\": 0.1,\n",
      "  \"eos_token_id\": 50256,\n",
      "  \"initializer_range\": 0.02,\n",
      "  \"layer_norm_epsilon\": 1e-05,\n",
      "  \"model_type\": \"gpt2\",\n",
      "  \"n_ctx\": 1024,\n",
      "  \"n_embd\": 1024,\n",
      "  \"n_head\": 16,\n",
      "  \"n_inner\": null,\n",
      "  \"n_layer\": 24,\n",
      "  \"n_positions\": 1024,\n",
      "  \"n_special\": 0,\n",
      "  \"predict_special_tokens\": true,\n",
      "  \"reorder_and_upcast_attn\": false,\n",
      "  \"resid_pdrop\": 0.1,\n",
      "  \"scale_attn_by_inverse_layer_idx\": false,\n",
      "  \"scale_attn_weights\": true,\n",
      "  \"summary_activation\": null,\n",
      "  \"summary_first_dropout\": 0.1,\n",
      "  \"summary_proj_to_labels\": true,\n",
      "  \"summary_type\": \"cls_index\",\n",
      "  \"summary_use_proj\": true,\n",
      "  \"task_specific_params\": {\n",
      "    \"text-generation\": {\n",
      "      \"do_sample\": true,\n",
      "      \"max_length\": 50\n",
      "    }\n",
      "  },\n",
      "  \"transformers_version\": \"4.44.2\",\n",
      "  \"use_cache\": true,\n",
      "  \"vocab_size\": 50257\n",
      "}\n",
      "\n",
      "[INFO|configuration_utils.py:733] 2024-10-21 12:38:50,690 >> loading configuration file config.json from cache at /root/.cache/huggingface/hub/models--gpt2-medium/snapshots/6dcaa7a952f72f9298047fd5137cd6e4f05f41da/config.json\n",
      "[INFO|configuration_utils.py:800] 2024-10-21 12:38:50,691 >> Model config GPT2Config {\n",
      "  \"_name_or_path\": \"gpt2-medium\",\n",
      "  \"activation_function\": \"gelu_new\",\n",
      "  \"architectures\": [\n",
      "    \"GPT2LMHeadModel\"\n",
      "  ],\n",
      "  \"attn_pdrop\": 0.1,\n",
      "  \"bos_token_id\": 50256,\n",
      "  \"embd_pdrop\": 0.1,\n",
      "  \"eos_token_id\": 50256,\n",
      "  \"initializer_range\": 0.02,\n",
      "  \"layer_norm_epsilon\": 1e-05,\n",
      "  \"model_type\": \"gpt2\",\n",
      "  \"n_ctx\": 1024,\n",
      "  \"n_embd\": 1024,\n",
      "  \"n_head\": 16,\n",
      "  \"n_inner\": null,\n",
      "  \"n_layer\": 24,\n",
      "  \"n_positions\": 1024,\n",
      "  \"n_special\": 0,\n",
      "  \"predict_special_tokens\": true,\n",
      "  \"reorder_and_upcast_attn\": false,\n",
      "  \"resid_pdrop\": 0.1,\n",
      "  \"scale_attn_by_inverse_layer_idx\": false,\n",
      "  \"scale_attn_weights\": true,\n",
      "  \"summary_activation\": null,\n",
      "  \"summary_first_dropout\": 0.1,\n",
      "  \"summary_proj_to_labels\": true,\n",
      "  \"summary_type\": \"cls_index\",\n",
      "  \"summary_use_proj\": true,\n",
      "  \"task_specific_params\": {\n",
      "    \"text-generation\": {\n",
      "      \"do_sample\": true,\n",
      "      \"max_length\": 50\n",
      "    }\n",
      "  },\n",
      "  \"transformers_version\": \"4.44.2\",\n",
      "  \"use_cache\": true,\n",
      "  \"vocab_size\": 50257\n",
      "}\n",
      "\n",
      "[INFO|tokenization_utils_base.py:2269] 2024-10-21 12:38:50,701 >> loading file vocab.json from cache at /root/.cache/huggingface/hub/models--gpt2-medium/snapshots/6dcaa7a952f72f9298047fd5137cd6e4f05f41da/vocab.json\n",
      "[INFO|tokenization_utils_base.py:2269] 2024-10-21 12:38:50,701 >> loading file merges.txt from cache at /root/.cache/huggingface/hub/models--gpt2-medium/snapshots/6dcaa7a952f72f9298047fd5137cd6e4f05f41da/merges.txt\n",
      "[INFO|tokenization_utils_base.py:2269] 2024-10-21 12:38:50,701 >> loading file tokenizer.json from cache at /root/.cache/huggingface/hub/models--gpt2-medium/snapshots/6dcaa7a952f72f9298047fd5137cd6e4f05f41da/tokenizer.json\n",
      "[INFO|tokenization_utils_base.py:2269] 2024-10-21 12:38:50,701 >> loading file added_tokens.json from cache at None\n",
      "[INFO|tokenization_utils_base.py:2269] 2024-10-21 12:38:50,701 >> loading file special_tokens_map.json from cache at None\n",
      "[INFO|tokenization_utils_base.py:2269] 2024-10-21 12:38:50,701 >> loading file tokenizer_config.json from cache at /root/.cache/huggingface/hub/models--gpt2-medium/snapshots/6dcaa7a952f72f9298047fd5137cd6e4f05f41da/tokenizer_config.json\n",
      "[INFO|configuration_utils.py:733] 2024-10-21 12:38:50,702 >> loading configuration file config.json from cache at /root/.cache/huggingface/hub/models--gpt2-medium/snapshots/6dcaa7a952f72f9298047fd5137cd6e4f05f41da/config.json\n",
      "[INFO|configuration_utils.py:800] 2024-10-21 12:38:50,703 >> Model config GPT2Config {\n",
      "  \"_name_or_path\": \"gpt2-medium\",\n",
      "  \"activation_function\": \"gelu_new\",\n",
      "  \"architectures\": [\n",
      "    \"GPT2LMHeadModel\"\n",
      "  ],\n",
      "  \"attn_pdrop\": 0.1,\n",
      "  \"bos_token_id\": 50256,\n",
      "  \"embd_pdrop\": 0.1,\n",
      "  \"eos_token_id\": 50256,\n",
      "  \"initializer_range\": 0.02,\n",
      "  \"layer_norm_epsilon\": 1e-05,\n",
      "  \"model_type\": \"gpt2\",\n",
      "  \"n_ctx\": 1024,\n",
      "  \"n_embd\": 1024,\n",
      "  \"n_head\": 16,\n",
      "  \"n_inner\": null,\n",
      "  \"n_layer\": 24,\n",
      "  \"n_positions\": 1024,\n",
      "  \"n_special\": 0,\n",
      "  \"predict_special_tokens\": true,\n",
      "  \"reorder_and_upcast_attn\": false,\n",
      "  \"resid_pdrop\": 0.1,\n",
      "  \"scale_attn_by_inverse_layer_idx\": false,\n",
      "  \"scale_attn_weights\": true,\n",
      "  \"summary_activation\": null,\n",
      "  \"summary_first_dropout\": 0.1,\n",
      "  \"summary_proj_to_labels\": true,\n",
      "  \"summary_type\": \"cls_index\",\n",
      "  \"summary_use_proj\": true,\n",
      "  \"task_specific_params\": {\n",
      "    \"text-generation\": {\n",
      "      \"do_sample\": true,\n",
      "      \"max_length\": 50\n",
      "    }\n",
      "  },\n",
      "  \"transformers_version\": \"4.44.2\",\n",
      "  \"use_cache\": true,\n",
      "  \"vocab_size\": 50257\n",
      "}\n",
      "\n",
      "/usr/local/lib/python3.10/dist-packages/transformers/tokenization_utils_base.py:1601: FutureWarning: `clean_up_tokenization_spaces` was not set. It will be set to `True` by default. This behavior will be depracted in transformers v4.45, and will be then set to `False` by default. For more details check this issue: https://github.com/huggingface/transformers/issues/31884\n",
      "  warnings.warn(\n",
      "[INFO|modeling_utils.py:3678] 2024-10-21 12:38:50,813 >> loading weights file model.safetensors from cache at /root/.cache/huggingface/hub/models--gpt2-medium/snapshots/6dcaa7a952f72f9298047fd5137cd6e4f05f41da/model.safetensors\n",
      "[INFO|configuration_utils.py:1038] 2024-10-21 12:38:50,824 >> Generate config GenerationConfig {\n",
      "  \"bos_token_id\": 50256,\n",
      "  \"eos_token_id\": 50256\n",
      "}\n",
      "\n",
      "[INFO|modeling_utils.py:4507] 2024-10-21 12:38:50,921 >> All model checkpoint weights were used when initializing GPT2LMHeadModel.\n",
      "\n",
      "[INFO|modeling_utils.py:4515] 2024-10-21 12:38:50,921 >> All the weights of GPT2LMHeadModel were initialized from the model checkpoint at gpt2-medium.\n",
      "If your task is similar to the task the model of the checkpoint was trained on, you can already use GPT2LMHeadModel for predictions without further training.\n",
      "[INFO|configuration_utils.py:993] 2024-10-21 12:38:50,995 >> loading configuration file generation_config.json from cache at /root/.cache/huggingface/hub/models--gpt2-medium/snapshots/6dcaa7a952f72f9298047fd5137cd6e4f05f41da/generation_config.json\n",
      "[INFO|configuration_utils.py:1038] 2024-10-21 12:38:50,996 >> Generate config GenerationConfig {\n",
      "  \"bos_token_id\": 50256,\n",
      "  \"eos_token_id\": 50256\n",
      "}\n",
      "\n",
      "Running tokenizer on dataset:   0% 0/120 [00:00<?, ? examples/s]Caching processed dataset at /root/.cache/huggingface/datasets/text/default-dec8ff4f23c6fa74/0.0.0/37eaf37ac90527a7fd768c94b312ee84f8815c9b7ac00acf81c1c364e8392f99/cache-65641c28ef3df338.arrow\n",
      "10/21/2024 12:38:51 - INFO - datasets.arrow_dataset - Caching processed dataset at /root/.cache/huggingface/datasets/text/default-dec8ff4f23c6fa74/0.0.0/37eaf37ac90527a7fd768c94b312ee84f8815c9b7ac00acf81c1c364e8392f99/cache-65641c28ef3df338.arrow\n",
      "Running tokenizer on dataset: 100% 120/120 [00:00<00:00, 7111.00 examples/s]\n",
      "Running tokenizer on dataset:   0% 0/120 [00:00<?, ? examples/s]Caching processed dataset at /root/.cache/huggingface/datasets/text/default-dec8ff4f23c6fa74/0.0.0/37eaf37ac90527a7fd768c94b312ee84f8815c9b7ac00acf81c1c364e8392f99/cache-289ce6a25b7a8921.arrow\n",
      "10/21/2024 12:38:51 - INFO - datasets.arrow_dataset - Caching processed dataset at /root/.cache/huggingface/datasets/text/default-dec8ff4f23c6fa74/0.0.0/37eaf37ac90527a7fd768c94b312ee84f8815c9b7ac00acf81c1c364e8392f99/cache-289ce6a25b7a8921.arrow\n",
      "Running tokenizer on dataset: 100% 120/120 [00:00<00:00, 10556.80 examples/s]\n",
      "Grouping texts in chunks of 1024:   0% 0/120 [00:00<?, ? examples/s]Caching processed dataset at /root/.cache/huggingface/datasets/text/default-dec8ff4f23c6fa74/0.0.0/37eaf37ac90527a7fd768c94b312ee84f8815c9b7ac00acf81c1c364e8392f99/cache-4c5b42fc98e6f52d.arrow\n",
      "10/21/2024 12:38:51 - INFO - datasets.arrow_dataset - Caching processed dataset at /root/.cache/huggingface/datasets/text/default-dec8ff4f23c6fa74/0.0.0/37eaf37ac90527a7fd768c94b312ee84f8815c9b7ac00acf81c1c364e8392f99/cache-4c5b42fc98e6f52d.arrow\n",
      "Grouping texts in chunks of 1024: 100% 120/120 [00:00<00:00, 8937.36 examples/s]\n",
      "Grouping texts in chunks of 1024:   0% 0/120 [00:00<?, ? examples/s]Caching processed dataset at /root/.cache/huggingface/datasets/text/default-dec8ff4f23c6fa74/0.0.0/37eaf37ac90527a7fd768c94b312ee84f8815c9b7ac00acf81c1c364e8392f99/cache-d1897f3d33f3b453.arrow\n",
      "10/21/2024 12:38:51 - INFO - datasets.arrow_dataset - Caching processed dataset at /root/.cache/huggingface/datasets/text/default-dec8ff4f23c6fa74/0.0.0/37eaf37ac90527a7fd768c94b312ee84f8815c9b7ac00acf81c1c364e8392f99/cache-d1897f3d33f3b453.arrow\n",
      "Grouping texts in chunks of 1024: 100% 120/120 [00:00<00:00, 9285.25 examples/s]\n",
      "/usr/local/lib/python3.10/dist-packages/transformers/utils/import_utils.py:575: FutureWarning: `is_torch_tpu_available` is deprecated and will be removed in 4.41.0. Please use the `is_torch_xla_available` instead.\n",
      "  warnings.warn(\n",
      "[INFO|trainer.py:2134] 2024-10-21 12:38:52,608 >> ***** Running training *****\n",
      "[INFO|trainer.py:2135] 2024-10-21 12:38:52,608 >>   Num examples = 6\n",
      "[INFO|trainer.py:2136] 2024-10-21 12:38:52,608 >>   Num Epochs = 5\n",
      "[INFO|trainer.py:2137] 2024-10-21 12:38:52,608 >>   Instantaneous batch size per device = 1\n",
      "[INFO|trainer.py:2140] 2024-10-21 12:38:52,608 >>   Total train batch size (w. parallel, distributed & accumulation) = 1\n",
      "[INFO|trainer.py:2141] 2024-10-21 12:38:52,608 >>   Gradient Accumulation steps = 1\n",
      "[INFO|trainer.py:2142] 2024-10-21 12:38:52,608 >>   Total optimization steps = 30\n",
      "[INFO|trainer.py:2143] 2024-10-21 12:38:52,609 >>   Number of trainable parameters = 354,823,168\n",
      "100% 30/30 [00:06<00:00,  5.09it/s][INFO|trainer.py:3503] 2024-10-21 12:38:59,359 >> Saving model checkpoint to outputs_stories/checkpoint-30\n",
      "[INFO|configuration_utils.py:472] 2024-10-21 12:38:59,360 >> Configuration saved in outputs_stories/checkpoint-30/config.json\n",
      "[INFO|configuration_utils.py:807] 2024-10-21 12:38:59,361 >> Configuration saved in outputs_stories/checkpoint-30/generation_config.json\n",
      "[INFO|modeling_utils.py:2799] 2024-10-21 12:39:02,271 >> Model weights saved in outputs_stories/checkpoint-30/model.safetensors\n",
      "[INFO|tokenization_utils_base.py:2684] 2024-10-21 12:39:02,272 >> tokenizer config file saved in outputs_stories/checkpoint-30/tokenizer_config.json\n",
      "[INFO|tokenization_utils_base.py:2693] 2024-10-21 12:39:02,272 >> Special tokens file saved in outputs_stories/checkpoint-30/special_tokens_map.json\n",
      "[INFO|trainer.py:2394] 2024-10-21 12:39:10,330 >> \n",
      "\n",
      "Training completed. Do not forget to share your model on huggingface.co/models =)\n",
      "\n",
      "\n",
      "{'train_runtime': 17.7212, 'train_samples_per_second': 1.693, 'train_steps_per_second': 1.693, 'train_loss': 1.4874261220296223, 'epoch': 5.0}\n",
      "100% 30/30 [00:17<00:00,  1.69it/s]\n",
      "[INFO|trainer.py:3503] 2024-10-21 12:39:10,331 >> Saving model checkpoint to outputs_stories\n",
      "[INFO|configuration_utils.py:472] 2024-10-21 12:39:10,333 >> Configuration saved in outputs_stories/config.json\n",
      "[INFO|configuration_utils.py:807] 2024-10-21 12:39:10,333 >> Configuration saved in outputs_stories/generation_config.json\n",
      "[INFO|modeling_utils.py:2799] 2024-10-21 12:39:15,968 >> Model weights saved in outputs_stories/model.safetensors\n",
      "[INFO|tokenization_utils_base.py:2684] 2024-10-21 12:39:15,969 >> tokenizer config file saved in outputs_stories/tokenizer_config.json\n",
      "[INFO|tokenization_utils_base.py:2693] 2024-10-21 12:39:15,969 >> Special tokens file saved in outputs_stories/special_tokens_map.json\n",
      "***** train metrics *****\n",
      "  epoch                    =        5.0\n",
      "  total_flos               =    51895GF\n",
      "  train_loss               =     1.4874\n",
      "  train_runtime            = 0:00:17.72\n",
      "  train_samples            =          6\n",
      "  train_samples_per_second =      1.693\n",
      "  train_steps_per_second   =      1.693\n",
      "10/21/2024 12:39:16 - INFO - __main__ - *** Evaluate ***\n",
      "[INFO|trainer.py:3819] 2024-10-21 12:39:16,023 >> \n",
      "***** Running Evaluation *****\n",
      "[INFO|trainer.py:3821] 2024-10-21 12:39:16,023 >>   Num examples = 6\n",
      "[INFO|trainer.py:3824] 2024-10-21 12:39:16,023 >>   Batch size = 1\n",
      "100% 6/6 [00:00<00:00, 16.83it/s]\n",
      "***** eval metrics *****\n",
      "  epoch                   =        5.0\n",
      "  eval_accuracy           =     0.9381\n",
      "  eval_loss               =     0.2625\n",
      "  eval_runtime            = 0:00:00.43\n",
      "  eval_samples            =          6\n",
      "  eval_samples_per_second =     13.652\n",
      "  eval_steps_per_second   =     13.652\n",
      "  perplexity              =     1.3002\n",
      "[INFO|modelcard.py:449] 2024-10-21 12:39:17,881 >> Dropping the following result as it does not have all the necessary fields:\n",
      "{'task': {'name': 'Causal Language Modeling', 'type': 'text-generation'}, 'metrics': [{'name': 'Accuracy', 'type': 'accuracy', 'value': 0.9380905832518736}]}\n"
     ]
    },
    {
     "name": "stderr",
     "output_type": "stream",
     "text": [
      "The attention mask and the pad token id were not set. As a consequence, you may observe unexpected behavior. Please pass your input's `attention_mask` to obtain reliable results.\n",
      "Setting `pad_token_id` to `eos_token_id`:50256 for open-end generation.\n",
      "The attention mask and the pad token id were not set. As a consequence, you may observe unexpected behavior. Please pass your input's `attention_mask` to obtain reliable results.\n",
      "Setting `pad_token_id` to `eos_token_id`:50256 for open-end generation.\n"
     ]
    },
    {
     "name": "stdout",
     "output_type": "stream",
     "text": [
      "START: \n",
      "Aya lost her gold anklet in gym class. She was\n",
      "GENERATED: \n",
      "Aya lost her gold anklet in gym class. She was distraught. But then she went to the guidance office. There, she checked the Lost And Found box. She found her anklet had been stolen. The end.\n",
      "TRUE: \n",
      "Aya lost her gold anklet in gym class. She was distraught! But then she went to the guidance office. There, she checked the Lost And Found box. Thankfully, her anklet had been found and turned in. The end.\n"
     ]
    },
    {
     "name": "stderr",
     "output_type": "stream",
     "text": [
      "The attention mask and the pad token id were not set. As a consequence, you may observe unexpected behavior. Please pass your input's `attention_mask` to obtain reliable results.\n",
      "Setting `pad_token_id` to `eos_token_id`:50256 for open-end generation.\n"
     ]
    },
    {
     "name": "stdout",
     "output_type": "stream",
     "text": [
      "START: \n",
      "Ike wanted to drop by the arcade after class. He\n",
      "GENERATED: \n",
      "Ike wanted to drop by the arcade after class. He had a few quarters to spare and he decided to go to the arcade. He won a few tickets from the ski ball machine. He had a great time! The end.\n",
      "TRUE: \n",
      "Ike wanted to drop by the arcade after class. He had a few quarters to spare. He won a few tickets from the ski ball machine. He turned in his tickets for a cheap plastic ring. He had fun with his short detour home. The end.\n"
     ]
    },
    {
     "name": "stderr",
     "output_type": "stream",
     "text": [
      "The attention mask and the pad token id were not set. As a consequence, you may observe unexpected behavior. Please pass your input's `attention_mask` to obtain reliable results.\n",
      "Setting `pad_token_id` to `eos_token_id`:50256 for open-end generation.\n"
     ]
    },
    {
     "name": "stdout",
     "output_type": "stream",
     "text": [
      "START: \n",
      "June got out of school in May. She went to\n",
      "GENERATED: \n",
      "June got out of school in May. She went to Germany for a vacation. She met a handsome man. They fell in love. They moved back to the US with him. The end.\n",
      "TRUE: \n",
      "June got out of school in May. She went to Germany for a vacation. She met a handsome man. They fell in love. He moved back to the US with her. The end.\n"
     ]
    },
    {
     "name": "stderr",
     "output_type": "stream",
     "text": [
      "The attention mask and the pad token id were not set. As a consequence, you may observe unexpected behavior. Please pass your input's `attention_mask` to obtain reliable results.\n",
      "Setting `pad_token_id` to `eos_token_id`:50256 for open-end generation.\n"
     ]
    },
    {
     "name": "stdout",
     "output_type": "stream",
     "text": [
      "START: \n",
      "Amber was a big fan of a musical group. She\n",
      "GENERATED: \n",
      "Amber was a big fan of a musical group. She bought a ticket to one of their concerts and got backstage to meet them. She had a great time and got backstage to meet them. The end.\n",
      "TRUE: \n",
      "Amber was a big fan of a musical group. She always wanted to meet them. She bought a ticket to one of their concerts. She got backstage to meet them. She didn't like them after meeting them. The end.\n"
     ]
    },
    {
     "name": "stderr",
     "output_type": "stream",
     "text": [
      "The attention mask and the pad token id were not set. As a consequence, you may observe unexpected behavior. Please pass your input's `attention_mask` to obtain reliable results.\n",
      "Setting `pad_token_id` to `eos_token_id`:50256 for open-end generation.\n"
     ]
    },
    {
     "name": "stdout",
     "output_type": "stream",
     "text": [
      "START: \n",
      "I got called into work last night. I really did\n",
      "GENERATED: \n",
      "I got called into work last night. I really did not want to go. I really did not want to go. But I had to go work. I really did not want to go. The end.\n",
      "TRUE: \n",
      "I got called into work last night. I really did not want to go. They really needed the help. Four separate people called out. I went in for two shifts to help out. The end.\n"
     ]
    },
    {
     "name": "stderr",
     "output_type": "stream",
     "text": [
      "The attention mask and the pad token id were not set. As a consequence, you may observe unexpected behavior. Please pass your input's `attention_mask` to obtain reliable results.\n",
      "Setting `pad_token_id` to `eos_token_id`:50256 for open-end generation.\n"
     ]
    },
    {
     "name": "stdout",
     "output_type": "stream",
     "text": [
      "START: \n",
      "It was time to cut my hair. I buzzed it\n",
      "GENERATED: \n",
      "It was time to cut my hair. I buzzed it like I normally do. But this time I cut my eyebrow by mistake. It took a few weeks to look normal. The end.\n",
      "TRUE: \n",
      "It was time to cut my hair. I buzzed it like I normally do. But this time I cut my eyebrow by mistake. It took a few weeks to look normal. I tried to be more careful. The end.\n"
     ]
    },
    {
     "name": "stderr",
     "output_type": "stream",
     "text": [
      "The attention mask and the pad token id were not set. As a consequence, you may observe unexpected behavior. Please pass your input's `attention_mask` to obtain reliable results.\n",
      "Setting `pad_token_id` to `eos_token_id`:50256 for open-end generation.\n"
     ]
    },
    {
     "name": "stdout",
     "output_type": "stream",
     "text": [
      "START: \n",
      "My mom wanted a new purse and she drug me\n",
      "GENERATED: \n",
      "My mom wanted a new purse and she drug me along with her. We arrived at the mall and started looking around. We finally decided on a Coach purse. We looked in the store and saw a couple of Coach bags were very cheap. We decided on a Coach purse. We drove home and hung them on our shirt like decorations. The end.\n",
      "TRUE: \n",
      "My mom wanted a new purse and she drug me along with her. We arrived at the mall and started looking around. Eventually she decided on a Coach purse. We looked in the store and she picked one out. She ended up buying one and we drove home. The end.\n"
     ]
    },
    {
     "name": "stderr",
     "output_type": "stream",
     "text": [
      "The attention mask and the pad token id were not set. As a consequence, you may observe unexpected behavior. Please pass your input's `attention_mask` to obtain reliable results.\n",
      "Setting `pad_token_id` to `eos_token_id`:50256 for open-end generation.\n"
     ]
    },
    {
     "name": "stdout",
     "output_type": "stream",
     "text": [
      "START: \n",
      "I had a pet rabbit when I was a kid.\n",
      "GENERATED: \n",
      "I had a pet rabbit when I was a kid. We kept him in a big cage outside. We would go feed him carrots and lettuce. When we got home, he was very upset. We gave him some carrots and some lettuce. The end.\n",
      "TRUE: \n",
      "I had a pet rabbit when I was a kid. We kept him in a big cage outside. I would go feed him carrots and lettuce. One day he got out of his cage. We never saw him again. The end.\n"
     ]
    },
    {
     "name": "stderr",
     "output_type": "stream",
     "text": [
      "The attention mask and the pad token id were not set. As a consequence, you may observe unexpected behavior. Please pass your input's `attention_mask` to obtain reliable results.\n",
      "Setting `pad_token_id` to `eos_token_id`:50256 for open-end generation.\n"
     ]
    },
    {
     "name": "stdout",
     "output_type": "stream",
     "text": [
      "START: \n",
      "Sam and Pat were on vacation in Jamaica. Their credit\n",
      "GENERATED: \n",
      "Sam and Pat were on vacation in Jamaica. Their credit card stopped working mid vacation. They assumed their card number had been stolen. The end.\n",
      "TRUE: \n",
      "Sam and Pat were on vacation in Jamaica. Their credit card stopped working mid vacation. They assumed their card number had been stolen. The bank told them someone had stolen their card in Jamaica. It was them, they forgot to call the bank before leaving the country. The end.\n"
     ]
    },
    {
     "name": "stderr",
     "output_type": "stream",
     "text": [
      "The attention mask and the pad token id were not set. As a consequence, you may observe unexpected behavior. Please pass your input's `attention_mask` to obtain reliable results.\n",
      "Setting `pad_token_id` to `eos_token_id`:50256 for open-end generation.\n"
     ]
    },
    {
     "name": "stdout",
     "output_type": "stream",
     "text": [
      "START: \n",
      "A record producer wanted to make money. He found some\n",
      "GENERATED: \n",
      "A record producer wanted to make money. He found some local performers and put them together. They gave themselves a name. They began to perform together. The end.\n",
      "TRUE: \n",
      "A record producer wanted to make money. He found some local performers. He put them together. They gave themselves a name. They began to perform together. The end.\n"
     ]
    },
    {
     "name": "stderr",
     "output_type": "stream",
     "text": [
      "The attention mask and the pad token id were not set. As a consequence, you may observe unexpected behavior. Please pass your input's `attention_mask` to obtain reliable results.\n",
      "Setting `pad_token_id` to `eos_token_id`:50256 for open-end generation.\n"
     ]
    },
    {
     "name": "stdout",
     "output_type": "stream",
     "text": [
      "START: \n",
      "Michelle worked hard every day of her life to pay\n",
      "GENERATED: \n",
      "Michelle worked hard every day of her life to pay for what she wants. She decided to give her money to a local homeless person. The person in the street gave the money to the homeless person instead. The end.\n",
      "TRUE: \n",
      "Michelle worked hard every day of her life to pay for what she wants. She woke up every morning at exactly 5 am to pick strawberries. She worked for the same company all her life and was loyal. One day while at work she br The end.\n"
     ]
    },
    {
     "name": "stderr",
     "output_type": "stream",
     "text": [
      "The attention mask and the pad token id were not set. As a consequence, you may observe unexpected behavior. Please pass your input's `attention_mask` to obtain reliable results.\n",
      "Setting `pad_token_id` to `eos_token_id`:50256 for open-end generation.\n"
     ]
    },
    {
     "name": "stdout",
     "output_type": "stream",
     "text": [
      "START: \n",
      "Alicia recently wore a hair clip she got from her\n",
      "GENERATED: \n",
      "Alicia recently wore a hair clip she got from her dad. Her mother advised her not to cut her hair. Alicia grew her hair out and cut it out. Alicia was so upset that her mom told her not to cut her hair. Alicia went to the hair salon. Her hair was cut very short. Alicia was so upset that her mom told him not to cut his hair. Alicia lost her hair. The end.\n",
      "TRUE: \n",
      "Alicia recently wore a hair clip she got from her mother. As Alicia was taking down her hair, she realized the clip was missing. Alicia began searching frantically for the hair clip, with no luck. In addition, Alicia, aske The end.\n"
     ]
    },
    {
     "name": "stderr",
     "output_type": "stream",
     "text": [
      "The attention mask and the pad token id were not set. As a consequence, you may observe unexpected behavior. Please pass your input's `attention_mask` to obtain reliable results.\n",
      "Setting `pad_token_id` to `eos_token_id`:50256 for open-end generation.\n"
     ]
    },
    {
     "name": "stdout",
     "output_type": "stream",
     "text": [
      "START: \n",
      "Kevin found several old photo albums at his grandma's house.\n",
      "GENERATED: \n",
      "Kevin found several old photo albums at his grandma's house. He started looking through photos of his mom's old boyfriend. He found a picture of his mom's old boyfriend who had tattoos. He promptly wrote a very short post about it. The end.\n",
      "TRUE: \n",
      "Kevin found several old photo albums at his grandma's house. Kevin started looking through photos showing his mom as a teen. He found a picture of his mom's old boyfriend who had several tattoos. Kevin later announced to h The end.\n"
     ]
    },
    {
     "name": "stderr",
     "output_type": "stream",
     "text": [
      "The attention mask and the pad token id were not set. As a consequence, you may observe unexpected behavior. Please pass your input's `attention_mask` to obtain reliable results.\n",
      "Setting `pad_token_id` to `eos_token_id`:50256 for open-end generation.\n"
     ]
    },
    {
     "name": "stdout",
     "output_type": "stream",
     "text": [
      "START: \n",
      "Heather grew tired of her internet connection cutting in and\n",
      "GENERATED: \n",
      "Heather grew tired of her internet connection cutting in and out. She tried everything on her end to fix the problem herself. Heather couldn't find what the problem was by herself in the house. She called her cable com The end.\n",
      "TRUE: \n",
      "Heather grew tired of her internet connection cutting in and out. She tried everything on her end to fix the problem herself. Heather couldn't find what the problem was by herself inside the house. She called her cable com The end.\n"
     ]
    },
    {
     "name": "stderr",
     "output_type": "stream",
     "text": [
      "The attention mask and the pad token id were not set. As a consequence, you may observe unexpected behavior. Please pass your input's `attention_mask` to obtain reliable results.\n",
      "Setting `pad_token_id` to `eos_token_id`:50256 for open-end generation.\n"
     ]
    },
    {
     "name": "stdout",
     "output_type": "stream",
     "text": [
      "START: \n",
      "Cheryl liked to suck her thumb for attention and to\n",
      "GENERATED: \n",
      "Cheryl liked to suck her thumb for attention and to be different. One day she decided to suck her thumb for attention. She did not realize it was going to hurt for a while after. The end.\n",
      "TRUE: \n",
      "Cheryl liked to suck her thumb for attention and to be different. She'd shove it all the way into her mouth to disgust people near her. No one could make her stop no matter how uncomfortable she made them. A fire alarm wen The end.\n"
     ]
    },
    {
     "name": "stderr",
     "output_type": "stream",
     "text": [
      "The attention mask and the pad token id were not set. As a consequence, you may observe unexpected behavior. Please pass your input's `attention_mask` to obtain reliable results.\n",
      "Setting `pad_token_id` to `eos_token_id`:50256 for open-end generation.\n"
     ]
    },
    {
     "name": "stdout",
     "output_type": "stream",
     "text": [
      "START: \n",
      "There lived an evil queen in England whose name was\n",
      "GENERATED: \n",
      "There lived an evil queen in England whose name was Alyssa. She would buy the most expensive clothing when her country was hungry. One day her country was so hungry that she decided to create a food bank. The end.\n",
      "TRUE: \n",
      "There lived an evil queen in England whose name was Alyssa. She would buy the most expensive clothing when her country was hungry. She bought the most lavish shoes when the children were starving. She funded the most expen The end.\n"
     ]
    },
    {
     "name": "stderr",
     "output_type": "stream",
     "text": [
      "The attention mask and the pad token id were not set. As a consequence, you may observe unexpected behavior. Please pass your input's `attention_mask` to obtain reliable results.\n",
      "Setting `pad_token_id` to `eos_token_id`:50256 for open-end generation.\n"
     ]
    },
    {
     "name": "stdout",
     "output_type": "stream",
     "text": [
      "START: \n",
      "Floyd was enjoying a summer day of inspecting cicada shells.\n",
      "GENERATED: \n",
      "Floyd was enjoying a summer day of inspecting cicada shells. He found many of them and hung them on his shirt like decorations. He squatted at a large tree's roots when he spotted a really nice one. He plucked it out and hung it on his shirt like a necklace. The end.\n",
      "TRUE: \n",
      "Floyd was enjoying a summer day of inspecting cicada shells. He found many of them and hung them on his shirt like decorations. He squatted at a large tree's roots when he spotted a really nice one. When he picked it up, t The end.\n"
     ]
    },
    {
     "name": "stderr",
     "output_type": "stream",
     "text": [
      "The attention mask and the pad token id were not set. As a consequence, you may observe unexpected behavior. Please pass your input's `attention_mask` to obtain reliable results.\n",
      "Setting `pad_token_id` to `eos_token_id`:50256 for open-end generation.\n"
     ]
    },
    {
     "name": "stdout",
     "output_type": "stream",
     "text": [
      "START: \n",
      "Michelle has two daughters that she throws big birthday parties\n",
      "GENERATED: \n",
      "Michelle has two daughters that she throws big birthday parties for. One of her daughters has shortness of breath. The other has a cough that will not stop. The end.\n",
      "TRUE: \n",
      "Michelle has two daughters that she throws big birthday parties for. Her daughters have everything they need so they refuse birthday gifts. Instead they ask guests to bring an animal related donation or money. When their p The end.\n"
     ]
    },
    {
     "name": "stderr",
     "output_type": "stream",
     "text": [
      "The attention mask and the pad token id were not set. As a consequence, you may observe unexpected behavior. Please pass your input's `attention_mask` to obtain reliable results.\n",
      "Setting `pad_token_id` to `eos_token_id`:50256 for open-end generation.\n"
     ]
    },
    {
     "name": "stdout",
     "output_type": "stream",
     "text": [
      "START: \n",
      "Jason loved driving his expensive car at ridiculous speeds every\n",
      "GENERATED: \n",
      "Jason loved driving his expensive car at ridiculous speeds every day. One day he was speeding at 100 miles an hour in a 65mph zone. A motorcycle police office The end.\n",
      "TRUE: \n",
      "Jason loved driving his expensive car at ridiculous speeds every day. He didn't care much for the outcome of a crash if it did occur. One day he was speeding at 100 miles an hour in a 65mph zone. A motorcycle police office The end.\n"
     ]
    },
    {
     "name": "stderr",
     "output_type": "stream",
     "text": [
      "The attention mask and the pad token id were not set. As a consequence, you may observe unexpected behavior. Please pass your input's `attention_mask` to obtain reliable results.\n",
      "Setting `pad_token_id` to `eos_token_id`:50256 for open-end generation.\n"
     ]
    },
    {
     "name": "stdout",
     "output_type": "stream",
     "text": [
      "START: \n",
      "Jamie was almost ready to move out of her parents'\n",
      "GENERATED: \n",
      "Jamie was almost ready to move out of her parents' house. She packed three boxes full of her belongings and taped them close. She loaded her car and drove away. The end.\n",
      "TRUE: \n",
      "Jamie was almost ready to move out of her parents' house. She packed three boxes full of her belongings and taped them close. As Jamie loaded her car her mother asked if she had seen their cat. Jamie told her she hadn't an The end.\n"
     ]
    },
    {
     "name": "stderr",
     "output_type": "stream",
     "text": [
      "The attention mask and the pad token id were not set. As a consequence, you may observe unexpected behavior. Please pass your input's `attention_mask` to obtain reliable results.\n",
      "Setting `pad_token_id` to `eos_token_id`:50256 for open-end generation.\n"
     ]
    },
    {
     "name": "stdout",
     "output_type": "stream",
     "text": [
      "START: \n",
      "The man passed out. A woman woke him up. The\n",
      "GENERATED: \n",
      "The man passed out. A woman woke him up. The man smiled and said he was fine. The end.\n",
      "TRUE: \n",
      "The man passed out. A woman woke him up. The man was confused. The woman calmed him down. The man introduced himself. Arpad and their mother planted all sorts of squashes in the spring. They took great care of the plants.  The end.\n"
     ]
    },
    {
     "name": "stderr",
     "output_type": "stream",
     "text": [
      "The attention mask and the pad token id were not set. As a consequence, you may observe unexpected behavior. Please pass your input's `attention_mask` to obtain reliable results.\n",
      "Setting `pad_token_id` to `eos_token_id`:50256 for open-end generation.\n"
     ]
    },
    {
     "name": "stdout",
     "output_type": "stream",
     "text": [
      "START: \n",
      "The boy teased the girl. The girl got mad. She\n",
      "GENERATED: \n",
      "The boy teased the girl. The girl got mad. She punched the boy in the face. The boy suffered a cut on the cheek. The girl got stitches at the hospital. The end.\n",
      "TRUE: \n",
      "The boy teased the girl. The girl got mad. She punched the boy. The boy told on the girl. The girl got in trouble. The photographer printed all the photos. She arranged them into an album. She presented it to her client. H The end.\n"
     ]
    },
    {
     "name": "stderr",
     "output_type": "stream",
     "text": [
      "The attention mask and the pad token id were not set. As a consequence, you may observe unexpected behavior. Please pass your input's `attention_mask` to obtain reliable results.\n",
      "Setting `pad_token_id` to `eos_token_id`:50256 for open-end generation.\n"
     ]
    },
    {
     "name": "stdout",
     "output_type": "stream",
     "text": [
      "START: \n",
      "I got a new iPad. It was nice. What I\n",
      "GENERATED: \n",
      "I got a new iPad. It was nice. What I liked it very much. I saved the box. The end.\n",
      "TRUE: \n",
      "I got a new iPad. It was nice. What I liked it very much. I saved the box. The box was very amazing. When our season ended coach told us to stay in football shape. I left with good intentions to stay in shape. However, I s The end.\n"
     ]
    },
    {
     "name": "stderr",
     "output_type": "stream",
     "text": [
      "The attention mask and the pad token id were not set. As a consequence, you may observe unexpected behavior. Please pass your input's `attention_mask` to obtain reliable results.\n",
      "Setting `pad_token_id` to `eos_token_id`:50256 for open-end generation.\n"
     ]
    },
    {
     "name": "stdout",
     "output_type": "stream",
     "text": [
      "START: \n",
      "The boy went off a jump. He came down hard.\n",
      "GENERATED: \n",
      "The boy went off a jump. He came down hard. The end.\n",
      "TRUE: \n",
      "The boy went off a jump. He came down hard. His wheel got bent. He took it to a shop. They said the wheel was ruined. I was in the noodle aisle at the grocery store a couple of weeks ago. A woman ahead of me was pushing a  The end.\n"
     ]
    },
    {
     "name": "stderr",
     "output_type": "stream",
     "text": [
      "The attention mask and the pad token id were not set. As a consequence, you may observe unexpected behavior. Please pass your input's `attention_mask` to obtain reliable results.\n",
      "Setting `pad_token_id` to `eos_token_id`:50256 for open-end generation.\n"
     ]
    },
    {
     "name": "stdout",
     "output_type": "stream",
     "text": [
      "START: \n",
      "I found a couple baby turtles. I put them in\n",
      "GENERATED: \n",
      "I found a couple baby turtles. I put them in a box. I kept them for a while. I then let them go. The end.\n",
      "TRUE: \n",
      "I found a couple baby turtles. I put them in a box. I kept them for an hour. Then I let them go. They were so tiny. Tim went mountain climbing. It was a person challenge. He made it almost all the way to the top. He gave u The end.\n"
     ]
    },
    {
     "name": "stderr",
     "output_type": "stream",
     "text": [
      "The attention mask and the pad token id were not set. As a consequence, you may observe unexpected behavior. Please pass your input's `attention_mask` to obtain reliable results.\n",
      "Setting `pad_token_id` to `eos_token_id`:50256 for open-end generation.\n"
     ]
    },
    {
     "name": "stdout",
     "output_type": "stream",
     "text": [
      "START: \n",
      "Jacob has long hair. He wants to get it cut.\n",
      "GENERATED: \n",
      "Jacob has long hair. He wants to get it cut. He heads down to the barber. He has his hair cut. The end.\n",
      "TRUE: \n",
      "Jacob has long hair. He wants to get it cut. He heads down to the barber. He has his hair cut. Jacob loves his new hair. Nate went on the bus. After 10 minutes, the bus left the school. Since the roads were congested, the  The end.\n"
     ]
    },
    {
     "name": "stderr",
     "output_type": "stream",
     "text": [
      "The attention mask and the pad token id were not set. As a consequence, you may observe unexpected behavior. Please pass your input's `attention_mask` to obtain reliable results.\n",
      "Setting `pad_token_id` to `eos_token_id`:50256 for open-end generation.\n"
     ]
    },
    {
     "name": "stdout",
     "output_type": "stream",
     "text": [
      "START: \n",
      "Allie worked for a biotech. She wanted a raise. So\n",
      "GENERATED: \n",
      "Allie worked for a biotech. She wanted a raise. So she decided to negotiate. The company gave her a raise. The end.\n",
      "TRUE: \n",
      "Allie worked for a biotech. She wanted a raise. So she decided to negotiate. They gave her a raise. Allie was so happy. Tyrone wanted to be a movie star. He learned the lines of all his favorite movies for practice. When h The end.\n"
     ]
    },
    {
     "name": "stderr",
     "output_type": "stream",
     "text": [
      "The attention mask and the pad token id were not set. As a consequence, you may observe unexpected behavior. Please pass your input's `attention_mask` to obtain reliable results.\n",
      "Setting `pad_token_id` to `eos_token_id`:50256 for open-end generation.\n"
     ]
    },
    {
     "name": "stdout",
     "output_type": "stream",
     "text": [
      "START: \n",
      "Lisa bought some stock. She thought it would go up.\n",
      "GENERATED: \n",
      "Lisa bought some stock. She thought it would go up. But the opposite happened. It crashed. The stock tanked. The end.\n",
      "TRUE: \n",
      "Lisa bought some stock. She thought it would go up. But the opposite happened. It crashed. So she lost money. Tom woke up to go to work. He got ready quickly and walked out the door. He waited for a bus for some time. The  The end.\n"
     ]
    },
    {
     "name": "stderr",
     "output_type": "stream",
     "text": [
      "The attention mask and the pad token id were not set. As a consequence, you may observe unexpected behavior. Please pass your input's `attention_mask` to obtain reliable results.\n",
      "Setting `pad_token_id` to `eos_token_id`:50256 for open-end generation.\n"
     ]
    },
    {
     "name": "stdout",
     "output_type": "stream",
     "text": [
      "START: \n",
      "A man crashed his bike. He needed to buy a\n",
      "GENERATED: \n",
      "A man crashed his bike. He needed to buy a new one. He went to a bike shop. He found one he liked. He bought it. The end.\n",
      "TRUE: \n",
      "A man crashed his bike. He needed to buy a new one. He went to a bike shop. He found one he liked. He bought it. Anne wrote short stories in her spare time. She hoped to have them published in literary journals. She entere The end.\n",
      "START: \n",
      "The boy took a test. They graded the test. He\n",
      "GENERATED: \n",
      "The boy took a test. They graded the test. He did very well. They gave him an award. The end.\n",
      "TRUE: \n",
      "The boy took a test. They graded the test. He did very well. They gave him an award. He displayed it proudly. Fred had teeth that needed braces. But he was so nervous. He thought it was going to hurt. It ended up hurting b The end.\n",
      "-15\n",
      "-34\n",
      "2\n",
      "-21\n",
      "-20\n",
      "-28\n",
      "65\n",
      "25\n",
      "-131\n",
      "0\n",
      "-23\n",
      "125\n",
      "9\n",
      "-4\n",
      "-44\n",
      "-18\n",
      "36\n",
      "-66\n",
      "-64\n",
      "-62\n",
      "-145\n",
      "-71\n",
      "-148\n",
      "-179\n",
      "-126\n",
      "-128\n",
      "-116\n",
      "-114\n",
      "-110\n",
      "-138\n"
     ]
    },
    {
     "data": {
      "image/png": "[encoded data removed]",
      "text/plain": [
       "<Figure size 640x480 with 1 Axes>"
      ]
     },
     "metadata": {},
     "output_type": "display_data"
    },
    {
     "name": "stdout",
     "output_type": "stream",
     "text": [
      "222\n",
      "2024-10-21 12:41:42.994505: E external/local_xla/xla/stream_executor/cuda/cuda_fft.cc:485] Unable to register cuFFT factory: Attempting to register factory for plugin cuFFT when one has already been registered\n",
      "2024-10-21 12:41:43.016438: E external/local_xla/xla/stream_executor/cuda/cuda_dnn.cc:8454] Unable to register cuDNN factory: Attempting to register factory for plugin cuDNN when one has already been registered\n",
      "2024-10-21 12:41:43.023071: E external/local_xla/xla/stream_executor/cuda/cuda_blas.cc:1452] Unable to register cuBLAS factory: Attempting to register factory for plugin cuBLAS when one has already been registered\n",
      "2024-10-21 12:41:44.250491: W tensorflow/compiler/tf2tensorrt/utils/py_utils.cc:38] TF-TRT Warning: Could not find TensorRT\n",
      "10/21/2024 12:41:46 - WARNING - __main__ - Process rank: 0, device: cuda:0, n_gpu: 1distributed training: False, 16-bits training: False\n",
      "10/21/2024 12:41:46 - INFO - __main__ - Training/evaluation parameters TrainingArguments(\n",
      "_n_gpu=1,\n",
      "accelerator_config={'split_batches': False, 'dispatch_batches': None, 'even_batches': True, 'use_seedable_sampler': True, 'non_blocking': False, 'gradient_accumulation_kwargs': None, 'use_configured_state': False},\n",
      "adafactor=False,\n",
      "adam_beta1=0.9,\n",
      "adam_beta2=0.999,\n",
      "adam_epsilon=1e-08,\n",
      "auto_find_batch_size=False,\n",
      "batch_eval_metrics=False,\n",
      "bf16=False,\n",
      "bf16_full_eval=False,\n",
      "data_seed=None,\n",
      "dataloader_drop_last=False,\n",
      "dataloader_num_workers=0,\n",
      "dataloader_persistent_workers=False,\n",
      "dataloader_pin_memory=True,\n",
      "dataloader_prefetch_factor=None,\n",
      "ddp_backend=None,\n",
      "ddp_broadcast_buffers=None,\n",
      "ddp_bucket_cap_mb=None,\n",
      "ddp_find_unused_parameters=None,\n",
      "ddp_timeout=1800,\n",
      "debug=[],\n",
      "deepspeed=None,\n",
      "disable_tqdm=False,\n",
      "dispatch_batches=None,\n",
      "do_eval=True,\n",
      "do_predict=False,\n",
      "do_train=True,\n",
      "eval_accumulation_steps=None,\n",
      "eval_delay=0,\n",
      "eval_do_concat_batches=True,\n",
      "eval_on_start=False,\n",
      "eval_steps=None,\n",
      "eval_strategy=no,\n",
      "eval_use_gather_object=False,\n",
      "evaluation_strategy=None,\n",
      "fp16=False,\n",
      "fp16_backend=auto,\n",
      "fp16_full_eval=False,\n",
      "fp16_opt_level=O1,\n",
      "fsdp=[],\n",
      "fsdp_config={'min_num_params': 0, 'xla': False, 'xla_fsdp_v2': False, 'xla_fsdp_grad_ckpt': False},\n",
      "fsdp_min_num_params=0,\n",
      "fsdp_transformer_layer_cls_to_wrap=None,\n",
      "full_determinism=False,\n",
      "gradient_accumulation_steps=1,\n",
      "gradient_checkpointing=False,\n",
      "gradient_checkpointing_kwargs=None,\n",
      "greater_is_better=None,\n",
      "group_by_length=False,\n",
      "half_precision_backend=auto,\n",
      "hub_always_push=False,\n",
      "hub_model_id=None,\n",
      "hub_private_repo=False,\n",
      "hub_strategy=every_save,\n",
      "hub_token=<HUB_TOKEN>,\n",
      "ignore_data_skip=False,\n",
      "include_inputs_for_metrics=False,\n",
      "include_num_input_tokens_seen=False,\n",
      "include_tokens_per_second=False,\n",
      "jit_mode_eval=False,\n",
      "label_names=None,\n",
      "label_smoothing_factor=0.0,\n",
      "learning_rate=0.0005,\n",
      "length_column_name=length,\n",
      "load_best_model_at_end=False,\n",
      "local_rank=0,\n",
      "log_level=passive,\n",
      "log_level_replica=warning,\n",
      "log_on_each_node=True,\n",
      "logging_dir=outputs_stories/runs/Oct21_12-41-46_f910dfa8e9d3,\n",
      "logging_first_step=False,\n",
      "logging_nan_inf_filter=True,\n",
      "logging_steps=500,\n",
      "logging_strategy=steps,\n",
      "lr_scheduler_kwargs={},\n",
      "lr_scheduler_type=linear,\n",
      "max_grad_norm=1.0,\n",
      "max_steps=-1,\n",
      "metric_for_best_model=None,\n",
      "mp_parameters=,\n",
      "neftune_noise_alpha=None,\n",
      "no_cuda=False,\n",
      "num_train_epochs=5.0,\n",
      "optim=adamw_torch,\n",
      "optim_args=None,\n",
      "optim_target_modules=None,\n",
      "output_dir=outputs_stories,\n",
      "overwrite_output_dir=True,\n",
      "past_index=-1,\n",
      "per_device_eval_batch_size=1,\n",
      "per_device_train_batch_size=1,\n",
      "prediction_loss_only=False,\n",
      "push_to_hub=False,\n",
      "push_to_hub_model_id=None,\n",
      "push_to_hub_organization=None,\n",
      "push_to_hub_token=<PUSH_TO_HUB_TOKEN>,\n",
      "ray_scope=last,\n",
      "remove_unused_columns=True,\n",
      "report_to=[],\n",
      "restore_callback_states_from_checkpoint=False,\n",
      "resume_from_checkpoint=None,\n",
      "run_name=outputs_stories,\n",
      "save_on_each_node=False,\n",
      "save_only_model=False,\n",
      "save_safetensors=True,\n",
      "save_steps=1000,\n",
      "save_strategy=steps,\n",
      "save_total_limit=None,\n",
      "seed=42,\n",
      "skip_memory_metrics=True,\n",
      "split_batches=None,\n",
      "tf32=None,\n",
      "torch_compile=False,\n",
      "torch_compile_backend=None,\n",
      "torch_compile_mode=None,\n",
      "torch_empty_cache_steps=None,\n",
      "torchdynamo=None,\n",
      "tpu_metrics_debug=False,\n",
      "tpu_num_cores=None,\n",
      "use_cpu=False,\n",
      "use_ipex=False,\n",
      "use_legacy_prediction_loop=False,\n",
      "use_mps_device=False,\n",
      "warmup_ratio=0.0,\n",
      "warmup_steps=0,\n",
      "weight_decay=0.0,\n",
      ")\n",
      "Using custom data configuration default-fd57d5061fa2584e\n",
      "10/21/2024 12:41:46 - INFO - datasets.builder - Using custom data configuration default-fd57d5061fa2584e\n",
      "Loading Dataset Infos from /usr/local/lib/python3.10/dist-packages/datasets/packaged_modules/text\n",
      "10/21/2024 12:41:46 - INFO - datasets.info - Loading Dataset Infos from /usr/local/lib/python3.10/dist-packages/datasets/packaged_modules/text\n",
      "Generating dataset text (/root/.cache/huggingface/datasets/text/default-fd57d5061fa2584e/0.0.0/37eaf37ac90527a7fd768c94b312ee84f8815c9b7ac00acf81c1c364e8392f99)\n",
      "10/21/2024 12:41:46 - INFO - datasets.builder - Generating dataset text (/root/.cache/huggingface/datasets/text/default-fd57d5061fa2584e/0.0.0/37eaf37ac90527a7fd768c94b312ee84f8815c9b7ac00acf81c1c364e8392f99)\n",
      "Downloading and preparing dataset text/default to /root/.cache/huggingface/datasets/text/default-fd57d5061fa2584e/0.0.0/37eaf37ac90527a7fd768c94b312ee84f8815c9b7ac00acf81c1c364e8392f99...\n",
      "10/21/2024 12:41:46 - INFO - datasets.builder - Downloading and preparing dataset text/default to /root/.cache/huggingface/datasets/text/default-fd57d5061fa2584e/0.0.0/37eaf37ac90527a7fd768c94b312ee84f8815c9b7ac00acf81c1c364e8392f99...\n",
      "Downloading took 0.0 min\n",
      "10/21/2024 12:41:46 - INFO - datasets.download.download_manager - Downloading took 0.0 min\n",
      "Checksum Computation took 0.0 min\n",
      "10/21/2024 12:41:46 - INFO - datasets.download.download_manager - Checksum Computation took 0.0 min\n",
      "Generating train split\n",
      "10/21/2024 12:41:46 - INFO - datasets.builder - Generating train split\n",
      "Generating train split: 120 examples [00:00, 36692.90 examples/s]\n",
      "Generating validation split\n",
      "10/21/2024 12:41:46 - INFO - datasets.builder - Generating validation split\n",
      "Generating validation split: 120 examples [00:00, 120353.06 examples/s]\n",
      "Unable to verify splits sizes.\n",
      "10/21/2024 12:41:46 - INFO - datasets.utils.info_utils - Unable to verify splits sizes.\n",
      "Dataset text downloaded and prepared to /root/.cache/huggingface/datasets/text/default-fd57d5061fa2584e/0.0.0/37eaf37ac90527a7fd768c94b312ee84f8815c9b7ac00acf81c1c364e8392f99. Subsequent calls will reuse this data.\n",
      "10/21/2024 12:41:46 - INFO - datasets.builder - Dataset text downloaded and prepared to /root/.cache/huggingface/datasets/text/default-fd57d5061fa2584e/0.0.0/37eaf37ac90527a7fd768c94b312ee84f8815c9b7ac00acf81c1c364e8392f99. Subsequent calls will reuse this data.\n",
      "[INFO|configuration_utils.py:733] 2024-10-21 12:41:46,756 >> loading configuration file config.json from cache at /root/.cache/huggingface/hub/models--gpt2-medium/snapshots/6dcaa7a952f72f9298047fd5137cd6e4f05f41da/config.json\n",
      "[INFO|configuration_utils.py:800] 2024-10-21 12:41:46,757 >> Model config GPT2Config {\n",
      "  \"_name_or_path\": \"gpt2-medium\",\n",
      "  \"activation_function\": \"gelu_new\",\n",
      "  \"architectures\": [\n",
      "    \"GPT2LMHeadModel\"\n",
      "  ],\n",
      "  \"attn_pdrop\": 0.1,\n",
      "  \"bos_token_id\": 50256,\n",
      "  \"embd_pdrop\": 0.1,\n",
      "  \"eos_token_id\": 50256,\n",
      "  \"initializer_range\": 0.02,\n",
      "  \"layer_norm_epsilon\": 1e-05,\n",
      "  \"model_type\": \"gpt2\",\n",
      "  \"n_ctx\": 1024,\n",
      "  \"n_embd\": 1024,\n",
      "  \"n_head\": 16,\n",
      "  \"n_inner\": null,\n",
      "  \"n_layer\": 24,\n",
      "  \"n_positions\": 1024,\n",
      "  \"n_special\": 0,\n",
      "  \"predict_special_tokens\": true,\n",
      "  \"reorder_and_upcast_attn\": false,\n",
      "  \"resid_pdrop\": 0.1,\n",
      "  \"scale_attn_by_inverse_layer_idx\": false,\n",
      "  \"scale_attn_weights\": true,\n",
      "  \"summary_activation\": null,\n",
      "  \"summary_first_dropout\": 0.1,\n",
      "  \"summary_proj_to_labels\": true,\n",
      "  \"summary_type\": \"cls_index\",\n",
      "  \"summary_use_proj\": true,\n",
      "  \"task_specific_params\": {\n",
      "    \"text-generation\": {\n",
      "      \"do_sample\": true,\n",
      "      \"max_length\": 50\n",
      "    }\n",
      "  },\n",
      "  \"transformers_version\": \"4.44.2\",\n",
      "  \"use_cache\": true,\n",
      "  \"vocab_size\": 50257\n",
      "}\n",
      "\n",
      "[INFO|configuration_utils.py:733] 2024-10-21 12:41:46,950 >> loading configuration file config.json from cache at /root/.cache/huggingface/hub/models--gpt2-medium/snapshots/6dcaa7a952f72f9298047fd5137cd6e4f05f41da/config.json\n",
      "[INFO|configuration_utils.py:800] 2024-10-21 12:41:46,951 >> Model config GPT2Config {\n",
      "  \"_name_or_path\": \"gpt2-medium\",\n",
      "  \"activation_function\": \"gelu_new\",\n",
      "  \"architectures\": [\n",
      "    \"GPT2LMHeadModel\"\n",
      "  ],\n",
      "  \"attn_pdrop\": 0.1,\n",
      "  \"bos_token_id\": 50256,\n",
      "  \"embd_pdrop\": 0.1,\n",
      "  \"eos_token_id\": 50256,\n",
      "  \"initializer_range\": 0.02,\n",
      "  \"layer_norm_epsilon\": 1e-05,\n",
      "  \"model_type\": \"gpt2\",\n",
      "  \"n_ctx\": 1024,\n",
      "  \"n_embd\": 1024,\n",
      "  \"n_head\": 16,\n",
      "  \"n_inner\": null,\n",
      "  \"n_layer\": 24,\n",
      "  \"n_positions\": 1024,\n",
      "  \"n_special\": 0,\n",
      "  \"predict_special_tokens\": true,\n",
      "  \"reorder_and_upcast_attn\": false,\n",
      "  \"resid_pdrop\": 0.1,\n",
      "  \"scale_attn_by_inverse_layer_idx\": false,\n",
      "  \"scale_attn_weights\": true,\n",
      "  \"summary_activation\": null,\n",
      "  \"summary_first_dropout\": 0.1,\n",
      "  \"summary_proj_to_labels\": true,\n",
      "  \"summary_type\": \"cls_index\",\n",
      "  \"summary_use_proj\": true,\n",
      "  \"task_specific_params\": {\n",
      "    \"text-generation\": {\n",
      "      \"do_sample\": true,\n",
      "      \"max_length\": 50\n",
      "    }\n",
      "  },\n",
      "  \"transformers_version\": \"4.44.2\",\n",
      "  \"use_cache\": true,\n",
      "  \"vocab_size\": 50257\n",
      "}\n",
      "\n",
      "[INFO|tokenization_utils_base.py:2269] 2024-10-21 12:41:46,961 >> loading file vocab.json from cache at /root/.cache/huggingface/hub/models--gpt2-medium/snapshots/6dcaa7a952f72f9298047fd5137cd6e4f05f41da/vocab.json\n",
      "[INFO|tokenization_utils_base.py:2269] 2024-10-21 12:41:46,961 >> loading file merges.txt from cache at /root/.cache/huggingface/hub/models--gpt2-medium/snapshots/6dcaa7a952f72f9298047fd5137cd6e4f05f41da/merges.txt\n",
      "[INFO|tokenization_utils_base.py:2269] 2024-10-21 12:41:46,961 >> loading file tokenizer.json from cache at /root/.cache/huggingface/hub/models--gpt2-medium/snapshots/6dcaa7a952f72f9298047fd5137cd6e4f05f41da/tokenizer.json\n",
      "[INFO|tokenization_utils_base.py:2269] 2024-10-21 12:41:46,961 >> loading file added_tokens.json from cache at None\n",
      "[INFO|tokenization_utils_base.py:2269] 2024-10-21 12:41:46,961 >> loading file special_tokens_map.json from cache at None\n",
      "[INFO|tokenization_utils_base.py:2269] 2024-10-21 12:41:46,961 >> loading file tokenizer_config.json from cache at /root/.cache/huggingface/hub/models--gpt2-medium/snapshots/6dcaa7a952f72f9298047fd5137cd6e4f05f41da/tokenizer_config.json\n",
      "[INFO|configuration_utils.py:733] 2024-10-21 12:41:46,961 >> loading configuration file config.json from cache at /root/.cache/huggingface/hub/models--gpt2-medium/snapshots/6dcaa7a952f72f9298047fd5137cd6e4f05f41da/config.json\n",
      "[INFO|configuration_utils.py:800] 2024-10-21 12:41:46,962 >> Model config GPT2Config {\n",
      "  \"_name_or_path\": \"gpt2-medium\",\n",
      "  \"activation_function\": \"gelu_new\",\n",
      "  \"architectures\": [\n",
      "    \"GPT2LMHeadModel\"\n",
      "  ],\n",
      "  \"attn_pdrop\": 0.1,\n",
      "  \"bos_token_id\": 50256,\n",
      "  \"embd_pdrop\": 0.1,\n",
      "  \"eos_token_id\": 50256,\n",
      "  \"initializer_range\": 0.02,\n",
      "  \"layer_norm_epsilon\": 1e-05,\n",
      "  \"model_type\": \"gpt2\",\n",
      "  \"n_ctx\": 1024,\n",
      "  \"n_embd\": 1024,\n",
      "  \"n_head\": 16,\n",
      "  \"n_inner\": null,\n",
      "  \"n_layer\": 24,\n",
      "  \"n_positions\": 1024,\n",
      "  \"n_special\": 0,\n",
      "  \"predict_special_tokens\": true,\n",
      "  \"reorder_and_upcast_attn\": false,\n",
      "  \"resid_pdrop\": 0.1,\n",
      "  \"scale_attn_by_inverse_layer_idx\": false,\n",
      "  \"scale_attn_weights\": true,\n",
      "  \"summary_activation\": null,\n",
      "  \"summary_first_dropout\": 0.1,\n",
      "  \"summary_proj_to_labels\": true,\n",
      "  \"summary_type\": \"cls_index\",\n",
      "  \"summary_use_proj\": true,\n",
      "  \"task_specific_params\": {\n",
      "    \"text-generation\": {\n",
      "      \"do_sample\": true,\n",
      "      \"max_length\": 50\n",
      "    }\n",
      "  },\n",
      "  \"transformers_version\": \"4.44.2\",\n",
      "  \"use_cache\": true,\n",
      "  \"vocab_size\": 50257\n",
      "}\n",
      "\n",
      "/usr/local/lib/python3.10/dist-packages/transformers/tokenization_utils_base.py:1601: FutureWarning: `clean_up_tokenization_spaces` was not set. It will be set to `True` by default. This behavior will be depracted in transformers v4.45, and will be then set to `False` by default. For more details check this issue: https://github.com/huggingface/transformers/issues/31884\n",
      "  warnings.warn(\n",
      "[INFO|modeling_utils.py:3678] 2024-10-21 12:41:47,073 >> loading weights file model.safetensors from cache at /root/.cache/huggingface/hub/models--gpt2-medium/snapshots/6dcaa7a952f72f9298047fd5137cd6e4f05f41da/model.safetensors\n",
      "[INFO|configuration_utils.py:1038] 2024-10-21 12:41:47,085 >> Generate config GenerationConfig {\n",
      "  \"bos_token_id\": 50256,\n",
      "  \"eos_token_id\": 50256\n",
      "}\n",
      "\n",
      "[INFO|modeling_utils.py:4507] 2024-10-21 12:41:47,195 >> All model checkpoint weights were used when initializing GPT2LMHeadModel.\n",
      "\n",
      "[INFO|modeling_utils.py:4515] 2024-10-21 12:41:47,195 >> All the weights of GPT2LMHeadModel were initialized from the model checkpoint at gpt2-medium.\n",
      "If your task is similar to the task the model of the checkpoint was trained on, you can already use GPT2LMHeadModel for predictions without further training.\n",
      "[INFO|configuration_utils.py:993] 2024-10-21 12:41:47,253 >> loading configuration file generation_config.json from cache at /root/.cache/huggingface/hub/models--gpt2-medium/snapshots/6dcaa7a952f72f9298047fd5137cd6e4f05f41da/generation_config.json\n",
      "[INFO|configuration_utils.py:1038] 2024-10-21 12:41:47,253 >> Generate config GenerationConfig {\n",
      "  \"bos_token_id\": 50256,\n",
      "  \"eos_token_id\": 50256\n",
      "}\n",
      "\n",
      "Running tokenizer on dataset:   0% 0/120 [00:00<?, ? examples/s]Caching processed dataset at /root/.cache/huggingface/datasets/text/default-fd57d5061fa2584e/0.0.0/37eaf37ac90527a7fd768c94b312ee84f8815c9b7ac00acf81c1c364e8392f99/cache-e859eea33b1143d2.arrow\n",
      "10/21/2024 12:41:47 - INFO - datasets.arrow_dataset - Caching processed dataset at /root/.cache/huggingface/datasets/text/default-fd57d5061fa2584e/0.0.0/37eaf37ac90527a7fd768c94b312ee84f8815c9b7ac00acf81c1c364e8392f99/cache-e859eea33b1143d2.arrow\n",
      "Running tokenizer on dataset: 100% 120/120 [00:00<00:00, 8229.10 examples/s]\n",
      "Running tokenizer on dataset:   0% 0/120 [00:00<?, ? examples/s]Caching processed dataset at /root/.cache/huggingface/datasets/text/default-fd57d5061fa2584e/0.0.0/37eaf37ac90527a7fd768c94b312ee84f8815c9b7ac00acf81c1c364e8392f99/cache-e74ae04df439624d.arrow\n",
      "10/21/2024 12:41:47 - INFO - datasets.arrow_dataset - Caching processed dataset at /root/.cache/huggingface/datasets/text/default-fd57d5061fa2584e/0.0.0/37eaf37ac90527a7fd768c94b312ee84f8815c9b7ac00acf81c1c364e8392f99/cache-e74ae04df439624d.arrow\n",
      "Running tokenizer on dataset: 100% 120/120 [00:00<00:00, 10569.21 examples/s]\n",
      "Grouping texts in chunks of 1024:   0% 0/120 [00:00<?, ? examples/s]Caching processed dataset at /root/.cache/huggingface/datasets/text/default-fd57d5061fa2584e/0.0.0/37eaf37ac90527a7fd768c94b312ee84f8815c9b7ac00acf81c1c364e8392f99/cache-4187c101c54e2ba9.arrow\n",
      "10/21/2024 12:41:47 - INFO - datasets.arrow_dataset - Caching processed dataset at /root/.cache/huggingface/datasets/text/default-fd57d5061fa2584e/0.0.0/37eaf37ac90527a7fd768c94b312ee84f8815c9b7ac00acf81c1c364e8392f99/cache-4187c101c54e2ba9.arrow\n",
      "Grouping texts in chunks of 1024: 100% 120/120 [00:00<00:00, 8800.93 examples/s]\n",
      "Grouping texts in chunks of 1024:   0% 0/120 [00:00<?, ? examples/s]Caching processed dataset at /root/.cache/huggingface/datasets/text/default-fd57d5061fa2584e/0.0.0/37eaf37ac90527a7fd768c94b312ee84f8815c9b7ac00acf81c1c364e8392f99/cache-28ce9b333dc17fde.arrow\n",
      "10/21/2024 12:41:47 - INFO - datasets.arrow_dataset - Caching processed dataset at /root/.cache/huggingface/datasets/text/default-fd57d5061fa2584e/0.0.0/37eaf37ac90527a7fd768c94b312ee84f8815c9b7ac00acf81c1c364e8392f99/cache-28ce9b333dc17fde.arrow\n",
      "Grouping texts in chunks of 1024: 100% 120/120 [00:00<00:00, 7641.06 examples/s]\n",
      "/usr/local/lib/python3.10/dist-packages/transformers/utils/import_utils.py:575: FutureWarning: `is_torch_tpu_available` is deprecated and will be removed in 4.41.0. Please use the `is_torch_xla_available` instead.\n",
      "  warnings.warn(\n",
      "[INFO|trainer.py:2134] 2024-10-21 12:41:48,735 >> ***** Running training *****\n",
      "[INFO|trainer.py:2135] 2024-10-21 12:41:48,735 >>   Num examples = 6\n",
      "[INFO|trainer.py:2136] 2024-10-21 12:41:48,735 >>   Num Epochs = 5\n",
      "[INFO|trainer.py:2137] 2024-10-21 12:41:48,735 >>   Instantaneous batch size per device = 1\n",
      "[INFO|trainer.py:2140] 2024-10-21 12:41:48,735 >>   Total train batch size (w. parallel, distributed & accumulation) = 1\n",
      "[INFO|trainer.py:2141] 2024-10-21 12:41:48,735 >>   Gradient Accumulation steps = 1\n",
      "[INFO|trainer.py:2142] 2024-10-21 12:41:48,735 >>   Total optimization steps = 30\n",
      "[INFO|trainer.py:2143] 2024-10-21 12:41:48,736 >>   Number of trainable parameters = 354,823,168\n",
      "100% 30/30 [00:06<00:00,  5.08it/s][INFO|trainer.py:3503] 2024-10-21 12:41:55,489 >> Saving model checkpoint to outputs_stories/checkpoint-30\n",
      "[INFO|configuration_utils.py:472] 2024-10-21 12:41:55,490 >> Configuration saved in outputs_stories/checkpoint-30/config.json\n",
      "[INFO|configuration_utils.py:807] 2024-10-21 12:41:55,491 >> Configuration saved in outputs_stories/checkpoint-30/generation_config.json\n",
      "[INFO|modeling_utils.py:2799] 2024-10-21 12:41:58,411 >> Model weights saved in outputs_stories/checkpoint-30/model.safetensors\n",
      "[INFO|tokenization_utils_base.py:2684] 2024-10-21 12:41:58,412 >> tokenizer config file saved in outputs_stories/checkpoint-30/tokenizer_config.json\n",
      "[INFO|tokenization_utils_base.py:2693] 2024-10-21 12:41:58,412 >> Special tokens file saved in outputs_stories/checkpoint-30/special_tokens_map.json\n",
      "[INFO|trainer.py:2394] 2024-10-21 12:42:06,639 >> \n",
      "\n",
      "Training completed. Do not forget to share your model on huggingface.co/models =)\n",
      "\n",
      "\n",
      "{'train_runtime': 17.9031, 'train_samples_per_second': 1.676, 'train_steps_per_second': 1.676, 'train_loss': 1.465985107421875, 'epoch': 5.0}\n",
      "100% 30/30 [00:17<00:00,  1.68it/s]\n",
      "[INFO|trainer.py:3503] 2024-10-21 12:42:06,640 >> Saving model checkpoint to outputs_stories\n",
      "[INFO|configuration_utils.py:472] 2024-10-21 12:42:06,641 >> Configuration saved in outputs_stories/config.json\n",
      "[INFO|configuration_utils.py:807] 2024-10-21 12:42:06,642 >> Configuration saved in outputs_stories/generation_config.json\n",
      "[INFO|modeling_utils.py:2799] 2024-10-21 12:42:12,878 >> Model weights saved in outputs_stories/model.safetensors\n",
      "[INFO|tokenization_utils_base.py:2684] 2024-10-21 12:42:12,879 >> tokenizer config file saved in outputs_stories/tokenizer_config.json\n",
      "[INFO|tokenization_utils_base.py:2693] 2024-10-21 12:42:12,879 >> Special tokens file saved in outputs_stories/special_tokens_map.json\n",
      "***** train metrics *****\n",
      "  epoch                    =        5.0\n",
      "  total_flos               =    51895GF\n",
      "  train_loss               =      1.466\n",
      "  train_runtime            = 0:00:17.90\n",
      "  train_samples            =          6\n",
      "  train_samples_per_second =      1.676\n",
      "  train_steps_per_second   =      1.676\n",
      "10/21/2024 12:42:12 - INFO - __main__ - *** Evaluate ***\n",
      "[INFO|trainer.py:3819] 2024-10-21 12:42:12,928 >> \n",
      "***** Running Evaluation *****\n",
      "[INFO|trainer.py:3821] 2024-10-21 12:42:12,928 >>   Num examples = 6\n",
      "[INFO|trainer.py:3824] 2024-10-21 12:42:12,928 >>   Batch size = 1\n",
      "100% 6/6 [00:00<00:00, 16.94it/s]\n",
      "***** eval metrics *****\n",
      "  epoch                   =        5.0\n",
      "  eval_accuracy           =     0.9451\n",
      "  eval_loss               =     0.2245\n",
      "  eval_runtime            = 0:00:00.43\n",
      "  eval_samples            =          6\n",
      "  eval_samples_per_second =     13.741\n",
      "  eval_steps_per_second   =     13.741\n",
      "  perplexity              =     1.2516\n",
      "[INFO|modelcard.py:449] 2024-10-21 12:42:15,598 >> Dropping the following result as it does not have all the necessary fields:\n",
      "{'task': {'name': 'Causal Language Modeling', 'type': 'text-generation'}, 'metrics': [{'name': 'Accuracy', 'type': 'accuracy', 'value': 0.9450961225154774}]}\n"
     ]
    },
    {
     "name": "stderr",
     "output_type": "stream",
     "text": [
      "The attention mask and the pad token id were not set. As a consequence, you may observe unexpected behavior. Please pass your input's `attention_mask` to obtain reliable results.\n",
      "Setting `pad_token_id` to `eos_token_id`:50256 for open-end generation.\n",
      "The attention mask and the pad token id were not set. As a consequence, you may observe unexpected behavior. Please pass your input's `attention_mask` to obtain reliable results.\n",
      "Setting `pad_token_id` to `eos_token_id`:50256 for open-end generation.\n"
     ]
    },
    {
     "name": "stdout",
     "output_type": "stream",
     "text": [
      "START: \n",
      "Sarah's mother told her it might rain. She looked outside.\n",
      "GENERATED: \n",
      "Sarah's mother told her it might rain. She looked outside. It was still very heavy. Kate's mother told her it was a good sign. Kate's mother drove her to the store. The end.\n",
      "TRUE: \n",
      "Sarah's mother told her it might rain. She looked outside. She didn't see a cloud in sight. So she left without her umbrella. Then it started to rain! The end.\n"
     ]
    },
    {
     "name": "stderr",
     "output_type": "stream",
     "text": [
      "The attention mask and the pad token id were not set. As a consequence, you may observe unexpected behavior. Please pass your input's `attention_mask` to obtain reliable results.\n",
      "Setting `pad_token_id` to `eos_token_id`:50256 for open-end generation.\n"
     ]
    },
    {
     "name": "stdout",
     "output_type": "stream",
     "text": [
      "START: \n",
      "Vic swallowed a breath mint. His friend complemented the smell.\n",
      "GENERATED: \n",
      "Vic swallowed a breath mint. His friend complemented the smell. They played with the boy's hair. He played with the edge of the bed. He nicked the edge of the bed. He blew a raspberry flavored breath mint. His friend was so happy to have a friend. The end.\n",
      "TRUE: \n",
      "Vic swallowed a breath mint. His friend complemented the smell. He gave his friend a breath mint. His friend achieved a minty fresh breath as well. They talked in close proximity. The end.\n"
     ]
    },
    {
     "name": "stderr",
     "output_type": "stream",
     "text": [
      "The attention mask and the pad token id were not set. As a consequence, you may observe unexpected behavior. Please pass your input's `attention_mask` to obtain reliable results.\n",
      "Setting `pad_token_id` to `eos_token_id`:50256 for open-end generation.\n"
     ]
    },
    {
     "name": "stdout",
     "output_type": "stream",
     "text": [
      "START: \n",
      "Bob was looking for a new wallet. He had lost\n",
      "GENERATED: \n",
      "Bob was looking for a new wallet. He had lost his old wallet. He found a wallet online for a good price. He paid for the wallet with a credit card. The wallet came a week later. The end.\n",
      "TRUE: \n",
      "Bob was looking for a new wallet. He had lost his old wallet. He found a wallet online for a good price. He paid for the wallet with a credit card. The wallet came a week later. The end.\n"
     ]
    },
    {
     "name": "stderr",
     "output_type": "stream",
     "text": [
      "The attention mask and the pad token id were not set. As a consequence, you may observe unexpected behavior. Please pass your input's `attention_mask` to obtain reliable results.\n",
      "Setting `pad_token_id` to `eos_token_id`:50256 for open-end generation.\n"
     ]
    },
    {
     "name": "stdout",
     "output_type": "stream",
     "text": [
      "START: \n",
      "Rob had two pet guinea pigs. He loved them very\n",
      "GENERATED: \n",
      "Rob had two pet guinea pigs. He loved them very much. One day, one got sick and died. The other pig was very lonely and sad. The end.\n",
      "TRUE: \n",
      "Rob had two pet guinea pigs. He loved them very much. One day, one got sick and died. The other pig was very lonely and sad. Finally, Rob adopted a new pig and they were happy together again. The end.\n"
     ]
    },
    {
     "name": "stderr",
     "output_type": "stream",
     "text": [
      "The attention mask and the pad token id were not set. As a consequence, you may observe unexpected behavior. Please pass your input's `attention_mask` to obtain reliable results.\n",
      "Setting `pad_token_id` to `eos_token_id`:50256 for open-end generation.\n"
     ]
    },
    {
     "name": "stdout",
     "output_type": "stream",
     "text": [
      "START: \n",
      "Jervis wanted to get a dog. He went to a\n",
      "GENERATED: \n",
      "Jervis wanted to get a dog. He went to a pound to find a puppy. But no one seemed to be home. He ended up throwing the dog out the window. The end.\n",
      "TRUE: \n",
      "Jervis wanted to get a dog. He went to a pound to find a puppy. Jervis picked out a small puppy. He brought the puppy home and gave him some water to drink. Jervis was happy to have a dog. The end.\n"
     ]
    },
    {
     "name": "stderr",
     "output_type": "stream",
     "text": [
      "The attention mask and the pad token id were not set. As a consequence, you may observe unexpected behavior. Please pass your input's `attention_mask` to obtain reliable results.\n",
      "Setting `pad_token_id` to `eos_token_id`:50256 for open-end generation.\n"
     ]
    },
    {
     "name": "stdout",
     "output_type": "stream",
     "text": [
      "START: \n",
      "Dan's grandfather recently had a major stroke. Dan rushed to\n",
      "GENERATED: \n",
      "Dan's grandfather recently had a major stroke. Dan rushed to the hospital, thinking his grandfather was in a state of shock. But no one was there to hear him say a word. Dan just sat there and cried. The end.\n",
      "TRUE: \n",
      "Dan's grandfather recently had a major stroke. Dan rushed to the hospital, thinking the worse had happened. However, Dan saw his grandfather alive, but not moving. After talking to the doctors, they told Dan he was paralyzed. Dan was heartbroken to hear his grandfather was in such a state. The end.\n"
     ]
    },
    {
     "name": "stderr",
     "output_type": "stream",
     "text": [
      "The attention mask and the pad token id were not set. As a consequence, you may observe unexpected behavior. Please pass your input's `attention_mask` to obtain reliable results.\n",
      "Setting `pad_token_id` to `eos_token_id`:50256 for open-end generation.\n"
     ]
    },
    {
     "name": "stdout",
     "output_type": "stream",
     "text": [
      "START: \n",
      "Norman planted a tree twenty years ago. The tree was\n",
      "GENERATED: \n",
      "Norman planted a tree twenty years ago. The tree was placed adjacent to his childhood home. He and his sister could hear the tree outside. They played hide and seek. They didn't find a spider. They didn't think they'd ever see one. They were relieved to hear it was there. The end.\n",
      "TRUE: \n",
      "Norman planted a tree twenty years ago. The tree was placed adjacent to his childhood home. Now he finds himself near the home while traveling. He stops by to check on the tree. Norman's tree has grown to an immense size. The end.\n"
     ]
    },
    {
     "name": "stderr",
     "output_type": "stream",
     "text": [
      "The attention mask and the pad token id were not set. As a consequence, you may observe unexpected behavior. Please pass your input's `attention_mask` to obtain reliable results.\n",
      "Setting `pad_token_id` to `eos_token_id`:50256 for open-end generation.\n"
     ]
    },
    {
     "name": "stdout",
     "output_type": "stream",
     "text": [
      "START: \n",
      "I went grocery shopping yesterday. I needed to get some\n",
      "GENERATED: \n",
      "I went grocery shopping yesterday. I needed to get some new tea. When I took a sip however my taste was not good. The end.\n",
      "TRUE: \n",
      "I went grocery shopping yesterday. I needed to get some new tea. When I took a sip however my it was not good. The taste was too tangy for me. I ended up throwing it away. The end.\n"
     ]
    },
    {
     "name": "stderr",
     "output_type": "stream",
     "text": [
      "The attention mask and the pad token id were not set. As a consequence, you may observe unexpected behavior. Please pass your input's `attention_mask` to obtain reliable results.\n",
      "Setting `pad_token_id` to `eos_token_id`:50256 for open-end generation.\n"
     ]
    },
    {
     "name": "stdout",
     "output_type": "stream",
     "text": [
      "START: \n",
      "Lilly lived in a house near some woods. Her mother\n",
      "GENERATED: \n",
      "Lilly lived in a house near some woods. Her mother told her not to go into the woods because of coyotes. She didn't go into the woods because of the coyotes. She was scared to death. The end.\n",
      "TRUE: \n",
      "Lilly lived in a house near some woods. Her mother told her not to go into the woods because of coyotes. Lily could hear the coyotes at night when she was in bed. She wasn't afraid of them. Even so, she didn't go into the woods. The end.\n"
     ]
    },
    {
     "name": "stderr",
     "output_type": "stream",
     "text": [
      "The attention mask and the pad token id were not set. As a consequence, you may observe unexpected behavior. Please pass your input's `attention_mask` to obtain reliable results.\n",
      "Setting `pad_token_id` to `eos_token_id`:50256 for open-end generation.\n"
     ]
    },
    {
     "name": "stdout",
     "output_type": "stream",
     "text": [
      "START: \n",
      "My friend Peter is a great juggler. I used to\n",
      "GENERATED: \n",
      "My friend Peter is a great juggler. I used to watch him juggle all the time. I tried to learn how to juggle. I tried to have Peter teach me, but it was too hard. I didn't get far. Peter taught me how to juggle later that day. I tried to juggle a lot that day. I tried to juggle a ton that day. I tried to juggle a bunch of times that day. I finally gave up trying to juggle. The end.\n",
      "TRUE: \n",
      "My friend Peter is a great juggler. I used to watch him juggle all the time. I tried to learn how to juggle. I tried to have Peter teach me, but it was too hard. I don't think I'll ever be able to juggle like Peter. The end.\n"
     ]
    },
    {
     "name": "stderr",
     "output_type": "stream",
     "text": [
      "The attention mask and the pad token id were not set. As a consequence, you may observe unexpected behavior. Please pass your input's `attention_mask` to obtain reliable results.\n",
      "Setting `pad_token_id` to `eos_token_id`:50256 for open-end generation.\n"
     ]
    },
    {
     "name": "stdout",
     "output_type": "stream",
     "text": [
      "START: \n",
      "Bob liked to visit the local thrift store despite its\n",
      "GENERATED: \n",
      "Bob liked to visit the local thrift store despite its high prices. One day, he saw a glassware that matched what he had. He bought a kit and went to the thrift store. The kit was very good. The end.\n",
      "TRUE: \n",
      "Bob liked to visit the local thrift store despite its high prices. It was fun to look around to see the sorts of things people donated. On one of these trips Bob saw some glassware that matched what he had. The glassware w The end.\n"
     ]
    },
    {
     "name": "stderr",
     "output_type": "stream",
     "text": [
      "The attention mask and the pad token id were not set. As a consequence, you may observe unexpected behavior. Please pass your input's `attention_mask` to obtain reliable results.\n",
      "Setting `pad_token_id` to `eos_token_id`:50256 for open-end generation.\n"
     ]
    },
    {
     "name": "stdout",
     "output_type": "stream",
     "text": [
      "START: \n",
      "Jim liked to steal other folk's scripts and pass them\n",
      "GENERATED: \n",
      "Jim liked to steal other folk's scripts and pass them off as his own. One day, he decided it was time to stop doing that. He took his scripts to the trash can. He blew the bubbles, and the people in the yard laughed. The end.\n",
      "TRUE: \n",
      "Jim liked to steal other folk's scripts and pass them off as his own. All the people on the forum loved Jim because he'd spoon feed them. Jim trash talked the wrong person and was beaten to death. The people on the forum a The end.\n"
     ]
    },
    {
     "name": "stderr",
     "output_type": "stream",
     "text": [
      "The attention mask and the pad token id were not set. As a consequence, you may observe unexpected behavior. Please pass your input's `attention_mask` to obtain reliable results.\n",
      "Setting `pad_token_id` to `eos_token_id`:50256 for open-end generation.\n"
     ]
    },
    {
     "name": "stdout",
     "output_type": "stream",
     "text": [
      "START: \n",
      "I recently got a tip from a friend to join\n",
      "GENERATED: \n",
      "I recently got a tip from a friend to join a labor union to get work. I decided to join the labor union to get work. I got work immediately after going there. I earned a good wage and am now on my way to a job. The end.\n",
      "TRUE: \n",
      "I recently got a tip from a friend to join a labor union to get work. The tip was great because I got work immediately after going there! Before I went to the labor union I had to get health and alcohol cards. The cards im The end.\n"
     ]
    },
    {
     "name": "stderr",
     "output_type": "stream",
     "text": [
      "The attention mask and the pad token id were not set. As a consequence, you may observe unexpected behavior. Please pass your input's `attention_mask` to obtain reliable results.\n",
      "Setting `pad_token_id` to `eos_token_id`:50256 for open-end generation.\n"
     ]
    },
    {
     "name": "stdout",
     "output_type": "stream",
     "text": [
      "START: \n",
      "Amy was anxious after she submitted her graduate school application.\n",
      "GENERATED: \n",
      "Amy was anxious after she submitted her graduate school application. She didn't think she would get in. She submitted her application and was approved. The end.\n",
      "TRUE: \n",
      "Amy was anxious after she submitted her graduate school application. The admissions director emailed her with further questions. Amy answered with detailed explanations of parts of her application. A couple of days later A The end.\n"
     ]
    },
    {
     "name": "stderr",
     "output_type": "stream",
     "text": [
      "The attention mask and the pad token id were not set. As a consequence, you may observe unexpected behavior. Please pass your input's `attention_mask` to obtain reliable results.\n",
      "Setting `pad_token_id` to `eos_token_id`:50256 for open-end generation.\n"
     ]
    },
    {
     "name": "stdout",
     "output_type": "stream",
     "text": [
      "START: \n",
      "Shane's parents told him that they we're going to be\n",
      "GENERATED: \n",
      "Shane's parents told him that they we're going to be moving. Shane decided to stay in the house. The end.\n",
      "TRUE: \n",
      "Shane's parents told him that they we're going to be moving. He was very scared to move to a new school and make new friends. The first few weeks of school were very hard and lonely for Shane. Shane decided to join the foo The end.\n"
     ]
    },
    {
     "name": "stderr",
     "output_type": "stream",
     "text": [
      "The attention mask and the pad token id were not set. As a consequence, you may observe unexpected behavior. Please pass your input's `attention_mask` to obtain reliable results.\n",
      "Setting `pad_token_id` to `eos_token_id`:50256 for open-end generation.\n"
     ]
    },
    {
     "name": "stdout",
     "output_type": "stream",
     "text": [
      "START: \n",
      "Jo was decorating her professional healing space on a small\n",
      "GENERATED: \n",
      "Jo was decorating her professional healing space on a small budget. She decided it was a good way to save money. So she went to a thrift shop and got supplies. She made a few small crystals and gave them to the people. They were so very good. The end.\n",
      "TRUE: \n",
      "Jo was decorating her professional healing space on a small budget. She went to a thrift shop for supplies to make crystal displays. A deviled egg tray was perfect for making a ring of small crystals. Assorted candle holde The end.\n"
     ]
    },
    {
     "name": "stderr",
     "output_type": "stream",
     "text": [
      "The attention mask and the pad token id were not set. As a consequence, you may observe unexpected behavior. Please pass your input's `attention_mask` to obtain reliable results.\n",
      "Setting `pad_token_id` to `eos_token_id`:50256 for open-end generation.\n"
     ]
    },
    {
     "name": "stdout",
     "output_type": "stream",
     "text": [
      "START: \n",
      "Ryan and his girlfriend spent almost all their time together,\n",
      "GENERATED: \n",
      "Ryan and his girlfriend spent almost all their time together, although they didn't have the best of times. They decided to get an apartment together to save money. They decided to rent an apartment together. They decided to buy an apartment together. They decided to save money and rent an apartment together. They decided to save money. They decided to buy an apartment together. The end.\n",
      "TRUE: \n",
      "Ryan and his girlfriend spent almost all their time together, in love. They decided to get an apartment together to save money. She quickly became unhappy, and ended things, to Ryan's surprise. She asked him to sign her of The end.\n"
     ]
    },
    {
     "name": "stderr",
     "output_type": "stream",
     "text": [
      "The attention mask and the pad token id were not set. As a consequence, you may observe unexpected behavior. Please pass your input's `attention_mask` to obtain reliable results.\n",
      "Setting `pad_token_id` to `eos_token_id`:50256 for open-end generation.\n"
     ]
    },
    {
     "name": "stdout",
     "output_type": "stream",
     "text": [
      "START: \n",
      "Alexandria and Romina were the best of friends, although different.\n",
      "GENERATED: \n",
      "Alexandria and Romina were the best of friends, although different. Alexandria was a book worm while friend was a wild party girl. One night after a night of heavy drinking Romina was leaving a party. She was leaving a heavy drink. Alexandria grabbed a can of  The end.\n",
      "TRUE: \n",
      "Alexandria and Romina were the best of friends, although different. Alexandria was a book worm while friend was a wild party girl. One night after a night of heavy drinking Romina was leaving a party. Alexandria the wise s The end.\n"
     ]
    },
    {
     "name": "stderr",
     "output_type": "stream",
     "text": [
      "The attention mask and the pad token id were not set. As a consequence, you may observe unexpected behavior. Please pass your input's `attention_mask` to obtain reliable results.\n",
      "Setting `pad_token_id` to `eos_token_id`:50256 for open-end generation.\n"
     ]
    },
    {
     "name": "stdout",
     "output_type": "stream",
     "text": [
      "START: \n",
      "Millie loved to bake pies during the holidays. Each year\n",
      "GENERATED: \n",
      "Millie loved to bake pies during the holidays. Each year on Christmas Eve, she would bring pies to all the neighbors. This year on Christmas Eve, she was sick and couldn't bake the pies. She died of asphyxiation. The end.\n",
      "TRUE: \n",
      "Millie loved to bake pies during the holidays. Each year on Christmas Eve she would bring pies to all the neighbors. This year on Christmas Eve Millie was sick and couldn't bake the pies. All the neighbors felt bad for her The end.\n"
     ]
    },
    {
     "name": "stderr",
     "output_type": "stream",
     "text": [
      "The attention mask and the pad token id were not set. As a consequence, you may observe unexpected behavior. Please pass your input's `attention_mask` to obtain reliable results.\n",
      "Setting `pad_token_id` to `eos_token_id`:50256 for open-end generation.\n"
     ]
    },
    {
     "name": "stdout",
     "output_type": "stream",
     "text": [
      "START: \n",
      "Cindy had never learned to ride a bike during her\n",
      "GENERATED: \n",
      "Cindy had never learned to ride a bike during her childhood. She didn't have the money to afford a car. So she drove herself to the store. She bought a cheap one. She drove herself to the store. She got a new car. The end.\n",
      "TRUE: \n",
      "Cindy had never learned to ride a bike during her childhood. This didn't bother her until she found herself living in a large city. With no money to afford a car, she knew biking would be necessary. She convinced herself i The end.\n"
     ]
    },
    {
     "name": "stderr",
     "output_type": "stream",
     "text": [
      "The attention mask and the pad token id were not set. As a consequence, you may observe unexpected behavior. Please pass your input's `attention_mask` to obtain reliable results.\n",
      "Setting `pad_token_id` to `eos_token_id`:50256 for open-end generation.\n"
     ]
    },
    {
     "name": "stdout",
     "output_type": "stream",
     "text": [
      "START: \n",
      "Ethan loved the snow. He saw it snow outside. He\n",
      "GENERATED: \n",
      "Ethan loved the snow. He saw it snow outside. He asked his mom if he could play. He ran and ran until he finally collapsed. His mom took him to the ER. The doctor said he had a broken arm. The end.\n",
      "TRUE: \n",
      "Ethan loved the snow. He saw it snow outside. He asked his mom if he could play. He took his sled. He went down the hill. Jennifer couldn't afford her rent so she placed an ad for a roommate. Laura answered the ad and the  The end.\n"
     ]
    },
    {
     "name": "stderr",
     "output_type": "stream",
     "text": [
      "The attention mask and the pad token id were not set. As a consequence, you may observe unexpected behavior. Please pass your input's `attention_mask` to obtain reliable results.\n",
      "Setting `pad_token_id` to `eos_token_id`:50256 for open-end generation.\n"
     ]
    },
    {
     "name": "stdout",
     "output_type": "stream",
     "text": [
      "START: \n",
      "Fred asked Carrie out. He was scared. He was afraid\n",
      "GENERATED: \n",
      "Fred asked Carrie out. He was scared. He was afraid she would say no. He was afraid she would say no. Finally Carrie said yes. They hugged and kissed. The end.\n",
      "TRUE: \n",
      "Fred asked Carrie out. He was scared. He was afraid she would say no. But she in fact said yes. He was so nervous now. Jennifer was so hungry. She had been out running errands all day. She decided to get a pizza. Jennifer  The end.\n"
     ]
    },
    {
     "name": "stderr",
     "output_type": "stream",
     "text": [
      "The attention mask and the pad token id were not set. As a consequence, you may observe unexpected behavior. Please pass your input's `attention_mask` to obtain reliable results.\n",
      "Setting `pad_token_id` to `eos_token_id`:50256 for open-end generation.\n",
      "The attention mask and the pad token id were not set. As a consequence, you may observe unexpected behavior. Please pass your input's `attention_mask` to obtain reliable results.\n",
      "Setting `pad_token_id` to `eos_token_id`:50256 for open-end generation.\n"
     ]
    },
    {
     "name": "stdout",
     "output_type": "stream",
     "text": [
      "START: \n",
      "Kelsi had the curliest hair. She hated wearing it curly.\n",
      "GENERATED: \n",
      "Kelsi had the curliest hair. She hated wearing it curly. So she went to the hairdresser to get a curly hair product. The hairdresser gave her a product that made her hair stand up. She was happy to have it done. The end.\n",
      "TRUE: \n",
      "Kelsi had the curliest hair. She hated wearing it curly. Finally she had to. Her iron broke. But it was still very dry. My wife is retiring this week. One of her coworkers is in the field. She does see him often. Last week The end.\n"
     ]
    },
    {
     "name": "stderr",
     "output_type": "stream",
     "text": [
      "The attention mask and the pad token id were not set. As a consequence, you may observe unexpected behavior. Please pass your input's `attention_mask` to obtain reliable results.\n",
      "Setting `pad_token_id` to `eos_token_id`:50256 for open-end generation.\n"
     ]
    },
    {
     "name": "stdout",
     "output_type": "stream",
     "text": [
      "START: \n",
      "Bridgett woke up. She didn't have time to eat. She\n",
      "GENERATED: \n",
      "Bridgett woke up. She didn't have time to eat. She grabbed a slice of toast. She took a big bite. She blew bubbles everywhere. She enjoyed the toast. The end.\n",
      "TRUE: \n",
      "Bridgett woke up. She didn't have time to eat. She pulled out bread. She put it in the oven. She ate toast. One day AJ got a pet mouse. He named it Squeaks. He designed Squeaks' cage to look cool. He brought Squeaks home a The end.\n"
     ]
    },
    {
     "name": "stderr",
     "output_type": "stream",
     "text": [
      "The attention mask and the pad token id were not set. As a consequence, you may observe unexpected behavior. Please pass your input's `attention_mask` to obtain reliable results.\n",
      "Setting `pad_token_id` to `eos_token_id`:50256 for open-end generation.\n"
     ]
    },
    {
     "name": "stdout",
     "output_type": "stream",
     "text": [
      "START: \n",
      "Adam moved out to school. He started his classes well.\n",
      "GENERATED: \n",
      "Adam moved out to school. He started his classes well. He won an award. He got hired for a job. He got a call a month later. He was hired a month later. He won an award. The end.\n",
      "TRUE: \n",
      "Adam moved out to school. He started his classes well. He made straight A's. He won an award. He got hired for a job. I was babysitting my four year old brother. He began throwing things everywhere. He hit me in the eye wi The end.\n"
     ]
    },
    {
     "name": "stderr",
     "output_type": "stream",
     "text": [
      "The attention mask and the pad token id were not set. As a consequence, you may observe unexpected behavior. Please pass your input's `attention_mask` to obtain reliable results.\n",
      "Setting `pad_token_id` to `eos_token_id`:50256 for open-end generation.\n"
     ]
    },
    {
     "name": "stdout",
     "output_type": "stream",
     "text": [
      "START: \n",
      "Howard went to the store. He needed a gift for\n",
      "GENERATED: \n",
      "Howard went to the store. He needed a gift for his brother. He saw a ipod 50% off. He bought it. He started playing with the remote. He was having a great time. The end.\n",
      "TRUE: \n",
      "Howard went to the store. He needed a gift for his brother. He saw a ipod 50% off. He bought it. His brother loved it. Sam was feeling overwhelmed in school. He had a lot of homework to do and tests to study for. His frien The end.\n"
     ]
    },
    {
     "name": "stderr",
     "output_type": "stream",
     "text": [
      "The attention mask and the pad token id were not set. As a consequence, you may observe unexpected behavior. Please pass your input's `attention_mask` to obtain reliable results.\n",
      "Setting `pad_token_id` to `eos_token_id`:50256 for open-end generation.\n"
     ]
    },
    {
     "name": "stdout",
     "output_type": "stream",
     "text": [
      "START: \n",
      "We just got a new rug. It was very plush.\n",
      "GENERATED: \n",
      "We just got a new rug. It was very plush. We played with the edge of the edge. We nicked the edges. We decided to finish the job ourselves. The end.\n",
      "TRUE: \n",
      "We just got a new rug. It was very plush. Our cat started playing with the edge. My wife yelled at the cat. She ran away. Kate started playing the Xbox with her nephew. But a year later she was hooked and played alone. One The end.\n"
     ]
    },
    {
     "name": "stderr",
     "output_type": "stream",
     "text": [
      "The attention mask and the pad token id were not set. As a consequence, you may observe unexpected behavior. Please pass your input's `attention_mask` to obtain reliable results.\n",
      "Setting `pad_token_id` to `eos_token_id`:50256 for open-end generation.\n"
     ]
    },
    {
     "name": "stdout",
     "output_type": "stream",
     "text": [
      "START: \n",
      "Allie went to the store. She saw candy on sale.\n",
      "GENERATED: \n",
      "Allie went to the store. She saw candy on sale. She asked her mom if she could. She excitedly took a sip. The end.\n",
      "TRUE: \n",
      "Allie went to the store. She saw candy on sale. It looked great. She got sour candy. She got five bags. Mitchell is on the beach. Mitchell trips in the sand. Mitchell looks to see what tripped him. He uncovers something sp The end.\n",
      "START: \n",
      "Terra ran out of gas. She cried. She asked people\n",
      "GENERATED: \n",
      "Terra ran out of gas. She cried. She asked people for help. Someone towed her. She pumped up her car. She drove herself home. The end.\n",
      "TRUE: \n",
      "Terra ran out of gas. She cried. She asked people for help. Someone towed her. She pumped up her car. Jasper wants to drink some coffee. First he needs to grind his coffee beans. Once they are ground he makes coffee and dr The end.\n",
      "14\n",
      "68\n",
      "0\n",
      "-67\n",
      "-50\n",
      "-91\n",
      "51\n",
      "-58\n",
      "-46\n",
      "159\n",
      "-33\n",
      "-6\n",
      "-12\n",
      "-71\n",
      "-126\n",
      "20\n",
      "158\n",
      "38\n",
      "-10\n",
      "-9\n",
      "-34\n",
      "-72\n",
      "-11\n",
      "-73\n",
      "-53\n",
      "-62\n",
      "-83\n",
      "-117\n",
      "-97\n"
     ]
    },
    {
     "data": {
      "image/png": "[encoded data removed]",
      "text/plain": [
       "<Figure size 640x480 with 1 Axes>"
      ]
     },
     "metadata": {},
     "output_type": "display_data"
    }
   ],
   "source": [
    "def train_model_script(name_or_path='gpt2-medium',\n",
    "                       num_epochs=3,\n",
    "                       output_dir='outputs_stories',\n",
    "                       save_steps=1000,\n",
    "                       lr=5e-04):\n",
    "    gc.collect()\n",
    "    ! python3 run_clm.py \\\n",
    "        --model_name_or_path {name_or_path} \\\n",
    "        --train_file {'./outputs_stories/train.txt'} \\\n",
    "        --validation_file {'./outputs_stories/train.txt'} \\\n",
    "        --per_device_train_batch_size 1 \\\n",
    "        --per_device_eval_batch_size 1 \\\n",
    "        --do_train \\\n",
    "        --do_eval \\\n",
    "        --output_dir {output_dir} \\\n",
    "        --overwrite_output_dir \\\n",
    "        --num_train_epochs {num_epochs} \\\n",
    "        --save_strategy 'steps' \\\n",
    "        --save_steps {save_steps} \\\n",
    "        --learning_rate {lr} \\\n",
    "        --report_to 'none'\n",
    "\n",
    "for i in range(0, 10):\n",
    "    for num_typical in [100]:\n",
    "        for num_char in [100]:\n",
    "            for num_variants in [10]:\n",
    "                for num_eps in [5]:\n",
    "\n",
    "                    !rm -rf outputs_stories\n",
    "                    !mkdir outputs_stories\n",
    "\n",
    "                    typical, atypical_short, atypical_long = prepare_data(num_typical=num_typical,\n",
    "                                                                          num_variants=num_variants)\n",
    "                    sents_list = typical + atypical_short + atypical_long\n",
    "                    #sents_list = np.random.choice(sents_list, 100).tolist()\n",
    "                    shuffle(sents_list)\n",
    "\n",
    "                    with open(\"outputs_stories/train.txt\", \"w\") as fh:\n",
    "                        fh.write('\\n'.join(sents_list))\n",
    "\n",
    "                    with open(\"outputs_stories/test.txt\", \"w\") as fh:\n",
    "                        fh.write('\\n'.join(sents_list))\n",
    "\n",
    "                    train_model_script(num_epochs=num_eps)\n",
    "\n",
    "                    test_model(f'./plots/{i}trial_{num_eps}epochs_{num_typical}typicals_{num_char}chars_{num_variants}variants.png',\n",
    "                              typical,\n",
    "                              atypical_short,\n",
    "                              atypical_long)"
   ]
  },
  {
   "cell_type": "code",
   "execution_count": 73,
   "id": "dc722dcf-1197-487a-91dc-9270df3502da",
   "metadata": {
    "id": "dc722dcf-1197-487a-91dc-9270df3502da"
   },
   "outputs": [],
   "source": [
    "combined = {'typical': [], 'atypical_short': [], 'atypical_long': []}\n",
    "for pkl in glob.glob('plots_new/*.pkl'):\n",
    "    with open(pkl, 'rb') as f:\n",
    "        d = pickle.load(f)\n",
    "    combined['typical'].extend(d['typical'])\n",
    "    combined['atypical_long'].extend(d['atypical_long'])\n",
    "    combined['atypical_short'].extend(d['atypical_short'])\n",
    "\n",
    "d = combined"
   ]
  },
  {
   "cell_type": "code",
   "execution_count": 74,
   "id": "d5fcdcc4-7a6d-4d64-a440-ee9cfeadf452",
   "metadata": {
    "id": "d5fcdcc4-7a6d-4d64-a440-ee9cfeadf452",
    "scrolled": true
   },
   "outputs": [],
   "source": [
    "d['incomplete'] = d.pop('atypical_short')\n",
    "d['updated'] = d.pop('atypical_long')"
   ]
  },
  {
   "cell_type": "code",
   "execution_count": 75,
   "id": "6144822d-f47b-4b06-a224-9f817e3c720f",
   "metadata": {},
   "outputs": [
    {
     "data": {
      "image/png": "[encoded data removed]",
      "text/plain": [
       "<Figure size 330x250 with 1 Axes>"
      ]
     },
     "metadata": {},
     "output_type": "display_data"
    }
   ],
   "source": [
    "# Function to compare lengths of input and output\n",
    "def length_comparison(category_data):\n",
    "    shorter, same, longer = 0, 0, 0\n",
    "    total_stories = 10  # Each .pkl file has exactly 10 stories in each category\n",
    "    \n",
    "    for input_text, output_text in category_data:\n",
    "        if len(output_text) < len(input_text):\n",
    "            shorter += 1\n",
    "        elif len(output_text) == len(input_text):\n",
    "            same += 1\n",
    "        else:\n",
    "            longer += 1\n",
    "    \n",
    "    # Ensure we divide by 10 to get fractions (since each .pkl has 10 stories)\n",
    "    return shorter / total_stories, same / total_stories, longer / total_stories  # Return fractions\n",
    "\n",
    "# Key remapping dictionary\n",
    "key_mapping = {\n",
    "    'typical': 'typical',\n",
    "    'atypical_short': 'incomplete',\n",
    "    'atypical_long': 'updated'\n",
    "}\n",
    "\n",
    "# Categories to compare\n",
    "categories = ['incomplete', 'updated']\n",
    "\n",
    "# Initialize lists to store results for each individual\n",
    "individual_results = {'incomplete': {'shorter': [], 'longer': []},\n",
    "                      'updated': {'shorter': [], 'longer': []}}\n",
    "\n",
    "# Load each .pkl file separately, treating each as an individual\n",
    "for pkl in glob.glob('plots_new/*.pkl'):\n",
    "    with open(pkl, 'rb') as f:\n",
    "        d = pickle.load(f)\n",
    "    \n",
    "    # Remap the keys from 'typical', 'atypical_short', 'atypical_long' to 'typical', 'incomplete', 'updated'\n",
    "    remapped_data = {key_mapping[k]: v for k, v in d.items()}\n",
    "    \n",
    "    # Calculate fractions for each category for this individual\n",
    "    for category in categories:\n",
    "        shorter, _, longer = length_comparison(remapped_data.get(category, []))\n",
    "        individual_results[category]['shorter'].append(shorter)\n",
    "        individual_results[category]['longer'].append(longer)\n",
    "\n",
    "# Convert individual results to arrays for easier manipulation\n",
    "incomplete_shorter = np.array(individual_results['incomplete']['shorter'])\n",
    "incomplete_longer = np.array(individual_results['incomplete']['longer'])\n",
    "updated_shorter = np.array(individual_results['updated']['shorter'])\n",
    "updated_longer = np.array(individual_results['updated']['longer'])\n",
    "\n",
    "# Function to calculate 95% confidence intervals\n",
    "def calculate_95_ci(data):\n",
    "    n = len(data)\n",
    "    mean = np.mean(data)\n",
    "    sem = np.std(data, ddof=1) / np.sqrt(n)  # Standard error of the mean\n",
    "    ci_range = t.ppf(0.975, df=n-1) * sem    # 95% CI (two-tailed, so 0.975 for upper bound)\n",
    "    return mean, ci_range\n",
    "\n",
    "# Calculate means and 95% CI for each error type\n",
    "mean_incomplete_shorter, ci_incomplete_shorter = calculate_95_ci(incomplete_shorter)\n",
    "mean_incomplete_longer, ci_incomplete_longer = calculate_95_ci(incomplete_longer)\n",
    "mean_updated_shorter, ci_updated_shorter = calculate_95_ci(updated_shorter)\n",
    "mean_updated_longer, ci_updated_longer = calculate_95_ci(updated_longer)\n",
    "\n",
    "means_incomplete = [mean_incomplete_shorter, mean_incomplete_longer]\n",
    "means_updated = [mean_updated_shorter, mean_updated_longer]\n",
    "\n",
    "ci_incomplete = [ci_incomplete_shorter, ci_incomplete_longer]\n",
    "ci_updated = [ci_updated_shorter, ci_updated_longer]\n",
    "\n",
    "# Prepare data for grouped bar chart\n",
    "labels = ['Omission errors', 'Extension errors']  # Shorter = Omission, Longer = Extension\n",
    "x = np.arange(len(labels))  # Label locations\n",
    "bar_width = 0.35  # Width of bars\n",
    "\n",
    "# Create grouped bar chart\n",
    "fig, ax = plt.subplots(figsize=(3.3, 2.5))\n",
    "\n",
    "# Bars for incomplete (mean with 95% CI error bars)\n",
    "ax.bar(x - bar_width/2, means_incomplete, bar_width, yerr=ci_incomplete, color='skyblue', alpha=1, label='Incomplete', capsize=5)\n",
    "\n",
    "# Bars for updated (mean with 95% CI error bars)\n",
    "ax.bar(x + bar_width/2, means_updated, bar_width, yerr=ci_updated, color='purple', alpha=0.6, label='Updated', capsize=5)\n",
    "\n",
    "# # Scatter individual data points for incomplete with dark grey circles\n",
    "# ax.scatter(np.full(len(incomplete_shorter), x[0] - bar_width/2), incomplete_shorter, color='skyblue', s=30, edgecolors='darkgrey', linewidth=1.5, alpha=0.8)\n",
    "# ax.scatter(np.full(len(incomplete_longer), x[1] - bar_width/2), incomplete_longer, color='skyblue', s=30, edgecolors='darkgrey', linewidth=1.5, alpha=0.8)\n",
    "\n",
    "# # Scatter individual data points for updated with dark grey circles\n",
    "# ax.scatter(np.full(len(updated_shorter), x[0] + bar_width/2), updated_shorter, color='purple', s=30, edgecolors='darkgrey', linewidth=1.5, alpha=0.8)\n",
    "# ax.scatter(np.full(len(updated_longer), x[1] + bar_width/2), updated_longer, color='purple', s=30, edgecolors='darkgrey', linewidth=1.5, alpha=0.8)\n",
    "\n",
    "jitter_amount=0.00\n",
    "ax.scatter(x[0] - bar_width/2 + np.random.uniform(-jitter_amount, jitter_amount, len(incomplete_shorter)), \n",
    "           incomplete_shorter, color='skyblue', s=30, edgecolors='darkgrey', linewidth=1.5, alpha=0.8)\n",
    "\n",
    "ax.scatter(x[1] - bar_width/2 + np.random.uniform(-jitter_amount, jitter_amount, len(incomplete_longer)), \n",
    "           incomplete_longer, color='skyblue', s=30, edgecolors='darkgrey', linewidth=1.5, alpha=0.8)\n",
    "\n",
    "# Scatter individual data points for updated with jitter and dark grey circles\n",
    "ax.scatter(x[0] + bar_width/2 + np.random.uniform(-jitter_amount, jitter_amount, len(updated_shorter)), \n",
    "           updated_shorter, color='purple', s=30, edgecolors='darkgrey', linewidth=1.5, alpha=0.8)\n",
    "\n",
    "ax.scatter(x[1] + bar_width/2 + np.random.uniform(-jitter_amount, jitter_amount, len(updated_longer)), \n",
    "           updated_longer, color='purple', s=30, edgecolors='darkgrey', linewidth=1.5, alpha=0.8)\n",
    "\n",
    "\n",
    "\n",
    "# Add labels and title\n",
    "ax.set_xlabel('Error type')\n",
    "ax.set_ylabel('Proportion of errors')\n",
    "ax.set_xticks(x)\n",
    "ax.set_ylim(0, 1.05)\n",
    "ax.set_xticklabels(labels)\n",
    "ax.legend()\n",
    "\n",
    "# Save and show the plot\n",
    "plt.savefig('omission_vs_extension_with_individuals_95CI.png', bbox_inches='tight', dpi=500)\n",
    "plt.show()\n"
   ]
  },
  {
   "cell_type": "code",
   "execution_count": 79,
   "id": "5d660dc3-fb9a-436f-8dae-8ca964b5b932",
   "metadata": {
    "colab": {
     "base_uri": "https://localhost:8080/",
     "height": 316
    },
    "id": "5d660dc3-fb9a-436f-8dae-8ca964b5b932",
    "outputId": "3925f356-06e1-4c2a-d529-e2e77e2577f0"
   },
   "outputs": [
    {
     "data": {
      "image/png": "[encoded data removed]",
      "text/plain": [
       "<Figure size 400x300 with 1 Axes>"
      ]
     },
     "metadata": {},
     "output_type": "display_data"
    }
   ],
   "source": [
    "def compute_length_difference_and_sem(stories):\n",
    "    \"\"\"\n",
    "    Computes the length difference and SEM between input and output for a given list of stories.\n",
    "    \"\"\"\n",
    "    differences = []\n",
    "    for story in stories:\n",
    "        input_length = len(story[0])\n",
    "        output_length = len(story[1])\n",
    "        difference = output_length - input_length\n",
    "        differences.append(difference)\n",
    "    average_difference = sum(differences) / len(differences)\n",
    "    # Calculate SEM\n",
    "    sem = np.std(differences, ddof=1) / np.sqrt(len(differences))\n",
    "    return average_difference, sem\n",
    "\n",
    "combined = {'typical': [], 'atypical_short': [], 'atypical_long': []}\n",
    "for pkl in glob.glob('plots_new/*.pkl'):\n",
    "    with open(pkl, 'rb') as f:\n",
    "        d = pickle.load(f)\n",
    "    combined['typical'].extend(d['typical'])\n",
    "    combined['atypical_long'].extend(d['atypical_long'])\n",
    "    combined['atypical_short'].extend(d['atypical_short'])\n",
    "\n",
    "# Calculate the average length difference and SEM for each category\n",
    "typical_difference, typical_sem = compute_length_difference_and_sem(combined['typical'])\n",
    "atypical_short_difference, atypical_short_sem = compute_length_difference_and_sem(combined['atypical_short'])\n",
    "atypical_long_difference, atypical_long_sem = compute_length_difference_and_sem(combined['atypical_long'])\n",
    "\n",
    "# Plotting the results with error bars\n",
    "categories = ['Incomplete', 'Complete', 'Updated']\n",
    "differences = [atypical_short_difference, typical_difference, atypical_long_difference]\n",
    "sems = [atypical_short_sem, typical_sem, atypical_long_sem]  # SEMs for error bars\n",
    "\n",
    "plt.figure(figsize=(4,3))\n",
    "plt.bar(categories, differences, yerr=sems, capsize=5, alpha=0.5)  # Add error bars with capsize\n",
    "plt.xlabel('Story Category')\n",
    "plt.ylabel('Length Difference')\n",
    "plt.axhline(y=0, color='black')\n",
    "plt.savefig('event_ext.png', dpi=500, bbox_inches='tight')\n",
    "plt.show()\n"
   ]
  },
  {
   "cell_type": "code",
   "execution_count": null,
   "id": "e6dd2a00-c1cd-4c7b-ac81-d4801363ee16",
   "metadata": {},
   "outputs": [],
   "source": []
  }
 ],
 "metadata": {
  "accelerator": "GPU",
  "colab": {
   "gpuType": "A100",
   "provenance": []
  },
  "kernelspec": {
   "display_name": "Python 3 (ipykernel)",
   "language": "python",
   "name": "python3"
  },
  "language_info": {
   "codemirror_mode": {
    "name": "ipython",
    "version": 3
   },
   "file_extension": ".py",
   "mimetype": "text/x-python",
   "name": "python",
   "nbconvert_exporter": "python",
   "pygments_lexer": "ipython3",
   "version": "3.10.9"
  }
 },
 "nbformat": 4,
 "nbformat_minor": 5
}
