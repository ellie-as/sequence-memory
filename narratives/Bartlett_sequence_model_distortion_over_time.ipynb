{
  "cells": [
    {
      "cell_type": "markdown",
      "id": "cbb8ddc3",
      "metadata": {
        "id": "cbb8ddc3"
      },
      "source": [
        "### Bartlett experiment with GPT-2\n",
        "\n",
        "* This notebook fine-tunes GPT-2 on the story from the Bartlett experiment (1932) plus contextual data, in order to explore how generative models produce distortions\n",
        "* This context is taken from one of three background datasets\n",
        "* We then explore recall of Bartlett story - can substitutions and confabulations be observed in generative recall?\n",
        "* How does temperature parameter for sampling explore level of distortion?"
      ]
    },
    {
      "cell_type": "markdown",
      "id": "6350cae9",
      "metadata": {
        "id": "6350cae9"
      },
      "source": [
        "#### Installation:"
      ]
    },
    {
      "cell_type": "code",
      "source": [
        "from google.colab import drive\n",
        "drive.mount('/content/drive')"
      ],
      "metadata": {
        "id": "25HoKEIa0XEJ",
        "colab": {
          "base_uri": "https://localhost:8080/"
        },
        "outputId": "d710eebf-779f-4107-aa77-7273d0404664"
      },
      "id": "25HoKEIa0XEJ",
      "execution_count": 1,
      "outputs": [
        {
          "output_type": "stream",
          "name": "stdout",
          "text": [
            "Mounted at /content/drive\n"
          ]
        }
      ]
    },
    {
      "cell_type": "code",
      "execution_count": 2,
      "id": "61bcda51",
      "metadata": {
        "colab": {
          "base_uri": "https://localhost:8080/"
        },
        "id": "61bcda51",
        "outputId": "6b9ed565-884e-4468-8afd-49e7faf62352",
        "scrolled": true
      },
      "outputs": [
        {
          "output_type": "stream",
          "name": "stdout",
          "text": [
            "Requirement already satisfied: wordcloud in /usr/local/lib/python3.10/dist-packages (1.9.3)\n",
            "Collecting datasets\n",
            "  Downloading datasets-3.0.2-py3-none-any.whl.metadata (20 kB)\n",
            "Collecting evaluate\n",
            "  Downloading evaluate-0.4.3-py3-none-any.whl.metadata (9.2 kB)\n",
            "Requirement already satisfied: accelerate in /usr/local/lib/python3.10/dist-packages (0.34.2)\n",
            "Collecting simpletransformers\n",
            "  Downloading simpletransformers-0.70.1-py3-none-any.whl.metadata (42 kB)\n",
            "\u001b[2K     \u001b[90m━━━━━━━━━━━━━━━━━━━━━━━━━━━━━━━━━━━━━━━━\u001b[0m \u001b[32m42.4/42.4 kB\u001b[0m \u001b[31m2.1 MB/s\u001b[0m eta \u001b[36m0:00:00\u001b[0m\n",
            "\u001b[?25hRequirement already satisfied: numpy>=1.6.1 in /usr/local/lib/python3.10/dist-packages (from wordcloud) (1.26.4)\n",
            "Requirement already satisfied: pillow in /usr/local/lib/python3.10/dist-packages (from wordcloud) (10.4.0)\n",
            "Requirement already satisfied: matplotlib in /usr/local/lib/python3.10/dist-packages (from wordcloud) (3.7.1)\n",
            "Requirement already satisfied: filelock in /usr/local/lib/python3.10/dist-packages (from datasets) (3.16.1)\n",
            "Requirement already satisfied: pyarrow>=15.0.0 in /usr/local/lib/python3.10/dist-packages (from datasets) (16.1.0)\n",
            "Collecting dill<0.3.9,>=0.3.0 (from datasets)\n",
            "  Downloading dill-0.3.8-py3-none-any.whl.metadata (10 kB)\n",
            "Requirement already satisfied: pandas in /usr/local/lib/python3.10/dist-packages (from datasets) (2.2.2)\n",
            "Requirement already satisfied: requests>=2.32.2 in /usr/local/lib/python3.10/dist-packages (from datasets) (2.32.3)\n",
            "Requirement already satisfied: tqdm>=4.66.3 in /usr/local/lib/python3.10/dist-packages (from datasets) (4.66.5)\n",
            "Collecting xxhash (from datasets)\n",
            "  Downloading xxhash-3.5.0-cp310-cp310-manylinux_2_17_x86_64.manylinux2014_x86_64.whl.metadata (12 kB)\n",
            "Collecting multiprocess<0.70.17 (from datasets)\n",
            "  Downloading multiprocess-0.70.16-py310-none-any.whl.metadata (7.2 kB)\n",
            "Requirement already satisfied: fsspec<=2024.9.0,>=2023.1.0 in /usr/local/lib/python3.10/dist-packages (from fsspec[http]<=2024.9.0,>=2023.1.0->datasets) (2024.6.1)\n",
            "Requirement already satisfied: aiohttp in /usr/local/lib/python3.10/dist-packages (from datasets) (3.10.10)\n",
            "Requirement already satisfied: huggingface-hub>=0.23.0 in /usr/local/lib/python3.10/dist-packages (from datasets) (0.24.7)\n",
            "Requirement already satisfied: packaging in /usr/local/lib/python3.10/dist-packages (from datasets) (24.1)\n",
            "Requirement already satisfied: pyyaml>=5.1 in /usr/local/lib/python3.10/dist-packages (from datasets) (6.0.2)\n",
            "Requirement already satisfied: psutil in /usr/local/lib/python3.10/dist-packages (from accelerate) (5.9.5)\n",
            "Requirement already satisfied: torch>=1.10.0 in /usr/local/lib/python3.10/dist-packages (from accelerate) (2.5.0+cu121)\n",
            "Requirement already satisfied: safetensors>=0.4.3 in /usr/local/lib/python3.10/dist-packages (from accelerate) (0.4.5)\n",
            "Requirement already satisfied: regex in /usr/local/lib/python3.10/dist-packages (from simpletransformers) (2024.9.11)\n",
            "Requirement already satisfied: transformers>=4.31.0 in /usr/local/lib/python3.10/dist-packages (from simpletransformers) (4.44.2)\n",
            "Requirement already satisfied: scipy in /usr/local/lib/python3.10/dist-packages (from simpletransformers) (1.13.1)\n",
            "Requirement already satisfied: scikit-learn in /usr/local/lib/python3.10/dist-packages (from simpletransformers) (1.5.2)\n",
            "Collecting seqeval (from simpletransformers)\n",
            "  Downloading seqeval-1.2.2.tar.gz (43 kB)\n",
            "\u001b[2K     \u001b[90m━━━━━━━━━━━━━━━━━━━━━━━━━━━━━━━━━━━━━━━━\u001b[0m \u001b[32m43.6/43.6 kB\u001b[0m \u001b[31m4.0 MB/s\u001b[0m eta \u001b[36m0:00:00\u001b[0m\n",
            "\u001b[?25h  Preparing metadata (setup.py) ... \u001b[?25l\u001b[?25hdone\n",
            "Requirement already satisfied: tensorboard in /usr/local/lib/python3.10/dist-packages (from simpletransformers) (2.17.0)\n",
            "Collecting tensorboardx (from simpletransformers)\n",
            "  Downloading tensorboardX-2.6.2.2-py2.py3-none-any.whl.metadata (5.8 kB)\n",
            "Requirement already satisfied: tokenizers in /usr/local/lib/python3.10/dist-packages (from simpletransformers) (0.19.1)\n",
            "Requirement already satisfied: wandb>=0.10.32 in /usr/local/lib/python3.10/dist-packages (from simpletransformers) (0.18.5)\n",
            "Collecting streamlit (from simpletransformers)\n",
            "  Downloading streamlit-1.39.0-py2.py3-none-any.whl.metadata (8.5 kB)\n",
            "Requirement already satisfied: sentencepiece in /usr/local/lib/python3.10/dist-packages (from simpletransformers) (0.2.0)\n",
            "Requirement already satisfied: aiohappyeyeballs>=2.3.0 in /usr/local/lib/python3.10/dist-packages (from aiohttp->datasets) (2.4.3)\n",
            "Requirement already satisfied: aiosignal>=1.1.2 in /usr/local/lib/python3.10/dist-packages (from aiohttp->datasets) (1.3.1)\n",
            "Requirement already satisfied: attrs>=17.3.0 in /usr/local/lib/python3.10/dist-packages (from aiohttp->datasets) (24.2.0)\n",
            "Requirement already satisfied: frozenlist>=1.1.1 in /usr/local/lib/python3.10/dist-packages (from aiohttp->datasets) (1.4.1)\n",
            "Requirement already satisfied: multidict<7.0,>=4.5 in /usr/local/lib/python3.10/dist-packages (from aiohttp->datasets) (6.1.0)\n",
            "Requirement already satisfied: yarl<2.0,>=1.12.0 in /usr/local/lib/python3.10/dist-packages (from aiohttp->datasets) (1.16.0)\n",
            "Requirement already satisfied: async-timeout<5.0,>=4.0 in /usr/local/lib/python3.10/dist-packages (from aiohttp->datasets) (4.0.3)\n",
            "Requirement already satisfied: typing-extensions>=3.7.4.3 in /usr/local/lib/python3.10/dist-packages (from huggingface-hub>=0.23.0->datasets) (4.12.2)\n",
            "Requirement already satisfied: charset-normalizer<4,>=2 in /usr/local/lib/python3.10/dist-packages (from requests>=2.32.2->datasets) (3.4.0)\n",
            "Requirement already satisfied: idna<4,>=2.5 in /usr/local/lib/python3.10/dist-packages (from requests>=2.32.2->datasets) (3.10)\n",
            "Requirement already satisfied: urllib3<3,>=1.21.1 in /usr/local/lib/python3.10/dist-packages (from requests>=2.32.2->datasets) (2.2.3)\n",
            "Requirement already satisfied: certifi>=2017.4.17 in /usr/local/lib/python3.10/dist-packages (from requests>=2.32.2->datasets) (2024.8.30)\n",
            "Requirement already satisfied: networkx in /usr/local/lib/python3.10/dist-packages (from torch>=1.10.0->accelerate) (3.4.2)\n",
            "Requirement already satisfied: jinja2 in /usr/local/lib/python3.10/dist-packages (from torch>=1.10.0->accelerate) (3.1.4)\n",
            "Requirement already satisfied: sympy==1.13.1 in /usr/local/lib/python3.10/dist-packages (from torch>=1.10.0->accelerate) (1.13.1)\n",
            "Requirement already satisfied: mpmath<1.4,>=1.1.0 in /usr/local/lib/python3.10/dist-packages (from sympy==1.13.1->torch>=1.10.0->accelerate) (1.3.0)\n",
            "Requirement already satisfied: click!=8.0.0,>=7.1 in /usr/local/lib/python3.10/dist-packages (from wandb>=0.10.32->simpletransformers) (8.1.7)\n",
            "Requirement already satisfied: docker-pycreds>=0.4.0 in /usr/local/lib/python3.10/dist-packages (from wandb>=0.10.32->simpletransformers) (0.4.0)\n",
            "Requirement already satisfied: gitpython!=3.1.29,>=1.0.0 in /usr/local/lib/python3.10/dist-packages (from wandb>=0.10.32->simpletransformers) (3.1.43)\n",
            "Requirement already satisfied: platformdirs in /usr/local/lib/python3.10/dist-packages (from wandb>=0.10.32->simpletransformers) (4.3.6)\n",
            "Requirement already satisfied: protobuf!=4.21.0,!=5.28.0,<6,>=3.19.0 in /usr/local/lib/python3.10/dist-packages (from wandb>=0.10.32->simpletransformers) (3.20.3)\n",
            "Requirement already satisfied: sentry-sdk>=2.0.0 in /usr/local/lib/python3.10/dist-packages (from wandb>=0.10.32->simpletransformers) (2.17.0)\n",
            "Requirement already satisfied: setproctitle in /usr/local/lib/python3.10/dist-packages (from wandb>=0.10.32->simpletransformers) (1.3.3)\n",
            "Requirement already satisfied: setuptools in /usr/local/lib/python3.10/dist-packages (from wandb>=0.10.32->simpletransformers) (75.1.0)\n",
            "Requirement already satisfied: contourpy>=1.0.1 in /usr/local/lib/python3.10/dist-packages (from matplotlib->wordcloud) (1.3.0)\n",
            "Requirement already satisfied: cycler>=0.10 in /usr/local/lib/python3.10/dist-packages (from matplotlib->wordcloud) (0.12.1)\n",
            "Requirement already satisfied: fonttools>=4.22.0 in /usr/local/lib/python3.10/dist-packages (from matplotlib->wordcloud) (4.54.1)\n",
            "Requirement already satisfied: kiwisolver>=1.0.1 in /usr/local/lib/python3.10/dist-packages (from matplotlib->wordcloud) (1.4.7)\n",
            "Requirement already satisfied: pyparsing>=2.3.1 in /usr/local/lib/python3.10/dist-packages (from matplotlib->wordcloud) (3.2.0)\n",
            "Requirement already satisfied: python-dateutil>=2.7 in /usr/local/lib/python3.10/dist-packages (from matplotlib->wordcloud) (2.8.2)\n",
            "Requirement already satisfied: pytz>=2020.1 in /usr/local/lib/python3.10/dist-packages (from pandas->datasets) (2024.2)\n",
            "Requirement already satisfied: tzdata>=2022.7 in /usr/local/lib/python3.10/dist-packages (from pandas->datasets) (2024.2)\n",
            "Requirement already satisfied: joblib>=1.2.0 in /usr/local/lib/python3.10/dist-packages (from scikit-learn->simpletransformers) (1.4.2)\n",
            "Requirement already satisfied: threadpoolctl>=3.1.0 in /usr/local/lib/python3.10/dist-packages (from scikit-learn->simpletransformers) (3.5.0)\n",
            "Requirement already satisfied: altair<6,>=4.0 in /usr/local/lib/python3.10/dist-packages (from streamlit->simpletransformers) (4.2.2)\n",
            "Requirement already satisfied: blinker<2,>=1.0.0 in /usr/lib/python3/dist-packages (from streamlit->simpletransformers) (1.4)\n",
            "Requirement already satisfied: cachetools<6,>=4.0 in /usr/local/lib/python3.10/dist-packages (from streamlit->simpletransformers) (5.5.0)\n",
            "Requirement already satisfied: rich<14,>=10.14.0 in /usr/local/lib/python3.10/dist-packages (from streamlit->simpletransformers) (13.9.3)\n",
            "Requirement already satisfied: tenacity<10,>=8.1.0 in /usr/local/lib/python3.10/dist-packages (from streamlit->simpletransformers) (9.0.0)\n",
            "Requirement already satisfied: toml<2,>=0.10.1 in /usr/local/lib/python3.10/dist-packages (from streamlit->simpletransformers) (0.10.2)\n",
            "Collecting pydeck<1,>=0.8.0b4 (from streamlit->simpletransformers)\n",
            "  Downloading pydeck-0.9.1-py2.py3-none-any.whl.metadata (4.1 kB)\n",
            "Requirement already satisfied: tornado<7,>=6.0.3 in /usr/local/lib/python3.10/dist-packages (from streamlit->simpletransformers) (6.3.3)\n",
            "Collecting watchdog<6,>=2.1.5 (from streamlit->simpletransformers)\n",
            "  Downloading watchdog-5.0.3-py3-none-manylinux2014_x86_64.whl.metadata (41 kB)\n",
            "\u001b[2K     \u001b[90m━━━━━━━━━━━━━━━━━━━━━━━━━━━━━━━━━━━━━━━━\u001b[0m \u001b[32m41.9/41.9 kB\u001b[0m \u001b[31m3.1 MB/s\u001b[0m eta \u001b[36m0:00:00\u001b[0m\n",
            "\u001b[?25hRequirement already satisfied: absl-py>=0.4 in /usr/local/lib/python3.10/dist-packages (from tensorboard->simpletransformers) (1.4.0)\n",
            "Requirement already satisfied: grpcio>=1.48.2 in /usr/local/lib/python3.10/dist-packages (from tensorboard->simpletransformers) (1.64.1)\n",
            "Requirement already satisfied: markdown>=2.6.8 in /usr/local/lib/python3.10/dist-packages (from tensorboard->simpletransformers) (3.7)\n",
            "Requirement already satisfied: six>1.9 in /usr/local/lib/python3.10/dist-packages (from tensorboard->simpletransformers) (1.16.0)\n",
            "Requirement already satisfied: tensorboard-data-server<0.8.0,>=0.7.0 in /usr/local/lib/python3.10/dist-packages (from tensorboard->simpletransformers) (0.7.2)\n",
            "Requirement already satisfied: werkzeug>=1.0.1 in /usr/local/lib/python3.10/dist-packages (from tensorboard->simpletransformers) (3.0.4)\n",
            "Requirement already satisfied: entrypoints in /usr/local/lib/python3.10/dist-packages (from altair<6,>=4.0->streamlit->simpletransformers) (0.4)\n",
            "Requirement already satisfied: jsonschema>=3.0 in /usr/local/lib/python3.10/dist-packages (from altair<6,>=4.0->streamlit->simpletransformers) (4.23.0)\n",
            "Requirement already satisfied: toolz in /usr/local/lib/python3.10/dist-packages (from altair<6,>=4.0->streamlit->simpletransformers) (0.12.1)\n",
            "Requirement already satisfied: gitdb<5,>=4.0.1 in /usr/local/lib/python3.10/dist-packages (from gitpython!=3.1.29,>=1.0.0->wandb>=0.10.32->simpletransformers) (4.0.11)\n",
            "Requirement already satisfied: MarkupSafe>=2.0 in /usr/local/lib/python3.10/dist-packages (from jinja2->torch>=1.10.0->accelerate) (3.0.2)\n",
            "Requirement already satisfied: markdown-it-py>=2.2.0 in /usr/local/lib/python3.10/dist-packages (from rich<14,>=10.14.0->streamlit->simpletransformers) (3.0.0)\n",
            "Requirement already satisfied: pygments<3.0.0,>=2.13.0 in /usr/local/lib/python3.10/dist-packages (from rich<14,>=10.14.0->streamlit->simpletransformers) (2.18.0)\n",
            "Requirement already satisfied: propcache>=0.2.0 in /usr/local/lib/python3.10/dist-packages (from yarl<2.0,>=1.12.0->aiohttp->datasets) (0.2.0)\n",
            "Requirement already satisfied: smmap<6,>=3.0.1 in /usr/local/lib/python3.10/dist-packages (from gitdb<5,>=4.0.1->gitpython!=3.1.29,>=1.0.0->wandb>=0.10.32->simpletransformers) (5.0.1)\n",
            "Requirement already satisfied: jsonschema-specifications>=2023.03.6 in /usr/local/lib/python3.10/dist-packages (from jsonschema>=3.0->altair<6,>=4.0->streamlit->simpletransformers) (2024.10.1)\n",
            "Requirement already satisfied: referencing>=0.28.4 in /usr/local/lib/python3.10/dist-packages (from jsonschema>=3.0->altair<6,>=4.0->streamlit->simpletransformers) (0.35.1)\n",
            "Requirement already satisfied: rpds-py>=0.7.1 in /usr/local/lib/python3.10/dist-packages (from jsonschema>=3.0->altair<6,>=4.0->streamlit->simpletransformers) (0.20.0)\n",
            "Requirement already satisfied: mdurl~=0.1 in /usr/local/lib/python3.10/dist-packages (from markdown-it-py>=2.2.0->rich<14,>=10.14.0->streamlit->simpletransformers) (0.1.2)\n",
            "Downloading datasets-3.0.2-py3-none-any.whl (472 kB)\n",
            "\u001b[2K   \u001b[90m━━━━━━━━━━━━━━━━━━━━━━━━━━━━━━━━━━━━━━━━\u001b[0m \u001b[32m472.7/472.7 kB\u001b[0m \u001b[31m14.1 MB/s\u001b[0m eta \u001b[36m0:00:00\u001b[0m\n",
            "\u001b[?25hDownloading evaluate-0.4.3-py3-none-any.whl (84 kB)\n",
            "\u001b[2K   \u001b[90m━━━━━━━━━━━━━━━━━━━━━━━━━━━━━━━━━━━━━━━━\u001b[0m \u001b[32m84.0/84.0 kB\u001b[0m \u001b[31m8.6 MB/s\u001b[0m eta \u001b[36m0:00:00\u001b[0m\n",
            "\u001b[?25hDownloading simpletransformers-0.70.1-py3-none-any.whl (316 kB)\n",
            "\u001b[2K   \u001b[90m━━━━━━━━━━━━━━━━━━━━━━━━━━━━━━━━━━━━━━━━\u001b[0m \u001b[32m316.3/316.3 kB\u001b[0m \u001b[31m26.9 MB/s\u001b[0m eta \u001b[36m0:00:00\u001b[0m\n",
            "\u001b[?25hDownloading dill-0.3.8-py3-none-any.whl (116 kB)\n",
            "\u001b[2K   \u001b[90m━━━━━━━━━━━━━━━━━━━━━━━━━━━━━━━━━━━━━━━━\u001b[0m \u001b[32m116.3/116.3 kB\u001b[0m \u001b[31m12.2 MB/s\u001b[0m eta \u001b[36m0:00:00\u001b[0m\n",
            "\u001b[?25hDownloading multiprocess-0.70.16-py310-none-any.whl (134 kB)\n",
            "\u001b[2K   \u001b[90m━━━━━━━━━━━━━━━━━━━━━━━━━━━━━━━━━━━━━━━━\u001b[0m \u001b[32m134.8/134.8 kB\u001b[0m \u001b[31m13.5 MB/s\u001b[0m eta \u001b[36m0:00:00\u001b[0m\n",
            "\u001b[?25hDownloading streamlit-1.39.0-py2.py3-none-any.whl (8.7 MB)\n",
            "\u001b[2K   \u001b[90m━━━━━━━━━━━━━━━━━━━━━━━━━━━━━━━━━━━━━━━━\u001b[0m \u001b[32m8.7/8.7 MB\u001b[0m \u001b[31m103.4 MB/s\u001b[0m eta \u001b[36m0:00:00\u001b[0m\n",
            "\u001b[?25hDownloading tensorboardX-2.6.2.2-py2.py3-none-any.whl (101 kB)\n",
            "\u001b[2K   \u001b[90m━━━━━━━━━━━━━━━━━━━━━━━━━━━━━━━━━━━━━━━━\u001b[0m \u001b[32m101.7/101.7 kB\u001b[0m \u001b[31m11.1 MB/s\u001b[0m eta \u001b[36m0:00:00\u001b[0m\n",
            "\u001b[?25hDownloading xxhash-3.5.0-cp310-cp310-manylinux_2_17_x86_64.manylinux2014_x86_64.whl (194 kB)\n",
            "\u001b[2K   \u001b[90m━━━━━━━━━━━━━━━━━━━━━━━━━━━━━━━━━━━━━━━━\u001b[0m \u001b[32m194.1/194.1 kB\u001b[0m \u001b[31m18.3 MB/s\u001b[0m eta \u001b[36m0:00:00\u001b[0m\n",
            "\u001b[?25hDownloading pydeck-0.9.1-py2.py3-none-any.whl (6.9 MB)\n",
            "\u001b[2K   \u001b[90m━━━━━━━━━━━━━━━━━━━━━━━━━━━━━━━━━━━━━━━━\u001b[0m \u001b[32m6.9/6.9 MB\u001b[0m \u001b[31m124.9 MB/s\u001b[0m eta \u001b[36m0:00:00\u001b[0m\n",
            "\u001b[?25hDownloading watchdog-5.0.3-py3-none-manylinux2014_x86_64.whl (79 kB)\n",
            "\u001b[2K   \u001b[90m━━━━━━━━━━━━━━━━━━━━━━━━━━━━━━━━━━━━━━━━\u001b[0m \u001b[32m79.3/79.3 kB\u001b[0m \u001b[31m9.0 MB/s\u001b[0m eta \u001b[36m0:00:00\u001b[0m\n",
            "\u001b[?25hBuilding wheels for collected packages: seqeval\n",
            "  Building wheel for seqeval (setup.py) ... \u001b[?25l\u001b[?25hdone\n",
            "  Created wheel for seqeval: filename=seqeval-1.2.2-py3-none-any.whl size=16161 sha256=df5491b2148064adc31363e303a2eecae573cf9d7951585e23bf4b7fa5bcc6e0\n",
            "  Stored in directory: /root/.cache/pip/wheels/1a/67/4a/ad4082dd7dfc30f2abfe4d80a2ed5926a506eb8a972b4767fa\n",
            "Successfully built seqeval\n",
            "Installing collected packages: xxhash, watchdog, tensorboardx, dill, pydeck, multiprocess, seqeval, streamlit, datasets, simpletransformers, evaluate\n",
            "Successfully installed datasets-3.0.2 dill-0.3.8 evaluate-0.4.3 multiprocess-0.70.16 pydeck-0.9.1 seqeval-1.2.2 simpletransformers-0.70.1 streamlit-1.39.0 tensorboardx-2.6.2.2 watchdog-5.0.3 xxhash-3.5.0\n"
          ]
        }
      ],
      "source": [
        "!pip install wordcloud datasets evaluate accelerate simpletransformers"
      ]
    },
    {
      "cell_type": "code",
      "execution_count": 1,
      "id": "VImSeIqF9SWQ",
      "metadata": {
        "colab": {
          "base_uri": "https://localhost:8080/"
        },
        "id": "VImSeIqF9SWQ",
        "outputId": "349d7e4c-97c7-4c11-b516-a892da1d8992"
      },
      "outputs": [
        {
          "output_type": "stream",
          "name": "stdout",
          "text": [
            "W&B disabled.\n"
          ]
        }
      ],
      "source": [
        "!wandb disabled\n",
        "import os\n",
        "os.environ['WANDB_MODE'] = 'disabled'"
      ]
    },
    {
      "cell_type": "markdown",
      "id": "b7822371",
      "metadata": {
        "id": "b7822371"
      },
      "source": [
        "#### Imports:"
      ]
    },
    {
      "cell_type": "code",
      "execution_count": 2,
      "id": "7eb64462",
      "metadata": {
        "id": "7eb64462"
      },
      "outputs": [],
      "source": [
        "import logging\n",
        "from wordcloud import WordCloud\n",
        "import matplotlib.pyplot as plt\n",
        "import gc\n",
        "from random import shuffle\n",
        "from datasets import load_dataset"
      ]
    },
    {
      "cell_type": "code",
      "source": [
        "import torch\n",
        "from transformers import GPT2LMHeadModel, GPT2Tokenizer\n",
        "\n",
        "class GPT:\n",
        "\n",
        "    def __init__(self, base_model):\n",
        "        self.tokenizer = GPT2Tokenizer.from_pretrained(base_model)\n",
        "        self.model = GPT2LMHeadModel.from_pretrained(base_model)\n",
        "\n",
        "        # Move model to GPU if available\n",
        "        self.device = torch.device(\"cuda\" if torch.cuda.is_available() else \"cpu\")\n",
        "        self.model.to(self.device)\n",
        "\n",
        "    def continue_input(self, input_sequence, max_length=200, num_return_sequences=1, no_repeat_ngram_size=10,\n",
        "                       do_sample=False, temperature=0, num_beams=1):\n",
        "\n",
        "        # Tokenize and move input to GPU if available\n",
        "        input_ids = self.tokenizer.encode(input_sequence, return_tensors='pt').to(self.device)\n",
        "\n",
        "        # Generate text\n",
        "        output = self.model.generate(\n",
        "            input_ids,\n",
        "            max_length=max_length,\n",
        "            num_return_sequences=num_return_sequences,\n",
        "            num_beams=num_beams,\n",
        "            no_repeat_ngram_size=no_repeat_ngram_size,\n",
        "            do_sample=do_sample,\n",
        "            temperature=temperature,\n",
        "        )\n",
        "\n",
        "        # Decode the output\n",
        "        sequence = output[0].tolist()\n",
        "        text = self.tokenizer.decode(sequence)\n",
        "        return text\n"
      ],
      "metadata": {
        "id": "6tTId8Ydir_Y"
      },
      "id": "6tTId8Ydir_Y",
      "execution_count": 8,
      "outputs": []
    },
    {
      "cell_type": "code",
      "execution_count": 5,
      "id": "295764ce",
      "metadata": {
        "id": "295764ce"
      },
      "outputs": [],
      "source": [
        "bartlett = \"\"\"One night two young men from Egulac went down to the river to hunt seals and while they were there it became foggy and calm. Then they heard war-cries, and they thought: \"Maybe this is a war-party\". They escaped to the shore, and hid behind a log. Now canoes came up, and they heard the noise of paddles, and saw one canoe coming up to them. There were five men in the canoe, and they said:\n",
        "\"What do you think? We wish to take you along. We are going up the river to make war on the people.\"\n",
        "One of the young men said,\"I have no arrows.\"\n",
        "\"Arrows are in the canoe,\" they said.\n",
        "\"I will not go along. I might be killed. My relatives do not know where I have gone. But you,\" he said, turning to the other, \"may go with them.\"\n",
        "So one of the young men went, but the other returned home.\n",
        "And the warriors went on up the river to a town on the other side of Kalama. The people came down to the water and they began to fight, and many were killed. But presently the young man heard one of the warriors say, \"Quick, let us go home: that man has been hit.\" Now he thought: \"Oh, they are ghosts.\" He did not feel sick, but they said he had been shot.\n",
        "So the canoes went back to Egulac and the young man went ashore to his house and made a fire. And he told everybody and said: \"Behold I accompanied the ghosts, and we went to fight. Many of our fellows were killed, and many of those who attacked us were killed. They said I was hit, and I did not feel sick.\"\n",
        "He told it all, and then he became quiet. When the sun rose he fell down. Something black came out of his mouth. His face became contorted. The people jumped up and cried.\n",
        "He was dead.\"\"\""
      ]
    },
    {
      "cell_type": "code",
      "execution_count": 87,
      "id": "038e7bf5-6b72-45dd-b037-f81744c7330a",
      "metadata": {
        "id": "038e7bf5-6b72-45dd-b037-f81744c7330a",
        "scrolled": true
      },
      "outputs": [],
      "source": [
        "def train_model_script(name_or_path='openai-community/gpt2-medium',\n",
        "                       num_epochs=50,\n",
        "                       output_dir='bartlett',\n",
        "                       save_steps=200,\n",
        "                       lr=5e-04):\n",
        "    gc.collect()\n",
        "    train_path = f'{output_dir}/train.txt'\n",
        "    ! python run_clm.py \\\n",
        "        --model_name_or_path {name_or_path} \\\n",
        "        --train_file {train_path} \\\n",
        "        --validation_file {train_path} \\\n",
        "        --per_device_train_batch_size 1 \\\n",
        "        --per_device_eval_batch_size 1 \\\n",
        "        --do_train \\\n",
        "        --do_eval \\\n",
        "        --output_dir {output_dir} \\\n",
        "        --overwrite_output_dir \\\n",
        "        --num_train_epochs {num_epochs} \\\n",
        "        --save_strategy 'steps' \\\n",
        "        --save_steps {save_steps} \\\n",
        "        --learning_rate {lr}"
      ]
    },
    {
      "cell_type": "code",
      "source": [
        "dataset = load_dataset('tarekziade/wikipedia-topics')"
      ],
      "metadata": {
        "id": "WkYp9judxsBB"
      },
      "id": "WkYp9judxsBB",
      "execution_count": 31,
      "outputs": []
    },
    {
      "cell_type": "code",
      "source": [
        "df = dataset['train'].to_pandas()"
      ],
      "metadata": {
        "id": "nuvDJNyPyE1x"
      },
      "id": "nuvDJNyPyE1x",
      "execution_count": 88,
      "outputs": []
    },
    {
      "cell_type": "code",
      "source": [
        "import pandas as pd\n",
        "\n",
        "\n",
        "def get_texts_by_category(category, dataframe):\n",
        "    # Filter the DataFrame for rows where the category list contains the specified category\n",
        "    filtered_df = dataframe[~dataframe['categories'].apply(lambda x: 'People' in x)]\n",
        "    filtered_df = dataframe[dataframe['categories'].apply(lambda x: category in x)]\n",
        "    return filtered_df['text'].sample(frac=1).tolist()\n",
        "\n",
        "# Example usage\n",
        "# ['Science', 'Politics', 'Health', 'Sports', 'Universe']\n",
        "# texts = get_texts_by_category('Universe', df)\n",
        "# texts = [t[0:500] for t in texts]\n",
        "# print('\\n\\n\\n'.join(texts[0:5]))"
      ],
      "metadata": {
        "id": "MfqZCVeoylaN"
      },
      "id": "MfqZCVeoylaN",
      "execution_count": 89,
      "outputs": []
    },
    {
      "cell_type": "code",
      "source": [
        "!rm -rf bartlett_*"
      ],
      "metadata": {
        "id": "OI-zi_PM8mXE"
      },
      "id": "OI-zi_PM8mXE",
      "execution_count": 26,
      "outputs": []
    },
    {
      "cell_type": "code",
      "execution_count": 122,
      "id": "4dc574bf-1729-40d6-acaf-b6a5bec4066f",
      "metadata": {
        "id": "4dc574bf-1729-40d6-acaf-b6a5bec4066f"
      },
      "outputs": [],
      "source": [
        "#from gpt import GPT\n",
        "import pickle\n",
        "\n",
        "topics = ['Nature'] #['Universe', 'Politics', 'Health', 'Sport', 'Technology', 'Nature']\n",
        "\n",
        "def train_models(bartlett_count):\n",
        "    results_dict = {}\n",
        "\n",
        "    for topic in topics:\n",
        "        txts_subset = txts_for_topics[topic][:]\n",
        "        print(len(txts_subset))\n",
        "        txts_subset += [bartlett]*bartlett_count\n",
        "        shuffle(txts_subset)\n",
        "\n",
        "        !rm -rf '/content/drive/MyDrive/colab_code/outputs2510/bartlett_{topic}'\n",
        "        !mkdir '/content/drive/MyDrive/colab_code/outputs2510/bartlett_{topic}'\n",
        "\n",
        "        with open(f'/content/drive/MyDrive/colab_code/outputs2510/bartlett_{topic}/train.txt', 'w') as fh:\n",
        "            fh.write('\\n'.join(txts_subset))\n",
        "\n",
        "        train_model_script(num_epochs=100,\n",
        "                          output_dir=f'/content/drive/MyDrive/colab_code/outputs2510/bartlett_{topic}')\n"
      ]
    },
    {
      "cell_type": "code",
      "source": [
        "def get_results(topics, prompt=\"One night two young men from Egulac\"):\n",
        "    reference_token_length = GPT2Tokenizer.from_pretrained(\"gpt2\").encode(bartlett, return_tensors='pt').shape[1]\n",
        "    results_dict = {}\n",
        "    temps = [0.1] #, 0.2, 0.3, 0.4, 0.5, 1.0]\n",
        "\n",
        "    for topic in topics:\n",
        "        results_dict[topic] = {}\n",
        "        topic_dir = f'/content/drive/MyDrive/colab_code/outputs2510/bartlett_{topic}'\n",
        "\n",
        "        # List and sort checkpoints by epoch order inside each topic directory\n",
        "        checkpoints = sorted([ckpt for ckpt in os.listdir(topic_dir) if ckpt.startswith('checkpoint')])\n",
        "\n",
        "        for checkpoint in checkpoints:\n",
        "            checkpoint_path = os.path.join(topic_dir, checkpoint)\n",
        "            if checkpoint not in results_dict:\n",
        "                results_dict[topic][checkpoint] = {}\n",
        "\n",
        "            gpt = GPT(base_model=checkpoint_path)\n",
        "\n",
        "            out = gpt.continue_input(prompt,\n",
        "                              max_length=reference_token_length, do_sample=False, no_repeat_ngram_size=10)\n",
        "\n",
        "            print(f\"{topic} {checkpoint} greedy: {out}\")\n",
        "            results_dict[topic][checkpoint][0] = out\n",
        "            # for temp in temps:\n",
        "            #   results_dict[topic][checkpoint][temp] = []\n",
        "            #   for i in range(1):\n",
        "            #     out = gpt.continue_input(prompt, max_length=reference_token_length,\n",
        "            #                             do_sample=True, temperature=temp, no_repeat_ngram_size=10)\n",
        "\n",
        "            #     results_dict[topic][checkpoint][temp].append(out)\n",
        "            #     print(f\"{topic} {checkpoint} {temp}: {out}\")\n",
        "    return results_dict\n",
        "\n",
        "for i in range(1):\n",
        "  universe_txts = [i[:1000] for i in get_texts_by_category('Universe', df)][0:100]\n",
        "  politics_txts = [i[:1000] for i in get_texts_by_category('Politics', df)][0:100]\n",
        "  health_txts = [i[:1000] for i in get_texts_by_category('Health', df)][0:100]\n",
        "  sport_txts = [i[:1000] for i in get_texts_by_category('Sports', df)][0:100]\n",
        "  tech_txts = [i[:1000] for i in get_texts_by_category('Technology', df)][0:100]\n",
        "  nature_txts = [i[:1000] for i in get_texts_by_category('Nature', df)][0:100]\n",
        "\n",
        "  txts_for_topics = {'Universe': universe_txts, 'Politics': politics_txts,\n",
        "                    'Health': health_txts, 'Sport': sport_txts,\n",
        "                    'Technology': tech_txts, 'Nature': nature_txts}\n",
        "\n",
        "  train_models(1)"
      ],
      "metadata": {
        "id": "VfLtzfJ80QBw",
        "collapsed": true
      },
      "id": "VfLtzfJ80QBw",
      "execution_count": 133,
      "outputs": []
    },
    {
      "cell_type": "code",
      "source": [
        "prompt = \"One night two young men from Egulac\"\n",
        "results_dict = get_results(topics)\n",
        "\n",
        "all_results_dicts = {}\n",
        "all_results_dicts[1] = results_dict\n",
        "with open(f'combined_results_dict_{prompt}.pkl', 'wb') as handle:\n",
        "  pickle.dump(all_results_dicts, handle)\n",
        "\n",
        "!cp combined_results_dict* /content/drive/MyDrive/colab_code/outputs2510/"
      ],
      "metadata": {
        "colab": {
          "base_uri": "https://localhost:8080/"
        },
        "collapsed": true,
        "id": "HZ0Am8AVJ_sL",
        "outputId": "bb695b41-df2a-4c54-f3b4-13d537bc3301"
      },
      "id": "HZ0Am8AVJ_sL",
      "execution_count": 147,
      "outputs": [
        {
          "output_type": "stream",
          "name": "stderr",
          "text": [
            "/usr/local/lib/python3.10/dist-packages/transformers/tokenization_utils_base.py:1601: FutureWarning: `clean_up_tokenization_spaces` was not set. It will be set to `True` by default. This behavior will be depracted in transformers v4.45, and will be then set to `False` by default. For more details check this issue: https://github.com/huggingface/transformers/issues/31884\n",
            "  warnings.warn(\n",
            "/usr/local/lib/python3.10/dist-packages/transformers/generation/configuration_utils.py:567: UserWarning: `do_sample` is set to `False`. However, `temperature` is set to `0` -- this flag is only used in sample-based generation modes. You should set `do_sample=True` or unset `temperature`.\n",
            "  warnings.warn(\n",
            "The attention mask and the pad token id were not set. As a consequence, you may observe unexpected behavior. Please pass your input's `attention_mask` to obtain reliable results.\n",
            "Setting `pad_token_id` to `eos_token_id`:50256 for open-end generation.\n"
          ]
        },
        {
          "output_type": "stream",
          "name": "stdout",
          "text": [
            "Nature checkpoint-1000 greedy: One night two young men from Egulac went down to the river to hunt seals and while they were there it became foggy and calm. Then they heard war-cries, and they thought: \"Maybe this is a war-party\". They escaped to the shore, and hid behind a log. Now canoes came up, and they heard the noise of paddles, and saw one canoe coming up to them. There were five men in the canoe, and they said:\n",
            "\"What do you think? We wish to take you along. We are going up the river to make war on the people.\"\n",
            "One of the young men said,\"I have no arrows.\"\n",
            "\"Arrows are in the canoe,\" they said.\n",
            "\"I will not go along. I might be killed. My relatives do not know where I have gone. But you,\" he said, turning to the other, \"may go with them.\"\n",
            "So one of the young men went, but the other returned home.\n",
            "And the warriors went on up the river to a town on the other side of Kalama. The people came down to the water and they began to fight, and many were killed. But presently the young man heard one of the warriors say, \"Quick, let us go home: that man has been hit.\" Now he thought: \"Oh, they are ghosts.\" He did not feel sick, but they said he had been hit, and he did not feel sick.\" He did not feel sick, but they told him he had been hit, and he did not know where he had gone.\n",
            "So one of the warriors went, but the other returned home.\n",
            "The warriors went on up the river to a town named Nant Peris. The people came down to the water and began to fight, and many were killed. but presently the young man heard one of the warriors said, \"Quick, let us go home: we are going up the river to a town on the otherhand side of Kalama. We are going up\n"
          ]
        },
        {
          "output_type": "stream",
          "name": "stderr",
          "text": [
            "The attention mask and the pad token id were not set. As a consequence, you may observe unexpected behavior. Please pass your input's `attention_mask` to obtain reliable results.\n",
            "Setting `pad_token_id` to `eos_token_id`:50256 for open-end generation.\n"
          ]
        },
        {
          "output_type": "stream",
          "name": "stdout",
          "text": [
            "Nature checkpoint-1200 greedy: One night two young men from Egulac went down to the river to hunt seals and while they were there it became foggy and calm. Then they heard war-cries, and they thought: \"Maybe this is a war-party\". They escaped to the shore, and hid behind a log. Now canoes came up, and they heard the noise of paddles, and saw one canoe coming up to them. There were five men in the canoe, and they said:\n",
            "\"What do you think? We wish to take you along. We are going up the river to make war on the people.\"\n",
            "One of the young men said,\"I have no arrows.\"\n",
            "\"Arrows are in the canoe,\" they said.\n",
            "\"I will not go along. I might be killed. My relatives do not know where I have gone. But you,\" he said, turning to the other, \"may go with them.\"\n",
            "So one of the young men went, but the other returned home.\n",
            "And the warriors went on up the river to a town on the other side of Kalama. The people came down to the water and they began to fight, and many were killed. But presently the young man heard one of the warriors say, \"Quick, let us go home: that man has been hit.\" Now he thought: \"Oh, they are ghosts.\" He did not feel sick, and they said he had been hit. But he did not feel sick.\"\n",
            "He did not feel sick, and they said he was dead.\n",
            "So one of the warriors went home, and they began to fight. But presently the young man heard one of those warriors say, \"Quick, let us gohome: that man has been hit.\" Now he did not feel sick, and they said he did not feel sick.\"\n",
            "So one of the warriors went home, but the other returned home.\n",
            "And both were killed.\n",
            "And the warriors went on up the River to a town on the other side of Kalorama, and they began\n"
          ]
        },
        {
          "output_type": "stream",
          "name": "stderr",
          "text": [
            "The attention mask and the pad token id were not set. As a consequence, you may observe unexpected behavior. Please pass your input's `attention_mask` to obtain reliable results.\n",
            "Setting `pad_token_id` to `eos_token_id`:50256 for open-end generation.\n"
          ]
        },
        {
          "output_type": "stream",
          "name": "stdout",
          "text": [
            "Nature checkpoint-1400 greedy: One night two young men from Egulac went down to the river to hunt seals and while they were there it became foggy and calm. Then they heard war-cries, and they thought: \"Maybe this is a war-party\". They escaped to the shore, and hid behind a log. Now canoes came up, and they heard the noise of paddles, and saw one canoe coming up to them. There were five men in the canoe, and they said:\n",
            "\"What do you think? We wish to take you along. We are going up the river to make war on the people.\"\n",
            "One of the young men said,\"I have no arrows.\"\n",
            "\"Arrows are in the canoe,\" they said.\n",
            "\"I will not go along. I might be killed. My relatives do not know where I have gone. But you,\" he said, turning to the other, \"may go with them.\"\n",
            "So one of the young men went, but the other returned home.\n",
            "And the warriors went on up the river to a town on the other side of Kalama. The people came down to the water and they began to fight, and many were killed. But presently the young man heard one of the warriors say, \"Quick, let us go home: that man has been hit.\" Now he thought: \"Oh, they are ghosts.\" He did not feel sick, but they said he had been hit, and he did not feel sick.\"\n",
            "He did not feel sick, but they said he was dead.\n",
            "So one of the warriors went home, and they began to fight. But presently the young man heard one of those warriors say, \"Quick, let us gohome: that man has been hit.\" Now he did not feel sick, and they said he had been hit.\n",
            "And the warriors went on up the River to a town on the other side of Kalam. The people came down to the water and began to fight, and many were killed. but presently the young man heard one of\n"
          ]
        },
        {
          "output_type": "stream",
          "name": "stderr",
          "text": [
            "The attention mask and the pad token id were not set. As a consequence, you may observe unexpected behavior. Please pass your input's `attention_mask` to obtain reliable results.\n",
            "Setting `pad_token_id` to `eos_token_id`:50256 for open-end generation.\n"
          ]
        },
        {
          "output_type": "stream",
          "name": "stdout",
          "text": [
            "Nature checkpoint-1600 greedy: One night two young men from Egulac went down to the river to hunt seals and while they were there it became foggy and calm. Then they heard war-cries, and they thought: \"Maybe this is a war-party\". They escaped to the shore, and hid behind a log. Now canoes came up, and they heard the noise of paddles, and saw one canoe coming up to them. There were five men in the canoe, and they said:\n",
            "\"What do you think? We wish to take you along. We are going up the river to make war on the people.\"\n",
            "One of the young men said,\"I have no arrows.\"\n",
            "\"Arrows are in the canoe,\" they said.\n",
            "\"I will not go along. I might be killed. My relatives do not know where I have gone. But you,\" he said, turning to the other, \"may go with them.\"\n",
            "So one of the young men went, but the other returned home.\n",
            "And the warriors went on up the river to a town on the other side of Kalama. The people came down to the water and they began to fight, and many were killed. But presently the young man heard one of the warriors say, \"Quick, let us go home: that man has been hit.\" Now he thought: \"Oh, they are ghosts.\" He did not feel sick, and they said he had been hit, and he did not feel sick.\"\n",
            "He did not feel sick, and they said he was a hit, and he did not feel sick.\" They said he had been hit, and he did have a fever.  He did not feel sick, and they said it was a result of being hit, and they said he had been hit. But he did have a few minor injuries, and they said he had been hit, in the leg, and his neck was severed killing him instantly. But presently the young man heard one of those who said, \"Quick, let us go home: we are going\n"
          ]
        },
        {
          "output_type": "stream",
          "name": "stderr",
          "text": [
            "The attention mask and the pad token id were not set. As a consequence, you may observe unexpected behavior. Please pass your input's `attention_mask` to obtain reliable results.\n",
            "Setting `pad_token_id` to `eos_token_id`:50256 for open-end generation.\n"
          ]
        },
        {
          "output_type": "stream",
          "name": "stdout",
          "text": [
            "Nature checkpoint-1800 greedy: One night two young men from Egulac went down to the river to hunt seals and while they were there it became foggy and calm. Then they heard war-cries, and they thought: \"Maybe this is a war-party\". They escaped to the shore, and hid behind a log. Now canoes came up, and they heard the noise of paddles, and saw one canoe coming up to them. There were five men in the canoe, and they said:\n",
            "\"What do you think? We wish to take you along. We are going up the river to make war on the people.\"\n",
            "One of the young men said,\"I have no arrows.\"\n",
            "\"Arrows are in the canoe,\" they said.\n",
            "\"I will not go along. I might be killed. My relatives do not know where I have gone. But you,\" he said, turning to the other, \"may go with them.\"\n",
            "So one of the young men went, but the other returned home.\n",
            "And the warriors went on up the river to a town on the other side of Kalama. The people came down to the water and they began to fight, and many were killed. But presently the young man heard one of the warriors say, \"Quick, let us go home: that man has been hit.\" Now he thought: \"Oh, they are ghosts.\" He did not feel sick, but they said he had been hit, and he did not feel sick.\"\n",
            "He did not feel sick, but they said he was dead.\n",
            "So one of the warriors went, but the other returned home.\n",
            "The Llanberis Pass (Welsh: Bwlch Llanberis; alternative English name, Pass of Llanberis) in Snowdonia carries the main road (A4086) from the south-east to Llanberis, over Pen-y-Pass, between the mountain ranges of the Glyderau and the Snowdon massif. At the bottom of the pass is the small village\n"
          ]
        },
        {
          "output_type": "stream",
          "name": "stderr",
          "text": [
            "The attention mask and the pad token id were not set. As a consequence, you may observe unexpected behavior. Please pass your input's `attention_mask` to obtain reliable results.\n",
            "Setting `pad_token_id` to `eos_token_id`:50256 for open-end generation.\n"
          ]
        },
        {
          "output_type": "stream",
          "name": "stdout",
          "text": [
            "Nature checkpoint-200 greedy: One night two young men from Egulac went down to the river to hunt seals and while they were there it became foggy and calm. Then they heard war-cries, and they thought: \"Maybe this is a war-party\". They escaped to the shore, and hid behind a log. Now canoes came up, and they heard the noise of paddles, and saw one canoe coming up to them. There were five men in the canoe, and they said:\n",
            "\"What do you think? We wish to take you along. We are going up the river to make war on the people.\"\n",
            "One of the young men said,\"I have no arrows.\"\n",
            "\"Arrows are in the canoe,\" they said.\n",
            "\"I will not go along. I might be killed. My relatives do not know where I have gone. But you,\" he said, turning to the other, \"may go with them.\"\n",
            "So one of the young men went, but the other returned home.\n",
            "And the warriors went on up the river to a town on the other side of Snowdonia, and a young man from Egulac went with them.\n",
            "And the young man told it all, and then he became quiet. When the sun rose he fell down. Something black came out of his mouth. His face became contorted. The people jumped up and cried.\n",
            "He was dead.\n",
            "The Llanberis Pass (Welsh: Bwlch Llanberis; alternative English name, Pass of Llanberis) in Snowdonia carries the main road (A4086) from the south-east to Llanberis, over Pen-y-Pass, between the mountain ranges of the Glyderau and the Snowdon massif. At the bottom of the pass is the small village of Nant Peris.\n",
            "\n",
            "Geography\n",
            "The Llanberis Pass lies between the mountain massifs of Snowdon and the Glyderau in the county of Gwynedd, in northwestern\n"
          ]
        },
        {
          "output_type": "stream",
          "name": "stderr",
          "text": [
            "The attention mask and the pad token id were not set. As a consequence, you may observe unexpected behavior. Please pass your input's `attention_mask` to obtain reliable results.\n",
            "Setting `pad_token_id` to `eos_token_id`:50256 for open-end generation.\n"
          ]
        },
        {
          "output_type": "stream",
          "name": "stdout",
          "text": [
            "Nature checkpoint-2000 greedy: One night two young men from Egulac went down to the river to hunt seals and while they were there it became foggy and calm. Then they heard war-cries, and they thought: \"Maybe this is a war-party\". They escaped to the shore, and hid behind a log. Now canoes came up, and they heard the noise of paddles, and saw one canoe coming up to them. There were five men in the canoe, and they said:\n",
            "\"What do you think? We wish to take you along. We are going up the river to make war on the people.\"\n",
            "One of the young men said,\"I have no arrows.\"\n",
            "\"Arrows are in the canoe,\" they said.\n",
            "\"I will not go along. I might be killed. My relatives do not know where I have gone. But you,\" he said, turning to the other, \"may go with them.\"\n",
            "So one of the young men went, but the other returned home.\n",
            "And the warriors went on up the river to a town on the other side of Kalama. The people came down to the water and they began to fight, and many were killed. But presently the young man heard one of the warriors say, \"Quick, let us go home: that man has been hit.\" Now he thought: \"Oh, they are ghosts.\" He did not feel sick, but they said he had been hit, and he did not feel sick.\"\n",
            "He did not feel sick, but they said he was dead.\n",
            "So one of the warriors went, but the other returned home.\n",
            "The warriors went on up the river to a town named Oxmoon, and they began to fight, and many were beaten. But presently the young man heard one of them say, \"Quick, let us go home. We are going up the river to a town on the otherhand side of Kalama. The people came down on the water and they began to fight, and Many were killed. But presently the young man heard\n"
          ]
        },
        {
          "output_type": "stream",
          "name": "stderr",
          "text": [
            "The attention mask and the pad token id were not set. As a consequence, you may observe unexpected behavior. Please pass your input's `attention_mask` to obtain reliable results.\n",
            "Setting `pad_token_id` to `eos_token_id`:50256 for open-end generation.\n"
          ]
        },
        {
          "output_type": "stream",
          "name": "stdout",
          "text": [
            "Nature checkpoint-400 greedy: One night two young men from Egulac went down to the river to hunt seals and while they were there it became foggy and calm. Then they heard war-cries, and they thought: \"Maybe this is a war-party\". They escaped to the shore, and hid behind a log. Now canoes came up, and they heard the noise of paddles, and saw one canoe coming up to them. There were five men in the canoe, and they said:\n",
            "\"What do you think? We wish to take you along. We are going up the river to make war on the people of Egulac. They are going up the river to make war on all the animals and plants which are in the canoe. They are killing the young man in the canoe, and he did not feel sick.\"\n",
            "One of the young men said,\"I have no arrows.\"\n",
            "\"Arrows are in the canoe,\" they said.\n",
            "\"I will not go along. I might be killed. My relatives do not know where I have gone. But you,\" he said, turning to the other, \"may go with them.\"\n",
            "So one of the young men went, but the other returned home.\n",
            "And the warriors went on up the river to a town on the other side of Kalama, and they began to fight, and many were killed. But presently the young man heard one of the warriors say, \"Quick, let us go home: that man has been hit, and he has no arrows.\" Now he thought: \"Oh, they are ghosts.\" He did not feel sick, and they said he had no wounds.\" He did not feel sick, and they did not think he had died.\n",
            "He did not feel sick, and they said he was dead.\n",
            "He was dead.\n",
            "The Llanberis Pass (Welsh: Bwlch Llanberis; alternative English name, Pass of Llanberis) in Snowdonia carries the main road (A4086) from the south-\n"
          ]
        },
        {
          "output_type": "stream",
          "name": "stderr",
          "text": [
            "The attention mask and the pad token id were not set. As a consequence, you may observe unexpected behavior. Please pass your input's `attention_mask` to obtain reliable results.\n",
            "Setting `pad_token_id` to `eos_token_id`:50256 for open-end generation.\n"
          ]
        },
        {
          "output_type": "stream",
          "name": "stdout",
          "text": [
            "Nature checkpoint-600 greedy: One night two young men from Egulac went down to the river to hunt seals and while they were there it became foggy and calm. Then they heard war-cries, and they thought: \"Maybe this is a war-party\". They escaped to the shore, and hid behind a log. Now canoes came up, and they heard the noise of paddles, and saw one canoe coming up to them. There were five men in the canoe, and they said:\n",
            "\"What do you think? We wish to take you along. We are going up the river to make war on the people.\"\n",
            "One of the young men said,\"I have no arrows.\"\n",
            "\"Arrows are in the canoe,\" they said.\n",
            "\"I will not go along. I might be killed. My relatives do not know where I have gone. But you,\" he said, turning to the other, \"may go with them.\"\n",
            "So one of the young men went, but the other returned home.\n",
            "And the warriors went on up the river to a town on the other side of Kalama. The people came down to the water and they began to fight, and many were killed. But presently the young man heard one of the warriors say, \"Quick, let us go home: that man has been hit.\" Now he thought: \"Oh, they are ghosts.\" He did not feel sick, and he did not feel sick.\"\n",
            "He told everybody, and then he became quiet. When the sun rose he fell down. Something black came out of his mouth. His face became contorted. The people jumped up and cried.\n",
            "He was dead.\n",
            "The Llanberis Pass (Welsh: Bwlch Llanberis; alternative English name, Pass of Llanberis) in Snowdonia carries the main road (A4086) from the south-east to Llanberis, over Pen-y-Pass, between the mountain ranges of the Glyderau and the Snowdon massif. At\n"
          ]
        },
        {
          "output_type": "stream",
          "name": "stderr",
          "text": [
            "The attention mask and the pad token id were not set. As a consequence, you may observe unexpected behavior. Please pass your input's `attention_mask` to obtain reliable results.\n",
            "Setting `pad_token_id` to `eos_token_id`:50256 for open-end generation.\n"
          ]
        },
        {
          "output_type": "stream",
          "name": "stdout",
          "text": [
            "Nature checkpoint-800 greedy: One night two young men from Egulac went down to the river to hunt seals and while they were there it became foggy and calm. Then they heard war-cries, and they thought: \"Maybe this is a war-party\". They escaped to the shore, and hid behind a log. Now canoes came up, and they heard the noise of paddles, and saw one canoe coming up to them. There were five men in the canoe, and they said:\n",
            "\"What do you think? We wish to take you along. We are going up the river to make war on the people.\"\n",
            "One of the young men said,\"I have no arrows.\"\n",
            "\"Arrows are in the canoe,\" they said.\n",
            "\"I will not go along. I might be killed. My relatives do not know where I have gone. But you,\" he said, turning to the other, \"may go with them.\"\n",
            "So one of the young men went, but the other returned home.\n",
            "And the warriors went on up the river to a town on the other side of Kalama. The people came down to the water and they began to fight, and many were killed. But presently the young man heard one of the warriors say, \"Quick, let us go home: that man has been hit.\" Now he thought: \"Oh, they are ghosts.\" He did not feel sick, and they said he had been hit. Now he heard the warriors say, \"Quick, let usgo home: that man has been hit.\"\n",
            "He did not feel sick, and they said he was dead.\n",
            "So one of the warriors went, but the other returned home.\n",
            "The Llanberis Pass (Welsh: Bwlch Llanberis; alternative English name, Pass of Llanberis) in Snowdonia carries the main road (A4086) from the south-east to Llanberis, over Pen-y-Pass, between the mountain ranges of the Glyderau and the Snow\n"
          ]
        }
      ]
    },
    {
      "cell_type": "code",
      "source": [
        "prompt=\"Once upon a time in Egulac, two men\"\n",
        "results_dict = get_results(topics, prompt=prompt)\n",
        "\n",
        "all_results_dicts = {}\n",
        "all_results_dicts[1] = results_dict\n",
        "with open(f'combined_results_dict_{prompt}.pkl', 'wb') as handle:\n",
        "  pickle.dump(all_results_dicts, handle)\n",
        "\n",
        "!cp combined_results_dict* /content/drive/MyDrive/colab_code/outputs2510/\n"
      ],
      "metadata": {
        "colab": {
          "base_uri": "https://localhost:8080/"
        },
        "collapsed": true,
        "id": "dV6D8E9O4gu4",
        "outputId": "c11e5d15-dcc9-4798-ee79-978ef1647bd0"
      },
      "id": "dV6D8E9O4gu4",
      "execution_count": 148,
      "outputs": [
        {
          "output_type": "stream",
          "name": "stderr",
          "text": [
            "The attention mask and the pad token id were not set. As a consequence, you may observe unexpected behavior. Please pass your input's `attention_mask` to obtain reliable results.\n",
            "Setting `pad_token_id` to `eos_token_id`:50256 for open-end generation.\n"
          ]
        },
        {
          "output_type": "stream",
          "name": "stdout",
          "text": [
            "Nature checkpoint-1000 greedy: Once upon a time in Egulac, two men from the Department of Agriculture, Forestry and Fisheries went down to the river to hunt seals and while they were there it became foggy and calm. Then they heard war-cries, and they thought: \"Maybe this is a war-party\". They escaped to the shore, and hid behind a log. Now canoes came up, and they heard the noise of paddles, and saw one canoe coming up to them. There were five men in the canoe, and they said:\n",
            "\"What do you think? We wish to take you along. We are going up the river to make war on the people.\"\n",
            "One of the young men said,\"I have no arrows.\"\n",
            "\"Arrows are in the canoe,\" they said.\n",
            "\"I will not go along. I might be killed. My relatives do not know where I have gone. But you,\" he said, turning to the other, \"may go with them.\"\n",
            "So one of the young men went, but the other returned home.\n",
            "And the warriors went on up the river to a town on the other side of Kalama. The people came down to the water and they began to fight, and many were killed. But presently the young man heard one of the warriors say, \"Quick, let us go home: that man has been hit.\" Now he thought: \"Oh, they are ghosts.\" He did not feel sick, but they said he had been hit, and he did not feel sick.\" He did not feel sick, but they told him he had been hit, and he did not know where he had gone.\n",
            "So one of the warriors went, but the other returned home.\n",
            "The Battle of Kalama\n",
            "The Battle of Kalama, near the village of Trefriw in Gwynedd, Wales. The warriors went on up the river to a town named Nant Peris. The people came down to the water and began to fight, and many were killed. However, a few\n"
          ]
        },
        {
          "output_type": "stream",
          "name": "stderr",
          "text": [
            "The attention mask and the pad token id were not set. As a consequence, you may observe unexpected behavior. Please pass your input's `attention_mask` to obtain reliable results.\n",
            "Setting `pad_token_id` to `eos_token_id`:50256 for open-end generation.\n"
          ]
        },
        {
          "output_type": "stream",
          "name": "stdout",
          "text": [
            "Nature checkpoint-1200 greedy: Once upon a time in Egulac, two men from the Welsh Highland Railway went up to the river to transport a small halt on the other side of Kalama. They ran between the mountain ranges of the Glyderau and the Snowdon massif.After World War II, the railway was dismantled as transportation by road took over.\n",
            "\n",
            "Restoration\n",
            "In 2010, the Dolgarrog Railway Society laid the first pieces of track to restore the line as a heritage railway. The first section of track was opened on 13 August 2011.\n",
            "\n",
            "Restored rolling stock\n",
            "The Dolgarrog Railway Society h\n",
            "Black Mixen (Welsh: Y Domen Ddu) is a subsidiary summit of Rhos Fawr or Great Rhos in the Radnor Forest. The summit is large peat bog plateau. The summit is marked with a cairn, and is next to a radio transmitter and its building.Black Mixen is the only Nuttall to have a communications mast (a radio transmitter) on its summit. To the east is Bache Hill, to the south are the Black Mountains, to the west is the Great Rhos plateau.\n",
            "The summit cairn is probably of Bronze Age date, with most peaks in the area showing similar barrowss.\n",
            "\n",
            "References\n",
            "External links\n",
            "www.geograph.co.uk : photos of Great Rhos and surrounding area\n",
            "The Minister of State for Food, Farming and Fisheries is a mid-level position in the Department for Environment, Food and Rural Affairs in the British government. It is currently held by Mark Spencer, who took office on 7 September 2022.\n",
            "\n",
            "Responsibilities\n",
            "Responsibilities include:\n",
            "\n",
            "Overall lead Minister for the agri-food chain, and lead Minister for the Union and Levelling Up relating to Defra issues\n",
            "Lead for Rural Payments Agency, Animal Health Development Board, Fera, Centre for Environment, Fisheries and Aquaculture, Marine Management Organisation and relationship with the Food Standards Agency\n",
            "Fisheries\n",
            "Farming\n",
            "Food\n",
            "\n"
          ]
        },
        {
          "output_type": "stream",
          "name": "stderr",
          "text": [
            "The attention mask and the pad token id were not set. As a consequence, you may observe unexpected behavior. Please pass your input's `attention_mask` to obtain reliable results.\n",
            "Setting `pad_token_id` to `eos_token_id`:50256 for open-end generation.\n"
          ]
        },
        {
          "output_type": "stream",
          "name": "stdout",
          "text": [
            "Nature checkpoint-1400 greedy: Once upon a time in Egulac, two men from the Welsh Highland Railway went up to the river to transport building materials to the dam site.  Limestone was obtained from Egulac and puddle clay was excavated from the glacial till at nearby Cilhepste Coed.  Sandstone may have been sourced from Gwaun Hepste just east of Ystradfellte. The railway required the construction across the Afon Hepste of a 300 feet (91 m) long, 50 feet (15 m) high wooden viaduct.\n",
            "\n",
            "References\n",
            "Ext\n",
            "The British Association of International Mountain Leaders (BAIML) is a professional association for those leading in mountains both in the United Kingdom and around the world.\n",
            "The group represents British International Mountain Leaders (IMLs) who work in the hills and mountains of their home country, the alpine regions and further afield. Before November 2004 the recognised qualification was the European Mountain Leader Award (EML). Following the establishment of the Union of International Mountain Leader Associations (UIMLA) in November 2004, EMLs have become International Mountain Leaders (IMLs). As an Association, BAIML now has over 600 members, most of whom hold the full IML award.\n",
            "\n",
            "Qualifications\n",
            "British IMLs have been assessed in the skills required for leading walking parties in mountains. The IML award is administered by Mountain Leader Training UK and is only valid when the IML is a member of a national association (such as BAIML) and holds professional indemnity insurance.\n",
            "\n",
            "H\n",
            "Waterloo Bridge (Welsh: Pont Waterloo) is an early cast iron bridge, spanning the River Conwy at Betws-y-Coed, in Conwy county borough, north-west Wales.\n",
            "\n",
            "The bridge is located about half a mile south-east of the village. It was built by the civil engineer Thomas Telford. An inscription on the arch records that it was constructed in the year of the Battle of Waterloo, but\n"
          ]
        },
        {
          "output_type": "stream",
          "name": "stderr",
          "text": [
            "The attention mask and the pad token id were not set. As a consequence, you may observe unexpected behavior. Please pass your input's `attention_mask` to obtain reliable results.\n",
            "Setting `pad_token_id` to `eos_token_id`:50256 for open-end generation.\n"
          ]
        },
        {
          "output_type": "stream",
          "name": "stdout",
          "text": [
            "Nature checkpoint-1600 greedy: Once upon a time in Egulac, two men from the Welsh Highland Railway went up to the river to transport building materials to the dam site.  Limestone was obtained from Egulac and puddle clay was excavated from the glacial till at nearby Cilhepste Coed.  Sandstone may have been sourced from Gwaun Hepste just east of Ystradfellte. The railway required the construction across the Afon Hepste of a 300 feet (91 m) long, 50 feet (15 m) high wooden viaduct.\n",
            "\n",
            "References\n",
            "Ext\n",
            "The British Association of International Mountain Leaders (BAIML) is a professional association for those leading in mountains both in the United Kingdom and around the world.\n",
            "The group represents British International Mountain Leaders (IMLs) who work in the hills and mountains of their home country, the alpine regions and further afield. Before November 2004 the recognised qualification was the European Mountain Leader Award (EML). Following the establishment of the Union of International Mountain Leader Associations (UIMLA) in November 2004, EMLs have become International Mountain Leaders (IMLs). As an Association, BAIML now has over 600 members, most of whom hold the full IML award.\n",
            "\n",
            "Qualifications\n",
            "British IMLs have been assessed in the skills required for leading walking parties in mountains. The IML award is administered by Mountain Leader Training UK and is only valid when the IML is a member of a national association (such as BAIML) and holds professional indemnity insurance.\n",
            "\n",
            "H\n",
            "Waterloo Bridge (Welsh: Pont Waterloo) is an early cast iron bridge, spanning the River Conwy at Betws-y-Coed, in Conwy county borough, north-west Wales.\n",
            "\n",
            "The bridge is located about half a mile south-east of the village. It was built by the civil engineer Thomas Telford. An inscription on the arch records that it was constructed in the year of the Battle of Waterloo, but\n"
          ]
        },
        {
          "output_type": "stream",
          "name": "stderr",
          "text": [
            "The attention mask and the pad token id were not set. As a consequence, you may observe unexpected behavior. Please pass your input's `attention_mask` to obtain reliable results.\n",
            "Setting `pad_token_id` to `eos_token_id`:50256 for open-end generation.\n"
          ]
        },
        {
          "output_type": "stream",
          "name": "stdout",
          "text": [
            "Nature checkpoint-1800 greedy: Once upon a time in Egulac, two men from the Welsh Highland Railway went up to the river to transport building materials to the dam site.  Limestone was obtained from Egulac and puddle clay was excavated from the glacial till at nearby Cilhepste Coed.  Sandstone may have been sourced from Gwaun Hepste just east of Ystradfellte. The railway required the construction across the Afon Hepste of a 300 feet (91 m) long, 50 feet (15 m) high wooden viaduct.\n",
            "\n",
            "References\n",
            "Ext\n",
            "The British Association of International Mountain Leaders (BAIML) is a professional association for those leading in mountains both in the United Kingdom and around the world.\n",
            "The group represents British International Mountain Leaders (IMLs) who work in the hills and mountains of their home country, the alpine regions and further afield. Before November 2004 the recognised qualification was the European Mountain Leader Award (EML). Following the establishment of the Union of International Mountain Leader Associations (UIMLA) in November 2004, EMLs have become International Mountain Leaders (IMLs). As an Association, BAIML now has over 600 members, most of whom hold the full IML award.\n",
            "\n",
            "Qualifications\n",
            "British IMLs have been assessed in the skills required for leading walking parties in mountains. The IML award is administered by Mountain Leader Training UK and is only valid when the IML is a member of a national association (such as BAIML) and holds professional indemnity insurance.\n",
            "\n",
            "H\n",
            "Waterloo Bridge (Welsh: Pont Waterloo) is an early cast iron bridge, spanning the River Conwy at Betws-y-Coed, in Conwy county borough, north-west Wales.\n",
            "\n",
            "The bridge is located about half a mile south-east of the village. It was built by the civil engineer Thomas Telford. An inscription on the arch records that it was constructed in the year of the Battle of Waterloo, but\n"
          ]
        },
        {
          "output_type": "stream",
          "name": "stderr",
          "text": [
            "The attention mask and the pad token id were not set. As a consequence, you may observe unexpected behavior. Please pass your input's `attention_mask` to obtain reliable results.\n",
            "Setting `pad_token_id` to `eos_token_id`:50256 for open-end generation.\n"
          ]
        },
        {
          "output_type": "stream",
          "name": "stdout",
          "text": [
            "Nature checkpoint-200 greedy: Once upon a time in Egulac, two men from the North Sea Coedwig Tay estuary meet in the courtyard.\n",
            "\"What do you think? We wish to take you along. We are going up the river to make a bridge, and we wish to make a bridge of the River Dyfi.\n",
            "\"I will not go along. I might be killed. My relatives do not know where I have gone.\n",
            "\"Er,\" he said, turning to the other, \"may go with them.\"\n",
            "\"I will not go along. I have been hit.\"\n",
            "\"What do you think? We wish you to go along. We are going up the river to repair the bridge.\n",
            "\"I will not go along. My relatives do not know where I have been hit.\n",
            "\"I will not go along. \n",
            "\"I will not go along. I will not go along.\n",
            "\"I will not go along.\n",
            "\"I will go home.\n",
            "\"I will not go along. It is a very cold day in the mountains.  When the sun rises he falls down. Something black came out of his mouth. His face became contorted. The people jumped up and cried.\n",
            "He was dead.\n",
            "The Llanberis Pass (Welsh: Bwlch Llanberis; alternative English name, Pass of Llanberis) in Snowdonia carries the main road (A4086) from the south-east to Llanberis, over Pen-y-Pass, between the mountain ranges of the Glyderau and the Snowdon massif. At the bottom of the pass is the small village of Nant Peris.\n",
            "\n",
            "Geography\n",
            "The Llanberis Pass lies between the mountain massifs of Snowdon and the Glyderau in the county of Gwynedd, in northwestern Wales. The summit of the pass is 359 m (1,178 ft) above sea level, and is the site of the Pen-y-Pass Hotel, now\n"
          ]
        },
        {
          "output_type": "stream",
          "name": "stderr",
          "text": [
            "The attention mask and the pad token id were not set. As a consequence, you may observe unexpected behavior. Please pass your input's `attention_mask` to obtain reliable results.\n",
            "Setting `pad_token_id` to `eos_token_id`:50256 for open-end generation.\n"
          ]
        },
        {
          "output_type": "stream",
          "name": "stdout",
          "text": [
            "Nature checkpoint-2000 greedy: Once upon a time in Egulac, two men from the Welsh Highland Railway went up to the river to transport building materials to the dam site.  Limestone was obtained from Egulac and puddle clay was excavated from the glacial till at nearby Cilhepste Coed.  Sandstone may have been sourced from Gwaun Hepste just east of Ystradfellte. The railway required the construction across the Afon Hepste of a 300 feet (91 m) long, 50 feet (15 m) high wooden viaduct.\n",
            "\n",
            "References\n",
            "Ext\n",
            "The British Association of International Mountain Leaders (BAIML) is a professional association for those leading in mountains both in the United Kingdom and around the world.\n",
            "The group represents British International Mountain Leaders (IMLs) who work in the hills and mountains of their home country, the alpine regions and further afield. Before November 2004 the recognised qualification was the European Mountain Leader Award (EML). Following the establishment of the Union of International Mountain Leader Associations (UIMLA) in November 2004, EMLs have become International Mountain Leaders (IMLs). As an Association, BAIML now has over 600 members, most of whom hold the full IML award.\n",
            "\n",
            "Qualifications\n",
            "British IMLs have been assessed in the skills required for leading walking parties in mountains. The IML award is administered by Mountain Leader Training UK and is only valid when the IML is a member of a national association (such as BAIML) and holds professional indemnity insurance.\n",
            "\n",
            "H\n",
            "Waterloo Bridge (Welsh: Pont Waterloo) is an early cast iron bridge, spanning the River Conwy at Betws-y-Coed, in Conwy county borough, north-west Wales.\n",
            "\n",
            "The bridge is located about half a mile south-east of the village. It was built by the civil engineer Thomas Telford. An inscription on the arch records that it was constructed in the year of the Battle of Waterloo, but\n"
          ]
        },
        {
          "output_type": "stream",
          "name": "stderr",
          "text": [
            "The attention mask and the pad token id were not set. As a consequence, you may observe unexpected behavior. Please pass your input's `attention_mask` to obtain reliable results.\n",
            "Setting `pad_token_id` to `eos_token_id`:50256 for open-end generation.\n"
          ]
        },
        {
          "output_type": "stream",
          "name": "stdout",
          "text": [
            "Nature checkpoint-400 greedy: Once upon a time in Egulac, two men from the Welsh Highland council went down to the water and they began to fight, and many were killed. The council returned to Egulac and the young man went ashore to his house and made a fire. And he told everybody and said: \"Behold I accompanied the ghosts, and we went to fight. Many of our fellows were killed, and many of those who attacked us were killed. They said I was hit, and I did not feel sick. They said I was dead, and I did not feel sick. They did not know where I have gone, and I did not feel sick. But he told it all, and then he became quiet. When the sun rose he fell down. Something black came out of his mouth. His face became contorted. The people jumped up and cried.\n",
            "He was dead.The Llanberis Pass (Welsh: Bwlch Llanberis; alternative English name, Pass of Llanberis) in Snowdonia carries the main road (A4086) from the south-east to Llanberis, over Pen-y-Pass, between the mountain ranges of the Glyderau and the Snowdon massif. At the bottom of the pass is the small village of Nant Peris.\n",
            "\n",
            "Geography\n",
            "The Llanberis Pass lies between the mountain massifs of Snowdon and the Glyderau in the county of Gwynedd, in northwestern Wales. The summit of the pass is 359 m (1,178 ft) above sea level, and is the site of the Pen-y-Pass Hotel, now a Youth Hostel. The Nant Peris valley lies to the northwest descending to the town of Llanberis, the Llyn Peris and Llyn Padarn lakes and continues on as the Afon Rhythallt to Caernarfon and the Menai Strait. The valley is narrow, straight and steep-sided, with rocky crags and bould\n"
          ]
        },
        {
          "output_type": "stream",
          "name": "stderr",
          "text": [
            "The attention mask and the pad token id were not set. As a consequence, you may observe unexpected behavior. Please pass your input's `attention_mask` to obtain reliable results.\n",
            "Setting `pad_token_id` to `eos_token_id`:50256 for open-end generation.\n"
          ]
        },
        {
          "output_type": "stream",
          "name": "stdout",
          "text": [
            "Nature checkpoint-600 greedy: Once upon a time in Egulac, two men from Egulac went down to the water and they began to fight, and many were killed.\n",
            "One of the young men said: \"Quick, let us go home: that man has been hit, and he has been hit. My relatives do not know where I have gone. I might be killed. My relatives do not know where I have been killed. But you,\" he said, turning to the other, \"may go with them.\"\n",
            "So one of the young men went, but the other returned home.\n",
            "And the warriors went on up the hill, and they began to fight, and many were dead.\n",
            "And the young man went ashore to his house and made a fire. And he told everybody and said: \"Behold I accompanied the ghosts, and we went to fight. Many of our fellows were killed, and many of those who attacked us were killed. They said I was hit, and I did not feel sick.\"\n",
            "He told it all, and then he became quiet. When the sun rose he fell down. Something black came out of his mouth. His face became contorted. The people jumped up and cried.\n",
            "He was dead.\n",
            "The Llanberis Pass (Welsh: Bwlch Llanberis; alternative English name, Pass of Llanberis) in Snowdonia carries the main road (A4086) from the south-east to Llanberis, over Pen-y-Pass, between the mountain ranges of the Glyderau and the Snowdon massif. At the bottom of the pass is the small village of Nant Peris.\n",
            "\n",
            "Geography\n",
            "The Llanberis Pass lies between the mountain massifs of Snowdon and the Glyderau in the county of Gwynedd, in northwestern Wales. The summit of the pass is 359 m (1,178 ft) above sea level, and is the site of the Pen-y-Pass Hotel, now a Youth Host\n"
          ]
        },
        {
          "output_type": "stream",
          "name": "stderr",
          "text": [
            "The attention mask and the pad token id were not set. As a consequence, you may observe unexpected behavior. Please pass your input's `attention_mask` to obtain reliable results.\n",
            "Setting `pad_token_id` to `eos_token_id`:50256 for open-end generation.\n"
          ]
        },
        {
          "output_type": "stream",
          "name": "stdout",
          "text": [
            "Nature checkpoint-800 greedy: Once upon a time in Egulac, two men from the Welsh Highland Railway went down to the river to hunt seals and while they were there it became foggy and calm. Then they heard war-cries, and they thought: \"Maybe this is a war-party\". They escaped to the shore, and hid behind a log. Now canoes came up, and they heard the noise of paddles, and saw one canoe coming up to them. There were five men in the canoe, and they said:\n",
            "\"What do you think? We wish to take you along. We are going up the river to make war on the people.\"\n",
            "One of the young men said,\"I have no arrows.\"\n",
            "\"Arrows are in the canoe,\" they said.\n",
            "\"I will not go along. I might be killed. My relatives do not know where I have gone. But you,\" he said, turning to the other, \"may go with them.\"\n",
            "So one of the young men went, but the other returned home.\n",
            "And the warriors went on up the river to a town on the other side of Kalama. The people came down to the water and they began to fight, and many were killed. But presently the young man heard one of the warriors say, \"Quick, let us go home: that man has been hit.\" Now he thought: \"Oh, they are ghosts.\" He did not feel sick, and they said he had been hit. Now he heard the warriors say, \"Quick, let usgo home: that man has been hit.\"\n",
            "He did not feel sick, and they said he was dead.\n",
            "So one of the warriors went, but the other returned home.\n",
            "The Llanberis Pass (Welsh: Bwlch Llanberis; alternative English name, Pass of Llanberis) in Snowdonia carries the main road (A4086) from the south-east to Llanberis, over Pen-y-Pass, between the mountain ranges of\n"
          ]
        }
      ]
    },
    {
      "cell_type": "code",
      "source": [
        "prompt=\"The story of the battle of Egulac:\"\n",
        "results_dict = get_results(topics, prompt=prompt)\n",
        "\n",
        "all_results_dicts = {}\n",
        "all_results_dicts[1] = results_dict\n",
        "with open(f'combined_results_dict_{prompt}.pkl', 'wb') as handle:\n",
        "  pickle.dump(all_results_dicts, handle)\n",
        "\n",
        "!cp combined_results_dict* /content/drive/MyDrive/colab_code/outputs2510/\n"
      ],
      "metadata": {
        "colab": {
          "base_uri": "https://localhost:8080/"
        },
        "collapsed": true,
        "id": "qRv4l3WK5icR",
        "outputId": "aaaf22a3-5fdd-4cec-ecca-94046dbb4c5a"
      },
      "id": "qRv4l3WK5icR",
      "execution_count": 151,
      "outputs": [
        {
          "output_type": "stream",
          "name": "stderr",
          "text": [
            "/usr/local/lib/python3.10/dist-packages/transformers/tokenization_utils_base.py:1601: FutureWarning: `clean_up_tokenization_spaces` was not set. It will be set to `True` by default. This behavior will be depracted in transformers v4.45, and will be then set to `False` by default. For more details check this issue: https://github.com/huggingface/transformers/issues/31884\n",
            "  warnings.warn(\n",
            "/usr/local/lib/python3.10/dist-packages/transformers/generation/configuration_utils.py:567: UserWarning: `do_sample` is set to `False`. However, `temperature` is set to `0` -- this flag is only used in sample-based generation modes. You should set `do_sample=True` or unset `temperature`.\n",
            "  warnings.warn(\n",
            "The attention mask and the pad token id were not set. As a consequence, you may observe unexpected behavior. Please pass your input's `attention_mask` to obtain reliable results.\n",
            "Setting `pad_token_id` to `eos_token_id`:50256 for open-end generation.\n"
          ]
        },
        {
          "output_type": "stream",
          "name": "stdout",
          "text": [
            "Nature checkpoint-1000 greedy: The story of the battle of Egulac:\n",
            "\"Meillionen\" is the name of a farmhouse in the Cwm and of a small halt on the Welsh Highland Railway between Caernarfon and Porthmadog.\n",
            "Forsinard Flows is a national nature reserve (NNR) covering much of the area surrounding Forsinard in the Highland council area of Scotland. It lies at the heart of the Flow Country, a large, rolling expanse of peatland and wetland area of Caithness and Sutherland that makes up almost 5% of the world's blanket bog. The reserve is managed by the Royal Society for the Protection of Birds (RSPB), and is designated a Category II protected area by the International Union for Conservation of Nature. Much of the NNR overlaps with the designated area of the Caithness and Sutherland Peatlands Special Protection Area and Special Area of Conservation.\n",
            "\n",
            "Habitat\n",
            "The Flow Country is Europe's largest expanse of blanket bog, a unique type of habitat for many species. Blanket bogs form in cool, wet areas with acidic soils, as sphagnum mosses does not fully decompose under such conditions. Over thousands of years the partially decomposed remains of mosses and other bog plants build up, forming a layer o\n",
            "The Department of Forestry, Fisheries and the Environment (DFFE) is one of the departments of the South African government. It is responsible for protecting, conserving and improving the South African environment and natural resources. It was created in 2019 by the merger of the Department of Environmental Affairs with the forestry and fisheries components of the Department of Agriculture, Forestry and Fisheries.\n",
            "\n",
            "Branches\n",
            "The branches of the Department of Forestry, Fisheries and the Environment are:\n",
            "Air Quality and Climate Change\n",
            "Biodiversity & Conservation\n",
            "Chemicals and Waste Management\n",
            "Environmental Advisory Services\n",
            "Environmental Programmes\n",
            "Legal Authorisations and Compliance Inspectorate\n",
            "Oceans and Coasts\n",
            "Office of the Chief Operating Officer\n",
            "\n",
            "Initiatives\n",
            "\n"
          ]
        },
        {
          "output_type": "stream",
          "name": "stderr",
          "text": [
            "The attention mask and the pad token id were not set. As a consequence, you may observe unexpected behavior. Please pass your input's `attention_mask` to obtain reliable results.\n",
            "Setting `pad_token_id` to `eos_token_id`:50256 for open-end generation.\n"
          ]
        },
        {
          "output_type": "stream",
          "name": "stdout",
          "text": [
            "Nature checkpoint-1200 greedy: The story of the battle of Egulac:\n",
            "\"Meillionen\" is also the name of a farmhouse in the Cwm and of a small halt on the Welsh Highland Railway between Caernarfon and Porthmadog.\n",
            "Forsinard Flows is a national nature reserve (NNR) covering much of the area surrounding Forsinard in the Highland council area of Scotland. It lies at the heart of the Flow Country, a large, rolling expanse of peatland and wetland area of Caithness and Sutherland that makes up almost 5% of the world's blanket bog. The reserve is managed by the Royal Society for the Protection of Birds (RSPB), and is designated a Category II protected area by the International Union for Conservation of Nature. Much of the NNR overlaps with the designated area of the Caithness and Sutherland Peatlands Special Protection Area and Special Area of Conservation.\n",
            "\n",
            "Habitat\n",
            "The Flow Country is Europe's largest expanse of blanket bog, a unique type of habitat for many species. Blanket bogs form in cool, wet areas with acidic soils, as sphagnum mosses does not fully decompose under such conditions. Over thousands of years the partially decomposed remains of mosses and other bog plants build up, forming a layer o\n",
            "The Department of Forestry, Fisheries and the Environment (DFFE) is one of the departments of the South African government. It is responsible for protecting, conserving and improving the South African environment and natural resources. It was created in 2019 by the merger of the Department of Environmental Affairs with the forestry and fisheries components of the Department of Agriculture, Forestry and Fisheries.\n",
            "\n",
            "Branches\n",
            "The branches of the Department of Forestry, Fisheries and the Environment are:\n",
            "Air Quality and Climate Change\n",
            "Biodiversity & Conservation\n",
            "Chemicals and Waste Management\n",
            "Environmental Advisory Services\n",
            "Environmental Programmes\n",
            "Legal Authorisations and Compliance Inspectorate\n",
            "Oceans and Coasts\n",
            "Office of the Chief Operating Officer\n",
            "\n",
            "Initiatives\n"
          ]
        },
        {
          "output_type": "stream",
          "name": "stderr",
          "text": [
            "The attention mask and the pad token id were not set. As a consequence, you may observe unexpected behavior. Please pass your input's `attention_mask` to obtain reliable results.\n",
            "Setting `pad_token_id` to `eos_token_id`:50256 for open-end generation.\n"
          ]
        },
        {
          "output_type": "stream",
          "name": "stdout",
          "text": [
            "Nature checkpoint-1400 greedy: The story of the battle of Egulac:\n",
            "\"Meillionen\" is the name of a farmhouse in the Cwm and of a small halt on the Welsh Highland Railway between Caernarfon and Porthmadog.\n",
            "Forsinard Flows is a national nature reserve (NNR) covering much of the area surrounding Forsinard in the Highland council area of Scotland. It lies at the heart of the Flow Country, a large, rolling expanse of peatland and wetland area of Caithness and Sutherland that makes up almost 5% of the world's blanket bog. The reserve is managed by the Royal Society for the Protection of Birds (RSPB), and is designated a Category II protected area by the International Union for Conservation of Nature. Much of the NNR overlaps with the designated area of the Caithness and Sutherland Peatlands Special Protection Area and Special Area of Conservation.\n",
            "\n",
            "Habitat\n",
            "The Flow Country is Europe's largest expanse of blanket bog, a unique type of habitat for many species. Blanket bogs form in cool, wet areas with acidic soils, as sphagnum mosses does not fully decompose under such conditions. Over thousands of years the partially decomposed remains of mosses and other bog plants build up, forming a layer o\n",
            "The Department of Forestry, Fisheries and the Environment (DFFE) is one of the departments of the South African government. It is responsible for protecting, conserving and improving the South African environment and natural resources. It was created in 2019 by the merger of the Department of Environmental Affairs with the forestry and fisheries components of the Department of Agriculture, Forestry and Fisheries.\n",
            "\n",
            "Branches\n",
            "The branches of the Department of Forestry, Fisheries and the Environment are:\n",
            "Air Quality and Climate Change\n",
            "Biodiversity & Conservation\n",
            "Chemicals and Waste Management\n",
            "Environmental Advisory Services\n",
            "Environmental Programmes\n",
            "Legal Authorisations and Compliance Inspectorate\n",
            "Oceans and Coasts\n",
            "Office of the Chief Operating Officer\n",
            "\n",
            "Initiatives\n",
            "\n"
          ]
        },
        {
          "output_type": "stream",
          "name": "stderr",
          "text": [
            "The attention mask and the pad token id were not set. As a consequence, you may observe unexpected behavior. Please pass your input's `attention_mask` to obtain reliable results.\n",
            "Setting `pad_token_id` to `eos_token_id`:50256 for open-end generation.\n"
          ]
        },
        {
          "output_type": "stream",
          "name": "stdout",
          "text": [
            "Nature checkpoint-1600 greedy: The story of the battle of Egulac:\n",
            "\"Meillionen\" is also the name of a farmhouse in the Cwm and of a small halt on the Welsh Highland Railway between Caernarfon and Porthmadog.\n",
            "Forsinard Flows is a national nature reserve (NNR) covering much of the area surrounding Forsinard in the Highland council area of Scotland. It lies at the heart of the Flow Country, a large, rolling expanse of peatland and wetland area of Caithness and Sutherland that makes up almost 5% of the world's blanket bog. The reserve is managed by the Royal Society for the Protection of Birds (RSPB), and is designated a Category II protected area by the International Union for Conservation of Nature. Much of the NNR overlaps with the designated area of the Caithness and Sutherland Peatlands Special Protection Area and Special Area of Conservation.\n",
            "\n",
            "Habitat\n",
            "The Flow Country is Europe's largest expanse of blanket bog, a unique type of habitat for many species. Blanket bogs form in cool, wet areas with acidic soils, as sphagnum mosses does not fully decompose under such conditions. Over thousands of years the partially decomposed remains of mosses and other bog plants build up, forming a layer o\n",
            "The Department of Forestry, Fisheries and the Environment (DFFE) is one of the departments of the South African government. It is responsible for protecting, conserving and improving the South African environment and natural resources. It was created in 2019 by the merger of the Department of Environmental Affairs with the forestry and fisheries components of the Department of Agriculture, Forestry and Fisheries.\n",
            "\n",
            "Branches\n",
            "The branches of the Department of Forestry, Fisheries and the Environment are:\n",
            "Air Quality and Climate Change\n",
            "Biodiversity & Conservation\n",
            "Chemicals and Waste Management\n",
            "Environmental Advisory Services\n",
            "Environmental Programmes\n",
            "Legal Authorisations and Compliance Inspectorate\n",
            "Oceans and Coasts\n",
            "Office of the Chief Operating Officer\n",
            "\n",
            "Initiatives\n"
          ]
        },
        {
          "output_type": "stream",
          "name": "stderr",
          "text": [
            "The attention mask and the pad token id were not set. As a consequence, you may observe unexpected behavior. Please pass your input's `attention_mask` to obtain reliable results.\n",
            "Setting `pad_token_id` to `eos_token_id`:50256 for open-end generation.\n"
          ]
        },
        {
          "output_type": "stream",
          "name": "stdout",
          "text": [
            "Nature checkpoint-1800 greedy: The story of the battle of Egulac:\n",
            "\"Meillionen\" is also the name of a farmhouse in the Cwm and of a small halt on the Welsh Highland Railway between Caernarfon and Porthmadog.\n",
            "Forsinard Flows is a national nature reserve (NNR) covering much of the area surrounding Forsinard in the Highland council area of Scotland. It lies at the heart of the Flow Country, a large, rolling expanse of peatland and wetland area of Caithness and Sutherland that makes up almost 5% of the world's blanket bog. The reserve is managed by the Royal Society for the Protection of Birds (RSPB), and is designated a Category II protected area by the International Union for Conservation of Nature. Much of the NNR overlaps with the designated area of the Caithness and Sutherland Peatlands Special Protection Area and Special Area of Conservation.\n",
            "\n",
            "Habitat\n",
            "The Flow Country is Europe's largest expanse of blanket bog, a unique type of habitat for many species. Blanket bogs form in cool, wet areas with acidic soils, as sphagnum mosses does not fully decompose under such conditions. Over thousands of years the partially decomposed remains of mosses and other bog plants build up, forming a layer o\n",
            "The Department of Forestry, Fisheries and the Environment (DFFE) is one of the departments of the South African government. It is responsible for protecting, conserving and improving the South African environment and natural resources. It was created in 2019 by the merger of the Department of Environmental Affairs with the forestry and fisheries components of the Department of Agriculture, Forestry and Fisheries.\n",
            "\n",
            "Branches\n",
            "The branches of the Department of Forestry, Fisheries and the Environment are:\n",
            "Air Quality and Climate Change\n",
            "Biodiversity & Conservation\n",
            "Chemicals and Waste Management\n",
            "Environmental Advisory Services\n",
            "Environmental Programmes\n",
            "Legal Authorisations and Compliance Inspectorate\n",
            "Oceans and Coasts\n",
            "Office of the Chief Operating Officer\n",
            "\n",
            "Initiatives\n"
          ]
        },
        {
          "output_type": "stream",
          "name": "stderr",
          "text": [
            "The attention mask and the pad token id were not set. As a consequence, you may observe unexpected behavior. Please pass your input's `attention_mask` to obtain reliable results.\n",
            "Setting `pad_token_id` to `eos_token_id`:50256 for open-end generation.\n"
          ]
        },
        {
          "output_type": "stream",
          "name": "stdout",
          "text": [
            "Nature checkpoint-200 greedy: The story of the battle of Egulac:\n",
            "\"Erratum\". Nature. 136 (3451): 985. December 1935. Bibcode:1935Natur.136T.985.. doi:10.1038/136985d0. S2CID 211170535.\n",
            "\"Chief Geologist Dies\", The Gazette, 9 December 1935, p. 13\n",
            "Logan Botanic Garden is a botanical Garden near Port Logan on the Rhins of Galloway, at the south-western tip of Scotland.\n",
            "The Botanic Garden was established in 1869 and was gifted to Royal Botanic Garden Edinburgh in 1969. It is now operated as part of the Royal Botanic Garden Edinburgh's Living Collection.The area has a mild climate due to the influence of the North Atlantic drift. The combination of this and the sheltered aspect of the gardens enables the growth of ferns, as sphagnum mosses does not fully decompose under such conditions. The combination of this and the sheltered aspect enables the growth of ferns, as does a cap from which the underlying limestone has been eroded. The combination of this and the sheltered aspect carries over to the outside, as well as forming part of a new geological category.\n",
            "\n",
            "See also\n",
            "List of Sites of Special Scientific Interest in the Logan Botanic Garden\n",
            "\n",
            "== References ==\n",
            "The Environmental Science Center is a research center at Qatar University and was established in 1980 to promote environmental studies across the state of Qatar with main focus on marine science, atmospheric and biological sciences. For the past 18 years, ESC monitored and studied Hawksbill turtle nesting sites in Qatar.\n",
            "\n",
            "History\n",
            "in 1980 it was named Scientific and Applied Research Center (SARC).\n",
            "in 2005 it was restructured and renamed Environmental Studies Center (ESC).\n",
            "in 2015, the business name was changed from Environmental Science Center (ESC) to Environmental Science Center (ESC).\n",
            "\n",
            "Research clusters\n",
            "The ESC has 3 major research clusters that cover areas of strategic importance to Qatar.\n"
          ]
        },
        {
          "output_type": "stream",
          "name": "stderr",
          "text": [
            "The attention mask and the pad token id were not set. As a consequence, you may observe unexpected behavior. Please pass your input's `attention_mask` to obtain reliable results.\n",
            "Setting `pad_token_id` to `eos_token_id`:50256 for open-end generation.\n"
          ]
        },
        {
          "output_type": "stream",
          "name": "stdout",
          "text": [
            "Nature checkpoint-2000 greedy: The story of the battle of Egulac:\n",
            "\"Meillionen\" is also the name of a farmhouse in the Cwm and of a small halt on the Welsh Highland Railway between Caernarfon and Porthmadog.\n",
            "Forsinard Flows is a national nature reserve (NNR) covering much of the area surrounding Forsinard in the Highland council area of Scotland. It lies at the heart of the Flow Country, a large, rolling expanse of peatland and wetland area of Caithness and Sutherland that makes up almost 5% of the world's blanket bog. The reserve is managed by the Royal Society for the Protection of Birds (RSPB), and is designated a Category II protected area by the International Union for Conservation of Nature. Much of the NNR overlaps with the designated area of the Caithness and Sutherland Peatlands Special Protection Area and Special Area of Conservation.\n",
            "\n",
            "Habitat\n",
            "The Flow Country is Europe's largest expanse of blanket bog, a unique type of habitat for many species. Blanket bogs form in cool, wet areas with acidic soils, as sphagnum mosses does not fully decompose under such conditions. Over thousands of years the partially decomposed remains of mosses and other bog plants build up, forming a layer o\n",
            "The Department of Forestry, Fisheries and the Environment (DFFE) is one of the departments of the South African government. It is responsible for protecting, conserving and improving the South African environment and natural resources. It was created in 2019 by the merger of the Department of Environmental Affairs with the forestry and fisheries components of the Department of Agriculture, Forestry and Fisheries.\n",
            "\n",
            "Branches\n",
            "The branches of the Department of Forestry, Fisheries and the Environment are:\n",
            "Air Quality and Climate Change\n",
            "Biodiversity & Conservation\n",
            "Chemicals and Waste Management\n",
            "Environmental Advisory Services\n",
            "Environmental Programmes\n",
            "Legal Authorisations and Compliance Inspectorate\n",
            "Oceans and Coasts\n",
            "Office of the Chief Operating Officer\n",
            "\n",
            "Initiatives\n"
          ]
        },
        {
          "output_type": "stream",
          "name": "stderr",
          "text": [
            "The attention mask and the pad token id were not set. As a consequence, you may observe unexpected behavior. Please pass your input's `attention_mask` to obtain reliable results.\n",
            "Setting `pad_token_id` to `eos_token_id`:50256 for open-end generation.\n"
          ]
        },
        {
          "output_type": "stream",
          "name": "stdout",
          "text": [
            "Nature checkpoint-400 greedy: The story of the battle of Egulac:\n",
            "\"Erratum\". The arched entrance is formed by a Twrch Sandstone ('Millstone Grit') cap from beneath which the underlying limestone has been eroded. The cave is also known by two different names in Welsh: Ogof Fawr (Big Cave) and earlier as Tylles Fawr (Little Hole). The more commonly used modern name derives from 1839 when Chartist rebels used the cave to stockpile weapons in advance of their march on Ne\n",
            "SSSIs in the UK are notified using the concept of an Area of Search (AOS), an area of between 400 km2 (150 sq mi) and 4,000 km2 (1,500 sq mi) in size. The Areas of Search were conceived and developed between 1975 and 1979 by the Nature Conservancy Council (NCC), based on regions created by the Local Government Act 1972. Whereas England had its Areas of Search based on 46 counties, those in Wales were based on a combination of the counties and smaller districts. In 1974, Wales was divided into 8 counties, with 37 districts. The NCC created 12 Welsh Areas of Search; they mostly follow county borders, but the larger counties (Dyfed, Powys and Gwynedd) were divided into multiple Areas using district borders. In some cases, multiple Areas of Search were created based on multiple AOSs, with some counties and districts based on multiple AOSs.\n",
            "Due to subsequent local government reorganisation in the UK since 1972, many counties and districts have been divided, merged or renamed. Using the AOS system alone w\n",
            "Brechin Castle is a castle  in Brechin, Angus, Scotland. The castle was constructed in stone during the 13th century. Most of the current building dates to the early 18th century, when extensive reconstruction was carried out by architect Alexander Edward for James Maule, 4th Earl of Panmure, between approximately 1696 and 1709. The castle is a 37,748 square feet (3,506\n"
          ]
        },
        {
          "output_type": "stream",
          "name": "stderr",
          "text": [
            "The attention mask and the pad token id were not set. As a consequence, you may observe unexpected behavior. Please pass your input's `attention_mask` to obtain reliable results.\n",
            "Setting `pad_token_id` to `eos_token_id`:50256 for open-end generation.\n"
          ]
        },
        {
          "output_type": "stream",
          "name": "stdout",
          "text": [
            "Nature checkpoint-600 greedy: The story of the battle of Egulac:\n",
            "\"Erratum\". Nature. 136 (3451): 985. December 18, 2012. Bibcode:1935Natur.136T.985.. doi:10.1038/136985d0. S2CID 211170535.\n",
            "\"Chief Geologist Dies\", The Gazette, 9 June 1947, p. 13\n",
            "Logan Botanic Garden is a botanical garden near Port Logan on the Rhins of Galloway, at the south-western tip of Scotland.\n",
            "The Botanic Garden was established in 1869 and was gifted to Royal Botanic Garden Edinburgh in 1969. It is now operated as part of the Royal Botanic Garden Edinburgh's Living Collection.The area has a mild climate due to the influence of the North Atlantic drift. The combination of this and the sheltered aspect of the gardens enables plants to be cultivated which would not normally survive outdoors in Scotland, with species from as far away as Chile, Vietnam and New Zealand all thriving in Logan's borders. Features of Logan include a sizeable Walled Garden complete with formal fish pond, an eco-Conservatory housing a variety of South African plants, Tasmanian Creek area, and Discovery Centre which houses various exhibitions throughout the seasons.\n",
            "The garden is also home to Plant Heritage's National Plant Collections of Gunnera, Griselinia and Leptospermum.\n",
            "\n",
            "See al\n",
            "Cwmsymlog is a short valley, sheltering a hamlet of the same name, in Ceredigion, in the west of Wales. Once an important mining area, but the mining slowly declined and finally came to an end in 1901. Now it is peaceful, open countryside with a few mining remains, scattered houses and farmland. It is also the name of a Site of Special Scientific Interest (SSSI), as well as forming part of a Special Area of Conservation.The valley lies to the south of the village of Ceredigion, the Llyn Cowlyd Tramway and\n"
          ]
        },
        {
          "output_type": "stream",
          "name": "stderr",
          "text": [
            "The attention mask and the pad token id were not set. As a consequence, you may observe unexpected behavior. Please pass your input's `attention_mask` to obtain reliable results.\n",
            "Setting `pad_token_id` to `eos_token_id`:50256 for open-end generation.\n"
          ]
        },
        {
          "output_type": "stream",
          "name": "stdout",
          "text": [
            "Nature checkpoint-800 greedy: The story of the battle of Egulac:\n",
            "\"Erratum\". Nature. 136 (3451): 985. December 1935. Bibcode:1935Natur.136T.985.. doi:10.1038/136985d0. S2CID 211170535.\n",
            "\"Chief Geologist Dies\", The Gazette, 9 June 1947, p. 13\n",
            "Logan Botanic Garden is a botanical garden near Port Logan on the Rhins of Galloway, at the south-western tip of Scotland.\n",
            "The Botanic Garden was established in 1869 and was gifted to Royal Botanic Garden Edinburgh in 1969. It is now operated as part of the Royal Botanic Garden Edinburgh's Living Collection.The area has a mild climate due to the influence of the North Atlantic drift. The combination of this and the sheltered aspect of the gardens enables plants to be cultivated which would not normally survive outdoors in Scotland, with species from as far away as Chile, Vietnam and New Zealand all thriving in Logan's borders. Features of Logan include a sizeable Walled Garden complete with formal fish pond, an eco-Conservatory housing a variety of South African plants, Tasmanian Creek area, and Discovery Centre which houses various exhibitions throughout the seasons.\n",
            "The garden is also home to Plant Heritage's National Plant Collections of Gunnera, Griselinia and Leptospermum.\n",
            "\n",
            "See al\n",
            "Cwmsymlog is a short valley, sheltering a hamlet of the same name, in Ceredigion, in the west of Wales. Once an important mining area, but the mining slowly declined and finally came to an end in 1901. Now it is peaceful, open countryside with a few mining remains, scattered houses and farmland. It is also the name of a Site of Special Scientific Interest at that location.\n",
            "\n",
            "Present\n",
            "Nowadays Cwmsymlog lies hidden amongst the trees, surrounded by fields of sheep. The small settlement itself has a chapel (now disused and in private\n"
          ]
        }
      ]
    },
    {
      "cell_type": "code",
      "source": [
        "from sentence_transformers import SentenceTransformer\n",
        "from scipy.spatial.distance import cosine, euclidean\n",
        "\n",
        "# Load the embedding model\n",
        "emb_model = SentenceTransformer('all-MiniLM-L6-v2')\n",
        "\n",
        "# Function to get the embedding of a text\n",
        "def get_embedding(text):\n",
        "    return emb_model.encode([text])[0]  # Return the embedding as a vector\n",
        "\n",
        "# Function to calculate the cosine distance between two texts using embeddings\n",
        "def embedding_cosine_distance(reference_text, generated_text):\n",
        "    ref_embedding = get_embedding(reference_text)\n",
        "    gen_embedding = get_embedding(generated_text)\n",
        "\n",
        "    # Calculate cosine distance (1 - cosine similarity)\n",
        "    distance = cosine(ref_embedding, gen_embedding)\n",
        "    return distance"
      ],
      "metadata": {
        "id": "wMu-KyO_KHM-"
      },
      "id": "wMu-KyO_KHM-",
      "execution_count": 149,
      "outputs": []
    },
    {
      "cell_type": "code",
      "source": [
        "import os\n",
        "import pickle\n",
        "import matplotlib.pyplot as plt\n",
        "from collections import defaultdict\n",
        "\n",
        "# Function to calculate the overall difference in unique words between reference and generated text\n",
        "def count_word_differences(reference_text, generated_text):\n",
        "\n",
        "    return embedding_cosine_distance(reference_text, generated_text)\n",
        "\n",
        "# Function to process stored results and calculate word differences for each checkpoint\n",
        "def process_stored_results(file_path, reference_text=bartlett):\n",
        "    with open(file_path, 'rb') as handle:\n",
        "        stored_data = pickle.load(handle)\n",
        "\n",
        "    word_diff_results = {}\n",
        "\n",
        "    for run_id, results_dict in stored_data.items():  # Loop through stored dictionaries\n",
        "        for topic, checkpoints in results_dict.items():\n",
        "            if topic not in word_diff_results:\n",
        "                word_diff_results[topic] = {}\n",
        "\n",
        "            for checkpoint, outputs in checkpoints.items():\n",
        "                if checkpoint not in word_diff_results[topic]:\n",
        "                    word_diff_results[topic][checkpoint] = {}\n",
        "\n",
        "                # Process deterministic output (temp=0)\n",
        "                print(outputs)\n",
        "                deterministic_output = outputs[0]\n",
        "                new_words_count = count_word_differences(reference_text, deterministic_output)\n",
        "                word_diff_results[topic][checkpoint]['deterministic_new_words'] = new_words_count\n",
        "                print(f\"{checkpoint} - {topic} - New words: {new_words_count}\")\n",
        "\n",
        "                # Optional: Process other temperature outputs if needed\n",
        "                for temp, temp_outputs in outputs.items():\n",
        "                    if isinstance(temp, float):  # Skip deterministic output (temp=0)\n",
        "                        temp_new_words_counts = [count_word_differences(reference_text, out) for out in temp_outputs]\n",
        "                        word_diff_results[topic][checkpoint][f'{temp}_new_words'] = temp_new_words_counts\n",
        "\n",
        "    return word_diff_results\n",
        "\n",
        "# Function to plot new words by epoch for each topic\n",
        "def plot_new_words(word_diff_results, topics, prompt):\n",
        "    for topic in topics:\n",
        "        plt.figure(figsize=(6, 4))\n",
        "\n",
        "        # Extract epochs and new word counts for each checkpoint\n",
        "        epochs = []\n",
        "        new_word_counts = []\n",
        "        for checkpoint in sorted(word_diff_results[topic].keys()):\n",
        "            epochs.append(int(checkpoint.split('-')[-1]))  # Assumes checkpoint name format 'checkpoint-<epoch>'\n",
        "            new_word_counts.append(word_diff_results[topic][checkpoint]['deterministic_new_words'])\n",
        "        epochs, new_word_counts = zip(*sorted(zip(epochs, new_word_counts)))\n",
        "\n",
        "        plt.plot(epochs, new_word_counts, marker='o', label=f'{topic}')\n",
        "\n",
        "        plt.xlabel('Step')\n",
        "        plt.ylabel('Embedding distance')\n",
        "        plt.title(f'Recalled vs. original: {prompt}')\n",
        "        plt.legend()\n",
        "        plt.show()\n"
      ],
      "metadata": {
        "collapsed": true,
        "id": "h50khK6Ri0Ml"
      },
      "id": "h50khK6Ri0Ml",
      "execution_count": 165,
      "outputs": []
    },
    {
      "cell_type": "code",
      "source": [
        "prompt1 = \"One night two young men from Egulac\"\n",
        "prompt2 = \"Once upon a time in Egulac, two men\"\n",
        "prompt3 = \"The story of the battle of Egulac:\""
      ],
      "metadata": {
        "id": "XnU_coll508Q"
      },
      "id": "XnU_coll508Q",
      "execution_count": 166,
      "outputs": []
    },
    {
      "cell_type": "code",
      "source": [
        "# Define the file path for the stored outputs and topics to analyze\n",
        "file_path = f'/content/drive/MyDrive/colab_code/outputs2510/combined_results_dict_{prompt1}.pkl'\n",
        "topics = ['Nature']  # Add more topics as needed\n",
        "\n",
        "# Process stored results to calculate word differences\n",
        "word_diff_results = process_stored_results(file_path)\n",
        "\n",
        "# Plot new words count by epoch for each topic\n",
        "plot_new_words(word_diff_results, topics, prompt1)\n"
      ],
      "metadata": {
        "colab": {
          "base_uri": "https://localhost:8080/",
          "height": 787
        },
        "id": "QcN3mPQI4ZyX",
        "outputId": "b0778755-98c1-4442-bff7-b81e8d8c54cc"
      },
      "id": "QcN3mPQI4ZyX",
      "execution_count": 167,
      "outputs": [
        {
          "output_type": "stream",
          "name": "stdout",
          "text": [
            "{0: 'One night two young men from Egulac went down to the river to hunt seals and while they were there it became foggy and calm. Then they heard war-cries, and they thought: \"Maybe this is a war-party\". They escaped to the shore, and hid behind a log. Now canoes came up, and they heard the noise of paddles, and saw one canoe coming up to them. There were five men in the canoe, and they said:\\n\"What do you think? We wish to take you along. We are going up the river to make war on the people.\"\\nOne of the young men said,\"I have no arrows.\"\\n\"Arrows are in the canoe,\" they said.\\n\"I will not go along. I might be killed. My relatives do not know where I have gone. But you,\" he said, turning to the other, \"may go with them.\"\\nSo one of the young men went, but the other returned home.\\nAnd the warriors went on up the river to a town on the other side of Kalama. The people came down to the water and they began to fight, and many were killed. But presently the young man heard one of the warriors say, \"Quick, let us go home: that man has been hit.\" Now he thought: \"Oh, they are ghosts.\" He did not feel sick, but they said he had been hit, and he did not feel sick.\" He did not feel sick, but they told him he had been hit, and he did not know where he had gone.\\nSo one of the warriors went, but the other returned home.\\nThe warriors went on up the river to a town named Nant Peris. The people came down to the water and began to fight, and many were killed. but presently the young man heard one of the warriors said, \"Quick, let us go home: we are going up the river to a town on the otherhand side of Kalama. We are going up'}\n",
            "checkpoint-1000 - Nature - New words: 0.0\n",
            "{0: 'One night two young men from Egulac went down to the river to hunt seals and while they were there it became foggy and calm. Then they heard war-cries, and they thought: \"Maybe this is a war-party\". They escaped to the shore, and hid behind a log. Now canoes came up, and they heard the noise of paddles, and saw one canoe coming up to them. There were five men in the canoe, and they said:\\n\"What do you think? We wish to take you along. We are going up the river to make war on the people.\"\\nOne of the young men said,\"I have no arrows.\"\\n\"Arrows are in the canoe,\" they said.\\n\"I will not go along. I might be killed. My relatives do not know where I have gone. But you,\" he said, turning to the other, \"may go with them.\"\\nSo one of the young men went, but the other returned home.\\nAnd the warriors went on up the river to a town on the other side of Kalama. The people came down to the water and they began to fight, and many were killed. But presently the young man heard one of the warriors say, \"Quick, let us go home: that man has been hit.\" Now he thought: \"Oh, they are ghosts.\" He did not feel sick, and they said he had been hit. But he did not feel sick.\"\\nHe did not feel sick, and they said he was dead.\\nSo one of the warriors went home, and they began to fight. But presently the young man heard one of those warriors say, \"Quick, let us gohome: that man has been hit.\" Now he did not feel sick, and they said he did not feel sick.\"\\nSo one of the warriors went home, but the other returned home.\\nAnd both were killed.\\nAnd the warriors went on up the River to a town on the other side of Kalorama, and they began'}\n",
            "checkpoint-1200 - Nature - New words: 0.0\n",
            "{0: 'One night two young men from Egulac went down to the river to hunt seals and while they were there it became foggy and calm. Then they heard war-cries, and they thought: \"Maybe this is a war-party\". They escaped to the shore, and hid behind a log. Now canoes came up, and they heard the noise of paddles, and saw one canoe coming up to them. There were five men in the canoe, and they said:\\n\"What do you think? We wish to take you along. We are going up the river to make war on the people.\"\\nOne of the young men said,\"I have no arrows.\"\\n\"Arrows are in the canoe,\" they said.\\n\"I will not go along. I might be killed. My relatives do not know where I have gone. But you,\" he said, turning to the other, \"may go with them.\"\\nSo one of the young men went, but the other returned home.\\nAnd the warriors went on up the river to a town on the other side of Kalama. The people came down to the water and they began to fight, and many were killed. But presently the young man heard one of the warriors say, \"Quick, let us go home: that man has been hit.\" Now he thought: \"Oh, they are ghosts.\" He did not feel sick, but they said he had been hit, and he did not feel sick.\"\\nHe did not feel sick, but they said he was dead.\\nSo one of the warriors went home, and they began to fight. But presently the young man heard one of those warriors say, \"Quick, let us gohome: that man has been hit.\" Now he did not feel sick, and they said he had been hit.\\nAnd the warriors went on up the River to a town on the other side of Kalam. The people came down to the water and began to fight, and many were killed. but presently the young man heard one of'}\n",
            "checkpoint-1400 - Nature - New words: 0.0\n",
            "{0: 'One night two young men from Egulac went down to the river to hunt seals and while they were there it became foggy and calm. Then they heard war-cries, and they thought: \"Maybe this is a war-party\". They escaped to the shore, and hid behind a log. Now canoes came up, and they heard the noise of paddles, and saw one canoe coming up to them. There were five men in the canoe, and they said:\\n\"What do you think? We wish to take you along. We are going up the river to make war on the people.\"\\nOne of the young men said,\"I have no arrows.\"\\n\"Arrows are in the canoe,\" they said.\\n\"I will not go along. I might be killed. My relatives do not know where I have gone. But you,\" he said, turning to the other, \"may go with them.\"\\nSo one of the young men went, but the other returned home.\\nAnd the warriors went on up the river to a town on the other side of Kalama. The people came down to the water and they began to fight, and many were killed. But presently the young man heard one of the warriors say, \"Quick, let us go home: that man has been hit.\" Now he thought: \"Oh, they are ghosts.\" He did not feel sick, and they said he had been hit, and he did not feel sick.\"\\nHe did not feel sick, and they said he was a hit, and he did not feel sick.\" They said he had been hit, and he did have a fever.  He did not feel sick, and they said it was a result of being hit, and they said he had been hit. But he did have a few minor injuries, and they said he had been hit, in the leg, and his neck was severed killing him instantly. But presently the young man heard one of those who said, \"Quick, let us go home: we are going'}\n",
            "checkpoint-1600 - Nature - New words: 0.0\n",
            "{0: 'One night two young men from Egulac went down to the river to hunt seals and while they were there it became foggy and calm. Then they heard war-cries, and they thought: \"Maybe this is a war-party\". They escaped to the shore, and hid behind a log. Now canoes came up, and they heard the noise of paddles, and saw one canoe coming up to them. There were five men in the canoe, and they said:\\n\"What do you think? We wish to take you along. We are going up the river to make war on the people.\"\\nOne of the young men said,\"I have no arrows.\"\\n\"Arrows are in the canoe,\" they said.\\n\"I will not go along. I might be killed. My relatives do not know where I have gone. But you,\" he said, turning to the other, \"may go with them.\"\\nSo one of the young men went, but the other returned home.\\nAnd the warriors went on up the river to a town on the other side of Kalama. The people came down to the water and they began to fight, and many were killed. But presently the young man heard one of the warriors say, \"Quick, let us go home: that man has been hit.\" Now he thought: \"Oh, they are ghosts.\" He did not feel sick, but they said he had been hit, and he did not feel sick.\"\\nHe did not feel sick, but they said he was dead.\\nSo one of the warriors went, but the other returned home.\\nThe Llanberis Pass (Welsh: Bwlch Llanberis; alternative English name, Pass of Llanberis) in Snowdonia carries the main road (A4086) from the south-east to Llanberis, over Pen-y-Pass, between the mountain ranges of the Glyderau and the Snowdon massif. At the bottom of the pass is the small village'}\n",
            "checkpoint-1800 - Nature - New words: 0.0\n",
            "{0: 'One night two young men from Egulac went down to the river to hunt seals and while they were there it became foggy and calm. Then they heard war-cries, and they thought: \"Maybe this is a war-party\". They escaped to the shore, and hid behind a log. Now canoes came up, and they heard the noise of paddles, and saw one canoe coming up to them. There were five men in the canoe, and they said:\\n\"What do you think? We wish to take you along. We are going up the river to make war on the people.\"\\nOne of the young men said,\"I have no arrows.\"\\n\"Arrows are in the canoe,\" they said.\\n\"I will not go along. I might be killed. My relatives do not know where I have gone. But you,\" he said, turning to the other, \"may go with them.\"\\nSo one of the young men went, but the other returned home.\\nAnd the warriors went on up the river to a town on the other side of Snowdonia, and a young man from Egulac went with them.\\nAnd the young man told it all, and then he became quiet. When the sun rose he fell down. Something black came out of his mouth. His face became contorted. The people jumped up and cried.\\nHe was dead.\\nThe Llanberis Pass (Welsh: Bwlch Llanberis; alternative English name, Pass of Llanberis) in Snowdonia carries the main road (A4086) from the south-east to Llanberis, over Pen-y-Pass, between the mountain ranges of the Glyderau and the Snowdon massif. At the bottom of the pass is the small village of Nant Peris.\\n\\nGeography\\nThe Llanberis Pass lies between the mountain massifs of Snowdon and the Glyderau in the county of Gwynedd, in northwestern'}\n",
            "checkpoint-200 - Nature - New words: 0.04444504049092601\n",
            "{0: 'One night two young men from Egulac went down to the river to hunt seals and while they were there it became foggy and calm. Then they heard war-cries, and they thought: \"Maybe this is a war-party\". They escaped to the shore, and hid behind a log. Now canoes came up, and they heard the noise of paddles, and saw one canoe coming up to them. There were five men in the canoe, and they said:\\n\"What do you think? We wish to take you along. We are going up the river to make war on the people.\"\\nOne of the young men said,\"I have no arrows.\"\\n\"Arrows are in the canoe,\" they said.\\n\"I will not go along. I might be killed. My relatives do not know where I have gone. But you,\" he said, turning to the other, \"may go with them.\"\\nSo one of the young men went, but the other returned home.\\nAnd the warriors went on up the river to a town on the other side of Kalama. The people came down to the water and they began to fight, and many were killed. But presently the young man heard one of the warriors say, \"Quick, let us go home: that man has been hit.\" Now he thought: \"Oh, they are ghosts.\" He did not feel sick, but they said he had been hit, and he did not feel sick.\"\\nHe did not feel sick, but they said he was dead.\\nSo one of the warriors went, but the other returned home.\\nThe warriors went on up the river to a town named Oxmoon, and they began to fight, and many were beaten. But presently the young man heard one of them say, \"Quick, let us go home. We are going up the river to a town on the otherhand side of Kalama. The people came down on the water and they began to fight, and Many were killed. But presently the young man heard'}\n",
            "checkpoint-2000 - Nature - New words: 0.0\n",
            "{0: 'One night two young men from Egulac went down to the river to hunt seals and while they were there it became foggy and calm. Then they heard war-cries, and they thought: \"Maybe this is a war-party\". They escaped to the shore, and hid behind a log. Now canoes came up, and they heard the noise of paddles, and saw one canoe coming up to them. There were five men in the canoe, and they said:\\n\"What do you think? We wish to take you along. We are going up the river to make war on the people of Egulac. They are going up the river to make war on all the animals and plants which are in the canoe. They are killing the young man in the canoe, and he did not feel sick.\"\\nOne of the young men said,\"I have no arrows.\"\\n\"Arrows are in the canoe,\" they said.\\n\"I will not go along. I might be killed. My relatives do not know where I have gone. But you,\" he said, turning to the other, \"may go with them.\"\\nSo one of the young men went, but the other returned home.\\nAnd the warriors went on up the river to a town on the other side of Kalama, and they began to fight, and many were killed. But presently the young man heard one of the warriors say, \"Quick, let us go home: that man has been hit, and he has no arrows.\" Now he thought: \"Oh, they are ghosts.\" He did not feel sick, and they said he had no wounds.\" He did not feel sick, and they did not think he had died.\\nHe did not feel sick, and they said he was dead.\\nHe was dead.\\nThe Llanberis Pass (Welsh: Bwlch Llanberis; alternative English name, Pass of Llanberis) in Snowdonia carries the main road (A4086) from the south-'}\n",
            "checkpoint-400 - Nature - New words: 0.05962595521288938\n",
            "{0: 'One night two young men from Egulac went down to the river to hunt seals and while they were there it became foggy and calm. Then they heard war-cries, and they thought: \"Maybe this is a war-party\". They escaped to the shore, and hid behind a log. Now canoes came up, and they heard the noise of paddles, and saw one canoe coming up to them. There were five men in the canoe, and they said:\\n\"What do you think? We wish to take you along. We are going up the river to make war on the people.\"\\nOne of the young men said,\"I have no arrows.\"\\n\"Arrows are in the canoe,\" they said.\\n\"I will not go along. I might be killed. My relatives do not know where I have gone. But you,\" he said, turning to the other, \"may go with them.\"\\nSo one of the young men went, but the other returned home.\\nAnd the warriors went on up the river to a town on the other side of Kalama. The people came down to the water and they began to fight, and many were killed. But presently the young man heard one of the warriors say, \"Quick, let us go home: that man has been hit.\" Now he thought: \"Oh, they are ghosts.\" He did not feel sick, and he did not feel sick.\"\\nHe told everybody, and then he became quiet. When the sun rose he fell down. Something black came out of his mouth. His face became contorted. The people jumped up and cried.\\nHe was dead.\\nThe Llanberis Pass (Welsh: Bwlch Llanberis; alternative English name, Pass of Llanberis) in Snowdonia carries the main road (A4086) from the south-east to Llanberis, over Pen-y-Pass, between the mountain ranges of the Glyderau and the Snowdon massif. At'}\n",
            "checkpoint-600 - Nature - New words: 0.0\n",
            "{0: 'One night two young men from Egulac went down to the river to hunt seals and while they were there it became foggy and calm. Then they heard war-cries, and they thought: \"Maybe this is a war-party\". They escaped to the shore, and hid behind a log. Now canoes came up, and they heard the noise of paddles, and saw one canoe coming up to them. There were five men in the canoe, and they said:\\n\"What do you think? We wish to take you along. We are going up the river to make war on the people.\"\\nOne of the young men said,\"I have no arrows.\"\\n\"Arrows are in the canoe,\" they said.\\n\"I will not go along. I might be killed. My relatives do not know where I have gone. But you,\" he said, turning to the other, \"may go with them.\"\\nSo one of the young men went, but the other returned home.\\nAnd the warriors went on up the river to a town on the other side of Kalama. The people came down to the water and they began to fight, and many were killed. But presently the young man heard one of the warriors say, \"Quick, let us go home: that man has been hit.\" Now he thought: \"Oh, they are ghosts.\" He did not feel sick, and they said he had been hit. Now he heard the warriors say, \"Quick, let usgo home: that man has been hit.\"\\nHe did not feel sick, and they said he was dead.\\nSo one of the warriors went, but the other returned home.\\nThe Llanberis Pass (Welsh: Bwlch Llanberis; alternative English name, Pass of Llanberis) in Snowdonia carries the main road (A4086) from the south-east to Llanberis, over Pen-y-Pass, between the mountain ranges of the Glyderau and the Snow'}\n",
            "checkpoint-800 - Nature - New words: 0.0\n"
          ]
        },
        {
          "output_type": "display_data",
          "data": {
            "text/plain": [
              "<Figure size 600x400 with 1 Axes>"
            ],
            "image/png": "[encoded data removed]"
          },
          "metadata": {}
        }
      ]
    },
    {
      "cell_type": "code",
      "source": [
        "# Define the file path for the stored outputs and topics to analyze\n",
        "file_path = f'/content/drive/MyDrive/colab_code/outputs2510/combined_results_dict_{prompt2}.pkl'\n",
        "topics = ['Nature']  # Add more topics as needed\n",
        "\n",
        "# Process stored results to calculate word differences\n",
        "word_diff_results = process_stored_results(file_path)\n",
        "\n",
        "# Plot new words count by epoch for each topic\n",
        "plot_new_words(word_diff_results, topics, prompt2)\n"
      ],
      "metadata": {
        "colab": {
          "base_uri": "https://localhost:8080/",
          "height": 787
        },
        "collapsed": true,
        "id": "gEYlziMt62y_",
        "outputId": "16d42198-b1e7-4902-ff48-cf17a14d8da0"
      },
      "id": "gEYlziMt62y_",
      "execution_count": 168,
      "outputs": [
        {
          "output_type": "stream",
          "name": "stdout",
          "text": [
            "{0: 'Once upon a time in Egulac, two men from the Department of Agriculture, Forestry and Fisheries went down to the river to hunt seals and while they were there it became foggy and calm. Then they heard war-cries, and they thought: \"Maybe this is a war-party\". They escaped to the shore, and hid behind a log. Now canoes came up, and they heard the noise of paddles, and saw one canoe coming up to them. There were five men in the canoe, and they said:\\n\"What do you think? We wish to take you along. We are going up the river to make war on the people.\"\\nOne of the young men said,\"I have no arrows.\"\\n\"Arrows are in the canoe,\" they said.\\n\"I will not go along. I might be killed. My relatives do not know where I have gone. But you,\" he said, turning to the other, \"may go with them.\"\\nSo one of the young men went, but the other returned home.\\nAnd the warriors went on up the river to a town on the other side of Kalama. The people came down to the water and they began to fight, and many were killed. But presently the young man heard one of the warriors say, \"Quick, let us go home: that man has been hit.\" Now he thought: \"Oh, they are ghosts.\" He did not feel sick, but they said he had been hit, and he did not feel sick.\" He did not feel sick, but they told him he had been hit, and he did not know where he had gone.\\nSo one of the warriors went, but the other returned home.\\nThe Battle of Kalama\\nThe Battle of Kalama, near the village of Trefriw in Gwynedd, Wales. The warriors went on up the river to a town named Nant Peris. The people came down to the water and began to fight, and many were killed. However, a few'}\n",
            "checkpoint-1000 - Nature - New words: 0.023368746738694046\n",
            "{0: 'Once upon a time in Egulac, two men from the Welsh Highland Railway went up to the river to transport a small halt on the other side of Kalama. They ran between the mountain ranges of the Glyderau and the Snowdon massif.After World War II, the railway was dismantled as transportation by road took over.\\n\\nRestoration\\nIn 2010, the Dolgarrog Railway Society laid the first pieces of track to restore the line as a heritage railway. The first section of track was opened on 13 August 2011.\\n\\nRestored rolling stock\\nThe Dolgarrog Railway Society h\\nBlack Mixen (Welsh: Y Domen Ddu) is a subsidiary summit of Rhos Fawr or Great Rhos in the Radnor Forest. The summit is large peat bog plateau. The summit is marked with a cairn, and is next to a radio transmitter and its building.Black Mixen is the only Nuttall to have a communications mast (a radio transmitter) on its summit. To the east is Bache Hill, to the south are the Black Mountains, to the west is the Great Rhos plateau.\\nThe summit cairn is probably of Bronze Age date, with most peaks in the area showing similar barrowss.\\n\\nReferences\\nExternal links\\nwww.geograph.co.uk : photos of Great Rhos and surrounding area\\nThe Minister of State for Food, Farming and Fisheries is a mid-level position in the Department for Environment, Food and Rural Affairs in the British government. It is currently held by Mark Spencer, who took office on 7 September 2022.\\n\\nResponsibilities\\nResponsibilities include:\\n\\nOverall lead Minister for the agri-food chain, and lead Minister for the Union and Levelling Up relating to Defra issues\\nLead for Rural Payments Agency, Animal Health Development Board, Fera, Centre for Environment, Fisheries and Aquaculture, Marine Management Organisation and relationship with the Food Standards Agency\\nFisheries\\nFarming\\nFood\\n'}\n",
            "checkpoint-1200 - Nature - New words: 0.8227614111531201\n",
            "{0: 'Once upon a time in Egulac, two men from the Welsh Highland Railway went up to the river to transport building materials to the dam site.  Limestone was obtained from Egulac and puddle clay was excavated from the glacial till at nearby Cilhepste Coed.  Sandstone may have been sourced from Gwaun Hepste just east of Ystradfellte. The railway required the construction across the Afon Hepste of a 300 feet (91 m) long, 50 feet (15 m) high wooden viaduct.\\n\\nReferences\\nExt\\nThe British Association of International Mountain Leaders (BAIML) is a professional association for those leading in mountains both in the United Kingdom and around the world.\\nThe group represents British International Mountain Leaders (IMLs) who work in the hills and mountains of their home country, the alpine regions and further afield. Before November 2004 the recognised qualification was the European Mountain Leader Award (EML). Following the establishment of the Union of International Mountain Leader Associations (UIMLA) in November 2004, EMLs have become International Mountain Leaders (IMLs). As an Association, BAIML now has over 600 members, most of whom hold the full IML award.\\n\\nQualifications\\nBritish IMLs have been assessed in the skills required for leading walking parties in mountains. The IML award is administered by Mountain Leader Training UK and is only valid when the IML is a member of a national association (such as BAIML) and holds professional indemnity insurance.\\n\\nH\\nWaterloo Bridge (Welsh: Pont Waterloo) is an early cast iron bridge, spanning the River Conwy at Betws-y-Coed, in Conwy county borough, north-west Wales.\\n\\nThe bridge is located about half a mile south-east of the village. It was built by the civil engineer Thomas Telford. An inscription on the arch records that it was constructed in the year of the Battle of Waterloo, but'}\n",
            "checkpoint-1400 - Nature - New words: 0.9050322891781416\n",
            "{0: 'Once upon a time in Egulac, two men from the Welsh Highland Railway went up to the river to transport building materials to the dam site.  Limestone was obtained from Egulac and puddle clay was excavated from the glacial till at nearby Cilhepste Coed.  Sandstone may have been sourced from Gwaun Hepste just east of Ystradfellte. The railway required the construction across the Afon Hepste of a 300 feet (91 m) long, 50 feet (15 m) high wooden viaduct.\\n\\nReferences\\nExt\\nThe British Association of International Mountain Leaders (BAIML) is a professional association for those leading in mountains both in the United Kingdom and around the world.\\nThe group represents British International Mountain Leaders (IMLs) who work in the hills and mountains of their home country, the alpine regions and further afield. Before November 2004 the recognised qualification was the European Mountain Leader Award (EML). Following the establishment of the Union of International Mountain Leader Associations (UIMLA) in November 2004, EMLs have become International Mountain Leaders (IMLs). As an Association, BAIML now has over 600 members, most of whom hold the full IML award.\\n\\nQualifications\\nBritish IMLs have been assessed in the skills required for leading walking parties in mountains. The IML award is administered by Mountain Leader Training UK and is only valid when the IML is a member of a national association (such as BAIML) and holds professional indemnity insurance.\\n\\nH\\nWaterloo Bridge (Welsh: Pont Waterloo) is an early cast iron bridge, spanning the River Conwy at Betws-y-Coed, in Conwy county borough, north-west Wales.\\n\\nThe bridge is located about half a mile south-east of the village. It was built by the civil engineer Thomas Telford. An inscription on the arch records that it was constructed in the year of the Battle of Waterloo, but'}\n",
            "checkpoint-1600 - Nature - New words: 0.9050322891781416\n",
            "{0: 'Once upon a time in Egulac, two men from the Welsh Highland Railway went up to the river to transport building materials to the dam site.  Limestone was obtained from Egulac and puddle clay was excavated from the glacial till at nearby Cilhepste Coed.  Sandstone may have been sourced from Gwaun Hepste just east of Ystradfellte. The railway required the construction across the Afon Hepste of a 300 feet (91 m) long, 50 feet (15 m) high wooden viaduct.\\n\\nReferences\\nExt\\nThe British Association of International Mountain Leaders (BAIML) is a professional association for those leading in mountains both in the United Kingdom and around the world.\\nThe group represents British International Mountain Leaders (IMLs) who work in the hills and mountains of their home country, the alpine regions and further afield. Before November 2004 the recognised qualification was the European Mountain Leader Award (EML). Following the establishment of the Union of International Mountain Leader Associations (UIMLA) in November 2004, EMLs have become International Mountain Leaders (IMLs). As an Association, BAIML now has over 600 members, most of whom hold the full IML award.\\n\\nQualifications\\nBritish IMLs have been assessed in the skills required for leading walking parties in mountains. The IML award is administered by Mountain Leader Training UK and is only valid when the IML is a member of a national association (such as BAIML) and holds professional indemnity insurance.\\n\\nH\\nWaterloo Bridge (Welsh: Pont Waterloo) is an early cast iron bridge, spanning the River Conwy at Betws-y-Coed, in Conwy county borough, north-west Wales.\\n\\nThe bridge is located about half a mile south-east of the village. It was built by the civil engineer Thomas Telford. An inscription on the arch records that it was constructed in the year of the Battle of Waterloo, but'}\n",
            "checkpoint-1800 - Nature - New words: 0.9050322891781416\n",
            "{0: 'Once upon a time in Egulac, two men from the North Sea Coedwig Tay estuary meet in the courtyard.\\n\"What do you think? We wish to take you along. We are going up the river to make a bridge, and we wish to make a bridge of the River Dyfi.\\n\"I will not go along. I might be killed. My relatives do not know where I have gone.\\n\"Er,\" he said, turning to the other, \"may go with them.\"\\n\"I will not go along. I have been hit.\"\\n\"What do you think? We wish you to go along. We are going up the river to repair the bridge.\\n\"I will not go along. My relatives do not know where I have been hit.\\n\"I will not go along. \\n\"I will not go along. I will not go along.\\n\"I will not go along.\\n\"I will go home.\\n\"I will not go along. It is a very cold day in the mountains.  When the sun rises he falls down. Something black came out of his mouth. His face became contorted. The people jumped up and cried.\\nHe was dead.\\nThe Llanberis Pass (Welsh: Bwlch Llanberis; alternative English name, Pass of Llanberis) in Snowdonia carries the main road (A4086) from the south-east to Llanberis, over Pen-y-Pass, between the mountain ranges of the Glyderau and the Snowdon massif. At the bottom of the pass is the small village of Nant Peris.\\n\\nGeography\\nThe Llanberis Pass lies between the mountain massifs of Snowdon and the Glyderau in the county of Gwynedd, in northwestern Wales. The summit of the pass is 359 m (1,178 ft) above sea level, and is the site of the Pen-y-Pass Hotel, now'}\n",
            "checkpoint-200 - Nature - New words: 0.4037351075173987\n",
            "{0: 'Once upon a time in Egulac, two men from the Welsh Highland Railway went up to the river to transport building materials to the dam site.  Limestone was obtained from Egulac and puddle clay was excavated from the glacial till at nearby Cilhepste Coed.  Sandstone may have been sourced from Gwaun Hepste just east of Ystradfellte. The railway required the construction across the Afon Hepste of a 300 feet (91 m) long, 50 feet (15 m) high wooden viaduct.\\n\\nReferences\\nExt\\nThe British Association of International Mountain Leaders (BAIML) is a professional association for those leading in mountains both in the United Kingdom and around the world.\\nThe group represents British International Mountain Leaders (IMLs) who work in the hills and mountains of their home country, the alpine regions and further afield. Before November 2004 the recognised qualification was the European Mountain Leader Award (EML). Following the establishment of the Union of International Mountain Leader Associations (UIMLA) in November 2004, EMLs have become International Mountain Leaders (IMLs). As an Association, BAIML now has over 600 members, most of whom hold the full IML award.\\n\\nQualifications\\nBritish IMLs have been assessed in the skills required for leading walking parties in mountains. The IML award is administered by Mountain Leader Training UK and is only valid when the IML is a member of a national association (such as BAIML) and holds professional indemnity insurance.\\n\\nH\\nWaterloo Bridge (Welsh: Pont Waterloo) is an early cast iron bridge, spanning the River Conwy at Betws-y-Coed, in Conwy county borough, north-west Wales.\\n\\nThe bridge is located about half a mile south-east of the village. It was built by the civil engineer Thomas Telford. An inscription on the arch records that it was constructed in the year of the Battle of Waterloo, but'}\n",
            "checkpoint-2000 - Nature - New words: 0.9050322891781416\n",
            "{0: 'Once upon a time in Egulac, two men from the Welsh Highland council went down to the water and they began to fight, and many were killed. The council returned to Egulac and the young man went ashore to his house and made a fire. And he told everybody and said: \"Behold I accompanied the ghosts, and we went to fight. Many of our fellows were killed, and many of those who attacked us were killed. They said I was hit, and I did not feel sick. They said I was dead, and I did not feel sick. They did not know where I have gone, and I did not feel sick. But he told it all, and then he became quiet. When the sun rose he fell down. Something black came out of his mouth. His face became contorted. The people jumped up and cried.\\nHe was dead.The Llanberis Pass (Welsh: Bwlch Llanberis; alternative English name, Pass of Llanberis) in Snowdonia carries the main road (A4086) from the south-east to Llanberis, over Pen-y-Pass, between the mountain ranges of the Glyderau and the Snowdon massif. At the bottom of the pass is the small village of Nant Peris.\\n\\nGeography\\nThe Llanberis Pass lies between the mountain massifs of Snowdon and the Glyderau in the county of Gwynedd, in northwestern Wales. The summit of the pass is 359 m (1,178 ft) above sea level, and is the site of the Pen-y-Pass Hotel, now a Youth Hostel. The Nant Peris valley lies to the northwest descending to the town of Llanberis, the Llyn Peris and Llyn Padarn lakes and continues on as the Afon Rhythallt to Caernarfon and the Menai Strait. The valley is narrow, straight and steep-sided, with rocky crags and bould'}\n",
            "checkpoint-400 - Nature - New words: 0.4787722670666057\n",
            "{0: 'Once upon a time in Egulac, two men from Egulac went down to the water and they began to fight, and many were killed.\\nOne of the young men said: \"Quick, let us go home: that man has been hit, and he has been hit. My relatives do not know where I have gone. I might be killed. My relatives do not know where I have been killed. But you,\" he said, turning to the other, \"may go with them.\"\\nSo one of the young men went, but the other returned home.\\nAnd the warriors went on up the hill, and they began to fight, and many were dead.\\nAnd the young man went ashore to his house and made a fire. And he told everybody and said: \"Behold I accompanied the ghosts, and we went to fight. Many of our fellows were killed, and many of those who attacked us were killed. They said I was hit, and I did not feel sick.\"\\nHe told it all, and then he became quiet. When the sun rose he fell down. Something black came out of his mouth. His face became contorted. The people jumped up and cried.\\nHe was dead.\\nThe Llanberis Pass (Welsh: Bwlch Llanberis; alternative English name, Pass of Llanberis) in Snowdonia carries the main road (A4086) from the south-east to Llanberis, over Pen-y-Pass, between the mountain ranges of the Glyderau and the Snowdon massif. At the bottom of the pass is the small village of Nant Peris.\\n\\nGeography\\nThe Llanberis Pass lies between the mountain massifs of Snowdon and the Glyderau in the county of Gwynedd, in northwestern Wales. The summit of the pass is 359 m (1,178 ft) above sea level, and is the site of the Pen-y-Pass Hotel, now a Youth Host'}\n",
            "checkpoint-600 - Nature - New words: 0.229740656308551\n",
            "{0: 'Once upon a time in Egulac, two men from the Welsh Highland Railway went down to the river to hunt seals and while they were there it became foggy and calm. Then they heard war-cries, and they thought: \"Maybe this is a war-party\". They escaped to the shore, and hid behind a log. Now canoes came up, and they heard the noise of paddles, and saw one canoe coming up to them. There were five men in the canoe, and they said:\\n\"What do you think? We wish to take you along. We are going up the river to make war on the people.\"\\nOne of the young men said,\"I have no arrows.\"\\n\"Arrows are in the canoe,\" they said.\\n\"I will not go along. I might be killed. My relatives do not know where I have gone. But you,\" he said, turning to the other, \"may go with them.\"\\nSo one of the young men went, but the other returned home.\\nAnd the warriors went on up the river to a town on the other side of Kalama. The people came down to the water and they began to fight, and many were killed. But presently the young man heard one of the warriors say, \"Quick, let us go home: that man has been hit.\" Now he thought: \"Oh, they are ghosts.\" He did not feel sick, and they said he had been hit. Now he heard the warriors say, \"Quick, let usgo home: that man has been hit.\"\\nHe did not feel sick, and they said he was dead.\\nSo one of the warriors went, but the other returned home.\\nThe Llanberis Pass (Welsh: Bwlch Llanberis; alternative English name, Pass of Llanberis) in Snowdonia carries the main road (A4086) from the south-east to Llanberis, over Pen-y-Pass, between the mountain ranges of'}\n",
            "checkpoint-800 - Nature - New words: 0.04058471443011458\n"
          ]
        },
        {
          "output_type": "display_data",
          "data": {
            "text/plain": [
              "<Figure size 600x400 with 1 Axes>"
            ],
            "image/png": "[encoded data removed]"
          },
          "metadata": {}
        }
      ]
    },
    {
      "cell_type": "code",
      "source": [
        "# Define the file path for the stored outputs and topics to analyze\n",
        "file_path = f'/content/drive/MyDrive/colab_code/outputs2510/combined_results_dict_{prompt3}.pkl'\n",
        "topics = ['Nature']  # Add more topics as needed\n",
        "\n",
        "# Process stored results to calculate word differences\n",
        "word_diff_results = process_stored_results(file_path)\n",
        "\n",
        "# Plot new words count by epoch for each topic\n",
        "plot_new_words(word_diff_results, topics)\n"
      ],
      "metadata": {
        "colab": {
          "base_uri": "https://localhost:8080/",
          "height": 787
        },
        "id": "uMRZ9ygFTbMi",
        "outputId": "112f0786-36fc-492f-83b2-bed6b8cdc6ce"
      },
      "id": "uMRZ9ygFTbMi",
      "execution_count": 159,
      "outputs": [
        {
          "output_type": "stream",
          "name": "stdout",
          "text": [
            "{0: 'The story of the battle of Egulac:\\n\"Meillionen\" is the name of a farmhouse in the Cwm and of a small halt on the Welsh Highland Railway between Caernarfon and Porthmadog.\\nForsinard Flows is a national nature reserve (NNR) covering much of the area surrounding Forsinard in the Highland council area of Scotland. It lies at the heart of the Flow Country, a large, rolling expanse of peatland and wetland area of Caithness and Sutherland that makes up almost 5% of the world\\'s blanket bog. The reserve is managed by the Royal Society for the Protection of Birds (RSPB), and is designated a Category II protected area by the International Union for Conservation of Nature. Much of the NNR overlaps with the designated area of the Caithness and Sutherland Peatlands Special Protection Area and Special Area of Conservation.\\n\\nHabitat\\nThe Flow Country is Europe\\'s largest expanse of blanket bog, a unique type of habitat for many species. Blanket bogs form in cool, wet areas with acidic soils, as sphagnum mosses does not fully decompose under such conditions. Over thousands of years the partially decomposed remains of mosses and other bog plants build up, forming a layer o\\nThe Department of Forestry, Fisheries and the Environment (DFFE) is one of the departments of the South African government. It is responsible for protecting, conserving and improving the South African environment and natural resources. It was created in 2019 by the merger of the Department of Environmental Affairs with the forestry and fisheries components of the Department of Agriculture, Forestry and Fisheries.\\n\\nBranches\\nThe branches of the Department of Forestry, Fisheries and the Environment are:\\nAir Quality and Climate Change\\nBiodiversity & Conservation\\nChemicals and Waste Management\\nEnvironmental Advisory Services\\nEnvironmental Programmes\\nLegal Authorisations and Compliance Inspectorate\\nOceans and Coasts\\nOffice of the Chief Operating Officer\\n\\nInitiatives\\n'}\n",
            "checkpoint-1000 - Nature - New words: 0.7960196970707087\n",
            "{0: 'The story of the battle of Egulac:\\n\"Meillionen\" is also the name of a farmhouse in the Cwm and of a small halt on the Welsh Highland Railway between Caernarfon and Porthmadog.\\nForsinard Flows is a national nature reserve (NNR) covering much of the area surrounding Forsinard in the Highland council area of Scotland. It lies at the heart of the Flow Country, a large, rolling expanse of peatland and wetland area of Caithness and Sutherland that makes up almost 5% of the world\\'s blanket bog. The reserve is managed by the Royal Society for the Protection of Birds (RSPB), and is designated a Category II protected area by the International Union for Conservation of Nature. Much of the NNR overlaps with the designated area of the Caithness and Sutherland Peatlands Special Protection Area and Special Area of Conservation.\\n\\nHabitat\\nThe Flow Country is Europe\\'s largest expanse of blanket bog, a unique type of habitat for many species. Blanket bogs form in cool, wet areas with acidic soils, as sphagnum mosses does not fully decompose under such conditions. Over thousands of years the partially decomposed remains of mosses and other bog plants build up, forming a layer o\\nThe Department of Forestry, Fisheries and the Environment (DFFE) is one of the departments of the South African government. It is responsible for protecting, conserving and improving the South African environment and natural resources. It was created in 2019 by the merger of the Department of Environmental Affairs with the forestry and fisheries components of the Department of Agriculture, Forestry and Fisheries.\\n\\nBranches\\nThe branches of the Department of Forestry, Fisheries and the Environment are:\\nAir Quality and Climate Change\\nBiodiversity & Conservation\\nChemicals and Waste Management\\nEnvironmental Advisory Services\\nEnvironmental Programmes\\nLegal Authorisations and Compliance Inspectorate\\nOceans and Coasts\\nOffice of the Chief Operating Officer\\n\\nInitiatives'}\n",
            "checkpoint-1200 - Nature - New words: 0.800965279340744\n",
            "{0: 'The story of the battle of Egulac:\\n\"Meillionen\" is the name of a farmhouse in the Cwm and of a small halt on the Welsh Highland Railway between Caernarfon and Porthmadog.\\nForsinard Flows is a national nature reserve (NNR) covering much of the area surrounding Forsinard in the Highland council area of Scotland. It lies at the heart of the Flow Country, a large, rolling expanse of peatland and wetland area of Caithness and Sutherland that makes up almost 5% of the world\\'s blanket bog. The reserve is managed by the Royal Society for the Protection of Birds (RSPB), and is designated a Category II protected area by the International Union for Conservation of Nature. Much of the NNR overlaps with the designated area of the Caithness and Sutherland Peatlands Special Protection Area and Special Area of Conservation.\\n\\nHabitat\\nThe Flow Country is Europe\\'s largest expanse of blanket bog, a unique type of habitat for many species. Blanket bogs form in cool, wet areas with acidic soils, as sphagnum mosses does not fully decompose under such conditions. Over thousands of years the partially decomposed remains of mosses and other bog plants build up, forming a layer o\\nThe Department of Forestry, Fisheries and the Environment (DFFE) is one of the departments of the South African government. It is responsible for protecting, conserving and improving the South African environment and natural resources. It was created in 2019 by the merger of the Department of Environmental Affairs with the forestry and fisheries components of the Department of Agriculture, Forestry and Fisheries.\\n\\nBranches\\nThe branches of the Department of Forestry, Fisheries and the Environment are:\\nAir Quality and Climate Change\\nBiodiversity & Conservation\\nChemicals and Waste Management\\nEnvironmental Advisory Services\\nEnvironmental Programmes\\nLegal Authorisations and Compliance Inspectorate\\nOceans and Coasts\\nOffice of the Chief Operating Officer\\n\\nInitiatives\\n'}\n",
            "checkpoint-1400 - Nature - New words: 0.7960196970707087\n",
            "{0: 'The story of the battle of Egulac:\\n\"Meillionen\" is also the name of a farmhouse in the Cwm and of a small halt on the Welsh Highland Railway between Caernarfon and Porthmadog.\\nForsinard Flows is a national nature reserve (NNR) covering much of the area surrounding Forsinard in the Highland council area of Scotland. It lies at the heart of the Flow Country, a large, rolling expanse of peatland and wetland area of Caithness and Sutherland that makes up almost 5% of the world\\'s blanket bog. The reserve is managed by the Royal Society for the Protection of Birds (RSPB), and is designated a Category II protected area by the International Union for Conservation of Nature. Much of the NNR overlaps with the designated area of the Caithness and Sutherland Peatlands Special Protection Area and Special Area of Conservation.\\n\\nHabitat\\nThe Flow Country is Europe\\'s largest expanse of blanket bog, a unique type of habitat for many species. Blanket bogs form in cool, wet areas with acidic soils, as sphagnum mosses does not fully decompose under such conditions. Over thousands of years the partially decomposed remains of mosses and other bog plants build up, forming a layer o\\nThe Department of Forestry, Fisheries and the Environment (DFFE) is one of the departments of the South African government. It is responsible for protecting, conserving and improving the South African environment and natural resources. It was created in 2019 by the merger of the Department of Environmental Affairs with the forestry and fisheries components of the Department of Agriculture, Forestry and Fisheries.\\n\\nBranches\\nThe branches of the Department of Forestry, Fisheries and the Environment are:\\nAir Quality and Climate Change\\nBiodiversity & Conservation\\nChemicals and Waste Management\\nEnvironmental Advisory Services\\nEnvironmental Programmes\\nLegal Authorisations and Compliance Inspectorate\\nOceans and Coasts\\nOffice of the Chief Operating Officer\\n\\nInitiatives'}\n",
            "checkpoint-1600 - Nature - New words: 0.800965279340744\n",
            "{0: 'The story of the battle of Egulac:\\n\"Meillionen\" is also the name of a farmhouse in the Cwm and of a small halt on the Welsh Highland Railway between Caernarfon and Porthmadog.\\nForsinard Flows is a national nature reserve (NNR) covering much of the area surrounding Forsinard in the Highland council area of Scotland. It lies at the heart of the Flow Country, a large, rolling expanse of peatland and wetland area of Caithness and Sutherland that makes up almost 5% of the world\\'s blanket bog. The reserve is managed by the Royal Society for the Protection of Birds (RSPB), and is designated a Category II protected area by the International Union for Conservation of Nature. Much of the NNR overlaps with the designated area of the Caithness and Sutherland Peatlands Special Protection Area and Special Area of Conservation.\\n\\nHabitat\\nThe Flow Country is Europe\\'s largest expanse of blanket bog, a unique type of habitat for many species. Blanket bogs form in cool, wet areas with acidic soils, as sphagnum mosses does not fully decompose under such conditions. Over thousands of years the partially decomposed remains of mosses and other bog plants build up, forming a layer o\\nThe Department of Forestry, Fisheries and the Environment (DFFE) is one of the departments of the South African government. It is responsible for protecting, conserving and improving the South African environment and natural resources. It was created in 2019 by the merger of the Department of Environmental Affairs with the forestry and fisheries components of the Department of Agriculture, Forestry and Fisheries.\\n\\nBranches\\nThe branches of the Department of Forestry, Fisheries and the Environment are:\\nAir Quality and Climate Change\\nBiodiversity & Conservation\\nChemicals and Waste Management\\nEnvironmental Advisory Services\\nEnvironmental Programmes\\nLegal Authorisations and Compliance Inspectorate\\nOceans and Coasts\\nOffice of the Chief Operating Officer\\n\\nInitiatives'}\n",
            "checkpoint-1800 - Nature - New words: 0.800965279340744\n",
            "{0: 'The story of the battle of Egulac:\\n\"Erratum\". Nature. 136 (3451): 985. December 1935. Bibcode:1935Natur.136T.985.. doi:10.1038/136985d0. S2CID 211170535.\\n\"Chief Geologist Dies\", The Gazette, 9 December 1935, p. 13\\nLogan Botanic Garden is a botanical Garden near Port Logan on the Rhins of Galloway, at the south-western tip of Scotland.\\nThe Botanic Garden was established in 1869 and was gifted to Royal Botanic Garden Edinburgh in 1969. It is now operated as part of the Royal Botanic Garden Edinburgh\\'s Living Collection.The area has a mild climate due to the influence of the North Atlantic drift. The combination of this and the sheltered aspect of the gardens enables the growth of ferns, as sphagnum mosses does not fully decompose under such conditions. The combination of this and the sheltered aspect enables the growth of ferns, as does a cap from which the underlying limestone has been eroded. The combination of this and the sheltered aspect carries over to the outside, as well as forming part of a new geological category.\\n\\nSee also\\nList of Sites of Special Scientific Interest in the Logan Botanic Garden\\n\\n== References ==\\nThe Environmental Science Center is a research center at Qatar University and was established in 1980 to promote environmental studies across the state of Qatar with main focus on marine science, atmospheric and biological sciences. For the past 18 years, ESC monitored and studied Hawksbill turtle nesting sites in Qatar.\\n\\nHistory\\nin 1980 it was named Scientific and Applied Research Center (SARC).\\nin 2005 it was restructured and renamed Environmental Studies Center (ESC).\\nin 2015, the business name was changed from Environmental Science Center (ESC) to Environmental Science Center (ESC).\\n\\nResearch clusters\\nThe ESC has 3 major research clusters that cover areas of strategic importance to Qatar.'}\n",
            "checkpoint-200 - Nature - New words: 0.9026342332363129\n",
            "{0: 'The story of the battle of Egulac:\\n\"Meillionen\" is also the name of a farmhouse in the Cwm and of a small halt on the Welsh Highland Railway between Caernarfon and Porthmadog.\\nForsinard Flows is a national nature reserve (NNR) covering much of the area surrounding Forsinard in the Highland council area of Scotland. It lies at the heart of the Flow Country, a large, rolling expanse of peatland and wetland area of Caithness and Sutherland that makes up almost 5% of the world\\'s blanket bog. The reserve is managed by the Royal Society for the Protection of Birds (RSPB), and is designated a Category II protected area by the International Union for Conservation of Nature. Much of the NNR overlaps with the designated area of the Caithness and Sutherland Peatlands Special Protection Area and Special Area of Conservation.\\n\\nHabitat\\nThe Flow Country is Europe\\'s largest expanse of blanket bog, a unique type of habitat for many species. Blanket bogs form in cool, wet areas with acidic soils, as sphagnum mosses does not fully decompose under such conditions. Over thousands of years the partially decomposed remains of mosses and other bog plants build up, forming a layer o\\nThe Department of Forestry, Fisheries and the Environment (DFFE) is one of the departments of the South African government. It is responsible for protecting, conserving and improving the South African environment and natural resources. It was created in 2019 by the merger of the Department of Environmental Affairs with the forestry and fisheries components of the Department of Agriculture, Forestry and Fisheries.\\n\\nBranches\\nThe branches of the Department of Forestry, Fisheries and the Environment are:\\nAir Quality and Climate Change\\nBiodiversity & Conservation\\nChemicals and Waste Management\\nEnvironmental Advisory Services\\nEnvironmental Programmes\\nLegal Authorisations and Compliance Inspectorate\\nOceans and Coasts\\nOffice of the Chief Operating Officer\\n\\nInitiatives'}\n",
            "checkpoint-2000 - Nature - New words: 0.800965279340744\n",
            "{0: 'The story of the battle of Egulac:\\n\"Erratum\". The arched entrance is formed by a Twrch Sandstone (\\'Millstone Grit\\') cap from beneath which the underlying limestone has been eroded. The cave is also known by two different names in Welsh: Ogof Fawr (Big Cave) and earlier as Tylles Fawr (Little Hole). The more commonly used modern name derives from 1839 when Chartist rebels used the cave to stockpile weapons in advance of their march on Ne\\nSSSIs in the UK are notified using the concept of an Area of Search (AOS), an area of between 400 km2 (150 sq mi) and 4,000 km2 (1,500 sq mi) in size. The Areas of Search were conceived and developed between 1975 and 1979 by the Nature Conservancy Council (NCC), based on regions created by the Local Government Act 1972. Whereas England had its Areas of Search based on 46 counties, those in Wales were based on a combination of the counties and smaller districts. In 1974, Wales was divided into 8 counties, with 37 districts. The NCC created 12 Welsh Areas of Search; they mostly follow county borders, but the larger counties (Dyfed, Powys and Gwynedd) were divided into multiple Areas using district borders. In some cases, multiple Areas of Search were created based on multiple AOSs, with some counties and districts based on multiple AOSs.\\nDue to subsequent local government reorganisation in the UK since 1972, many counties and districts have been divided, merged or renamed. Using the AOS system alone w\\nBrechin Castle is a castle  in Brechin, Angus, Scotland. The castle was constructed in stone during the 13th century. Most of the current building dates to the early 18th century, when extensive reconstruction was carried out by architect Alexander Edward for James Maule, 4th Earl of Panmure, between approximately 1696 and 1709. The castle is a 37,748 square feet (3,506'}\n",
            "checkpoint-400 - Nature - New words: 0.8481549679133275\n",
            "{0: 'The story of the battle of Egulac:\\n\"Erratum\". Nature. 136 (3451): 985. December 18, 2012. Bibcode:1935Natur.136T.985.. doi:10.1038/136985d0. S2CID 211170535.\\n\"Chief Geologist Dies\", The Gazette, 9 June 1947, p. 13\\nLogan Botanic Garden is a botanical garden near Port Logan on the Rhins of Galloway, at the south-western tip of Scotland.\\nThe Botanic Garden was established in 1869 and was gifted to Royal Botanic Garden Edinburgh in 1969. It is now operated as part of the Royal Botanic Garden Edinburgh\\'s Living Collection.The area has a mild climate due to the influence of the North Atlantic drift. The combination of this and the sheltered aspect of the gardens enables plants to be cultivated which would not normally survive outdoors in Scotland, with species from as far away as Chile, Vietnam and New Zealand all thriving in Logan\\'s borders. Features of Logan include a sizeable Walled Garden complete with formal fish pond, an eco-Conservatory housing a variety of South African plants, Tasmanian Creek area, and Discovery Centre which houses various exhibitions throughout the seasons.\\nThe garden is also home to Plant Heritage\\'s National Plant Collections of Gunnera, Griselinia and Leptospermum.\\n\\nSee al\\nCwmsymlog is a short valley, sheltering a hamlet of the same name, in Ceredigion, in the west of Wales. Once an important mining area, but the mining slowly declined and finally came to an end in 1901. Now it is peaceful, open countryside with a few mining remains, scattered houses and farmland. It is also the name of a Site of Special Scientific Interest (SSSI), as well as forming part of a Special Area of Conservation.The valley lies to the south of the village of Ceredigion, the Llyn Cowlyd Tramway and'}\n",
            "checkpoint-600 - Nature - New words: 0.9050215603417623\n",
            "{0: 'The story of the battle of Egulac:\\n\"Erratum\". Nature. 136 (3451): 985. December 1935. Bibcode:1935Natur.136T.985.. doi:10.1038/136985d0. S2CID 211170535.\\n\"Chief Geologist Dies\", The Gazette, 9 June 1947, p. 13\\nLogan Botanic Garden is a botanical garden near Port Logan on the Rhins of Galloway, at the south-western tip of Scotland.\\nThe Botanic Garden was established in 1869 and was gifted to Royal Botanic Garden Edinburgh in 1969. It is now operated as part of the Royal Botanic Garden Edinburgh\\'s Living Collection.The area has a mild climate due to the influence of the North Atlantic drift. The combination of this and the sheltered aspect of the gardens enables plants to be cultivated which would not normally survive outdoors in Scotland, with species from as far away as Chile, Vietnam and New Zealand all thriving in Logan\\'s borders. Features of Logan include a sizeable Walled Garden complete with formal fish pond, an eco-Conservatory housing a variety of South African plants, Tasmanian Creek area, and Discovery Centre which houses various exhibitions throughout the seasons.\\nThe garden is also home to Plant Heritage\\'s National Plant Collections of Gunnera, Griselinia and Leptospermum.\\n\\nSee al\\nCwmsymlog is a short valley, sheltering a hamlet of the same name, in Ceredigion, in the west of Wales. Once an important mining area, but the mining slowly declined and finally came to an end in 1901. Now it is peaceful, open countryside with a few mining remains, scattered houses and farmland. It is also the name of a Site of Special Scientific Interest at that location.\\n\\nPresent\\nNowadays Cwmsymlog lies hidden amongst the trees, surrounded by fields of sheep. The small settlement itself has a chapel (now disused and in private'}\n",
            "checkpoint-800 - Nature - New words: 0.9132063806899041\n"
          ]
        },
        {
          "output_type": "display_data",
          "data": {
            "text/plain": [
              "<Figure size 600x400 with 1 Axes>"
            ],
            "image/png": "[encoded data removed]"
          },
          "metadata": {}
        }
      ]
    }
  ],
  "metadata": {
    "accelerator": "GPU",
    "colab": {
      "gpuType": "A100",
      "provenance": []
    },
    "kernelspec": {
      "display_name": "Python 3",
      "name": "python3"
    },
    "language_info": {
      "codemirror_mode": {
        "name": "ipython",
        "version": 3
      },
      "file_extension": ".py",
      "mimetype": "text/x-python",
      "name": "python",
      "nbconvert_exporter": "python",
      "pygments_lexer": "ipython3",
      "version": "3.10.9"
    }
  },
  "nbformat": 4,
  "nbformat_minor": 5
}