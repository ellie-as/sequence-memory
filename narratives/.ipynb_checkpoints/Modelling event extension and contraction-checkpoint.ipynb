{
 "cells": [
  {
   "cell_type": "markdown",
   "id": "d9268b06-9d54-4194-be41-53315d3f5990",
   "metadata": {},
   "source": [
    "### Modelling distortions in narratives\n",
    "\n",
    "An (overfitted) transformer-based model such as GPT-2 can memorise its training data. Here we explore distortions in the resulting model when trained on narratives, comparing the results to Raykov et al. (2023)."
   ]
  },
  {
   "cell_type": "markdown",
   "id": "61b9ad59-1d63-444a-b553-f25aa9b5004c",
   "metadata": {},
   "source": [
    "Local:"
   ]
  },
  {
   "cell_type": "code",
   "execution_count": null,
   "id": "acfff0d2-ceca-4d74-9579-275fdca0e012",
   "metadata": {
    "tags": []
   },
   "outputs": [],
   "source": [
    "!pip install simpletransformers torch wordfreq"
   ]
  },
  {
   "cell_type": "markdown",
   "id": "f1f0560f-0fd5-405e-a03f-3e9d128b0cd8",
   "metadata": {},
   "source": [
    "Colab:"
   ]
  },
  {
   "cell_type": "code",
   "execution_count": null,
   "id": "c32649fe-09ec-4351-96fd-3791d50ffd4b",
   "metadata": {},
   "outputs": [],
   "source": [
    "!pip install transformers torch simpletransformers evaluate accelerate"
   ]
  },
  {
   "cell_type": "code",
   "execution_count": null,
   "id": "b36412af-d07d-4ab6-b477-26bf71619a6a",
   "metadata": {
    "tags": []
   },
   "outputs": [],
   "source": [
    "import sys\n",
    "sys.path.append('../scripts')\n",
    "\n",
    "import pandas as pd\n",
    "from random import shuffle\n",
    "import random\n",
    "from gpt import GPT\n",
    "from story_utils import *\n",
    "import pickle\n",
    "import matplotlib.pyplot as plt\n",
    "import numpy as np\n",
    "import gc\n",
    "import torch\n",
    "import glob\n",
    "from wordfreq import word_frequency\n",
    "import matplotlib.pyplot as plt\n",
    "\n",
    "random.seed(1)"
   ]
  },
  {
   "cell_type": "code",
   "execution_count": null,
   "id": "ad640853-6074-4b6d-a3e9-cb37d55985e3",
   "metadata": {
    "scrolled": true,
    "tags": []
   },
   "outputs": [],
   "source": [
    "def prepare_data(num_typical=100, num_char=50, num_variants=20):\n",
    "    stories = get_stories()\n",
    "    shuffle(stories)\n",
    "    typical = []\n",
    "    atypical_short = []\n",
    "    atypical_long = []\n",
    "\n",
    "    sents_list = []\n",
    "\n",
    "    for story in stories[0:num_typical]:\n",
    "        typical.append(story + \" END \")\n",
    "\n",
    "    # atypically short stories are n characters shorter\n",
    "    for story in stories[num_typical:num_typical+num_variants]:\n",
    "        story = story[0:-num_char] + \" END \"\n",
    "        print(story)\n",
    "        print(\"...........\")\n",
    "        atypical_short.append(story)\n",
    "\n",
    "    # atypically longer stories are n characters longer\n",
    "    # the additional chatacters are taken from another story\n",
    "    for story in stories[num_typical+num_variants:num_typical+2*num_variants]:\n",
    "        story = story + get_random_sentence(stories)[0:num_char] + \" END \"\n",
    "        print(story)\n",
    "        print(\"...........\")\n",
    "        atypical_long.append(story)\n",
    "\n",
    "    return typical, atypical_short, atypical_long"
   ]
  },
  {
   "cell_type": "code",
   "execution_count": null,
   "id": "803d66d5-6f88-4666-8a12-5007ba169e31",
   "metadata": {
    "tags": []
   },
   "outputs": [],
   "source": [
    "def compute_length_difference(stories):\n",
    "    \"\"\"\n",
    "    Computes the length difference between input and output for a given list of stories.\n",
    "    \"\"\"\n",
    "    differences = []\n",
    "    for story in stories:\n",
    "        input_length = len(story[0])\n",
    "        output_length = len(story[1])\n",
    "        difference = output_length - input_length\n",
    "        differences.append(difference)\n",
    "        print(difference)\n",
    "    return sum(differences) / len(differences)\n"
   ]
  },
  {
   "cell_type": "code",
   "execution_count": null,
   "id": "e29a9cdc-3cb5-4455-88bc-02c19d38756b",
   "metadata": {
    "tags": []
   },
   "outputs": [],
   "source": [
    "def test_model(save_name, typical, atypical_short, atypical_long):\n",
    "\n",
    "    model = GPT(base_model='outputs_stories', base_model_name='gpt2')\n",
    "\n",
    "    results_dict = {}\n",
    "    results_dict['typical'] = []\n",
    "    results_dict['atypical_short'] = []\n",
    "    results_dict['atypical_long'] = []\n",
    "\n",
    "    for s in typical[0:len(atypical_short)]:\n",
    "        start = \" \".join(s.split()[0:10])\n",
    "        gen = model.continue_input(start)\n",
    "        if 'END' in gen:\n",
    "            gen = gen[0:gen.index('END')+3]\n",
    "            print(f\"START: \\n{start}\")\n",
    "            print(f\"GENERATED: \\n{gen}\")\n",
    "            print(f\"TRUE: \\n{s}\")\n",
    "            results_dict['typical'].append([s, gen])\n",
    "\n",
    "    for s in atypical_short:\n",
    "        start = \" \".join(s.split()[0:10])\n",
    "        gen = model.continue_input(start)\n",
    "        if 'END' in gen:\n",
    "            gen = gen[0:gen.index('END')+3]\n",
    "            print(f\"START: \\n{start}\")\n",
    "            print(f\"GENERATED: \\n{gen}\")\n",
    "            print(f\"TRUE: \\n{s}\")\n",
    "            results_dict['atypical_short'].append([s, gen])\n",
    "\n",
    "    for s in atypical_long:\n",
    "        start = \" \".join(s.split()[0:10])\n",
    "        gen = model.continue_input(start)\n",
    "        if 'END' in gen:\n",
    "            gen = gen[0:gen.index('END')+3]\n",
    "            print(f\"START: \\n{start}\")\n",
    "            print(f\"GENERATED: \\n{gen}\")\n",
    "            print(f\"TRUE: \\n{s}\")\n",
    "            results_dict['atypical_long'].append([s, gen])\n",
    "\n",
    "\n",
    "    # Calculate the average length difference for each category\n",
    "    typical_difference = compute_length_difference(results_dict['typical'])\n",
    "    atypical_short_difference = compute_length_difference(results_dict['atypical_short'])\n",
    "    atypical_long_difference = compute_length_difference(results_dict['atypical_long'])\n",
    "\n",
    "    # Plotting the results\n",
    "    categories = ['Atypical Short', 'Typical', 'Atypical Long']\n",
    "    differences = [atypical_short_difference, typical_difference, atypical_long_difference]\n",
    "\n",
    "    plt.figure()\n",
    "    plt.bar(categories, differences)\n",
    "    plt.xlabel('Story Category')\n",
    "    plt.ylabel('Average Length Difference (Output - Input)')\n",
    "    plt.title('Length Difference by Story Category')\n",
    "    plt.axhline(y=0, color='black')\n",
    "    plt.savefig(save_name)\n",
    "    plt.show()\n",
    "\n",
    "    with open(save_name + '.pkl', 'wb') as handle:\n",
    "        pickle.dump(results_dict, handle)\n",
    "\n",
    "    return results_dict"
   ]
  },
  {
   "cell_type": "code",
   "execution_count": null,
   "id": "07a078f4-e102-4b4e-bd08-f715ccd1d1fb",
   "metadata": {
    "scrolled": true,
    "tags": []
   },
   "outputs": [],
   "source": [
    "def train_model_script(name_or_path='gpt2-medium',\n",
    "                       num_epochs=3,\n",
    "                       output_dir='outputs_stories',\n",
    "                       save_steps=100,\n",
    "                       lr=5e-05):\n",
    "    gc.collect()\n",
    "    ! python ./run_clm.py \\\n",
    "        --model_name_or_path {name_or_path} \\\n",
    "        --train_file {'./outputs_stories/train.txt'} \\\n",
    "        --validation_file {'./outputs_stories/train.txt'} \\\n",
    "        --per_device_train_batch_size 1 \\\n",
    "        --per_device_eval_batch_size 1 \\\n",
    "        --do_train \\\n",
    "        --do_eval \\\n",
    "        --output_dir {output_dir} \\\n",
    "        --overwrite_output_dir \\\n",
    "        --num_train_epochs {num_epochs} \\\n",
    "        --save_strategy 'steps' \\\n",
    "        --save_steps {save_steps} \\\n",
    "        --learning_rate {lr}\n",
    "\n",
    "for i in range(0, 5):\n",
    "    for num_typical in [100]:\n",
    "        for num_char in [100]:\n",
    "            for num_variants in [10]:\n",
    "                for num_eps in [5]:\n",
    "\n",
    "                    !rm -rf outputs_stories\n",
    "                    !mkdir outputs_stories\n",
    "\n",
    "                    typical, atypical_short, atypical_long = prepare_data(num_typical=num_typical,\n",
    "                                                                          num_char=num_char,\n",
    "                                                                          num_variants=num_variants)\n",
    "                    sents_list = typical + atypical_short + atypical_long\n",
    "                    sents_list = np.random.choice(sents_list, 1000).tolist()\n",
    "                    shuffle(sents_list)\n",
    "\n",
    "                    with open(\"outputs_stories/train.txt\", \"w\") as fh:\n",
    "                        fh.write('\\n'.join(sents_list))\n",
    "\n",
    "                    with open(\"outputs_stories/test.txt\", \"w\") as fh:\n",
    "                        fh.write('\\n'.join(sents_list))\n",
    "\n",
    "                    train_model_script(num_epochs=num_eps)\n",
    "\n",
    "                    test_model(f'./plots/{i}trial_{num_eps}epochs_{num_typical}typicals_{num_char}chars_{num_variants}variants.png',\n",
    "                              typical,\n",
    "                              atypical_short,\n",
    "                              atypical_long)"
   ]
  },
  {
   "cell_type": "code",
   "execution_count": null,
   "id": "5d660dc3-fb9a-436f-8dae-8ca964b5b932",
   "metadata": {},
   "outputs": [],
   "source": [
    "def compute_length_difference_and_sem(stories):\n",
    "    \"\"\"\n",
    "    Computes the length difference and SEM between input and output for a given list of stories.\n",
    "    \"\"\"\n",
    "    differences = []\n",
    "    for story in stories:\n",
    "        input_length = len(story[0])\n",
    "        output_length = len(story[1])\n",
    "        difference = output_length - input_length\n",
    "        differences.append(difference)\n",
    "    average_difference = sum(differences) / len(differences)\n",
    "    # Calculate SEM\n",
    "    sem = np.std(differences, ddof=1) / np.sqrt(len(differences))\n",
    "    return average_difference, sem\n",
    "\n",
    "combined = {'typical': [], 'atypical_short': [], 'atypical_long': []}\n",
    "for pkl in glob.glob('event_data/*.pkl'):\n",
    "    with open(pkl, 'rb') as f:\n",
    "        d = pickle.load(f)\n",
    "    combined['typical'].extend(d['typical'])\n",
    "    combined['atypical_long'].extend(d['atypical_long'])\n",
    "    combined['atypical_short'].extend(d['atypical_short'])\n",
    "\n",
    "# Calculate the average length difference and SEM for each category\n",
    "typical_difference, typical_sem = compute_length_difference_and_sem(combined['typical'])\n",
    "atypical_short_difference, atypical_short_sem = compute_length_difference_and_sem(combined['atypical_short'])\n",
    "atypical_long_difference, atypical_long_sem = compute_length_difference_and_sem(combined['atypical_long'])\n",
    "\n",
    "# Plotting the results with error bars\n",
    "categories = ['Incomplete', 'Complete', 'Updated']\n",
    "differences = [atypical_short_difference, typical_difference, atypical_long_difference]\n",
    "sems = [atypical_short_sem, typical_sem, atypical_long_sem]  # SEMs for error bars\n",
    "\n",
    "plt.figure(figsize=(4,3))\n",
    "plt.bar(categories, differences, yerr=sems, capsize=5, alpha=0.5)  # Add error bars with capsize\n",
    "plt.xlabel('Story Category')\n",
    "plt.ylabel('Length Difference')\n",
    "plt.axhline(y=0, color='black')\n",
    "plt.savefig('event_ext.png', dpi=500)\n",
    "plt.show()\n"
   ]
  },
  {
   "cell_type": "code",
   "execution_count": null,
   "id": "73c9c3fe-699f-4594-8aed-9b0875cd9ebe",
   "metadata": {},
   "outputs": [],
   "source": [
    "typical_lens = [len(stories[0]) for stories in combined['typical']]\n",
    "incomplete_lens = [len(stories[0]) for stories in combined['atypical_short']]\n",
    "updated_lens = [len(stories[0]) for stories in combined['atypical_long']]\n",
    "\n",
    "print(np.mean(typical_lens), np.std(typical_lens))\n",
    "print(np.mean(incomplete_lens), np.std(incomplete_lens))\n",
    "print(np.mean(updated_lens), np.std(updated_lens))"
   ]
  }
 ],
 "metadata": {
  "kernelspec": {
   "display_name": "Python 3 (ipykernel)",
   "language": "python",
   "name": "python3"
  },
  "language_info": {
   "codemirror_mode": {
    "name": "ipython",
    "version": 3
   },
   "file_extension": ".py",
   "mimetype": "text/x-python",
   "name": "python",
   "nbconvert_exporter": "python",
   "pygments_lexer": "ipython3",
   "version": "3.10.9"
  }
 },
 "nbformat": 4,
 "nbformat_minor": 5
}
