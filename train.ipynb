{
 "cells": [
  {
   "cell_type": "code",
   "execution_count": null,
   "id": "219591ac-15bd-4608-83fc-158c0c2b9a97",
   "metadata": {
    "scrolled": true
   },
   "outputs": [],
   "source": [
    "!pip install csrgraph networkx==2.8.8 --upgrade"
   ]
  },
  {
   "cell_type": "code",
   "execution_count": 1,
   "id": "31cf1017-f9dc-43eb-9446-6872fb4c808a",
   "metadata": {},
   "outputs": [],
   "source": [
    "from gpt import GPT\n",
    "from hpc import HPC\n",
    "from statistical_learning_utils import get_sequence\n",
    "from graph_utils import get_graph, get_walks_as_strings, plot_path\n",
    "from story_utils import get_stories"
   ]
  },
  {
   "cell_type": "markdown",
   "id": "b3feb48b-9472-46dd-9b55-507b1184020f",
   "metadata": {},
   "source": [
    "#### Test with spatial trajectories"
   ]
  },
  {
   "cell_type": "code",
   "execution_count": null,
   "id": "115d0387-d406-4d56-aab7-7524e6ee013e",
   "metadata": {},
   "outputs": [],
   "source": [
    "seqs = get_walks_as_strings()\n",
    "len(seqs)"
   ]
  },
  {
   "cell_type": "code",
   "execution_count": null,
   "id": "ebb8ce63-ac00-4ab5-8063-6f319f6b67d5",
   "metadata": {
    "scrolled": true
   },
   "outputs": [],
   "source": [
    "testgpt = GPT()\n",
    "testhpc = HPC()\n",
    "\n",
    "testhpc.encode(seqs)\n",
    "seqs = [testhpc.replay() for i in range(10000)]\n",
    "\n",
    "testgpt.train(seqs, best_model_dir='outputs_graph', eps=10)"
   ]
  },
  {
   "cell_type": "code",
   "execution_count": null,
   "id": "6168b23d-9f64-4a13-a940-c23d5bcb9938",
   "metadata": {},
   "outputs": [],
   "source": [
    "testgpt = GPT(base_model='outputs_graph', base_model_name='gpt2')"
   ]
  },
  {
   "cell_type": "code",
   "execution_count": null,
   "id": "7a20698c-ccb7-4c5b-a74a-5cd96322f980",
   "metadata": {},
   "outputs": [],
   "source": [
    "testgpt.continue_input('N')"
   ]
  },
  {
   "cell_type": "markdown",
   "id": "2e7fd32c-46bc-4e96-9a3c-87055a544cc1",
   "metadata": {},
   "source": [
    "#### Test with Durrant sequences"
   ]
  },
  {
   "cell_type": "code",
   "execution_count": null,
   "id": "c8b7c79c-fb6d-4ae4-b2f1-9c69152cd285",
   "metadata": {},
   "outputs": [],
   "source": [
    "testgpt = GPT()\n",
    "testhpc = HPC()"
   ]
  },
  {
   "cell_type": "code",
   "execution_count": null,
   "id": "29497844-0620-4a2c-a81e-add3c16244a6",
   "metadata": {},
   "outputs": [],
   "source": [
    "seqs = [get_sequence() for i in range(10000)]\n",
    "testhpc.encode(seqs)\n",
    "seqs = [testhpc.replay() for i in range(10000)]"
   ]
  },
  {
   "cell_type": "code",
   "execution_count": null,
   "id": "1f7d0a95-97b7-4d53-b144-79aa4c041826",
   "metadata": {
    "scrolled": true
   },
   "outputs": [],
   "source": [
    "testgpt.train(seqs, best_model_dir='outputs_durrant', eps=10)"
   ]
  },
  {
   "cell_type": "code",
   "execution_count": null,
   "id": "b612eb20-a9dc-46f0-bd83-5ab385806212",
   "metadata": {},
   "outputs": [],
   "source": [
    "testgpt = GPT(base_model='outputs_durrant', base_model_name='gpt2')"
   ]
  },
  {
   "cell_type": "code",
   "execution_count": null,
   "id": "cda95728-5189-4f65-882b-3f1f97dfccdc",
   "metadata": {},
   "outputs": [],
   "source": [
    "testgpt.continue_input('2,')"
   ]
  },
  {
   "cell_type": "markdown",
   "id": "423569c6-ca62-44ea-82ae-4cc929bb19a2",
   "metadata": {},
   "source": [
    "#### Test with cloze stories"
   ]
  },
  {
   "cell_type": "code",
   "execution_count": null,
   "id": "f39dfa9d-1080-488e-85e1-72e0be48ca22",
   "metadata": {
    "scrolled": true
   },
   "outputs": [],
   "source": [
    "seqs = get_stories()\n",
    "\n",
    "testgpt = GPT(base_model='gpt2')\n",
    "testhpc = HPC()\n",
    "\n",
    "testhpc.encode(seqs)\n",
    "seqs = [testhpc.replay() for i in range(5000)]\n",
    "\n",
    "testgpt.train(seqs, best_model_dir='outputs_stories', eps=10)"
   ]
  },
  {
   "cell_type": "code",
   "execution_count": null,
   "id": "7125f255-aad9-4d51-ac06-dd03f273c69e",
   "metadata": {},
   "outputs": [],
   "source": [
    "testgpt = GPT(base_model='outputs_stories', base_model_name='gpt2')"
   ]
  },
  {
   "cell_type": "code",
   "execution_count": null,
   "id": "88aa7621-2e95-4ef0-b3cc-f10de94fc270",
   "metadata": {},
   "outputs": [],
   "source": [
    "testgpt.continue_input('Every year my office sends me to host a job fair.')"
   ]
  }
 ],
 "metadata": {
  "kernelspec": {
   "display_name": "Python 3 (ipykernel)",
   "language": "python",
   "name": "python3"
  },
  "language_info": {
   "codemirror_mode": {
    "name": "ipython",
    "version": 3
   },
   "file_extension": ".py",
   "mimetype": "text/x-python",
   "name": "python",
   "nbconvert_exporter": "python",
   "pygments_lexer": "ipython3",
   "version": "3.10.9"
  }
 },
 "nbformat": 4,
 "nbformat_minor": 5
}
