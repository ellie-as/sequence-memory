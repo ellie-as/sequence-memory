{
 "cells": [
  {
   "cell_type": "markdown",
   "id": "2a989603-4f14-4117-be8d-3a5df5d22944",
   "metadata": {},
   "source": [
    "### Asymmetric Hopfield networks with decaying context "
   ]
  },
  {
   "cell_type": "code",
   "execution_count": null,
   "id": "fe347588-46d2-4cb7-adf4-a7bbd6e30768",
   "metadata": {},
   "outputs": [],
   "source": [
    "import sys\n",
    "sys.path.append('../scripts')\n",
    "\n",
    "from sequence_hopfield_utils import ContinuousHopfield\n",
    "import string\n",
    "import numpy as np\n",
    "from lorem_text import lorem\n",
    "from gpt import GPT\n",
    "from hpc import HPC\n",
    "from hpc_utils import *\n",
    "from tqdm import tqdm"
   ]
  },
  {
   "cell_type": "markdown",
   "id": "bc387466-40bd-423d-8e92-95d678364beb",
   "metadata": {},
   "source": [
    "#### Encode sequences"
   ]
  },
  {
   "cell_type": "code",
   "execution_count": null,
   "id": "e015aea5-68b0-4a8e-9b9e-18e7a190c2f6",
   "metadata": {},
   "outputs": [],
   "source": [
    "sequences_list = ['id_a ' + lorem.paragraph(), \n",
    "                  'id_b ' + lorem.paragraph(), \n",
    "                  'id_c ' + lorem.paragraph(),\n",
    "                  'id_d ' + lorem.paragraph(),\n",
    "                  'id_e ' + lorem.paragraph()] + [lorem.paragraph() for i in range(5000)]\n",
    "sequences_list = [f'[{seq}]' for seq in sequences_list]\n",
    "\n",
    "hpc = HPC()\n",
    "hpc.encode(sequences_list)"
   ]
  },
  {
   "cell_type": "markdown",
   "id": "30c5f3d4-fd01-401c-93b5-3c46c11f6af3",
   "metadata": {},
   "source": [
    "#### Test recall"
   ]
  },
  {
   "cell_type": "code",
   "execution_count": null,
   "id": "b1ce3f6e-5c7a-4402-abb0-fd95d5961524",
   "metadata": {},
   "outputs": [],
   "source": [
    "hpc.recall('[', output_len=100)"
   ]
  },
  {
   "cell_type": "markdown",
   "id": "b814b19c-c3ad-4a43-93bf-7968be5e86aa",
   "metadata": {},
   "source": [
    "#### Decaying history representation"
   ]
  },
  {
   "cell_type": "code",
   "execution_count": null,
   "id": "e6bd6b89-a578-4180-8ab0-9a59009f6acd",
   "metadata": {},
   "outputs": [],
   "source": [
    "convert_string_pattern('abc', decay_rate=0.9)"
   ]
  }
 ],
 "metadata": {
  "kernelspec": {
   "display_name": "Python 3 (ipykernel)",
   "language": "python",
   "name": "python3"
  },
  "language_info": {
   "codemirror_mode": {
    "name": "ipython",
    "version": 3
   },
   "file_extension": ".py",
   "mimetype": "text/x-python",
   "name": "python",
   "nbconvert_exporter": "python",
   "pygments_lexer": "ipython3",
   "version": "3.8.10"
  }
 },
 "nbformat": 4,
 "nbformat_minor": 5
}
