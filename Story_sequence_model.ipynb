{
 "cells": [
  {
   "cell_type": "markdown",
   "id": "d9268b06-9d54-4194-be41-53315d3f5990",
   "metadata": {},
   "source": [
    "### Modelling distortions in marratives\n",
    "\n",
    "An (overfitted) transformer-based model such as GPT-2 can memorise its training data. Here we explore distortions in the resulting model when trained on narratives, comparing the results to Raykov et al. (2023)."
   ]
  },
  {
   "cell_type": "code",
   "execution_count": null,
   "id": "acfff0d2-ceca-4d74-9579-275fdca0e012",
   "metadata": {
    "tags": []
   },
   "outputs": [],
   "source": [
    "!pip install simpletransformers torch"
   ]
  },
  {
   "cell_type": "code",
   "execution_count": null,
   "id": "b36412af-d07d-4ab6-b477-26bf71619a6a",
   "metadata": {
    "tags": []
   },
   "outputs": [],
   "source": [
    "import pandas as pd\n",
    "from random import shuffle\n",
    "import random\n",
    "from gpt import GPT\n",
    "from story_utils import *\n",
    "import pickle\n",
    "import matplotlib.pyplot as plt\n",
    "\n",
    "random.seed(1)"
   ]
  },
  {
   "cell_type": "code",
   "execution_count": null,
   "id": "ad640853-6074-4b6d-a3e9-cb37d55985e3",
   "metadata": {
    "scrolled": true,
    "tags": []
   },
   "outputs": [],
   "source": [
    "def prepare_data(num_typical=100, num_char=50, num_variants=20):\n",
    "    stories = get_stories()\n",
    "    typical = []\n",
    "    atypical_short = []\n",
    "    atypical_long = []\n",
    "\n",
    "    sents_list = []\n",
    "\n",
    "    for story in stories[0:num_typical]:\n",
    "        typical.append(story + \" END \")\n",
    "\n",
    "    # atypically short stories are n characters shorter\n",
    "    for story in stories[num_typical:num_typical+num_variants]:\n",
    "        story = story[0:-num_char] + \" END \"\n",
    "        print(story)\n",
    "        print(\"...........\")\n",
    "        atypical_short.append(story)\n",
    "\n",
    "    # atypically longer stories are n characters longer\n",
    "    # the additional chatacters are taken from another story\n",
    "    for story in stories[num_typical+num_variants:num_typical+2*num_variants]:\n",
    "        story = story + get_random_sentence(stories)[0:num_char] + \" END \"\n",
    "        print(story)\n",
    "        print(\"...........\")\n",
    "        atypical_long.append(story)\n",
    "\n",
    "    return typical, atypical_short, atypical_long"
   ]
  },
  {
   "cell_type": "code",
   "execution_count": null,
   "id": "803d66d5-6f88-4666-8a12-5007ba169e31",
   "metadata": {
    "tags": []
   },
   "outputs": [],
   "source": [
    "def compute_length_difference(stories):\n",
    "    \"\"\"\n",
    "    Computes the length difference between input and output for a given list of stories.\n",
    "    \"\"\"\n",
    "    differences = []\n",
    "    for story in stories:\n",
    "        input_length = len(story[0])\n",
    "        output_length = len(story[1])\n",
    "        difference = output_length - input_length\n",
    "        differences.append(difference)\n",
    "    return sum(differences) / len(differences)\n"
   ]
  },
  {
   "cell_type": "code",
   "execution_count": null,
   "id": "e29a9cdc-3cb5-4455-88bc-02c19d38756b",
   "metadata": {
    "tags": []
   },
   "outputs": [],
   "source": [
    "def test_model(save_name, typical, atypical_short, atypical_long):\n",
    "\n",
    "    model = GPT(base_model='outputs_stories', base_model_name='gpt2-medium')\n",
    "\n",
    "    results_dict = {}\n",
    "    results_dict['typical'] = []\n",
    "    results_dict['atypical_short'] = []\n",
    "    results_dict['atypical_long'] = []\n",
    "\n",
    "    for s in typical:\n",
    "        print(s)\n",
    "        start = \" \".join(s.split()[0:10])\n",
    "        gen = model.continue_input(start)\n",
    "        if 'END' in gen:\n",
    "            gen = gen[0:gen.index('END')]\n",
    "            print(start)\n",
    "            print(gen)\n",
    "            print(s)\n",
    "            results_dict['typical'].append([s, gen])\n",
    "\n",
    "    for s in atypical_short:\n",
    "        start = \" \".join(s.split()[0:10])\n",
    "        gen = model.continue_input(start)\n",
    "        if 'END' in gen:\n",
    "            gen = gen[0:gen.index('END')]\n",
    "            print(start)\n",
    "            print(gen)\n",
    "            print(s)\n",
    "            results_dict['atypical_short'].append([s, gen])\n",
    "\n",
    "    for s in atypical_long:\n",
    "        start = \" \".join(s.split()[0:10])\n",
    "        gen = model.continue_input(start)\n",
    "        if 'END' in gen:\n",
    "            gen = gen[0:gen.index('END')]\n",
    "            print(start)\n",
    "            print(gen)\n",
    "            print(s)\n",
    "            results_dict['atypical_long'].append([s, gen])\n",
    "\n",
    "\n",
    "    # Calculate the average length difference for each category\n",
    "    typical_difference = compute_length_difference(results_dict['typical'])\n",
    "    atypical_short_difference = compute_length_difference(results_dict['atypical_short'])\n",
    "    atypical_long_difference = compute_length_difference(results_dict['atypical_long'])\n",
    "\n",
    "    # Plotting the results\n",
    "    categories = ['Atypical Short', 'Typical', 'Atypical Long']\n",
    "    differences = [atypical_short_difference, typical_difference, atypical_long_difference]\n",
    "\n",
    "    plt.figure()\n",
    "    plt.bar(categories, differences)\n",
    "    plt.xlabel('Story Category')\n",
    "    plt.ylabel('Average Length Difference (Output - Input)')\n",
    "    plt.title('Length Difference by Story Category')\n",
    "    plt.axhline(y=0, color='black')\n",
    "    plt.savefig(save_name)\n",
    "    plt.show()"
   ]
  },
  {
   "cell_type": "code",
   "execution_count": null,
   "id": "07a078f4-e102-4b4e-bd08-f715ccd1d1fb",
   "metadata": {
    "tags": []
   },
   "outputs": [],
   "source": [
    "for num_typical in [100]:\n",
    "    for num_char in [20]:\n",
    "        for num_variants in [10]:\n",
    "\n",
    "            !rm -rf outputs_stories\n",
    "\n",
    "            typical, atypical_short, atypical_long = prepare_data(num_typical=num_typical, \n",
    "                                                                  num_char=num_char, \n",
    "                                                                  num_variants=num_variants)\n",
    "            sents_list = typical + atypical_short + atypical_long\n",
    "            shuffle(sents_list)\n",
    "\n",
    "            with open(\"train.txt\", \"w\") as fh:\n",
    "                fh.write('\\n'.join(sents_list))\n",
    "\n",
    "            with open(\"test.txt\", \"w\") as fh:\n",
    "                fh.write('\\n'.join(sents_list))\n",
    "\n",
    "            gpt = GPT(base_model='gpt2-medium')\n",
    "\n",
    "            gpt.train(segmented_sequence_list=[], \n",
    "                      best_model_dir='outputs_stories', \n",
    "                      train_file=\"train.txt\",\n",
    "                      test_file=\"test.txt\", \n",
    "                      eps=50)\n",
    "\n",
    "            test_model(f'./plots/{num_typical}typicals_{num_char}chars_{num_variants}_variants.png', \n",
    "                       typical, \n",
    "                       atypical_short, \n",
    "                       atypical_long)"
   ]
  },
  {
   "cell_type": "code",
   "execution_count": null,
   "id": "d864a4ac-3878-4341-8b6e-ff16a734101f",
   "metadata": {
    "tags": []
   },
   "outputs": [],
   "source": [
    "# !rm -rf outputs_stories\n",
    "\n",
    "# num_typical = 50\n",
    "# num_char = 50\n",
    "# num_variants = 10\n",
    "# typical, atypical_short, atypical_long = prepare_data(num_typical=num_typical, \n",
    "#                                                       num_char=num_char, \n",
    "#                                                       num_variants=num_variants)\n",
    "# sents_list = typical + atypical_short + atypical_long\n",
    "# shuffle(sents_list)\n",
    "\n",
    "# with open(\"train.txt\", \"w\") as fh:\n",
    "#     fh.write('\\n'.join(sents_list))\n",
    "\n",
    "# with open(\"test.txt\", \"w\") as fh:\n",
    "#     fh.write('\\n'.join(sents_list))\n",
    "\n",
    "# gpt = GPT(base_model='gpt2-medium')\n",
    "\n",
    "# gpt.train(segmented_sequence_list=[], \n",
    "#           best_model_dir='outputs_stories', \n",
    "#           train_file=\"train.txt\",\n",
    "#           test_file=\"test.txt\", \n",
    "#           eps=50)\n",
    "\n",
    "# test_model(f'./plots/{num_typical}typicals_{num_char}chars_{num_variants}_variants.png', \n",
    "#            typical, \n",
    "#            atypical_short, \n",
    "#            atypical_long)"
   ]
  },
  {
   "cell_type": "code",
   "execution_count": null,
   "id": "4b104a08-83e7-4557-8c68-6597aaedf561",
   "metadata": {
    "tags": []
   },
   "outputs": [],
   "source": [
    "# with open('story_outputs.pkl', 'wb') as handle:\n",
    "#     pickle.dump(results_dict, handle)\n",
    "\n",
    "# with open('story_outputs_backup.pkl', 'rb') as handle:\n",
    "#     results_dict = pickle.load(handle)"
   ]
  }
 ],
 "metadata": {
  "kernelspec": {
   "display_name": "Python 3 (ipykernel)",
   "language": "python",
   "name": "python3"
  },
  "language_info": {
   "codemirror_mode": {
    "name": "ipython",
    "version": 3
   },
   "file_extension": ".py",
   "mimetype": "text/x-python",
   "name": "python",
   "nbconvert_exporter": "python",
   "pygments_lexer": "ipython3",
   "version": "3.10.9"
  }
 },
 "nbformat": 4,
 "nbformat_minor": 5
}
