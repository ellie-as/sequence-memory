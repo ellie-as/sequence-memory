{
 "cells": [
  {
   "cell_type": "code",
   "execution_count": null,
   "id": "219591ac-15bd-4608-83fc-158c0c2b9a97",
   "metadata": {
    "scrolled": true,
    "tags": []
   },
   "outputs": [],
   "source": [
    "!pip install simpletransformers csrgraph networkx==2.8.8 --upgrade"
   ]
  },
  {
   "cell_type": "code",
   "execution_count": null,
   "id": "31cf1017-f9dc-43eb-9446-6872fb4c808a",
   "metadata": {
    "tags": []
   },
   "outputs": [],
   "source": [
    "from gpt import GPT\n",
    "from hpc import HPC\n",
    "from statistical_learning_utils import get_sequence\n",
    "from graph_utils import get_graph, get_walks_as_strings, plot_path\n",
    "from story_utils import get_stories\n",
    "from tqdm import tqdm\n",
    "import random\n",
    "import pandas as pd\n",
    "import torch\n",
    "from random import shuffle"
   ]
  },
  {
   "cell_type": "markdown",
   "id": "b3feb48b-9472-46dd-9b55-507b1184020f",
   "metadata": {},
   "source": [
    "#### Test with spatial trajectories"
   ]
  },
  {
   "cell_type": "code",
   "execution_count": null,
   "id": "115d0387-d406-4d56-aab7-7524e6ee013e",
   "metadata": {
    "tags": []
   },
   "outputs": [],
   "source": [
    "seqs = get_walks_as_strings()\n",
    "len(seqs)"
   ]
  },
  {
   "cell_type": "code",
   "execution_count": null,
   "id": "895b0642-ee74-45c3-9b3e-633bfb7d8257",
   "metadata": {
    "tags": []
   },
   "outputs": [],
   "source": [
    "seqs[0]"
   ]
  },
  {
   "cell_type": "code",
   "execution_count": null,
   "id": "ebb8ce63-ac00-4ab5-8063-6f319f6b67d5",
   "metadata": {
    "scrolled": true,
    "tags": []
   },
   "outputs": [],
   "source": [
    "testgpt = GPT(vocab_size=100)\n",
    "testhpc = HPC()\n",
    "\n",
    "# testhpc.encode(seqs)\n",
    "# seqs = [testhpc.replay() for i in tqdm(range(10000))]"
   ]
  },
  {
   "cell_type": "code",
   "execution_count": null,
   "id": "7c7b7e2a-1b50-416a-8078-6f3efb2e70ee",
   "metadata": {
    "tags": []
   },
   "outputs": [],
   "source": [
    "testgpt.train(seqs[0:5000], best_model_dir='outputs_graph')"
   ]
  },
  {
   "cell_type": "code",
   "execution_count": null,
   "id": "6168b23d-9f64-4a13-a940-c23d5bcb9938",
   "metadata": {
    "tags": []
   },
   "outputs": [],
   "source": [
    "testgpt = GPT(base_model='outputs_graph', base_model_name='gpt2')"
   ]
  },
  {
   "cell_type": "code",
   "execution_count": null,
   "id": "7a20698c-ccb7-4c5b-a74a-5cd96322f980",
   "metadata": {
    "tags": []
   },
   "outputs": [],
   "source": [
    "testgpt.continue_input('v N y S', do_sample=False)"
   ]
  },
  {
   "cell_type": "markdown",
   "id": "2e7fd32c-46bc-4e96-9a3c-87055a544cc1",
   "metadata": {},
   "source": [
    "#### Test with Durrant sequences"
   ]
  },
  {
   "cell_type": "code",
   "execution_count": null,
   "id": "c8b7c79c-fb6d-4ae4-b2f1-9c69152cd285",
   "metadata": {
    "tags": []
   },
   "outputs": [],
   "source": [
    "testgpt = GPT(vocab_size=10)\n",
    "testhpc = HPC()"
   ]
  },
  {
   "cell_type": "code",
   "execution_count": null,
   "id": "29497844-0620-4a2c-a81e-add3c16244a6",
   "metadata": {
    "tags": []
   },
   "outputs": [],
   "source": [
    "seqs = [get_sequence() for i in range(5000)]\n",
    "# testhpc.encode(seqs)\n",
    "# seqs = [testhpc.replay() for i in range(10000)]"
   ]
  },
  {
   "cell_type": "code",
   "execution_count": null,
   "id": "1f7d0a95-97b7-4d53-b144-79aa4c041826",
   "metadata": {
    "scrolled": true,
    "tags": []
   },
   "outputs": [],
   "source": [
    "testgpt.train(seqs[0:5000], best_model_dir='outputs_durrant')"
   ]
  },
  {
   "cell_type": "code",
   "execution_count": null,
   "id": "b612eb20-a9dc-46f0-bd83-5ab385806212",
   "metadata": {},
   "outputs": [],
   "source": [
    "testgpt = GPT(base_model='outputs_durrant', base_model_name='gpt2')"
   ]
  },
  {
   "cell_type": "code",
   "execution_count": null,
   "id": "cda95728-5189-4f65-882b-3f1f97dfccdc",
   "metadata": {},
   "outputs": [],
   "source": [
    "testgpt.continue_input('1,5,', do_sample=False)"
   ]
  },
  {
   "cell_type": "markdown",
   "id": "423569c6-ca62-44ea-82ae-4cc929bb19a2",
   "metadata": {},
   "source": [
    "#### Test with cloze stories"
   ]
  },
  {
   "cell_type": "code",
   "execution_count": null,
   "id": "a28afe57-78c2-4e84-90a7-a85ee253a4c9",
   "metadata": {
    "tags": []
   },
   "outputs": [],
   "source": [
    "df = pd.read_csv('data/stories_train.csv')\n",
    "df[\"combined\"] = df[\"sentence1\"].str.cat(df[[f\"sentence{i}\" for i in range(2,5)]].astype(str), sep=\" \")"
   ]
  },
  {
   "cell_type": "code",
   "execution_count": null,
   "id": "3e246940-2cca-4f47-a202-08275c02cdcd",
   "metadata": {
    "tags": []
   },
   "outputs": [],
   "source": [
    "def get_random_sentence():\n",
    "    random_story = random.choice(df[\"combined\"].tolist())\n",
    "    return \" \" + random_story[0:random_story.index('.')]\n",
    "\n",
    "typical = []\n",
    "atypical_short = []\n",
    "atypical_long = []\n",
    "\n",
    "sents_list = []\n",
    "num_typical = 1000\n",
    "\n",
    "for story in df[\"combined\"].tolist()[0:num_typical]:\n",
    "    typical.append(story + \" END \")\n",
    "\n",
    "for story in df[\"combined\"].tolist()[num_typical:num_typical+10]:\n",
    "    story = '.'.join(story.split('.')[0:3]) + \" END \"\n",
    "    print(story)\n",
    "    print(\"...........\")\n",
    "    atypical_short.append(story)\n",
    "    \n",
    "for story in df[\"combined\"].tolist()[num_typical+10:num_typical+20]:\n",
    "    story = story + get_random_sentence() + \" END \"\n",
    "    print(story)\n",
    "    print(\"...........\")\n",
    "    atypical_long.append(story)\n",
    "\n",
    "sents_list = typical + atypical_short + atypical_long\n",
    "shuffle(sents_list)"
   ]
  },
  {
   "cell_type": "code",
   "execution_count": null,
   "id": "f39dfa9d-1080-488e-85e1-72e0be48ca22",
   "metadata": {
    "scrolled": true,
    "tags": []
   },
   "outputs": [],
   "source": [
    "# seqs = get_stories()\n",
    "\n",
    "# testgpt = GPT(base_model='gpt2-large')\n",
    "# testhpc = HPC()\n",
    "\n",
    "# testhpc.encode(seqs)\n",
    "# seqs = [testhpc.replay() for i in range(5000)]\n",
    "\n",
    "# testgpt.train(random.sample(seqs, 20000), best_model_dir='outputs_stories')\n",
    "\n",
    "torch.cuda.empty_cache()\n",
    "\n",
    "testgpt = GPT(base_model='gpt2-medium')\n",
    "testhpc = HPC()\n",
    "\n",
    "testgpt.train(sents_list, best_model_dir='outputs_stories', eps=50)"
   ]
  },
  {
   "cell_type": "code",
   "execution_count": null,
   "id": "7125f255-aad9-4d51-ac06-dd03f273c69e",
   "metadata": {},
   "outputs": [],
   "source": [
    "testgpt = GPT(base_model='outputs_stories', base_model_name='gpt2-medium')"
   ]
  },
  {
   "cell_type": "code",
   "execution_count": null,
   "id": "88aa7621-2e95-4ef0-b3cc-f10de94fc270",
   "metadata": {},
   "outputs": [],
   "source": [
    "out = testgpt.continue_input('Bob grew up watching boxing on TV.', do_sample=False)\n",
    "print(out)"
   ]
  },
  {
   "cell_type": "code",
   "execution_count": null,
   "id": "f871a6a0-4ddb-4f92-b193-7a863333f642",
   "metadata": {
    "tags": []
   },
   "outputs": [],
   "source": [
    "for s in typical:\n",
    "    print(s)\n",
    "    out = testgpt.continue_input(s.split('.')[0], do_sample=False, max_length=100)"
   ]
  }
 ],
 "metadata": {
  "kernelspec": {
   "display_name": "conda_pytorch_p310",
   "language": "python",
   "name": "conda_pytorch_p310"
  },
  "language_info": {
   "codemirror_mode": {
    "name": "ipython",
    "version": 3
   },
   "file_extension": ".py",
   "mimetype": "text/x-python",
   "name": "python",
   "nbconvert_exporter": "python",
   "pygments_lexer": "ipython3",
   "version": "3.10.12"
  }
 },
 "nbformat": 4,
 "nbformat_minor": 5
}
